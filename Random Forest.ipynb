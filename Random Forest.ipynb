{
 "cells": [
  {
   "cell_type": "code",
   "execution_count": 1,
   "metadata": {},
   "outputs": [],
   "source": [
    "import pandas as pd\n",
    "import seaborn as sn\n",
    "import numpy as np\n",
    "import matplotlib.pyplot as plt\n",
    "\n",
    "from sklearn.metrics import precision_score\n",
    "from sklearn.metrics import recall_score\n",
    "from sklearn.metrics import confusion_matrix\n",
    "from sklearn.metrics import f1_score\n",
    "from sklearn.metrics import accuracy_score\n",
    "from sklearn.metrics import roc_curve, auc\n",
    "\n",
    "from sklearn.model_selection import GridSearchCV\n",
    "from sklearn.model_selection import cross_val_score\n",
    "from sklearn.model_selection import KFold\n",
    "\n",
    "from joblib import dump, load\n",
    "import pickle\n",
    "\n",
    "def Graph_Confusion_Matrix(CM, labels, title = 'Confusion Matrix'):\n",
    "    #np.fill_diagonal(CM,0)\n",
    "\n",
    "    plt.figure(figsize = (4,4))\n",
    "    sn.set(font_scale=1.4)#for label size\n",
    "    sn.heatmap(CM, annot=True,annot_kws={\"size\": 16},  fmt='.1f' # fmt='g'\n",
    "               ,xticklabels = labels\n",
    "               ,yticklabels = labels)# font size\n",
    "    plt.xlabel('Predicted')\n",
    "    plt.ylabel('True')\n",
    "    plt.title(title)\n",
    "    plt.show()\n",
    "\n",
    "\n",
    "def Normalisation(X):\n",
    "    #X = X.values\n",
    "    X_mean = X.mean(axis=0)\n",
    "    X_std = X.std(axis=0)\n",
    "    X_norm = (X - X_mean)/X_std\n",
    "    return(X_norm, X_mean, X_std)\n",
    "    \n",
    "def Max_Min_Norm(X):\n",
    "    #X = X.values\n",
    "    X_min = X.min(axis=0)\n",
    "    X_max = X.max(axis=0)\n",
    "    X_norm = (X-X_min)/(X_max-X_min)\n",
    "    return(X_norm, X_min, X_max)\n",
    "\n",
    "\n",
    "plt.style.use('bmh')"
   ]
  },
  {
   "cell_type": "code",
   "execution_count": 2,
   "metadata": {},
   "outputs": [
    {
     "name": "stderr",
     "output_type": "stream",
     "text": [
      "E:\\Anaconda\\envs\\ML\\lib\\site-packages\\sklearn\\base.py:306: UserWarning: Trying to unpickle estimator KMeans from version 0.20.3 when using version 0.21.2. This might lead to breaking code or invalid results. Use at your own risk.\n",
      "  UserWarning)\n"
     ]
    }
   ],
   "source": [
    "df = pd.read_csv(\"Data/Train_Data_Aft_FE.csv\")\n",
    "#df = pd.read_csv(\"Data/Train_Data_Aft_FE_ML_Age_Trial.csv\")\n",
    "df = df.set_index(\"URN\")\n",
    "K_mean = load('Parameter_Dictionary/k-means.joblib') \n",
    "\n",
    "#Load dictionary that has mean and std for k-means\n",
    "with open('Parameter_Dictionary/K_means_Dict.pickle', 'rb') as handle:\n",
    "    Para_Dict = pickle.load(handle)\n",
    "\n",
    "#df.drop([\"Mosaic Group Num\"],axis=1, inplace=True)\n"
   ]
  },
  {
   "cell_type": "markdown",
   "metadata": {},
   "source": [
    "## Need to add on the customer segments"
   ]
  },
  {
   "cell_type": "code",
   "execution_count": 3,
   "metadata": {},
   "outputs": [],
   "source": [
    "df_k_means = df[['Months Between DateCr and Last Ask',\n",
    "'AGE',\n",
    "#'Mosaic Group Num',\n",
    "'SEXC1',\n",
    "'TOWNC1',\n",
    "'OAC_GroupC1',\n",
    "'COG_TYPEC1',\n",
    "'Mosaic GroupC1',\n",
    "'Total_C1',\n",
    "'NUM_TRANS_LST_24',\n",
    "'DONATED_LST_24',\n",
    "'WRR_EMERG']].copy()\n",
    "\n",
    "df_k_means[\"Recency\"] = np.where((df_k_means['NUM_TRANS_LST_24']>0),1,0)\n",
    "\n",
    "X_k_means = (df_k_means.values - Para_Dict.get(\"K_mean_mean\"))/Para_Dict.get(\"K_mean_std\")"
   ]
  },
  {
   "cell_type": "code",
   "execution_count": 4,
   "metadata": {},
   "outputs": [],
   "source": [
    "df = pd.concat([df,pd.Series(K_mean.predict(X_k_means), index=df.index)],axis=1)\n",
    "df.rename(columns={0:\"Clusters\"}, inplace=True)"
   ]
  },
  {
   "cell_type": "markdown",
   "metadata": {},
   "source": [
    "df.drop(['Months Between DateCr and Last Ask',\n",
    "'AGE',\n",
    "'SEXC1',\n",
    "'TOWNC1',\n",
    "'OAC_GroupC1',\n",
    "'COG_TYPEC1',\n",
    "'Mosaic GroupC1',\n",
    "'Total_C1',\n",
    "'Total_C0',\n",
    "'NUM_TRANS_LST_24',\n",
    "'DONATED_LST_24'], axis=1, inplace=True)"
   ]
  },
  {
   "cell_type": "code",
   "execution_count": 5,
   "metadata": {},
   "outputs": [],
   "source": [
    "Num_DV_1 = len(df.loc[df[\"DV\"] == 1])\n",
    "\n",
    "df_final = pd.concat([df.loc[df[\"DV\"] == 1], df.loc[df[\"DV\"] == 0].sample(Num_DV_1, random_state=32)]).copy()\n",
    "df_final = df_final.sample(frac=1, random_state=53)#.reset_index(drop=True)"
   ]
  },
  {
   "cell_type": "markdown",
   "metadata": {},
   "source": [
    "Num_DV_0 = len(df.loc[df[\"DV\"] == 0])\n",
    "\n",
    "df_final = pd.concat([df.loc[df[\"DV\"] == 1].sample(Num_DV_0, replace=True), df.loc[df[\"DV\"] == 0]]).copy()\n",
    "df_final = df_final.sample(frac=1, random_state=53)#.reset_index(drop=True)"
   ]
  },
  {
   "cell_type": "code",
   "execution_count": 6,
   "metadata": {},
   "outputs": [
    {
     "name": "stdout",
     "output_type": "stream",
     "text": [
      "<class 'pandas.core.frame.DataFrame'>\n",
      "Int64Index: 19036 entries, 87358 to 28144\n",
      "Data columns (total 31 columns):\n",
      "DV                                    19036 non-null int64\n",
      "INCOME                                9518 non-null float64\n",
      "APPEAL_AVG_GIFT                       19036 non-null float64\n",
      "EMERG_AVG_GIFT                        19036 non-null float64\n",
      "EMAIL_FLAG                            19036 non-null int64\n",
      "NUM_ACTIVE_COG                        19036 non-null int64\n",
      "NUM_ATTRITED_COG                      19036 non-null int64\n",
      "NUM_DIFF_COG                          19036 non-null int64\n",
      "TOTAL_YEARLY_CHARGE                   19036 non-null float64\n",
      "TOTAL_NUM_MONTH_PAID                  19036 non-null int64\n",
      "DM_PREVIOUS_12_MONTHS                 19036 non-null int64\n",
      "NUM_TRANS_LST_24                      19036 non-null int64\n",
      "DONATED_LST_24                        19036 non-null float64\n",
      "Months Between DateCr and Last Ask    19036 non-null float64\n",
      "Mosaic Group Num                      19036 non-null float64\n",
      "AGE                                   19036 non-null float64\n",
      "SEX_Encoded                           19036 non-null int64\n",
      "TITLE_Encoded                         19036 non-null int64\n",
      "TOWN_Encoded                          19036 non-null int64\n",
      "OAC_Group_Encoded                     19036 non-null int64\n",
      "COG_TYPE_Encoded                      19036 non-null int64\n",
      "SEXC1                                 19036 non-null int64\n",
      "TITLEC1                               19036 non-null int64\n",
      "TOWNC1                                19036 non-null int64\n",
      "OAC_GroupC1                           19036 non-null int64\n",
      "Mosaic GroupC1                        19036 non-null int64\n",
      "COG_TYPEC1                            19036 non-null int64\n",
      "WRR_EMERG                             19036 non-null float64\n",
      "WRR_APP                               19036 non-null float64\n",
      "Total_C1                              19036 non-null float64\n",
      "Clusters                              19036 non-null int32\n",
      "dtypes: float64(11), int32(1), int64(19)\n",
      "memory usage: 4.6 MB\n"
     ]
    }
   ],
   "source": [
    "df_final.info()"
   ]
  },
  {
   "cell_type": "code",
   "execution_count": 7,
   "metadata": {},
   "outputs": [],
   "source": [
    "y = df_final[\"DV\"].copy()\n",
    "X = df_final.drop([\"DV\",\"INCOME\"],axis=1).copy()"
   ]
  },
  {
   "cell_type": "code",
   "execution_count": 8,
   "metadata": {},
   "outputs": [],
   "source": [
    "#from sklearn.ensemble import RandomForestRegressor\n",
    "from sklearn.ensemble import RandomForestClassifier"
   ]
  },
  {
   "cell_type": "markdown",
   "metadata": {},
   "source": [
    "tuned_parameters = [{'n_estimators': [128], \n",
    "                     'max_features': [2, 4, 6, 8, 10],\n",
    "                     'min_samples_leaf':[5,10,20,30,50,100]\n",
    "                    }]\n",
    "scores = ['precision', 'recall']\n",
    "\n",
    "clf = GridSearchCV(RandomForestClassifier(n_jobs=-1), tuned_parameters,   cv=5, scoring = 'accuracy', verbose= 5)\n",
    "clf.fit(X[Feature_Importance.head(17).index], y)\n",
    "print(clf.best_params_)"
   ]
  },
  {
   "cell_type": "code",
   "execution_count": 9,
   "metadata": {},
   "outputs": [
    {
     "data": {
      "text/plain": [
       "Index(['WRR_EMERG', 'NUM_TRANS_LST_24', 'WRR_APP', 'EMERG_AVG_GIFT', 'AGE',\n",
       "       'APPEAL_AVG_GIFT', 'TOWN_Encoded', 'DM_PREVIOUS_12_MONTHS',\n",
       "       'COG_TYPE_Encoded', 'Months Between DateCr and Last Ask',\n",
       "       'DONATED_LST_24', 'EMAIL_FLAG'],\n",
       "      dtype='object')"
      ]
     },
     "execution_count": 9,
     "metadata": {},
     "output_type": "execute_result"
    }
   ],
   "source": [
    "Feature_Importance = pd.read_csv(\"Data/Feature_Importance.csv\", index_col=0)\n",
    "Feature_Importance.head(12).index"
   ]
  },
  {
   "cell_type": "code",
   "execution_count": 10,
   "metadata": {
    "scrolled": true
   },
   "outputs": [
    {
     "name": "stdout",
     "output_type": "stream",
     "text": [
      "Kfold:  0\n",
      "Kfold:  1\n",
      "Kfold:  2\n",
      "Kfold:  3\n",
      "Kfold:  4\n",
      "Kfold:  5\n",
      "Kfold:  6\n",
      "Kfold:  7\n",
      "Kfold:  8\n",
      "Kfold:  9\n",
      "Avg Accuracy Train Set: 86.34925569399851\n",
      "Avg Accuracy Test Set: 79.45486891551157\n",
      "\n",
      "Avg Recall: 76.80513919018199\n",
      "Avg Precision: 81.12903912909559\n"
     ]
    }
   ],
   "source": [
    "#Best_Features = X.columns\n",
    "Best_Features = Feature_Importance.head(17).index\n",
    "\n",
    "Model = RandomForestClassifier(n_estimators = 128,\n",
    "                               max_features = 8, \n",
    "                               min_samples_leaf = 10,\n",
    "                               n_jobs=-1)\n",
    "\n",
    "Acc_Train = []\n",
    "Acc = []\n",
    "Recall = []\n",
    "Precision = []\n",
    "\n",
    "labels=[1,0]\n",
    "\n",
    "folds = KFold(n_splits=10, shuffle=False)#, random_state=42)\n",
    "\n",
    "for fold_, (trn_idx, val_idx) in enumerate(folds.split(X, y)):    \n",
    "    \n",
    "    print(\"Kfold: \",fold_)\n",
    "    \n",
    "    Model.fit(X.iloc[trn_idx][Best_Features], y.iloc[trn_idx])\n",
    "\n",
    "    y_pred_prob = Model.predict_proba(X.iloc[val_idx][Best_Features])[:,1]\n",
    "    \n",
    "    y_pred = y_pred_prob >= 0.5\n",
    "    \n",
    "    #CM )= confusion_matrix(y.iloc[val_idx].values, y_pred, labels)\n",
    "    #Graph_Confusion_Matrix(CM, labels)\n",
    "    \n",
    "    Y_actual = y.iloc[val_idx]\n",
    "    \n",
    "    Acc_Train.append(accuracy_score(y.iloc[trn_idx], Model.predict(X.iloc[trn_idx][Best_Features]))*100)\n",
    "    \n",
    "    Acc.append(accuracy_score(Y_actual, y_pred)*100)\n",
    "    Recall.append(recall_score(Y_actual, y_pred)*100)\n",
    "    Precision.append(precision_score(Y_actual, y_pred)*100)\n",
    "\n",
    "    #print(\"Accuary:\", accuracy_score(Y_actual, y_pred)*100)\n",
    "    #print(\"Recall:\", recall_score(Y_actual, y_pred)*100)\n",
    "    #print(\"Precision:\", precision_score(Y_actual, y_pred)*100)\n",
    "    \n",
    "    if fold_ == 0:\n",
    "        Outcome_df = pd.concat([df_final[[\"DV\",\"INCOME\"]].loc[X.iloc[val_idx].index], \n",
    "           pd.DataFrame(y_pred_prob, index=X.iloc[val_idx].index)],axis=1)\n",
    "    else:\n",
    "        Outcome_df = Outcome_df.append(pd.concat([df_final[[\"DV\",\"INCOME\"]].loc[X.iloc[val_idx].index], \n",
    "           pd.DataFrame(y_pred_prob, index=X.iloc[val_idx].index)],axis=1), sort=False)\n",
    "        \n",
    "Outcome_df.rename(index=str, columns={0:\"Score\"}, inplace=True)\n",
    "\n",
    "print(\"Avg Accuracy Train Set:\", np.mean(Acc_Train))\n",
    "print(\"Avg Accuracy Test Set:\",np.mean(Acc))\n",
    "print(\"\")\n",
    "print(\"Avg Recall:\",np.mean(Recall))\n",
    "print(\"Avg Precision:\",np.mean(Precision))\n",
    "\n",
    "#Outcome_df.to_csv(\"Model Outputs/Random_forest.csv\", index=True)"
   ]
  },
  {
   "cell_type": "markdown",
   "metadata": {},
   "source": [
    "##### We want to use feature gain and do a feed forward selection "
   ]
  },
  {
   "cell_type": "markdown",
   "metadata": {},
   "source": [
    "Train_Acc = []\n",
    "Test_Acc = []\n",
    "Test_Recall = []\n",
    "\n",
    "for i in range(1,30):\n",
    "\n",
    "    Best_Features = Feature_Importance.head(i).index\n",
    "\n",
    "\n",
    "    Model = RandomForestClassifier(n_estimators = 128,\n",
    "                                   #min_samples_leaf = 20,\n",
    "                                   n_jobs=-1)\n",
    "\n",
    "    Acc_Train = []\n",
    "    Acc = []\n",
    "    Recall = []\n",
    "    Precision = []\n",
    "\n",
    "    labels=[1,0]\n",
    "\n",
    "    folds = KFold(n_splits=5, shuffle=False)#, random_state=42)\n",
    "\n",
    "    for fold_, (trn_idx, val_idx) in enumerate(folds.split(X, y)):    \n",
    "\n",
    "        print(\"Kfold: \",fold_)\n",
    "\n",
    "        Model.fit(X.iloc[trn_idx][Best_Features], y.iloc[trn_idx])\n",
    "\n",
    "        y_pred_prob = Model.predict_proba(X.iloc[val_idx][Best_Features])[:,1]\n",
    "\n",
    "        y_pred = y_pred_prob >= 0.5\n",
    "\n",
    "        #CM )= confusion_matrix(y.iloc[val_idx].values, y_pred, labels)\n",
    "        #Graph_Confusion_Matrix(CM, labels)\n",
    "\n",
    "        Y_actual = y.iloc[val_idx]\n",
    "\n",
    "        Acc_Train.append(accuracy_score(y.iloc[trn_idx], Model.predict(X.iloc[trn_idx][Best_Features]))*100)\n",
    "\n",
    "        Acc.append(accuracy_score(Y_actual, y_pred)*100)\n",
    "        Recall.append(recall_score(Y_actual, y_pred)*100)\n",
    "        Precision.append(precision_score(Y_actual, y_pred)*100)\n",
    "        \n",
    "    Outcome_df.rename(index=str, columns={0:\"Score\"}, inplace=True)\n",
    "\n",
    "    print(\"Avg Accuracy Train Set:\", np.mean(Acc_Train))\n",
    "    print(\"Avg Accuracy Test Set:\",np.mean(Acc))\n",
    "    print(\"\")\n",
    "    print(\"Avg Recall:\",np.mean(Recall))\n",
    "    print(\"Avg Precision:\",np.mean(Precision))\n",
    "    \n",
    "    Train_Acc.append(np.mean(Acc_Train))\n",
    "    Test_Acc.append(np.mean(Acc))\n",
    "    Test_Recall.append(np.mean(Recall))\n",
    "\n",
    "    #Outcome_df.to_csv(\"Model Outputs/Random_forest.csv\", index=True)"
   ]
  },
  {
   "cell_type": "markdown",
   "metadata": {},
   "source": [
    "plt.plot(range(1,i+1), Train_Acc, linestyle='-', marker='o', color='b', label=\"Train Accuracy\")\n",
    "plt.plot(range(1,i+1), Test_Acc,  linestyle='-', marker='o', color='orange', label=\"Validation Accuracy\")\n",
    "#plt.plot(range(1,i), Test_Recall,  linestyle='-', marker='o', color='green', label=\"Test Recall\")\n",
    "plt.xticks(range(1,i+1,2))\n",
    "plt.title(\"Feature Selection\")\n",
    "plt.xlabel(\"Number of Features\")\n",
    "plt.ylabel(\"Accuracy\")\n",
    "plt.legend()\n",
    "plt.show()\n"
   ]
  },
  {
   "cell_type": "code",
   "execution_count": 11,
   "metadata": {},
   "outputs": [
    {
     "data": {
      "text/html": [
       "<div>\n",
       "<style scoped>\n",
       "    .dataframe tbody tr th:only-of-type {\n",
       "        vertical-align: middle;\n",
       "    }\n",
       "\n",
       "    .dataframe tbody tr th {\n",
       "        vertical-align: top;\n",
       "    }\n",
       "\n",
       "    .dataframe thead th {\n",
       "        text-align: right;\n",
       "    }\n",
       "</style>\n",
       "<table border=\"1\" class=\"dataframe\">\n",
       "  <thead>\n",
       "    <tr style=\"text-align: right;\">\n",
       "      <th></th>\n",
       "      <th>Gain</th>\n",
       "    </tr>\n",
       "  </thead>\n",
       "  <tbody>\n",
       "    <tr>\n",
       "      <th>WRR_EMERG</th>\n",
       "      <td>0.351050</td>\n",
       "    </tr>\n",
       "    <tr>\n",
       "      <th>NUM_TRANS_LST_24</th>\n",
       "      <td>0.161773</td>\n",
       "    </tr>\n",
       "    <tr>\n",
       "      <th>WRR_APP</th>\n",
       "      <td>0.087292</td>\n",
       "    </tr>\n",
       "    <tr>\n",
       "      <th>EMERG_AVG_GIFT</th>\n",
       "      <td>0.062910</td>\n",
       "    </tr>\n",
       "    <tr>\n",
       "      <th>AGE</th>\n",
       "      <td>0.054218</td>\n",
       "    </tr>\n",
       "    <tr>\n",
       "      <th>APPEAL_AVG_GIFT</th>\n",
       "      <td>0.050191</td>\n",
       "    </tr>\n",
       "    <tr>\n",
       "      <th>TOWN_Encoded</th>\n",
       "      <td>0.043340</td>\n",
       "    </tr>\n",
       "    <tr>\n",
       "      <th>DM_PREVIOUS_12_MONTHS</th>\n",
       "      <td>0.042778</td>\n",
       "    </tr>\n",
       "    <tr>\n",
       "      <th>COG_TYPE_Encoded</th>\n",
       "      <td>0.031073</td>\n",
       "    </tr>\n",
       "    <tr>\n",
       "      <th>Months Between DateCr and Last Ask</th>\n",
       "      <td>0.024793</td>\n",
       "    </tr>\n",
       "    <tr>\n",
       "      <th>DONATED_LST_24</th>\n",
       "      <td>0.021064</td>\n",
       "    </tr>\n",
       "    <tr>\n",
       "      <th>EMAIL_FLAG</th>\n",
       "      <td>0.014409</td>\n",
       "    </tr>\n",
       "    <tr>\n",
       "      <th>TOWNC1</th>\n",
       "      <td>0.009487</td>\n",
       "    </tr>\n",
       "    <tr>\n",
       "      <th>TOTAL_YEARLY_CHARGE</th>\n",
       "      <td>0.008563</td>\n",
       "    </tr>\n",
       "    <tr>\n",
       "      <th>Total_C1</th>\n",
       "      <td>0.008494</td>\n",
       "    </tr>\n",
       "    <tr>\n",
       "      <th>TOTAL_NUM_MONTH_PAID</th>\n",
       "      <td>0.007755</td>\n",
       "    </tr>\n",
       "    <tr>\n",
       "      <th>Clusters</th>\n",
       "      <td>0.006482</td>\n",
       "    </tr>\n",
       "  </tbody>\n",
       "</table>\n",
       "</div>"
      ],
      "text/plain": [
       "                                        Gain\n",
       "WRR_EMERG                           0.351050\n",
       "NUM_TRANS_LST_24                    0.161773\n",
       "WRR_APP                             0.087292\n",
       "EMERG_AVG_GIFT                      0.062910\n",
       "AGE                                 0.054218\n",
       "APPEAL_AVG_GIFT                     0.050191\n",
       "TOWN_Encoded                        0.043340\n",
       "DM_PREVIOUS_12_MONTHS               0.042778\n",
       "COG_TYPE_Encoded                    0.031073\n",
       "Months Between DateCr and Last Ask  0.024793\n",
       "DONATED_LST_24                      0.021064\n",
       "EMAIL_FLAG                          0.014409\n",
       "TOWNC1                              0.009487\n",
       "TOTAL_YEARLY_CHARGE                 0.008563\n",
       "Total_C1                            0.008494\n",
       "TOTAL_NUM_MONTH_PAID                0.007755\n",
       "Clusters                            0.006482"
      ]
     },
     "execution_count": 11,
     "metadata": {},
     "output_type": "execute_result"
    }
   ],
   "source": [
    "Feature_Importance.head(17)"
   ]
  },
  {
   "cell_type": "markdown",
   "metadata": {},
   "source": [
    "### How is the model performing?"
   ]
  },
  {
   "cell_type": "code",
   "execution_count": 12,
   "metadata": {},
   "outputs": [
    {
     "data": {
      "image/png": "[encoded data removed]",
      "text/plain": [
       "<Figure size 288x288 with 2 Axes>"
      ]
     },
     "metadata": {
      "needs_background": "light"
     },
     "output_type": "display_data"
    },
    {
     "name": "stdout",
     "output_type": "stream",
     "text": [
      "Accuracy: 78.69300273166631\n",
      "Recall: 84.94431603278\n",
      "Precision: 75.50429585356743\n"
     ]
    }
   ],
   "source": [
    "Boundry = 0.4\n",
    "\n",
    "CM = confusion_matrix(Outcome_df[\"DV\"], Outcome_df[\"Score\"]>=Boundry, labels)\n",
    "\n",
    "#Normalise so is a percentage\n",
    "CM = np.divide(CM,np.sum(CM, axis=1).reshape(2,-1)) * 100\n",
    "\n",
    "Graph_Confusion_Matrix(CM, labels, 'CM Decision Boundary: '+str(Boundry))\n",
    "\n",
    "print(\"Accuracy:\", accuracy_score(Outcome_df[\"DV\"], Outcome_df[\"Score\"]>Boundry)*100)\n",
    "print(\"Recall:\", recall_score(Outcome_df[\"DV\"], Outcome_df[\"Score\"]>Boundry)*100)\n",
    "print(\"Precision:\", precision_score(Outcome_df[\"DV\"], Outcome_df[\"Score\"]>Boundry)*100)"
   ]
  },
  {
   "cell_type": "code",
   "execution_count": 13,
   "metadata": {},
   "outputs": [],
   "source": [
    "fpr, tpr, _ = roc_curve(Outcome_df[\"DV\"], Outcome_df[\"Score\"])\n",
    "roc_auc = auc(fpr, tpr)"
   ]
  },
  {
   "cell_type": "code",
   "execution_count": 14,
   "metadata": {},
   "outputs": [
    {
     "data": {
      "image/png": "[encoded data removed]",
      "text/plain": [
       "<Figure size 720x432 with 1 Axes>"
      ]
     },
     "metadata": {},
     "output_type": "display_data"
    }
   ],
   "source": [
    "plt.figure(figsize=(10,6))\n",
    "lw = 2\n",
    "plt.plot(fpr, tpr, color='darkorange',\n",
    "         lw=lw, label='ROC curve (area = %0.2f)' % roc_auc)\n",
    "plt.plot([0, 1], [0, 1], color='navy', lw=lw, linestyle='--')\n",
    "plt.xlim([0.0, 1.0])\n",
    "plt.ylim([0.0, 1.05])\n",
    "plt.xlabel('False Positive Rate')\n",
    "plt.ylabel('True Positive Rate')\n",
    "plt.title('Receiver operating characteristic example')\n",
    "plt.legend(loc=\"lower right\")\n",
    "plt.show()"
   ]
  },
  {
   "cell_type": "code",
   "execution_count": 15,
   "metadata": {},
   "outputs": [],
   "source": [
    "Outcome_df[\"Score Band\"] = Outcome_df[\"Score\"].astype(str).str.slice(0,3)"
   ]
  },
  {
   "cell_type": "markdown",
   "metadata": {},
   "source": [
    "### I am now going to do the same to this dataset and add on the customer segments"
   ]
  },
  {
   "cell_type": "code",
   "execution_count": 16,
   "metadata": {},
   "outputs": [],
   "source": [
    "df_Val = pd.read_csv(\"Data/Test_Data_Val_Aft_FE.csv\")\n",
    "df_Val = df_Val.set_index(\"URN\")\n",
    "\n",
    "#df_Val.drop([\"Mosaic Group Num\"],axis=1, inplace=True)"
   ]
  },
  {
   "cell_type": "code",
   "execution_count": 17,
   "metadata": {},
   "outputs": [],
   "source": [
    "df_k_means_val = df_Val[['Months Between DateCr and Last Ask',\n",
    "'AGE',\n",
    "#'Mosaic Group Num',\n",
    "'SEXC1',\n",
    "'TOWNC1',\n",
    "'OAC_GroupC1',\n",
    "'COG_TYPEC1',\n",
    "'Mosaic GroupC1',\n",
    "'Total_C1',\n",
    "'NUM_TRANS_LST_24',\n",
    "'DONATED_LST_24',\n",
    "'WRR_EMERG']].copy()\n",
    "\n",
    "df_k_means_val[\"Recency\"] = np.where((df_k_means_val['NUM_TRANS_LST_24']>0),1,0)\n",
    "\n",
    "X_k_means_val = (df_k_means_val.values - Para_Dict.get(\"K_mean_mean\"))/Para_Dict.get(\"K_mean_std\")"
   ]
  },
  {
   "cell_type": "code",
   "execution_count": 18,
   "metadata": {},
   "outputs": [],
   "source": [
    "df_Val = pd.concat([df_Val,pd.Series(K_mean.predict(X_k_means_val), index=df_Val.index)],axis=1)\n",
    "df_Val.rename(columns={0:\"Clusters\"}, inplace=True)"
   ]
  },
  {
   "cell_type": "markdown",
   "metadata": {},
   "source": [
    "### We need to build the model on all of the data"
   ]
  },
  {
   "cell_type": "code",
   "execution_count": 19,
   "metadata": {},
   "outputs": [
    {
     "data": {
      "text/plain": [
       "RandomForestClassifier(bootstrap=True, class_weight=None, criterion='gini',\n",
       "                       max_depth=None, max_features=8, max_leaf_nodes=None,\n",
       "                       min_impurity_decrease=0.0, min_impurity_split=None,\n",
       "                       min_samples_leaf=10, min_samples_split=2,\n",
       "                       min_weight_fraction_leaf=0.0, n_estimators=128,\n",
       "                       n_jobs=-1, oob_score=False, random_state=None, verbose=0,\n",
       "                       warm_start=False)"
      ]
     },
     "execution_count": 19,
     "metadata": {},
     "output_type": "execute_result"
    }
   ],
   "source": [
    "Best_Features = Feature_Importance.head(17).index\n",
    "\n",
    "Model = RandomForestClassifier(n_estimators = 128,\n",
    "                               max_features = 8, \n",
    "                               min_samples_leaf = 10,\n",
    "                               n_jobs=-1)\n",
    "\n",
    "Model.fit(X[Best_Features], y)"
   ]
  },
  {
   "cell_type": "markdown",
   "metadata": {},
   "source": [
    "### Save model to disk"
   ]
  },
  {
   "cell_type": "code",
   "execution_count": 20,
   "metadata": {},
   "outputs": [
    {
     "data": {
      "text/plain": [
       "['Parameter_Dictionary/RF_Tree_128.joblib']"
      ]
     },
     "execution_count": 20,
     "metadata": {},
     "output_type": "execute_result"
    }
   ],
   "source": [
    "dump(Model, 'Parameter_Dictionary/RF_Tree_128.joblib') "
   ]
  },
  {
   "cell_type": "markdown",
   "metadata": {},
   "source": [
    "## Let check the net profit and response rate for the unbalanced dataset"
   ]
  },
  {
   "cell_type": "code",
   "execution_count": 21,
   "metadata": {},
   "outputs": [],
   "source": [
    "Results_Val = df_Val[[\"DV\", \"INCOME\"]].copy()\n",
    "Results_Val[\"Score\"] =  Model.predict_proba(df_Val.drop([\"DV\", \"INCOME\"],axis=1)[Best_Features].values)[:,1]\n",
    "Results_Val[\"Score Band\"] = Results_Val[\"Score\"].astype(str).str.slice(0,3)\n",
    "                                                                       \n",
    "#Results_Val.to_csv(\"Model Outputs/RF_UB_VAL.csv\", index=True)"
   ]
  },
  {
   "cell_type": "code",
   "execution_count": 22,
   "metadata": {},
   "outputs": [],
   "source": [
    "Results_Val_2 = Results_Val.groupby([\"Score Band\"])[\"INCOME\"].agg([\"count\", \"sum\", \"mean\",\"median\",\"std\" ,\"max\"])\n",
    "Results_Val_2 = pd.concat([Results_Val[\"Score Band\"].value_counts().sort_index(), Results_Val_2],axis=1).rename(index=str\n",
    "                                                                                                                 ,columns={\"count\":\"Donors\"\n",
    "                                                                                                                           ,\"Score Band\": \"Contacted Volume\"\n",
    "                                                                                                                           ,\"sum\": \"Total Value\"\n",
    "                                                                                                                           ,\"mean\": \"Mean Gift\"\n",
    "                                                                                                                           ,\"median\": \"Median Gift\"\n",
    "                                                                                                                           ,\"max\":\"Max Gift\"})\n",
    "\n"
   ]
  },
  {
   "cell_type": "code",
   "execution_count": 23,
   "metadata": {},
   "outputs": [
    {
     "data": {
      "text/html": [
       "<div>\n",
       "<style scoped>\n",
       "    .dataframe tbody tr th:only-of-type {\n",
       "        vertical-align: middle;\n",
       "    }\n",
       "\n",
       "    .dataframe tbody tr th {\n",
       "        vertical-align: top;\n",
       "    }\n",
       "\n",
       "    .dataframe thead th {\n",
       "        text-align: right;\n",
       "    }\n",
       "</style>\n",
       "<table border=\"1\" class=\"dataframe\">\n",
       "  <thead>\n",
       "    <tr style=\"text-align: right;\">\n",
       "      <th></th>\n",
       "      <th>Contacted Volume</th>\n",
       "      <th>Donors</th>\n",
       "      <th>Total Value</th>\n",
       "      <th>Mean Gift</th>\n",
       "      <th>Median Gift</th>\n",
       "      <th>std</th>\n",
       "      <th>Max Gift</th>\n",
       "      <th>Cost</th>\n",
       "      <th>Net Profit</th>\n",
       "      <th>RR</th>\n",
       "    </tr>\n",
       "    <tr>\n",
       "      <th>Score Band</th>\n",
       "      <th></th>\n",
       "      <th></th>\n",
       "      <th></th>\n",
       "      <th></th>\n",
       "      <th></th>\n",
       "      <th></th>\n",
       "      <th></th>\n",
       "      <th></th>\n",
       "      <th></th>\n",
       "      <th></th>\n",
       "    </tr>\n",
       "  </thead>\n",
       "  <tbody>\n",
       "    <tr>\n",
       "      <th>0.0</th>\n",
       "      <td>2309</td>\n",
       "      <td>19</td>\n",
       "      <td>505.00</td>\n",
       "      <td>26.578947</td>\n",
       "      <td>20.0</td>\n",
       "      <td>22.794531</td>\n",
       "      <td>100.0</td>\n",
       "      <td>5772.5</td>\n",
       "      <td>-5267.50</td>\n",
       "      <td>0.008229</td>\n",
       "    </tr>\n",
       "    <tr>\n",
       "      <th>0.1</th>\n",
       "      <td>2019</td>\n",
       "      <td>30</td>\n",
       "      <td>1122.00</td>\n",
       "      <td>37.400000</td>\n",
       "      <td>30.0</td>\n",
       "      <td>25.751599</td>\n",
       "      <td>100.0</td>\n",
       "      <td>5047.5</td>\n",
       "      <td>-3925.50</td>\n",
       "      <td>0.014859</td>\n",
       "    </tr>\n",
       "    <tr>\n",
       "      <th>0.2</th>\n",
       "      <td>2235</td>\n",
       "      <td>67</td>\n",
       "      <td>2641.00</td>\n",
       "      <td>39.417910</td>\n",
       "      <td>30.0</td>\n",
       "      <td>38.116309</td>\n",
       "      <td>200.0</td>\n",
       "      <td>5587.5</td>\n",
       "      <td>-2946.50</td>\n",
       "      <td>0.029978</td>\n",
       "    </tr>\n",
       "    <tr>\n",
       "      <th>0.3</th>\n",
       "      <td>1965</td>\n",
       "      <td>85</td>\n",
       "      <td>3924.81</td>\n",
       "      <td>46.174235</td>\n",
       "      <td>30.0</td>\n",
       "      <td>60.014496</td>\n",
       "      <td>500.0</td>\n",
       "      <td>4912.5</td>\n",
       "      <td>-987.69</td>\n",
       "      <td>0.043257</td>\n",
       "    </tr>\n",
       "    <tr>\n",
       "      <th>0.4</th>\n",
       "      <td>1550</td>\n",
       "      <td>103</td>\n",
       "      <td>5430.00</td>\n",
       "      <td>52.718447</td>\n",
       "      <td>30.0</td>\n",
       "      <td>103.537378</td>\n",
       "      <td>1000.0</td>\n",
       "      <td>3875.0</td>\n",
       "      <td>1555.00</td>\n",
       "      <td>0.066452</td>\n",
       "    </tr>\n",
       "    <tr>\n",
       "      <th>0.5</th>\n",
       "      <td>1087</td>\n",
       "      <td>108</td>\n",
       "      <td>5600.00</td>\n",
       "      <td>51.851852</td>\n",
       "      <td>30.0</td>\n",
       "      <td>101.807480</td>\n",
       "      <td>1000.0</td>\n",
       "      <td>2717.5</td>\n",
       "      <td>2882.50</td>\n",
       "      <td>0.099356</td>\n",
       "    </tr>\n",
       "    <tr>\n",
       "      <th>0.6</th>\n",
       "      <td>703</td>\n",
       "      <td>115</td>\n",
       "      <td>5834.00</td>\n",
       "      <td>50.730435</td>\n",
       "      <td>30.0</td>\n",
       "      <td>73.509556</td>\n",
       "      <td>500.0</td>\n",
       "      <td>1757.5</td>\n",
       "      <td>4076.50</td>\n",
       "      <td>0.163585</td>\n",
       "    </tr>\n",
       "    <tr>\n",
       "      <th>0.7</th>\n",
       "      <td>533</td>\n",
       "      <td>141</td>\n",
       "      <td>7368.00</td>\n",
       "      <td>52.255319</td>\n",
       "      <td>30.0</td>\n",
       "      <td>89.288169</td>\n",
       "      <td>1000.0</td>\n",
       "      <td>1332.5</td>\n",
       "      <td>6035.50</td>\n",
       "      <td>0.264540</td>\n",
       "    </tr>\n",
       "    <tr>\n",
       "      <th>0.8</th>\n",
       "      <td>469</td>\n",
       "      <td>185</td>\n",
       "      <td>10440.00</td>\n",
       "      <td>56.432432</td>\n",
       "      <td>30.0</td>\n",
       "      <td>72.331416</td>\n",
       "      <td>520.0</td>\n",
       "      <td>1172.5</td>\n",
       "      <td>9267.50</td>\n",
       "      <td>0.394456</td>\n",
       "    </tr>\n",
       "    <tr>\n",
       "      <th>0.9</th>\n",
       "      <td>590</td>\n",
       "      <td>405</td>\n",
       "      <td>19092.00</td>\n",
       "      <td>47.140741</td>\n",
       "      <td>30.0</td>\n",
       "      <td>53.942282</td>\n",
       "      <td>500.0</td>\n",
       "      <td>1475.0</td>\n",
       "      <td>17617.00</td>\n",
       "      <td>0.686441</td>\n",
       "    </tr>\n",
       "  </tbody>\n",
       "</table>\n",
       "</div>"
      ],
      "text/plain": [
       "            Contacted Volume  Donors  Total Value  Mean Gift  Median Gift  \\\n",
       "Score Band                                                                  \n",
       "0.0                     2309      19       505.00  26.578947         20.0   \n",
       "0.1                     2019      30      1122.00  37.400000         30.0   \n",
       "0.2                     2235      67      2641.00  39.417910         30.0   \n",
       "0.3                     1965      85      3924.81  46.174235         30.0   \n",
       "0.4                     1550     103      5430.00  52.718447         30.0   \n",
       "0.5                     1087     108      5600.00  51.851852         30.0   \n",
       "0.6                      703     115      5834.00  50.730435         30.0   \n",
       "0.7                      533     141      7368.00  52.255319         30.0   \n",
       "0.8                      469     185     10440.00  56.432432         30.0   \n",
       "0.9                      590     405     19092.00  47.140741         30.0   \n",
       "\n",
       "                   std  Max Gift    Cost  Net Profit        RR  \n",
       "Score Band                                                      \n",
       "0.0          22.794531     100.0  5772.5    -5267.50  0.008229  \n",
       "0.1          25.751599     100.0  5047.5    -3925.50  0.014859  \n",
       "0.2          38.116309     200.0  5587.5    -2946.50  0.029978  \n",
       "0.3          60.014496     500.0  4912.5     -987.69  0.043257  \n",
       "0.4         103.537378    1000.0  3875.0     1555.00  0.066452  \n",
       "0.5         101.807480    1000.0  2717.5     2882.50  0.099356  \n",
       "0.6          73.509556     500.0  1757.5     4076.50  0.163585  \n",
       "0.7          89.288169    1000.0  1332.5     6035.50  0.264540  \n",
       "0.8          72.331416     520.0  1172.5     9267.50  0.394456  \n",
       "0.9          53.942282     500.0  1475.0    17617.00  0.686441  "
      ]
     },
     "execution_count": 23,
     "metadata": {},
     "output_type": "execute_result"
    }
   ],
   "source": [
    "Results_Val_2[\"Cost\"]= Results_Val_2[\"Contacted Volume\"] * 2.50\n",
    "Results_Val_2[\"Net Profit\"] = Results_Val_2[\"Total Value\"] - Results_Val_2[\"Cost\"]\n",
    "Results_Val_2[\"RR\"] = (Results_Val_2[\"Donors\"]/Results_Val_2[\"Contacted Volume\"])\n",
    "Results_Val_2"
   ]
  }
 ],
 "metadata": {
  "kernelspec": {
   "display_name": "Python 3",
   "language": "python",
   "name": "python3"
  },
  "language_info": {
   "codemirror_mode": {
    "name": "ipython",
    "version": 3
   },
   "file_extension": ".py",
   "mimetype": "text/x-python",
   "name": "python",
   "nbconvert_exporter": "python",
   "pygments_lexer": "ipython3",
   "version": "3.7.3"
  }
 },
 "nbformat": 4,
 "nbformat_minor": 2
}
