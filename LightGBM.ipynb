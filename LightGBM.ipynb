{
 "cells": [
  {
   "cell_type": "code",
   "execution_count": 1,
   "metadata": {},
   "outputs": [],
   "source": [
    "import numpy as np # linear algebra\n",
    "import pandas as pd # data processing, CSV file I/O (e.g. pd.read_csv)\n",
    "import matplotlib.pyplot as plt\n",
    "import matplotlib\n",
    "import seaborn as sn\n",
    "\n",
    "from sklearn.model_selection import train_test_split\n",
    "from sklearn.model_selection import KFold\n",
    "\n",
    "from sklearn.metrics import confusion_matrix\n",
    "from sklearn.metrics import accuracy_score\n",
    "from sklearn.metrics import recall_score\n",
    "from sklearn.metrics import precision_score\n",
    "\n",
    "from sklearn.preprocessing import LabelEncoder\n",
    "\n",
    "import lightgbm as lgb\n",
    "\n",
    "from joblib import dump, load\n",
    "import pickle\n",
    "\n",
    "def Graph_Confusion_Matrix(CM, labels, title = 'Confusion Matrix'):\n",
    "    #np.fill_diagonal(CM,0)\n",
    "\n",
    "    plt.figure(figsize = (4,4))\n",
    "    sn.set(font_scale=1.4)#for label size\n",
    "    sn.heatmap(CM, annot=True,annot_kws={\"size\": 16},  fmt='.1f' # fmt='g'\n",
    "               ,xticklabels = labels\n",
    "               ,yticklabels = labels)# font size\n",
    "    plt.xlabel('Predicted')\n",
    "    plt.ylabel('True')\n",
    "    plt.title(title)\n",
    "    plt.show()\n",
    "\n",
    "\n",
    "plt.style.use('bmh')\n"
   ]
  },
  {
   "cell_type": "code",
   "execution_count": 2,
   "metadata": {},
   "outputs": [],
   "source": [
    "font = {'size'   : 10}\n",
    "matplotlib.rc('font', **font)\n",
    "#path = \"C:\\\\Users\\\\Jack\\\\OneDrive\\\\Uni Work\\\\Project\\\\Dashboard Trial.xlsx\"\n",
    "path = \"Data/Train_Data_Aft_FE.csv\"\n",
    "df = pd.read_csv(path)\n",
    "df = df.set_index(\"URN\")\n",
    "\n",
    "K_mean = load('Parameter_Dictionary/k-means.joblib') \n",
    "\n",
    "#Load dictionary that has mean and std for k-means\n",
    "with open('Parameter_Dictionary/K_means_Dict.pickle', 'rb') as handle:\n",
    "    Para_Dict = pickle.load(handle)\n"
   ]
  },
  {
   "cell_type": "markdown",
   "metadata": {},
   "source": [
    "## Need to add on the customer segments"
   ]
  },
  {
   "cell_type": "code",
   "execution_count": 3,
   "metadata": {},
   "outputs": [],
   "source": [
    "df_k_means = df[['Months Between DateCr and Last Ask',\n",
    "'AGE',\n",
    "#'Mosaic Group Num',\n",
    "'SEXC1',\n",
    "'TOWNC1',\n",
    "'OAC_GroupC1',\n",
    "'COG_TYPEC1',\n",
    "'Mosaic GroupC1',\n",
    "'Total_C1',\n",
    "'NUM_TRANS_LST_24',\n",
    "'DONATED_LST_24',\n",
    "'WRR_EMERG']].copy()\n",
    "\n",
    "df_k_means[\"Recency\"] = np.where((df_k_means['NUM_TRANS_LST_24']>0),1,0)\n",
    "\n",
    "X_k_means = (df_k_means.values - Para_Dict.get(\"K_mean_mean\"))/Para_Dict.get(\"K_mean_std\")"
   ]
  },
  {
   "cell_type": "code",
   "execution_count": 4,
   "metadata": {},
   "outputs": [],
   "source": [
    "df = pd.concat([df,pd.Series(K_mean.predict(X_k_means), index=df.index)],axis=1)\n",
    "df.rename(columns={0:\"Clusters\"}, inplace=True)"
   ]
  },
  {
   "cell_type": "code",
   "execution_count": 5,
   "metadata": {},
   "outputs": [
    {
     "data": {
      "text/html": [
       "<div>\n",
       "<style scoped>\n",
       "    .dataframe tbody tr th:only-of-type {\n",
       "        vertical-align: middle;\n",
       "    }\n",
       "\n",
       "    .dataframe tbody tr th {\n",
       "        vertical-align: top;\n",
       "    }\n",
       "\n",
       "    .dataframe thead th {\n",
       "        text-align: right;\n",
       "    }\n",
       "</style>\n",
       "<table border=\"1\" class=\"dataframe\">\n",
       "  <thead>\n",
       "    <tr style=\"text-align: right;\">\n",
       "      <th></th>\n",
       "      <th>DV</th>\n",
       "      <th>INCOME</th>\n",
       "      <th>APPEAL_AVG_GIFT</th>\n",
       "      <th>EMERG_AVG_GIFT</th>\n",
       "      <th>EMAIL_FLAG</th>\n",
       "      <th>NUM_ACTIVE_COG</th>\n",
       "      <th>NUM_ATTRITED_COG</th>\n",
       "      <th>NUM_DIFF_COG</th>\n",
       "      <th>TOTAL_YEARLY_CHARGE</th>\n",
       "      <th>TOTAL_NUM_MONTH_PAID</th>\n",
       "      <th>...</th>\n",
       "      <th>SEXC1</th>\n",
       "      <th>TITLEC1</th>\n",
       "      <th>TOWNC1</th>\n",
       "      <th>OAC_GroupC1</th>\n",
       "      <th>Mosaic GroupC1</th>\n",
       "      <th>COG_TYPEC1</th>\n",
       "      <th>WRR_EMERG</th>\n",
       "      <th>WRR_APP</th>\n",
       "      <th>Total_C1</th>\n",
       "      <th>Clusters</th>\n",
       "    </tr>\n",
       "    <tr>\n",
       "      <th>URN</th>\n",
       "      <th></th>\n",
       "      <th></th>\n",
       "      <th></th>\n",
       "      <th></th>\n",
       "      <th></th>\n",
       "      <th></th>\n",
       "      <th></th>\n",
       "      <th></th>\n",
       "      <th></th>\n",
       "      <th></th>\n",
       "      <th></th>\n",
       "      <th></th>\n",
       "      <th></th>\n",
       "      <th></th>\n",
       "      <th></th>\n",
       "      <th></th>\n",
       "      <th></th>\n",
       "      <th></th>\n",
       "      <th></th>\n",
       "      <th></th>\n",
       "      <th></th>\n",
       "    </tr>\n",
       "  </thead>\n",
       "  <tbody>\n",
       "    <tr>\n",
       "      <th>87281</th>\n",
       "      <td>0</td>\n",
       "      <td>NaN</td>\n",
       "      <td>0.00</td>\n",
       "      <td>0.0</td>\n",
       "      <td>1</td>\n",
       "      <td>0</td>\n",
       "      <td>0</td>\n",
       "      <td>0</td>\n",
       "      <td>0.0</td>\n",
       "      <td>0</td>\n",
       "      <td>...</td>\n",
       "      <td>0</td>\n",
       "      <td>0</td>\n",
       "      <td>0</td>\n",
       "      <td>0</td>\n",
       "      <td>0</td>\n",
       "      <td>0</td>\n",
       "      <td>-1.000000</td>\n",
       "      <td>-3.00</td>\n",
       "      <td>0.000000</td>\n",
       "      <td>4</td>\n",
       "    </tr>\n",
       "    <tr>\n",
       "      <th>28497</th>\n",
       "      <td>0</td>\n",
       "      <td>NaN</td>\n",
       "      <td>55.00</td>\n",
       "      <td>0.0</td>\n",
       "      <td>0</td>\n",
       "      <td>0</td>\n",
       "      <td>1</td>\n",
       "      <td>0</td>\n",
       "      <td>0.0</td>\n",
       "      <td>0</td>\n",
       "      <td>...</td>\n",
       "      <td>0</td>\n",
       "      <td>0</td>\n",
       "      <td>0</td>\n",
       "      <td>1</td>\n",
       "      <td>0</td>\n",
       "      <td>0</td>\n",
       "      <td>0.000000</td>\n",
       "      <td>1.25</td>\n",
       "      <td>1.166667</td>\n",
       "      <td>4</td>\n",
       "    </tr>\n",
       "    <tr>\n",
       "      <th>58676</th>\n",
       "      <td>0</td>\n",
       "      <td>NaN</td>\n",
       "      <td>0.00</td>\n",
       "      <td>0.0</td>\n",
       "      <td>0</td>\n",
       "      <td>0</td>\n",
       "      <td>1</td>\n",
       "      <td>0</td>\n",
       "      <td>0.0</td>\n",
       "      <td>0</td>\n",
       "      <td>...</td>\n",
       "      <td>0</td>\n",
       "      <td>1</td>\n",
       "      <td>0</td>\n",
       "      <td>0</td>\n",
       "      <td>0</td>\n",
       "      <td>0</td>\n",
       "      <td>-2.000000</td>\n",
       "      <td>-3.00</td>\n",
       "      <td>1.166667</td>\n",
       "      <td>4</td>\n",
       "    </tr>\n",
       "    <tr>\n",
       "      <th>14806</th>\n",
       "      <td>0</td>\n",
       "      <td>NaN</td>\n",
       "      <td>0.00</td>\n",
       "      <td>65.0</td>\n",
       "      <td>0</td>\n",
       "      <td>1</td>\n",
       "      <td>0</td>\n",
       "      <td>1</td>\n",
       "      <td>120.0</td>\n",
       "      <td>456</td>\n",
       "      <td>...</td>\n",
       "      <td>0</td>\n",
       "      <td>1</td>\n",
       "      <td>0</td>\n",
       "      <td>0</td>\n",
       "      <td>0</td>\n",
       "      <td>1</td>\n",
       "      <td>2.400000</td>\n",
       "      <td>-7.00</td>\n",
       "      <td>2.333333</td>\n",
       "      <td>3</td>\n",
       "    </tr>\n",
       "    <tr>\n",
       "      <th>8548</th>\n",
       "      <td>0</td>\n",
       "      <td>NaN</td>\n",
       "      <td>81.68</td>\n",
       "      <td>50.0</td>\n",
       "      <td>0</td>\n",
       "      <td>1</td>\n",
       "      <td>0</td>\n",
       "      <td>1</td>\n",
       "      <td>180.0</td>\n",
       "      <td>260</td>\n",
       "      <td>...</td>\n",
       "      <td>0</td>\n",
       "      <td>0</td>\n",
       "      <td>0</td>\n",
       "      <td>0</td>\n",
       "      <td>1</td>\n",
       "      <td>1</td>\n",
       "      <td>2.333333</td>\n",
       "      <td>1.10</td>\n",
       "      <td>2.333333</td>\n",
       "      <td>2</td>\n",
       "    </tr>\n",
       "  </tbody>\n",
       "</table>\n",
       "<p>5 rows × 31 columns</p>\n",
       "</div>"
      ],
      "text/plain": [
       "       DV  INCOME  APPEAL_AVG_GIFT  EMERG_AVG_GIFT  EMAIL_FLAG  \\\n",
       "URN                                                              \n",
       "87281   0     NaN             0.00             0.0           1   \n",
       "28497   0     NaN            55.00             0.0           0   \n",
       "58676   0     NaN             0.00             0.0           0   \n",
       "14806   0     NaN             0.00            65.0           0   \n",
       "8548    0     NaN            81.68            50.0           0   \n",
       "\n",
       "       NUM_ACTIVE_COG  NUM_ATTRITED_COG  NUM_DIFF_COG  TOTAL_YEARLY_CHARGE  \\\n",
       "URN                                                                          \n",
       "87281               0                 0             0                  0.0   \n",
       "28497               0                 1             0                  0.0   \n",
       "58676               0                 1             0                  0.0   \n",
       "14806               1                 0             1                120.0   \n",
       "8548                1                 0             1                180.0   \n",
       "\n",
       "       TOTAL_NUM_MONTH_PAID  ...  SEXC1  TITLEC1  TOWNC1  OAC_GroupC1  \\\n",
       "URN                          ...                                        \n",
       "87281                     0  ...      0        0       0            0   \n",
       "28497                     0  ...      0        0       0            1   \n",
       "58676                     0  ...      0        1       0            0   \n",
       "14806                   456  ...      0        1       0            0   \n",
       "8548                    260  ...      0        0       0            0   \n",
       "\n",
       "       Mosaic GroupC1  COG_TYPEC1  WRR_EMERG  WRR_APP  Total_C1  Clusters  \n",
       "URN                                                                        \n",
       "87281               0           0  -1.000000    -3.00  0.000000         4  \n",
       "28497               0           0   0.000000     1.25  1.166667         4  \n",
       "58676               0           0  -2.000000    -3.00  1.166667         4  \n",
       "14806               0           1   2.400000    -7.00  2.333333         3  \n",
       "8548                1           1   2.333333     1.10  2.333333         2  \n",
       "\n",
       "[5 rows x 31 columns]"
      ]
     },
     "execution_count": 5,
     "metadata": {},
     "output_type": "execute_result"
    }
   ],
   "source": [
    "df.head(5)"
   ]
  },
  {
   "cell_type": "code",
   "execution_count": 23,
   "metadata": {},
   "outputs": [],
   "source": [
    "Num_DV_1 = len(df.loc[df[\"DV\"] == 1])\n",
    "\n",
    "df_final = pd.concat([df.loc[df[\"DV\"] == 1], df.loc[df[\"DV\"] == 0].sample(Num_DV_1, random_state=32)]).copy()\n",
    "df_final = df_final.sample(frac=1, random_state=53)#.reset_index(drop=True)"
   ]
  },
  {
   "cell_type": "code",
   "execution_count": 24,
   "metadata": {},
   "outputs": [
    {
     "name": "stdout",
     "output_type": "stream",
     "text": [
      "<class 'pandas.core.frame.DataFrame'>\n",
      "Int64Index: 19036 entries, 87358 to 28144\n",
      "Data columns (total 31 columns):\n",
      "DV                                    19036 non-null int64\n",
      "INCOME                                9518 non-null float64\n",
      "APPEAL_AVG_GIFT                       19036 non-null float64\n",
      "EMERG_AVG_GIFT                        19036 non-null float64\n",
      "EMAIL_FLAG                            19036 non-null int64\n",
      "NUM_ACTIVE_COG                        19036 non-null int64\n",
      "NUM_ATTRITED_COG                      19036 non-null int64\n",
      "NUM_DIFF_COG                          19036 non-null int64\n",
      "TOTAL_YEARLY_CHARGE                   19036 non-null float64\n",
      "TOTAL_NUM_MONTH_PAID                  19036 non-null int64\n",
      "DM_PREVIOUS_12_MONTHS                 19036 non-null int64\n",
      "NUM_TRANS_LST_24                      19036 non-null int64\n",
      "DONATED_LST_24                        19036 non-null float64\n",
      "Months Between DateCr and Last Ask    19036 non-null float64\n",
      "Mosaic Group Num                      19036 non-null float64\n",
      "AGE                                   19036 non-null float64\n",
      "SEX_Encoded                           19036 non-null int64\n",
      "TITLE_Encoded                         19036 non-null int64\n",
      "TOWN_Encoded                          19036 non-null int64\n",
      "OAC_Group_Encoded                     19036 non-null int64\n",
      "COG_TYPE_Encoded                      19036 non-null int64\n",
      "SEXC1                                 19036 non-null int64\n",
      "TITLEC1                               19036 non-null int64\n",
      "TOWNC1                                19036 non-null int64\n",
      "OAC_GroupC1                           19036 non-null int64\n",
      "Mosaic GroupC1                        19036 non-null int64\n",
      "COG_TYPEC1                            19036 non-null int64\n",
      "WRR_EMERG                             19036 non-null float64\n",
      "WRR_APP                               19036 non-null float64\n",
      "Total_C1                              19036 non-null float64\n",
      "Clusters                              19036 non-null int32\n",
      "dtypes: float64(11), int32(1), int64(19)\n",
      "memory usage: 4.6 MB\n"
     ]
    }
   ],
   "source": [
    "df_final.info()"
   ]
  },
  {
   "cell_type": "code",
   "execution_count": 25,
   "metadata": {},
   "outputs": [],
   "source": [
    "X = df_final.drop([\"DV\",\"INCOME\"], axis=1).copy()\n",
    "\n",
    "y = df_final[\"DV\"].copy()"
   ]
  },
  {
   "cell_type": "code",
   "execution_count": null,
   "metadata": {},
   "outputs": [],
   "source": [
    "#X.drop([\"EMAIL_FLAG\", \"PHONE_FLAG\", \"SMS_FLAG\", \"ALL_CHANNEL_OPT_IN\"], axis=1, inplace=True)"
   ]
  },
  {
   "cell_type": "code",
   "execution_count": 26,
   "metadata": {},
   "outputs": [
    {
     "data": {
      "text/html": [
       "<div>\n",
       "<style scoped>\n",
       "    .dataframe tbody tr th:only-of-type {\n",
       "        vertical-align: middle;\n",
       "    }\n",
       "\n",
       "    .dataframe tbody tr th {\n",
       "        vertical-align: top;\n",
       "    }\n",
       "\n",
       "    .dataframe thead th {\n",
       "        text-align: right;\n",
       "    }\n",
       "</style>\n",
       "<table border=\"1\" class=\"dataframe\">\n",
       "  <thead>\n",
       "    <tr style=\"text-align: right;\">\n",
       "      <th></th>\n",
       "      <th>APPEAL_AVG_GIFT</th>\n",
       "      <th>EMERG_AVG_GIFT</th>\n",
       "      <th>EMAIL_FLAG</th>\n",
       "      <th>NUM_ACTIVE_COG</th>\n",
       "      <th>NUM_ATTRITED_COG</th>\n",
       "      <th>NUM_DIFF_COG</th>\n",
       "      <th>TOTAL_YEARLY_CHARGE</th>\n",
       "      <th>TOTAL_NUM_MONTH_PAID</th>\n",
       "      <th>DM_PREVIOUS_12_MONTHS</th>\n",
       "      <th>NUM_TRANS_LST_24</th>\n",
       "      <th>...</th>\n",
       "      <th>SEXC1</th>\n",
       "      <th>TITLEC1</th>\n",
       "      <th>TOWNC1</th>\n",
       "      <th>OAC_GroupC1</th>\n",
       "      <th>Mosaic GroupC1</th>\n",
       "      <th>COG_TYPEC1</th>\n",
       "      <th>WRR_EMERG</th>\n",
       "      <th>WRR_APP</th>\n",
       "      <th>Total_C1</th>\n",
       "      <th>Clusters</th>\n",
       "    </tr>\n",
       "    <tr>\n",
       "      <th>URN</th>\n",
       "      <th></th>\n",
       "      <th></th>\n",
       "      <th></th>\n",
       "      <th></th>\n",
       "      <th></th>\n",
       "      <th></th>\n",
       "      <th></th>\n",
       "      <th></th>\n",
       "      <th></th>\n",
       "      <th></th>\n",
       "      <th></th>\n",
       "      <th></th>\n",
       "      <th></th>\n",
       "      <th></th>\n",
       "      <th></th>\n",
       "      <th></th>\n",
       "      <th></th>\n",
       "      <th></th>\n",
       "      <th></th>\n",
       "      <th></th>\n",
       "      <th></th>\n",
       "    </tr>\n",
       "  </thead>\n",
       "  <tbody>\n",
       "    <tr>\n",
       "      <th>87358</th>\n",
       "      <td>0.0</td>\n",
       "      <td>0.0</td>\n",
       "      <td>0</td>\n",
       "      <td>0</td>\n",
       "      <td>0</td>\n",
       "      <td>0</td>\n",
       "      <td>0.0</td>\n",
       "      <td>0</td>\n",
       "      <td>-1</td>\n",
       "      <td>0</td>\n",
       "      <td>...</td>\n",
       "      <td>0</td>\n",
       "      <td>0</td>\n",
       "      <td>1</td>\n",
       "      <td>1</td>\n",
       "      <td>1</td>\n",
       "      <td>0</td>\n",
       "      <td>-1.000000</td>\n",
       "      <td>-3.000000</td>\n",
       "      <td>3.500000</td>\n",
       "      <td>1</td>\n",
       "    </tr>\n",
       "    <tr>\n",
       "      <th>61037</th>\n",
       "      <td>62.5</td>\n",
       "      <td>0.0</td>\n",
       "      <td>0</td>\n",
       "      <td>1</td>\n",
       "      <td>0</td>\n",
       "      <td>1</td>\n",
       "      <td>234.0</td>\n",
       "      <td>99</td>\n",
       "      <td>6</td>\n",
       "      <td>24</td>\n",
       "      <td>...</td>\n",
       "      <td>0</td>\n",
       "      <td>0</td>\n",
       "      <td>0</td>\n",
       "      <td>0</td>\n",
       "      <td>0</td>\n",
       "      <td>1</td>\n",
       "      <td>-4.000000</td>\n",
       "      <td>2.222222</td>\n",
       "      <td>1.166667</td>\n",
       "      <td>3</td>\n",
       "    </tr>\n",
       "    <tr>\n",
       "      <th>32157</th>\n",
       "      <td>20.0</td>\n",
       "      <td>40.0</td>\n",
       "      <td>0</td>\n",
       "      <td>2</td>\n",
       "      <td>0</td>\n",
       "      <td>1</td>\n",
       "      <td>300.0</td>\n",
       "      <td>279</td>\n",
       "      <td>6</td>\n",
       "      <td>48</td>\n",
       "      <td>...</td>\n",
       "      <td>0</td>\n",
       "      <td>0</td>\n",
       "      <td>0</td>\n",
       "      <td>0</td>\n",
       "      <td>1</td>\n",
       "      <td>1</td>\n",
       "      <td>1.166667</td>\n",
       "      <td>1.090909</td>\n",
       "      <td>2.333333</td>\n",
       "      <td>2</td>\n",
       "    </tr>\n",
       "    <tr>\n",
       "      <th>113322</th>\n",
       "      <td>0.0</td>\n",
       "      <td>0.0</td>\n",
       "      <td>1</td>\n",
       "      <td>0</td>\n",
       "      <td>0</td>\n",
       "      <td>0</td>\n",
       "      <td>0.0</td>\n",
       "      <td>0</td>\n",
       "      <td>6</td>\n",
       "      <td>2</td>\n",
       "      <td>...</td>\n",
       "      <td>0</td>\n",
       "      <td>0</td>\n",
       "      <td>1</td>\n",
       "      <td>1</td>\n",
       "      <td>1</td>\n",
       "      <td>0</td>\n",
       "      <td>0.000000</td>\n",
       "      <td>0.000000</td>\n",
       "      <td>3.500000</td>\n",
       "      <td>1</td>\n",
       "    </tr>\n",
       "    <tr>\n",
       "      <th>68043</th>\n",
       "      <td>0.0</td>\n",
       "      <td>0.0</td>\n",
       "      <td>0</td>\n",
       "      <td>2</td>\n",
       "      <td>0</td>\n",
       "      <td>1</td>\n",
       "      <td>144.0</td>\n",
       "      <td>109</td>\n",
       "      <td>-1</td>\n",
       "      <td>30</td>\n",
       "      <td>...</td>\n",
       "      <td>0</td>\n",
       "      <td>1</td>\n",
       "      <td>0</td>\n",
       "      <td>1</td>\n",
       "      <td>1</td>\n",
       "      <td>1</td>\n",
       "      <td>-2.000000</td>\n",
       "      <td>-3.000000</td>\n",
       "      <td>4.666667</td>\n",
       "      <td>2</td>\n",
       "    </tr>\n",
       "  </tbody>\n",
       "</table>\n",
       "<p>5 rows × 29 columns</p>\n",
       "</div>"
      ],
      "text/plain": [
       "        APPEAL_AVG_GIFT  EMERG_AVG_GIFT  EMAIL_FLAG  NUM_ACTIVE_COG  \\\n",
       "URN                                                                   \n",
       "87358               0.0             0.0           0               0   \n",
       "61037              62.5             0.0           0               1   \n",
       "32157              20.0            40.0           0               2   \n",
       "113322              0.0             0.0           1               0   \n",
       "68043               0.0             0.0           0               2   \n",
       "\n",
       "        NUM_ATTRITED_COG  NUM_DIFF_COG  TOTAL_YEARLY_CHARGE  \\\n",
       "URN                                                           \n",
       "87358                  0             0                  0.0   \n",
       "61037                  0             1                234.0   \n",
       "32157                  0             1                300.0   \n",
       "113322                 0             0                  0.0   \n",
       "68043                  0             1                144.0   \n",
       "\n",
       "        TOTAL_NUM_MONTH_PAID  DM_PREVIOUS_12_MONTHS  NUM_TRANS_LST_24  ...  \\\n",
       "URN                                                                    ...   \n",
       "87358                      0                     -1                 0  ...   \n",
       "61037                     99                      6                24  ...   \n",
       "32157                    279                      6                48  ...   \n",
       "113322                     0                      6                 2  ...   \n",
       "68043                    109                     -1                30  ...   \n",
       "\n",
       "        SEXC1  TITLEC1  TOWNC1  OAC_GroupC1  Mosaic GroupC1  COG_TYPEC1  \\\n",
       "URN                                                                       \n",
       "87358       0        0       1            1               1           0   \n",
       "61037       0        0       0            0               0           1   \n",
       "32157       0        0       0            0               1           1   \n",
       "113322      0        0       1            1               1           0   \n",
       "68043       0        1       0            1               1           1   \n",
       "\n",
       "        WRR_EMERG   WRR_APP  Total_C1  Clusters  \n",
       "URN                                              \n",
       "87358   -1.000000 -3.000000  3.500000         1  \n",
       "61037   -4.000000  2.222222  1.166667         3  \n",
       "32157    1.166667  1.090909  2.333333         2  \n",
       "113322   0.000000  0.000000  3.500000         1  \n",
       "68043   -2.000000 -3.000000  4.666667         2  \n",
       "\n",
       "[5 rows x 29 columns]"
      ]
     },
     "execution_count": 26,
     "metadata": {},
     "output_type": "execute_result"
    }
   ],
   "source": [
    "X.head(5)"
   ]
  },
  {
   "cell_type": "markdown",
   "metadata": {},
   "source": [
    "LE = LabelEncoder()\n",
    "X[\"AGE_DESC\"] = LE.fit_transform(X[\"AGE_DESC\"])\n",
    "X[\"MOSAIC_GROUP_DESC\"] = LE.fit_transform(X[\"MOSAIC_GROUP_DESC\"])\n",
    "X[\"TOWN\"] = LE.fit_transform(X[\"TOWN\"])"
   ]
  },
  {
   "cell_type": "code",
   "execution_count": 27,
   "metadata": {},
   "outputs": [],
   "source": [
    "importance_df = pd.read_csv(\"Data/Feature_Importance.csv\", index_col = 0)"
   ]
  },
  {
   "cell_type": "markdown",
   "metadata": {},
   "source": [
    "## The below cell was ised to build the feature importance and is used ot build the final mode one we have done all our test in the sections below"
   ]
  },
  {
   "cell_type": "code",
   "execution_count": 35,
   "metadata": {},
   "outputs": [
    {
     "name": "stdout",
     "output_type": "stream",
     "text": [
      "-\n",
      "Fold 1\n",
      "Training until validation scores don't improve for 25 rounds.\n"
     ]
    },
    {
     "name": "stderr",
     "output_type": "stream",
     "text": [
      "E:\\Anaconda\\envs\\ML\\lib\\site-packages\\lightgbm\\basic.py:1188: UserWarning: categorical_feature in Dataset is overridden.\n",
      "New categorical_feature is [14, 15, 16, 17, 18, 29]\n",
      "  'New categorical_feature is {}'.format(sorted(list(categorical_feature))))\n",
      "E:\\Anaconda\\envs\\ML\\lib\\site-packages\\lightgbm\\basic.py:1188: UserWarning: categorical_feature in Dataset is overridden.\n",
      "New categorical_feature is [14, 15, 16, 17, 18, 29]\n",
      "  'New categorical_feature is {}'.format(sorted(list(categorical_feature))))\n",
      "E:\\Anaconda\\envs\\ML\\lib\\site-packages\\lightgbm\\basic.py:742: UserWarning: categorical_feature in param dict is overridden.\n",
      "  warnings.warn('categorical_feature in param dict is overridden.')\n"
     ]
    },
    {
     "name": "stdout",
     "output_type": "stream",
     "text": [
      "[100]\ttraining's auc: 0.913119\tvalid_1's auc: 0.888154\n",
      "Early stopping, best iteration is:\n",
      "[124]\ttraining's auc: 0.919138\tvalid_1's auc: 0.888657\n",
      "-\n",
      "Fold 2\n",
      "Training until validation scores don't improve for 25 rounds.\n"
     ]
    },
    {
     "name": "stderr",
     "output_type": "stream",
     "text": [
      "E:\\Anaconda\\envs\\ML\\lib\\site-packages\\lightgbm\\basic.py:1188: UserWarning: categorical_feature in Dataset is overridden.\n",
      "New categorical_feature is [14, 15, 16, 17, 18, 29]\n",
      "  'New categorical_feature is {}'.format(sorted(list(categorical_feature))))\n",
      "E:\\Anaconda\\envs\\ML\\lib\\site-packages\\lightgbm\\basic.py:1188: UserWarning: categorical_feature in Dataset is overridden.\n",
      "New categorical_feature is [14, 15, 16, 17, 18, 29]\n",
      "  'New categorical_feature is {}'.format(sorted(list(categorical_feature))))\n",
      "E:\\Anaconda\\envs\\ML\\lib\\site-packages\\lightgbm\\basic.py:742: UserWarning: categorical_feature in param dict is overridden.\n",
      "  warnings.warn('categorical_feature in param dict is overridden.')\n"
     ]
    },
    {
     "name": "stdout",
     "output_type": "stream",
     "text": [
      "Early stopping, best iteration is:\n",
      "[59]\ttraining's auc: 0.900727\tvalid_1's auc: 0.888705\n",
      "-\n",
      "Fold 3\n",
      "Training until validation scores don't improve for 25 rounds.\n"
     ]
    },
    {
     "name": "stderr",
     "output_type": "stream",
     "text": [
      "E:\\Anaconda\\envs\\ML\\lib\\site-packages\\lightgbm\\basic.py:1188: UserWarning: categorical_feature in Dataset is overridden.\n",
      "New categorical_feature is [14, 15, 16, 17, 18, 29]\n",
      "  'New categorical_feature is {}'.format(sorted(list(categorical_feature))))\n",
      "E:\\Anaconda\\envs\\ML\\lib\\site-packages\\lightgbm\\basic.py:1188: UserWarning: categorical_feature in Dataset is overridden.\n",
      "New categorical_feature is [14, 15, 16, 17, 18, 29]\n",
      "  'New categorical_feature is {}'.format(sorted(list(categorical_feature))))\n",
      "E:\\Anaconda\\envs\\ML\\lib\\site-packages\\lightgbm\\basic.py:742: UserWarning: categorical_feature in param dict is overridden.\n",
      "  warnings.warn('categorical_feature in param dict is overridden.')\n"
     ]
    },
    {
     "name": "stdout",
     "output_type": "stream",
     "text": [
      "[100]\ttraining's auc: 0.91381\tvalid_1's auc: 0.885592\n",
      "Early stopping, best iteration is:\n",
      "[124]\ttraining's auc: 0.919496\tvalid_1's auc: 0.886091\n",
      "-\n",
      "Fold 4\n",
      "Training until validation scores don't improve for 25 rounds.\n"
     ]
    },
    {
     "name": "stderr",
     "output_type": "stream",
     "text": [
      "E:\\Anaconda\\envs\\ML\\lib\\site-packages\\lightgbm\\basic.py:1188: UserWarning: categorical_feature in Dataset is overridden.\n",
      "New categorical_feature is [14, 15, 16, 17, 18, 29]\n",
      "  'New categorical_feature is {}'.format(sorted(list(categorical_feature))))\n",
      "E:\\Anaconda\\envs\\ML\\lib\\site-packages\\lightgbm\\basic.py:1188: UserWarning: categorical_feature in Dataset is overridden.\n",
      "New categorical_feature is [14, 15, 16, 17, 18, 29]\n",
      "  'New categorical_feature is {}'.format(sorted(list(categorical_feature))))\n",
      "E:\\Anaconda\\envs\\ML\\lib\\site-packages\\lightgbm\\basic.py:742: UserWarning: categorical_feature in param dict is overridden.\n",
      "  warnings.warn('categorical_feature in param dict is overridden.')\n"
     ]
    },
    {
     "name": "stdout",
     "output_type": "stream",
     "text": [
      "Early stopping, best iteration is:\n",
      "[70]\ttraining's auc: 0.905841\tvalid_1's auc: 0.875885\n",
      "-\n",
      "Fold 5\n",
      "Training until validation scores don't improve for 25 rounds.\n"
     ]
    },
    {
     "name": "stderr",
     "output_type": "stream",
     "text": [
      "E:\\Anaconda\\envs\\ML\\lib\\site-packages\\lightgbm\\basic.py:1188: UserWarning: categorical_feature in Dataset is overridden.\n",
      "New categorical_feature is [14, 15, 16, 17, 18, 29]\n",
      "  'New categorical_feature is {}'.format(sorted(list(categorical_feature))))\n",
      "E:\\Anaconda\\envs\\ML\\lib\\site-packages\\lightgbm\\basic.py:1188: UserWarning: categorical_feature in Dataset is overridden.\n",
      "New categorical_feature is [14, 15, 16, 17, 18, 29]\n",
      "  'New categorical_feature is {}'.format(sorted(list(categorical_feature))))\n",
      "E:\\Anaconda\\envs\\ML\\lib\\site-packages\\lightgbm\\basic.py:742: UserWarning: categorical_feature in param dict is overridden.\n",
      "  warnings.warn('categorical_feature in param dict is overridden.')\n"
     ]
    },
    {
     "name": "stdout",
     "output_type": "stream",
     "text": [
      "[100]\ttraining's auc: 0.914341\tvalid_1's auc: 0.876723\n",
      "Early stopping, best iteration is:\n",
      "[127]\ttraining's auc: 0.920358\tvalid_1's auc: 0.877728\n",
      "-\n",
      "Fold 6\n",
      "Training until validation scores don't improve for 25 rounds.\n"
     ]
    },
    {
     "name": "stderr",
     "output_type": "stream",
     "text": [
      "E:\\Anaconda\\envs\\ML\\lib\\site-packages\\lightgbm\\basic.py:1188: UserWarning: categorical_feature in Dataset is overridden.\n",
      "New categorical_feature is [14, 15, 16, 17, 18, 29]\n",
      "  'New categorical_feature is {}'.format(sorted(list(categorical_feature))))\n",
      "E:\\Anaconda\\envs\\ML\\lib\\site-packages\\lightgbm\\basic.py:1188: UserWarning: categorical_feature in Dataset is overridden.\n",
      "New categorical_feature is [14, 15, 16, 17, 18, 29]\n",
      "  'New categorical_feature is {}'.format(sorted(list(categorical_feature))))\n",
      "E:\\Anaconda\\envs\\ML\\lib\\site-packages\\lightgbm\\basic.py:742: UserWarning: categorical_feature in param dict is overridden.\n",
      "  warnings.warn('categorical_feature in param dict is overridden.')\n"
     ]
    },
    {
     "name": "stdout",
     "output_type": "stream",
     "text": [
      "[100]\ttraining's auc: 0.913524\tvalid_1's auc: 0.880034\n",
      "Early stopping, best iteration is:\n",
      "[124]\ttraining's auc: 0.919748\tvalid_1's auc: 0.880773\n",
      "-\n",
      "Fold 7\n",
      "Training until validation scores don't improve for 25 rounds.\n"
     ]
    },
    {
     "name": "stderr",
     "output_type": "stream",
     "text": [
      "E:\\Anaconda\\envs\\ML\\lib\\site-packages\\lightgbm\\basic.py:1188: UserWarning: categorical_feature in Dataset is overridden.\n",
      "New categorical_feature is [14, 15, 16, 17, 18, 29]\n",
      "  'New categorical_feature is {}'.format(sorted(list(categorical_feature))))\n",
      "E:\\Anaconda\\envs\\ML\\lib\\site-packages\\lightgbm\\basic.py:1188: UserWarning: categorical_feature in Dataset is overridden.\n",
      "New categorical_feature is [14, 15, 16, 17, 18, 29]\n",
      "  'New categorical_feature is {}'.format(sorted(list(categorical_feature))))\n",
      "E:\\Anaconda\\envs\\ML\\lib\\site-packages\\lightgbm\\basic.py:742: UserWarning: categorical_feature in param dict is overridden.\n",
      "  warnings.warn('categorical_feature in param dict is overridden.')\n"
     ]
    },
    {
     "name": "stdout",
     "output_type": "stream",
     "text": [
      "Early stopping, best iteration is:\n",
      "[74]\ttraining's auc: 0.906211\tvalid_1's auc: 0.887788\n",
      "-\n",
      "Fold 8\n",
      "Training until validation scores don't improve for 25 rounds.\n"
     ]
    },
    {
     "name": "stderr",
     "output_type": "stream",
     "text": [
      "E:\\Anaconda\\envs\\ML\\lib\\site-packages\\lightgbm\\basic.py:1188: UserWarning: categorical_feature in Dataset is overridden.\n",
      "New categorical_feature is [14, 15, 16, 17, 18, 29]\n",
      "  'New categorical_feature is {}'.format(sorted(list(categorical_feature))))\n",
      "E:\\Anaconda\\envs\\ML\\lib\\site-packages\\lightgbm\\basic.py:1188: UserWarning: categorical_feature in Dataset is overridden.\n",
      "New categorical_feature is [14, 15, 16, 17, 18, 29]\n",
      "  'New categorical_feature is {}'.format(sorted(list(categorical_feature))))\n",
      "E:\\Anaconda\\envs\\ML\\lib\\site-packages\\lightgbm\\basic.py:742: UserWarning: categorical_feature in param dict is overridden.\n",
      "  warnings.warn('categorical_feature in param dict is overridden.')\n"
     ]
    },
    {
     "name": "stdout",
     "output_type": "stream",
     "text": [
      "[100]\ttraining's auc: 0.913257\tvalid_1's auc: 0.885035\n",
      "Early stopping, best iteration is:\n",
      "[84]\ttraining's auc: 0.908813\tvalid_1's auc: 0.88539\n",
      "-\n",
      "Fold 9\n",
      "Training until validation scores don't improve for 25 rounds.\n"
     ]
    },
    {
     "name": "stderr",
     "output_type": "stream",
     "text": [
      "E:\\Anaconda\\envs\\ML\\lib\\site-packages\\lightgbm\\basic.py:1188: UserWarning: categorical_feature in Dataset is overridden.\n",
      "New categorical_feature is [14, 15, 16, 17, 18, 29]\n",
      "  'New categorical_feature is {}'.format(sorted(list(categorical_feature))))\n",
      "E:\\Anaconda\\envs\\ML\\lib\\site-packages\\lightgbm\\basic.py:1188: UserWarning: categorical_feature in Dataset is overridden.\n",
      "New categorical_feature is [14, 15, 16, 17, 18, 29]\n",
      "  'New categorical_feature is {}'.format(sorted(list(categorical_feature))))\n",
      "E:\\Anaconda\\envs\\ML\\lib\\site-packages\\lightgbm\\basic.py:742: UserWarning: categorical_feature in param dict is overridden.\n",
      "  warnings.warn('categorical_feature in param dict is overridden.')\n"
     ]
    },
    {
     "name": "stdout",
     "output_type": "stream",
     "text": [
      "[100]\ttraining's auc: 0.912248\tvalid_1's auc: 0.897818\n",
      "Early stopping, best iteration is:\n",
      "[77]\ttraining's auc: 0.905572\tvalid_1's auc: 0.898356\n",
      "-\n",
      "Fold 10\n",
      "Training until validation scores don't improve for 25 rounds.\n"
     ]
    },
    {
     "name": "stderr",
     "output_type": "stream",
     "text": [
      "E:\\Anaconda\\envs\\ML\\lib\\site-packages\\lightgbm\\basic.py:1188: UserWarning: categorical_feature in Dataset is overridden.\n",
      "New categorical_feature is [14, 15, 16, 17, 18, 29]\n",
      "  'New categorical_feature is {}'.format(sorted(list(categorical_feature))))\n",
      "E:\\Anaconda\\envs\\ML\\lib\\site-packages\\lightgbm\\basic.py:1188: UserWarning: categorical_feature in Dataset is overridden.\n",
      "New categorical_feature is [14, 15, 16, 17, 18, 29]\n",
      "  'New categorical_feature is {}'.format(sorted(list(categorical_feature))))\n",
      "E:\\Anaconda\\envs\\ML\\lib\\site-packages\\lightgbm\\basic.py:742: UserWarning: categorical_feature in param dict is overridden.\n",
      "  warnings.warn('categorical_feature in param dict is overridden.')\n"
     ]
    },
    {
     "name": "stdout",
     "output_type": "stream",
     "text": [
      "[100]\ttraining's auc: 0.912854\tvalid_1's auc: 0.886073\n",
      "Early stopping, best iteration is:\n",
      "[95]\ttraining's auc: 0.911521\tvalid_1's auc: 0.886375\n",
      "\n",
      "Avg Accuracy Train Set: 83.00297483781792\n",
      "Avg Accuracy Test Set: 80.3058058483509\n",
      "\n",
      "Avg Recall: 78.25541617461029\n",
      "Avg Precision: 81.60972426191309\n"
     ]
    }
   ],
   "source": [
    "#features = X.columns\n",
    "features = importance_df.head(13).index\n",
    "\n",
    "#importance_df = pd.DataFrame(index=features)\n",
    "\n",
    "Acc_Train = []\n",
    "Acc = []\n",
    "Recall = []\n",
    "Precision = []\n",
    "\n",
    "#Parameters for model:\n",
    "lgb_params = {'num_leaves': 24, #max number of leaves in one tree\n",
    "             'min_data_in_leaf': 25, #minimal number of data in one leaf. Can be used to deal with over-fitting\n",
    "             'objective':'binary',\n",
    "             #'max_depth': 10,\n",
    "             'learning_rate': 0.1, #How much each tree effects the overall result.\n",
    "             \"boosting\": \"gbdt\",\n",
    "             \"feature_fraction\": 0.8, #LightGBM will select X% of features before training each tree\n",
    "             \"bagging_freq\": 1,\n",
    "             \"bagging_fraction\": 1, #like feature_fraction, but this will randomly select part of data without resampling\n",
    "             \"bagging_seed\": 42,\n",
    "             \"metric\": 'AUC',\n",
    "             \"lambda_l2\": 0.25,\n",
    "             \"num_threads\": 2,\n",
    "             \"verbosity\": -1}\n",
    "\n",
    "\n",
    "folds = KFold(n_splits=10, shuffle=False)\n",
    "#oof_lgb = np.zeros(len(X_train))\n",
    "\n",
    "for fold_, (trn_idx, val_idx) in enumerate(folds.split(X, y)):    \n",
    "    \n",
    "    print('-')\n",
    "    print(\"Fold {}\".format(fold_ + 1))\n",
    "    trn_data = lgb.Dataset(X.iloc[trn_idx][features], label=y.iloc[trn_idx], categorical_feature=(6,8))\n",
    "    val_data = lgb.Dataset(X.iloc[val_idx][features], label=y.iloc[val_idx], categorical_feature=(6,8))\n",
    "\n",
    "    num_round = 500\n",
    "    clf = lgb.train(lgb_params, trn_data, num_round, \n",
    "                    valid_sets = [trn_data, val_data], \n",
    "                    verbose_eval= 100, \n",
    "                    categorical_feature=(14,15,16,17,18,29),\n",
    "                    early_stopping_rounds = 25) #less than 0 means disable\n",
    "    \n",
    "    #Feature Importance\n",
    "    #importance_df[\"importance\"+str(fold_ + 1)] = clf.feature_importance(importance_type='gain')\n",
    "    \n",
    "    predictions_lgb = np.zeros(len(y.iloc[val_idx]))\n",
    "    predictions_lgb = clf.predict(X.iloc[val_idx][features], num_iteration=clf.best_iteration)\n",
    "    \n",
    "    Y_actual = y.iloc[val_idx]\n",
    "    \n",
    "    Acc_Train.append(accuracy_score(y.iloc[trn_idx], clf.predict(X.iloc[trn_idx][features], num_iteration=clf.best_iteration) >=0.5 )*100)\n",
    "\n",
    "    Acc.append(accuracy_score(Y_actual,  predictions_lgb > 0.5)*100)\n",
    "    Recall.append(recall_score(Y_actual,  predictions_lgb > 0.5)*100)\n",
    "    Precision.append(precision_score(Y_actual,  predictions_lgb > 0.5)*100)\n",
    "    \n",
    "    if fold_ == 0:\n",
    "        Outcome_df = pd.concat([df_final[[\"DV\",\"INCOME\"]].loc[X.iloc[val_idx].index], \n",
    "           pd.DataFrame(predictions_lgb, index=X.iloc[val_idx].index)],axis=1)\n",
    "    else:\n",
    "        Outcome_df = Outcome_df.append(pd.concat([df_final[[\"DV\",\"INCOME\"]].loc[X.iloc[val_idx].index], \n",
    "           pd.DataFrame(predictions_lgb, index=X.iloc[val_idx].index)],axis=1), sort=False)\n",
    "        \n",
    "        \n",
    "Outcome_df.rename(index=str, columns={0:\"Score\"}, inplace=True)\n",
    "\n",
    "print(\"\")\n",
    "print(\"Avg Accuracy Train Set:\", np.mean(Acc_Train))\n",
    "print(\"Avg Accuracy Test Set:\",np.mean(Acc))\n",
    "print(\"\")\n",
    "print(\"Avg Recall:\",np.mean(Recall))\n",
    "print(\"Avg Precision:\",np.mean(Precision))\n",
    "\n",
    "Outcome_df.to_csv(\"Model Outputs/LightGBM.csv\", index=True)"
   ]
  },
  {
   "cell_type": "markdown",
   "metadata": {},
   "source": [
    "Confusion Matrix to see how the model is doing."
   ]
  },
  {
   "cell_type": "code",
   "execution_count": 29,
   "metadata": {},
   "outputs": [
    {
     "data": {
      "image/png": "[encoded data removed]",
      "text/plain": [
       "<Figure size 288x288 with 2 Axes>"
      ]
     },
     "metadata": {},
     "output_type": "display_data"
    }
   ],
   "source": [
    "Boundry = 0.5\n",
    "labels=[1,0]\n",
    "\n",
    "CM = confusion_matrix(Outcome_df[\"DV\"], Outcome_df[\"Score\"]>=Boundry, labels)\n",
    "\n",
    "#Normalise so is a percentage\n",
    "CM = np.divide(CM,np.sum(CM, axis=1).reshape(2,-1)) * 100\n",
    "\n",
    "Graph_Confusion_Matrix(CM, labels, 'CM Decision Boundary: '+str(Boundry))"
   ]
  },
  {
   "cell_type": "markdown",
   "metadata": {},
   "source": [
    "### Light GBM can tell you the most informative features. This cycles through them random in Gain to find the best model"
   ]
  },
  {
   "cell_type": "code",
   "execution_count": 11,
   "metadata": {},
   "outputs": [
    {
     "name": "stdout",
     "output_type": "stream",
     "text": [
      "-\n",
      "Fold 1\n",
      "Training until validation scores don't improve for 25 rounds.\n",
      "Early stopping, best iteration is:\n",
      "[2]\ttraining's auc: 0.735739\tvalid_1's auc: 0.740227\n",
      "-\n",
      "Fold 2\n",
      "Training until validation scores don't improve for 25 rounds.\n",
      "Early stopping, best iteration is:\n",
      "[21]\ttraining's auc: 0.735789\tvalid_1's auc: 0.737368\n",
      "-\n",
      "Fold 3\n",
      "Training until validation scores don't improve for 25 rounds.\n"
     ]
    },
    {
     "name": "stderr",
     "output_type": "stream",
     "text": [
      "E:\\Anaconda\\envs\\ML\\lib\\site-packages\\lightgbm\\basic.py:742: UserWarning: categorical_feature in param dict is overridden.\n",
      "  warnings.warn('categorical_feature in param dict is overridden.')\n",
      "E:\\Anaconda\\envs\\ML\\lib\\site-packages\\lightgbm\\basic.py:742: UserWarning: categorical_feature in param dict is overridden.\n",
      "  warnings.warn('categorical_feature in param dict is overridden.')\n",
      "E:\\Anaconda\\envs\\ML\\lib\\site-packages\\lightgbm\\basic.py:742: UserWarning: categorical_feature in param dict is overridden.\n",
      "  warnings.warn('categorical_feature in param dict is overridden.')\n"
     ]
    },
    {
     "name": "stdout",
     "output_type": "stream",
     "text": [
      "Early stopping, best iteration is:\n",
      "[26]\ttraining's auc: 0.737932\tvalid_1's auc: 0.731419\n",
      "-\n",
      "Fold 4\n",
      "Training until validation scores don't improve for 25 rounds.\n",
      "Early stopping, best iteration is:\n",
      "[24]\ttraining's auc: 0.735902\tvalid_1's auc: 0.739601\n",
      "-\n",
      "Fold 5\n",
      "Training until validation scores don't improve for 25 rounds.\n",
      "Early stopping, best iteration is:\n",
      "[9]\ttraining's auc: 0.740262\tvalid_1's auc: 0.718554\n",
      "\n",
      "Avg Accuracy Train Set: 71.23870265837184\n",
      "Avg Accuracy Test Set: 71.21764722437437\n",
      "\n",
      "Avg Recall: 56.22427799772165\n",
      "Avg Precision: 80.31392806883848\n",
      "-\n",
      "Fold 1\n"
     ]
    },
    {
     "name": "stderr",
     "output_type": "stream",
     "text": [
      "E:\\Anaconda\\envs\\ML\\lib\\site-packages\\lightgbm\\basic.py:742: UserWarning: categorical_feature in param dict is overridden.\n",
      "  warnings.warn('categorical_feature in param dict is overridden.')\n",
      "E:\\Anaconda\\envs\\ML\\lib\\site-packages\\lightgbm\\basic.py:742: UserWarning: categorical_feature in param dict is overridden.\n",
      "  warnings.warn('categorical_feature in param dict is overridden.')\n",
      "E:\\Anaconda\\envs\\ML\\lib\\site-packages\\lightgbm\\basic.py:742: UserWarning: categorical_feature in param dict is overridden.\n",
      "  warnings.warn('categorical_feature in param dict is overridden.')\n"
     ]
    },
    {
     "name": "stdout",
     "output_type": "stream",
     "text": [
      "Training until validation scores don't improve for 25 rounds.\n",
      "Early stopping, best iteration is:\n",
      "[79]\ttraining's auc: 0.836825\tvalid_1's auc: 0.836078\n",
      "-\n",
      "Fold 2\n",
      "Training until validation scores don't improve for 25 rounds.\n"
     ]
    },
    {
     "name": "stderr",
     "output_type": "stream",
     "text": [
      "E:\\Anaconda\\envs\\ML\\lib\\site-packages\\lightgbm\\basic.py:742: UserWarning: categorical_feature in param dict is overridden.\n",
      "  warnings.warn('categorical_feature in param dict is overridden.')\n",
      "E:\\Anaconda\\envs\\ML\\lib\\site-packages\\lightgbm\\basic.py:742: UserWarning: categorical_feature in param dict is overridden.\n",
      "  warnings.warn('categorical_feature in param dict is overridden.')\n"
     ]
    },
    {
     "name": "stdout",
     "output_type": "stream",
     "text": [
      "Early stopping, best iteration is:\n",
      "[43]\ttraining's auc: 0.836579\tvalid_1's auc: 0.833001\n",
      "-\n",
      "Fold 3\n",
      "Training until validation scores don't improve for 25 rounds.\n",
      "Early stopping, best iteration is:\n",
      "[49]\ttraining's auc: 0.836416\tvalid_1's auc: 0.83188\n",
      "-\n",
      "Fold 4\n",
      "Training until validation scores don't improve for 25 rounds.\n"
     ]
    },
    {
     "name": "stderr",
     "output_type": "stream",
     "text": [
      "E:\\Anaconda\\envs\\ML\\lib\\site-packages\\lightgbm\\basic.py:742: UserWarning: categorical_feature in param dict is overridden.\n",
      "  warnings.warn('categorical_feature in param dict is overridden.')\n",
      "E:\\Anaconda\\envs\\ML\\lib\\site-packages\\lightgbm\\basic.py:742: UserWarning: categorical_feature in param dict is overridden.\n",
      "  warnings.warn('categorical_feature in param dict is overridden.')\n"
     ]
    },
    {
     "name": "stdout",
     "output_type": "stream",
     "text": [
      "Early stopping, best iteration is:\n",
      "[74]\ttraining's auc: 0.837005\tvalid_1's auc: 0.835441\n",
      "-\n",
      "Fold 5\n",
      "Training until validation scores don't improve for 25 rounds.\n",
      "Early stopping, best iteration is:\n",
      "[37]\ttraining's auc: 0.836255\tvalid_1's auc: 0.831865\n",
      "\n",
      "Avg Accuracy Train Set: 76.43806144329828\n",
      "Avg Accuracy Test Set: 76.25021383651963\n",
      "\n",
      "Avg Recall: 71.47309807905897\n",
      "Avg Precision: 79.02288478471871\n",
      "-\n",
      "Fold 1\n",
      "Training until validation scores don't improve for 25 rounds.\n"
     ]
    },
    {
     "name": "stderr",
     "output_type": "stream",
     "text": [
      "E:\\Anaconda\\envs\\ML\\lib\\site-packages\\lightgbm\\basic.py:742: UserWarning: categorical_feature in param dict is overridden.\n",
      "  warnings.warn('categorical_feature in param dict is overridden.')\n",
      "E:\\Anaconda\\envs\\ML\\lib\\site-packages\\lightgbm\\basic.py:742: UserWarning: categorical_feature in param dict is overridden.\n",
      "  warnings.warn('categorical_feature in param dict is overridden.')\n"
     ]
    },
    {
     "name": "stdout",
     "output_type": "stream",
     "text": [
      "Early stopping, best iteration is:\n",
      "[44]\ttraining's auc: 0.859616\tvalid_1's auc: 0.860483\n",
      "-\n",
      "Fold 2\n",
      "Training until validation scores don't improve for 25 rounds.\n",
      "Early stopping, best iteration is:\n",
      "[68]\ttraining's auc: 0.864803\tvalid_1's auc: 0.855991\n",
      "-\n",
      "Fold 3\n",
      "Training until validation scores don't improve for 25 rounds.\n",
      "Early stopping, best iteration is:\n",
      "[129]\ttraining's auc: 0.871354\tvalid_1's auc: 0.854934"
     ]
    },
    {
     "name": "stderr",
     "output_type": "stream",
     "text": [
      "E:\\Anaconda\\envs\\ML\\lib\\site-packages\\lightgbm\\basic.py:742: UserWarning: categorical_feature in param dict is overridden.\n",
      "  warnings.warn('categorical_feature in param dict is overridden.')\n"
     ]
    },
    {
     "name": "stdout",
     "output_type": "stream",
     "text": [
      "\n",
      "-\n",
      "Fold 4\n",
      "Training until validation scores don't improve for 25 rounds.\n"
     ]
    },
    {
     "name": "stderr",
     "output_type": "stream",
     "text": [
      "E:\\Anaconda\\envs\\ML\\lib\\site-packages\\lightgbm\\basic.py:742: UserWarning: categorical_feature in param dict is overridden.\n",
      "  warnings.warn('categorical_feature in param dict is overridden.')\n"
     ]
    },
    {
     "name": "stdout",
     "output_type": "stream",
     "text": [
      "Early stopping, best iteration is:\n",
      "[164]\ttraining's auc: 0.872856\tvalid_1's auc: 0.859167\n",
      "-\n",
      "Fold 5\n",
      "Training until validation scores don't improve for 25 rounds.\n"
     ]
    },
    {
     "name": "stderr",
     "output_type": "stream",
     "text": [
      "E:\\Anaconda\\envs\\ML\\lib\\site-packages\\lightgbm\\basic.py:742: UserWarning: categorical_feature in param dict is overridden.\n",
      "  warnings.warn('categorical_feature in param dict is overridden.')\n"
     ]
    },
    {
     "name": "stdout",
     "output_type": "stream",
     "text": [
      "Early stopping, best iteration is:\n",
      "[101]\ttraining's auc: 0.868799\tvalid_1's auc: 0.853048\n",
      "\n",
      "Avg Accuracy Train Set: 78.69824591742322\n",
      "Avg Accuracy Test Set: 77.69489198358617\n",
      "\n",
      "Avg Recall: 71.93413563165973\n",
      "Avg Precision: 81.30153960331498\n",
      "-\n",
      "Fold 1\n",
      "Training until validation scores don't improve for 25 rounds.\n",
      "Early stopping, best iteration is:\n",
      "[57]\ttraining's auc: 0.862478\tvalid_1's auc: 0.859677\n"
     ]
    },
    {
     "name": "stderr",
     "output_type": "stream",
     "text": [
      "E:\\Anaconda\\envs\\ML\\lib\\site-packages\\lightgbm\\basic.py:742: UserWarning: categorical_feature in param dict is overridden.\n",
      "  warnings.warn('categorical_feature in param dict is overridden.')\n",
      "E:\\Anaconda\\envs\\ML\\lib\\site-packages\\lightgbm\\basic.py:742: UserWarning: categorical_feature in param dict is overridden.\n",
      "  warnings.warn('categorical_feature in param dict is overridden.')\n"
     ]
    },
    {
     "name": "stdout",
     "output_type": "stream",
     "text": [
      "-\n",
      "Fold 2\n",
      "Training until validation scores don't improve for 25 rounds.\n",
      "Early stopping, best iteration is:\n",
      "[116]\ttraining's auc: 0.871779\tvalid_1's auc: 0.855563\n",
      "-\n",
      "Fold 3\n",
      "Training until validation scores don't improve for 25 rounds.\n",
      "Early stopping, best iteration is:\n",
      "[69]\ttraining's auc: 0.865421\tvalid_1's auc: 0.852034"
     ]
    },
    {
     "name": "stderr",
     "output_type": "stream",
     "text": [
      "E:\\Anaconda\\envs\\ML\\lib\\site-packages\\lightgbm\\basic.py:742: UserWarning: categorical_feature in param dict is overridden.\n",
      "  warnings.warn('categorical_feature in param dict is overridden.')\n",
      "E:\\Anaconda\\envs\\ML\\lib\\site-packages\\lightgbm\\basic.py:742: UserWarning: categorical_feature in param dict is overridden.\n",
      "  warnings.warn('categorical_feature in param dict is overridden.')\n"
     ]
    },
    {
     "name": "stdout",
     "output_type": "stream",
     "text": [
      "\n",
      "-\n",
      "Fold 4\n",
      "Training until validation scores don't improve for 25 rounds.\n",
      "Early stopping, best iteration is:\n",
      "[130]\ttraining's auc: 0.873338\tvalid_1's auc: 0.856517\n",
      "-\n",
      "Fold 5\n",
      "Training until validation scores don't improve for 25 rounds.\n"
     ]
    },
    {
     "name": "stderr",
     "output_type": "stream",
     "text": [
      "E:\\Anaconda\\envs\\ML\\lib\\site-packages\\lightgbm\\basic.py:742: UserWarning: categorical_feature in param dict is overridden.\n",
      "  warnings.warn('categorical_feature in param dict is overridden.')\n"
     ]
    },
    {
     "name": "stdout",
     "output_type": "stream",
     "text": [
      "Early stopping, best iteration is:\n",
      "[100]\ttraining's auc: 0.870705\tvalid_1's auc: 0.85311\n",
      "\n",
      "Avg Accuracy Train Set: 78.71532317847881\n",
      "Avg Accuracy Test Set: 77.65284896464496\n",
      "\n",
      "Avg Recall: 72.03831981072963\n",
      "Avg Precision: 81.15065590515698\n",
      "-\n",
      "Fold 1\n",
      "Training until validation scores don't improve for 25 rounds.\n"
     ]
    },
    {
     "name": "stderr",
     "output_type": "stream",
     "text": [
      "E:\\Anaconda\\envs\\ML\\lib\\site-packages\\lightgbm\\basic.py:742: UserWarning: categorical_feature in param dict is overridden.\n",
      "  warnings.warn('categorical_feature in param dict is overridden.')\n"
     ]
    },
    {
     "name": "stdout",
     "output_type": "stream",
     "text": [
      "Early stopping, best iteration is:\n",
      "[112]\ttraining's auc: 0.883932\tvalid_1's auc: 0.868684\n",
      "-\n",
      "Fold 2\n",
      "Training until validation scores don't improve for 25 rounds.\n"
     ]
    },
    {
     "name": "stderr",
     "output_type": "stream",
     "text": [
      "E:\\Anaconda\\envs\\ML\\lib\\site-packages\\lightgbm\\basic.py:742: UserWarning: categorical_feature in param dict is overridden.\n",
      "  warnings.warn('categorical_feature in param dict is overridden.')\n"
     ]
    },
    {
     "name": "stdout",
     "output_type": "stream",
     "text": [
      "Early stopping, best iteration is:\n",
      "[150]\ttraining's auc: 0.888799\tvalid_1's auc: 0.865801\n",
      "-\n",
      "Fold 3\n",
      "Training until validation scores don't improve for 25 rounds.\n"
     ]
    },
    {
     "name": "stderr",
     "output_type": "stream",
     "text": [
      "E:\\Anaconda\\envs\\ML\\lib\\site-packages\\lightgbm\\basic.py:742: UserWarning: categorical_feature in param dict is overridden.\n",
      "  warnings.warn('categorical_feature in param dict is overridden.')\n"
     ]
    },
    {
     "name": "stdout",
     "output_type": "stream",
     "text": [
      "Early stopping, best iteration is:\n",
      "[169]\ttraining's auc: 0.890048\tvalid_1's auc: 0.864347\n",
      "-\n",
      "Fold 4\n",
      "Training until validation scores don't improve for 25 rounds.\n"
     ]
    },
    {
     "name": "stderr",
     "output_type": "stream",
     "text": [
      "E:\\Anaconda\\envs\\ML\\lib\\site-packages\\lightgbm\\basic.py:742: UserWarning: categorical_feature in param dict is overridden.\n",
      "  warnings.warn('categorical_feature in param dict is overridden.')\n"
     ]
    },
    {
     "name": "stdout",
     "output_type": "stream",
     "text": [
      "Early stopping, best iteration is:\n",
      "[82]\ttraining's auc: 0.879033\tvalid_1's auc: 0.866511\n",
      "-\n",
      "Fold 5\n",
      "Training until validation scores don't improve for 25 rounds.\n"
     ]
    },
    {
     "name": "stderr",
     "output_type": "stream",
     "text": [
      "E:\\Anaconda\\envs\\ML\\lib\\site-packages\\lightgbm\\basic.py:742: UserWarning: categorical_feature in param dict is overridden.\n",
      "  warnings.warn('categorical_feature in param dict is overridden.')\n"
     ]
    },
    {
     "name": "stdout",
     "output_type": "stream",
     "text": [
      "Early stopping, best iteration is:\n",
      "[146]\ttraining's auc: 0.889313\tvalid_1's auc: 0.863533\n",
      "\n",
      "Avg Accuracy Train Set: 80.25057271612579\n",
      "Avg Accuracy Test Set: 78.62467386481781\n",
      "\n",
      "Avg Recall: 74.82462150255014\n",
      "Avg Precision: 80.98371889111588\n",
      "-\n",
      "Fold 1\n",
      "Training until validation scores don't improve for 25 rounds.\n",
      "Early stopping, best iteration is:\n",
      "[57]\ttraining's auc: 0.875296\tvalid_1's auc: 0.868302"
     ]
    },
    {
     "name": "stderr",
     "output_type": "stream",
     "text": [
      "E:\\Anaconda\\envs\\ML\\lib\\site-packages\\lightgbm\\basic.py:742: UserWarning: categorical_feature in param dict is overridden.\n",
      "  warnings.warn('categorical_feature in param dict is overridden.')\n",
      "E:\\Anaconda\\envs\\ML\\lib\\site-packages\\lightgbm\\basic.py:742: UserWarning: categorical_feature in param dict is overridden.\n",
      "  warnings.warn('categorical_feature in param dict is overridden.')\n"
     ]
    },
    {
     "name": "stdout",
     "output_type": "stream",
     "text": [
      "\n",
      "-\n",
      "Fold 2\n",
      "Training until validation scores don't improve for 25 rounds.\n",
      "Early stopping, best iteration is:\n",
      "[69]\ttraining's auc: 0.877762\tvalid_1's auc: 0.865857\n",
      "-\n",
      "Fold 3\n",
      "Training until validation scores don't improve for 25 rounds.\n"
     ]
    },
    {
     "name": "stderr",
     "output_type": "stream",
     "text": [
      "E:\\Anaconda\\envs\\ML\\lib\\site-packages\\lightgbm\\basic.py:742: UserWarning: categorical_feature in param dict is overridden.\n",
      "  warnings.warn('categorical_feature in param dict is overridden.')\n"
     ]
    },
    {
     "name": "stdout",
     "output_type": "stream",
     "text": [
      "Early stopping, best iteration is:\n",
      "[141]\ttraining's auc: 0.889085\tvalid_1's auc: 0.86433\n",
      "-\n",
      "Fold 4\n",
      "Training until validation scores don't improve for 25 rounds.\n"
     ]
    },
    {
     "name": "stderr",
     "output_type": "stream",
     "text": [
      "E:\\Anaconda\\envs\\ML\\lib\\site-packages\\lightgbm\\basic.py:742: UserWarning: categorical_feature in param dict is overridden.\n",
      "  warnings.warn('categorical_feature in param dict is overridden.')\n"
     ]
    },
    {
     "name": "stdout",
     "output_type": "stream",
     "text": [
      "Early stopping, best iteration is:\n",
      "[108]\ttraining's auc: 0.884549\tvalid_1's auc: 0.868058\n",
      "-\n",
      "Fold 5\n",
      "Training until validation scores don't improve for 25 rounds.\n"
     ]
    },
    {
     "name": "stderr",
     "output_type": "stream",
     "text": [
      "E:\\Anaconda\\envs\\ML\\lib\\site-packages\\lightgbm\\basic.py:742: UserWarning: categorical_feature in param dict is overridden.\n",
      "  warnings.warn('categorical_feature in param dict is overridden.')\n"
     ]
    },
    {
     "name": "stdout",
     "output_type": "stream",
     "text": [
      "Early stopping, best iteration is:\n",
      "[115]\ttraining's auc: 0.885966\tvalid_1's auc: 0.864845\n",
      "\n",
      "Avg Accuracy Train Set: 80.1100465129131\n",
      "Avg Accuracy Test Set: 78.71397889336978\n",
      "\n",
      "Avg Recall: 75.2266291143081\n",
      "Avg Precision: 80.86918354167372\n",
      "-\n",
      "Fold 1\n",
      "Training until validation scores don't improve for 25 rounds.\n",
      "Early stopping, best iteration is:\n",
      "[67]\ttraining's auc: 0.879021\tvalid_1's auc: 0.867376"
     ]
    },
    {
     "name": "stderr",
     "output_type": "stream",
     "text": [
      "E:\\Anaconda\\envs\\ML\\lib\\site-packages\\lightgbm\\basic.py:742: UserWarning: categorical_feature in param dict is overridden.\n",
      "  warnings.warn('categorical_feature in param dict is overridden.')\n",
      "E:\\Anaconda\\envs\\ML\\lib\\site-packages\\lightgbm\\basic.py:742: UserWarning: categorical_feature in param dict is overridden.\n",
      "  warnings.warn('categorical_feature in param dict is overridden.')\n"
     ]
    },
    {
     "name": "stdout",
     "output_type": "stream",
     "text": [
      "\n",
      "-\n",
      "Fold 2\n",
      "Training until validation scores don't improve for 25 rounds.\n",
      "Early stopping, best iteration is:\n",
      "[65]\ttraining's auc: 0.877967\tvalid_1's auc: 0.865308"
     ]
    },
    {
     "name": "stderr",
     "output_type": "stream",
     "text": [
      "E:\\Anaconda\\envs\\ML\\lib\\site-packages\\lightgbm\\basic.py:742: UserWarning: categorical_feature in param dict is overridden.\n",
      "  warnings.warn('categorical_feature in param dict is overridden.')\n"
     ]
    },
    {
     "name": "stdout",
     "output_type": "stream",
     "text": [
      "\n",
      "-\n",
      "Fold 3\n",
      "Training until validation scores don't improve for 25 rounds.\n",
      "Early stopping, best iteration is:\n",
      "[69]\ttraining's auc: 0.879214\tvalid_1's auc: 0.8625"
     ]
    },
    {
     "name": "stderr",
     "output_type": "stream",
     "text": [
      "E:\\Anaconda\\envs\\ML\\lib\\site-packages\\lightgbm\\basic.py:742: UserWarning: categorical_feature in param dict is overridden.\n",
      "  warnings.warn('categorical_feature in param dict is overridden.')\n"
     ]
    },
    {
     "name": "stdout",
     "output_type": "stream",
     "text": [
      "\n",
      "-\n",
      "Fold 4\n",
      "Training until validation scores don't improve for 25 rounds.\n",
      "Early stopping, best iteration is:\n",
      "[77]\ttraining's auc: 0.88104\tvalid_1's auc: 0.866182\n",
      "-\n",
      "Fold 5\n",
      "Training until validation scores don't improve for 25 rounds.\n"
     ]
    },
    {
     "name": "stderr",
     "output_type": "stream",
     "text": [
      "E:\\Anaconda\\envs\\ML\\lib\\site-packages\\lightgbm\\basic.py:742: UserWarning: categorical_feature in param dict is overridden.\n",
      "  warnings.warn('categorical_feature in param dict is overridden.')\n"
     ]
    },
    {
     "name": "stdout",
     "output_type": "stream",
     "text": [
      "Early stopping, best iteration is:\n",
      "[120]\ttraining's auc: 0.888995\tvalid_1's auc: 0.863281\n",
      "\n",
      "Avg Accuracy Train Set: 79.99448063736801\n",
      "Avg Accuracy Test Set: 78.6036668410469\n",
      "\n",
      "Avg Recall: 75.47622536717894\n",
      "Avg Precision: 80.51562149795022\n",
      "-\n",
      "Fold 1\n",
      "Training until validation scores don't improve for 25 rounds.\n",
      "Early stopping, best iteration is:\n",
      "[51]\ttraining's auc: 0.877634\tvalid_1's auc: 0.872162"
     ]
    },
    {
     "name": "stderr",
     "output_type": "stream",
     "text": [
      "E:\\Anaconda\\envs\\ML\\lib\\site-packages\\lightgbm\\basic.py:742: UserWarning: categorical_feature in param dict is overridden.\n",
      "  warnings.warn('categorical_feature in param dict is overridden.')\n",
      "E:\\Anaconda\\envs\\ML\\lib\\site-packages\\lightgbm\\basic.py:742: UserWarning: categorical_feature in param dict is overridden.\n",
      "  warnings.warn('categorical_feature in param dict is overridden.')\n"
     ]
    },
    {
     "name": "stdout",
     "output_type": "stream",
     "text": [
      "\n",
      "-\n",
      "Fold 2\n",
      "Training until validation scores don't improve for 25 rounds.\n",
      "Early stopping, best iteration is:\n",
      "[82]\ttraining's auc: 0.885668\tvalid_1's auc: 0.869166\n",
      "-\n",
      "Fold 3\n",
      "Training until validation scores don't improve for 25 rounds.\n"
     ]
    },
    {
     "name": "stderr",
     "output_type": "stream",
     "text": [
      "E:\\Anaconda\\envs\\ML\\lib\\site-packages\\lightgbm\\basic.py:742: UserWarning: categorical_feature in param dict is overridden.\n",
      "  warnings.warn('categorical_feature in param dict is overridden.')\n"
     ]
    },
    {
     "name": "stdout",
     "output_type": "stream",
     "text": [
      "Early stopping, best iteration is:\n",
      "[113]\ttraining's auc: 0.89132\tvalid_1's auc: 0.867782\n",
      "-\n",
      "Fold 4\n",
      "Training until validation scores don't improve for 25 rounds.\n"
     ]
    },
    {
     "name": "stderr",
     "output_type": "stream",
     "text": [
      "E:\\Anaconda\\envs\\ML\\lib\\site-packages\\lightgbm\\basic.py:742: UserWarning: categorical_feature in param dict is overridden.\n",
      "  warnings.warn('categorical_feature in param dict is overridden.')\n"
     ]
    },
    {
     "name": "stdout",
     "output_type": "stream",
     "text": [
      "Early stopping, best iteration is:\n",
      "[81]\ttraining's auc: 0.885144\tvalid_1's auc: 0.869623\n",
      "-\n",
      "Fold 5\n",
      "Training until validation scores don't improve for 25 rounds.\n"
     ]
    },
    {
     "name": "stderr",
     "output_type": "stream",
     "text": [
      "E:\\Anaconda\\envs\\ML\\lib\\site-packages\\lightgbm\\basic.py:742: UserWarning: categorical_feature in param dict is overridden.\n",
      "  warnings.warn('categorical_feature in param dict is overridden.')\n"
     ]
    },
    {
     "name": "stdout",
     "output_type": "stream",
     "text": [
      "Early stopping, best iteration is:\n",
      "[93]\ttraining's auc: 0.888007\tvalid_1's auc: 0.868154\n",
      "\n",
      "Avg Accuracy Train Set: 80.30309975870867\n",
      "Avg Accuracy Test Set: 78.82954994448527\n",
      "\n",
      "Avg Recall: 75.31825363930997\n",
      "Avg Precision: 81.01148616948191\n",
      "-\n",
      "Fold 1\n",
      "Training until validation scores don't improve for 25 rounds.\n"
     ]
    },
    {
     "name": "stderr",
     "output_type": "stream",
     "text": [
      "E:\\Anaconda\\envs\\ML\\lib\\site-packages\\lightgbm\\basic.py:742: UserWarning: categorical_feature in param dict is overridden.\n",
      "  warnings.warn('categorical_feature in param dict is overridden.')\n"
     ]
    },
    {
     "name": "stdout",
     "output_type": "stream",
     "text": [
      "Early stopping, best iteration is:\n",
      "[78]\ttraining's auc: 0.890742\tvalid_1's auc: 0.875714\n",
      "-\n",
      "Fold 2\n",
      "Training until validation scores don't improve for 25 rounds.\n"
     ]
    },
    {
     "name": "stderr",
     "output_type": "stream",
     "text": [
      "E:\\Anaconda\\envs\\ML\\lib\\site-packages\\lightgbm\\basic.py:742: UserWarning: categorical_feature in param dict is overridden.\n",
      "  warnings.warn('categorical_feature in param dict is overridden.')\n"
     ]
    },
    {
     "name": "stdout",
     "output_type": "stream",
     "text": [
      "Early stopping, best iteration is:\n",
      "[124]\ttraining's auc: 0.900206\tvalid_1's auc: 0.875301\n",
      "-\n",
      "Fold 3\n",
      "Training until validation scores don't improve for 25 rounds.\n"
     ]
    },
    {
     "name": "stderr",
     "output_type": "stream",
     "text": [
      "E:\\Anaconda\\envs\\ML\\lib\\site-packages\\lightgbm\\basic.py:742: UserWarning: categorical_feature in param dict is overridden.\n",
      "  warnings.warn('categorical_feature in param dict is overridden.')\n"
     ]
    },
    {
     "name": "stdout",
     "output_type": "stream",
     "text": [
      "Early stopping, best iteration is:\n",
      "[120]\ttraining's auc: 0.898144\tvalid_1's auc: 0.87417\n",
      "-\n",
      "Fold 4\n",
      "Training until validation scores don't improve for 25 rounds.\n"
     ]
    },
    {
     "name": "stderr",
     "output_type": "stream",
     "text": [
      "E:\\Anaconda\\envs\\ML\\lib\\site-packages\\lightgbm\\basic.py:742: UserWarning: categorical_feature in param dict is overridden.\n",
      "  warnings.warn('categorical_feature in param dict is overridden.')\n"
     ]
    },
    {
     "name": "stdout",
     "output_type": "stream",
     "text": [
      "Early stopping, best iteration is:\n",
      "[133]\ttraining's auc: 0.899806\tvalid_1's auc: 0.877625\n",
      "-\n",
      "Fold 5\n",
      "Training until validation scores don't improve for 25 rounds.\n"
     ]
    },
    {
     "name": "stderr",
     "output_type": "stream",
     "text": [
      "E:\\Anaconda\\envs\\ML\\lib\\site-packages\\lightgbm\\basic.py:742: UserWarning: categorical_feature in param dict is overridden.\n",
      "  warnings.warn('categorical_feature in param dict is overridden.')\n"
     ]
    },
    {
     "name": "stdout",
     "output_type": "stream",
     "text": [
      "Early stopping, best iteration is:\n",
      "[122]\ttraining's auc: 0.899536\tvalid_1's auc: 0.874994\n",
      "\n",
      "Avg Accuracy Train Set: 81.36818841149277\n",
      "Avg Accuracy Test Set: 79.32337572538866\n",
      "\n",
      "Avg Recall: 76.04619493050119\n",
      "Avg Precision: 81.38920700660776\n",
      "-\n",
      "Fold 1\n",
      "Training until validation scores don't improve for 25 rounds.\n"
     ]
    },
    {
     "name": "stderr",
     "output_type": "stream",
     "text": [
      "E:\\Anaconda\\envs\\ML\\lib\\site-packages\\lightgbm\\basic.py:742: UserWarning: categorical_feature in param dict is overridden.\n",
      "  warnings.warn('categorical_feature in param dict is overridden.')\n"
     ]
    },
    {
     "name": "stdout",
     "output_type": "stream",
     "text": [
      "Early stopping, best iteration is:\n",
      "[101]\ttraining's auc: 0.901161\tvalid_1's auc: 0.878627\n",
      "-\n",
      "Fold 2\n",
      "Training until validation scores don't improve for 25 rounds.\n"
     ]
    },
    {
     "name": "stderr",
     "output_type": "stream",
     "text": [
      "E:\\Anaconda\\envs\\ML\\lib\\site-packages\\lightgbm\\basic.py:742: UserWarning: categorical_feature in param dict is overridden.\n",
      "  warnings.warn('categorical_feature in param dict is overridden.')\n"
     ]
    },
    {
     "name": "stdout",
     "output_type": "stream",
     "text": [
      "Early stopping, best iteration is:\n",
      "[167]\ttraining's auc: 0.91309\tvalid_1's auc: 0.879857\n",
      "-\n",
      "Fold 3\n",
      "Training until validation scores don't improve for 25 rounds.\n"
     ]
    },
    {
     "name": "stderr",
     "output_type": "stream",
     "text": [
      "E:\\Anaconda\\envs\\ML\\lib\\site-packages\\lightgbm\\basic.py:742: UserWarning: categorical_feature in param dict is overridden.\n",
      "  warnings.warn('categorical_feature in param dict is overridden.')\n"
     ]
    },
    {
     "name": "stdout",
     "output_type": "stream",
     "text": [
      "Early stopping, best iteration is:\n",
      "[131]\ttraining's auc: 0.907336\tvalid_1's auc: 0.879244\n",
      "-\n",
      "Fold 4\n",
      "Training until validation scores don't improve for 25 rounds.\n"
     ]
    },
    {
     "name": "stderr",
     "output_type": "stream",
     "text": [
      "E:\\Anaconda\\envs\\ML\\lib\\site-packages\\lightgbm\\basic.py:742: UserWarning: categorical_feature in param dict is overridden.\n",
      "  warnings.warn('categorical_feature in param dict is overridden.')\n"
     ]
    },
    {
     "name": "stdout",
     "output_type": "stream",
     "text": [
      "[200]\ttraining's auc: 0.918382\tvalid_1's auc: 0.88264\n",
      "Early stopping, best iteration is:\n",
      "[181]\ttraining's auc: 0.91509\tvalid_1's auc: 0.883198\n",
      "-\n",
      "Fold 5\n",
      "Training until validation scores don't improve for 25 rounds.\n"
     ]
    },
    {
     "name": "stderr",
     "output_type": "stream",
     "text": [
      "E:\\Anaconda\\envs\\ML\\lib\\site-packages\\lightgbm\\basic.py:742: UserWarning: categorical_feature in param dict is overridden.\n",
      "  warnings.warn('categorical_feature in param dict is overridden.')\n"
     ]
    },
    {
     "name": "stdout",
     "output_type": "stream",
     "text": [
      "Early stopping, best iteration is:\n",
      "[140]\ttraining's auc: 0.909186\tvalid_1's auc: 0.880476\n",
      "\n",
      "Avg Accuracy Train Set: 82.63683537362348\n",
      "Avg Accuracy Test Set: 79.85922659055743\n",
      "\n",
      "Avg Recall: 77.04362205159379\n",
      "Avg Precision: 81.64303114332309\n",
      "-\n",
      "Fold 1\n",
      "Training until validation scores don't improve for 25 rounds.\n"
     ]
    },
    {
     "name": "stderr",
     "output_type": "stream",
     "text": [
      "E:\\Anaconda\\envs\\ML\\lib\\site-packages\\lightgbm\\basic.py:742: UserWarning: categorical_feature in param dict is overridden.\n",
      "  warnings.warn('categorical_feature in param dict is overridden.')\n"
     ]
    },
    {
     "name": "stdout",
     "output_type": "stream",
     "text": [
      "Early stopping, best iteration is:\n",
      "[110]\ttraining's auc: 0.90443\tvalid_1's auc: 0.878532\n",
      "-\n",
      "Fold 2\n",
      "Training until validation scores don't improve for 25 rounds.\n"
     ]
    },
    {
     "name": "stderr",
     "output_type": "stream",
     "text": [
      "E:\\Anaconda\\envs\\ML\\lib\\site-packages\\lightgbm\\basic.py:742: UserWarning: categorical_feature in param dict is overridden.\n",
      "  warnings.warn('categorical_feature in param dict is overridden.')\n"
     ]
    },
    {
     "name": "stdout",
     "output_type": "stream",
     "text": [
      "Early stopping, best iteration is:\n",
      "[116]\ttraining's auc: 0.904382\tvalid_1's auc: 0.880726\n",
      "-\n",
      "Fold 3\n",
      "Training until validation scores don't improve for 25 rounds.\n"
     ]
    },
    {
     "name": "stderr",
     "output_type": "stream",
     "text": [
      "E:\\Anaconda\\envs\\ML\\lib\\site-packages\\lightgbm\\basic.py:742: UserWarning: categorical_feature in param dict is overridden.\n",
      "  warnings.warn('categorical_feature in param dict is overridden.')\n"
     ]
    },
    {
     "name": "stdout",
     "output_type": "stream",
     "text": [
      "Early stopping, best iteration is:\n",
      "[121]\ttraining's auc: 0.906252\tvalid_1's auc: 0.878305\n",
      "-\n",
      "Fold 4\n",
      "Training until validation scores don't improve for 25 rounds.\n"
     ]
    },
    {
     "name": "stderr",
     "output_type": "stream",
     "text": [
      "E:\\Anaconda\\envs\\ML\\lib\\site-packages\\lightgbm\\basic.py:742: UserWarning: categorical_feature in param dict is overridden.\n",
      "  warnings.warn('categorical_feature in param dict is overridden.')\n"
     ]
    },
    {
     "name": "stdout",
     "output_type": "stream",
     "text": [
      "Early stopping, best iteration is:\n",
      "[130]\ttraining's auc: 0.906726\tvalid_1's auc: 0.884094\n",
      "-\n",
      "Fold 5\n",
      "Training until validation scores don't improve for 25 rounds.\n"
     ]
    },
    {
     "name": "stderr",
     "output_type": "stream",
     "text": [
      "E:\\Anaconda\\envs\\ML\\lib\\site-packages\\lightgbm\\basic.py:742: UserWarning: categorical_feature in param dict is overridden.\n",
      "  warnings.warn('categorical_feature in param dict is overridden.')\n"
     ]
    },
    {
     "name": "stdout",
     "output_type": "stream",
     "text": [
      "Early stopping, best iteration is:\n",
      "[146]\ttraining's auc: 0.910711\tvalid_1's auc: 0.879137\n",
      "\n",
      "Avg Accuracy Train Set: 82.38994352620651\n",
      "Avg Accuracy Test Set: 79.98528528826819\n",
      "\n",
      "Avg Recall: 76.90749155923807\n",
      "Avg Precision: 81.95603579056608\n",
      "-\n",
      "Fold 1\n",
      "Training until validation scores don't improve for 25 rounds.\n"
     ]
    },
    {
     "name": "stderr",
     "output_type": "stream",
     "text": [
      "E:\\Anaconda\\envs\\ML\\lib\\site-packages\\lightgbm\\basic.py:742: UserWarning: categorical_feature in param dict is overridden.\n",
      "  warnings.warn('categorical_feature in param dict is overridden.')\n"
     ]
    },
    {
     "name": "stdout",
     "output_type": "stream",
     "text": [
      "Early stopping, best iteration is:\n",
      "[90]\ttraining's auc: 0.901702\tvalid_1's auc: 0.8804\n",
      "-\n",
      "Fold 2\n",
      "Training until validation scores don't improve for 25 rounds.\n"
     ]
    },
    {
     "name": "stderr",
     "output_type": "stream",
     "text": [
      "E:\\Anaconda\\envs\\ML\\lib\\site-packages\\lightgbm\\basic.py:742: UserWarning: categorical_feature in param dict is overridden.\n",
      "  warnings.warn('categorical_feature in param dict is overridden.')\n"
     ]
    },
    {
     "name": "stdout",
     "output_type": "stream",
     "text": [
      "Early stopping, best iteration is:\n",
      "[146]\ttraining's auc: 0.913759\tvalid_1's auc: 0.883298\n",
      "-\n",
      "Fold 3\n",
      "Training until validation scores don't improve for 25 rounds.\n"
     ]
    },
    {
     "name": "stderr",
     "output_type": "stream",
     "text": [
      "E:\\Anaconda\\envs\\ML\\lib\\site-packages\\lightgbm\\basic.py:742: UserWarning: categorical_feature in param dict is overridden.\n",
      "  warnings.warn('categorical_feature in param dict is overridden.')\n"
     ]
    },
    {
     "name": "stdout",
     "output_type": "stream",
     "text": [
      "Early stopping, best iteration is:\n",
      "[102]\ttraining's auc: 0.904763\tvalid_1's auc: 0.87902\n",
      "-\n",
      "Fold 4\n",
      "Training until validation scores don't improve for 25 rounds.\n"
     ]
    },
    {
     "name": "stderr",
     "output_type": "stream",
     "text": [
      "E:\\Anaconda\\envs\\ML\\lib\\site-packages\\lightgbm\\basic.py:742: UserWarning: categorical_feature in param dict is overridden.\n",
      "  warnings.warn('categorical_feature in param dict is overridden.')\n"
     ]
    },
    {
     "name": "stdout",
     "output_type": "stream",
     "text": [
      "Early stopping, best iteration is:\n",
      "[138]\ttraining's auc: 0.912262\tvalid_1's auc: 0.886541\n",
      "-\n",
      "Fold 5\n",
      "Training until validation scores don't improve for 25 rounds.\n"
     ]
    },
    {
     "name": "stderr",
     "output_type": "stream",
     "text": [
      "E:\\Anaconda\\envs\\ML\\lib\\site-packages\\lightgbm\\basic.py:742: UserWarning: categorical_feature in param dict is overridden.\n",
      "  warnings.warn('categorical_feature in param dict is overridden.')\n"
     ]
    },
    {
     "name": "stdout",
     "output_type": "stream",
     "text": [
      "Early stopping, best iteration is:\n",
      "[147]\ttraining's auc: 0.913909\tvalid_1's auc: 0.881273\n",
      "\n",
      "Avg Accuracy Train Set: 82.68411661125916\n",
      "Avg Accuracy Test Set: 79.95378371994975\n",
      "\n",
      "Avg Recall: 77.07412820958169\n",
      "Avg Precision: 81.78580080814403\n",
      "-\n",
      "Fold 1\n",
      "Training until validation scores don't improve for 25 rounds.\n"
     ]
    },
    {
     "name": "stderr",
     "output_type": "stream",
     "text": [
      "E:\\Anaconda\\envs\\ML\\lib\\site-packages\\lightgbm\\basic.py:742: UserWarning: categorical_feature in param dict is overridden.\n",
      "  warnings.warn('categorical_feature in param dict is overridden.')\n"
     ]
    },
    {
     "name": "stdout",
     "output_type": "stream",
     "text": [
      "Early stopping, best iteration is:\n",
      "[126]\ttraining's auc: 0.911832\tvalid_1's auc: 0.880211\n",
      "-\n",
      "Fold 2\n",
      "Training until validation scores don't improve for 25 rounds.\n"
     ]
    },
    {
     "name": "stderr",
     "output_type": "stream",
     "text": [
      "E:\\Anaconda\\envs\\ML\\lib\\site-packages\\lightgbm\\basic.py:742: UserWarning: categorical_feature in param dict is overridden.\n",
      "  warnings.warn('categorical_feature in param dict is overridden.')\n"
     ]
    },
    {
     "name": "stdout",
     "output_type": "stream",
     "text": [
      "Early stopping, best iteration is:\n",
      "[117]\ttraining's auc: 0.908735\tvalid_1's auc: 0.88513\n",
      "-\n",
      "Fold 3\n",
      "Training until validation scores don't improve for 25 rounds.\n"
     ]
    },
    {
     "name": "stderr",
     "output_type": "stream",
     "text": [
      "E:\\Anaconda\\envs\\ML\\lib\\site-packages\\lightgbm\\basic.py:742: UserWarning: categorical_feature in param dict is overridden.\n",
      "  warnings.warn('categorical_feature in param dict is overridden.')\n"
     ]
    },
    {
     "name": "stdout",
     "output_type": "stream",
     "text": [
      "Early stopping, best iteration is:\n",
      "[155]\ttraining's auc: 0.917537\tvalid_1's auc: 0.881724\n",
      "-\n",
      "Fold 4\n",
      "Training until validation scores don't improve for 25 rounds.\n"
     ]
    },
    {
     "name": "stderr",
     "output_type": "stream",
     "text": [
      "E:\\Anaconda\\envs\\ML\\lib\\site-packages\\lightgbm\\basic.py:742: UserWarning: categorical_feature in param dict is overridden.\n",
      "  warnings.warn('categorical_feature in param dict is overridden.')\n"
     ]
    },
    {
     "name": "stdout",
     "output_type": "stream",
     "text": [
      "Early stopping, best iteration is:\n",
      "[165]\ttraining's auc: 0.918375\tvalid_1's auc: 0.888907\n",
      "-\n",
      "Fold 5\n",
      "Training until validation scores don't improve for 25 rounds.\n"
     ]
    },
    {
     "name": "stderr",
     "output_type": "stream",
     "text": [
      "E:\\Anaconda\\envs\\ML\\lib\\site-packages\\lightgbm\\basic.py:742: UserWarning: categorical_feature in param dict is overridden.\n",
      "  warnings.warn('categorical_feature in param dict is overridden.')\n"
     ]
    },
    {
     "name": "stdout",
     "output_type": "stream",
     "text": [
      "[200]\ttraining's auc: 0.924354\tvalid_1's auc: 0.883798\n",
      "Early stopping, best iteration is:\n",
      "[190]\ttraining's auc: 0.922852\tvalid_1's auc: 0.884017\n",
      "\n",
      "Avg Accuracy Train Set: 83.42350888164702\n",
      "Avg Accuracy Test Set: 80.38979362430553\n",
      "\n",
      "Avg Recall: 78.32648068469013\n",
      "Avg Precision: 81.7045912879736\n",
      "-\n",
      "Fold 1\n",
      "Training until validation scores don't improve for 25 rounds.\n"
     ]
    },
    {
     "name": "stderr",
     "output_type": "stream",
     "text": [
      "E:\\Anaconda\\envs\\ML\\lib\\site-packages\\lightgbm\\basic.py:742: UserWarning: categorical_feature in param dict is overridden.\n",
      "  warnings.warn('categorical_feature in param dict is overridden.')\n"
     ]
    },
    {
     "name": "stdout",
     "output_type": "stream",
     "text": [
      "Early stopping, best iteration is:\n",
      "[93]\ttraining's auc: 0.904871\tvalid_1's auc: 0.880532\n",
      "-\n",
      "Fold 2\n",
      "Training until validation scores don't improve for 25 rounds.\n"
     ]
    },
    {
     "name": "stderr",
     "output_type": "stream",
     "text": [
      "E:\\Anaconda\\envs\\ML\\lib\\site-packages\\lightgbm\\basic.py:742: UserWarning: categorical_feature in param dict is overridden.\n",
      "  warnings.warn('categorical_feature in param dict is overridden.')\n"
     ]
    },
    {
     "name": "stdout",
     "output_type": "stream",
     "text": [
      "Early stopping, best iteration is:\n",
      "[160]\ttraining's auc: 0.918224\tvalid_1's auc: 0.884522\n",
      "-\n",
      "Fold 3\n",
      "Training until validation scores don't improve for 25 rounds.\n"
     ]
    },
    {
     "name": "stderr",
     "output_type": "stream",
     "text": [
      "E:\\Anaconda\\envs\\ML\\lib\\site-packages\\lightgbm\\basic.py:742: UserWarning: categorical_feature in param dict is overridden.\n",
      "  warnings.warn('categorical_feature in param dict is overridden.')\n"
     ]
    },
    {
     "name": "stdout",
     "output_type": "stream",
     "text": [
      "Early stopping, best iteration is:\n",
      "[162]\ttraining's auc: 0.918978\tvalid_1's auc: 0.881197\n",
      "-\n",
      "Fold 4\n",
      "Training until validation scores don't improve for 25 rounds.\n"
     ]
    },
    {
     "name": "stderr",
     "output_type": "stream",
     "text": [
      "E:\\Anaconda\\envs\\ML\\lib\\site-packages\\lightgbm\\basic.py:742: UserWarning: categorical_feature in param dict is overridden.\n",
      "  warnings.warn('categorical_feature in param dict is overridden.')\n"
     ]
    },
    {
     "name": "stdout",
     "output_type": "stream",
     "text": [
      "Early stopping, best iteration is:\n",
      "[115]\ttraining's auc: 0.908596\tvalid_1's auc: 0.888934\n",
      "-\n",
      "Fold 5\n",
      "Training until validation scores don't improve for 25 rounds.\n"
     ]
    },
    {
     "name": "stderr",
     "output_type": "stream",
     "text": [
      "E:\\Anaconda\\envs\\ML\\lib\\site-packages\\lightgbm\\basic.py:742: UserWarning: categorical_feature in param dict is overridden.\n",
      "  warnings.warn('categorical_feature in param dict is overridden.')\n"
     ]
    },
    {
     "name": "stdout",
     "output_type": "stream",
     "text": [
      "Early stopping, best iteration is:\n",
      "[137]\ttraining's auc: 0.914412\tvalid_1's auc: 0.884888\n",
      "\n",
      "Avg Accuracy Train Set: 83.059720195334\n",
      "Avg Accuracy Test Set: 80.1954217463187\n",
      "\n",
      "Avg Recall: 77.92629716747385\n",
      "Avg Precision: 81.63452472044744\n",
      "-\n",
      "Fold 1\n",
      "Training until validation scores don't improve for 25 rounds.\n"
     ]
    },
    {
     "name": "stderr",
     "output_type": "stream",
     "text": [
      "E:\\Anaconda\\envs\\ML\\lib\\site-packages\\lightgbm\\basic.py:742: UserWarning: categorical_feature in param dict is overridden.\n",
      "  warnings.warn('categorical_feature in param dict is overridden.')\n"
     ]
    },
    {
     "name": "stdout",
     "output_type": "stream",
     "text": [
      "Early stopping, best iteration is:\n",
      "[107]\ttraining's auc: 0.909319\tvalid_1's auc: 0.880686\n",
      "-\n",
      "Fold 2\n",
      "Training until validation scores don't improve for 25 rounds.\n"
     ]
    },
    {
     "name": "stderr",
     "output_type": "stream",
     "text": [
      "E:\\Anaconda\\envs\\ML\\lib\\site-packages\\lightgbm\\basic.py:742: UserWarning: categorical_feature in param dict is overridden.\n",
      "  warnings.warn('categorical_feature in param dict is overridden.')\n"
     ]
    },
    {
     "name": "stdout",
     "output_type": "stream",
     "text": [
      "Early stopping, best iteration is:\n",
      "[124]\ttraining's auc: 0.912033\tvalid_1's auc: 0.884592\n",
      "-\n",
      "Fold 3\n",
      "Training until validation scores don't improve for 25 rounds.\n"
     ]
    },
    {
     "name": "stderr",
     "output_type": "stream",
     "text": [
      "E:\\Anaconda\\envs\\ML\\lib\\site-packages\\lightgbm\\basic.py:742: UserWarning: categorical_feature in param dict is overridden.\n",
      "  warnings.warn('categorical_feature in param dict is overridden.')\n"
     ]
    },
    {
     "name": "stdout",
     "output_type": "stream",
     "text": [
      "[200]\ttraining's auc: 0.927461\tvalid_1's auc: 0.880819\n",
      "Early stopping, best iteration is:\n",
      "[175]\ttraining's auc: 0.922788\tvalid_1's auc: 0.881153\n",
      "-\n",
      "Fold 4\n",
      "Training until validation scores don't improve for 25 rounds.\n"
     ]
    },
    {
     "name": "stderr",
     "output_type": "stream",
     "text": [
      "E:\\Anaconda\\envs\\ML\\lib\\site-packages\\lightgbm\\basic.py:742: UserWarning: categorical_feature in param dict is overridden.\n",
      "  warnings.warn('categorical_feature in param dict is overridden.')\n"
     ]
    },
    {
     "name": "stdout",
     "output_type": "stream",
     "text": [
      "Early stopping, best iteration is:\n",
      "[117]\ttraining's auc: 0.910443\tvalid_1's auc: 0.887477\n",
      "-\n",
      "Fold 5\n",
      "Training until validation scores don't improve for 25 rounds.\n"
     ]
    },
    {
     "name": "stderr",
     "output_type": "stream",
     "text": [
      "E:\\Anaconda\\envs\\ML\\lib\\site-packages\\lightgbm\\basic.py:742: UserWarning: categorical_feature in param dict is overridden.\n",
      "  warnings.warn('categorical_feature in param dict is overridden.')\n"
     ]
    },
    {
     "name": "stdout",
     "output_type": "stream",
     "text": [
      "Early stopping, best iteration is:\n",
      "[113]\ttraining's auc: 0.909988\tvalid_1's auc: 0.885009\n",
      "\n",
      "Avg Accuracy Train Set: 83.00981859934568\n",
      "Avg Accuracy Test Set: 80.11138261451154\n",
      "\n",
      "Avg Recall: 77.79187304503661\n",
      "Avg Precision: 81.58170540357989\n",
      "-\n",
      "Fold 1\n",
      "Training until validation scores don't improve for 25 rounds.\n"
     ]
    },
    {
     "name": "stderr",
     "output_type": "stream",
     "text": [
      "E:\\Anaconda\\envs\\ML\\lib\\site-packages\\lightgbm\\basic.py:742: UserWarning: categorical_feature in param dict is overridden.\n",
      "  warnings.warn('categorical_feature in param dict is overridden.')\n"
     ]
    },
    {
     "name": "stdout",
     "output_type": "stream",
     "text": [
      "Early stopping, best iteration is:\n",
      "[75]\ttraining's auc: 0.908831\tvalid_1's auc: 0.873942\n",
      "-\n",
      "Fold 2\n",
      "Training until validation scores don't improve for 25 rounds.\n"
     ]
    },
    {
     "name": "stderr",
     "output_type": "stream",
     "text": [
      "E:\\Anaconda\\envs\\ML\\lib\\site-packages\\lightgbm\\basic.py:742: UserWarning: categorical_feature in param dict is overridden.\n",
      "  warnings.warn('categorical_feature in param dict is overridden.')\n"
     ]
    },
    {
     "name": "stdout",
     "output_type": "stream",
     "text": [
      "Early stopping, best iteration is:\n",
      "[82]\ttraining's auc: 0.90865\tvalid_1's auc: 0.880588\n",
      "-\n",
      "Fold 3\n",
      "Training until validation scores don't improve for 25 rounds.\n"
     ]
    },
    {
     "name": "stderr",
     "output_type": "stream",
     "text": [
      "E:\\Anaconda\\envs\\ML\\lib\\site-packages\\lightgbm\\basic.py:742: UserWarning: categorical_feature in param dict is overridden.\n",
      "  warnings.warn('categorical_feature in param dict is overridden.')\n"
     ]
    },
    {
     "name": "stdout",
     "output_type": "stream",
     "text": [
      "Early stopping, best iteration is:\n",
      "[97]\ttraining's auc: 0.913609\tvalid_1's auc: 0.875549\n",
      "-\n",
      "Fold 4\n",
      "Training until validation scores don't improve for 25 rounds.\n"
     ]
    },
    {
     "name": "stderr",
     "output_type": "stream",
     "text": [
      "E:\\Anaconda\\envs\\ML\\lib\\site-packages\\lightgbm\\basic.py:742: UserWarning: categorical_feature in param dict is overridden.\n",
      "  warnings.warn('categorical_feature in param dict is overridden.')\n"
     ]
    },
    {
     "name": "stdout",
     "output_type": "stream",
     "text": [
      "Early stopping, best iteration is:\n",
      "[82]\ttraining's auc: 0.909221\tvalid_1's auc: 0.879134\n",
      "-\n",
      "Fold 5\n",
      "Training until validation scores don't improve for 25 rounds.\n"
     ]
    },
    {
     "name": "stderr",
     "output_type": "stream",
     "text": [
      "E:\\Anaconda\\envs\\ML\\lib\\site-packages\\lightgbm\\basic.py:742: UserWarning: categorical_feature in param dict is overridden.\n",
      "  warnings.warn('categorical_feature in param dict is overridden.')\n"
     ]
    },
    {
     "name": "stdout",
     "output_type": "stream",
     "text": [
      "Early stopping, best iteration is:\n",
      "[99]\ttraining's auc: 0.914219\tvalid_1's auc: 0.879518\n",
      "\n",
      "Avg Accuracy Train Set: 82.86404529756496\n",
      "Avg Accuracy Test Set: 79.75414732480857\n",
      "\n",
      "Avg Recall: 77.4071205722864\n",
      "Avg Precision: 81.21324749359601\n",
      "-\n",
      "Fold 1\n",
      "Training until validation scores don't improve for 25 rounds.\n"
     ]
    },
    {
     "name": "stderr",
     "output_type": "stream",
     "text": [
      "E:\\Anaconda\\envs\\ML\\lib\\site-packages\\lightgbm\\basic.py:742: UserWarning: categorical_feature in param dict is overridden.\n",
      "  warnings.warn('categorical_feature in param dict is overridden.')\n"
     ]
    },
    {
     "name": "stdout",
     "output_type": "stream",
     "text": [
      "Early stopping, best iteration is:\n",
      "[52]\ttraining's auc: 0.900582\tvalid_1's auc: 0.87486\n",
      "-\n",
      "Fold 2\n",
      "Training until validation scores don't improve for 25 rounds.\n"
     ]
    },
    {
     "name": "stderr",
     "output_type": "stream",
     "text": [
      "E:\\Anaconda\\envs\\ML\\lib\\site-packages\\lightgbm\\basic.py:742: UserWarning: categorical_feature in param dict is overridden.\n",
      "  warnings.warn('categorical_feature in param dict is overridden.')\n"
     ]
    },
    {
     "name": "stdout",
     "output_type": "stream",
     "text": [
      "Early stopping, best iteration is:\n",
      "[114]\ttraining's auc: 0.917357\tvalid_1's auc: 0.879478\n",
      "-\n",
      "Fold 3\n",
      "Training until validation scores don't improve for 25 rounds.\n"
     ]
    },
    {
     "name": "stderr",
     "output_type": "stream",
     "text": [
      "E:\\Anaconda\\envs\\ML\\lib\\site-packages\\lightgbm\\basic.py:742: UserWarning: categorical_feature in param dict is overridden.\n",
      "  warnings.warn('categorical_feature in param dict is overridden.')\n"
     ]
    },
    {
     "name": "stdout",
     "output_type": "stream",
     "text": [
      "Early stopping, best iteration is:\n",
      "[73]\ttraining's auc: 0.908622\tvalid_1's auc: 0.875112\n",
      "-\n",
      "Fold 4\n",
      "Training until validation scores don't improve for 25 rounds.\n"
     ]
    },
    {
     "name": "stderr",
     "output_type": "stream",
     "text": [
      "E:\\Anaconda\\envs\\ML\\lib\\site-packages\\lightgbm\\basic.py:742: UserWarning: categorical_feature in param dict is overridden.\n",
      "  warnings.warn('categorical_feature in param dict is overridden.')\n"
     ]
    },
    {
     "name": "stdout",
     "output_type": "stream",
     "text": [
      "Early stopping, best iteration is:\n",
      "[98]\ttraining's auc: 0.914025\tvalid_1's auc: 0.879139\n",
      "-\n",
      "Fold 5\n",
      "Training until validation scores don't improve for 25 rounds.\n"
     ]
    },
    {
     "name": "stderr",
     "output_type": "stream",
     "text": [
      "E:\\Anaconda\\envs\\ML\\lib\\site-packages\\lightgbm\\basic.py:742: UserWarning: categorical_feature in param dict is overridden.\n",
      "  warnings.warn('categorical_feature in param dict is overridden.')\n"
     ]
    },
    {
     "name": "stdout",
     "output_type": "stream",
     "text": [
      "Early stopping, best iteration is:\n",
      "[77]\ttraining's auc: 0.909277\tvalid_1's auc: 0.879094\n",
      "\n",
      "Avg Accuracy Train Set: 82.74189558192784\n",
      "Avg Accuracy Test Set: 79.45997449413179\n",
      "\n",
      "Avg Recall: 77.04921374890817\n",
      "Avg Precision: 80.94616105205291\n",
      "-\n",
      "Fold 1\n",
      "Training until validation scores don't improve for 25 rounds.\n"
     ]
    },
    {
     "name": "stderr",
     "output_type": "stream",
     "text": [
      "E:\\Anaconda\\envs\\ML\\lib\\site-packages\\lightgbm\\basic.py:742: UserWarning: categorical_feature in param dict is overridden.\n",
      "  warnings.warn('categorical_feature in param dict is overridden.')\n"
     ]
    },
    {
     "name": "stdout",
     "output_type": "stream",
     "text": [
      "Early stopping, best iteration is:\n",
      "[55]\ttraining's auc: 0.902515\tvalid_1's auc: 0.873617\n",
      "-\n",
      "Fold 2\n",
      "Training until validation scores don't improve for 25 rounds.\n"
     ]
    },
    {
     "name": "stderr",
     "output_type": "stream",
     "text": [
      "E:\\Anaconda\\envs\\ML\\lib\\site-packages\\lightgbm\\basic.py:742: UserWarning: categorical_feature in param dict is overridden.\n",
      "  warnings.warn('categorical_feature in param dict is overridden.')\n"
     ]
    },
    {
     "name": "stdout",
     "output_type": "stream",
     "text": [
      "Early stopping, best iteration is:\n",
      "[96]\ttraining's auc: 0.915432\tvalid_1's auc: 0.879998\n",
      "-\n",
      "Fold 3\n",
      "Training until validation scores don't improve for 25 rounds.\n"
     ]
    },
    {
     "name": "stderr",
     "output_type": "stream",
     "text": [
      "E:\\Anaconda\\envs\\ML\\lib\\site-packages\\lightgbm\\basic.py:742: UserWarning: categorical_feature in param dict is overridden.\n",
      "  warnings.warn('categorical_feature in param dict is overridden.')\n"
     ]
    },
    {
     "name": "stdout",
     "output_type": "stream",
     "text": [
      "Early stopping, best iteration is:\n",
      "[98]\ttraining's auc: 0.91711\tvalid_1's auc: 0.875788\n",
      "-\n",
      "Fold 4\n",
      "Training until validation scores don't improve for 25 rounds.\n"
     ]
    },
    {
     "name": "stderr",
     "output_type": "stream",
     "text": [
      "E:\\Anaconda\\envs\\ML\\lib\\site-packages\\lightgbm\\basic.py:742: UserWarning: categorical_feature in param dict is overridden.\n",
      "  warnings.warn('categorical_feature in param dict is overridden.')\n"
     ]
    },
    {
     "name": "stdout",
     "output_type": "stream",
     "text": [
      "Early stopping, best iteration is:\n",
      "[108]\ttraining's auc: 0.919938\tvalid_1's auc: 0.877953\n",
      "-\n",
      "Fold 5\n",
      "Training until validation scores don't improve for 25 rounds.\n"
     ]
    },
    {
     "name": "stderr",
     "output_type": "stream",
     "text": [
      "E:\\Anaconda\\envs\\ML\\lib\\site-packages\\lightgbm\\basic.py:742: UserWarning: categorical_feature in param dict is overridden.\n",
      "  warnings.warn('categorical_feature in param dict is overridden.')\n"
     ]
    },
    {
     "name": "stdout",
     "output_type": "stream",
     "text": [
      "Early stopping, best iteration is:\n",
      "[103]\ttraining's auc: 0.917477\tvalid_1's auc: 0.878548\n",
      "\n",
      "Avg Accuracy Train Set: 83.11355603723095\n",
      "Avg Accuracy Test Set: 79.58081420117298\n",
      "\n",
      "Avg Recall: 77.34557087602397\n",
      "Avg Precision: 80.96072920809479\n",
      "-\n",
      "Fold 1\n",
      "Training until validation scores don't improve for 25 rounds.\n"
     ]
    },
    {
     "name": "stderr",
     "output_type": "stream",
     "text": [
      "E:\\Anaconda\\envs\\ML\\lib\\site-packages\\lightgbm\\basic.py:742: UserWarning: categorical_feature in param dict is overridden.\n",
      "  warnings.warn('categorical_feature in param dict is overridden.')\n"
     ]
    },
    {
     "name": "stdout",
     "output_type": "stream",
     "text": [
      "Early stopping, best iteration is:\n",
      "[91]\ttraining's auc: 0.916711\tvalid_1's auc: 0.87337\n",
      "-\n",
      "Fold 2\n",
      "Training until validation scores don't improve for 25 rounds.\n"
     ]
    },
    {
     "name": "stderr",
     "output_type": "stream",
     "text": [
      "E:\\Anaconda\\envs\\ML\\lib\\site-packages\\lightgbm\\basic.py:742: UserWarning: categorical_feature in param dict is overridden.\n",
      "  warnings.warn('categorical_feature in param dict is overridden.')\n"
     ]
    },
    {
     "name": "stdout",
     "output_type": "stream",
     "text": [
      "Early stopping, best iteration is:\n",
      "[140]\ttraining's auc: 0.927306\tvalid_1's auc: 0.879673\n",
      "-\n",
      "Fold 3\n",
      "Training until validation scores don't improve for 25 rounds.\n"
     ]
    },
    {
     "name": "stderr",
     "output_type": "stream",
     "text": [
      "E:\\Anaconda\\envs\\ML\\lib\\site-packages\\lightgbm\\basic.py:742: UserWarning: categorical_feature in param dict is overridden.\n",
      "  warnings.warn('categorical_feature in param dict is overridden.')\n"
     ]
    },
    {
     "name": "stdout",
     "output_type": "stream",
     "text": [
      "Early stopping, best iteration is:\n",
      "[82]\ttraining's auc: 0.91314\tvalid_1's auc: 0.874119\n",
      "-\n",
      "Fold 4\n",
      "Training until validation scores don't improve for 25 rounds.\n"
     ]
    },
    {
     "name": "stderr",
     "output_type": "stream",
     "text": [
      "E:\\Anaconda\\envs\\ML\\lib\\site-packages\\lightgbm\\basic.py:742: UserWarning: categorical_feature in param dict is overridden.\n",
      "  warnings.warn('categorical_feature in param dict is overridden.')\n"
     ]
    },
    {
     "name": "stdout",
     "output_type": "stream",
     "text": [
      "Early stopping, best iteration is:\n",
      "[51]\ttraining's auc: 0.900174\tvalid_1's auc: 0.877516\n",
      "-\n",
      "Fold 5\n",
      "Training until validation scores don't improve for 25 rounds.\n"
     ]
    },
    {
     "name": "stderr",
     "output_type": "stream",
     "text": [
      "E:\\Anaconda\\envs\\ML\\lib\\site-packages\\lightgbm\\basic.py:742: UserWarning: categorical_feature in param dict is overridden.\n",
      "  warnings.warn('categorical_feature in param dict is overridden.')\n"
     ]
    },
    {
     "name": "stdout",
     "output_type": "stream",
     "text": [
      "Early stopping, best iteration is:\n",
      "[55]\ttraining's auc: 0.901799\tvalid_1's auc: 0.877846\n",
      "\n",
      "Avg Accuracy Train Set: 82.82728335330943\n",
      "Avg Accuracy Test Set: 79.49674471837594\n",
      "\n",
      "Avg Recall: 77.04975816136398\n",
      "Avg Precision: 81.00725687433751\n",
      "-\n",
      "Fold 1\n",
      "Training until validation scores don't improve for 25 rounds.\n"
     ]
    },
    {
     "name": "stderr",
     "output_type": "stream",
     "text": [
      "E:\\Anaconda\\envs\\ML\\lib\\site-packages\\lightgbm\\basic.py:742: UserWarning: categorical_feature in param dict is overridden.\n",
      "  warnings.warn('categorical_feature in param dict is overridden.')\n"
     ]
    },
    {
     "name": "stdout",
     "output_type": "stream",
     "text": [
      "Early stopping, best iteration is:\n",
      "[65]\ttraining's auc: 0.906645\tvalid_1's auc: 0.874208\n",
      "-\n",
      "Fold 2\n",
      "Training until validation scores don't improve for 25 rounds.\n"
     ]
    },
    {
     "name": "stderr",
     "output_type": "stream",
     "text": [
      "E:\\Anaconda\\envs\\ML\\lib\\site-packages\\lightgbm\\basic.py:742: UserWarning: categorical_feature in param dict is overridden.\n",
      "  warnings.warn('categorical_feature in param dict is overridden.')\n"
     ]
    },
    {
     "name": "stdout",
     "output_type": "stream",
     "text": [
      "Early stopping, best iteration is:\n",
      "[124]\ttraining's auc: 0.923343\tvalid_1's auc: 0.878543\n",
      "-\n",
      "Fold 3\n",
      "Training until validation scores don't improve for 25 rounds.\n"
     ]
    },
    {
     "name": "stderr",
     "output_type": "stream",
     "text": [
      "E:\\Anaconda\\envs\\ML\\lib\\site-packages\\lightgbm\\basic.py:742: UserWarning: categorical_feature in param dict is overridden.\n",
      "  warnings.warn('categorical_feature in param dict is overridden.')\n"
     ]
    },
    {
     "name": "stdout",
     "output_type": "stream",
     "text": [
      "Early stopping, best iteration is:\n",
      "[65]\ttraining's auc: 0.907414\tvalid_1's auc: 0.876345\n",
      "-\n",
      "Fold 4\n",
      "Training until validation scores don't improve for 25 rounds.\n"
     ]
    },
    {
     "name": "stderr",
     "output_type": "stream",
     "text": [
      "E:\\Anaconda\\envs\\ML\\lib\\site-packages\\lightgbm\\basic.py:742: UserWarning: categorical_feature in param dict is overridden.\n",
      "  warnings.warn('categorical_feature in param dict is overridden.')\n"
     ]
    },
    {
     "name": "stdout",
     "output_type": "stream",
     "text": [
      "Early stopping, best iteration is:\n",
      "[136]\ttraining's auc: 0.926773\tvalid_1's auc: 0.878078\n",
      "-\n",
      "Fold 5\n",
      "Training until validation scores don't improve for 25 rounds.\n"
     ]
    },
    {
     "name": "stderr",
     "output_type": "stream",
     "text": [
      "E:\\Anaconda\\envs\\ML\\lib\\site-packages\\lightgbm\\basic.py:742: UserWarning: categorical_feature in param dict is overridden.\n",
      "  warnings.warn('categorical_feature in param dict is overridden.')\n"
     ]
    },
    {
     "name": "stdout",
     "output_type": "stream",
     "text": [
      "Early stopping, best iteration is:\n",
      "[105]\ttraining's auc: 0.918585\tvalid_1's auc: 0.879901\n",
      "\n",
      "Avg Accuracy Train Set: 83.30004915931636\n",
      "Avg Accuracy Test Set: 79.47575149050951\n",
      "\n",
      "Avg Recall: 77.22122455638942\n",
      "Avg Precision: 80.86698395473698\n",
      "-\n",
      "Fold 1\n",
      "Training until validation scores don't improve for 25 rounds.\n"
     ]
    },
    {
     "name": "stderr",
     "output_type": "stream",
     "text": [
      "E:\\Anaconda\\envs\\ML\\lib\\site-packages\\lightgbm\\basic.py:742: UserWarning: categorical_feature in param dict is overridden.\n",
      "  warnings.warn('categorical_feature in param dict is overridden.')\n"
     ]
    },
    {
     "name": "stdout",
     "output_type": "stream",
     "text": [
      "Early stopping, best iteration is:\n",
      "[66]\ttraining's auc: 0.907691\tvalid_1's auc: 0.874897\n",
      "-\n",
      "Fold 2\n",
      "Training until validation scores don't improve for 25 rounds.\n"
     ]
    },
    {
     "name": "stderr",
     "output_type": "stream",
     "text": [
      "E:\\Anaconda\\envs\\ML\\lib\\site-packages\\lightgbm\\basic.py:742: UserWarning: categorical_feature in param dict is overridden.\n",
      "  warnings.warn('categorical_feature in param dict is overridden.')\n"
     ]
    },
    {
     "name": "stdout",
     "output_type": "stream",
     "text": [
      "Early stopping, best iteration is:\n",
      "[126]\ttraining's auc: 0.923588\tvalid_1's auc: 0.88112\n",
      "-\n",
      "Fold 3\n",
      "Training until validation scores don't improve for 25 rounds.\n"
     ]
    },
    {
     "name": "stderr",
     "output_type": "stream",
     "text": [
      "E:\\Anaconda\\envs\\ML\\lib\\site-packages\\lightgbm\\basic.py:742: UserWarning: categorical_feature in param dict is overridden.\n",
      "  warnings.warn('categorical_feature in param dict is overridden.')\n"
     ]
    },
    {
     "name": "stdout",
     "output_type": "stream",
     "text": [
      "Early stopping, best iteration is:\n",
      "[70]\ttraining's auc: 0.909106\tvalid_1's auc: 0.874441\n",
      "-\n",
      "Fold 4\n",
      "Training until validation scores don't improve for 25 rounds.\n"
     ]
    },
    {
     "name": "stderr",
     "output_type": "stream",
     "text": [
      "E:\\Anaconda\\envs\\ML\\lib\\site-packages\\lightgbm\\basic.py:742: UserWarning: categorical_feature in param dict is overridden.\n",
      "  warnings.warn('categorical_feature in param dict is overridden.')\n"
     ]
    },
    {
     "name": "stdout",
     "output_type": "stream",
     "text": [
      "Early stopping, best iteration is:\n",
      "[92]\ttraining's auc: 0.915221\tvalid_1's auc: 0.878933\n",
      "-\n",
      "Fold 5\n",
      "Training until validation scores don't improve for 25 rounds.\n"
     ]
    },
    {
     "name": "stderr",
     "output_type": "stream",
     "text": [
      "E:\\Anaconda\\envs\\ML\\lib\\site-packages\\lightgbm\\basic.py:742: UserWarning: categorical_feature in param dict is overridden.\n",
      "  warnings.warn('categorical_feature in param dict is overridden.')\n"
     ]
    },
    {
     "name": "stdout",
     "output_type": "stream",
     "text": [
      "Early stopping, best iteration is:\n",
      "[104]\ttraining's auc: 0.918983\tvalid_1's auc: 0.879103\n",
      "\n",
      "Avg Accuracy Train Set: 83.15296248742794\n",
      "Avg Accuracy Test Set: 79.62808172914556\n",
      "\n",
      "Avg Recall: 77.3769935486155\n",
      "Avg Precision: 81.02123412969254\n",
      "-\n",
      "Fold 1\n",
      "Training until validation scores don't improve for 25 rounds.\n"
     ]
    },
    {
     "name": "stderr",
     "output_type": "stream",
     "text": [
      "E:\\Anaconda\\envs\\ML\\lib\\site-packages\\lightgbm\\basic.py:742: UserWarning: categorical_feature in param dict is overridden.\n",
      "  warnings.warn('categorical_feature in param dict is overridden.')\n"
     ]
    },
    {
     "name": "stdout",
     "output_type": "stream",
     "text": [
      "Early stopping, best iteration is:\n",
      "[53]\ttraining's auc: 0.902883\tvalid_1's auc: 0.87455\n",
      "-\n",
      "Fold 2\n",
      "Training until validation scores don't improve for 25 rounds.\n"
     ]
    },
    {
     "name": "stderr",
     "output_type": "stream",
     "text": [
      "E:\\Anaconda\\envs\\ML\\lib\\site-packages\\lightgbm\\basic.py:742: UserWarning: categorical_feature in param dict is overridden.\n",
      "  warnings.warn('categorical_feature in param dict is overridden.')\n"
     ]
    },
    {
     "name": "stdout",
     "output_type": "stream",
     "text": [
      "Early stopping, best iteration is:\n",
      "[119]\ttraining's auc: 0.922827\tvalid_1's auc: 0.87982\n",
      "-\n",
      "Fold 3\n",
      "Training until validation scores don't improve for 25 rounds.\n"
     ]
    },
    {
     "name": "stderr",
     "output_type": "stream",
     "text": [
      "E:\\Anaconda\\envs\\ML\\lib\\site-packages\\lightgbm\\basic.py:742: UserWarning: categorical_feature in param dict is overridden.\n",
      "  warnings.warn('categorical_feature in param dict is overridden.')\n"
     ]
    },
    {
     "name": "stdout",
     "output_type": "stream",
     "text": [
      "Early stopping, best iteration is:\n",
      "[61]\ttraining's auc: 0.906214\tvalid_1's auc: 0.87358\n",
      "-\n",
      "Fold 4\n",
      "Training until validation scores don't improve for 25 rounds.\n"
     ]
    },
    {
     "name": "stderr",
     "output_type": "stream",
     "text": [
      "E:\\Anaconda\\envs\\ML\\lib\\site-packages\\lightgbm\\basic.py:742: UserWarning: categorical_feature in param dict is overridden.\n",
      "  warnings.warn('categorical_feature in param dict is overridden.')\n"
     ]
    },
    {
     "name": "stdout",
     "output_type": "stream",
     "text": [
      "Early stopping, best iteration is:\n",
      "[96]\ttraining's auc: 0.917096\tvalid_1's auc: 0.878374\n",
      "-\n",
      "Fold 5\n",
      "Training until validation scores don't improve for 25 rounds.\n"
     ]
    },
    {
     "name": "stderr",
     "output_type": "stream",
     "text": [
      "E:\\Anaconda\\envs\\ML\\lib\\site-packages\\lightgbm\\basic.py:742: UserWarning: categorical_feature in param dict is overridden.\n",
      "  warnings.warn('categorical_feature in param dict is overridden.')\n"
     ]
    },
    {
     "name": "stdout",
     "output_type": "stream",
     "text": [
      "Early stopping, best iteration is:\n",
      "[75]\ttraining's auc: 0.909757\tvalid_1's auc: 0.879338\n",
      "\n",
      "Avg Accuracy Train Set: 82.85221444514627\n",
      "Avg Accuracy Test Set: 79.49674057960458\n",
      "\n",
      "Avg Recall: 77.15853009171904\n",
      "Avg Precision: 80.94340967743034\n",
      "-\n",
      "Fold 1\n",
      "Training until validation scores don't improve for 25 rounds.\n"
     ]
    },
    {
     "name": "stderr",
     "output_type": "stream",
     "text": [
      "E:\\Anaconda\\envs\\ML\\lib\\site-packages\\lightgbm\\basic.py:742: UserWarning: categorical_feature in param dict is overridden.\n",
      "  warnings.warn('categorical_feature in param dict is overridden.')\n"
     ]
    },
    {
     "name": "stdout",
     "output_type": "stream",
     "text": [
      "Early stopping, best iteration is:\n",
      "[62]\ttraining's auc: 0.906707\tvalid_1's auc: 0.874185\n",
      "-\n",
      "Fold 2\n",
      "Training until validation scores don't improve for 25 rounds.\n"
     ]
    },
    {
     "name": "stderr",
     "output_type": "stream",
     "text": [
      "E:\\Anaconda\\envs\\ML\\lib\\site-packages\\lightgbm\\basic.py:742: UserWarning: categorical_feature in param dict is overridden.\n",
      "  warnings.warn('categorical_feature in param dict is overridden.')\n"
     ]
    },
    {
     "name": "stdout",
     "output_type": "stream",
     "text": [
      "Early stopping, best iteration is:\n",
      "[72]\ttraining's auc: 0.907562\tvalid_1's auc: 0.880095\n",
      "-\n",
      "Fold 3\n",
      "Training until validation scores don't improve for 25 rounds.\n"
     ]
    },
    {
     "name": "stderr",
     "output_type": "stream",
     "text": [
      "E:\\Anaconda\\envs\\ML\\lib\\site-packages\\lightgbm\\basic.py:742: UserWarning: categorical_feature in param dict is overridden.\n",
      "  warnings.warn('categorical_feature in param dict is overridden.')\n"
     ]
    },
    {
     "name": "stdout",
     "output_type": "stream",
     "text": [
      "Early stopping, best iteration is:\n",
      "[58]\ttraining's auc: 0.903835\tvalid_1's auc: 0.875053\n",
      "-\n",
      "Fold 4\n",
      "Training until validation scores don't improve for 25 rounds.\n"
     ]
    },
    {
     "name": "stderr",
     "output_type": "stream",
     "text": [
      "E:\\Anaconda\\envs\\ML\\lib\\site-packages\\lightgbm\\basic.py:742: UserWarning: categorical_feature in param dict is overridden.\n",
      "  warnings.warn('categorical_feature in param dict is overridden.')\n"
     ]
    },
    {
     "name": "stdout",
     "output_type": "stream",
     "text": [
      "Early stopping, best iteration is:\n",
      "[56]\ttraining's auc: 0.902799\tvalid_1's auc: 0.87882\n",
      "-\n",
      "Fold 5\n",
      "Training until validation scores don't improve for 25 rounds.\n"
     ]
    },
    {
     "name": "stderr",
     "output_type": "stream",
     "text": [
      "E:\\Anaconda\\envs\\ML\\lib\\site-packages\\lightgbm\\basic.py:742: UserWarning: categorical_feature in param dict is overridden.\n",
      "  warnings.warn('categorical_feature in param dict is overridden.')\n"
     ]
    },
    {
     "name": "stdout",
     "output_type": "stream",
     "text": [
      "Early stopping, best iteration is:\n",
      "[111]\ttraining's auc: 0.919924\tvalid_1's auc: 0.878021\n",
      "\n",
      "Avg Accuracy Train Set: 82.48581566320584\n",
      "Avg Accuracy Test Set: 79.51250378007784\n",
      "\n",
      "Avg Recall: 76.87305667386974\n",
      "Avg Precision: 81.1527931013122\n",
      "-\n",
      "Fold 1\n",
      "Training until validation scores don't improve for 25 rounds.\n"
     ]
    },
    {
     "name": "stderr",
     "output_type": "stream",
     "text": [
      "E:\\Anaconda\\envs\\ML\\lib\\site-packages\\lightgbm\\basic.py:742: UserWarning: categorical_feature in param dict is overridden.\n",
      "  warnings.warn('categorical_feature in param dict is overridden.')\n"
     ]
    },
    {
     "name": "stdout",
     "output_type": "stream",
     "text": [
      "Early stopping, best iteration is:\n",
      "[75]\ttraining's auc: 0.911765\tvalid_1's auc: 0.874994\n",
      "-\n",
      "Fold 2\n",
      "Training until validation scores don't improve for 25 rounds.\n"
     ]
    },
    {
     "name": "stderr",
     "output_type": "stream",
     "text": [
      "E:\\Anaconda\\envs\\ML\\lib\\site-packages\\lightgbm\\basic.py:742: UserWarning: categorical_feature in param dict is overridden.\n",
      "  warnings.warn('categorical_feature in param dict is overridden.')\n"
     ]
    },
    {
     "name": "stdout",
     "output_type": "stream",
     "text": [
      "Early stopping, best iteration is:\n",
      "[93]\ttraining's auc: 0.916277\tvalid_1's auc: 0.879438\n",
      "-\n",
      "Fold 3\n",
      "Training until validation scores don't improve for 25 rounds.\n"
     ]
    },
    {
     "name": "stderr",
     "output_type": "stream",
     "text": [
      "E:\\Anaconda\\envs\\ML\\lib\\site-packages\\lightgbm\\basic.py:742: UserWarning: categorical_feature in param dict is overridden.\n",
      "  warnings.warn('categorical_feature in param dict is overridden.')\n"
     ]
    },
    {
     "name": "stdout",
     "output_type": "stream",
     "text": [
      "Early stopping, best iteration is:\n",
      "[85]\ttraining's auc: 0.914554\tvalid_1's auc: 0.876376\n",
      "-\n",
      "Fold 4\n",
      "Training until validation scores don't improve for 25 rounds.\n"
     ]
    },
    {
     "name": "stderr",
     "output_type": "stream",
     "text": [
      "E:\\Anaconda\\envs\\ML\\lib\\site-packages\\lightgbm\\basic.py:742: UserWarning: categorical_feature in param dict is overridden.\n",
      "  warnings.warn('categorical_feature in param dict is overridden.')\n"
     ]
    },
    {
     "name": "stdout",
     "output_type": "stream",
     "text": [
      "Early stopping, best iteration is:\n",
      "[50]\ttraining's auc: 0.899427\tvalid_1's auc: 0.877839\n",
      "-\n",
      "Fold 5\n",
      "Training until validation scores don't improve for 25 rounds.\n"
     ]
    },
    {
     "name": "stderr",
     "output_type": "stream",
     "text": [
      "E:\\Anaconda\\envs\\ML\\lib\\site-packages\\lightgbm\\basic.py:742: UserWarning: categorical_feature in param dict is overridden.\n",
      "  warnings.warn('categorical_feature in param dict is overridden.')\n"
     ]
    },
    {
     "name": "stdout",
     "output_type": "stream",
     "text": [
      "Early stopping, best iteration is:\n",
      "[128]\ttraining's auc: 0.924461\tvalid_1's auc: 0.878782\n",
      "\n",
      "Avg Accuracy Train Set: 83.00325416356608\n",
      "Avg Accuracy Test Set: 79.6333200340814\n",
      "\n",
      "Avg Recall: 76.92547871377973\n",
      "Avg Precision: 81.32618767734289\n",
      "-\n",
      "Fold 1\n",
      "Training until validation scores don't improve for 25 rounds.\n"
     ]
    },
    {
     "name": "stderr",
     "output_type": "stream",
     "text": [
      "E:\\Anaconda\\envs\\ML\\lib\\site-packages\\lightgbm\\basic.py:742: UserWarning: categorical_feature in param dict is overridden.\n",
      "  warnings.warn('categorical_feature in param dict is overridden.')\n"
     ]
    },
    {
     "name": "stdout",
     "output_type": "stream",
     "text": [
      "Early stopping, best iteration is:\n",
      "[64]\ttraining's auc: 0.906815\tvalid_1's auc: 0.874389\n",
      "-\n",
      "Fold 2\n",
      "Training until validation scores don't improve for 25 rounds.\n"
     ]
    },
    {
     "name": "stderr",
     "output_type": "stream",
     "text": [
      "E:\\Anaconda\\envs\\ML\\lib\\site-packages\\lightgbm\\basic.py:742: UserWarning: categorical_feature in param dict is overridden.\n",
      "  warnings.warn('categorical_feature in param dict is overridden.')\n"
     ]
    },
    {
     "name": "stdout",
     "output_type": "stream",
     "text": [
      "Early stopping, best iteration is:\n",
      "[127]\ttraining's auc: 0.924595\tvalid_1's auc: 0.87992\n",
      "-\n",
      "Fold 3\n",
      "Training until validation scores don't improve for 25 rounds.\n"
     ]
    },
    {
     "name": "stderr",
     "output_type": "stream",
     "text": [
      "E:\\Anaconda\\envs\\ML\\lib\\site-packages\\lightgbm\\basic.py:742: UserWarning: categorical_feature in param dict is overridden.\n",
      "  warnings.warn('categorical_feature in param dict is overridden.')\n"
     ]
    },
    {
     "name": "stdout",
     "output_type": "stream",
     "text": [
      "Early stopping, best iteration is:\n",
      "[100]\ttraining's auc: 0.918848\tvalid_1's auc: 0.876428\n",
      "-\n",
      "Fold 4\n",
      "Training until validation scores don't improve for 25 rounds.\n"
     ]
    },
    {
     "name": "stderr",
     "output_type": "stream",
     "text": [
      "E:\\Anaconda\\envs\\ML\\lib\\site-packages\\lightgbm\\basic.py:742: UserWarning: categorical_feature in param dict is overridden.\n",
      "  warnings.warn('categorical_feature in param dict is overridden.')\n"
     ]
    },
    {
     "name": "stdout",
     "output_type": "stream",
     "text": [
      "Early stopping, best iteration is:\n",
      "[47]\ttraining's auc: 0.898186\tvalid_1's auc: 0.879451\n",
      "-\n",
      "Fold 5\n",
      "Training until validation scores don't improve for 25 rounds.\n"
     ]
    },
    {
     "name": "stderr",
     "output_type": "stream",
     "text": [
      "E:\\Anaconda\\envs\\ML\\lib\\site-packages\\lightgbm\\basic.py:742: UserWarning: categorical_feature in param dict is overridden.\n",
      "  warnings.warn('categorical_feature in param dict is overridden.')\n"
     ]
    },
    {
     "name": "stdout",
     "output_type": "stream",
     "text": [
      "Early stopping, best iteration is:\n",
      "[93]\ttraining's auc: 0.915561\tvalid_1's auc: 0.878533\n",
      "\n",
      "Avg Accuracy Train Set: 83.02163366959023\n",
      "Avg Accuracy Test Set: 79.55979200190714\n",
      "\n",
      "Avg Recall: 77.10316441732735\n",
      "Avg Precision: 81.08246644204054\n",
      "-\n",
      "Fold 1\n",
      "Training until validation scores don't improve for 25 rounds.\n"
     ]
    },
    {
     "name": "stderr",
     "output_type": "stream",
     "text": [
      "E:\\Anaconda\\envs\\ML\\lib\\site-packages\\lightgbm\\basic.py:742: UserWarning: categorical_feature in param dict is overridden.\n",
      "  warnings.warn('categorical_feature in param dict is overridden.')\n"
     ]
    },
    {
     "name": "stdout",
     "output_type": "stream",
     "text": [
      "Early stopping, best iteration is:\n",
      "[73]\ttraining's auc: 0.911264\tvalid_1's auc: 0.874962\n",
      "-\n",
      "Fold 2\n",
      "Training until validation scores don't improve for 25 rounds.\n"
     ]
    },
    {
     "name": "stderr",
     "output_type": "stream",
     "text": [
      "E:\\Anaconda\\envs\\ML\\lib\\site-packages\\lightgbm\\basic.py:742: UserWarning: categorical_feature in param dict is overridden.\n",
      "  warnings.warn('categorical_feature in param dict is overridden.')\n"
     ]
    },
    {
     "name": "stdout",
     "output_type": "stream",
     "text": [
      "Early stopping, best iteration is:\n",
      "[129]\ttraining's auc: 0.924968\tvalid_1's auc: 0.879714\n",
      "-\n",
      "Fold 3\n",
      "Training until validation scores don't improve for 25 rounds.\n"
     ]
    },
    {
     "name": "stderr",
     "output_type": "stream",
     "text": [
      "E:\\Anaconda\\envs\\ML\\lib\\site-packages\\lightgbm\\basic.py:742: UserWarning: categorical_feature in param dict is overridden.\n",
      "  warnings.warn('categorical_feature in param dict is overridden.')\n"
     ]
    },
    {
     "name": "stdout",
     "output_type": "stream",
     "text": [
      "Early stopping, best iteration is:\n",
      "[56]\ttraining's auc: 0.903467\tvalid_1's auc: 0.87476\n",
      "-\n",
      "Fold 4\n",
      "Training until validation scores don't improve for 25 rounds.\n"
     ]
    },
    {
     "name": "stderr",
     "output_type": "stream",
     "text": [
      "E:\\Anaconda\\envs\\ML\\lib\\site-packages\\lightgbm\\basic.py:742: UserWarning: categorical_feature in param dict is overridden.\n",
      "  warnings.warn('categorical_feature in param dict is overridden.')\n"
     ]
    },
    {
     "name": "stdout",
     "output_type": "stream",
     "text": [
      "Early stopping, best iteration is:\n",
      "[56]\ttraining's auc: 0.902779\tvalid_1's auc: 0.878377\n",
      "-\n",
      "Fold 5\n",
      "Training until validation scores don't improve for 25 rounds.\n"
     ]
    },
    {
     "name": "stderr",
     "output_type": "stream",
     "text": [
      "E:\\Anaconda\\envs\\ML\\lib\\site-packages\\lightgbm\\basic.py:742: UserWarning: categorical_feature in param dict is overridden.\n",
      "  warnings.warn('categorical_feature in param dict is overridden.')\n"
     ]
    },
    {
     "name": "stdout",
     "output_type": "stream",
     "text": [
      "Early stopping, best iteration is:\n",
      "[68]\ttraining's auc: 0.90721\tvalid_1's auc: 0.878947\n",
      "\n",
      "Avg Accuracy Train Set: 82.72221064000374\n",
      "Avg Accuracy Test Set: 79.544026042253\n",
      "\n",
      "Avg Recall: 77.24219094853372\n",
      "Avg Precision: 80.96701641591387\n",
      "-\n",
      "Fold 1\n",
      "Training until validation scores don't improve for 25 rounds.\n"
     ]
    },
    {
     "name": "stderr",
     "output_type": "stream",
     "text": [
      "E:\\Anaconda\\envs\\ML\\lib\\site-packages\\lightgbm\\basic.py:742: UserWarning: categorical_feature in param dict is overridden.\n",
      "  warnings.warn('categorical_feature in param dict is overridden.')\n"
     ]
    },
    {
     "name": "stdout",
     "output_type": "stream",
     "text": [
      "Early stopping, best iteration is:\n",
      "[48]\ttraining's auc: 0.899397\tvalid_1's auc: 0.874292\n",
      "-\n",
      "Fold 2\n",
      "Training until validation scores don't improve for 25 rounds.\n"
     ]
    },
    {
     "name": "stderr",
     "output_type": "stream",
     "text": [
      "E:\\Anaconda\\envs\\ML\\lib\\site-packages\\lightgbm\\basic.py:742: UserWarning: categorical_feature in param dict is overridden.\n",
      "  warnings.warn('categorical_feature in param dict is overridden.')\n"
     ]
    },
    {
     "name": "stdout",
     "output_type": "stream",
     "text": [
      "Early stopping, best iteration is:\n",
      "[95]\ttraining's auc: 0.915497\tvalid_1's auc: 0.878666\n",
      "-\n",
      "Fold 3\n",
      "Training until validation scores don't improve for 25 rounds.\n"
     ]
    },
    {
     "name": "stderr",
     "output_type": "stream",
     "text": [
      "E:\\Anaconda\\envs\\ML\\lib\\site-packages\\lightgbm\\basic.py:742: UserWarning: categorical_feature in param dict is overridden.\n",
      "  warnings.warn('categorical_feature in param dict is overridden.')\n"
     ]
    },
    {
     "name": "stdout",
     "output_type": "stream",
     "text": [
      "Early stopping, best iteration is:\n",
      "[68]\ttraining's auc: 0.908357\tvalid_1's auc: 0.876042\n",
      "-\n",
      "Fold 4\n",
      "Training until validation scores don't improve for 25 rounds.\n"
     ]
    },
    {
     "name": "stderr",
     "output_type": "stream",
     "text": [
      "E:\\Anaconda\\envs\\ML\\lib\\site-packages\\lightgbm\\basic.py:742: UserWarning: categorical_feature in param dict is overridden.\n",
      "  warnings.warn('categorical_feature in param dict is overridden.')\n"
     ]
    },
    {
     "name": "stdout",
     "output_type": "stream",
     "text": [
      "Early stopping, best iteration is:\n",
      "[60]\ttraining's auc: 0.903495\tvalid_1's auc: 0.878657\n",
      "-\n",
      "Fold 5\n",
      "Training until validation scores don't improve for 25 rounds.\n"
     ]
    },
    {
     "name": "stderr",
     "output_type": "stream",
     "text": [
      "E:\\Anaconda\\envs\\ML\\lib\\site-packages\\lightgbm\\basic.py:742: UserWarning: categorical_feature in param dict is overridden.\n",
      "  warnings.warn('categorical_feature in param dict is overridden.')\n"
     ]
    },
    {
     "name": "stdout",
     "output_type": "stream",
     "text": [
      "[200]\ttraining's auc: 0.940394\tvalid_1's auc: 0.881535\n",
      "Early stopping, best iteration is:\n",
      "[200]\ttraining's auc: 0.940394\tvalid_1's auc: 0.881535\n",
      "\n",
      "Avg Accuracy Train Set: 83.0583931990869\n",
      "Avg Accuracy Test Set: 79.50200095798762\n",
      "\n",
      "Avg Recall: 77.25252721128754\n",
      "Avg Precision: 80.88839953254929\n",
      "-\n",
      "Fold 1\n",
      "Training until validation scores don't improve for 25 rounds.\n"
     ]
    },
    {
     "name": "stderr",
     "output_type": "stream",
     "text": [
      "E:\\Anaconda\\envs\\ML\\lib\\site-packages\\lightgbm\\basic.py:742: UserWarning: categorical_feature in param dict is overridden.\n",
      "  warnings.warn('categorical_feature in param dict is overridden.')\n"
     ]
    },
    {
     "name": "stdout",
     "output_type": "stream",
     "text": [
      "Early stopping, best iteration is:\n",
      "[60]\ttraining's auc: 0.905474\tvalid_1's auc: 0.873752\n",
      "-\n",
      "Fold 2\n",
      "Training until validation scores don't improve for 25 rounds.\n"
     ]
    },
    {
     "name": "stderr",
     "output_type": "stream",
     "text": [
      "E:\\Anaconda\\envs\\ML\\lib\\site-packages\\lightgbm\\basic.py:742: UserWarning: categorical_feature in param dict is overridden.\n",
      "  warnings.warn('categorical_feature in param dict is overridden.')\n"
     ]
    },
    {
     "name": "stdout",
     "output_type": "stream",
     "text": [
      "Early stopping, best iteration is:\n",
      "[130]\ttraining's auc: 0.925022\tvalid_1's auc: 0.879472\n",
      "-\n",
      "Fold 3\n",
      "Training until validation scores don't improve for 25 rounds.\n"
     ]
    },
    {
     "name": "stderr",
     "output_type": "stream",
     "text": [
      "E:\\Anaconda\\envs\\ML\\lib\\site-packages\\lightgbm\\basic.py:742: UserWarning: categorical_feature in param dict is overridden.\n",
      "  warnings.warn('categorical_feature in param dict is overridden.')\n"
     ]
    },
    {
     "name": "stdout",
     "output_type": "stream",
     "text": [
      "Early stopping, best iteration is:\n",
      "[80]\ttraining's auc: 0.912374\tvalid_1's auc: 0.875178\n",
      "-\n",
      "Fold 4\n",
      "Training until validation scores don't improve for 25 rounds.\n"
     ]
    },
    {
     "name": "stderr",
     "output_type": "stream",
     "text": [
      "E:\\Anaconda\\envs\\ML\\lib\\site-packages\\lightgbm\\basic.py:742: UserWarning: categorical_feature in param dict is overridden.\n",
      "  warnings.warn('categorical_feature in param dict is overridden.')\n"
     ]
    },
    {
     "name": "stdout",
     "output_type": "stream",
     "text": [
      "Early stopping, best iteration is:\n",
      "[54]\ttraining's auc: 0.90161\tvalid_1's auc: 0.879288\n",
      "-\n",
      "Fold 5\n",
      "Training until validation scores don't improve for 25 rounds.\n"
     ]
    },
    {
     "name": "stderr",
     "output_type": "stream",
     "text": [
      "E:\\Anaconda\\envs\\ML\\lib\\site-packages\\lightgbm\\basic.py:742: UserWarning: categorical_feature in param dict is overridden.\n",
      "  warnings.warn('categorical_feature in param dict is overridden.')\n"
     ]
    },
    {
     "name": "stdout",
     "output_type": "stream",
     "text": [
      "Early stopping, best iteration is:\n",
      "[88]\ttraining's auc: 0.913725\tvalid_1's auc: 0.878578\n",
      "\n",
      "Avg Accuracy Train Set: 82.79311865471436\n",
      "Avg Accuracy Test Set: 79.4179494098664\n",
      "\n",
      "Avg Recall: 76.73744553415546\n",
      "Avg Precision: 81.08050210607239\n"
     ]
    }
   ],
   "source": [
    "Train_Acc = []\n",
    "Test_Acc = []\n",
    "Test_Recall = []\n",
    "\n",
    "#for j in range(1,11):\n",
    "for i in range(1,X.shape[1]):\n",
    "    \n",
    "    features = importance_df.head(i).index\n",
    "    \n",
    "    Acc_Train = []\n",
    "    Acc = []\n",
    "    Recall = []\n",
    "    Precision = []\n",
    "\n",
    "    #Parameters for model:\n",
    "    lgb_params = {'num_leaves': 16,\n",
    "                 'min_data_in_leaf': 10, \n",
    "                 'objective':'binary',\n",
    "                 #'max_depth': 10,\n",
    "                 'learning_rate': 0.1,\n",
    "                 \"boosting\": \"gbdt\",\n",
    "                 \"feature_fraction\": 0.8,\n",
    "                 \"bagging_freq\": 1,\n",
    "                 \"bagging_fraction\": 1,\n",
    "                 \"bagging_seed\": 42,\n",
    "                 \"metric\": 'AUC',\n",
    "                 #\"lambda_l1\": 0.0,\n",
    "                 \"verbosity\": -1}\n",
    "\n",
    "\n",
    "    folds = KFold(n_splits=5, shuffle=True, random_state=42)\n",
    "    #oof_lgb = np.zeros(len(X_train))\n",
    "\n",
    "    for fold_, (trn_idx, val_idx) in enumerate(folds.split(X, y)):    \n",
    "\n",
    "        print('-')\n",
    "        print(\"Fold {}\".format(fold_ + 1))\n",
    "        trn_data = lgb.Dataset(X.iloc[trn_idx][features], label=y.iloc[trn_idx], categorical_feature=(14,15,16,17,18,29))\n",
    "        val_data = lgb.Dataset(X.iloc[val_idx][features], label=y.iloc[val_idx], categorical_feature=(14,15,16,17,18,29))\n",
    "\n",
    "        num_round = 500\n",
    "        clf = lgb.train(lgb_params, trn_data, num_round, \n",
    "                        valid_sets = [trn_data, val_data]\n",
    "                        ,verbose_eval=200\n",
    "                        ,categorical_feature=(14,15,16,17,18,29)\n",
    "                        ,early_stopping_rounds=25)\n",
    "\n",
    "        predictions_lgb = np.zeros(len(y.iloc[val_idx]))\n",
    "        predictions_lgb = clf.predict(X.iloc[val_idx][features], num_iteration=clf.best_iteration)\n",
    "\n",
    "        Y_actual = y.iloc[val_idx]\n",
    "\n",
    "        Acc_Train.append(accuracy_score(y.iloc[trn_idx], clf.predict(X.iloc[trn_idx][features], num_iteration=clf.best_iteration) >=0.5 )*100)\n",
    "\n",
    "        Acc.append(accuracy_score(Y_actual,  predictions_lgb > 0.5)*100)\n",
    "        Recall.append(recall_score(Y_actual,  predictions_lgb > 0.5)*100)\n",
    "        Precision.append(precision_score(Y_actual,  predictions_lgb > 0.5)*100)\n",
    "\n",
    "    print(\"\")\n",
    "    print(\"Avg Accuracy Train Set:\", np.mean(Acc_Train))\n",
    "    print(\"Avg Accuracy Test Set:\",np.mean(Acc))\n",
    "    print(\"\")\n",
    "    print(\"Avg Recall:\",np.mean(Recall))\n",
    "    print(\"Avg Precision:\",np.mean(Precision))\n",
    "\n",
    "    Train_Acc.append(np.mean(Acc_Train))\n",
    "    Test_Acc.append(np.mean(Acc))\n",
    "    Test_Recall.append(np.mean(Recall))"
   ]
  },
  {
   "cell_type": "code",
   "execution_count": 108,
   "metadata": {},
   "outputs": [
    {
     "data": {
      "text/plain": [
       "array([0.1, 0.2, 0.3, 0.4, 0.5, 0.6, 0.7, 0.8, 0.9, 1. ])"
      ]
     },
     "execution_count": 108,
     "metadata": {},
     "output_type": "execute_result"
    }
   ],
   "source": [
    "np.linspace(0.1,1,10)"
   ]
  },
  {
   "cell_type": "code",
   "execution_count": 13,
   "metadata": {},
   "outputs": [
    {
     "data": {
      "image/png": "[encoded data removed]",
      "text/plain": [
       "<Figure size 432x288 with 1 Axes>"
      ]
     },
     "metadata": {
      "needs_background": "light"
     },
     "output_type": "display_data"
    }
   ],
   "source": [
    "plt.plot(range(1,i+1), Train_Acc, linestyle='-', marker='o', color='b', label=\"Train Accuracy\")\n",
    "plt.plot(range(1,i+1), Test_Acc,  linestyle='-', marker='o', color='orange', label=\"Validation Accuracy\")\n",
    "\n",
    "plt.xticks(range(1,i+1,2))\n",
    "\n",
    "plt.title(\"Feature Selection\")\n",
    "plt.xlabel(\"Number of Features\")\n",
    "plt.ylabel(\"Accuracy\")\n",
    "plt.legend()\n",
    "plt.show()"
   ]
  },
  {
   "cell_type": "markdown",
   "metadata": {},
   "source": [
    "### What are best settings for the model?\n",
    "\n",
    "We need to do a grid search but that is for sklearn only so I am doing 3 for loops"
   ]
  },
  {
   "cell_type": "code",
   "execution_count": 32,
   "metadata": {},
   "outputs": [
    {
     "name": "stdout",
     "output_type": "stream",
     "text": [
      "8 20 0.5\n",
      "-\n",
      "Fold 1\n",
      "Training until validation scores don't improve for 25 rounds.\n"
     ]
    },
    {
     "name": "stderr",
     "output_type": "stream",
     "text": [
      "E:\\Anaconda\\envs\\ML\\lib\\site-packages\\lightgbm\\basic.py:742: UserWarning: categorical_feature in param dict is overridden.\n",
      "  warnings.warn('categorical_feature in param dict is overridden.')\n"
     ]
    },
    {
     "name": "stdout",
     "output_type": "stream",
     "text": [
      "Early stopping, best iteration is:\n",
      "[160]\ttraining's auc: 0.896988\tvalid_1's auc: 0.879094\n",
      "-\n",
      "Fold 2\n",
      "Training until validation scores don't improve for 25 rounds.\n"
     ]
    },
    {
     "name": "stderr",
     "output_type": "stream",
     "text": [
      "E:\\Anaconda\\envs\\ML\\lib\\site-packages\\lightgbm\\basic.py:742: UserWarning: categorical_feature in param dict is overridden.\n",
      "  warnings.warn('categorical_feature in param dict is overridden.')\n"
     ]
    },
    {
     "name": "stdout",
     "output_type": "stream",
     "text": [
      "[200]\ttraining's auc: 0.899577\tvalid_1's auc: 0.883189\n",
      "Early stopping, best iteration is:\n",
      "[260]\ttraining's auc: 0.904719\tvalid_1's auc: 0.883846\n",
      "-\n",
      "Fold 3\n",
      "Training until validation scores don't improve for 25 rounds.\n"
     ]
    },
    {
     "name": "stderr",
     "output_type": "stream",
     "text": [
      "E:\\Anaconda\\envs\\ML\\lib\\site-packages\\lightgbm\\basic.py:742: UserWarning: categorical_feature in param dict is overridden.\n",
      "  warnings.warn('categorical_feature in param dict is overridden.')\n"
     ]
    },
    {
     "name": "stdout",
     "output_type": "stream",
     "text": [
      "[200]\ttraining's auc: 0.900236\tvalid_1's auc: 0.880789\n",
      "Early stopping, best iteration is:\n",
      "[195]\ttraining's auc: 0.899736\tvalid_1's auc: 0.880928\n",
      "-\n",
      "Fold 4\n",
      "Training until validation scores don't improve for 25 rounds.\n"
     ]
    },
    {
     "name": "stderr",
     "output_type": "stream",
     "text": [
      "E:\\Anaconda\\envs\\ML\\lib\\site-packages\\lightgbm\\basic.py:742: UserWarning: categorical_feature in param dict is overridden.\n",
      "  warnings.warn('categorical_feature in param dict is overridden.')\n"
     ]
    },
    {
     "name": "stdout",
     "output_type": "stream",
     "text": [
      "[200]\ttraining's auc: 0.898631\tvalid_1's auc: 0.885742\n",
      "Early stopping, best iteration is:\n",
      "[222]\ttraining's auc: 0.900641\tvalid_1's auc: 0.886012\n",
      "-\n",
      "Fold 5\n",
      "Training until validation scores don't improve for 25 rounds.\n"
     ]
    },
    {
     "name": "stderr",
     "output_type": "stream",
     "text": [
      "E:\\Anaconda\\envs\\ML\\lib\\site-packages\\lightgbm\\basic.py:742: UserWarning: categorical_feature in param dict is overridden.\n",
      "  warnings.warn('categorical_feature in param dict is overridden.')\n"
     ]
    },
    {
     "name": "stdout",
     "output_type": "stream",
     "text": [
      "[200]\ttraining's auc: 0.900046\tvalid_1's auc: 0.88307\n",
      "Early stopping, best iteration is:\n",
      "[260]\ttraining's auc: 0.905109\tvalid_1's auc: 0.883767\n",
      "\n",
      "Avg Accuracy Train Set: 81.78976167416475\n",
      "Avg Accuracy Test Set: 80.12187302028772\n",
      "\n",
      "Avg Recall: 77.35893521955774\n",
      "Avg Precision: 81.88770140509388\n",
      "8 20 0.6000000000000001\n",
      "-\n",
      "Fold 1\n"
     ]
    },
    {
     "name": "stderr",
     "output_type": "stream",
     "text": [
      "E:\\Anaconda\\envs\\ML\\lib\\site-packages\\lightgbm\\basic.py:742: UserWarning: categorical_feature in param dict is overridden.\n",
      "  warnings.warn('categorical_feature in param dict is overridden.')\n"
     ]
    },
    {
     "name": "stdout",
     "output_type": "stream",
     "text": [
      "Training until validation scores don't improve for 25 rounds.\n",
      "Early stopping, best iteration is:\n",
      "[170]\ttraining's auc: 0.898226\tvalid_1's auc: 0.879354\n",
      "-\n",
      "Fold 2\n",
      "Training until validation scores don't improve for 25 rounds.\n"
     ]
    },
    {
     "name": "stderr",
     "output_type": "stream",
     "text": [
      "E:\\Anaconda\\envs\\ML\\lib\\site-packages\\lightgbm\\basic.py:742: UserWarning: categorical_feature in param dict is overridden.\n",
      "  warnings.warn('categorical_feature in param dict is overridden.')\n"
     ]
    },
    {
     "name": "stdout",
     "output_type": "stream",
     "text": [
      "[200]\ttraining's auc: 0.900219\tvalid_1's auc: 0.88313\n",
      "Early stopping, best iteration is:\n",
      "[188]\ttraining's auc: 0.899109\tvalid_1's auc: 0.883437\n",
      "-\n",
      "Fold 3\n",
      "Training until validation scores don't improve for 25 rounds.\n"
     ]
    },
    {
     "name": "stderr",
     "output_type": "stream",
     "text": [
      "E:\\Anaconda\\envs\\ML\\lib\\site-packages\\lightgbm\\basic.py:742: UserWarning: categorical_feature in param dict is overridden.\n",
      "  warnings.warn('categorical_feature in param dict is overridden.')\n"
     ]
    },
    {
     "name": "stdout",
     "output_type": "stream",
     "text": [
      "[200]\ttraining's auc: 0.900989\tvalid_1's auc: 0.879805\n",
      "Early stopping, best iteration is:\n",
      "[240]\ttraining's auc: 0.904583\tvalid_1's auc: 0.880468\n",
      "-\n",
      "Fold 4\n",
      "Training until validation scores don't improve for 25 rounds."
     ]
    },
    {
     "name": "stderr",
     "output_type": "stream",
     "text": [
      "E:\\Anaconda\\envs\\ML\\lib\\site-packages\\lightgbm\\basic.py:742: UserWarning: categorical_feature in param dict is overridden.\n",
      "  warnings.warn('categorical_feature in param dict is overridden.')\n"
     ]
    },
    {
     "name": "stdout",
     "output_type": "stream",
     "text": [
      "\n",
      "[200]\ttraining's auc: 0.900517\tvalid_1's auc: 0.887891\n",
      "Early stopping, best iteration is:\n",
      "[223]\ttraining's auc: 0.902626\tvalid_1's auc: 0.888091\n",
      "-\n",
      "Fold 5\n"
     ]
    },
    {
     "name": "stderr",
     "output_type": "stream",
     "text": [
      "E:\\Anaconda\\envs\\ML\\lib\\site-packages\\lightgbm\\basic.py:742: UserWarning: categorical_feature in param dict is overridden.\n",
      "  warnings.warn('categorical_feature in param dict is overridden.')\n"
     ]
    },
    {
     "name": "stdout",
     "output_type": "stream",
     "text": [
      "Training until validation scores don't improve for 25 rounds.\n",
      "[200]\ttraining's auc: 0.90046\tvalid_1's auc: 0.883691\n",
      "Early stopping, best iteration is:\n",
      "[271]\ttraining's auc: 0.906435\tvalid_1's auc: 0.884661\n",
      "\n",
      "Avg Accuracy Train Set: 81.82916044887814\n",
      "Avg Accuracy Test Set: 80.19542450549962\n",
      "\n",
      "Avg Recall: 77.28448803301356\n",
      "Avg Precision: 82.06168859555962\n",
      "8 20 0.7000000000000001\n",
      "-\n",
      "Fold 1\n",
      "Training until validation scores don't improve for 25 rounds.\n"
     ]
    },
    {
     "name": "stderr",
     "output_type": "stream",
     "text": [
      "E:\\Anaconda\\envs\\ML\\lib\\site-packages\\lightgbm\\basic.py:742: UserWarning: categorical_feature in param dict is overridden.\n",
      "  warnings.warn('categorical_feature in param dict is overridden.')\n"
     ]
    },
    {
     "name": "stdout",
     "output_type": "stream",
     "text": [
      "[200]\ttraining's auc: 0.90244\tvalid_1's auc: 0.879393\n",
      "Early stopping, best iteration is:\n",
      "[220]\ttraining's auc: 0.904338\tvalid_1's auc: 0.879522\n",
      "-\n",
      "Fold 2\n",
      "Training until validation scores don't improve for 25 rounds.\n"
     ]
    },
    {
     "name": "stderr",
     "output_type": "stream",
     "text": [
      "E:\\Anaconda\\envs\\ML\\lib\\site-packages\\lightgbm\\basic.py:742: UserWarning: categorical_feature in param dict is overridden.\n",
      "  warnings.warn('categorical_feature in param dict is overridden.')\n"
     ]
    },
    {
     "name": "stdout",
     "output_type": "stream",
     "text": [
      "[200]\ttraining's auc: 0.901154\tvalid_1's auc: 0.883753\n",
      "Early stopping, best iteration is:\n",
      "[193]\ttraining's auc: 0.900505\tvalid_1's auc: 0.883804\n",
      "-\n",
      "Fold 3\n",
      "Training until validation scores don't improve for 25 rounds.\n"
     ]
    },
    {
     "name": "stderr",
     "output_type": "stream",
     "text": [
      "E:\\Anaconda\\envs\\ML\\lib\\site-packages\\lightgbm\\basic.py:742: UserWarning: categorical_feature in param dict is overridden.\n",
      "  warnings.warn('categorical_feature in param dict is overridden.')\n"
     ]
    },
    {
     "name": "stdout",
     "output_type": "stream",
     "text": [
      "[200]\ttraining's auc: 0.90161\tvalid_1's auc: 0.881074\n",
      "Early stopping, best iteration is:\n",
      "[213]\ttraining's auc: 0.902848\tvalid_1's auc: 0.881184\n",
      "-\n",
      "Fold 4\n",
      "Training until validation scores don't improve for 25 rounds.\n"
     ]
    },
    {
     "name": "stderr",
     "output_type": "stream",
     "text": [
      "E:\\Anaconda\\envs\\ML\\lib\\site-packages\\lightgbm\\basic.py:742: UserWarning: categorical_feature in param dict is overridden.\n",
      "  warnings.warn('categorical_feature in param dict is overridden.')\n"
     ]
    },
    {
     "name": "stdout",
     "output_type": "stream",
     "text": [
      "[200]\ttraining's auc: 0.90061\tvalid_1's auc: 0.887148\n",
      "Early stopping, best iteration is:\n",
      "[236]\ttraining's auc: 0.903973\tvalid_1's auc: 0.887755\n",
      "-\n",
      "Fold 5\n",
      "Training until validation scores don't improve for 25 rounds.\n"
     ]
    },
    {
     "name": "stderr",
     "output_type": "stream",
     "text": [
      "E:\\Anaconda\\envs\\ML\\lib\\site-packages\\lightgbm\\basic.py:742: UserWarning: categorical_feature in param dict is overridden.\n",
      "  warnings.warn('categorical_feature in param dict is overridden.')\n"
     ]
    },
    {
     "name": "stdout",
     "output_type": "stream",
     "text": [
      "[200]\ttraining's auc: 0.901103\tvalid_1's auc: 0.882346\n",
      "Early stopping, best iteration is:\n",
      "[253]\ttraining's auc: 0.905981\tvalid_1's auc: 0.88329\n",
      "\n",
      "Avg Accuracy Train Set: 81.96443455152227\n",
      "Avg Accuracy Test Set: 80.02730761335268\n",
      "\n",
      "Avg Recall: 77.03499878074405\n",
      "Avg Precision: 81.94338192854416\n",
      "8 20 0.8\n",
      "-\n",
      "Fold 1\n",
      "Training until validation scores don't improve for 25 rounds.\n"
     ]
    },
    {
     "name": "stderr",
     "output_type": "stream",
     "text": [
      "E:\\Anaconda\\envs\\ML\\lib\\site-packages\\lightgbm\\basic.py:742: UserWarning: categorical_feature in param dict is overridden.\n",
      "  warnings.warn('categorical_feature in param dict is overridden.')\n"
     ]
    },
    {
     "name": "stdout",
     "output_type": "stream",
     "text": [
      "Early stopping, best iteration is:\n",
      "[147]\ttraining's auc: 0.897105\tvalid_1's auc: 0.878603\n",
      "-\n",
      "Fold 2\n",
      "Training until validation scores don't improve for 25 rounds.\n"
     ]
    },
    {
     "name": "stderr",
     "output_type": "stream",
     "text": [
      "E:\\Anaconda\\envs\\ML\\lib\\site-packages\\lightgbm\\basic.py:742: UserWarning: categorical_feature in param dict is overridden.\n",
      "  warnings.warn('categorical_feature in param dict is overridden.')\n"
     ]
    },
    {
     "name": "stdout",
     "output_type": "stream",
     "text": [
      "[200]\ttraining's auc: 0.901121\tvalid_1's auc: 0.882997\n",
      "Early stopping, best iteration is:\n",
      "[191]\ttraining's auc: 0.900292\tvalid_1's auc: 0.883346\n",
      "-\n",
      "Fold 3\n",
      "Training until validation scores don't improve for 25 rounds.\n"
     ]
    },
    {
     "name": "stderr",
     "output_type": "stream",
     "text": [
      "E:\\Anaconda\\envs\\ML\\lib\\site-packages\\lightgbm\\basic.py:742: UserWarning: categorical_feature in param dict is overridden.\n",
      "  warnings.warn('categorical_feature in param dict is overridden.')\n"
     ]
    },
    {
     "name": "stdout",
     "output_type": "stream",
     "text": [
      "[200]\ttraining's auc: 0.902517\tvalid_1's auc: 0.881709\n",
      "Early stopping, best iteration is:\n",
      "[201]\ttraining's auc: 0.902555\tvalid_1's auc: 0.881767\n",
      "-\n",
      "Fold 4\n",
      "Training until validation scores don't improve for 25 rounds.\n"
     ]
    },
    {
     "name": "stderr",
     "output_type": "stream",
     "text": [
      "E:\\Anaconda\\envs\\ML\\lib\\site-packages\\lightgbm\\basic.py:742: UserWarning: categorical_feature in param dict is overridden.\n",
      "  warnings.warn('categorical_feature in param dict is overridden.')\n"
     ]
    },
    {
     "name": "stdout",
     "output_type": "stream",
     "text": [
      "[200]\ttraining's auc: 0.901158\tvalid_1's auc: 0.887675\n",
      "Early stopping, best iteration is:\n",
      "[205]\ttraining's auc: 0.901632\tvalid_1's auc: 0.887783\n",
      "-\n",
      "Fold 5\n",
      "Training until validation scores don't improve for 25 rounds.\n"
     ]
    },
    {
     "name": "stderr",
     "output_type": "stream",
     "text": [
      "E:\\Anaconda\\envs\\ML\\lib\\site-packages\\lightgbm\\basic.py:742: UserWarning: categorical_feature in param dict is overridden.\n",
      "  warnings.warn('categorical_feature in param dict is overridden.')\n"
     ]
    },
    {
     "name": "stdout",
     "output_type": "stream",
     "text": [
      "[200]\ttraining's auc: 0.901634\tvalid_1's auc: 0.883208\n",
      "Early stopping, best iteration is:\n",
      "[261]\ttraining's auc: 0.907337\tvalid_1's auc: 0.884098\n",
      "\n",
      "Avg Accuracy Train Set: 81.87775177944876\n",
      "Avg Accuracy Test Set: 80.14289383996308\n",
      "\n",
      "Avg Recall: 77.23203568935297\n",
      "Avg Precision: 82.01199130200843\n",
      "8 20 0.9\n",
      "-\n",
      "Fold 1\n",
      "Training until validation scores don't improve for 25 rounds.\n"
     ]
    },
    {
     "name": "stderr",
     "output_type": "stream",
     "text": [
      "E:\\Anaconda\\envs\\ML\\lib\\site-packages\\lightgbm\\basic.py:742: UserWarning: categorical_feature in param dict is overridden.\n",
      "  warnings.warn('categorical_feature in param dict is overridden.')\n"
     ]
    },
    {
     "name": "stdout",
     "output_type": "stream",
     "text": [
      "[200]\ttraining's auc: 0.902489\tvalid_1's auc: 0.879605\n",
      "Early stopping, best iteration is:\n",
      "[223]\ttraining's auc: 0.904735\tvalid_1's auc: 0.879896\n",
      "-\n",
      "Fold 2\n",
      "Training until validation scores don't improve for 25 rounds.\n"
     ]
    },
    {
     "name": "stderr",
     "output_type": "stream",
     "text": [
      "E:\\Anaconda\\envs\\ML\\lib\\site-packages\\lightgbm\\basic.py:742: UserWarning: categorical_feature in param dict is overridden.\n",
      "  warnings.warn('categorical_feature in param dict is overridden.')\n"
     ]
    },
    {
     "name": "stdout",
     "output_type": "stream",
     "text": [
      "[200]\ttraining's auc: 0.901803\tvalid_1's auc: 0.88337\n",
      "Early stopping, best iteration is:\n",
      "[207]\ttraining's auc: 0.902627\tvalid_1's auc: 0.883914\n",
      "-\n",
      "Fold 3\n",
      "Training until validation scores don't improve for 25 rounds.\n"
     ]
    },
    {
     "name": "stderr",
     "output_type": "stream",
     "text": [
      "E:\\Anaconda\\envs\\ML\\lib\\site-packages\\lightgbm\\basic.py:742: UserWarning: categorical_feature in param dict is overridden.\n",
      "  warnings.warn('categorical_feature in param dict is overridden.')\n"
     ]
    },
    {
     "name": "stdout",
     "output_type": "stream",
     "text": [
      "[200]\ttraining's auc: 0.902308\tvalid_1's auc: 0.880091\n",
      "Early stopping, best iteration is:\n",
      "[262]\ttraining's auc: 0.908015\tvalid_1's auc: 0.880652\n",
      "-\n",
      "Fold 4\n"
     ]
    },
    {
     "name": "stderr",
     "output_type": "stream",
     "text": [
      "E:\\Anaconda\\envs\\ML\\lib\\site-packages\\lightgbm\\basic.py:742: UserWarning: categorical_feature in param dict is overridden.\n",
      "  warnings.warn('categorical_feature in param dict is overridden.')\n"
     ]
    },
    {
     "name": "stdout",
     "output_type": "stream",
     "text": [
      "Training until validation scores don't improve for 25 rounds.\n",
      "Early stopping, best iteration is:\n",
      "[172]\ttraining's auc: 0.898149\tvalid_1's auc: 0.886952\n",
      "-\n",
      "Fold 5\n",
      "Training until validation scores don't improve for 25 rounds.\n"
     ]
    },
    {
     "name": "stderr",
     "output_type": "stream",
     "text": [
      "E:\\Anaconda\\envs\\ML\\lib\\site-packages\\lightgbm\\basic.py:742: UserWarning: categorical_feature in param dict is overridden.\n",
      "  warnings.warn('categorical_feature in param dict is overridden.')\n"
     ]
    },
    {
     "name": "stdout",
     "output_type": "stream",
     "text": [
      "[200]\ttraining's auc: 0.902049\tvalid_1's auc: 0.883059\n",
      "Early stopping, best iteration is:\n",
      "[282]\ttraining's auc: 0.909459\tvalid_1's auc: 0.883981\n",
      "\n",
      "Avg Accuracy Train Set: 82.16274377874888\n",
      "Avg Accuracy Test Set: 80.03255971419301\n",
      "\n",
      "Avg Recall: 77.16085555219884\n",
      "Avg Precision: 81.86729799268605\n",
      "8 20 1.0\n",
      "-\n",
      "Fold 1\n",
      "Training until validation scores don't improve for 25 rounds.\n"
     ]
    },
    {
     "name": "stderr",
     "output_type": "stream",
     "text": [
      "E:\\Anaconda\\envs\\ML\\lib\\site-packages\\lightgbm\\basic.py:742: UserWarning: categorical_feature in param dict is overridden.\n",
      "  warnings.warn('categorical_feature in param dict is overridden.')\n"
     ]
    },
    {
     "name": "stdout",
     "output_type": "stream",
     "text": [
      "[200]\ttraining's auc: 0.903409\tvalid_1's auc: 0.879958\n",
      "Early stopping, best iteration is:\n",
      "[201]\ttraining's auc: 0.903528\tvalid_1's auc: 0.879981\n",
      "-\n",
      "Fold 2\n",
      "Training until validation scores don't improve for 25 rounds.\n"
     ]
    },
    {
     "name": "stderr",
     "output_type": "stream",
     "text": [
      "E:\\Anaconda\\envs\\ML\\lib\\site-packages\\lightgbm\\basic.py:742: UserWarning: categorical_feature in param dict is overridden.\n",
      "  warnings.warn('categorical_feature in param dict is overridden.')\n"
     ]
    },
    {
     "name": "stdout",
     "output_type": "stream",
     "text": [
      "Early stopping, best iteration is:\n",
      "[167]\ttraining's auc: 0.899262\tvalid_1's auc: 0.883246\n",
      "-\n",
      "Fold 3\n",
      "Training until validation scores don't improve for 25 rounds.\n"
     ]
    },
    {
     "name": "stderr",
     "output_type": "stream",
     "text": [
      "E:\\Anaconda\\envs\\ML\\lib\\site-packages\\lightgbm\\basic.py:742: UserWarning: categorical_feature in param dict is overridden.\n",
      "  warnings.warn('categorical_feature in param dict is overridden.')\n"
     ]
    },
    {
     "name": "stdout",
     "output_type": "stream",
     "text": [
      "[200]\ttraining's auc: 0.902579\tvalid_1's auc: 0.879691\n",
      "Early stopping, best iteration is:\n",
      "[234]\ttraining's auc: 0.906058\tvalid_1's auc: 0.880126\n",
      "-\n",
      "Fold 4\n",
      "Training until validation scores don't improve for 25 rounds.\n"
     ]
    },
    {
     "name": "stderr",
     "output_type": "stream",
     "text": [
      "E:\\Anaconda\\envs\\ML\\lib\\site-packages\\lightgbm\\basic.py:742: UserWarning: categorical_feature in param dict is overridden.\n",
      "  warnings.warn('categorical_feature in param dict is overridden.')\n"
     ]
    },
    {
     "name": "stdout",
     "output_type": "stream",
     "text": [
      "[200]\ttraining's auc: 0.901155\tvalid_1's auc: 0.886576\n",
      "Early stopping, best iteration is:\n",
      "[199]\ttraining's auc: 0.901038\tvalid_1's auc: 0.8866\n",
      "-\n",
      "Fold 5\n",
      "Training until validation scores don't improve for 25 rounds.\n"
     ]
    },
    {
     "name": "stderr",
     "output_type": "stream",
     "text": [
      "E:\\Anaconda\\envs\\ML\\lib\\site-packages\\lightgbm\\basic.py:742: UserWarning: categorical_feature in param dict is overridden.\n",
      "  warnings.warn('categorical_feature in param dict is overridden.')\n"
     ]
    },
    {
     "name": "stdout",
     "output_type": "stream",
     "text": [
      "[200]\ttraining's auc: 0.90189\tvalid_1's auc: 0.88344\n",
      "Early stopping, best iteration is:\n",
      "[249]\ttraining's auc: 0.90658\tvalid_1's auc: 0.883791\n",
      "\n",
      "Avg Accuracy Train Set: 81.93554446249821\n",
      "Avg Accuracy Test Set: 80.1638898270104\n",
      "\n",
      "Avg Recall: 77.3191400973839\n",
      "Avg Precision: 81.98788932207064\n",
      "8 25 0.5\n",
      "-\n",
      "Fold 1\n",
      "Training until validation scores don't improve for 25 rounds.\n"
     ]
    },
    {
     "name": "stderr",
     "output_type": "stream",
     "text": [
      "E:\\Anaconda\\envs\\ML\\lib\\site-packages\\lightgbm\\basic.py:742: UserWarning: categorical_feature in param dict is overridden.\n",
      "  warnings.warn('categorical_feature in param dict is overridden.')\n"
     ]
    },
    {
     "name": "stdout",
     "output_type": "stream",
     "text": [
      "[200]\ttraining's auc: 0.900081\tvalid_1's auc: 0.879243\n",
      "Early stopping, best iteration is:\n",
      "[186]\ttraining's auc: 0.89894\tvalid_1's auc: 0.879376\n",
      "-\n",
      "Fold 2\n",
      "Training until validation scores don't improve for 25 rounds.\n"
     ]
    },
    {
     "name": "stderr",
     "output_type": "stream",
     "text": [
      "E:\\Anaconda\\envs\\ML\\lib\\site-packages\\lightgbm\\basic.py:742: UserWarning: categorical_feature in param dict is overridden.\n",
      "  warnings.warn('categorical_feature in param dict is overridden.')\n"
     ]
    },
    {
     "name": "stdout",
     "output_type": "stream",
     "text": [
      "[200]\ttraining's auc: 0.899612\tvalid_1's auc: 0.883823\n",
      "Early stopping, best iteration is:\n",
      "[226]\ttraining's auc: 0.902071\tvalid_1's auc: 0.884332\n",
      "-\n",
      "Fold 3\n",
      "Training until validation scores don't improve for 25 rounds.\n"
     ]
    },
    {
     "name": "stderr",
     "output_type": "stream",
     "text": [
      "E:\\Anaconda\\envs\\ML\\lib\\site-packages\\lightgbm\\basic.py:742: UserWarning: categorical_feature in param dict is overridden.\n",
      "  warnings.warn('categorical_feature in param dict is overridden.')\n"
     ]
    },
    {
     "name": "stdout",
     "output_type": "stream",
     "text": [
      "[200]\ttraining's auc: 0.899244\tvalid_1's auc: 0.879616\n",
      "Early stopping, best iteration is:\n",
      "[238]\ttraining's auc: 0.902607\tvalid_1's auc: 0.880138\n",
      "-\n",
      "Fold 4\n",
      "Training until validation scores don't improve for 25 rounds.\n"
     ]
    },
    {
     "name": "stderr",
     "output_type": "stream",
     "text": [
      "E:\\Anaconda\\envs\\ML\\lib\\site-packages\\lightgbm\\basic.py:742: UserWarning: categorical_feature in param dict is overridden.\n",
      "  warnings.warn('categorical_feature in param dict is overridden.')\n"
     ]
    },
    {
     "name": "stdout",
     "output_type": "stream",
     "text": [
      "[200]\ttraining's auc: 0.898858\tvalid_1's auc: 0.885776\n",
      "Early stopping, best iteration is:\n",
      "[223]\ttraining's auc: 0.901006\tvalid_1's auc: 0.886229\n",
      "-\n",
      "Fold 5\n",
      "Training until validation scores don't improve for 25 rounds.\n"
     ]
    },
    {
     "name": "stderr",
     "output_type": "stream",
     "text": [
      "E:\\Anaconda\\envs\\ML\\lib\\site-packages\\lightgbm\\basic.py:742: UserWarning: categorical_feature in param dict is overridden.\n",
      "  warnings.warn('categorical_feature in param dict is overridden.')\n"
     ]
    },
    {
     "name": "stdout",
     "output_type": "stream",
     "text": [
      "[200]\ttraining's auc: 0.899745\tvalid_1's auc: 0.882997\n",
      "Early stopping, best iteration is:\n",
      "[338]\ttraining's auc: 0.910458\tvalid_1's auc: 0.884041\n",
      "\n",
      "Avg Accuracy Train Set: 81.89351066839612\n",
      "Avg Accuracy Test Set: 80.0168089300338\n",
      "\n",
      "Avg Recall: 77.37858797722657\n",
      "Avg Precision: 81.6917162238393\n",
      "8 25 0.6000000000000001\n",
      "-\n",
      "Fold 1\n",
      "Training until validation scores don't improve for 25 rounds.\n"
     ]
    },
    {
     "name": "stderr",
     "output_type": "stream",
     "text": [
      "E:\\Anaconda\\envs\\ML\\lib\\site-packages\\lightgbm\\basic.py:742: UserWarning: categorical_feature in param dict is overridden.\n",
      "  warnings.warn('categorical_feature in param dict is overridden.')\n"
     ]
    },
    {
     "name": "stdout",
     "output_type": "stream",
     "text": [
      "Early stopping, best iteration is:\n",
      "[170]\ttraining's auc: 0.89858\tvalid_1's auc: 0.879502\n",
      "-\n",
      "Fold 2\n",
      "Training until validation scores don't improve for 25 rounds.\n"
     ]
    },
    {
     "name": "stderr",
     "output_type": "stream",
     "text": [
      "E:\\Anaconda\\envs\\ML\\lib\\site-packages\\lightgbm\\basic.py:742: UserWarning: categorical_feature in param dict is overridden.\n",
      "  warnings.warn('categorical_feature in param dict is overridden.')\n"
     ]
    },
    {
     "name": "stdout",
     "output_type": "stream",
     "text": [
      "[200]\ttraining's auc: 0.90015\tvalid_1's auc: 0.884321\n",
      "Early stopping, best iteration is:\n",
      "[225]\ttraining's auc: 0.902712\tvalid_1's auc: 0.884729\n",
      "-\n",
      "Fold 3\n",
      "Training until validation scores don't improve for 25 rounds.\n"
     ]
    },
    {
     "name": "stderr",
     "output_type": "stream",
     "text": [
      "E:\\Anaconda\\envs\\ML\\lib\\site-packages\\lightgbm\\basic.py:742: UserWarning: categorical_feature in param dict is overridden.\n",
      "  warnings.warn('categorical_feature in param dict is overridden.')\n"
     ]
    },
    {
     "name": "stdout",
     "output_type": "stream",
     "text": [
      "[200]\ttraining's auc: 0.900542\tvalid_1's auc: 0.880642\n",
      "Early stopping, best iteration is:\n",
      "[235]\ttraining's auc: 0.903693\tvalid_1's auc: 0.881382\n",
      "-\n",
      "Fold 4\n",
      "Training until validation scores don't improve for 25 rounds.\n"
     ]
    },
    {
     "name": "stderr",
     "output_type": "stream",
     "text": [
      "E:\\Anaconda\\envs\\ML\\lib\\site-packages\\lightgbm\\basic.py:742: UserWarning: categorical_feature in param dict is overridden.\n",
      "  warnings.warn('categorical_feature in param dict is overridden.')\n"
     ]
    },
    {
     "name": "stdout",
     "output_type": "stream",
     "text": [
      "[200]\ttraining's auc: 0.899635\tvalid_1's auc: 0.887532\n",
      "Early stopping, best iteration is:\n",
      "[214]\ttraining's auc: 0.900902\tvalid_1's auc: 0.88779\n",
      "-\n",
      "Fold 5\n",
      "Training until validation scores don't improve for 25 rounds.\n"
     ]
    },
    {
     "name": "stderr",
     "output_type": "stream",
     "text": [
      "E:\\Anaconda\\envs\\ML\\lib\\site-packages\\lightgbm\\basic.py:742: UserWarning: categorical_feature in param dict is overridden.\n",
      "  warnings.warn('categorical_feature in param dict is overridden.')\n"
     ]
    },
    {
     "name": "stdout",
     "output_type": "stream",
     "text": [
      "[200]\ttraining's auc: 0.900388\tvalid_1's auc: 0.883995\n",
      "Early stopping, best iteration is:\n",
      "[195]\ttraining's auc: 0.899928\tvalid_1's auc: 0.884103\n",
      "\n",
      "Avg Accuracy Train Set: 81.7096496334922\n",
      "Avg Accuracy Test Set: 80.19015998834523\n",
      "\n",
      "Avg Recall: 77.37683623082668\n",
      "Avg Precision: 81.98869732987579\n",
      "8 25 0.7000000000000001\n",
      "-\n",
      "Fold 1\n",
      "Training until validation scores don't improve for 25 rounds.\n"
     ]
    },
    {
     "name": "stderr",
     "output_type": "stream",
     "text": [
      "E:\\Anaconda\\envs\\ML\\lib\\site-packages\\lightgbm\\basic.py:742: UserWarning: categorical_feature in param dict is overridden.\n",
      "  warnings.warn('categorical_feature in param dict is overridden.')\n"
     ]
    },
    {
     "name": "stdout",
     "output_type": "stream",
     "text": [
      "[200]\ttraining's auc: 0.90237\tvalid_1's auc: 0.88055\n",
      "Early stopping, best iteration is:\n",
      "[199]\ttraining's auc: 0.902271\tvalid_1's auc: 0.880628\n",
      "-\n",
      "Fold 2\n",
      "Training until validation scores don't improve for 25 rounds.\n"
     ]
    },
    {
     "name": "stderr",
     "output_type": "stream",
     "text": [
      "E:\\Anaconda\\envs\\ML\\lib\\site-packages\\lightgbm\\basic.py:742: UserWarning: categorical_feature in param dict is overridden.\n",
      "  warnings.warn('categorical_feature in param dict is overridden.')\n"
     ]
    },
    {
     "name": "stdout",
     "output_type": "stream",
     "text": [
      "[200]\ttraining's auc: 0.900421\tvalid_1's auc: 0.883399\n",
      "Early stopping, best iteration is:\n",
      "[207]\ttraining's auc: 0.901263\tvalid_1's auc: 0.883689\n",
      "-\n",
      "Fold 3\n",
      "Training until validation scores don't improve for 25 rounds.\n"
     ]
    },
    {
     "name": "stderr",
     "output_type": "stream",
     "text": [
      "E:\\Anaconda\\envs\\ML\\lib\\site-packages\\lightgbm\\basic.py:742: UserWarning: categorical_feature in param dict is overridden.\n",
      "  warnings.warn('categorical_feature in param dict is overridden.')\n"
     ]
    },
    {
     "name": "stdout",
     "output_type": "stream",
     "text": [
      "[200]\ttraining's auc: 0.901615\tvalid_1's auc: 0.880663\n",
      "Early stopping, best iteration is:\n",
      "[205]\ttraining's auc: 0.902133\tvalid_1's auc: 0.880691\n",
      "-\n",
      "Fold 4\n",
      "Training until validation scores don't improve for 25 rounds.\n"
     ]
    },
    {
     "name": "stderr",
     "output_type": "stream",
     "text": [
      "E:\\Anaconda\\envs\\ML\\lib\\site-packages\\lightgbm\\basic.py:742: UserWarning: categorical_feature in param dict is overridden.\n",
      "  warnings.warn('categorical_feature in param dict is overridden.')\n"
     ]
    },
    {
     "name": "stdout",
     "output_type": "stream",
     "text": [
      "[200]\ttraining's auc: 0.900172\tvalid_1's auc: 0.886476\n",
      "Early stopping, best iteration is:\n",
      "[239]\ttraining's auc: 0.903779\tvalid_1's auc: 0.886809\n",
      "-\n",
      "Fold 5\n"
     ]
    },
    {
     "name": "stderr",
     "output_type": "stream",
     "text": [
      "E:\\Anaconda\\envs\\ML\\lib\\site-packages\\lightgbm\\basic.py:742: UserWarning: categorical_feature in param dict is overridden.\n",
      "  warnings.warn('categorical_feature in param dict is overridden.')\n"
     ]
    },
    {
     "name": "stdout",
     "output_type": "stream",
     "text": [
      "Training until validation scores don't improve for 25 rounds.\n",
      "[200]\ttraining's auc: 0.900482\tvalid_1's auc: 0.882827\n",
      "Early stopping, best iteration is:\n",
      "[284]\ttraining's auc: 0.907881\tvalid_1's auc: 0.883994\n",
      "\n",
      "Avg Accuracy Train Set: 82.02353206678195\n",
      "Avg Accuracy Test Set: 80.19540933000467\n",
      "\n",
      "Avg Recall: 77.1819493684856\n",
      "Avg Precision: 82.13508450371539\n",
      "8 25 0.8\n",
      "-\n",
      "Fold 1\n",
      "Training until validation scores don't improve for 25 rounds.\n"
     ]
    },
    {
     "name": "stderr",
     "output_type": "stream",
     "text": [
      "E:\\Anaconda\\envs\\ML\\lib\\site-packages\\lightgbm\\basic.py:742: UserWarning: categorical_feature in param dict is overridden.\n",
      "  warnings.warn('categorical_feature in param dict is overridden.')\n"
     ]
    },
    {
     "name": "stdout",
     "output_type": "stream",
     "text": [
      "Early stopping, best iteration is:\n",
      "[174]\ttraining's auc: 0.899545\tvalid_1's auc: 0.879358\n",
      "-\n",
      "Fold 2\n",
      "Training until validation scores don't improve for 25 rounds.\n"
     ]
    },
    {
     "name": "stderr",
     "output_type": "stream",
     "text": [
      "E:\\Anaconda\\envs\\ML\\lib\\site-packages\\lightgbm\\basic.py:742: UserWarning: categorical_feature in param dict is overridden.\n",
      "  warnings.warn('categorical_feature in param dict is overridden.')\n"
     ]
    },
    {
     "name": "stdout",
     "output_type": "stream",
     "text": [
      "[200]\ttraining's auc: 0.901377\tvalid_1's auc: 0.883426\n",
      "Early stopping, best iteration is:\n",
      "[179]\ttraining's auc: 0.899111\tvalid_1's auc: 0.883668\n",
      "-\n",
      "Fold 3\n",
      "Training until validation scores don't improve for 25 rounds.\n"
     ]
    },
    {
     "name": "stderr",
     "output_type": "stream",
     "text": [
      "E:\\Anaconda\\envs\\ML\\lib\\site-packages\\lightgbm\\basic.py:742: UserWarning: categorical_feature in param dict is overridden.\n",
      "  warnings.warn('categorical_feature in param dict is overridden.')\n"
     ]
    },
    {
     "name": "stdout",
     "output_type": "stream",
     "text": [
      "[200]\ttraining's auc: 0.902157\tvalid_1's auc: 0.881685\n",
      "Early stopping, best iteration is:\n",
      "[294]\ttraining's auc: 0.910492\tvalid_1's auc: 0.882732\n",
      "-\n",
      "Fold 4\n",
      "Training until validation scores don't improve for 25 rounds.\n"
     ]
    },
    {
     "name": "stderr",
     "output_type": "stream",
     "text": [
      "E:\\Anaconda\\envs\\ML\\lib\\site-packages\\lightgbm\\basic.py:742: UserWarning: categorical_feature in param dict is overridden.\n",
      "  warnings.warn('categorical_feature in param dict is overridden.')\n"
     ]
    },
    {
     "name": "stdout",
     "output_type": "stream",
     "text": [
      "[200]\ttraining's auc: 0.900987\tvalid_1's auc: 0.887591\n",
      "Early stopping, best iteration is:\n",
      "[216]\ttraining's auc: 0.902486\tvalid_1's auc: 0.88799\n",
      "-\n",
      "Fold 5\n",
      "Training until validation scores don't improve for 25 rounds.\n"
     ]
    },
    {
     "name": "stderr",
     "output_type": "stream",
     "text": [
      "E:\\Anaconda\\envs\\ML\\lib\\site-packages\\lightgbm\\basic.py:742: UserWarning: categorical_feature in param dict is overridden.\n",
      "  warnings.warn('categorical_feature in param dict is overridden.')\n"
     ]
    },
    {
     "name": "stdout",
     "output_type": "stream",
     "text": [
      "[200]\ttraining's auc: 0.901895\tvalid_1's auc: 0.883332\n",
      "Early stopping, best iteration is:\n",
      "[348]\ttraining's auc: 0.914754\tvalid_1's auc: 0.884906\n",
      "\n",
      "Avg Accuracy Train Set: 82.18374735150539\n",
      "Avg Accuracy Test Set: 80.31624351868408\n",
      "\n",
      "Avg Recall: 77.60016598629173\n",
      "Avg Precision: 82.0641242548557\n",
      "8 25 0.9\n",
      "-\n",
      "Fold 1\n",
      "Training until validation scores don't improve for 25 rounds.\n"
     ]
    },
    {
     "name": "stderr",
     "output_type": "stream",
     "text": [
      "E:\\Anaconda\\envs\\ML\\lib\\site-packages\\lightgbm\\basic.py:742: UserWarning: categorical_feature in param dict is overridden.\n",
      "  warnings.warn('categorical_feature in param dict is overridden.')\n"
     ]
    },
    {
     "name": "stdout",
     "output_type": "stream",
     "text": [
      "Early stopping, best iteration is:\n",
      "[145]\ttraining's auc: 0.896743\tvalid_1's auc: 0.879135\n",
      "-\n",
      "Fold 2\n",
      "Training until validation scores don't improve for 25 rounds.\n"
     ]
    },
    {
     "name": "stderr",
     "output_type": "stream",
     "text": [
      "E:\\Anaconda\\envs\\ML\\lib\\site-packages\\lightgbm\\basic.py:742: UserWarning: categorical_feature in param dict is overridden.\n",
      "  warnings.warn('categorical_feature in param dict is overridden.')\n"
     ]
    },
    {
     "name": "stdout",
     "output_type": "stream",
     "text": [
      "[200]\ttraining's auc: 0.901739\tvalid_1's auc: 0.883374\n",
      "Early stopping, best iteration is:\n",
      "[187]\ttraining's auc: 0.900586\tvalid_1's auc: 0.883558\n",
      "-\n",
      "Fold 3\n",
      "Training until validation scores don't improve for 25 rounds.\n"
     ]
    },
    {
     "name": "stderr",
     "output_type": "stream",
     "text": [
      "E:\\Anaconda\\envs\\ML\\lib\\site-packages\\lightgbm\\basic.py:742: UserWarning: categorical_feature in param dict is overridden.\n",
      "  warnings.warn('categorical_feature in param dict is overridden.')\n"
     ]
    },
    {
     "name": "stdout",
     "output_type": "stream",
     "text": [
      "[200]\ttraining's auc: 0.902161\tvalid_1's auc: 0.880743\n",
      "Early stopping, best iteration is:\n",
      "[189]\ttraining's auc: 0.900999\tvalid_1's auc: 0.880882\n",
      "-\n",
      "Fold 4\n",
      "Training until validation scores don't improve for 25 rounds.\n"
     ]
    },
    {
     "name": "stderr",
     "output_type": "stream",
     "text": [
      "E:\\Anaconda\\envs\\ML\\lib\\site-packages\\lightgbm\\basic.py:742: UserWarning: categorical_feature in param dict is overridden.\n",
      "  warnings.warn('categorical_feature in param dict is overridden.')\n"
     ]
    },
    {
     "name": "stdout",
     "output_type": "stream",
     "text": [
      "[200]\ttraining's auc: 0.901381\tvalid_1's auc: 0.887761\n",
      "Early stopping, best iteration is:\n",
      "[188]\ttraining's auc: 0.900395\tvalid_1's auc: 0.887927\n",
      "-\n",
      "Fold 5\n",
      "Training until validation scores don't improve for 25 rounds.\n"
     ]
    },
    {
     "name": "stderr",
     "output_type": "stream",
     "text": [
      "E:\\Anaconda\\envs\\ML\\lib\\site-packages\\lightgbm\\basic.py:742: UserWarning: categorical_feature in param dict is overridden.\n",
      "  warnings.warn('categorical_feature in param dict is overridden.')\n"
     ]
    },
    {
     "name": "stdout",
     "output_type": "stream",
     "text": [
      "[200]\ttraining's auc: 0.901674\tvalid_1's auc: 0.883669\n",
      "Early stopping, best iteration is:\n",
      "[287]\ttraining's auc: 0.909519\tvalid_1's auc: 0.884527\n",
      "\n",
      "Avg Accuracy Train Set: 81.8357260057958\n",
      "Avg Accuracy Test Set: 80.23220024810556\n",
      "\n",
      "Avg Recall: 77.12836204424471\n",
      "Avg Precision: 82.24097854472758\n",
      "8 25 1.0\n",
      "-\n",
      "Fold 1\n",
      "Training until validation scores don't improve for 25 rounds.\n"
     ]
    },
    {
     "name": "stderr",
     "output_type": "stream",
     "text": [
      "E:\\Anaconda\\envs\\ML\\lib\\site-packages\\lightgbm\\basic.py:742: UserWarning: categorical_feature in param dict is overridden.\n",
      "  warnings.warn('categorical_feature in param dict is overridden.')\n"
     ]
    },
    {
     "name": "stdout",
     "output_type": "stream",
     "text": [
      "[200]\ttraining's auc: 0.903353\tvalid_1's auc: 0.880447\n",
      "Early stopping, best iteration is:\n",
      "[199]\ttraining's auc: 0.903242\tvalid_1's auc: 0.880475\n",
      "-\n",
      "Fold 2\n",
      "Training until validation scores don't improve for 25 rounds.\n"
     ]
    },
    {
     "name": "stderr",
     "output_type": "stream",
     "text": [
      "E:\\Anaconda\\envs\\ML\\lib\\site-packages\\lightgbm\\basic.py:742: UserWarning: categorical_feature in param dict is overridden.\n",
      "  warnings.warn('categorical_feature in param dict is overridden.')\n"
     ]
    },
    {
     "name": "stdout",
     "output_type": "stream",
     "text": [
      "[200]\ttraining's auc: 0.902448\tvalid_1's auc: 0.882584\n",
      "Early stopping, best iteration is:\n",
      "[177]\ttraining's auc: 0.900258\tvalid_1's auc: 0.882834\n",
      "-\n",
      "Fold 3\n",
      "Training until validation scores don't improve for 25 rounds.\n"
     ]
    },
    {
     "name": "stderr",
     "output_type": "stream",
     "text": [
      "E:\\Anaconda\\envs\\ML\\lib\\site-packages\\lightgbm\\basic.py:742: UserWarning: categorical_feature in param dict is overridden.\n",
      "  warnings.warn('categorical_feature in param dict is overridden.')\n"
     ]
    },
    {
     "name": "stdout",
     "output_type": "stream",
     "text": [
      "[200]\ttraining's auc: 0.902662\tvalid_1's auc: 0.88063\n",
      "Early stopping, best iteration is:\n",
      "[208]\ttraining's auc: 0.903423\tvalid_1's auc: 0.880764\n",
      "-\n",
      "Fold 4\n",
      "Training until validation scores don't improve for 25 rounds.\n"
     ]
    },
    {
     "name": "stderr",
     "output_type": "stream",
     "text": [
      "E:\\Anaconda\\envs\\ML\\lib\\site-packages\\lightgbm\\basic.py:742: UserWarning: categorical_feature in param dict is overridden.\n",
      "  warnings.warn('categorical_feature in param dict is overridden.')\n"
     ]
    },
    {
     "name": "stdout",
     "output_type": "stream",
     "text": [
      "[200]\ttraining's auc: 0.90131\tvalid_1's auc: 0.887495\n",
      "Early stopping, best iteration is:\n",
      "[229]\ttraining's auc: 0.904187\tvalid_1's auc: 0.887609\n",
      "-\n",
      "Fold 5\n",
      "Training until validation scores don't improve for 25 rounds.\n"
     ]
    },
    {
     "name": "stderr",
     "output_type": "stream",
     "text": [
      "E:\\Anaconda\\envs\\ML\\lib\\site-packages\\lightgbm\\basic.py:742: UserWarning: categorical_feature in param dict is overridden.\n",
      "  warnings.warn('categorical_feature in param dict is overridden.')\n"
     ]
    },
    {
     "name": "stdout",
     "output_type": "stream",
     "text": [
      "[200]\ttraining's auc: 0.901923\tvalid_1's auc: 0.88377\n",
      "Early stopping, best iteration is:\n",
      "[259]\ttraining's auc: 0.907954\tvalid_1's auc: 0.884492\n",
      "\n",
      "Avg Accuracy Train Set: 82.00120649977887\n",
      "Avg Accuracy Test Set: 80.0903383417985\n",
      "\n",
      "Avg Recall: 77.26845609193376\n",
      "Avg Precision: 81.89851033094904\n",
      "8 30 0.5\n",
      "-\n",
      "Fold 1\n"
     ]
    },
    {
     "name": "stderr",
     "output_type": "stream",
     "text": [
      "E:\\Anaconda\\envs\\ML\\lib\\site-packages\\lightgbm\\basic.py:742: UserWarning: categorical_feature in param dict is overridden.\n",
      "  warnings.warn('categorical_feature in param dict is overridden.')\n"
     ]
    },
    {
     "name": "stdout",
     "output_type": "stream",
     "text": [
      "Training until validation scores don't improve for 25 rounds.\n",
      "[200]\ttraining's auc: 0.900387\tvalid_1's auc: 0.879926\n",
      "Early stopping, best iteration is:\n",
      "[243]\ttraining's auc: 0.90424\tvalid_1's auc: 0.88027\n",
      "-\n",
      "Fold 2\n",
      "Training until validation scores don't improve for 25 rounds.\n"
     ]
    },
    {
     "name": "stderr",
     "output_type": "stream",
     "text": [
      "E:\\Anaconda\\envs\\ML\\lib\\site-packages\\lightgbm\\basic.py:742: UserWarning: categorical_feature in param dict is overridden.\n",
      "  warnings.warn('categorical_feature in param dict is overridden.')\n"
     ]
    },
    {
     "name": "stdout",
     "output_type": "stream",
     "text": [
      "[200]\ttraining's auc: 0.898973\tvalid_1's auc: 0.883889\n",
      "Early stopping, best iteration is:\n",
      "[247]\ttraining's auc: 0.903002\tvalid_1's auc: 0.884941\n",
      "-\n",
      "Fold 3\n",
      "Training until validation scores don't improve for 25 rounds.\n"
     ]
    },
    {
     "name": "stderr",
     "output_type": "stream",
     "text": [
      "E:\\Anaconda\\envs\\ML\\lib\\site-packages\\lightgbm\\basic.py:742: UserWarning: categorical_feature in param dict is overridden.\n",
      "  warnings.warn('categorical_feature in param dict is overridden.')\n"
     ]
    },
    {
     "name": "stdout",
     "output_type": "stream",
     "text": [
      "[200]\ttraining's auc: 0.899409\tvalid_1's auc: 0.880705\n",
      "Early stopping, best iteration is:\n",
      "[235]\ttraining's auc: 0.902481\tvalid_1's auc: 0.881283\n",
      "-\n",
      "Fold 4\n",
      "Training until validation scores don't improve for 25 rounds.\n"
     ]
    },
    {
     "name": "stderr",
     "output_type": "stream",
     "text": [
      "E:\\Anaconda\\envs\\ML\\lib\\site-packages\\lightgbm\\basic.py:742: UserWarning: categorical_feature in param dict is overridden.\n",
      "  warnings.warn('categorical_feature in param dict is overridden.')\n"
     ]
    },
    {
     "name": "stdout",
     "output_type": "stream",
     "text": [
      "[200]\ttraining's auc: 0.89862\tvalid_1's auc: 0.885853\n",
      "Early stopping, best iteration is:\n",
      "[188]\ttraining's auc: 0.897456\tvalid_1's auc: 0.885977\n",
      "-\n",
      "Fold 5\n",
      "Training until validation scores don't improve for 25 rounds.\n"
     ]
    },
    {
     "name": "stderr",
     "output_type": "stream",
     "text": [
      "E:\\Anaconda\\envs\\ML\\lib\\site-packages\\lightgbm\\basic.py:742: UserWarning: categorical_feature in param dict is overridden.\n",
      "  warnings.warn('categorical_feature in param dict is overridden.')\n"
     ]
    },
    {
     "name": "stdout",
     "output_type": "stream",
     "text": [
      "[200]\ttraining's auc: 0.899859\tvalid_1's auc: 0.883839\n",
      "Early stopping, best iteration is:\n",
      "[261]\ttraining's auc: 0.904745\tvalid_1's auc: 0.884472\n",
      "\n",
      "Avg Accuracy Train Set: 81.85411982789047\n",
      "Avg Accuracy Test Set: 80.16389120660085\n",
      "\n",
      "Avg Recall: 77.52601585872608\n",
      "Avg Precision: 81.84618025940709\n",
      "8 30 0.6000000000000001\n",
      "-\n",
      "Fold 1\n"
     ]
    },
    {
     "name": "stderr",
     "output_type": "stream",
     "text": [
      "E:\\Anaconda\\envs\\ML\\lib\\site-packages\\lightgbm\\basic.py:742: UserWarning: categorical_feature in param dict is overridden.\n",
      "  warnings.warn('categorical_feature in param dict is overridden.')\n"
     ]
    },
    {
     "name": "stdout",
     "output_type": "stream",
     "text": [
      "Training until validation scores don't improve for 25 rounds.\n",
      "Early stopping, best iteration is:\n",
      "[174]\ttraining's auc: 0.898447\tvalid_1's auc: 0.880099\n",
      "-\n",
      "Fold 2\n",
      "Training until validation scores don't improve for 25 rounds.\n"
     ]
    },
    {
     "name": "stderr",
     "output_type": "stream",
     "text": [
      "E:\\Anaconda\\envs\\ML\\lib\\site-packages\\lightgbm\\basic.py:742: UserWarning: categorical_feature in param dict is overridden.\n",
      "  warnings.warn('categorical_feature in param dict is overridden.')\n"
     ]
    },
    {
     "name": "stdout",
     "output_type": "stream",
     "text": [
      "[200]\ttraining's auc: 0.899989\tvalid_1's auc: 0.883349\n",
      "Early stopping, best iteration is:\n",
      "[299]\ttraining's auc: 0.907952\tvalid_1's auc: 0.88459\n",
      "-\n",
      "Fold 3\n",
      "Training until validation scores don't improve for 25 rounds.\n"
     ]
    },
    {
     "name": "stderr",
     "output_type": "stream",
     "text": [
      "E:\\Anaconda\\envs\\ML\\lib\\site-packages\\lightgbm\\basic.py:742: UserWarning: categorical_feature in param dict is overridden.\n",
      "  warnings.warn('categorical_feature in param dict is overridden.')\n"
     ]
    },
    {
     "name": "stdout",
     "output_type": "stream",
     "text": [
      "[200]\ttraining's auc: 0.900025\tvalid_1's auc: 0.880836\n",
      "Early stopping, best iteration is:\n",
      "[303]\ttraining's auc: 0.90849\tvalid_1's auc: 0.88222\n",
      "-\n",
      "Fold 4\n",
      "Training until validation scores don't improve for 25 rounds.\n"
     ]
    },
    {
     "name": "stderr",
     "output_type": "stream",
     "text": [
      "E:\\Anaconda\\envs\\ML\\lib\\site-packages\\lightgbm\\basic.py:742: UserWarning: categorical_feature in param dict is overridden.\n",
      "  warnings.warn('categorical_feature in param dict is overridden.')\n"
     ]
    },
    {
     "name": "stdout",
     "output_type": "stream",
     "text": [
      "[200]\ttraining's auc: 0.899961\tvalid_1's auc: 0.887133\n",
      "Early stopping, best iteration is:\n",
      "[243]\ttraining's auc: 0.903713\tvalid_1's auc: 0.887564\n",
      "-\n",
      "Fold 5\n"
     ]
    },
    {
     "name": "stderr",
     "output_type": "stream",
     "text": [
      "E:\\Anaconda\\envs\\ML\\lib\\site-packages\\lightgbm\\basic.py:742: UserWarning: categorical_feature in param dict is overridden.\n",
      "  warnings.warn('categorical_feature in param dict is overridden.')\n"
     ]
    },
    {
     "name": "stdout",
     "output_type": "stream",
     "text": [
      "Training until validation scores don't improve for 25 rounds.\n",
      "[200]\ttraining's auc: 0.900672\tvalid_1's auc: 0.88315\n",
      "[400]\ttraining's auc: 0.915431\tvalid_1's auc: 0.884805\n",
      "Early stopping, best iteration is:\n",
      "[419]\ttraining's auc: 0.916759\tvalid_1's auc: 0.884954\n",
      "\n",
      "Avg Accuracy Train Set: 82.32558080168718\n",
      "Avg Accuracy Test Set: 80.27945673935453\n",
      "\n",
      "Avg Recall: 77.57827860027751\n",
      "Avg Precision: 82.01112831146183\n",
      "8 30 0.7000000000000001\n",
      "-\n",
      "Fold 1\n",
      "Training until validation scores don't improve for 25 rounds.\n"
     ]
    },
    {
     "name": "stderr",
     "output_type": "stream",
     "text": [
      "E:\\Anaconda\\envs\\ML\\lib\\site-packages\\lightgbm\\basic.py:742: UserWarning: categorical_feature in param dict is overridden.\n",
      "  warnings.warn('categorical_feature in param dict is overridden.')\n"
     ]
    },
    {
     "name": "stdout",
     "output_type": "stream",
     "text": [
      "Early stopping, best iteration is:\n",
      "[173]\ttraining's auc: 0.899354\tvalid_1's auc: 0.880216\n",
      "-\n",
      "Fold 2\n",
      "Training until validation scores don't improve for 25 rounds.\n"
     ]
    },
    {
     "name": "stderr",
     "output_type": "stream",
     "text": [
      "E:\\Anaconda\\envs\\ML\\lib\\site-packages\\lightgbm\\basic.py:742: UserWarning: categorical_feature in param dict is overridden.\n",
      "  warnings.warn('categorical_feature in param dict is overridden.')\n"
     ]
    },
    {
     "name": "stdout",
     "output_type": "stream",
     "text": [
      "[200]\ttraining's auc: 0.901187\tvalid_1's auc: 0.883682\n",
      "Early stopping, best iteration is:\n",
      "[254]\ttraining's auc: 0.905874\tvalid_1's auc: 0.8842\n",
      "-\n",
      "Fold 3\n",
      "Training until validation scores don't improve for 25 rounds.\n"
     ]
    },
    {
     "name": "stderr",
     "output_type": "stream",
     "text": [
      "E:\\Anaconda\\envs\\ML\\lib\\site-packages\\lightgbm\\basic.py:742: UserWarning: categorical_feature in param dict is overridden.\n",
      "  warnings.warn('categorical_feature in param dict is overridden.')\n"
     ]
    },
    {
     "name": "stdout",
     "output_type": "stream",
     "text": [
      "[200]\ttraining's auc: 0.901345\tvalid_1's auc: 0.88068\n",
      "Early stopping, best iteration is:\n",
      "[262]\ttraining's auc: 0.907017\tvalid_1's auc: 0.881557\n",
      "-\n",
      "Fold 4\n",
      "Training until validation scores don't improve for 25 rounds.\n"
     ]
    },
    {
     "name": "stderr",
     "output_type": "stream",
     "text": [
      "E:\\Anaconda\\envs\\ML\\lib\\site-packages\\lightgbm\\basic.py:742: UserWarning: categorical_feature in param dict is overridden.\n",
      "  warnings.warn('categorical_feature in param dict is overridden.')\n"
     ]
    },
    {
     "name": "stdout",
     "output_type": "stream",
     "text": [
      "[200]\ttraining's auc: 0.899891\tvalid_1's auc: 0.88563\n",
      "Early stopping, best iteration is:\n",
      "[182]\ttraining's auc: 0.897947\tvalid_1's auc: 0.885841\n",
      "-\n",
      "Fold 5\n",
      "Training until validation scores don't improve for 25 rounds.\n"
     ]
    },
    {
     "name": "stderr",
     "output_type": "stream",
     "text": [
      "E:\\Anaconda\\envs\\ML\\lib\\site-packages\\lightgbm\\basic.py:742: UserWarning: categorical_feature in param dict is overridden.\n",
      "  warnings.warn('categorical_feature in param dict is overridden.')\n"
     ]
    },
    {
     "name": "stdout",
     "output_type": "stream",
     "text": [
      "[200]\ttraining's auc: 0.900395\tvalid_1's auc: 0.883029\n",
      "Early stopping, best iteration is:\n",
      "[296]\ttraining's auc: 0.908285\tvalid_1's auc: 0.884112\n",
      "\n",
      "Avg Accuracy Train Set: 82.01958738566526\n",
      "Avg Accuracy Test Set: 80.02731865007627\n",
      "\n",
      "Avg Recall: 76.96766374086194\n",
      "Avg Precision: 81.98247783913062\n",
      "8 30 0.8\n",
      "-\n",
      "Fold 1\n",
      "Training until validation scores don't improve for 25 rounds.\n"
     ]
    },
    {
     "name": "stderr",
     "output_type": "stream",
     "text": [
      "E:\\Anaconda\\envs\\ML\\lib\\site-packages\\lightgbm\\basic.py:742: UserWarning: categorical_feature in param dict is overridden.\n",
      "  warnings.warn('categorical_feature in param dict is overridden.')\n"
     ]
    },
    {
     "name": "stdout",
     "output_type": "stream",
     "text": [
      "Early stopping, best iteration is:\n",
      "[167]\ttraining's auc: 0.89901\tvalid_1's auc: 0.87867\n",
      "-\n",
      "Fold 2\n",
      "Training until validation scores don't improve for 25 rounds.\n"
     ]
    },
    {
     "name": "stderr",
     "output_type": "stream",
     "text": [
      "E:\\Anaconda\\envs\\ML\\lib\\site-packages\\lightgbm\\basic.py:742: UserWarning: categorical_feature in param dict is overridden.\n",
      "  warnings.warn('categorical_feature in param dict is overridden.')\n"
     ]
    },
    {
     "name": "stdout",
     "output_type": "stream",
     "text": [
      "[200]\ttraining's auc: 0.901018\tvalid_1's auc: 0.88405\n",
      "Early stopping, best iteration is:\n",
      "[224]\ttraining's auc: 0.903379\tvalid_1's auc: 0.884503\n",
      "-\n",
      "Fold 3\n",
      "Training until validation scores don't improve for 25 rounds.\n"
     ]
    },
    {
     "name": "stderr",
     "output_type": "stream",
     "text": [
      "E:\\Anaconda\\envs\\ML\\lib\\site-packages\\lightgbm\\basic.py:742: UserWarning: categorical_feature in param dict is overridden.\n",
      "  warnings.warn('categorical_feature in param dict is overridden.')\n"
     ]
    },
    {
     "name": "stdout",
     "output_type": "stream",
     "text": [
      "[200]\ttraining's auc: 0.902082\tvalid_1's auc: 0.881433\n",
      "Early stopping, best iteration is:\n",
      "[193]\ttraining's auc: 0.901403\tvalid_1's auc: 0.881515\n",
      "-\n",
      "Fold 4\n",
      "Training until validation scores don't improve for 25 rounds.\n"
     ]
    },
    {
     "name": "stderr",
     "output_type": "stream",
     "text": [
      "E:\\Anaconda\\envs\\ML\\lib\\site-packages\\lightgbm\\basic.py:742: UserWarning: categorical_feature in param dict is overridden.\n",
      "  warnings.warn('categorical_feature in param dict is overridden.')\n"
     ]
    },
    {
     "name": "stdout",
     "output_type": "stream",
     "text": [
      "[200]\ttraining's auc: 0.900537\tvalid_1's auc: 0.887513\n",
      "Early stopping, best iteration is:\n",
      "[222]\ttraining's auc: 0.902565\tvalid_1's auc: 0.887868\n",
      "-\n",
      "Fold 5\n",
      "Training until validation scores don't improve for 25 rounds.\n"
     ]
    },
    {
     "name": "stderr",
     "output_type": "stream",
     "text": [
      "E:\\Anaconda\\envs\\ML\\lib\\site-packages\\lightgbm\\basic.py:742: UserWarning: categorical_feature in param dict is overridden.\n",
      "  warnings.warn('categorical_feature in param dict is overridden.')\n"
     ]
    },
    {
     "name": "stdout",
     "output_type": "stream",
     "text": [
      "[200]\ttraining's auc: 0.901307\tvalid_1's auc: 0.883626\n",
      "Early stopping, best iteration is:\n",
      "[294]\ttraining's auc: 0.909365\tvalid_1's auc: 0.884885\n",
      "\n",
      "Avg Accuracy Train Set: 82.01696004176014\n",
      "Avg Accuracy Test Set: 80.19018482097331\n",
      "\n",
      "Avg Recall: 77.30627265503932\n",
      "Avg Precision: 82.0425698854688\n",
      "8 30 0.9\n",
      "-\n",
      "Fold 1\n",
      "Training until validation scores don't improve for 25 rounds.\n"
     ]
    },
    {
     "name": "stderr",
     "output_type": "stream",
     "text": [
      "E:\\Anaconda\\envs\\ML\\lib\\site-packages\\lightgbm\\basic.py:742: UserWarning: categorical_feature in param dict is overridden.\n",
      "  warnings.warn('categorical_feature in param dict is overridden.')\n"
     ]
    },
    {
     "name": "stdout",
     "output_type": "stream",
     "text": [
      "[200]\ttraining's auc: 0.902706\tvalid_1's auc: 0.879897\n",
      "Early stopping, best iteration is:\n",
      "[195]\ttraining's auc: 0.902306\tvalid_1's auc: 0.880045\n",
      "-\n",
      "Fold 2\n",
      "Training until validation scores don't improve for 25 rounds.\n"
     ]
    },
    {
     "name": "stderr",
     "output_type": "stream",
     "text": [
      "E:\\Anaconda\\envs\\ML\\lib\\site-packages\\lightgbm\\basic.py:742: UserWarning: categorical_feature in param dict is overridden.\n",
      "  warnings.warn('categorical_feature in param dict is overridden.')\n"
     ]
    },
    {
     "name": "stdout",
     "output_type": "stream",
     "text": [
      "[200]\ttraining's auc: 0.901059\tvalid_1's auc: 0.883711\n",
      "Early stopping, best iteration is:\n",
      "[296]\ttraining's auc: 0.909684\tvalid_1's auc: 0.884635\n",
      "-\n",
      "Fold 3\n",
      "Training until validation scores don't improve for 25 rounds.\n"
     ]
    },
    {
     "name": "stderr",
     "output_type": "stream",
     "text": [
      "E:\\Anaconda\\envs\\ML\\lib\\site-packages\\lightgbm\\basic.py:742: UserWarning: categorical_feature in param dict is overridden.\n",
      "  warnings.warn('categorical_feature in param dict is overridden.')\n"
     ]
    },
    {
     "name": "stdout",
     "output_type": "stream",
     "text": [
      "[200]\ttraining's auc: 0.902045\tvalid_1's auc: 0.880929\n",
      "Early stopping, best iteration is:\n",
      "[280]\ttraining's auc: 0.909071\tvalid_1's auc: 0.881647\n",
      "-\n",
      "Fold 4\n"
     ]
    },
    {
     "name": "stderr",
     "output_type": "stream",
     "text": [
      "E:\\Anaconda\\envs\\ML\\lib\\site-packages\\lightgbm\\basic.py:742: UserWarning: categorical_feature in param dict is overridden.\n",
      "  warnings.warn('categorical_feature in param dict is overridden.')\n"
     ]
    },
    {
     "name": "stdout",
     "output_type": "stream",
     "text": [
      "Training until validation scores don't improve for 25 rounds.\n",
      "[200]\ttraining's auc: 0.901018\tvalid_1's auc: 0.887133\n",
      "Early stopping, best iteration is:\n",
      "[210]\ttraining's auc: 0.90196\tvalid_1's auc: 0.887327\n",
      "-\n",
      "Fold 5\n",
      "Training until validation scores don't improve for 25 rounds.\n"
     ]
    },
    {
     "name": "stderr",
     "output_type": "stream",
     "text": [
      "E:\\Anaconda\\envs\\ML\\lib\\site-packages\\lightgbm\\basic.py:742: UserWarning: categorical_feature in param dict is overridden.\n",
      "  warnings.warn('categorical_feature in param dict is overridden.')\n"
     ]
    },
    {
     "name": "stdout",
     "output_type": "stream",
     "text": [
      "[200]\ttraining's auc: 0.90149\tvalid_1's auc: 0.883749\n",
      "Early stopping, best iteration is:\n",
      "[287]\ttraining's auc: 0.909395\tvalid_1's auc: 0.884802\n",
      "\n",
      "Avg Accuracy Train Set: 82.27830827443177\n",
      "Avg Accuracy Test Set: 80.15864186494142\n",
      "\n",
      "Avg Recall: 77.38957359332531\n",
      "Avg Precision: 81.92891800213012\n",
      "8 30 1.0\n",
      "-\n",
      "Fold 1\n",
      "Training until validation scores don't improve for 25 rounds.\n"
     ]
    },
    {
     "name": "stderr",
     "output_type": "stream",
     "text": [
      "E:\\Anaconda\\envs\\ML\\lib\\site-packages\\lightgbm\\basic.py:742: UserWarning: categorical_feature in param dict is overridden.\n",
      "  warnings.warn('categorical_feature in param dict is overridden.')\n"
     ]
    },
    {
     "name": "stdout",
     "output_type": "stream",
     "text": [
      "[200]\ttraining's auc: 0.9028\tvalid_1's auc: 0.879619\n",
      "Early stopping, best iteration is:\n",
      "[247]\ttraining's auc: 0.907233\tvalid_1's auc: 0.879995\n",
      "-\n",
      "Fold 2\n",
      "Training until validation scores don't improve for 25 rounds.\n"
     ]
    },
    {
     "name": "stderr",
     "output_type": "stream",
     "text": [
      "E:\\Anaconda\\envs\\ML\\lib\\site-packages\\lightgbm\\basic.py:742: UserWarning: categorical_feature in param dict is overridden.\n",
      "  warnings.warn('categorical_feature in param dict is overridden.')\n"
     ]
    },
    {
     "name": "stdout",
     "output_type": "stream",
     "text": [
      "[200]\ttraining's auc: 0.902468\tvalid_1's auc: 0.882483\n",
      "Early stopping, best iteration is:\n",
      "[209]\ttraining's auc: 0.903382\tvalid_1's auc: 0.882832\n",
      "-\n",
      "Fold 3\n",
      "Training until validation scores don't improve for 25 rounds.\n"
     ]
    },
    {
     "name": "stderr",
     "output_type": "stream",
     "text": [
      "E:\\Anaconda\\envs\\ML\\lib\\site-packages\\lightgbm\\basic.py:742: UserWarning: categorical_feature in param dict is overridden.\n",
      "  warnings.warn('categorical_feature in param dict is overridden.')\n"
     ]
    },
    {
     "name": "stdout",
     "output_type": "stream",
     "text": [
      "[200]\ttraining's auc: 0.902358\tvalid_1's auc: 0.881395\n",
      "Early stopping, best iteration is:\n",
      "[228]\ttraining's auc: 0.905288\tvalid_1's auc: 0.881694\n",
      "-\n",
      "Fold 4\n",
      "Training until validation scores don't improve for 25 rounds.\n"
     ]
    },
    {
     "name": "stderr",
     "output_type": "stream",
     "text": [
      "E:\\Anaconda\\envs\\ML\\lib\\site-packages\\lightgbm\\basic.py:742: UserWarning: categorical_feature in param dict is overridden.\n",
      "  warnings.warn('categorical_feature in param dict is overridden.')\n"
     ]
    },
    {
     "name": "stdout",
     "output_type": "stream",
     "text": [
      "[200]\ttraining's auc: 0.901368\tvalid_1's auc: 0.887121\n",
      "Early stopping, best iteration is:\n",
      "[204]\ttraining's auc: 0.901827\tvalid_1's auc: 0.887195\n",
      "-\n",
      "Fold 5\n",
      "Training until validation scores don't improve for 25 rounds.\n"
     ]
    },
    {
     "name": "stderr",
     "output_type": "stream",
     "text": [
      "E:\\Anaconda\\envs\\ML\\lib\\site-packages\\lightgbm\\basic.py:742: UserWarning: categorical_feature in param dict is overridden.\n",
      "  warnings.warn('categorical_feature in param dict is overridden.')\n"
     ]
    },
    {
     "name": "stdout",
     "output_type": "stream",
     "text": [
      "[200]\ttraining's auc: 0.901771\tvalid_1's auc: 0.883318\n",
      "Early stopping, best iteration is:\n",
      "[255]\ttraining's auc: 0.906723\tvalid_1's auc: 0.884143\n",
      "\n",
      "Avg Accuracy Train Set: 82.12597519390644\n",
      "Avg Accuracy Test Set: 80.12187991823996\n",
      "\n",
      "Avg Recall: 77.3714440908999\n",
      "Avg Precision: 81.88224579414202\n",
      "8 35 0.5\n",
      "-\n",
      "Fold 1\n"
     ]
    },
    {
     "name": "stderr",
     "output_type": "stream",
     "text": [
      "E:\\Anaconda\\envs\\ML\\lib\\site-packages\\lightgbm\\basic.py:742: UserWarning: categorical_feature in param dict is overridden.\n",
      "  warnings.warn('categorical_feature in param dict is overridden.')\n"
     ]
    },
    {
     "name": "stdout",
     "output_type": "stream",
     "text": [
      "Training until validation scores don't improve for 25 rounds.\n",
      "[200]\ttraining's auc: 0.90016\tvalid_1's auc: 0.879983\n",
      "Early stopping, best iteration is:\n",
      "[176]\ttraining's auc: 0.898149\tvalid_1's auc: 0.880102\n",
      "-\n",
      "Fold 2\n",
      "Training until validation scores don't improve for 25 rounds.\n"
     ]
    },
    {
     "name": "stderr",
     "output_type": "stream",
     "text": [
      "E:\\Anaconda\\envs\\ML\\lib\\site-packages\\lightgbm\\basic.py:742: UserWarning: categorical_feature in param dict is overridden.\n",
      "  warnings.warn('categorical_feature in param dict is overridden.')\n"
     ]
    },
    {
     "name": "stdout",
     "output_type": "stream",
     "text": [
      "[200]\ttraining's auc: 0.898842\tvalid_1's auc: 0.882799\n",
      "Early stopping, best iteration is:\n",
      "[181]\ttraining's auc: 0.897065\tvalid_1's auc: 0.882944\n",
      "-\n",
      "Fold 3\n",
      "Training until validation scores don't improve for 25 rounds.\n"
     ]
    },
    {
     "name": "stderr",
     "output_type": "stream",
     "text": [
      "E:\\Anaconda\\envs\\ML\\lib\\site-packages\\lightgbm\\basic.py:742: UserWarning: categorical_feature in param dict is overridden.\n",
      "  warnings.warn('categorical_feature in param dict is overridden.')\n"
     ]
    },
    {
     "name": "stdout",
     "output_type": "stream",
     "text": [
      "Early stopping, best iteration is:\n",
      "[171]\ttraining's auc: 0.896668\tvalid_1's auc: 0.880987\n",
      "-\n",
      "Fold 4\n",
      "Training until validation scores don't improve for 25 rounds.\n"
     ]
    },
    {
     "name": "stderr",
     "output_type": "stream",
     "text": [
      "E:\\Anaconda\\envs\\ML\\lib\\site-packages\\lightgbm\\basic.py:742: UserWarning: categorical_feature in param dict is overridden.\n",
      "  warnings.warn('categorical_feature in param dict is overridden.')\n"
     ]
    },
    {
     "name": "stdout",
     "output_type": "stream",
     "text": [
      "[200]\ttraining's auc: 0.898687\tvalid_1's auc: 0.886374\n",
      "Early stopping, best iteration is:\n",
      "[245]\ttraining's auc: 0.902466\tvalid_1's auc: 0.886804\n",
      "-\n",
      "Fold 5\n",
      "Training until validation scores don't improve for 25 rounds.\n"
     ]
    },
    {
     "name": "stderr",
     "output_type": "stream",
     "text": [
      "E:\\Anaconda\\envs\\ML\\lib\\site-packages\\lightgbm\\basic.py:742: UserWarning: categorical_feature in param dict is overridden.\n",
      "  warnings.warn('categorical_feature in param dict is overridden.')\n"
     ]
    },
    {
     "name": "stdout",
     "output_type": "stream",
     "text": [
      "[200]\ttraining's auc: 0.89979\tvalid_1's auc: 0.882888\n",
      "Early stopping, best iteration is:\n",
      "[248]\ttraining's auc: 0.90382\tvalid_1's auc: 0.883763\n",
      "\n",
      "Avg Accuracy Train Set: 81.63085268775514\n",
      "Avg Accuracy Test Set: 80.14287866446816\n",
      "\n",
      "Avg Recall: 77.26560010251674\n",
      "Avg Precision: 81.98847291303956\n",
      "8 35 0.6000000000000001\n",
      "-\n",
      "Fold 1\n"
     ]
    },
    {
     "name": "stderr",
     "output_type": "stream",
     "text": [
      "E:\\Anaconda\\envs\\ML\\lib\\site-packages\\lightgbm\\basic.py:742: UserWarning: categorical_feature in param dict is overridden.\n",
      "  warnings.warn('categorical_feature in param dict is overridden.')\n"
     ]
    },
    {
     "name": "stdout",
     "output_type": "stream",
     "text": [
      "Training until validation scores don't improve for 25 rounds.\n",
      "[200]\ttraining's auc: 0.900833\tvalid_1's auc: 0.879954\n",
      "Early stopping, best iteration is:\n",
      "[184]\ttraining's auc: 0.899446\tvalid_1's auc: 0.880054\n",
      "-\n",
      "Fold 2\n",
      "Training until validation scores don't improve for 25 rounds.\n"
     ]
    },
    {
     "name": "stderr",
     "output_type": "stream",
     "text": [
      "E:\\Anaconda\\envs\\ML\\lib\\site-packages\\lightgbm\\basic.py:742: UserWarning: categorical_feature in param dict is overridden.\n",
      "  warnings.warn('categorical_feature in param dict is overridden.')\n"
     ]
    },
    {
     "name": "stdout",
     "output_type": "stream",
     "text": [
      "[200]\ttraining's auc: 0.899779\tvalid_1's auc: 0.883325\n",
      "[400]\ttraining's auc: 0.914601\tvalid_1's auc: 0.885193\n",
      "Early stopping, best iteration is:\n",
      "[397]\ttraining's auc: 0.914376\tvalid_1's auc: 0.885311\n",
      "-\n",
      "Fold 3\n",
      "Training until validation scores don't improve for 25 rounds.\n"
     ]
    },
    {
     "name": "stderr",
     "output_type": "stream",
     "text": [
      "E:\\Anaconda\\envs\\ML\\lib\\site-packages\\lightgbm\\basic.py:742: UserWarning: categorical_feature in param dict is overridden.\n",
      "  warnings.warn('categorical_feature in param dict is overridden.')\n"
     ]
    },
    {
     "name": "stdout",
     "output_type": "stream",
     "text": [
      "[200]\ttraining's auc: 0.900541\tvalid_1's auc: 0.881693\n",
      "Early stopping, best iteration is:\n",
      "[192]\ttraining's auc: 0.899712\tvalid_1's auc: 0.881825\n",
      "-\n",
      "Fold 4\n",
      "Training until validation scores don't improve for 25 rounds.\n"
     ]
    },
    {
     "name": "stderr",
     "output_type": "stream",
     "text": [
      "E:\\Anaconda\\envs\\ML\\lib\\site-packages\\lightgbm\\basic.py:742: UserWarning: categorical_feature in param dict is overridden.\n",
      "  warnings.warn('categorical_feature in param dict is overridden.')\n"
     ]
    },
    {
     "name": "stdout",
     "output_type": "stream",
     "text": [
      "[200]\ttraining's auc: 0.899602\tvalid_1's auc: 0.88743\n",
      "Early stopping, best iteration is:\n",
      "[251]\ttraining's auc: 0.903744\tvalid_1's auc: 0.887773\n",
      "-\n",
      "Fold 5\n"
     ]
    },
    {
     "name": "stderr",
     "output_type": "stream",
     "text": [
      "E:\\Anaconda\\envs\\ML\\lib\\site-packages\\lightgbm\\basic.py:742: UserWarning: categorical_feature in param dict is overridden.\n",
      "  warnings.warn('categorical_feature in param dict is overridden.')\n"
     ]
    },
    {
     "name": "stdout",
     "output_type": "stream",
     "text": [
      "Training until validation scores don't improve for 25 rounds.\n",
      "[200]\ttraining's auc: 0.900191\tvalid_1's auc: 0.882863\n",
      "Early stopping, best iteration is:\n",
      "[290]\ttraining's auc: 0.907651\tvalid_1's auc: 0.884245\n",
      "\n",
      "Avg Accuracy Train Set: 82.11020362747493\n",
      "Avg Accuracy Test Set: 80.25844005845049\n",
      "\n",
      "Avg Recall: 77.44318844832038\n",
      "Avg Precision: 82.06734181479177\n",
      "8 35 0.7000000000000001\n",
      "-\n",
      "Fold 1\n",
      "Training until validation scores don't improve for 25 rounds.\n"
     ]
    },
    {
     "name": "stderr",
     "output_type": "stream",
     "text": [
      "E:\\Anaconda\\envs\\ML\\lib\\site-packages\\lightgbm\\basic.py:742: UserWarning: categorical_feature in param dict is overridden.\n",
      "  warnings.warn('categorical_feature in param dict is overridden.')\n"
     ]
    },
    {
     "name": "stdout",
     "output_type": "stream",
     "text": [
      "Early stopping, best iteration is:\n",
      "[147]\ttraining's auc: 0.896108\tvalid_1's auc: 0.879149\n",
      "-\n",
      "Fold 2\n",
      "Training until validation scores don't improve for 25 rounds.\n"
     ]
    },
    {
     "name": "stderr",
     "output_type": "stream",
     "text": [
      "E:\\Anaconda\\envs\\ML\\lib\\site-packages\\lightgbm\\basic.py:742: UserWarning: categorical_feature in param dict is overridden.\n",
      "  warnings.warn('categorical_feature in param dict is overridden.')\n"
     ]
    },
    {
     "name": "stdout",
     "output_type": "stream",
     "text": [
      "[200]\ttraining's auc: 0.900313\tvalid_1's auc: 0.883489\n",
      "Early stopping, best iteration is:\n",
      "[234]\ttraining's auc: 0.903464\tvalid_1's auc: 0.884552\n",
      "-\n",
      "Fold 3\n",
      "Training until validation scores don't improve for 25 rounds.\n"
     ]
    },
    {
     "name": "stderr",
     "output_type": "stream",
     "text": [
      "E:\\Anaconda\\envs\\ML\\lib\\site-packages\\lightgbm\\basic.py:742: UserWarning: categorical_feature in param dict is overridden.\n",
      "  warnings.warn('categorical_feature in param dict is overridden.')\n"
     ]
    },
    {
     "name": "stdout",
     "output_type": "stream",
     "text": [
      "[200]\ttraining's auc: 0.901584\tvalid_1's auc: 0.881052\n",
      "Early stopping, best iteration is:\n",
      "[258]\ttraining's auc: 0.906863\tvalid_1's auc: 0.881737\n",
      "-\n",
      "Fold 4\n",
      "Training until validation scores don't improve for 25 rounds."
     ]
    },
    {
     "name": "stderr",
     "output_type": "stream",
     "text": [
      "E:\\Anaconda\\envs\\ML\\lib\\site-packages\\lightgbm\\basic.py:742: UserWarning: categorical_feature in param dict is overridden.\n",
      "  warnings.warn('categorical_feature in param dict is overridden.')\n"
     ]
    },
    {
     "name": "stdout",
     "output_type": "stream",
     "text": [
      "\n",
      "[200]\ttraining's auc: 0.899951\tvalid_1's auc: 0.886538\n",
      "Early stopping, best iteration is:\n",
      "[179]\ttraining's auc: 0.898093\tvalid_1's auc: 0.886853\n",
      "-\n",
      "Fold 5\n",
      "Training until validation scores don't improve for 25 rounds.\n"
     ]
    },
    {
     "name": "stderr",
     "output_type": "stream",
     "text": [
      "E:\\Anaconda\\envs\\ML\\lib\\site-packages\\lightgbm\\basic.py:742: UserWarning: categorical_feature in param dict is overridden.\n",
      "  warnings.warn('categorical_feature in param dict is overridden.')\n"
     ]
    },
    {
     "name": "stdout",
     "output_type": "stream",
     "text": [
      "[200]\ttraining's auc: 0.900981\tvalid_1's auc: 0.883303\n",
      "[400]\ttraining's auc: 0.916471\tvalid_1's auc: 0.884718\n",
      "Early stopping, best iteration is:\n",
      "[378]\ttraining's auc: 0.915173\tvalid_1's auc: 0.884945\n",
      "\n",
      "Avg Accuracy Train Set: 82.03140314584093\n",
      "Avg Accuracy Test Set: 80.23745786730767\n",
      "\n",
      "Avg Recall: 77.32495117039451\n",
      "Avg Precision: 82.10991645002896\n",
      "8 35 0.8\n",
      "-\n",
      "Fold 1\n",
      "Training until validation scores don't improve for 25 rounds.\n"
     ]
    },
    {
     "name": "stderr",
     "output_type": "stream",
     "text": [
      "E:\\Anaconda\\envs\\ML\\lib\\site-packages\\lightgbm\\basic.py:742: UserWarning: categorical_feature in param dict is overridden.\n",
      "  warnings.warn('categorical_feature in param dict is overridden.')\n"
     ]
    },
    {
     "name": "stdout",
     "output_type": "stream",
     "text": [
      "Early stopping, best iteration is:\n",
      "[151]\ttraining's auc: 0.897179\tvalid_1's auc: 0.878965\n",
      "-\n",
      "Fold 2\n",
      "Training until validation scores don't improve for 25 rounds.\n"
     ]
    },
    {
     "name": "stderr",
     "output_type": "stream",
     "text": [
      "E:\\Anaconda\\envs\\ML\\lib\\site-packages\\lightgbm\\basic.py:742: UserWarning: categorical_feature in param dict is overridden.\n",
      "  warnings.warn('categorical_feature in param dict is overridden.')\n"
     ]
    },
    {
     "name": "stdout",
     "output_type": "stream",
     "text": [
      "[200]\ttraining's auc: 0.901324\tvalid_1's auc: 0.883599\n",
      "Early stopping, best iteration is:\n",
      "[183]\ttraining's auc: 0.899926\tvalid_1's auc: 0.883752\n",
      "-\n",
      "Fold 3\n",
      "Training until validation scores don't improve for 25 rounds.\n"
     ]
    },
    {
     "name": "stderr",
     "output_type": "stream",
     "text": [
      "E:\\Anaconda\\envs\\ML\\lib\\site-packages\\lightgbm\\basic.py:742: UserWarning: categorical_feature in param dict is overridden.\n",
      "  warnings.warn('categorical_feature in param dict is overridden.')\n"
     ]
    },
    {
     "name": "stdout",
     "output_type": "stream",
     "text": [
      "[200]\ttraining's auc: 0.901634\tvalid_1's auc: 0.882289\n",
      "Early stopping, best iteration is:\n",
      "[205]\ttraining's auc: 0.902203\tvalid_1's auc: 0.882293\n",
      "-\n",
      "Fold 4\n",
      "Training until validation scores don't improve for 25 rounds.\n"
     ]
    },
    {
     "name": "stderr",
     "output_type": "stream",
     "text": [
      "E:\\Anaconda\\envs\\ML\\lib\\site-packages\\lightgbm\\basic.py:742: UserWarning: categorical_feature in param dict is overridden.\n",
      "  warnings.warn('categorical_feature in param dict is overridden.')\n"
     ]
    },
    {
     "name": "stdout",
     "output_type": "stream",
     "text": [
      "[200]\ttraining's auc: 0.900904\tvalid_1's auc: 0.887037\n",
      "Early stopping, best iteration is:\n",
      "[253]\ttraining's auc: 0.905677\tvalid_1's auc: 0.888058\n",
      "-\n",
      "Fold 5\n"
     ]
    },
    {
     "name": "stderr",
     "output_type": "stream",
     "text": [
      "E:\\Anaconda\\envs\\ML\\lib\\site-packages\\lightgbm\\basic.py:742: UserWarning: categorical_feature in param dict is overridden.\n",
      "  warnings.warn('categorical_feature in param dict is overridden.')\n"
     ]
    },
    {
     "name": "stdout",
     "output_type": "stream",
     "text": [
      "Training until validation scores don't improve for 25 rounds.\n",
      "[200]\ttraining's auc: 0.901248\tvalid_1's auc: 0.883371\n",
      "Early stopping, best iteration is:\n",
      "[199]\ttraining's auc: 0.901097\tvalid_1's auc: 0.883472\n",
      "\n",
      "Avg Accuracy Train Set: 81.74642149550743\n",
      "Avg Accuracy Test Set: 80.17441196336691\n",
      "\n",
      "Avg Recall: 77.30718919739967\n",
      "Avg Precision: 82.01474298625304\n",
      "8 35 0.9\n",
      "-\n",
      "Fold 1\n",
      "Training until validation scores don't improve for 25 rounds.\n"
     ]
    },
    {
     "name": "stderr",
     "output_type": "stream",
     "text": [
      "E:\\Anaconda\\envs\\ML\\lib\\site-packages\\lightgbm\\basic.py:742: UserWarning: categorical_feature in param dict is overridden.\n",
      "  warnings.warn('categorical_feature in param dict is overridden.')\n"
     ]
    },
    {
     "name": "stdout",
     "output_type": "stream",
     "text": [
      "[200]\ttraining's auc: 0.902925\tvalid_1's auc: 0.880666\n",
      "Early stopping, best iteration is:\n",
      "[221]\ttraining's auc: 0.904931\tvalid_1's auc: 0.880821\n",
      "-\n",
      "Fold 2\n",
      "Training until validation scores don't improve for 25 rounds.\n"
     ]
    },
    {
     "name": "stderr",
     "output_type": "stream",
     "text": [
      "E:\\Anaconda\\envs\\ML\\lib\\site-packages\\lightgbm\\basic.py:742: UserWarning: categorical_feature in param dict is overridden.\n",
      "  warnings.warn('categorical_feature in param dict is overridden.')\n"
     ]
    },
    {
     "name": "stdout",
     "output_type": "stream",
     "text": [
      "[200]\ttraining's auc: 0.900989\tvalid_1's auc: 0.883686\n",
      "Early stopping, best iteration is:\n",
      "[219]\ttraining's auc: 0.902739\tvalid_1's auc: 0.884118\n",
      "-\n",
      "Fold 3\n",
      "Training until validation scores don't improve for 25 rounds.\n"
     ]
    },
    {
     "name": "stderr",
     "output_type": "stream",
     "text": [
      "E:\\Anaconda\\envs\\ML\\lib\\site-packages\\lightgbm\\basic.py:742: UserWarning: categorical_feature in param dict is overridden.\n",
      "  warnings.warn('categorical_feature in param dict is overridden.')\n"
     ]
    },
    {
     "name": "stdout",
     "output_type": "stream",
     "text": [
      "[200]\ttraining's auc: 0.902077\tvalid_1's auc: 0.88095\n",
      "Early stopping, best iteration is:\n",
      "[234]\ttraining's auc: 0.905362\tvalid_1's auc: 0.881383\n",
      "-\n",
      "Fold 4\n",
      "Training until validation scores don't improve for 25 rounds.\n"
     ]
    },
    {
     "name": "stderr",
     "output_type": "stream",
     "text": [
      "E:\\Anaconda\\envs\\ML\\lib\\site-packages\\lightgbm\\basic.py:742: UserWarning: categorical_feature in param dict is overridden.\n",
      "  warnings.warn('categorical_feature in param dict is overridden.')\n"
     ]
    },
    {
     "name": "stdout",
     "output_type": "stream",
     "text": [
      "[200]\ttraining's auc: 0.900717\tvalid_1's auc: 0.887031\n",
      "Early stopping, best iteration is:\n",
      "[247]\ttraining's auc: 0.905063\tvalid_1's auc: 0.887537\n",
      "-\n",
      "Fold 5\n",
      "Training until validation scores don't improve for 25 rounds.\n"
     ]
    },
    {
     "name": "stderr",
     "output_type": "stream",
     "text": [
      "E:\\Anaconda\\envs\\ML\\lib\\site-packages\\lightgbm\\basic.py:742: UserWarning: categorical_feature in param dict is overridden.\n",
      "  warnings.warn('categorical_feature in param dict is overridden.')\n"
     ]
    },
    {
     "name": "stdout",
     "output_type": "stream",
     "text": [
      "[200]\ttraining's auc: 0.901075\tvalid_1's auc: 0.883172\n",
      "Early stopping, best iteration is:\n",
      "[220]\ttraining's auc: 0.903063\tvalid_1's auc: 0.883557\n",
      "\n",
      "Avg Accuracy Train Set: 82.026161394239\n",
      "Avg Accuracy Test Set: 80.22167535256813\n",
      "\n",
      "Avg Recall: 77.45485718940922\n",
      "Avg Precision: 81.99655588744675\n",
      "8 35 1.0\n",
      "-\n",
      "Fold 1\n",
      "Training until validation scores don't improve for 25 rounds.\n"
     ]
    },
    {
     "name": "stderr",
     "output_type": "stream",
     "text": [
      "E:\\Anaconda\\envs\\ML\\lib\\site-packages\\lightgbm\\basic.py:742: UserWarning: categorical_feature in param dict is overridden.\n",
      "  warnings.warn('categorical_feature in param dict is overridden.')\n"
     ]
    },
    {
     "name": "stdout",
     "output_type": "stream",
     "text": [
      "[200]\ttraining's auc: 0.902328\tvalid_1's auc: 0.8792\n",
      "Early stopping, best iteration is:\n",
      "[181]\ttraining's auc: 0.900676\tvalid_1's auc: 0.879583\n",
      "-\n",
      "Fold 2\n",
      "Training until validation scores don't improve for 25 rounds.\n"
     ]
    },
    {
     "name": "stderr",
     "output_type": "stream",
     "text": [
      "E:\\Anaconda\\envs\\ML\\lib\\site-packages\\lightgbm\\basic.py:742: UserWarning: categorical_feature in param dict is overridden.\n",
      "  warnings.warn('categorical_feature in param dict is overridden.')\n"
     ]
    },
    {
     "name": "stdout",
     "output_type": "stream",
     "text": [
      "[200]\ttraining's auc: 0.902602\tvalid_1's auc: 0.882871\n",
      "Early stopping, best iteration is:\n",
      "[198]\ttraining's auc: 0.902381\tvalid_1's auc: 0.882951\n",
      "-\n",
      "Fold 3\n",
      "Training until validation scores don't improve for 25 rounds.\n"
     ]
    },
    {
     "name": "stderr",
     "output_type": "stream",
     "text": [
      "E:\\Anaconda\\envs\\ML\\lib\\site-packages\\lightgbm\\basic.py:742: UserWarning: categorical_feature in param dict is overridden.\n",
      "  warnings.warn('categorical_feature in param dict is overridden.')\n"
     ]
    },
    {
     "name": "stdout",
     "output_type": "stream",
     "text": [
      "[200]\ttraining's auc: 0.902619\tvalid_1's auc: 0.881546\n",
      "Early stopping, best iteration is:\n",
      "[187]\ttraining's auc: 0.901445\tvalid_1's auc: 0.881601\n",
      "-\n",
      "Fold 4\n",
      "Training until validation scores don't improve for 25 rounds.\n"
     ]
    },
    {
     "name": "stderr",
     "output_type": "stream",
     "text": [
      "E:\\Anaconda\\envs\\ML\\lib\\site-packages\\lightgbm\\basic.py:742: UserWarning: categorical_feature in param dict is overridden.\n",
      "  warnings.warn('categorical_feature in param dict is overridden.')\n"
     ]
    },
    {
     "name": "stdout",
     "output_type": "stream",
     "text": [
      "[200]\ttraining's auc: 0.901554\tvalid_1's auc: 0.886934\n",
      "Early stopping, best iteration is:\n",
      "[253]\ttraining's auc: 0.906256\tvalid_1's auc: 0.887512\n",
      "-\n",
      "Fold 5\n"
     ]
    },
    {
     "name": "stderr",
     "output_type": "stream",
     "text": [
      "E:\\Anaconda\\envs\\ML\\lib\\site-packages\\lightgbm\\basic.py:742: UserWarning: categorical_feature in param dict is overridden.\n",
      "  warnings.warn('categorical_feature in param dict is overridden.')\n"
     ]
    },
    {
     "name": "stdout",
     "output_type": "stream",
     "text": [
      "Training until validation scores don't improve for 25 rounds.\n",
      "[200]\ttraining's auc: 0.90184\tvalid_1's auc: 0.883882\n",
      "Early stopping, best iteration is:\n",
      "[277]\ttraining's auc: 0.908711\tvalid_1's auc: 0.884989\n",
      "\n",
      "Avg Accuracy Train Set: 82.03009615759599\n",
      "Avg Accuracy Test Set: 80.15338148655837\n",
      "\n",
      "Avg Recall: 77.39325208618433\n",
      "Avg Precision: 81.92192127651018\n",
      "8 40 0.5\n",
      "-\n",
      "Fold 1\n"
     ]
    },
    {
     "name": "stderr",
     "output_type": "stream",
     "text": [
      "E:\\Anaconda\\envs\\ML\\lib\\site-packages\\lightgbm\\basic.py:742: UserWarning: categorical_feature in param dict is overridden.\n",
      "  warnings.warn('categorical_feature in param dict is overridden.')\n"
     ]
    },
    {
     "name": "stdout",
     "output_type": "stream",
     "text": [
      "Training until validation scores don't improve for 25 rounds.\n",
      "Early stopping, best iteration is:\n",
      "[120]\ttraining's auc: 0.891884\tvalid_1's auc: 0.878589\n",
      "-\n",
      "Fold 2\n",
      "Training until validation scores don't improve for 25 rounds.\n"
     ]
    },
    {
     "name": "stderr",
     "output_type": "stream",
     "text": [
      "E:\\Anaconda\\envs\\ML\\lib\\site-packages\\lightgbm\\basic.py:742: UserWarning: categorical_feature in param dict is overridden.\n",
      "  warnings.warn('categorical_feature in param dict is overridden.')\n"
     ]
    },
    {
     "name": "stdout",
     "output_type": "stream",
     "text": [
      "[200]\ttraining's auc: 0.898588\tvalid_1's auc: 0.88368\n",
      "Early stopping, best iteration is:\n",
      "[185]\ttraining's auc: 0.897435\tvalid_1's auc: 0.88398\n",
      "-\n",
      "Fold 3\n",
      "Training until validation scores don't improve for 25 rounds.\n"
     ]
    },
    {
     "name": "stderr",
     "output_type": "stream",
     "text": [
      "E:\\Anaconda\\envs\\ML\\lib\\site-packages\\lightgbm\\basic.py:742: UserWarning: categorical_feature in param dict is overridden.\n",
      "  warnings.warn('categorical_feature in param dict is overridden.')\n"
     ]
    },
    {
     "name": "stdout",
     "output_type": "stream",
     "text": [
      "[200]\ttraining's auc: 0.899444\tvalid_1's auc: 0.881805\n",
      "Early stopping, best iteration is:\n",
      "[198]\ttraining's auc: 0.899224\tvalid_1's auc: 0.881847\n",
      "-\n",
      "Fold 4\n",
      "Training until validation scores don't improve for 25 rounds.\n"
     ]
    },
    {
     "name": "stderr",
     "output_type": "stream",
     "text": [
      "E:\\Anaconda\\envs\\ML\\lib\\site-packages\\lightgbm\\basic.py:742: UserWarning: categorical_feature in param dict is overridden.\n",
      "  warnings.warn('categorical_feature in param dict is overridden.')\n"
     ]
    },
    {
     "name": "stdout",
     "output_type": "stream",
     "text": [
      "[200]\ttraining's auc: 0.898606\tvalid_1's auc: 0.886373\n",
      "Early stopping, best iteration is:\n",
      "[231]\ttraining's auc: 0.901119\tvalid_1's auc: 0.88679\n",
      "-\n",
      "Fold 5\n",
      "Training until validation scores don't improve for 25 rounds.\n"
     ]
    },
    {
     "name": "stderr",
     "output_type": "stream",
     "text": [
      "E:\\Anaconda\\envs\\ML\\lib\\site-packages\\lightgbm\\basic.py:742: UserWarning: categorical_feature in param dict is overridden.\n",
      "  warnings.warn('categorical_feature in param dict is overridden.')\n"
     ]
    },
    {
     "name": "stdout",
     "output_type": "stream",
     "text": [
      "[200]\ttraining's auc: 0.899627\tvalid_1's auc: 0.882929\n",
      "Early stopping, best iteration is:\n",
      "[274]\ttraining's auc: 0.905263\tvalid_1's auc: 0.883878\n",
      "\n",
      "Avg Accuracy Train Set: 81.54417034688856\n",
      "Avg Accuracy Test Set: 79.98004698333234\n",
      "\n",
      "Avg Recall: 77.14691053521318\n",
      "Avg Precision: 81.78072804870207\n",
      "8 40 0.6000000000000001\n",
      "-\n",
      "Fold 1\n",
      "Training until validation scores don't improve for 25 rounds.\n"
     ]
    },
    {
     "name": "stderr",
     "output_type": "stream",
     "text": [
      "E:\\Anaconda\\envs\\ML\\lib\\site-packages\\lightgbm\\basic.py:742: UserWarning: categorical_feature in param dict is overridden.\n",
      "  warnings.warn('categorical_feature in param dict is overridden.')\n"
     ]
    },
    {
     "name": "stdout",
     "output_type": "stream",
     "text": [
      "[200]\ttraining's auc: 0.900501\tvalid_1's auc: 0.879116\n",
      "Early stopping, best iteration is:\n",
      "[187]\ttraining's auc: 0.8994\tvalid_1's auc: 0.879225\n",
      "-\n",
      "Fold 2\n",
      "Training until validation scores don't improve for 25 rounds.\n"
     ]
    },
    {
     "name": "stderr",
     "output_type": "stream",
     "text": [
      "E:\\Anaconda\\envs\\ML\\lib\\site-packages\\lightgbm\\basic.py:742: UserWarning: categorical_feature in param dict is overridden.\n",
      "  warnings.warn('categorical_feature in param dict is overridden.')\n"
     ]
    },
    {
     "name": "stdout",
     "output_type": "stream",
     "text": [
      "[200]\ttraining's auc: 0.899582\tvalid_1's auc: 0.88491\n",
      "Early stopping, best iteration is:\n",
      "[260]\ttraining's auc: 0.904735\tvalid_1's auc: 0.885408\n",
      "-\n",
      "Fold 3\n",
      "Training until validation scores don't improve for 25 rounds."
     ]
    },
    {
     "name": "stderr",
     "output_type": "stream",
     "text": [
      "E:\\Anaconda\\envs\\ML\\lib\\site-packages\\lightgbm\\basic.py:742: UserWarning: categorical_feature in param dict is overridden.\n",
      "  warnings.warn('categorical_feature in param dict is overridden.')\n"
     ]
    },
    {
     "name": "stdout",
     "output_type": "stream",
     "text": [
      "\n",
      "[200]\ttraining's auc: 0.900076\tvalid_1's auc: 0.880716\n",
      "Early stopping, best iteration is:\n",
      "[276]\ttraining's auc: 0.90652\tvalid_1's auc: 0.881543\n",
      "-\n",
      "Fold 4\n"
     ]
    },
    {
     "name": "stderr",
     "output_type": "stream",
     "text": [
      "E:\\Anaconda\\envs\\ML\\lib\\site-packages\\lightgbm\\basic.py:742: UserWarning: categorical_feature in param dict is overridden.\n",
      "  warnings.warn('categorical_feature in param dict is overridden.')\n"
     ]
    },
    {
     "name": "stdout",
     "output_type": "stream",
     "text": [
      "Training until validation scores don't improve for 25 rounds.\n",
      "[200]\ttraining's auc: 0.89968\tvalid_1's auc: 0.887036\n",
      "Early stopping, best iteration is:\n",
      "[231]\ttraining's auc: 0.90251\tvalid_1's auc: 0.887434\n",
      "-\n",
      "Fold 5\n",
      "Training until validation scores don't improve for 25 rounds.\n"
     ]
    },
    {
     "name": "stderr",
     "output_type": "stream",
     "text": [
      "E:\\Anaconda\\envs\\ML\\lib\\site-packages\\lightgbm\\basic.py:742: UserWarning: categorical_feature in param dict is overridden.\n",
      "  warnings.warn('categorical_feature in param dict is overridden.')\n"
     ]
    },
    {
     "name": "stdout",
     "output_type": "stream",
     "text": [
      "[200]\ttraining's auc: 0.900065\tvalid_1's auc: 0.883802\n",
      "Early stopping, best iteration is:\n",
      "[306]\ttraining's auc: 0.908739\tvalid_1's auc: 0.885269\n",
      "\n",
      "Avg Accuracy Train Set: 82.07080580141682\n",
      "Avg Accuracy Test Set: 80.34777267881148\n",
      "\n",
      "Avg Recall: 77.6728859283302\n",
      "Avg Precision: 82.0617611855257\n",
      "8 40 0.7000000000000001\n",
      "-\n",
      "Fold 1\n",
      "Training until validation scores don't improve for 25 rounds.\n"
     ]
    },
    {
     "name": "stderr",
     "output_type": "stream",
     "text": [
      "E:\\Anaconda\\envs\\ML\\lib\\site-packages\\lightgbm\\basic.py:742: UserWarning: categorical_feature in param dict is overridden.\n",
      "  warnings.warn('categorical_feature in param dict is overridden.')\n"
     ]
    },
    {
     "name": "stdout",
     "output_type": "stream",
     "text": [
      "[200]\ttraining's auc: 0.901927\tvalid_1's auc: 0.87956\n",
      "Early stopping, best iteration is:\n",
      "[237]\ttraining's auc: 0.905428\tvalid_1's auc: 0.880196\n",
      "-\n",
      "Fold 2\n",
      "Training until validation scores don't improve for 25 rounds.\n"
     ]
    },
    {
     "name": "stderr",
     "output_type": "stream",
     "text": [
      "E:\\Anaconda\\envs\\ML\\lib\\site-packages\\lightgbm\\basic.py:742: UserWarning: categorical_feature in param dict is overridden.\n",
      "  warnings.warn('categorical_feature in param dict is overridden.')\n"
     ]
    },
    {
     "name": "stdout",
     "output_type": "stream",
     "text": [
      "[200]\ttraining's auc: 0.900322\tvalid_1's auc: 0.88396\n",
      "Early stopping, best iteration is:\n",
      "[220]\ttraining's auc: 0.902217\tvalid_1's auc: 0.884245\n",
      "-\n",
      "Fold 3\n",
      "Training until validation scores don't improve for 25 rounds.\n"
     ]
    },
    {
     "name": "stderr",
     "output_type": "stream",
     "text": [
      "E:\\Anaconda\\envs\\ML\\lib\\site-packages\\lightgbm\\basic.py:742: UserWarning: categorical_feature in param dict is overridden.\n",
      "  warnings.warn('categorical_feature in param dict is overridden.')\n"
     ]
    },
    {
     "name": "stdout",
     "output_type": "stream",
     "text": [
      "[200]\ttraining's auc: 0.901297\tvalid_1's auc: 0.881806\n",
      "Early stopping, best iteration is:\n",
      "[259]\ttraining's auc: 0.906607\tvalid_1's auc: 0.882713\n",
      "-\n",
      "Fold 4\n"
     ]
    },
    {
     "name": "stderr",
     "output_type": "stream",
     "text": [
      "E:\\Anaconda\\envs\\ML\\lib\\site-packages\\lightgbm\\basic.py:742: UserWarning: categorical_feature in param dict is overridden.\n",
      "  warnings.warn('categorical_feature in param dict is overridden.')\n"
     ]
    },
    {
     "name": "stdout",
     "output_type": "stream",
     "text": [
      "Training until validation scores don't improve for 25 rounds.\n",
      "[200]\ttraining's auc: 0.900256\tvalid_1's auc: 0.886599\n",
      "Early stopping, best iteration is:\n",
      "[243]\ttraining's auc: 0.904067\tvalid_1's auc: 0.887152\n",
      "-\n",
      "Fold 5\n",
      "Training until validation scores don't improve for 25 rounds.\n"
     ]
    },
    {
     "name": "stderr",
     "output_type": "stream",
     "text": [
      "E:\\Anaconda\\envs\\ML\\lib\\site-packages\\lightgbm\\basic.py:742: UserWarning: categorical_feature in param dict is overridden.\n",
      "  warnings.warn('categorical_feature in param dict is overridden.')\n"
     ]
    },
    {
     "name": "stdout",
     "output_type": "stream",
     "text": [
      "[200]\ttraining's auc: 0.90053\tvalid_1's auc: 0.884179\n",
      "Early stopping, best iteration is:\n",
      "[201]\ttraining's auc: 0.900617\tvalid_1's auc: 0.884192\n",
      "\n",
      "Avg Accuracy Train Set: 82.00252409571462\n",
      "Avg Accuracy Test Set: 80.15338148655837\n",
      "\n",
      "Avg Recall: 77.3496273890317\n",
      "Avg Precision: 81.94747096246601\n",
      "8 40 0.8\n",
      "-\n",
      "Fold 1\n",
      "Training until validation scores don't improve for 25 rounds.\n"
     ]
    },
    {
     "name": "stderr",
     "output_type": "stream",
     "text": [
      "E:\\Anaconda\\envs\\ML\\lib\\site-packages\\lightgbm\\basic.py:742: UserWarning: categorical_feature in param dict is overridden.\n",
      "  warnings.warn('categorical_feature in param dict is overridden.')\n"
     ]
    },
    {
     "name": "stdout",
     "output_type": "stream",
     "text": [
      "Early stopping, best iteration is:\n",
      "[174]\ttraining's auc: 0.899611\tvalid_1's auc: 0.878368\n",
      "-\n",
      "Fold 2\n",
      "Training until validation scores don't improve for 25 rounds.\n"
     ]
    },
    {
     "name": "stderr",
     "output_type": "stream",
     "text": [
      "E:\\Anaconda\\envs\\ML\\lib\\site-packages\\lightgbm\\basic.py:742: UserWarning: categorical_feature in param dict is overridden.\n",
      "  warnings.warn('categorical_feature in param dict is overridden.')\n"
     ]
    },
    {
     "name": "stdout",
     "output_type": "stream",
     "text": [
      "[200]\ttraining's auc: 0.900944\tvalid_1's auc: 0.883879\n",
      "Early stopping, best iteration is:\n",
      "[198]\ttraining's auc: 0.900738\tvalid_1's auc: 0.883996\n",
      "-\n",
      "Fold 3\n",
      "Training until validation scores don't improve for 25 rounds.\n"
     ]
    },
    {
     "name": "stderr",
     "output_type": "stream",
     "text": [
      "E:\\Anaconda\\envs\\ML\\lib\\site-packages\\lightgbm\\basic.py:742: UserWarning: categorical_feature in param dict is overridden.\n",
      "  warnings.warn('categorical_feature in param dict is overridden.')\n"
     ]
    },
    {
     "name": "stdout",
     "output_type": "stream",
     "text": [
      "[200]\ttraining's auc: 0.901734\tvalid_1's auc: 0.881565\n",
      "Early stopping, best iteration is:\n",
      "[250]\ttraining's auc: 0.906126\tvalid_1's auc: 0.882049\n",
      "-\n",
      "Fold 4\n",
      "Training until validation scores don't improve for 25 rounds.\n"
     ]
    },
    {
     "name": "stderr",
     "output_type": "stream",
     "text": [
      "E:\\Anaconda\\envs\\ML\\lib\\site-packages\\lightgbm\\basic.py:742: UserWarning: categorical_feature in param dict is overridden.\n",
      "  warnings.warn('categorical_feature in param dict is overridden.')\n"
     ]
    },
    {
     "name": "stdout",
     "output_type": "stream",
     "text": [
      "[200]\ttraining's auc: 0.900324\tvalid_1's auc: 0.88694\n",
      "Early stopping, best iteration is:\n",
      "[230]\ttraining's auc: 0.903144\tvalid_1's auc: 0.887337\n",
      "-\n",
      "Fold 5\n",
      "Training until validation scores don't improve for 25 rounds.\n"
     ]
    },
    {
     "name": "stderr",
     "output_type": "stream",
     "text": [
      "E:\\Anaconda\\envs\\ML\\lib\\site-packages\\lightgbm\\basic.py:742: UserWarning: categorical_feature in param dict is overridden.\n",
      "  warnings.warn('categorical_feature in param dict is overridden.')\n"
     ]
    },
    {
     "name": "stdout",
     "output_type": "stream",
     "text": [
      "[200]\ttraining's auc: 0.901532\tvalid_1's auc: 0.883103\n",
      "Early stopping, best iteration is:\n",
      "[324]\ttraining's auc: 0.912045\tvalid_1's auc: 0.884343\n",
      "\n",
      "Avg Accuracy Train Set: 82.09707156498436\n",
      "Avg Accuracy Test Set: 80.24269755183397\n",
      "\n",
      "Avg Recall: 77.57861272197421\n",
      "Avg Precision: 81.94922252191301\n",
      "8 40 0.9\n",
      "-\n",
      "Fold 1\n",
      "Training until validation scores don't improve for 25 rounds.\n"
     ]
    },
    {
     "name": "stderr",
     "output_type": "stream",
     "text": [
      "E:\\Anaconda\\envs\\ML\\lib\\site-packages\\lightgbm\\basic.py:742: UserWarning: categorical_feature in param dict is overridden.\n",
      "  warnings.warn('categorical_feature in param dict is overridden.')\n"
     ]
    },
    {
     "name": "stdout",
     "output_type": "stream",
     "text": [
      "[200]\ttraining's auc: 0.902569\tvalid_1's auc: 0.880007\n",
      "Early stopping, best iteration is:\n",
      "[206]\ttraining's auc: 0.903161\tvalid_1's auc: 0.88012\n",
      "-\n",
      "Fold 2\n",
      "Training until validation scores don't improve for 25 rounds.\n"
     ]
    },
    {
     "name": "stderr",
     "output_type": "stream",
     "text": [
      "E:\\Anaconda\\envs\\ML\\lib\\site-packages\\lightgbm\\basic.py:742: UserWarning: categorical_feature in param dict is overridden.\n",
      "  warnings.warn('categorical_feature in param dict is overridden.')\n"
     ]
    },
    {
     "name": "stdout",
     "output_type": "stream",
     "text": [
      "Early stopping, best iteration is:\n",
      "[173]\ttraining's auc: 0.898612\tvalid_1's auc: 0.883708\n",
      "-\n",
      "Fold 3\n",
      "Training until validation scores don't improve for 25 rounds.\n"
     ]
    },
    {
     "name": "stderr",
     "output_type": "stream",
     "text": [
      "E:\\Anaconda\\envs\\ML\\lib\\site-packages\\lightgbm\\basic.py:742: UserWarning: categorical_feature in param dict is overridden.\n",
      "  warnings.warn('categorical_feature in param dict is overridden.')\n"
     ]
    },
    {
     "name": "stdout",
     "output_type": "stream",
     "text": [
      "[200]\ttraining's auc: 0.901757\tvalid_1's auc: 0.880935\n",
      "Early stopping, best iteration is:\n",
      "[243]\ttraining's auc: 0.905874\tvalid_1's auc: 0.881555\n",
      "-\n",
      "Fold 4\n",
      "Training until validation scores don't improve for 25 rounds.\n"
     ]
    },
    {
     "name": "stderr",
     "output_type": "stream",
     "text": [
      "E:\\Anaconda\\envs\\ML\\lib\\site-packages\\lightgbm\\basic.py:742: UserWarning: categorical_feature in param dict is overridden.\n",
      "  warnings.warn('categorical_feature in param dict is overridden.')\n"
     ]
    },
    {
     "name": "stdout",
     "output_type": "stream",
     "text": [
      "[200]\ttraining's auc: 0.900449\tvalid_1's auc: 0.886371\n",
      "Early stopping, best iteration is:\n",
      "[198]\ttraining's auc: 0.900268\tvalid_1's auc: 0.886434\n",
      "-\n",
      "Fold 5\n",
      "Training until validation scores don't improve for 25 rounds.\n"
     ]
    },
    {
     "name": "stderr",
     "output_type": "stream",
     "text": [
      "E:\\Anaconda\\envs\\ML\\lib\\site-packages\\lightgbm\\basic.py:742: UserWarning: categorical_feature in param dict is overridden.\n",
      "  warnings.warn('categorical_feature in param dict is overridden.')\n"
     ]
    },
    {
     "name": "stdout",
     "output_type": "stream",
     "text": [
      "[200]\ttraining's auc: 0.901546\tvalid_1's auc: 0.883689\n",
      "Early stopping, best iteration is:\n",
      "[257]\ttraining's auc: 0.906643\tvalid_1's auc: 0.884384\n",
      "\n",
      "Avg Accuracy Train Set: 81.93160366224403\n",
      "Avg Accuracy Test Set: 80.15863082821781\n",
      "\n",
      "Avg Recall: 77.23407141695812\n",
      "Avg Precision: 82.03502373046823\n",
      "8 40 1.0\n",
      "-\n",
      "Fold 1\n"
     ]
    },
    {
     "name": "stderr",
     "output_type": "stream",
     "text": [
      "E:\\Anaconda\\envs\\ML\\lib\\site-packages\\lightgbm\\basic.py:742: UserWarning: categorical_feature in param dict is overridden.\n",
      "  warnings.warn('categorical_feature in param dict is overridden.')\n"
     ]
    },
    {
     "name": "stdout",
     "output_type": "stream",
     "text": [
      "Training until validation scores don't improve for 25 rounds.\n",
      "[200]\ttraining's auc: 0.902379\tvalid_1's auc: 0.879948\n",
      "Early stopping, best iteration is:\n",
      "[210]\ttraining's auc: 0.903397\tvalid_1's auc: 0.88005\n",
      "-\n",
      "Fold 2\n",
      "Training until validation scores don't improve for 25 rounds.\n"
     ]
    },
    {
     "name": "stderr",
     "output_type": "stream",
     "text": [
      "E:\\Anaconda\\envs\\ML\\lib\\site-packages\\lightgbm\\basic.py:742: UserWarning: categorical_feature in param dict is overridden.\n",
      "  warnings.warn('categorical_feature in param dict is overridden.')\n"
     ]
    },
    {
     "name": "stdout",
     "output_type": "stream",
     "text": [
      "[200]\ttraining's auc: 0.901569\tvalid_1's auc: 0.882899\n",
      "Early stopping, best iteration is:\n",
      "[225]\ttraining's auc: 0.904007\tvalid_1's auc: 0.883347\n",
      "-\n",
      "Fold 3\n",
      "Training until validation scores don't improve for 25 rounds.\n"
     ]
    },
    {
     "name": "stderr",
     "output_type": "stream",
     "text": [
      "E:\\Anaconda\\envs\\ML\\lib\\site-packages\\lightgbm\\basic.py:742: UserWarning: categorical_feature in param dict is overridden.\n",
      "  warnings.warn('categorical_feature in param dict is overridden.')\n"
     ]
    },
    {
     "name": "stdout",
     "output_type": "stream",
     "text": [
      "[200]\ttraining's auc: 0.902422\tvalid_1's auc: 0.881311\n",
      "Early stopping, best iteration is:\n",
      "[191]\ttraining's auc: 0.901464\tvalid_1's auc: 0.881516\n",
      "-\n",
      "Fold 4\n",
      "Training until validation scores don't improve for 25 rounds.\n"
     ]
    },
    {
     "name": "stderr",
     "output_type": "stream",
     "text": [
      "E:\\Anaconda\\envs\\ML\\lib\\site-packages\\lightgbm\\basic.py:742: UserWarning: categorical_feature in param dict is overridden.\n",
      "  warnings.warn('categorical_feature in param dict is overridden.')\n"
     ]
    },
    {
     "name": "stdout",
     "output_type": "stream",
     "text": [
      "[200]\ttraining's auc: 0.900953\tvalid_1's auc: 0.886498\n",
      "Early stopping, best iteration is:\n",
      "[235]\ttraining's auc: 0.904329\tvalid_1's auc: 0.886952\n",
      "-\n",
      "Fold 5\n",
      "Training until validation scores don't improve for 25 rounds.\n"
     ]
    },
    {
     "name": "stderr",
     "output_type": "stream",
     "text": [
      "E:\\Anaconda\\envs\\ML\\lib\\site-packages\\lightgbm\\basic.py:742: UserWarning: categorical_feature in param dict is overridden.\n",
      "  warnings.warn('categorical_feature in param dict is overridden.')\n"
     ]
    },
    {
     "name": "stdout",
     "output_type": "stream",
     "text": [
      "[200]\ttraining's auc: 0.901898\tvalid_1's auc: 0.884238\n",
      "Early stopping, best iteration is:\n",
      "[266]\ttraining's auc: 0.907849\tvalid_1's auc: 0.885012\n",
      "\n",
      "Avg Accuracy Train Set: 82.11414951597108\n",
      "Avg Accuracy Test Set: 80.06932993843716\n",
      "\n",
      "Avg Recall: 77.27874109600455\n",
      "Avg Precision: 81.8559737585704\n",
      "8 45 0.5\n",
      "-\n",
      "Fold 1\n"
     ]
    },
    {
     "name": "stderr",
     "output_type": "stream",
     "text": [
      "E:\\Anaconda\\envs\\ML\\lib\\site-packages\\lightgbm\\basic.py:742: UserWarning: categorical_feature in param dict is overridden.\n",
      "  warnings.warn('categorical_feature in param dict is overridden.')\n"
     ]
    },
    {
     "name": "stdout",
     "output_type": "stream",
     "text": [
      "Training until validation scores don't improve for 25 rounds.\n",
      "[200]\ttraining's auc: 0.899869\tvalid_1's auc: 0.879447\n",
      "Early stopping, best iteration is:\n",
      "[181]\ttraining's auc: 0.898277\tvalid_1's auc: 0.879693\n",
      "-\n",
      "Fold 2\n",
      "Training until validation scores don't improve for 25 rounds.\n"
     ]
    },
    {
     "name": "stderr",
     "output_type": "stream",
     "text": [
      "E:\\Anaconda\\envs\\ML\\lib\\site-packages\\lightgbm\\basic.py:742: UserWarning: categorical_feature in param dict is overridden.\n",
      "  warnings.warn('categorical_feature in param dict is overridden.')\n"
     ]
    },
    {
     "name": "stdout",
     "output_type": "stream",
     "text": [
      "[200]\ttraining's auc: 0.899314\tvalid_1's auc: 0.883754\n",
      "Early stopping, best iteration is:\n",
      "[192]\ttraining's auc: 0.898666\tvalid_1's auc: 0.884\n",
      "-\n",
      "Fold 3\n",
      "Training until validation scores don't improve for 25 rounds.\n"
     ]
    },
    {
     "name": "stderr",
     "output_type": "stream",
     "text": [
      "E:\\Anaconda\\envs\\ML\\lib\\site-packages\\lightgbm\\basic.py:742: UserWarning: categorical_feature in param dict is overridden.\n",
      "  warnings.warn('categorical_feature in param dict is overridden.')\n"
     ]
    },
    {
     "name": "stdout",
     "output_type": "stream",
     "text": [
      "[200]\ttraining's auc: 0.899537\tvalid_1's auc: 0.88122\n",
      "Early stopping, best iteration is:\n",
      "[237]\ttraining's auc: 0.902355\tvalid_1's auc: 0.881581\n",
      "-\n",
      "Fold 4\n",
      "Training until validation scores don't improve for 25 rounds.\n"
     ]
    },
    {
     "name": "stderr",
     "output_type": "stream",
     "text": [
      "E:\\Anaconda\\envs\\ML\\lib\\site-packages\\lightgbm\\basic.py:742: UserWarning: categorical_feature in param dict is overridden.\n",
      "  warnings.warn('categorical_feature in param dict is overridden.')\n"
     ]
    },
    {
     "name": "stdout",
     "output_type": "stream",
     "text": [
      "[200]\ttraining's auc: 0.898082\tvalid_1's auc: 0.886155\n",
      "Early stopping, best iteration is:\n",
      "[235]\ttraining's auc: 0.901312\tvalid_1's auc: 0.887032\n",
      "-\n",
      "Fold 5\n",
      "Training until validation scores don't improve for 25 rounds.\n"
     ]
    },
    {
     "name": "stderr",
     "output_type": "stream",
     "text": [
      "E:\\Anaconda\\envs\\ML\\lib\\site-packages\\lightgbm\\basic.py:742: UserWarning: categorical_feature in param dict is overridden.\n",
      "  warnings.warn('categorical_feature in param dict is overridden.')\n"
     ]
    },
    {
     "name": "stdout",
     "output_type": "stream",
     "text": [
      "[200]\ttraining's auc: 0.899885\tvalid_1's auc: 0.883553\n",
      "Early stopping, best iteration is:\n",
      "[212]\ttraining's auc: 0.900815\tvalid_1's auc: 0.883884\n",
      "\n",
      "Avg Accuracy Train Set: 81.64792693036213\n",
      "Avg Accuracy Test Set: 80.10612913408076\n",
      "\n",
      "Avg Recall: 77.3460235518227\n",
      "Avg Precision: 81.86384716936007\n",
      "8 45 0.6000000000000001\n",
      "-\n",
      "Fold 1\n",
      "Training until validation scores don't improve for 25 rounds.\n"
     ]
    },
    {
     "name": "stderr",
     "output_type": "stream",
     "text": [
      "E:\\Anaconda\\envs\\ML\\lib\\site-packages\\lightgbm\\basic.py:742: UserWarning: categorical_feature in param dict is overridden.\n",
      "  warnings.warn('categorical_feature in param dict is overridden.')\n"
     ]
    },
    {
     "name": "stdout",
     "output_type": "stream",
     "text": [
      "Early stopping, best iteration is:\n",
      "[143]\ttraining's auc: 0.895299\tvalid_1's auc: 0.879768\n",
      "-\n",
      "Fold 2\n",
      "Training until validation scores don't improve for 25 rounds.\n"
     ]
    },
    {
     "name": "stderr",
     "output_type": "stream",
     "text": [
      "E:\\Anaconda\\envs\\ML\\lib\\site-packages\\lightgbm\\basic.py:742: UserWarning: categorical_feature in param dict is overridden.\n",
      "  warnings.warn('categorical_feature in param dict is overridden.')\n"
     ]
    },
    {
     "name": "stdout",
     "output_type": "stream",
     "text": [
      "[200]\ttraining's auc: 0.899455\tvalid_1's auc: 0.88406\n",
      "Early stopping, best iteration is:\n",
      "[192]\ttraining's auc: 0.898786\tvalid_1's auc: 0.884226\n",
      "-\n",
      "Fold 3\n",
      "Training until validation scores don't improve for 25 rounds.\n"
     ]
    },
    {
     "name": "stderr",
     "output_type": "stream",
     "text": [
      "E:\\Anaconda\\envs\\ML\\lib\\site-packages\\lightgbm\\basic.py:742: UserWarning: categorical_feature in param dict is overridden.\n",
      "  warnings.warn('categorical_feature in param dict is overridden.')\n"
     ]
    },
    {
     "name": "stdout",
     "output_type": "stream",
     "text": [
      "[200]\ttraining's auc: 0.899625\tvalid_1's auc: 0.880353\n",
      "Early stopping, best iteration is:\n",
      "[251]\ttraining's auc: 0.904013\tvalid_1's auc: 0.880926\n",
      "-\n",
      "Fold 4\n"
     ]
    },
    {
     "name": "stderr",
     "output_type": "stream",
     "text": [
      "E:\\Anaconda\\envs\\ML\\lib\\site-packages\\lightgbm\\basic.py:742: UserWarning: categorical_feature in param dict is overridden.\n",
      "  warnings.warn('categorical_feature in param dict is overridden.')\n"
     ]
    },
    {
     "name": "stdout",
     "output_type": "stream",
     "text": [
      "Training until validation scores don't improve for 25 rounds.\n",
      "[200]\ttraining's auc: 0.89946\tvalid_1's auc: 0.887158\n",
      "Early stopping, best iteration is:\n",
      "[224]\ttraining's auc: 0.901537\tvalid_1's auc: 0.887285\n",
      "-\n",
      "Fold 5\n",
      "Training until validation scores don't improve for 25 rounds.\n"
     ]
    },
    {
     "name": "stderr",
     "output_type": "stream",
     "text": [
      "E:\\Anaconda\\envs\\ML\\lib\\site-packages\\lightgbm\\basic.py:742: UserWarning: categorical_feature in param dict is overridden.\n",
      "  warnings.warn('categorical_feature in param dict is overridden.')\n"
     ]
    },
    {
     "name": "stdout",
     "output_type": "stream",
     "text": [
      "[200]\ttraining's auc: 0.899795\tvalid_1's auc: 0.883331\n",
      "Early stopping, best iteration is:\n",
      "[234]\ttraining's auc: 0.902666\tvalid_1's auc: 0.884083\n",
      "\n",
      "Avg Accuracy Train Set: 81.6689353326364\n",
      "Avg Accuracy Test Set: 80.12712925989939\n",
      "\n",
      "Avg Recall: 77.2628212898767\n",
      "Avg Precision: 81.96036521323231\n",
      "8 45 0.7000000000000001\n",
      "-\n",
      "Fold 1\n",
      "Training until validation scores don't improve for 25 rounds.\n"
     ]
    },
    {
     "name": "stderr",
     "output_type": "stream",
     "text": [
      "E:\\Anaconda\\envs\\ML\\lib\\site-packages\\lightgbm\\basic.py:742: UserWarning: categorical_feature in param dict is overridden.\n",
      "  warnings.warn('categorical_feature in param dict is overridden.')\n"
     ]
    },
    {
     "name": "stdout",
     "output_type": "stream",
     "text": [
      "Early stopping, best iteration is:\n",
      "[128]\ttraining's auc: 0.894051\tvalid_1's auc: 0.878856\n",
      "-\n",
      "Fold 2\n",
      "Training until validation scores don't improve for 25 rounds.\n"
     ]
    },
    {
     "name": "stderr",
     "output_type": "stream",
     "text": [
      "E:\\Anaconda\\envs\\ML\\lib\\site-packages\\lightgbm\\basic.py:742: UserWarning: categorical_feature in param dict is overridden.\n",
      "  warnings.warn('categorical_feature in param dict is overridden.')\n"
     ]
    },
    {
     "name": "stdout",
     "output_type": "stream",
     "text": [
      "[200]\ttraining's auc: 0.900158\tvalid_1's auc: 0.884267\n",
      "Early stopping, best iteration is:\n",
      "[221]\ttraining's auc: 0.902091\tvalid_1's auc: 0.885002\n",
      "-\n",
      "Fold 3\n",
      "Training until validation scores don't improve for 25 rounds.\n"
     ]
    },
    {
     "name": "stderr",
     "output_type": "stream",
     "text": [
      "E:\\Anaconda\\envs\\ML\\lib\\site-packages\\lightgbm\\basic.py:742: UserWarning: categorical_feature in param dict is overridden.\n",
      "  warnings.warn('categorical_feature in param dict is overridden.')\n"
     ]
    },
    {
     "name": "stdout",
     "output_type": "stream",
     "text": [
      "[200]\ttraining's auc: 0.901002\tvalid_1's auc: 0.881084\n",
      "Early stopping, best iteration is:\n",
      "[254]\ttraining's auc: 0.905607\tvalid_1's auc: 0.881802\n",
      "-\n",
      "Fold 4\n"
     ]
    },
    {
     "name": "stderr",
     "output_type": "stream",
     "text": [
      "E:\\Anaconda\\envs\\ML\\lib\\site-packages\\lightgbm\\basic.py:742: UserWarning: categorical_feature in param dict is overridden.\n",
      "  warnings.warn('categorical_feature in param dict is overridden.')\n"
     ]
    },
    {
     "name": "stdout",
     "output_type": "stream",
     "text": [
      "Training until validation scores don't improve for 25 rounds.\n",
      "[200]\ttraining's auc: 0.89946\tvalid_1's auc: 0.886379\n",
      "Early stopping, best iteration is:\n",
      "[269]\ttraining's auc: 0.905339\tvalid_1's auc: 0.887097\n",
      "-\n",
      "Fold 5\n"
     ]
    },
    {
     "name": "stderr",
     "output_type": "stream",
     "text": [
      "E:\\Anaconda\\envs\\ML\\lib\\site-packages\\lightgbm\\basic.py:742: UserWarning: categorical_feature in param dict is overridden.\n",
      "  warnings.warn('categorical_feature in param dict is overridden.')\n"
     ]
    },
    {
     "name": "stdout",
     "output_type": "stream",
     "text": [
      "Training until validation scores don't improve for 25 rounds.\n",
      "[200]\ttraining's auc: 0.900471\tvalid_1's auc: 0.884176\n",
      "Early stopping, best iteration is:\n",
      "[270]\ttraining's auc: 0.906525\tvalid_1's auc: 0.885351\n",
      "\n",
      "Avg Accuracy Train Set: 81.93684455143207\n",
      "Avg Accuracy Test Set: 80.13765553502726\n",
      "\n",
      "Avg Recall: 77.25020307869919\n",
      "Avg Precision: 81.98321922005832\n",
      "8 45 0.8\n",
      "-\n",
      "Fold 1\n"
     ]
    },
    {
     "name": "stderr",
     "output_type": "stream",
     "text": [
      "E:\\Anaconda\\envs\\ML\\lib\\site-packages\\lightgbm\\basic.py:742: UserWarning: categorical_feature in param dict is overridden.\n",
      "  warnings.warn('categorical_feature in param dict is overridden.')\n"
     ]
    },
    {
     "name": "stdout",
     "output_type": "stream",
     "text": [
      "Training until validation scores don't improve for 25 rounds.\n",
      "[200]\ttraining's auc: 0.901332\tvalid_1's auc: 0.879277\n",
      "Early stopping, best iteration is:\n",
      "[242]\ttraining's auc: 0.90504\tvalid_1's auc: 0.879713\n",
      "-\n",
      "Fold 2\n",
      "Training until validation scores don't improve for 25 rounds."
     ]
    },
    {
     "name": "stderr",
     "output_type": "stream",
     "text": [
      "E:\\Anaconda\\envs\\ML\\lib\\site-packages\\lightgbm\\basic.py:742: UserWarning: categorical_feature in param dict is overridden.\n",
      "  warnings.warn('categorical_feature in param dict is overridden.')\n"
     ]
    },
    {
     "name": "stdout",
     "output_type": "stream",
     "text": [
      "\n",
      "[200]\ttraining's auc: 0.901198\tvalid_1's auc: 0.882929\n",
      "Early stopping, best iteration is:\n",
      "[247]\ttraining's auc: 0.905361\tvalid_1's auc: 0.883809\n",
      "-\n",
      "Fold 3\n",
      "Training until validation scores don't improve for 25 rounds."
     ]
    },
    {
     "name": "stderr",
     "output_type": "stream",
     "text": [
      "E:\\Anaconda\\envs\\ML\\lib\\site-packages\\lightgbm\\basic.py:742: UserWarning: categorical_feature in param dict is overridden.\n",
      "  warnings.warn('categorical_feature in param dict is overridden.')\n"
     ]
    },
    {
     "name": "stdout",
     "output_type": "stream",
     "text": [
      "\n",
      "[200]\ttraining's auc: 0.901324\tvalid_1's auc: 0.881434\n",
      "Early stopping, best iteration is:\n",
      "[229]\ttraining's auc: 0.904185\tvalid_1's auc: 0.881819\n",
      "-\n",
      "Fold 4\n",
      "Training until validation scores don't improve for 25 rounds.\n"
     ]
    },
    {
     "name": "stderr",
     "output_type": "stream",
     "text": [
      "E:\\Anaconda\\envs\\ML\\lib\\site-packages\\lightgbm\\basic.py:742: UserWarning: categorical_feature in param dict is overridden.\n",
      "  warnings.warn('categorical_feature in param dict is overridden.')\n"
     ]
    },
    {
     "name": "stdout",
     "output_type": "stream",
     "text": [
      "[200]\ttraining's auc: 0.900576\tvalid_1's auc: 0.887654\n",
      "Early stopping, best iteration is:\n",
      "[219]\ttraining's auc: 0.902458\tvalid_1's auc: 0.887976\n",
      "-\n",
      "Fold 5\n",
      "Training until validation scores don't improve for 25 rounds.\n"
     ]
    },
    {
     "name": "stderr",
     "output_type": "stream",
     "text": [
      "E:\\Anaconda\\envs\\ML\\lib\\site-packages\\lightgbm\\basic.py:742: UserWarning: categorical_feature in param dict is overridden.\n",
      "  warnings.warn('categorical_feature in param dict is overridden.')\n"
     ]
    },
    {
     "name": "stdout",
     "output_type": "stream",
     "text": [
      "[200]\ttraining's auc: 0.90148\tvalid_1's auc: 0.883646\n",
      "Early stopping, best iteration is:\n",
      "[210]\ttraining's auc: 0.902309\tvalid_1's auc: 0.883921\n",
      "\n",
      "Avg Accuracy Train Set: 82.06030772341828\n",
      "Avg Accuracy Test Set: 80.21117253047791\n",
      "\n",
      "Avg Recall: 77.35957593219692\n",
      "Avg Precision: 82.04430355827401\n",
      "8 45 0.9\n",
      "-\n",
      "Fold 1\n",
      "Training until validation scores don't improve for 25 rounds.\n"
     ]
    },
    {
     "name": "stderr",
     "output_type": "stream",
     "text": [
      "E:\\Anaconda\\envs\\ML\\lib\\site-packages\\lightgbm\\basic.py:742: UserWarning: categorical_feature in param dict is overridden.\n",
      "  warnings.warn('categorical_feature in param dict is overridden.')\n"
     ]
    },
    {
     "name": "stdout",
     "output_type": "stream",
     "text": [
      "Early stopping, best iteration is:\n",
      "[154]\ttraining's auc: 0.897465\tvalid_1's auc: 0.879594\n",
      "-\n",
      "Fold 2\n",
      "Training until validation scores don't improve for 25 rounds.\n"
     ]
    },
    {
     "name": "stderr",
     "output_type": "stream",
     "text": [
      "E:\\Anaconda\\envs\\ML\\lib\\site-packages\\lightgbm\\basic.py:742: UserWarning: categorical_feature in param dict is overridden.\n",
      "  warnings.warn('categorical_feature in param dict is overridden.')\n"
     ]
    },
    {
     "name": "stdout",
     "output_type": "stream",
     "text": [
      "Early stopping, best iteration is:\n",
      "[127]\ttraining's auc: 0.893722\tvalid_1's auc: 0.883071\n",
      "-\n",
      "Fold 3\n",
      "Training until validation scores don't improve for 25 rounds.\n"
     ]
    },
    {
     "name": "stderr",
     "output_type": "stream",
     "text": [
      "E:\\Anaconda\\envs\\ML\\lib\\site-packages\\lightgbm\\basic.py:742: UserWarning: categorical_feature in param dict is overridden.\n",
      "  warnings.warn('categorical_feature in param dict is overridden.')\n"
     ]
    },
    {
     "name": "stdout",
     "output_type": "stream",
     "text": [
      "[200]\ttraining's auc: 0.901839\tvalid_1's auc: 0.881573\n",
      "Early stopping, best iteration is:\n",
      "[267]\ttraining's auc: 0.907266\tvalid_1's auc: 0.882096\n",
      "-\n",
      "Fold 4\n"
     ]
    },
    {
     "name": "stderr",
     "output_type": "stream",
     "text": [
      "E:\\Anaconda\\envs\\ML\\lib\\site-packages\\lightgbm\\basic.py:742: UserWarning: categorical_feature in param dict is overridden.\n",
      "  warnings.warn('categorical_feature in param dict is overridden.')\n"
     ]
    },
    {
     "name": "stdout",
     "output_type": "stream",
     "text": [
      "Training until validation scores don't improve for 25 rounds.\n",
      "[200]\ttraining's auc: 0.899916\tvalid_1's auc: 0.886555\n",
      "Early stopping, best iteration is:\n",
      "[219]\ttraining's auc: 0.90164\tvalid_1's auc: 0.886692\n",
      "-\n",
      "Fold 5\n",
      "Training until validation scores don't improve for 25 rounds.\n"
     ]
    },
    {
     "name": "stderr",
     "output_type": "stream",
     "text": [
      "E:\\Anaconda\\envs\\ML\\lib\\site-packages\\lightgbm\\basic.py:742: UserWarning: categorical_feature in param dict is overridden.\n",
      "  warnings.warn('categorical_feature in param dict is overridden.')\n"
     ]
    },
    {
     "name": "stdout",
     "output_type": "stream",
     "text": [
      "[200]\ttraining's auc: 0.901314\tvalid_1's auc: 0.884062\n",
      "Early stopping, best iteration is:\n",
      "[211]\ttraining's auc: 0.90219\tvalid_1's auc: 0.88442\n",
      "\n",
      "Avg Accuracy Train Set: 81.71752916420728\n",
      "Avg Accuracy Test Set: 80.09559734059107\n",
      "\n",
      "Avg Recall: 77.05524388667759\n",
      "Avg Precision: 82.04671414192647\n",
      "8 45 1.0\n",
      "-\n",
      "Fold 1\n",
      "Training until validation scores don't improve for 25 rounds.\n"
     ]
    },
    {
     "name": "stderr",
     "output_type": "stream",
     "text": [
      "E:\\Anaconda\\envs\\ML\\lib\\site-packages\\lightgbm\\basic.py:742: UserWarning: categorical_feature in param dict is overridden.\n",
      "  warnings.warn('categorical_feature in param dict is overridden.')\n"
     ]
    },
    {
     "name": "stdout",
     "output_type": "stream",
     "text": [
      "[200]\ttraining's auc: 0.902312\tvalid_1's auc: 0.879156\n",
      "Early stopping, best iteration is:\n",
      "[193]\ttraining's auc: 0.901631\tvalid_1's auc: 0.879372\n",
      "-\n",
      "Fold 2\n",
      "Training until validation scores don't improve for 25 rounds.\n"
     ]
    },
    {
     "name": "stderr",
     "output_type": "stream",
     "text": [
      "E:\\Anaconda\\envs\\ML\\lib\\site-packages\\lightgbm\\basic.py:742: UserWarning: categorical_feature in param dict is overridden.\n",
      "  warnings.warn('categorical_feature in param dict is overridden.')\n"
     ]
    },
    {
     "name": "stdout",
     "output_type": "stream",
     "text": [
      "[200]\ttraining's auc: 0.901752\tvalid_1's auc: 0.882983\n",
      "Early stopping, best iteration is:\n",
      "[212]\ttraining's auc: 0.902799\tvalid_1's auc: 0.883112\n",
      "-\n",
      "Fold 3\n",
      "Training until validation scores don't improve for 25 rounds.\n"
     ]
    },
    {
     "name": "stderr",
     "output_type": "stream",
     "text": [
      "E:\\Anaconda\\envs\\ML\\lib\\site-packages\\lightgbm\\basic.py:742: UserWarning: categorical_feature in param dict is overridden.\n",
      "  warnings.warn('categorical_feature in param dict is overridden.')\n"
     ]
    },
    {
     "name": "stdout",
     "output_type": "stream",
     "text": [
      "[200]\ttraining's auc: 0.9023\tvalid_1's auc: 0.881466\n",
      "Early stopping, best iteration is:\n",
      "[201]\ttraining's auc: 0.90237\tvalid_1's auc: 0.8815\n",
      "-\n",
      "Fold 4\n",
      "Training until validation scores don't improve for 25 rounds.\n"
     ]
    },
    {
     "name": "stderr",
     "output_type": "stream",
     "text": [
      "E:\\Anaconda\\envs\\ML\\lib\\site-packages\\lightgbm\\basic.py:742: UserWarning: categorical_feature in param dict is overridden.\n",
      "  warnings.warn('categorical_feature in param dict is overridden.')\n"
     ]
    },
    {
     "name": "stdout",
     "output_type": "stream",
     "text": [
      "[200]\ttraining's auc: 0.900874\tvalid_1's auc: 0.887644\n",
      "Early stopping, best iteration is:\n",
      "[296]\ttraining's auc: 0.909237\tvalid_1's auc: 0.88835\n",
      "-\n",
      "Fold 5\n",
      "Training until validation scores don't improve for 25 rounds.\n"
     ]
    },
    {
     "name": "stderr",
     "output_type": "stream",
     "text": [
      "E:\\Anaconda\\envs\\ML\\lib\\site-packages\\lightgbm\\basic.py:742: UserWarning: categorical_feature in param dict is overridden.\n",
      "  warnings.warn('categorical_feature in param dict is overridden.')\n"
     ]
    },
    {
     "name": "stdout",
     "output_type": "stream",
     "text": [
      "[200]\ttraining's auc: 0.901549\tvalid_1's auc: 0.883809\n",
      "Early stopping, best iteration is:\n",
      "[219]\ttraining's auc: 0.90341\tvalid_1's auc: 0.884049\n",
      "\n",
      "Avg Accuracy Train Set: 81.98807176380527\n",
      "Avg Accuracy Test Set: 80.06408611513952\n",
      "\n",
      "Avg Recall: 77.17270492370419\n",
      "Avg Precision: 81.91451907127676\n",
      "8 50 0.5\n",
      "-\n",
      "Fold 1\n",
      "Training until validation scores don't improve for 25 rounds.\n"
     ]
    },
    {
     "name": "stderr",
     "output_type": "stream",
     "text": [
      "E:\\Anaconda\\envs\\ML\\lib\\site-packages\\lightgbm\\basic.py:742: UserWarning: categorical_feature in param dict is overridden.\n",
      "  warnings.warn('categorical_feature in param dict is overridden.')\n"
     ]
    },
    {
     "name": "stdout",
     "output_type": "stream",
     "text": [
      "[200]\ttraining's auc: 0.89979\tvalid_1's auc: 0.879587\n",
      "Early stopping, best iteration is:\n",
      "[193]\ttraining's auc: 0.899214\tvalid_1's auc: 0.87983\n",
      "-\n",
      "Fold 2\n",
      "Training until validation scores don't improve for 25 rounds.\n"
     ]
    },
    {
     "name": "stderr",
     "output_type": "stream",
     "text": [
      "E:\\Anaconda\\envs\\ML\\lib\\site-packages\\lightgbm\\basic.py:742: UserWarning: categorical_feature in param dict is overridden.\n",
      "  warnings.warn('categorical_feature in param dict is overridden.')\n"
     ]
    },
    {
     "name": "stdout",
     "output_type": "stream",
     "text": [
      "[200]\ttraining's auc: 0.8988\tvalid_1's auc: 0.882604\n",
      "Early stopping, best iteration is:\n",
      "[206]\ttraining's auc: 0.899313\tvalid_1's auc: 0.882676\n",
      "-\n",
      "Fold 3\n",
      "Training until validation scores don't improve for 25 rounds.\n"
     ]
    },
    {
     "name": "stderr",
     "output_type": "stream",
     "text": [
      "E:\\Anaconda\\envs\\ML\\lib\\site-packages\\lightgbm\\basic.py:742: UserWarning: categorical_feature in param dict is overridden.\n",
      "  warnings.warn('categorical_feature in param dict is overridden.')\n"
     ]
    },
    {
     "name": "stdout",
     "output_type": "stream",
     "text": [
      "Early stopping, best iteration is:\n",
      "[168]\ttraining's auc: 0.896074\tvalid_1's auc: 0.880573\n",
      "-\n",
      "Fold 4\n",
      "Training until validation scores don't improve for 25 rounds.\n"
     ]
    },
    {
     "name": "stderr",
     "output_type": "stream",
     "text": [
      "E:\\Anaconda\\envs\\ML\\lib\\site-packages\\lightgbm\\basic.py:742: UserWarning: categorical_feature in param dict is overridden.\n",
      "  warnings.warn('categorical_feature in param dict is overridden.')\n"
     ]
    },
    {
     "name": "stdout",
     "output_type": "stream",
     "text": [
      "[200]\ttraining's auc: 0.898478\tvalid_1's auc: 0.88637\n",
      "Early stopping, best iteration is:\n",
      "[225]\ttraining's auc: 0.900421\tvalid_1's auc: 0.886527\n",
      "-\n",
      "Fold 5\n",
      "Training until validation scores don't improve for 25 rounds.\n"
     ]
    },
    {
     "name": "stderr",
     "output_type": "stream",
     "text": [
      "E:\\Anaconda\\envs\\ML\\lib\\site-packages\\lightgbm\\basic.py:742: UserWarning: categorical_feature in param dict is overridden.\n",
      "  warnings.warn('categorical_feature in param dict is overridden.')\n"
     ]
    },
    {
     "name": "stdout",
     "output_type": "stream",
     "text": [
      "[200]\ttraining's auc: 0.899285\tvalid_1's auc: 0.882454\n",
      "Early stopping, best iteration is:\n",
      "[283]\ttraining's auc: 0.905896\tvalid_1's auc: 0.883146\n",
      "\n",
      "Avg Accuracy Train Set: 81.63348098031553\n",
      "Avg Accuracy Test Set: 80.09037007237883\n",
      "\n",
      "Avg Recall: 77.3478897277284\n",
      "Avg Precision: 81.83979360879849\n",
      "8 50 0.6000000000000001\n",
      "-\n",
      "Fold 1\n",
      "Training until validation scores don't improve for 25 rounds.\n"
     ]
    },
    {
     "name": "stderr",
     "output_type": "stream",
     "text": [
      "E:\\Anaconda\\envs\\ML\\lib\\site-packages\\lightgbm\\basic.py:742: UserWarning: categorical_feature in param dict is overridden.\n",
      "  warnings.warn('categorical_feature in param dict is overridden.')\n"
     ]
    },
    {
     "name": "stdout",
     "output_type": "stream",
     "text": [
      "Early stopping, best iteration is:\n",
      "[156]\ttraining's auc: 0.896896\tvalid_1's auc: 0.879156\n",
      "-\n",
      "Fold 2\n",
      "Training until validation scores don't improve for 25 rounds.\n"
     ]
    },
    {
     "name": "stderr",
     "output_type": "stream",
     "text": [
      "E:\\Anaconda\\envs\\ML\\lib\\site-packages\\lightgbm\\basic.py:742: UserWarning: categorical_feature in param dict is overridden.\n",
      "  warnings.warn('categorical_feature in param dict is overridden.')\n"
     ]
    },
    {
     "name": "stdout",
     "output_type": "stream",
     "text": [
      "[200]\ttraining's auc: 0.898502\tvalid_1's auc: 0.883591\n",
      "Early stopping, best iteration is:\n",
      "[184]\ttraining's auc: 0.897222\tvalid_1's auc: 0.884002\n",
      "-\n",
      "Fold 3\n",
      "Training until validation scores don't improve for 25 rounds.\n"
     ]
    },
    {
     "name": "stderr",
     "output_type": "stream",
     "text": [
      "E:\\Anaconda\\envs\\ML\\lib\\site-packages\\lightgbm\\basic.py:742: UserWarning: categorical_feature in param dict is overridden.\n",
      "  warnings.warn('categorical_feature in param dict is overridden.')\n"
     ]
    },
    {
     "name": "stdout",
     "output_type": "stream",
     "text": [
      "[200]\ttraining's auc: 0.899766\tvalid_1's auc: 0.881081\n",
      "Early stopping, best iteration is:\n",
      "[247]\ttraining's auc: 0.90428\tvalid_1's auc: 0.881727\n",
      "-\n",
      "Fold 4\n"
     ]
    },
    {
     "name": "stderr",
     "output_type": "stream",
     "text": [
      "E:\\Anaconda\\envs\\ML\\lib\\site-packages\\lightgbm\\basic.py:742: UserWarning: categorical_feature in param dict is overridden.\n",
      "  warnings.warn('categorical_feature in param dict is overridden.')\n"
     ]
    },
    {
     "name": "stdout",
     "output_type": "stream",
     "text": [
      "Training until validation scores don't improve for 25 rounds.\n",
      "Early stopping, best iteration is:\n",
      "[148]\ttraining's auc: 0.894174\tvalid_1's auc: 0.8861\n",
      "-\n",
      "Fold 5\n",
      "Training until validation scores don't improve for 25 rounds.\n"
     ]
    },
    {
     "name": "stderr",
     "output_type": "stream",
     "text": [
      "E:\\Anaconda\\envs\\ML\\lib\\site-packages\\lightgbm\\basic.py:742: UserWarning: categorical_feature in param dict is overridden.\n",
      "  warnings.warn('categorical_feature in param dict is overridden.')\n"
     ]
    },
    {
     "name": "stdout",
     "output_type": "stream",
     "text": [
      "[200]\ttraining's auc: 0.899854\tvalid_1's auc: 0.883352\n",
      "Early stopping, best iteration is:\n",
      "[331]\ttraining's auc: 0.90945\tvalid_1's auc: 0.884836\n",
      "\n",
      "Avg Accuracy Train Set: 81.68338188637274\n",
      "Avg Accuracy Test Set: 80.2111863263824\n",
      "\n",
      "Avg Recall: 77.30215178591135\n",
      "Avg Precision: 82.0756666971694\n",
      "8 50 0.7000000000000001\n",
      "-\n",
      "Fold 1\n",
      "Training until validation scores don't improve for 25 rounds.\n"
     ]
    },
    {
     "name": "stderr",
     "output_type": "stream",
     "text": [
      "E:\\Anaconda\\envs\\ML\\lib\\site-packages\\lightgbm\\basic.py:742: UserWarning: categorical_feature in param dict is overridden.\n",
      "  warnings.warn('categorical_feature in param dict is overridden.')\n"
     ]
    },
    {
     "name": "stdout",
     "output_type": "stream",
     "text": [
      "[200]\ttraining's auc: 0.901538\tvalid_1's auc: 0.879873\n",
      "Early stopping, best iteration is:\n",
      "[180]\ttraining's auc: 0.899766\tvalid_1's auc: 0.880007\n",
      "-\n",
      "Fold 2\n",
      "Training until validation scores don't improve for 25 rounds.\n"
     ]
    },
    {
     "name": "stderr",
     "output_type": "stream",
     "text": [
      "E:\\Anaconda\\envs\\ML\\lib\\site-packages\\lightgbm\\basic.py:742: UserWarning: categorical_feature in param dict is overridden.\n",
      "  warnings.warn('categorical_feature in param dict is overridden.')\n"
     ]
    },
    {
     "name": "stdout",
     "output_type": "stream",
     "text": [
      "[200]\ttraining's auc: 0.900273\tvalid_1's auc: 0.883709\n",
      "Early stopping, best iteration is:\n",
      "[244]\ttraining's auc: 0.903991\tvalid_1's auc: 0.884303\n",
      "-\n",
      "Fold 3\n",
      "Training until validation scores don't improve for 25 rounds.\n"
     ]
    },
    {
     "name": "stderr",
     "output_type": "stream",
     "text": [
      "E:\\Anaconda\\envs\\ML\\lib\\site-packages\\lightgbm\\basic.py:742: UserWarning: categorical_feature in param dict is overridden.\n",
      "  warnings.warn('categorical_feature in param dict is overridden.')\n"
     ]
    },
    {
     "name": "stdout",
     "output_type": "stream",
     "text": [
      "[200]\ttraining's auc: 0.900731\tvalid_1's auc: 0.880095\n",
      "Early stopping, best iteration is:\n",
      "[220]\ttraining's auc: 0.902348\tvalid_1's auc: 0.880435\n",
      "-\n",
      "Fold 4\n",
      "Training until validation scores don't improve for 25 rounds.\n"
     ]
    },
    {
     "name": "stderr",
     "output_type": "stream",
     "text": [
      "E:\\Anaconda\\envs\\ML\\lib\\site-packages\\lightgbm\\basic.py:742: UserWarning: categorical_feature in param dict is overridden.\n",
      "  warnings.warn('categorical_feature in param dict is overridden.')\n"
     ]
    },
    {
     "name": "stdout",
     "output_type": "stream",
     "text": [
      "Early stopping, best iteration is:\n",
      "[152]\ttraining's auc: 0.895131\tvalid_1's auc: 0.886235\n",
      "-\n",
      "Fold 5\n",
      "Training until validation scores don't improve for 25 rounds.\n"
     ]
    },
    {
     "name": "stderr",
     "output_type": "stream",
     "text": [
      "E:\\Anaconda\\envs\\ML\\lib\\site-packages\\lightgbm\\basic.py:742: UserWarning: categorical_feature in param dict is overridden.\n",
      "  warnings.warn('categorical_feature in param dict is overridden.')\n"
     ]
    },
    {
     "name": "stdout",
     "output_type": "stream",
     "text": [
      "[200]\ttraining's auc: 0.901048\tvalid_1's auc: 0.883087\n",
      "Early stopping, best iteration is:\n",
      "[255]\ttraining's auc: 0.905382\tvalid_1's auc: 0.883885\n",
      "\n",
      "Avg Accuracy Train Set: 81.79895681726363\n",
      "Avg Accuracy Test Set: 80.08509037972952\n",
      "\n",
      "Avg Recall: 77.18979779095261\n",
      "Avg Precision: 81.93796563472465\n",
      "8 50 0.8\n",
      "-\n",
      "Fold 1\n"
     ]
    },
    {
     "name": "stderr",
     "output_type": "stream",
     "text": [
      "E:\\Anaconda\\envs\\ML\\lib\\site-packages\\lightgbm\\basic.py:742: UserWarning: categorical_feature in param dict is overridden.\n",
      "  warnings.warn('categorical_feature in param dict is overridden.')\n"
     ]
    },
    {
     "name": "stdout",
     "output_type": "stream",
     "text": [
      "Training until validation scores don't improve for 25 rounds.\n",
      "Early stopping, best iteration is:\n",
      "[170]\ttraining's auc: 0.898956\tvalid_1's auc: 0.878978\n",
      "-\n",
      "Fold 2\n",
      "Training until validation scores don't improve for 25 rounds.\n"
     ]
    },
    {
     "name": "stderr",
     "output_type": "stream",
     "text": [
      "E:\\Anaconda\\envs\\ML\\lib\\site-packages\\lightgbm\\basic.py:742: UserWarning: categorical_feature in param dict is overridden.\n",
      "  warnings.warn('categorical_feature in param dict is overridden.')\n"
     ]
    },
    {
     "name": "stdout",
     "output_type": "stream",
     "text": [
      "Early stopping, best iteration is:\n",
      "[155]\ttraining's auc: 0.896516\tvalid_1's auc: 0.882589\n",
      "-\n",
      "Fold 3\n",
      "Training until validation scores don't improve for 25 rounds.\n"
     ]
    },
    {
     "name": "stderr",
     "output_type": "stream",
     "text": [
      "E:\\Anaconda\\envs\\ML\\lib\\site-packages\\lightgbm\\basic.py:742: UserWarning: categorical_feature in param dict is overridden.\n",
      "  warnings.warn('categorical_feature in param dict is overridden.')\n"
     ]
    },
    {
     "name": "stdout",
     "output_type": "stream",
     "text": [
      "[200]\ttraining's auc: 0.900955\tvalid_1's auc: 0.881145\n",
      "Early stopping, best iteration is:\n",
      "[242]\ttraining's auc: 0.904648\tvalid_1's auc: 0.881856\n",
      "-\n",
      "Fold 4\n",
      "Training until validation scores don't improve for 25 rounds.\n"
     ]
    },
    {
     "name": "stderr",
     "output_type": "stream",
     "text": [
      "E:\\Anaconda\\envs\\ML\\lib\\site-packages\\lightgbm\\basic.py:742: UserWarning: categorical_feature in param dict is overridden.\n",
      "  warnings.warn('categorical_feature in param dict is overridden.')\n"
     ]
    },
    {
     "name": "stdout",
     "output_type": "stream",
     "text": [
      "[200]\ttraining's auc: 0.900609\tvalid_1's auc: 0.887398\n",
      "Early stopping, best iteration is:\n",
      "[206]\ttraining's auc: 0.901155\tvalid_1's auc: 0.887536\n",
      "-\n",
      "Fold 5\n",
      "Training until validation scores don't improve for 25 rounds.\n"
     ]
    },
    {
     "name": "stderr",
     "output_type": "stream",
     "text": [
      "E:\\Anaconda\\envs\\ML\\lib\\site-packages\\lightgbm\\basic.py:742: UserWarning: categorical_feature in param dict is overridden.\n",
      "  warnings.warn('categorical_feature in param dict is overridden.')\n"
     ]
    },
    {
     "name": "stdout",
     "output_type": "stream",
     "text": [
      "[200]\ttraining's auc: 0.901138\tvalid_1's auc: 0.882111\n",
      "Early stopping, best iteration is:\n",
      "[338]\ttraining's auc: 0.911783\tvalid_1's auc: 0.883447\n",
      "\n",
      "Avg Accuracy Train Set: 81.95654958759971\n",
      "Avg Accuracy Test Set: 80.20592594799936\n",
      "\n",
      "Avg Recall: 77.42035411859143\n",
      "Avg Precision: 81.99328282822\n",
      "8 50 0.9\n",
      "-\n",
      "Fold 1\n",
      "Training until validation scores don't improve for 25 rounds.\n"
     ]
    },
    {
     "name": "stderr",
     "output_type": "stream",
     "text": [
      "E:\\Anaconda\\envs\\ML\\lib\\site-packages\\lightgbm\\basic.py:742: UserWarning: categorical_feature in param dict is overridden.\n",
      "  warnings.warn('categorical_feature in param dict is overridden.')\n"
     ]
    },
    {
     "name": "stdout",
     "output_type": "stream",
     "text": [
      "[200]\ttraining's auc: 0.901649\tvalid_1's auc: 0.880328\n",
      "Early stopping, best iteration is:\n",
      "[313]\ttraining's auc: 0.911479\tvalid_1's auc: 0.88139\n",
      "-\n",
      "Fold 2\n",
      "Training until validation scores don't improve for 25 rounds.\n"
     ]
    },
    {
     "name": "stderr",
     "output_type": "stream",
     "text": [
      "E:\\Anaconda\\envs\\ML\\lib\\site-packages\\lightgbm\\basic.py:742: UserWarning: categorical_feature in param dict is overridden.\n",
      "  warnings.warn('categorical_feature in param dict is overridden.')\n"
     ]
    },
    {
     "name": "stdout",
     "output_type": "stream",
     "text": [
      "[200]\ttraining's auc: 0.901142\tvalid_1's auc: 0.883314\n",
      "Early stopping, best iteration is:\n",
      "[283]\ttraining's auc: 0.907879\tvalid_1's auc: 0.884201\n",
      "-\n",
      "Fold 3\n",
      "Training until validation scores don't improve for 25 rounds.\n"
     ]
    },
    {
     "name": "stderr",
     "output_type": "stream",
     "text": [
      "E:\\Anaconda\\envs\\ML\\lib\\site-packages\\lightgbm\\basic.py:742: UserWarning: categorical_feature in param dict is overridden.\n",
      "  warnings.warn('categorical_feature in param dict is overridden.')\n"
     ]
    },
    {
     "name": "stdout",
     "output_type": "stream",
     "text": [
      "Early stopping, best iteration is:\n",
      "[174]\ttraining's auc: 0.899185\tvalid_1's auc: 0.882011\n",
      "-\n",
      "Fold 4\n",
      "Training until validation scores don't improve for 25 rounds.\n"
     ]
    },
    {
     "name": "stderr",
     "output_type": "stream",
     "text": [
      "E:\\Anaconda\\envs\\ML\\lib\\site-packages\\lightgbm\\basic.py:742: UserWarning: categorical_feature in param dict is overridden.\n",
      "  warnings.warn('categorical_feature in param dict is overridden.')\n"
     ]
    },
    {
     "name": "stdout",
     "output_type": "stream",
     "text": [
      "Early stopping, best iteration is:\n",
      "[156]\ttraining's auc: 0.896159\tvalid_1's auc: 0.886287\n",
      "-\n",
      "Fold 5\n",
      "Training until validation scores don't improve for 25 rounds.\n"
     ]
    },
    {
     "name": "stderr",
     "output_type": "stream",
     "text": [
      "E:\\Anaconda\\envs\\ML\\lib\\site-packages\\lightgbm\\basic.py:742: UserWarning: categorical_feature in param dict is overridden.\n",
      "  warnings.warn('categorical_feature in param dict is overridden.')\n"
     ]
    },
    {
     "name": "stdout",
     "output_type": "stream",
     "text": [
      "[200]\ttraining's auc: 0.900943\tvalid_1's auc: 0.883293\n",
      "Early stopping, best iteration is:\n",
      "[247]\ttraining's auc: 0.905227\tvalid_1's auc: 0.884352\n",
      "\n",
      "Avg Accuracy Train Set: 82.08264165583606\n",
      "Avg Accuracy Test Set: 80.0850876205486\n",
      "\n",
      "Avg Recall: 77.11834286317662\n",
      "Avg Precision: 81.98929879130857\n",
      "8 50 1.0\n",
      "-\n",
      "Fold 1\n",
      "Training until validation scores don't improve for 25 rounds.\n"
     ]
    },
    {
     "name": "stderr",
     "output_type": "stream",
     "text": [
      "E:\\Anaconda\\envs\\ML\\lib\\site-packages\\lightgbm\\basic.py:742: UserWarning: categorical_feature in param dict is overridden.\n",
      "  warnings.warn('categorical_feature in param dict is overridden.')\n"
     ]
    },
    {
     "name": "stdout",
     "output_type": "stream",
     "text": [
      "[200]\ttraining's auc: 0.902336\tvalid_1's auc: 0.879491\n",
      "Early stopping, best iteration is:\n",
      "[213]\ttraining's auc: 0.903806\tvalid_1's auc: 0.879647\n",
      "-\n",
      "Fold 2\n",
      "Training until validation scores don't improve for 25 rounds.\n"
     ]
    },
    {
     "name": "stderr",
     "output_type": "stream",
     "text": [
      "E:\\Anaconda\\envs\\ML\\lib\\site-packages\\lightgbm\\basic.py:742: UserWarning: categorical_feature in param dict is overridden.\n",
      "  warnings.warn('categorical_feature in param dict is overridden.')\n"
     ]
    },
    {
     "name": "stdout",
     "output_type": "stream",
     "text": [
      "[200]\ttraining's auc: 0.901786\tvalid_1's auc: 0.882435\n",
      "Early stopping, best iteration is:\n",
      "[193]\ttraining's auc: 0.900982\tvalid_1's auc: 0.882499\n",
      "-\n",
      "Fold 3\n",
      "Training until validation scores don't improve for 25 rounds.\n"
     ]
    },
    {
     "name": "stderr",
     "output_type": "stream",
     "text": [
      "E:\\Anaconda\\envs\\ML\\lib\\site-packages\\lightgbm\\basic.py:742: UserWarning: categorical_feature in param dict is overridden.\n",
      "  warnings.warn('categorical_feature in param dict is overridden.')\n"
     ]
    },
    {
     "name": "stdout",
     "output_type": "stream",
     "text": [
      "[200]\ttraining's auc: 0.902142\tvalid_1's auc: 0.881415\n",
      "Early stopping, best iteration is:\n",
      "[243]\ttraining's auc: 0.906134\tvalid_1's auc: 0.882098\n",
      "-\n",
      "Fold 4\n",
      "Training until validation scores don't improve for 25 rounds.\n"
     ]
    },
    {
     "name": "stderr",
     "output_type": "stream",
     "text": [
      "E:\\Anaconda\\envs\\ML\\lib\\site-packages\\lightgbm\\basic.py:742: UserWarning: categorical_feature in param dict is overridden.\n",
      "  warnings.warn('categorical_feature in param dict is overridden.')\n"
     ]
    },
    {
     "name": "stdout",
     "output_type": "stream",
     "text": [
      "[200]\ttraining's auc: 0.900487\tvalid_1's auc: 0.886906\n",
      "Early stopping, best iteration is:\n",
      "[198]\ttraining's auc: 0.900224\tvalid_1's auc: 0.88715\n",
      "-\n",
      "Fold 5\n",
      "Training until validation scores don't improve for 25 rounds.\n"
     ]
    },
    {
     "name": "stderr",
     "output_type": "stream",
     "text": [
      "E:\\Anaconda\\envs\\ML\\lib\\site-packages\\lightgbm\\basic.py:742: UserWarning: categorical_feature in param dict is overridden.\n",
      "  warnings.warn('categorical_feature in param dict is overridden.')\n"
     ]
    },
    {
     "name": "stdout",
     "output_type": "stream",
     "text": [
      "[200]\ttraining's auc: 0.901434\tvalid_1's auc: 0.883\n",
      "Early stopping, best iteration is:\n",
      "[243]\ttraining's auc: 0.905346\tvalid_1's auc: 0.883404\n",
      "\n",
      "Avg Accuracy Train Set: 82.01434339178724\n",
      "Avg Accuracy Test Set: 80.10610154227174\n",
      "\n",
      "Avg Recall: 77.33998861586123\n",
      "Avg Precision: 81.8761031439918\n",
      "16 20 0.5\n",
      "-\n",
      "Fold 1\n",
      "Training until validation scores don't improve for 25 rounds.\n"
     ]
    },
    {
     "name": "stderr",
     "output_type": "stream",
     "text": [
      "E:\\Anaconda\\envs\\ML\\lib\\site-packages\\lightgbm\\basic.py:742: UserWarning: categorical_feature in param dict is overridden.\n",
      "  warnings.warn('categorical_feature in param dict is overridden.')\n"
     ]
    },
    {
     "name": "stdout",
     "output_type": "stream",
     "text": [
      "Early stopping, best iteration is:\n",
      "[92]\ttraining's auc: 0.902921\tvalid_1's auc: 0.880716\n",
      "-\n",
      "Fold 2\n",
      "Training until validation scores don't improve for 25 rounds.\n"
     ]
    },
    {
     "name": "stderr",
     "output_type": "stream",
     "text": [
      "E:\\Anaconda\\envs\\ML\\lib\\site-packages\\lightgbm\\basic.py:742: UserWarning: categorical_feature in param dict is overridden.\n",
      "  warnings.warn('categorical_feature in param dict is overridden.')\n"
     ]
    },
    {
     "name": "stdout",
     "output_type": "stream",
     "text": [
      "Early stopping, best iteration is:\n",
      "[164]\ttraining's auc: 0.914493\tvalid_1's auc: 0.885039\n",
      "-\n",
      "Fold 3\n",
      "Training until validation scores don't improve for 25 rounds.\n"
     ]
    },
    {
     "name": "stderr",
     "output_type": "stream",
     "text": [
      "E:\\Anaconda\\envs\\ML\\lib\\site-packages\\lightgbm\\basic.py:742: UserWarning: categorical_feature in param dict is overridden.\n",
      "  warnings.warn('categorical_feature in param dict is overridden.')\n"
     ]
    },
    {
     "name": "stdout",
     "output_type": "stream",
     "text": [
      "Early stopping, best iteration is:\n",
      "[119]\ttraining's auc: 0.907328\tvalid_1's auc: 0.882056\n",
      "-\n",
      "Fold 4\n",
      "Training until validation scores don't improve for 25 rounds.\n"
     ]
    },
    {
     "name": "stderr",
     "output_type": "stream",
     "text": [
      "E:\\Anaconda\\envs\\ML\\lib\\site-packages\\lightgbm\\basic.py:742: UserWarning: categorical_feature in param dict is overridden.\n",
      "  warnings.warn('categorical_feature in param dict is overridden.')\n"
     ]
    },
    {
     "name": "stdout",
     "output_type": "stream",
     "text": [
      "Early stopping, best iteration is:\n",
      "[128]\ttraining's auc: 0.90758\tvalid_1's auc: 0.888231\n",
      "-\n",
      "Fold 5\n",
      "Training until validation scores don't improve for 25 rounds.\n"
     ]
    },
    {
     "name": "stderr",
     "output_type": "stream",
     "text": [
      "E:\\Anaconda\\envs\\ML\\lib\\site-packages\\lightgbm\\basic.py:742: UserWarning: categorical_feature in param dict is overridden.\n",
      "  warnings.warn('categorical_feature in param dict is overridden.')\n"
     ]
    },
    {
     "name": "stdout",
     "output_type": "stream",
     "text": [
      "Early stopping, best iteration is:\n",
      "[149]\ttraining's auc: 0.912795\tvalid_1's auc: 0.882905\n",
      "\n",
      "Avg Accuracy Train Set: 82.6736096503976\n",
      "Avg Accuracy Test Set: 80.3740428401463\n",
      "\n",
      "Avg Recall: 78.08199006416687\n",
      "Avg Precision: 81.83362883532116\n",
      "16 20 0.6000000000000001\n",
      "-\n",
      "Fold 1\n",
      "Training until validation scores don't improve for 25 rounds.\n"
     ]
    },
    {
     "name": "stderr",
     "output_type": "stream",
     "text": [
      "E:\\Anaconda\\envs\\ML\\lib\\site-packages\\lightgbm\\basic.py:742: UserWarning: categorical_feature in param dict is overridden.\n",
      "  warnings.warn('categorical_feature in param dict is overridden.')\n"
     ]
    },
    {
     "name": "stdout",
     "output_type": "stream",
     "text": [
      "Early stopping, best iteration is:\n",
      "[84]\ttraining's auc: 0.901559\tvalid_1's auc: 0.881966\n",
      "-\n",
      "Fold 2\n",
      "Training until validation scores don't improve for 25 rounds.\n"
     ]
    },
    {
     "name": "stderr",
     "output_type": "stream",
     "text": [
      "E:\\Anaconda\\envs\\ML\\lib\\site-packages\\lightgbm\\basic.py:742: UserWarning: categorical_feature in param dict is overridden.\n",
      "  warnings.warn('categorical_feature in param dict is overridden.')\n"
     ]
    },
    {
     "name": "stdout",
     "output_type": "stream",
     "text": [
      "Early stopping, best iteration is:\n",
      "[116]\ttraining's auc: 0.906711\tvalid_1's auc: 0.885162\n",
      "-\n",
      "Fold 3\n",
      "Training until validation scores don't improve for 25 rounds.\n"
     ]
    },
    {
     "name": "stderr",
     "output_type": "stream",
     "text": [
      "E:\\Anaconda\\envs\\ML\\lib\\site-packages\\lightgbm\\basic.py:742: UserWarning: categorical_feature in param dict is overridden.\n",
      "  warnings.warn('categorical_feature in param dict is overridden.')\n"
     ]
    },
    {
     "name": "stdout",
     "output_type": "stream",
     "text": [
      "Early stopping, best iteration is:\n",
      "[136]\ttraining's auc: 0.911522\tvalid_1's auc: 0.88208\n",
      "-\n",
      "Fold 4\n",
      "Training until validation scores don't improve for 25 rounds.\n"
     ]
    },
    {
     "name": "stderr",
     "output_type": "stream",
     "text": [
      "E:\\Anaconda\\envs\\ML\\lib\\site-packages\\lightgbm\\basic.py:742: UserWarning: categorical_feature in param dict is overridden.\n",
      "  warnings.warn('categorical_feature in param dict is overridden.')\n"
     ]
    },
    {
     "name": "stdout",
     "output_type": "stream",
     "text": [
      "Early stopping, best iteration is:\n",
      "[115]\ttraining's auc: 0.90679\tvalid_1's auc: 0.887826\n",
      "-\n",
      "Fold 5\n",
      "Training until validation scores don't improve for 25 rounds.\n"
     ]
    },
    {
     "name": "stderr",
     "output_type": "stream",
     "text": [
      "E:\\Anaconda\\envs\\ML\\lib\\site-packages\\lightgbm\\basic.py:742: UserWarning: categorical_feature in param dict is overridden.\n",
      "  warnings.warn('categorical_feature in param dict is overridden.')\n"
     ]
    },
    {
     "name": "stdout",
     "output_type": "stream",
     "text": [
      "Early stopping, best iteration is:\n",
      "[114]\ttraining's auc: 0.907456\tvalid_1's auc: 0.883984\n",
      "\n",
      "Avg Accuracy Train Set: 82.44640955797442\n",
      "Avg Accuracy Test Set: 80.13763760035141\n",
      "\n",
      "Avg Recall: 77.60021708151805\n",
      "Avg Precision: 81.75141734645555\n",
      "16 20 0.7000000000000001\n",
      "-\n",
      "Fold 1\n",
      "Training until validation scores don't improve for 25 rounds.\n"
     ]
    },
    {
     "name": "stderr",
     "output_type": "stream",
     "text": [
      "E:\\Anaconda\\envs\\ML\\lib\\site-packages\\lightgbm\\basic.py:742: UserWarning: categorical_feature in param dict is overridden.\n",
      "  warnings.warn('categorical_feature in param dict is overridden.')\n"
     ]
    },
    {
     "name": "stdout",
     "output_type": "stream",
     "text": [
      "Early stopping, best iteration is:\n",
      "[148]\ttraining's auc: 0.9156\tvalid_1's auc: 0.881276\n",
      "-\n",
      "Fold 2\n",
      "Training until validation scores don't improve for 25 rounds.\n"
     ]
    },
    {
     "name": "stderr",
     "output_type": "stream",
     "text": [
      "E:\\Anaconda\\envs\\ML\\lib\\site-packages\\lightgbm\\basic.py:742: UserWarning: categorical_feature in param dict is overridden.\n",
      "  warnings.warn('categorical_feature in param dict is overridden.')\n"
     ]
    },
    {
     "name": "stdout",
     "output_type": "stream",
     "text": [
      "Early stopping, best iteration is:\n",
      "[136]\ttraining's auc: 0.911807\tvalid_1's auc: 0.88484\n",
      "-\n",
      "Fold 3\n",
      "Training until validation scores don't improve for 25 rounds.\n"
     ]
    },
    {
     "name": "stderr",
     "output_type": "stream",
     "text": [
      "E:\\Anaconda\\envs\\ML\\lib\\site-packages\\lightgbm\\basic.py:742: UserWarning: categorical_feature in param dict is overridden.\n",
      "  warnings.warn('categorical_feature in param dict is overridden.')\n"
     ]
    },
    {
     "name": "stdout",
     "output_type": "stream",
     "text": [
      "Early stopping, best iteration is:\n",
      "[129]\ttraining's auc: 0.911462\tvalid_1's auc: 0.880891\n",
      "-\n",
      "Fold 4\n",
      "Training until validation scores don't improve for 25 rounds.\n"
     ]
    },
    {
     "name": "stderr",
     "output_type": "stream",
     "text": [
      "E:\\Anaconda\\envs\\ML\\lib\\site-packages\\lightgbm\\basic.py:742: UserWarning: categorical_feature in param dict is overridden.\n",
      "  warnings.warn('categorical_feature in param dict is overridden.')\n"
     ]
    },
    {
     "name": "stdout",
     "output_type": "stream",
     "text": [
      "Early stopping, best iteration is:\n",
      "[140]\ttraining's auc: 0.911777\tvalid_1's auc: 0.887721\n",
      "-\n",
      "Fold 5\n",
      "Training until validation scores don't improve for 25 rounds.\n"
     ]
    },
    {
     "name": "stderr",
     "output_type": "stream",
     "text": [
      "E:\\Anaconda\\envs\\ML\\lib\\site-packages\\lightgbm\\basic.py:742: UserWarning: categorical_feature in param dict is overridden.\n",
      "  warnings.warn('categorical_feature in param dict is overridden.')\n"
     ]
    },
    {
     "name": "stdout",
     "output_type": "stream",
     "text": [
      "Early stopping, best iteration is:\n",
      "[111]\ttraining's auc: 0.906827\tvalid_1's auc: 0.883442\n",
      "\n",
      "Avg Accuracy Train Set: 82.9861919947535\n",
      "Avg Accuracy Test Set: 80.12188129783041\n",
      "\n",
      "Avg Recall: 77.9048161999375\n",
      "Avg Precision: 81.52114105318942\n",
      "16 20 0.8\n",
      "-\n",
      "Fold 1\n",
      "Training until validation scores don't improve for 25 rounds.\n"
     ]
    },
    {
     "name": "stderr",
     "output_type": "stream",
     "text": [
      "E:\\Anaconda\\envs\\ML\\lib\\site-packages\\lightgbm\\basic.py:742: UserWarning: categorical_feature in param dict is overridden.\n",
      "  warnings.warn('categorical_feature in param dict is overridden.')\n"
     ]
    },
    {
     "name": "stdout",
     "output_type": "stream",
     "text": [
      "Early stopping, best iteration is:\n",
      "[125]\ttraining's auc: 0.911069\tvalid_1's auc: 0.880748\n",
      "-\n",
      "Fold 2\n",
      "Training until validation scores don't improve for 25 rounds.\n"
     ]
    },
    {
     "name": "stderr",
     "output_type": "stream",
     "text": [
      "E:\\Anaconda\\envs\\ML\\lib\\site-packages\\lightgbm\\basic.py:742: UserWarning: categorical_feature in param dict is overridden.\n",
      "  warnings.warn('categorical_feature in param dict is overridden.')\n"
     ]
    },
    {
     "name": "stdout",
     "output_type": "stream",
     "text": [
      "Early stopping, best iteration is:\n",
      "[139]\ttraining's auc: 0.912999\tvalid_1's auc: 0.884441\n",
      "-\n",
      "Fold 3\n",
      "Training until validation scores don't improve for 25 rounds.\n"
     ]
    },
    {
     "name": "stderr",
     "output_type": "stream",
     "text": [
      "E:\\Anaconda\\envs\\ML\\lib\\site-packages\\lightgbm\\basic.py:742: UserWarning: categorical_feature in param dict is overridden.\n",
      "  warnings.warn('categorical_feature in param dict is overridden.')\n"
     ]
    },
    {
     "name": "stdout",
     "output_type": "stream",
     "text": [
      "Early stopping, best iteration is:\n",
      "[168]\ttraining's auc: 0.919187\tvalid_1's auc: 0.881205\n",
      "-\n",
      "Fold 4\n",
      "Training until validation scores don't improve for 25 rounds.\n"
     ]
    },
    {
     "name": "stderr",
     "output_type": "stream",
     "text": [
      "E:\\Anaconda\\envs\\ML\\lib\\site-packages\\lightgbm\\basic.py:742: UserWarning: categorical_feature in param dict is overridden.\n",
      "  warnings.warn('categorical_feature in param dict is overridden.')\n"
     ]
    },
    {
     "name": "stdout",
     "output_type": "stream",
     "text": [
      "Early stopping, best iteration is:\n",
      "[138]\ttraining's auc: 0.911531\tvalid_1's auc: 0.887507\n",
      "-\n",
      "Fold 5\n",
      "Training until validation scores don't improve for 25 rounds.\n"
     ]
    },
    {
     "name": "stderr",
     "output_type": "stream",
     "text": [
      "E:\\Anaconda\\envs\\ML\\lib\\site-packages\\lightgbm\\basic.py:742: UserWarning: categorical_feature in param dict is overridden.\n",
      "  warnings.warn('categorical_feature in param dict is overridden.')\n"
     ]
    },
    {
     "name": "stdout",
     "output_type": "stream",
     "text": [
      "Early stopping, best iteration is:\n",
      "[125]\ttraining's auc: 0.910791\tvalid_1's auc: 0.884727\n",
      "\n",
      "Avg Accuracy Train Set: 83.14903307103705\n",
      "Avg Accuracy Test Set: 80.31099279743418\n",
      "\n",
      "Avg Recall: 78.14595941923567\n",
      "Avg Precision: 81.6872967906943\n",
      "16 20 0.9\n",
      "-\n",
      "Fold 1\n",
      "Training until validation scores don't improve for 25 rounds.\n"
     ]
    },
    {
     "name": "stderr",
     "output_type": "stream",
     "text": [
      "E:\\Anaconda\\envs\\ML\\lib\\site-packages\\lightgbm\\basic.py:742: UserWarning: categorical_feature in param dict is overridden.\n",
      "  warnings.warn('categorical_feature in param dict is overridden.')\n"
     ]
    },
    {
     "name": "stdout",
     "output_type": "stream",
     "text": [
      "Early stopping, best iteration is:\n",
      "[124]\ttraining's auc: 0.911136\tvalid_1's auc: 0.880065\n",
      "-\n",
      "Fold 2\n",
      "Training until validation scores don't improve for 25 rounds.\n"
     ]
    },
    {
     "name": "stderr",
     "output_type": "stream",
     "text": [
      "E:\\Anaconda\\envs\\ML\\lib\\site-packages\\lightgbm\\basic.py:742: UserWarning: categorical_feature in param dict is overridden.\n",
      "  warnings.warn('categorical_feature in param dict is overridden.')\n"
     ]
    },
    {
     "name": "stdout",
     "output_type": "stream",
     "text": [
      "Early stopping, best iteration is:\n",
      "[85]\ttraining's auc: 0.901812\tvalid_1's auc: 0.883783\n",
      "-\n",
      "Fold 3\n",
      "Training until validation scores don't improve for 25 rounds.\n"
     ]
    },
    {
     "name": "stderr",
     "output_type": "stream",
     "text": [
      "E:\\Anaconda\\envs\\ML\\lib\\site-packages\\lightgbm\\basic.py:742: UserWarning: categorical_feature in param dict is overridden.\n",
      "  warnings.warn('categorical_feature in param dict is overridden.')\n"
     ]
    },
    {
     "name": "stdout",
     "output_type": "stream",
     "text": [
      "Early stopping, best iteration is:\n",
      "[118]\ttraining's auc: 0.909469\tvalid_1's auc: 0.881794\n",
      "-\n",
      "Fold 4\n",
      "Training until validation scores don't improve for 25 rounds.\n"
     ]
    },
    {
     "name": "stderr",
     "output_type": "stream",
     "text": [
      "E:\\Anaconda\\envs\\ML\\lib\\site-packages\\lightgbm\\basic.py:742: UserWarning: categorical_feature in param dict is overridden.\n",
      "  warnings.warn('categorical_feature in param dict is overridden.')\n"
     ]
    },
    {
     "name": "stdout",
     "output_type": "stream",
     "text": [
      "Early stopping, best iteration is:\n",
      "[111]\ttraining's auc: 0.906924\tvalid_1's auc: 0.887483\n",
      "-\n",
      "Fold 5\n",
      "Training until validation scores don't improve for 25 rounds.\n"
     ]
    },
    {
     "name": "stderr",
     "output_type": "stream",
     "text": [
      "E:\\Anaconda\\envs\\ML\\lib\\site-packages\\lightgbm\\basic.py:742: UserWarning: categorical_feature in param dict is overridden.\n",
      "  warnings.warn('categorical_feature in param dict is overridden.')\n"
     ]
    },
    {
     "name": "stdout",
     "output_type": "stream",
     "text": [
      "Early stopping, best iteration is:\n",
      "[124]\ttraining's auc: 0.910354\tvalid_1's auc: 0.884122\n",
      "\n",
      "Avg Accuracy Train Set: 82.5081473533475\n",
      "Avg Accuracy Test Set: 80.2689787498924\n",
      "\n",
      "Avg Recall: 77.88346427836973\n",
      "Avg Precision: 81.78904000338605\n",
      "16 20 1.0\n",
      "-\n",
      "Fold 1\n",
      "Training until validation scores don't improve for 25 rounds.\n"
     ]
    },
    {
     "name": "stderr",
     "output_type": "stream",
     "text": [
      "E:\\Anaconda\\envs\\ML\\lib\\site-packages\\lightgbm\\basic.py:742: UserWarning: categorical_feature in param dict is overridden.\n",
      "  warnings.warn('categorical_feature in param dict is overridden.')\n"
     ]
    },
    {
     "name": "stdout",
     "output_type": "stream",
     "text": [
      "Early stopping, best iteration is:\n",
      "[90]\ttraining's auc: 0.904493\tvalid_1's auc: 0.879866\n",
      "-\n",
      "Fold 2\n",
      "Training until validation scores don't improve for 25 rounds.\n"
     ]
    },
    {
     "name": "stderr",
     "output_type": "stream",
     "text": [
      "E:\\Anaconda\\envs\\ML\\lib\\site-packages\\lightgbm\\basic.py:742: UserWarning: categorical_feature in param dict is overridden.\n",
      "  warnings.warn('categorical_feature in param dict is overridden.')\n"
     ]
    },
    {
     "name": "stdout",
     "output_type": "stream",
     "text": [
      "Early stopping, best iteration is:\n",
      "[105]\ttraining's auc: 0.907428\tvalid_1's auc: 0.882692\n",
      "-\n",
      "Fold 3\n",
      "Training until validation scores don't improve for 25 rounds.\n"
     ]
    },
    {
     "name": "stderr",
     "output_type": "stream",
     "text": [
      "E:\\Anaconda\\envs\\ML\\lib\\site-packages\\lightgbm\\basic.py:742: UserWarning: categorical_feature in param dict is overridden.\n",
      "  warnings.warn('categorical_feature in param dict is overridden.')\n"
     ]
    },
    {
     "name": "stdout",
     "output_type": "stream",
     "text": [
      "Early stopping, best iteration is:\n",
      "[163]\ttraining's auc: 0.919727\tvalid_1's auc: 0.881344\n",
      "-\n",
      "Fold 4\n",
      "Training until validation scores don't improve for 25 rounds.\n"
     ]
    },
    {
     "name": "stderr",
     "output_type": "stream",
     "text": [
      "E:\\Anaconda\\envs\\ML\\lib\\site-packages\\lightgbm\\basic.py:742: UserWarning: categorical_feature in param dict is overridden.\n",
      "  warnings.warn('categorical_feature in param dict is overridden.')\n"
     ]
    },
    {
     "name": "stdout",
     "output_type": "stream",
     "text": [
      "Early stopping, best iteration is:\n",
      "[122]\ttraining's auc: 0.910186\tvalid_1's auc: 0.888175\n",
      "-\n",
      "Fold 5\n",
      "Training until validation scores don't improve for 25 rounds.\n"
     ]
    },
    {
     "name": "stderr",
     "output_type": "stream",
     "text": [
      "E:\\Anaconda\\envs\\ML\\lib\\site-packages\\lightgbm\\basic.py:742: UserWarning: categorical_feature in param dict is overridden.\n",
      "  warnings.warn('categorical_feature in param dict is overridden.')\n"
     ]
    },
    {
     "name": "stdout",
     "output_type": "stream",
     "text": [
      "Early stopping, best iteration is:\n",
      "[170]\ttraining's auc: 0.920072\tvalid_1's auc: 0.884163\n",
      "\n",
      "Avg Accuracy Train Set: 83.04264578024421\n",
      "Avg Accuracy Test Set: 80.07985483397457\n",
      "\n",
      "Avg Recall: 77.85314835148603\n",
      "Avg Precision: 81.48529297009699\n",
      "16 25 0.5\n",
      "-\n",
      "Fold 1\n",
      "Training until validation scores don't improve for 25 rounds.\n"
     ]
    },
    {
     "name": "stderr",
     "output_type": "stream",
     "text": [
      "E:\\Anaconda\\envs\\ML\\lib\\site-packages\\lightgbm\\basic.py:742: UserWarning: categorical_feature in param dict is overridden.\n",
      "  warnings.warn('categorical_feature in param dict is overridden.')\n"
     ]
    },
    {
     "name": "stdout",
     "output_type": "stream",
     "text": [
      "Early stopping, best iteration is:\n",
      "[88]\ttraining's auc: 0.90163\tvalid_1's auc: 0.880755\n",
      "-\n",
      "Fold 2\n",
      "Training until validation scores don't improve for 25 rounds.\n"
     ]
    },
    {
     "name": "stderr",
     "output_type": "stream",
     "text": [
      "E:\\Anaconda\\envs\\ML\\lib\\site-packages\\lightgbm\\basic.py:742: UserWarning: categorical_feature in param dict is overridden.\n",
      "  warnings.warn('categorical_feature in param dict is overridden.')\n"
     ]
    },
    {
     "name": "stdout",
     "output_type": "stream",
     "text": [
      "Early stopping, best iteration is:\n",
      "[118]\ttraining's auc: 0.906018\tvalid_1's auc: 0.885509\n",
      "-\n",
      "Fold 3\n",
      "Training until validation scores don't improve for 25 rounds.\n"
     ]
    },
    {
     "name": "stderr",
     "output_type": "stream",
     "text": [
      "E:\\Anaconda\\envs\\ML\\lib\\site-packages\\lightgbm\\basic.py:742: UserWarning: categorical_feature in param dict is overridden.\n",
      "  warnings.warn('categorical_feature in param dict is overridden.')\n"
     ]
    },
    {
     "name": "stdout",
     "output_type": "stream",
     "text": [
      "Early stopping, best iteration is:\n",
      "[108]\ttraining's auc: 0.9045\tvalid_1's auc: 0.881882\n",
      "-\n",
      "Fold 4\n",
      "Training until validation scores don't improve for 25 rounds.\n"
     ]
    },
    {
     "name": "stderr",
     "output_type": "stream",
     "text": [
      "E:\\Anaconda\\envs\\ML\\lib\\site-packages\\lightgbm\\basic.py:742: UserWarning: categorical_feature in param dict is overridden.\n",
      "  warnings.warn('categorical_feature in param dict is overridden.')\n"
     ]
    },
    {
     "name": "stdout",
     "output_type": "stream",
     "text": [
      "Early stopping, best iteration is:\n",
      "[127]\ttraining's auc: 0.907529\tvalid_1's auc: 0.888222\n",
      "-\n",
      "Fold 5\n",
      "Training until validation scores don't improve for 25 rounds.\n"
     ]
    },
    {
     "name": "stderr",
     "output_type": "stream",
     "text": [
      "E:\\Anaconda\\envs\\ML\\lib\\site-packages\\lightgbm\\basic.py:742: UserWarning: categorical_feature in param dict is overridden.\n",
      "  warnings.warn('categorical_feature in param dict is overridden.')\n"
     ]
    },
    {
     "name": "stdout",
     "output_type": "stream",
     "text": [
      "Early stopping, best iteration is:\n",
      "[82]\ttraining's auc: 0.899482\tvalid_1's auc: 0.88208\n",
      "\n",
      "Avg Accuracy Train Set: 82.14172735602548\n",
      "Avg Accuracy Test Set: 80.22169052806308\n",
      "\n",
      "Avg Recall: 77.69443816683798\n",
      "Avg Precision: 81.83358669526667\n",
      "16 25 0.6000000000000001\n",
      "-\n",
      "Fold 1\n",
      "Training until validation scores don't improve for 25 rounds.\n"
     ]
    },
    {
     "name": "stderr",
     "output_type": "stream",
     "text": [
      "E:\\Anaconda\\envs\\ML\\lib\\site-packages\\lightgbm\\basic.py:742: UserWarning: categorical_feature in param dict is overridden.\n",
      "  warnings.warn('categorical_feature in param dict is overridden.')\n"
     ]
    },
    {
     "name": "stdout",
     "output_type": "stream",
     "text": [
      "Early stopping, best iteration is:\n",
      "[91]\ttraining's auc: 0.902886\tvalid_1's auc: 0.880543\n",
      "-\n",
      "Fold 2\n",
      "Training until validation scores don't improve for 25 rounds.\n"
     ]
    },
    {
     "name": "stderr",
     "output_type": "stream",
     "text": [
      "E:\\Anaconda\\envs\\ML\\lib\\site-packages\\lightgbm\\basic.py:742: UserWarning: categorical_feature in param dict is overridden.\n",
      "  warnings.warn('categorical_feature in param dict is overridden.')\n"
     ]
    },
    {
     "name": "stdout",
     "output_type": "stream",
     "text": [
      "Early stopping, best iteration is:\n",
      "[108]\ttraining's auc: 0.90461\tvalid_1's auc: 0.885256\n",
      "-\n",
      "Fold 3\n",
      "Training until validation scores don't improve for 25 rounds.\n"
     ]
    },
    {
     "name": "stderr",
     "output_type": "stream",
     "text": [
      "E:\\Anaconda\\envs\\ML\\lib\\site-packages\\lightgbm\\basic.py:742: UserWarning: categorical_feature in param dict is overridden.\n",
      "  warnings.warn('categorical_feature in param dict is overridden.')\n"
     ]
    },
    {
     "name": "stdout",
     "output_type": "stream",
     "text": [
      "Early stopping, best iteration is:\n",
      "[120]\ttraining's auc: 0.908442\tvalid_1's auc: 0.882723\n",
      "-\n",
      "Fold 4\n",
      "Training until validation scores don't improve for 25 rounds.\n"
     ]
    },
    {
     "name": "stderr",
     "output_type": "stream",
     "text": [
      "E:\\Anaconda\\envs\\ML\\lib\\site-packages\\lightgbm\\basic.py:742: UserWarning: categorical_feature in param dict is overridden.\n",
      "  warnings.warn('categorical_feature in param dict is overridden.')\n"
     ]
    },
    {
     "name": "stdout",
     "output_type": "stream",
     "text": [
      "Early stopping, best iteration is:\n",
      "[119]\ttraining's auc: 0.907105\tvalid_1's auc: 0.888174\n",
      "-\n",
      "Fold 5\n",
      "Training until validation scores don't improve for 25 rounds.\n"
     ]
    },
    {
     "name": "stderr",
     "output_type": "stream",
     "text": [
      "E:\\Anaconda\\envs\\ML\\lib\\site-packages\\lightgbm\\basic.py:742: UserWarning: categorical_feature in param dict is overridden.\n",
      "  warnings.warn('categorical_feature in param dict is overridden.')\n"
     ]
    },
    {
     "name": "stdout",
     "output_type": "stream",
     "text": [
      "Early stopping, best iteration is:\n",
      "[141]\ttraining's auc: 0.911761\tvalid_1's auc: 0.884746\n",
      "\n",
      "Avg Accuracy Train Set: 82.4516653669227\n",
      "Avg Accuracy Test Set: 80.284746089137\n",
      "\n",
      "Avg Recall: 77.76759558658382\n",
      "Avg Precision: 81.89419413651076\n",
      "16 25 0.7000000000000001\n",
      "-\n",
      "Fold 1\n",
      "Training until validation scores don't improve for 25 rounds.\n"
     ]
    },
    {
     "name": "stderr",
     "output_type": "stream",
     "text": [
      "E:\\Anaconda\\envs\\ML\\lib\\site-packages\\lightgbm\\basic.py:742: UserWarning: categorical_feature in param dict is overridden.\n",
      "  warnings.warn('categorical_feature in param dict is overridden.')\n"
     ]
    },
    {
     "name": "stdout",
     "output_type": "stream",
     "text": [
      "Early stopping, best iteration is:\n",
      "[95]\ttraining's auc: 0.904828\tvalid_1's auc: 0.88071\n",
      "-\n",
      "Fold 2\n",
      "Training until validation scores don't improve for 25 rounds.\n"
     ]
    },
    {
     "name": "stderr",
     "output_type": "stream",
     "text": [
      "E:\\Anaconda\\envs\\ML\\lib\\site-packages\\lightgbm\\basic.py:742: UserWarning: categorical_feature in param dict is overridden.\n",
      "  warnings.warn('categorical_feature in param dict is overridden.')\n"
     ]
    },
    {
     "name": "stdout",
     "output_type": "stream",
     "text": [
      "Early stopping, best iteration is:\n",
      "[120]\ttraining's auc: 0.908631\tvalid_1's auc: 0.885232\n",
      "-\n",
      "Fold 3\n",
      "Training until validation scores don't improve for 25 rounds.\n"
     ]
    },
    {
     "name": "stderr",
     "output_type": "stream",
     "text": [
      "E:\\Anaconda\\envs\\ML\\lib\\site-packages\\lightgbm\\basic.py:742: UserWarning: categorical_feature in param dict is overridden.\n",
      "  warnings.warn('categorical_feature in param dict is overridden.')\n"
     ]
    },
    {
     "name": "stdout",
     "output_type": "stream",
     "text": [
      "Early stopping, best iteration is:\n",
      "[154]\ttraining's auc: 0.914983\tvalid_1's auc: 0.882083\n",
      "-\n",
      "Fold 4\n",
      "Training until validation scores don't improve for 25 rounds.\n"
     ]
    },
    {
     "name": "stderr",
     "output_type": "stream",
     "text": [
      "E:\\Anaconda\\envs\\ML\\lib\\site-packages\\lightgbm\\basic.py:742: UserWarning: categorical_feature in param dict is overridden.\n",
      "  warnings.warn('categorical_feature in param dict is overridden.')\n"
     ]
    },
    {
     "name": "stdout",
     "output_type": "stream",
     "text": [
      "Early stopping, best iteration is:\n",
      "[118]\ttraining's auc: 0.907595\tvalid_1's auc: 0.887414\n",
      "-\n",
      "Fold 5\n",
      "Training until validation scores don't improve for 25 rounds.\n"
     ]
    },
    {
     "name": "stderr",
     "output_type": "stream",
     "text": [
      "E:\\Anaconda\\envs\\ML\\lib\\site-packages\\lightgbm\\basic.py:742: UserWarning: categorical_feature in param dict is overridden.\n",
      "  warnings.warn('categorical_feature in param dict is overridden.')\n"
     ]
    },
    {
     "name": "stdout",
     "output_type": "stream",
     "text": [
      "Early stopping, best iteration is:\n",
      "[171]\ttraining's auc: 0.918725\tvalid_1's auc: 0.884285\n",
      "\n",
      "Avg Accuracy Train Set: 82.99799550865197\n",
      "Avg Accuracy Test Set: 80.26372526946162\n",
      "\n",
      "Avg Recall: 77.93547625523631\n",
      "Avg Precision: 81.7458578537284\n",
      "16 25 0.8\n",
      "-\n",
      "Fold 1\n",
      "Training until validation scores don't improve for 25 rounds.\n"
     ]
    },
    {
     "name": "stderr",
     "output_type": "stream",
     "text": [
      "E:\\Anaconda\\envs\\ML\\lib\\site-packages\\lightgbm\\basic.py:742: UserWarning: categorical_feature in param dict is overridden.\n",
      "  warnings.warn('categorical_feature in param dict is overridden.')\n"
     ]
    },
    {
     "name": "stdout",
     "output_type": "stream",
     "text": [
      "Early stopping, best iteration is:\n",
      "[83]\ttraining's auc: 0.900844\tvalid_1's auc: 0.880104\n",
      "-\n",
      "Fold 2\n",
      "Training until validation scores don't improve for 25 rounds.\n"
     ]
    },
    {
     "name": "stderr",
     "output_type": "stream",
     "text": [
      "E:\\Anaconda\\envs\\ML\\lib\\site-packages\\lightgbm\\basic.py:742: UserWarning: categorical_feature in param dict is overridden.\n",
      "  warnings.warn('categorical_feature in param dict is overridden.')\n"
     ]
    },
    {
     "name": "stdout",
     "output_type": "stream",
     "text": [
      "Early stopping, best iteration is:\n",
      "[92]\ttraining's auc: 0.902618\tvalid_1's auc: 0.884401\n",
      "-\n",
      "Fold 3\n",
      "Training until validation scores don't improve for 25 rounds.\n"
     ]
    },
    {
     "name": "stderr",
     "output_type": "stream",
     "text": [
      "E:\\Anaconda\\envs\\ML\\lib\\site-packages\\lightgbm\\basic.py:742: UserWarning: categorical_feature in param dict is overridden.\n",
      "  warnings.warn('categorical_feature in param dict is overridden.')\n"
     ]
    },
    {
     "name": "stdout",
     "output_type": "stream",
     "text": [
      "Early stopping, best iteration is:\n",
      "[103]\ttraining's auc: 0.906134\tvalid_1's auc: 0.881459\n",
      "-\n",
      "Fold 4\n",
      "Training until validation scores don't improve for 25 rounds.\n"
     ]
    },
    {
     "name": "stderr",
     "output_type": "stream",
     "text": [
      "E:\\Anaconda\\envs\\ML\\lib\\site-packages\\lightgbm\\basic.py:742: UserWarning: categorical_feature in param dict is overridden.\n",
      "  warnings.warn('categorical_feature in param dict is overridden.')\n"
     ]
    },
    {
     "name": "stdout",
     "output_type": "stream",
     "text": [
      "Early stopping, best iteration is:\n",
      "[133]\ttraining's auc: 0.910851\tvalid_1's auc: 0.887879\n",
      "-\n",
      "Fold 5\n",
      "Training until validation scores don't improve for 25 rounds.\n"
     ]
    },
    {
     "name": "stderr",
     "output_type": "stream",
     "text": [
      "E:\\Anaconda\\envs\\ML\\lib\\site-packages\\lightgbm\\basic.py:742: UserWarning: categorical_feature in param dict is overridden.\n",
      "  warnings.warn('categorical_feature in param dict is overridden.')\n"
     ]
    },
    {
     "name": "stdout",
     "output_type": "stream",
     "text": [
      "Early stopping, best iteration is:\n",
      "[153]\ttraining's auc: 0.915045\tvalid_1's auc: 0.884624\n",
      "\n",
      "Avg Accuracy Train Set: 82.52258217825498\n",
      "Avg Accuracy Test Set: 80.22696608194106\n",
      "\n",
      "Avg Recall: 77.93361817939984\n",
      "Avg Precision: 81.68193339865142\n",
      "16 25 0.9\n",
      "-\n",
      "Fold 1\n",
      "Training until validation scores don't improve for 25 rounds.\n"
     ]
    },
    {
     "name": "stderr",
     "output_type": "stream",
     "text": [
      "E:\\Anaconda\\envs\\ML\\lib\\site-packages\\lightgbm\\basic.py:742: UserWarning: categorical_feature in param dict is overridden.\n",
      "  warnings.warn('categorical_feature in param dict is overridden.')\n"
     ]
    },
    {
     "name": "stdout",
     "output_type": "stream",
     "text": [
      "Early stopping, best iteration is:\n",
      "[118]\ttraining's auc: 0.910247\tvalid_1's auc: 0.879971\n",
      "-\n",
      "Fold 2\n",
      "Training until validation scores don't improve for 25 rounds.\n"
     ]
    },
    {
     "name": "stderr",
     "output_type": "stream",
     "text": [
      "E:\\Anaconda\\envs\\ML\\lib\\site-packages\\lightgbm\\basic.py:742: UserWarning: categorical_feature in param dict is overridden.\n",
      "  warnings.warn('categorical_feature in param dict is overridden.')\n"
     ]
    },
    {
     "name": "stdout",
     "output_type": "stream",
     "text": [
      "Early stopping, best iteration is:\n",
      "[89]\ttraining's auc: 0.902747\tvalid_1's auc: 0.884638\n",
      "-\n",
      "Fold 3\n",
      "Training until validation scores don't improve for 25 rounds.\n"
     ]
    },
    {
     "name": "stderr",
     "output_type": "stream",
     "text": [
      "E:\\Anaconda\\envs\\ML\\lib\\site-packages\\lightgbm\\basic.py:742: UserWarning: categorical_feature in param dict is overridden.\n",
      "  warnings.warn('categorical_feature in param dict is overridden.')\n"
     ]
    },
    {
     "name": "stdout",
     "output_type": "stream",
     "text": [
      "Early stopping, best iteration is:\n",
      "[138]\ttraining's auc: 0.91377\tvalid_1's auc: 0.880508\n",
      "-\n",
      "Fold 4\n",
      "Training until validation scores don't improve for 25 rounds.\n"
     ]
    },
    {
     "name": "stderr",
     "output_type": "stream",
     "text": [
      "E:\\Anaconda\\envs\\ML\\lib\\site-packages\\lightgbm\\basic.py:742: UserWarning: categorical_feature in param dict is overridden.\n",
      "  warnings.warn('categorical_feature in param dict is overridden.')\n"
     ]
    },
    {
     "name": "stdout",
     "output_type": "stream",
     "text": [
      "Early stopping, best iteration is:\n",
      "[79]\ttraining's auc: 0.899091\tvalid_1's auc: 0.886491\n",
      "-\n",
      "Fold 5\n",
      "Training until validation scores don't improve for 25 rounds.\n"
     ]
    },
    {
     "name": "stderr",
     "output_type": "stream",
     "text": [
      "E:\\Anaconda\\envs\\ML\\lib\\site-packages\\lightgbm\\basic.py:742: UserWarning: categorical_feature in param dict is overridden.\n",
      "  warnings.warn('categorical_feature in param dict is overridden.')\n"
     ]
    },
    {
     "name": "stdout",
     "output_type": "stream",
     "text": [
      "Early stopping, best iteration is:\n",
      "[90]\ttraining's auc: 0.902699\tvalid_1's auc: 0.884036\n",
      "\n",
      "Avg Accuracy Train Set: 82.28620048263096\n",
      "Avg Accuracy Test Set: 80.22169466683442\n",
      "\n",
      "Avg Recall: 77.79859842277149\n",
      "Avg Precision: 81.76183198814203\n",
      "16 25 1.0\n",
      "-\n",
      "Fold 1\n",
      "Training until validation scores don't improve for 25 rounds.\n"
     ]
    },
    {
     "name": "stderr",
     "output_type": "stream",
     "text": [
      "E:\\Anaconda\\envs\\ML\\lib\\site-packages\\lightgbm\\basic.py:742: UserWarning: categorical_feature in param dict is overridden.\n",
      "  warnings.warn('categorical_feature in param dict is overridden.')\n"
     ]
    },
    {
     "name": "stdout",
     "output_type": "stream",
     "text": [
      "Early stopping, best iteration is:\n",
      "[102]\ttraining's auc: 0.907211\tvalid_1's auc: 0.880825\n",
      "-\n",
      "Fold 2\n",
      "Training until validation scores don't improve for 25 rounds.\n"
     ]
    },
    {
     "name": "stderr",
     "output_type": "stream",
     "text": [
      "E:\\Anaconda\\envs\\ML\\lib\\site-packages\\lightgbm\\basic.py:742: UserWarning: categorical_feature in param dict is overridden.\n",
      "  warnings.warn('categorical_feature in param dict is overridden.')\n"
     ]
    },
    {
     "name": "stdout",
     "output_type": "stream",
     "text": [
      "Early stopping, best iteration is:\n",
      "[110]\ttraining's auc: 0.907641\tvalid_1's auc: 0.883673\n",
      "-\n",
      "Fold 3\n",
      "Training until validation scores don't improve for 25 rounds.\n"
     ]
    },
    {
     "name": "stderr",
     "output_type": "stream",
     "text": [
      "E:\\Anaconda\\envs\\ML\\lib\\site-packages\\lightgbm\\basic.py:742: UserWarning: categorical_feature in param dict is overridden.\n",
      "  warnings.warn('categorical_feature in param dict is overridden.')\n"
     ]
    },
    {
     "name": "stdout",
     "output_type": "stream",
     "text": [
      "Early stopping, best iteration is:\n",
      "[135]\ttraining's auc: 0.913683\tvalid_1's auc: 0.881639\n",
      "-\n",
      "Fold 4\n",
      "Training until validation scores don't improve for 25 rounds.\n"
     ]
    },
    {
     "name": "stderr",
     "output_type": "stream",
     "text": [
      "E:\\Anaconda\\envs\\ML\\lib\\site-packages\\lightgbm\\basic.py:742: UserWarning: categorical_feature in param dict is overridden.\n",
      "  warnings.warn('categorical_feature in param dict is overridden.')\n"
     ]
    },
    {
     "name": "stdout",
     "output_type": "stream",
     "text": [
      "Early stopping, best iteration is:\n",
      "[143]\ttraining's auc: 0.914218\tvalid_1's auc: 0.888354\n",
      "-\n",
      "Fold 5\n",
      "Training until validation scores don't improve for 25 rounds.\n"
     ]
    },
    {
     "name": "stderr",
     "output_type": "stream",
     "text": [
      "E:\\Anaconda\\envs\\ML\\lib\\site-packages\\lightgbm\\basic.py:742: UserWarning: categorical_feature in param dict is overridden.\n",
      "  warnings.warn('categorical_feature in param dict is overridden.')\n"
     ]
    },
    {
     "name": "stdout",
     "output_type": "stream",
     "text": [
      "Early stopping, best iteration is:\n",
      "[82]\ttraining's auc: 0.901329\tvalid_1's auc: 0.883507\n",
      "\n",
      "Avg Accuracy Train Set: 82.62502383927585\n",
      "Avg Accuracy Test Set: 80.11136330024524\n",
      "\n",
      "Avg Recall: 77.80006377765724\n",
      "Avg Precision: 81.5749743556486\n",
      "16 30 0.5\n",
      "-\n",
      "Fold 1\n",
      "Training until validation scores don't improve for 25 rounds.\n"
     ]
    },
    {
     "name": "stderr",
     "output_type": "stream",
     "text": [
      "E:\\Anaconda\\envs\\ML\\lib\\site-packages\\lightgbm\\basic.py:742: UserWarning: categorical_feature in param dict is overridden.\n",
      "  warnings.warn('categorical_feature in param dict is overridden.')\n"
     ]
    },
    {
     "name": "stdout",
     "output_type": "stream",
     "text": [
      "Early stopping, best iteration is:\n",
      "[91]\ttraining's auc: 0.90245\tvalid_1's auc: 0.880546\n",
      "-\n",
      "Fold 2\n",
      "Training until validation scores don't improve for 25 rounds.\n"
     ]
    },
    {
     "name": "stderr",
     "output_type": "stream",
     "text": [
      "E:\\Anaconda\\envs\\ML\\lib\\site-packages\\lightgbm\\basic.py:742: UserWarning: categorical_feature in param dict is overridden.\n",
      "  warnings.warn('categorical_feature in param dict is overridden.')\n"
     ]
    },
    {
     "name": "stdout",
     "output_type": "stream",
     "text": [
      "Early stopping, best iteration is:\n",
      "[158]\ttraining's auc: 0.912725\tvalid_1's auc: 0.886666\n",
      "-\n",
      "Fold 3\n",
      "Training until validation scores don't improve for 25 rounds.\n"
     ]
    },
    {
     "name": "stderr",
     "output_type": "stream",
     "text": [
      "E:\\Anaconda\\envs\\ML\\lib\\site-packages\\lightgbm\\basic.py:742: UserWarning: categorical_feature in param dict is overridden.\n",
      "  warnings.warn('categorical_feature in param dict is overridden.')\n"
     ]
    },
    {
     "name": "stdout",
     "output_type": "stream",
     "text": [
      "Early stopping, best iteration is:\n",
      "[174]\ttraining's auc: 0.915028\tvalid_1's auc: 0.882283\n",
      "-\n",
      "Fold 4\n",
      "Training until validation scores don't improve for 25 rounds.\n"
     ]
    },
    {
     "name": "stderr",
     "output_type": "stream",
     "text": [
      "E:\\Anaconda\\envs\\ML\\lib\\site-packages\\lightgbm\\basic.py:742: UserWarning: categorical_feature in param dict is overridden.\n",
      "  warnings.warn('categorical_feature in param dict is overridden.')\n"
     ]
    },
    {
     "name": "stdout",
     "output_type": "stream",
     "text": [
      "Early stopping, best iteration is:\n",
      "[119]\ttraining's auc: 0.906312\tvalid_1's auc: 0.888495\n",
      "-\n",
      "Fold 5\n",
      "Training until validation scores don't improve for 25 rounds.\n"
     ]
    },
    {
     "name": "stderr",
     "output_type": "stream",
     "text": [
      "E:\\Anaconda\\envs\\ML\\lib\\site-packages\\lightgbm\\basic.py:742: UserWarning: categorical_feature in param dict is overridden.\n",
      "  warnings.warn('categorical_feature in param dict is overridden.')\n"
     ]
    },
    {
     "name": "stdout",
     "output_type": "stream",
     "text": [
      "Early stopping, best iteration is:\n",
      "[137]\ttraining's auc: 0.910316\tvalid_1's auc: 0.88339\n",
      "\n",
      "Avg Accuracy Train Set: 82.69593461371093\n",
      "Avg Accuracy Test Set: 80.27947467403037\n",
      "\n",
      "Avg Recall: 77.83960778567295\n",
      "Avg Precision: 81.83400137529318\n",
      "16 30 0.6000000000000001\n",
      "-\n",
      "Fold 1\n",
      "Training until validation scores don't improve for 25 rounds.\n"
     ]
    },
    {
     "name": "stderr",
     "output_type": "stream",
     "text": [
      "E:\\Anaconda\\envs\\ML\\lib\\site-packages\\lightgbm\\basic.py:742: UserWarning: categorical_feature in param dict is overridden.\n",
      "  warnings.warn('categorical_feature in param dict is overridden.')\n"
     ]
    },
    {
     "name": "stdout",
     "output_type": "stream",
     "text": [
      "Early stopping, best iteration is:\n",
      "[104]\ttraining's auc: 0.905553\tvalid_1's auc: 0.8816\n",
      "-\n",
      "Fold 2\n",
      "Training until validation scores don't improve for 25 rounds.\n"
     ]
    },
    {
     "name": "stderr",
     "output_type": "stream",
     "text": [
      "E:\\Anaconda\\envs\\ML\\lib\\site-packages\\lightgbm\\basic.py:742: UserWarning: categorical_feature in param dict is overridden.\n",
      "  warnings.warn('categorical_feature in param dict is overridden.')\n"
     ]
    },
    {
     "name": "stdout",
     "output_type": "stream",
     "text": [
      "Early stopping, best iteration is:\n",
      "[84]\ttraining's auc: 0.899585\tvalid_1's auc: 0.884939\n",
      "-\n",
      "Fold 3\n",
      "Training until validation scores don't improve for 25 rounds.\n"
     ]
    },
    {
     "name": "stderr",
     "output_type": "stream",
     "text": [
      "E:\\Anaconda\\envs\\ML\\lib\\site-packages\\lightgbm\\basic.py:742: UserWarning: categorical_feature in param dict is overridden.\n",
      "  warnings.warn('categorical_feature in param dict is overridden.')\n"
     ]
    },
    {
     "name": "stdout",
     "output_type": "stream",
     "text": [
      "[200]\ttraining's auc: 0.920759\tvalid_1's auc: 0.883112\n",
      "Early stopping, best iteration is:\n",
      "[178]\ttraining's auc: 0.917191\tvalid_1's auc: 0.88333\n",
      "-\n",
      "Fold 4\n",
      "Training until validation scores don't improve for 25 rounds.\n"
     ]
    },
    {
     "name": "stderr",
     "output_type": "stream",
     "text": [
      "E:\\Anaconda\\envs\\ML\\lib\\site-packages\\lightgbm\\basic.py:742: UserWarning: categorical_feature in param dict is overridden.\n",
      "  warnings.warn('categorical_feature in param dict is overridden.')\n"
     ]
    },
    {
     "name": "stdout",
     "output_type": "stream",
     "text": [
      "Early stopping, best iteration is:\n",
      "[131]\ttraining's auc: 0.908598\tvalid_1's auc: 0.888382\n",
      "-\n",
      "Fold 5\n",
      "Training until validation scores don't improve for 25 rounds.\n"
     ]
    },
    {
     "name": "stderr",
     "output_type": "stream",
     "text": [
      "E:\\Anaconda\\envs\\ML\\lib\\site-packages\\lightgbm\\basic.py:742: UserWarning: categorical_feature in param dict is overridden.\n",
      "  warnings.warn('categorical_feature in param dict is overridden.')\n"
     ]
    },
    {
     "name": "stdout",
     "output_type": "stream",
     "text": [
      "Early stopping, best iteration is:\n",
      "[101]\ttraining's auc: 0.903952\tvalid_1's auc: 0.883057\n",
      "\n",
      "Avg Accuracy Train Set: 82.43065705088982\n",
      "Avg Accuracy Test Set: 80.26371009396667\n",
      "\n",
      "Avg Recall: 77.78966229765794\n",
      "Avg Precision: 81.84368756078788\n",
      "16 30 0.7000000000000001\n",
      "-\n",
      "Fold 1\n",
      "Training until validation scores don't improve for 25 rounds.\n"
     ]
    },
    {
     "name": "stderr",
     "output_type": "stream",
     "text": [
      "E:\\Anaconda\\envs\\ML\\lib\\site-packages\\lightgbm\\basic.py:742: UserWarning: categorical_feature in param dict is overridden.\n",
      "  warnings.warn('categorical_feature in param dict is overridden.')\n"
     ]
    },
    {
     "name": "stdout",
     "output_type": "stream",
     "text": [
      "Early stopping, best iteration is:\n",
      "[92]\ttraining's auc: 0.903916\tvalid_1's auc: 0.880859\n",
      "-\n",
      "Fold 2\n",
      "Training until validation scores don't improve for 25 rounds.\n"
     ]
    },
    {
     "name": "stderr",
     "output_type": "stream",
     "text": [
      "E:\\Anaconda\\envs\\ML\\lib\\site-packages\\lightgbm\\basic.py:742: UserWarning: categorical_feature in param dict is overridden.\n",
      "  warnings.warn('categorical_feature in param dict is overridden.')\n"
     ]
    },
    {
     "name": "stdout",
     "output_type": "stream",
     "text": [
      "Early stopping, best iteration is:\n",
      "[136]\ttraining's auc: 0.911473\tvalid_1's auc: 0.885334\n",
      "-\n",
      "Fold 3\n",
      "Training until validation scores don't improve for 25 rounds.\n"
     ]
    },
    {
     "name": "stderr",
     "output_type": "stream",
     "text": [
      "E:\\Anaconda\\envs\\ML\\lib\\site-packages\\lightgbm\\basic.py:742: UserWarning: categorical_feature in param dict is overridden.\n",
      "  warnings.warn('categorical_feature in param dict is overridden.')\n"
     ]
    },
    {
     "name": "stdout",
     "output_type": "stream",
     "text": [
      "Early stopping, best iteration is:\n",
      "[130]\ttraining's auc: 0.91079\tvalid_1's auc: 0.882739\n",
      "-\n",
      "Fold 4\n",
      "Training until validation scores don't improve for 25 rounds.\n"
     ]
    },
    {
     "name": "stderr",
     "output_type": "stream",
     "text": [
      "E:\\Anaconda\\envs\\ML\\lib\\site-packages\\lightgbm\\basic.py:742: UserWarning: categorical_feature in param dict is overridden.\n",
      "  warnings.warn('categorical_feature in param dict is overridden.')\n"
     ]
    },
    {
     "name": "stdout",
     "output_type": "stream",
     "text": [
      "Early stopping, best iteration is:\n",
      "[95]\ttraining's auc: 0.90233\tvalid_1's auc: 0.88753\n",
      "-\n",
      "Fold 5\n",
      "Training until validation scores don't improve for 25 rounds.\n"
     ]
    },
    {
     "name": "stderr",
     "output_type": "stream",
     "text": [
      "E:\\Anaconda\\envs\\ML\\lib\\site-packages\\lightgbm\\basic.py:742: UserWarning: categorical_feature in param dict is overridden.\n",
      "  warnings.warn('categorical_feature in param dict is overridden.')\n"
     ]
    },
    {
     "name": "stdout",
     "output_type": "stream",
     "text": [
      "Early stopping, best iteration is:\n",
      "[145]\ttraining's auc: 0.91342\tvalid_1's auc: 0.884503\n",
      "\n",
      "Avg Accuracy Train Set: 82.68017839824662\n",
      "Avg Accuracy Test Set: 80.36878246176327\n",
      "\n",
      "Avg Recall: 78.08226147128366\n",
      "Avg Precision: 81.82759864462083\n",
      "16 30 0.8\n",
      "-\n",
      "Fold 1\n",
      "Training until validation scores don't improve for 25 rounds.\n"
     ]
    },
    {
     "name": "stderr",
     "output_type": "stream",
     "text": [
      "E:\\Anaconda\\envs\\ML\\lib\\site-packages\\lightgbm\\basic.py:742: UserWarning: categorical_feature in param dict is overridden.\n",
      "  warnings.warn('categorical_feature in param dict is overridden.')\n"
     ]
    },
    {
     "name": "stdout",
     "output_type": "stream",
     "text": [
      "Early stopping, best iteration is:\n",
      "[92]\ttraining's auc: 0.903547\tvalid_1's auc: 0.880692\n",
      "-\n",
      "Fold 2\n",
      "Training until validation scores don't improve for 25 rounds.\n"
     ]
    },
    {
     "name": "stderr",
     "output_type": "stream",
     "text": [
      "E:\\Anaconda\\envs\\ML\\lib\\site-packages\\lightgbm\\basic.py:742: UserWarning: categorical_feature in param dict is overridden.\n",
      "  warnings.warn('categorical_feature in param dict is overridden.')\n"
     ]
    },
    {
     "name": "stdout",
     "output_type": "stream",
     "text": [
      "Early stopping, best iteration is:\n",
      "[116]\ttraining's auc: 0.908146\tvalid_1's auc: 0.884573\n",
      "-\n",
      "Fold 3\n",
      "Training until validation scores don't improve for 25 rounds.\n"
     ]
    },
    {
     "name": "stderr",
     "output_type": "stream",
     "text": [
      "E:\\Anaconda\\envs\\ML\\lib\\site-packages\\lightgbm\\basic.py:742: UserWarning: categorical_feature in param dict is overridden.\n",
      "  warnings.warn('categorical_feature in param dict is overridden.')\n"
     ]
    },
    {
     "name": "stdout",
     "output_type": "stream",
     "text": [
      "Early stopping, best iteration is:\n",
      "[119]\ttraining's auc: 0.909277\tvalid_1's auc: 0.881911\n",
      "-\n",
      "Fold 4\n",
      "Training until validation scores don't improve for 25 rounds.\n"
     ]
    },
    {
     "name": "stderr",
     "output_type": "stream",
     "text": [
      "E:\\Anaconda\\envs\\ML\\lib\\site-packages\\lightgbm\\basic.py:742: UserWarning: categorical_feature in param dict is overridden.\n",
      "  warnings.warn('categorical_feature in param dict is overridden.')\n"
     ]
    },
    {
     "name": "stdout",
     "output_type": "stream",
     "text": [
      "Early stopping, best iteration is:\n",
      "[141]\ttraining's auc: 0.912422\tvalid_1's auc: 0.887268\n",
      "-\n",
      "Fold 5\n",
      "Training until validation scores don't improve for 25 rounds.\n"
     ]
    },
    {
     "name": "stderr",
     "output_type": "stream",
     "text": [
      "E:\\Anaconda\\envs\\ML\\lib\\site-packages\\lightgbm\\basic.py:742: UserWarning: categorical_feature in param dict is overridden.\n",
      "  warnings.warn('categorical_feature in param dict is overridden.')\n"
     ]
    },
    {
     "name": "stdout",
     "output_type": "stream",
     "text": [
      "[200]\ttraining's auc: 0.922556\tvalid_1's auc: 0.88495\n",
      "Early stopping, best iteration is:\n",
      "[197]\ttraining's auc: 0.922143\tvalid_1's auc: 0.885026\n",
      "\n",
      "Avg Accuracy Train Set: 82.97041309780397\n",
      "Avg Accuracy Test Set: 80.1954272646805\n",
      "\n",
      "Avg Recall: 77.93634179997414\n",
      "Avg Precision: 81.62842088678963\n",
      "16 30 0.9\n",
      "-\n",
      "Fold 1\n",
      "Training until validation scores don't improve for 25 rounds.\n"
     ]
    },
    {
     "name": "stderr",
     "output_type": "stream",
     "text": [
      "E:\\Anaconda\\envs\\ML\\lib\\site-packages\\lightgbm\\basic.py:742: UserWarning: categorical_feature in param dict is overridden.\n",
      "  warnings.warn('categorical_feature in param dict is overridden.')\n"
     ]
    },
    {
     "name": "stdout",
     "output_type": "stream",
     "text": [
      "Early stopping, best iteration is:\n",
      "[116]\ttraining's auc: 0.909371\tvalid_1's auc: 0.881123\n",
      "-\n",
      "Fold 2\n",
      "Training until validation scores don't improve for 25 rounds.\n"
     ]
    },
    {
     "name": "stderr",
     "output_type": "stream",
     "text": [
      "E:\\Anaconda\\envs\\ML\\lib\\site-packages\\lightgbm\\basic.py:742: UserWarning: categorical_feature in param dict is overridden.\n",
      "  warnings.warn('categorical_feature in param dict is overridden.')\n"
     ]
    },
    {
     "name": "stdout",
     "output_type": "stream",
     "text": [
      "Early stopping, best iteration is:\n",
      "[130]\ttraining's auc: 0.911257\tvalid_1's auc: 0.885131\n",
      "-\n",
      "Fold 3\n",
      "Training until validation scores don't improve for 25 rounds.\n"
     ]
    },
    {
     "name": "stderr",
     "output_type": "stream",
     "text": [
      "E:\\Anaconda\\envs\\ML\\lib\\site-packages\\lightgbm\\basic.py:742: UserWarning: categorical_feature in param dict is overridden.\n",
      "  warnings.warn('categorical_feature in param dict is overridden.')\n"
     ]
    },
    {
     "name": "stdout",
     "output_type": "stream",
     "text": [
      "Early stopping, best iteration is:\n",
      "[155]\ttraining's auc: 0.916605\tvalid_1's auc: 0.8828\n",
      "-\n",
      "Fold 4\n",
      "Training until validation scores don't improve for 25 rounds.\n"
     ]
    },
    {
     "name": "stderr",
     "output_type": "stream",
     "text": [
      "E:\\Anaconda\\envs\\ML\\lib\\site-packages\\lightgbm\\basic.py:742: UserWarning: categorical_feature in param dict is overridden.\n",
      "  warnings.warn('categorical_feature in param dict is overridden.')\n"
     ]
    },
    {
     "name": "stdout",
     "output_type": "stream",
     "text": [
      "Early stopping, best iteration is:\n",
      "[138]\ttraining's auc: 0.912034\tvalid_1's auc: 0.886521\n",
      "-\n",
      "Fold 5\n",
      "Training until validation scores don't improve for 25 rounds.\n"
     ]
    },
    {
     "name": "stderr",
     "output_type": "stream",
     "text": [
      "E:\\Anaconda\\envs\\ML\\lib\\site-packages\\lightgbm\\basic.py:742: UserWarning: categorical_feature in param dict is overridden.\n",
      "  warnings.warn('categorical_feature in param dict is overridden.')\n"
     ]
    },
    {
     "name": "stdout",
     "output_type": "stream",
     "text": [
      "Early stopping, best iteration is:\n",
      "[147]\ttraining's auc: 0.91431\tvalid_1's auc: 0.884468\n",
      "\n",
      "Avg Accuracy Train Set: 83.03214632238345\n",
      "Avg Accuracy Test Set: 80.26897047234971\n",
      "\n",
      "Avg Recall: 77.86317329746282\n",
      "Avg Precision: 81.80386266619445\n",
      "16 30 1.0\n",
      "-\n",
      "Fold 1\n",
      "Training until validation scores don't improve for 25 rounds.\n"
     ]
    },
    {
     "name": "stderr",
     "output_type": "stream",
     "text": [
      "E:\\Anaconda\\envs\\ML\\lib\\site-packages\\lightgbm\\basic.py:742: UserWarning: categorical_feature in param dict is overridden.\n",
      "  warnings.warn('categorical_feature in param dict is overridden.')\n"
     ]
    },
    {
     "name": "stdout",
     "output_type": "stream",
     "text": [
      "Early stopping, best iteration is:\n",
      "[109]\ttraining's auc: 0.90861\tvalid_1's auc: 0.880789\n",
      "-\n",
      "Fold 2\n",
      "Training until validation scores don't improve for 25 rounds.\n"
     ]
    },
    {
     "name": "stderr",
     "output_type": "stream",
     "text": [
      "E:\\Anaconda\\envs\\ML\\lib\\site-packages\\lightgbm\\basic.py:742: UserWarning: categorical_feature in param dict is overridden.\n",
      "  warnings.warn('categorical_feature in param dict is overridden.')\n"
     ]
    },
    {
     "name": "stdout",
     "output_type": "stream",
     "text": [
      "Early stopping, best iteration is:\n",
      "[104]\ttraining's auc: 0.906817\tvalid_1's auc: 0.885611\n",
      "-\n",
      "Fold 3\n",
      "Training until validation scores don't improve for 25 rounds.\n"
     ]
    },
    {
     "name": "stderr",
     "output_type": "stream",
     "text": [
      "E:\\Anaconda\\envs\\ML\\lib\\site-packages\\lightgbm\\basic.py:742: UserWarning: categorical_feature in param dict is overridden.\n",
      "  warnings.warn('categorical_feature in param dict is overridden.')\n"
     ]
    },
    {
     "name": "stdout",
     "output_type": "stream",
     "text": [
      "Early stopping, best iteration is:\n",
      "[97]\ttraining's auc: 0.905664\tvalid_1's auc: 0.881869\n",
      "-\n",
      "Fold 4\n",
      "Training until validation scores don't improve for 25 rounds.\n"
     ]
    },
    {
     "name": "stderr",
     "output_type": "stream",
     "text": [
      "E:\\Anaconda\\envs\\ML\\lib\\site-packages\\lightgbm\\basic.py:742: UserWarning: categorical_feature in param dict is overridden.\n",
      "  warnings.warn('categorical_feature in param dict is overridden.')\n"
     ]
    },
    {
     "name": "stdout",
     "output_type": "stream",
     "text": [
      "Early stopping, best iteration is:\n",
      "[100]\ttraining's auc: 0.904498\tvalid_1's auc: 0.887752\n",
      "-\n",
      "Fold 5\n",
      "Training until validation scores don't improve for 25 rounds.\n"
     ]
    },
    {
     "name": "stderr",
     "output_type": "stream",
     "text": [
      "E:\\Anaconda\\envs\\ML\\lib\\site-packages\\lightgbm\\basic.py:742: UserWarning: categorical_feature in param dict is overridden.\n",
      "  warnings.warn('categorical_feature in param dict is overridden.')\n"
     ]
    },
    {
     "name": "stdout",
     "output_type": "stream",
     "text": [
      "[200]\ttraining's auc: 0.92417\tvalid_1's auc: 0.884527\n",
      "Early stopping, best iteration is:\n",
      "[180]\ttraining's auc: 0.92073\tvalid_1's auc: 0.884627\n",
      "\n",
      "Avg Accuracy Train Set: 82.67886839155308\n",
      "Avg Accuracy Test Set: 80.24795930980746\n",
      "\n",
      "Avg Recall: 77.96863417080485\n",
      "Avg Precision: 81.6994418337715\n",
      "16 35 0.5\n",
      "-\n",
      "Fold 1\n",
      "Training until validation scores don't improve for 25 rounds.\n"
     ]
    },
    {
     "name": "stderr",
     "output_type": "stream",
     "text": [
      "E:\\Anaconda\\envs\\ML\\lib\\site-packages\\lightgbm\\basic.py:742: UserWarning: categorical_feature in param dict is overridden.\n",
      "  warnings.warn('categorical_feature in param dict is overridden.')\n"
     ]
    },
    {
     "name": "stdout",
     "output_type": "stream",
     "text": [
      "Early stopping, best iteration is:\n",
      "[80]\ttraining's auc: 0.899297\tvalid_1's auc: 0.880706\n",
      "-\n",
      "Fold 2\n",
      "Training until validation scores don't improve for 25 rounds.\n"
     ]
    },
    {
     "name": "stderr",
     "output_type": "stream",
     "text": [
      "E:\\Anaconda\\envs\\ML\\lib\\site-packages\\lightgbm\\basic.py:742: UserWarning: categorical_feature in param dict is overridden.\n",
      "  warnings.warn('categorical_feature in param dict is overridden.')\n"
     ]
    },
    {
     "name": "stdout",
     "output_type": "stream",
     "text": [
      "Early stopping, best iteration is:\n",
      "[151]\ttraining's auc: 0.911858\tvalid_1's auc: 0.886618\n",
      "-\n",
      "Fold 3\n",
      "Training until validation scores don't improve for 25 rounds.\n"
     ]
    },
    {
     "name": "stderr",
     "output_type": "stream",
     "text": [
      "E:\\Anaconda\\envs\\ML\\lib\\site-packages\\lightgbm\\basic.py:742: UserWarning: categorical_feature in param dict is overridden.\n",
      "  warnings.warn('categorical_feature in param dict is overridden.')\n"
     ]
    },
    {
     "name": "stdout",
     "output_type": "stream",
     "text": [
      "[200]\ttraining's auc: 0.9191\tvalid_1's auc: 0.883155\n",
      "Early stopping, best iteration is:\n",
      "[194]\ttraining's auc: 0.918327\tvalid_1's auc: 0.883292\n",
      "-\n",
      "Fold 4\n",
      "Training until validation scores don't improve for 25 rounds.\n"
     ]
    },
    {
     "name": "stderr",
     "output_type": "stream",
     "text": [
      "E:\\Anaconda\\envs\\ML\\lib\\site-packages\\lightgbm\\basic.py:742: UserWarning: categorical_feature in param dict is overridden.\n",
      "  warnings.warn('categorical_feature in param dict is overridden.')\n"
     ]
    },
    {
     "name": "stdout",
     "output_type": "stream",
     "text": [
      "Early stopping, best iteration is:\n",
      "[119]\ttraining's auc: 0.906028\tvalid_1's auc: 0.889204\n",
      "-\n",
      "Fold 5\n",
      "Training until validation scores don't improve for 25 rounds.\n"
     ]
    },
    {
     "name": "stderr",
     "output_type": "stream",
     "text": [
      "E:\\Anaconda\\envs\\ML\\lib\\site-packages\\lightgbm\\basic.py:742: UserWarning: categorical_feature in param dict is overridden.\n",
      "  warnings.warn('categorical_feature in param dict is overridden.')\n"
     ]
    },
    {
     "name": "stdout",
     "output_type": "stream",
     "text": [
      "Early stopping, best iteration is:\n",
      "[118]\ttraining's auc: 0.90683\tvalid_1's auc: 0.883684\n",
      "\n",
      "Avg Accuracy Train Set: 82.67229360680685\n",
      "Avg Accuracy Test Set: 80.37929770016754\n",
      "\n",
      "Avg Recall: 77.97708444462049\n",
      "Avg Precision: 81.9118834178976\n",
      "16 35 0.6000000000000001\n",
      "-\n",
      "Fold 1\n",
      "Training until validation scores don't improve for 25 rounds.\n"
     ]
    },
    {
     "name": "stderr",
     "output_type": "stream",
     "text": [
      "E:\\Anaconda\\envs\\ML\\lib\\site-packages\\lightgbm\\basic.py:742: UserWarning: categorical_feature in param dict is overridden.\n",
      "  warnings.warn('categorical_feature in param dict is overridden.')\n"
     ]
    },
    {
     "name": "stdout",
     "output_type": "stream",
     "text": [
      "Early stopping, best iteration is:\n",
      "[84]\ttraining's auc: 0.900779\tvalid_1's auc: 0.880842\n",
      "-\n",
      "Fold 2\n",
      "Training until validation scores don't improve for 25 rounds.\n"
     ]
    },
    {
     "name": "stderr",
     "output_type": "stream",
     "text": [
      "E:\\Anaconda\\envs\\ML\\lib\\site-packages\\lightgbm\\basic.py:742: UserWarning: categorical_feature in param dict is overridden.\n",
      "  warnings.warn('categorical_feature in param dict is overridden.')\n"
     ]
    },
    {
     "name": "stdout",
     "output_type": "stream",
     "text": [
      "Early stopping, best iteration is:\n",
      "[123]\ttraining's auc: 0.907643\tvalid_1's auc: 0.88473\n",
      "-\n",
      "Fold 3\n",
      "Training until validation scores don't improve for 25 rounds.\n"
     ]
    },
    {
     "name": "stderr",
     "output_type": "stream",
     "text": [
      "E:\\Anaconda\\envs\\ML\\lib\\site-packages\\lightgbm\\basic.py:742: UserWarning: categorical_feature in param dict is overridden.\n",
      "  warnings.warn('categorical_feature in param dict is overridden.')\n"
     ]
    },
    {
     "name": "stdout",
     "output_type": "stream",
     "text": [
      "Early stopping, best iteration is:\n",
      "[140]\ttraining's auc: 0.91107\tvalid_1's auc: 0.883085\n",
      "-\n",
      "Fold 4\n",
      "Training until validation scores don't improve for 25 rounds.\n"
     ]
    },
    {
     "name": "stderr",
     "output_type": "stream",
     "text": [
      "E:\\Anaconda\\envs\\ML\\lib\\site-packages\\lightgbm\\basic.py:742: UserWarning: categorical_feature in param dict is overridden.\n",
      "  warnings.warn('categorical_feature in param dict is overridden.')\n"
     ]
    },
    {
     "name": "stdout",
     "output_type": "stream",
     "text": [
      "Early stopping, best iteration is:\n",
      "[123]\ttraining's auc: 0.908071\tvalid_1's auc: 0.888313\n",
      "-\n",
      "Fold 5\n",
      "Training until validation scores don't improve for 25 rounds.\n"
     ]
    },
    {
     "name": "stderr",
     "output_type": "stream",
     "text": [
      "E:\\Anaconda\\envs\\ML\\lib\\site-packages\\lightgbm\\basic.py:742: UserWarning: categorical_feature in param dict is overridden.\n",
      "  warnings.warn('categorical_feature in param dict is overridden.')\n"
     ]
    },
    {
     "name": "stdout",
     "output_type": "stream",
     "text": [
      "Early stopping, best iteration is:\n",
      "[117]\ttraining's auc: 0.906922\tvalid_1's auc: 0.883934\n",
      "\n",
      "Avg Accuracy Train Set: 82.41751532936371\n",
      "Avg Accuracy Test Set: 80.26371561232847\n",
      "\n",
      "Avg Recall: 77.82060487579261\n",
      "Avg Precision: 81.82138149136775\n",
      "16 35 0.7000000000000001\n",
      "-\n",
      "Fold 1\n",
      "Training until validation scores don't improve for 25 rounds.\n"
     ]
    },
    {
     "name": "stderr",
     "output_type": "stream",
     "text": [
      "E:\\Anaconda\\envs\\ML\\lib\\site-packages\\lightgbm\\basic.py:742: UserWarning: categorical_feature in param dict is overridden.\n",
      "  warnings.warn('categorical_feature in param dict is overridden.')\n"
     ]
    },
    {
     "name": "stdout",
     "output_type": "stream",
     "text": [
      "Early stopping, best iteration is:\n",
      "[97]\ttraining's auc: 0.904789\tvalid_1's auc: 0.880966\n",
      "-\n",
      "Fold 2\n",
      "Training until validation scores don't improve for 25 rounds.\n"
     ]
    },
    {
     "name": "stderr",
     "output_type": "stream",
     "text": [
      "E:\\Anaconda\\envs\\ML\\lib\\site-packages\\lightgbm\\basic.py:742: UserWarning: categorical_feature in param dict is overridden.\n",
      "  warnings.warn('categorical_feature in param dict is overridden.')\n"
     ]
    },
    {
     "name": "stdout",
     "output_type": "stream",
     "text": [
      "Early stopping, best iteration is:\n",
      "[127]\ttraining's auc: 0.909822\tvalid_1's auc: 0.884659\n",
      "-\n",
      "Fold 3\n",
      "Training until validation scores don't improve for 25 rounds.\n"
     ]
    },
    {
     "name": "stderr",
     "output_type": "stream",
     "text": [
      "E:\\Anaconda\\envs\\ML\\lib\\site-packages\\lightgbm\\basic.py:742: UserWarning: categorical_feature in param dict is overridden.\n",
      "  warnings.warn('categorical_feature in param dict is overridden.')\n"
     ]
    },
    {
     "name": "stdout",
     "output_type": "stream",
     "text": [
      "Early stopping, best iteration is:\n",
      "[120]\ttraining's auc: 0.908544\tvalid_1's auc: 0.882503\n",
      "-\n",
      "Fold 4\n",
      "Training until validation scores don't improve for 25 rounds.\n"
     ]
    },
    {
     "name": "stderr",
     "output_type": "stream",
     "text": [
      "E:\\Anaconda\\envs\\ML\\lib\\site-packages\\lightgbm\\basic.py:742: UserWarning: categorical_feature in param dict is overridden.\n",
      "  warnings.warn('categorical_feature in param dict is overridden.')\n"
     ]
    },
    {
     "name": "stdout",
     "output_type": "stream",
     "text": [
      "Early stopping, best iteration is:\n",
      "[122]\ttraining's auc: 0.908052\tvalid_1's auc: 0.887716\n",
      "-\n",
      "Fold 5\n",
      "Training until validation scores don't improve for 25 rounds.\n"
     ]
    },
    {
     "name": "stderr",
     "output_type": "stream",
     "text": [
      "E:\\Anaconda\\envs\\ML\\lib\\site-packages\\lightgbm\\basic.py:742: UserWarning: categorical_feature in param dict is overridden.\n",
      "  warnings.warn('categorical_feature in param dict is overridden.')\n"
     ]
    },
    {
     "name": "stdout",
     "output_type": "stream",
     "text": [
      "Early stopping, best iteration is:\n",
      "[142]\ttraining's auc: 0.912353\tvalid_1's auc: 0.88494\n",
      "\n",
      "Avg Accuracy Train Set: 82.75766740708347\n",
      "Avg Accuracy Test Set: 80.20068350429219\n",
      "\n",
      "Avg Recall: 77.79993240167073\n",
      "Avg Precision: 81.73228266874811\n",
      "16 35 0.8\n",
      "-\n",
      "Fold 1\n",
      "Training until validation scores don't improve for 25 rounds.\n"
     ]
    },
    {
     "name": "stderr",
     "output_type": "stream",
     "text": [
      "E:\\Anaconda\\envs\\ML\\lib\\site-packages\\lightgbm\\basic.py:742: UserWarning: categorical_feature in param dict is overridden.\n",
      "  warnings.warn('categorical_feature in param dict is overridden.')\n"
     ]
    },
    {
     "name": "stdout",
     "output_type": "stream",
     "text": [
      "Early stopping, best iteration is:\n",
      "[116]\ttraining's auc: 0.908342\tvalid_1's auc: 0.88025\n",
      "-\n",
      "Fold 2\n",
      "Training until validation scores don't improve for 25 rounds.\n"
     ]
    },
    {
     "name": "stderr",
     "output_type": "stream",
     "text": [
      "E:\\Anaconda\\envs\\ML\\lib\\site-packages\\lightgbm\\basic.py:742: UserWarning: categorical_feature in param dict is overridden.\n",
      "  warnings.warn('categorical_feature in param dict is overridden.')\n"
     ]
    },
    {
     "name": "stdout",
     "output_type": "stream",
     "text": [
      "Early stopping, best iteration is:\n",
      "[94]\ttraining's auc: 0.903252\tvalid_1's auc: 0.885147\n",
      "-\n",
      "Fold 3\n",
      "Training until validation scores don't improve for 25 rounds.\n"
     ]
    },
    {
     "name": "stderr",
     "output_type": "stream",
     "text": [
      "E:\\Anaconda\\envs\\ML\\lib\\site-packages\\lightgbm\\basic.py:742: UserWarning: categorical_feature in param dict is overridden.\n",
      "  warnings.warn('categorical_feature in param dict is overridden.')\n"
     ]
    },
    {
     "name": "stdout",
     "output_type": "stream",
     "text": [
      "Early stopping, best iteration is:\n",
      "[147]\ttraining's auc: 0.913581\tvalid_1's auc: 0.881632\n",
      "-\n",
      "Fold 4\n",
      "Training until validation scores don't improve for 25 rounds.\n"
     ]
    },
    {
     "name": "stderr",
     "output_type": "stream",
     "text": [
      "E:\\Anaconda\\envs\\ML\\lib\\site-packages\\lightgbm\\basic.py:742: UserWarning: categorical_feature in param dict is overridden.\n",
      "  warnings.warn('categorical_feature in param dict is overridden.')\n"
     ]
    },
    {
     "name": "stdout",
     "output_type": "stream",
     "text": [
      "Early stopping, best iteration is:\n",
      "[136]\ttraining's auc: 0.910846\tvalid_1's auc: 0.887551\n",
      "-\n",
      "Fold 5\n",
      "Training until validation scores don't improve for 25 rounds.\n"
     ]
    },
    {
     "name": "stderr",
     "output_type": "stream",
     "text": [
      "E:\\Anaconda\\envs\\ML\\lib\\site-packages\\lightgbm\\basic.py:742: UserWarning: categorical_feature in param dict is overridden.\n",
      "  warnings.warn('categorical_feature in param dict is overridden.')\n"
     ]
    },
    {
     "name": "stdout",
     "output_type": "stream",
     "text": [
      "Early stopping, best iteration is:\n",
      "[116]\ttraining's auc: 0.90768\tvalid_1's auc: 0.884217\n",
      "\n",
      "Avg Accuracy Train Set: 82.65654592924001\n",
      "Avg Accuracy Test Set: 80.14813904285118\n",
      "\n",
      "Avg Recall: 78.03101402358088\n",
      "Avg Precision: 81.48598866201306\n",
      "16 35 0.9\n",
      "-\n",
      "Fold 1\n",
      "Training until validation scores don't improve for 25 rounds.\n"
     ]
    },
    {
     "name": "stderr",
     "output_type": "stream",
     "text": [
      "E:\\Anaconda\\envs\\ML\\lib\\site-packages\\lightgbm\\basic.py:742: UserWarning: categorical_feature in param dict is overridden.\n",
      "  warnings.warn('categorical_feature in param dict is overridden.')\n"
     ]
    },
    {
     "name": "stdout",
     "output_type": "stream",
     "text": [
      "Early stopping, best iteration is:\n",
      "[137]\ttraining's auc: 0.913582\tvalid_1's auc: 0.880444\n",
      "-\n",
      "Fold 2\n",
      "Training until validation scores don't improve for 25 rounds.\n"
     ]
    },
    {
     "name": "stderr",
     "output_type": "stream",
     "text": [
      "E:\\Anaconda\\envs\\ML\\lib\\site-packages\\lightgbm\\basic.py:742: UserWarning: categorical_feature in param dict is overridden.\n",
      "  warnings.warn('categorical_feature in param dict is overridden.')\n"
     ]
    },
    {
     "name": "stdout",
     "output_type": "stream",
     "text": [
      "Early stopping, best iteration is:\n",
      "[135]\ttraining's auc: 0.911767\tvalid_1's auc: 0.884549\n",
      "-\n",
      "Fold 3\n",
      "Training until validation scores don't improve for 25 rounds.\n"
     ]
    },
    {
     "name": "stderr",
     "output_type": "stream",
     "text": [
      "E:\\Anaconda\\envs\\ML\\lib\\site-packages\\lightgbm\\basic.py:742: UserWarning: categorical_feature in param dict is overridden.\n",
      "  warnings.warn('categorical_feature in param dict is overridden.')\n"
     ]
    },
    {
     "name": "stdout",
     "output_type": "stream",
     "text": [
      "Early stopping, best iteration is:\n",
      "[161]\ttraining's auc: 0.916605\tvalid_1's auc: 0.881952\n",
      "-\n",
      "Fold 4\n",
      "Training until validation scores don't improve for 25 rounds.\n"
     ]
    },
    {
     "name": "stderr",
     "output_type": "stream",
     "text": [
      "E:\\Anaconda\\envs\\ML\\lib\\site-packages\\lightgbm\\basic.py:742: UserWarning: categorical_feature in param dict is overridden.\n",
      "  warnings.warn('categorical_feature in param dict is overridden.')\n"
     ]
    },
    {
     "name": "stdout",
     "output_type": "stream",
     "text": [
      "Early stopping, best iteration is:\n",
      "[144]\ttraining's auc: 0.912969\tvalid_1's auc: 0.887749\n",
      "-\n",
      "Fold 5\n",
      "Training until validation scores don't improve for 25 rounds.\n"
     ]
    },
    {
     "name": "stderr",
     "output_type": "stream",
     "text": [
      "E:\\Anaconda\\envs\\ML\\lib\\site-packages\\lightgbm\\basic.py:742: UserWarning: categorical_feature in param dict is overridden.\n",
      "  warnings.warn('categorical_feature in param dict is overridden.')\n"
     ]
    },
    {
     "name": "stdout",
     "output_type": "stream",
     "text": [
      "Early stopping, best iteration is:\n",
      "[137]\ttraining's auc: 0.912153\tvalid_1's auc: 0.884385\n",
      "\n",
      "Avg Accuracy Train Set: 83.17530159432904\n",
      "Avg Accuracy Test Set: 80.16390914127668\n",
      "\n",
      "Avg Recall: 77.76896433920452\n",
      "Avg Precision: 81.68554025484715\n",
      "16 35 1.0\n",
      "-\n",
      "Fold 1\n",
      "Training until validation scores don't improve for 25 rounds.\n"
     ]
    },
    {
     "name": "stderr",
     "output_type": "stream",
     "text": [
      "E:\\Anaconda\\envs\\ML\\lib\\site-packages\\lightgbm\\basic.py:742: UserWarning: categorical_feature in param dict is overridden.\n",
      "  warnings.warn('categorical_feature in param dict is overridden.')\n"
     ]
    },
    {
     "name": "stdout",
     "output_type": "stream",
     "text": [
      "Early stopping, best iteration is:\n",
      "[85]\ttraining's auc: 0.902871\tvalid_1's auc: 0.880534\n",
      "-\n",
      "Fold 2\n",
      "Training until validation scores don't improve for 25 rounds.\n"
     ]
    },
    {
     "name": "stderr",
     "output_type": "stream",
     "text": [
      "E:\\Anaconda\\envs\\ML\\lib\\site-packages\\lightgbm\\basic.py:742: UserWarning: categorical_feature in param dict is overridden.\n",
      "  warnings.warn('categorical_feature in param dict is overridden.')\n"
     ]
    },
    {
     "name": "stdout",
     "output_type": "stream",
     "text": [
      "Early stopping, best iteration is:\n",
      "[105]\ttraining's auc: 0.906588\tvalid_1's auc: 0.883763\n",
      "-\n",
      "Fold 3\n",
      "Training until validation scores don't improve for 25 rounds.\n"
     ]
    },
    {
     "name": "stderr",
     "output_type": "stream",
     "text": [
      "E:\\Anaconda\\envs\\ML\\lib\\site-packages\\lightgbm\\basic.py:742: UserWarning: categorical_feature in param dict is overridden.\n",
      "  warnings.warn('categorical_feature in param dict is overridden.')\n"
     ]
    },
    {
     "name": "stdout",
     "output_type": "stream",
     "text": [
      "Early stopping, best iteration is:\n",
      "[136]\ttraining's auc: 0.913538\tvalid_1's auc: 0.882496\n",
      "-\n",
      "Fold 4\n",
      "Training until validation scores don't improve for 25 rounds.\n"
     ]
    },
    {
     "name": "stderr",
     "output_type": "stream",
     "text": [
      "E:\\Anaconda\\envs\\ML\\lib\\site-packages\\lightgbm\\basic.py:742: UserWarning: categorical_feature in param dict is overridden.\n",
      "  warnings.warn('categorical_feature in param dict is overridden.')\n"
     ]
    },
    {
     "name": "stdout",
     "output_type": "stream",
     "text": [
      "Early stopping, best iteration is:\n",
      "[97]\ttraining's auc: 0.903808\tvalid_1's auc: 0.88716\n",
      "-\n",
      "Fold 5\n",
      "Training until validation scores don't improve for 25 rounds.\n"
     ]
    },
    {
     "name": "stderr",
     "output_type": "stream",
     "text": [
      "E:\\Anaconda\\envs\\ML\\lib\\site-packages\\lightgbm\\basic.py:742: UserWarning: categorical_feature in param dict is overridden.\n",
      "  warnings.warn('categorical_feature in param dict is overridden.')\n"
     ]
    },
    {
     "name": "stdout",
     "output_type": "stream",
     "text": [
      "Early stopping, best iteration is:\n",
      "[112]\ttraining's auc: 0.907813\tvalid_1's auc: 0.884437\n",
      "\n",
      "Avg Accuracy Train Set: 82.4779314754558\n",
      "Avg Accuracy Test Set: 80.01157062509796\n",
      "\n",
      "Avg Recall: 77.7785243558371\n",
      "Avg Precision: 81.41822471371219\n",
      "16 40 0.5\n",
      "-\n",
      "Fold 1\n",
      "Training until validation scores don't improve for 25 rounds.\n"
     ]
    },
    {
     "name": "stderr",
     "output_type": "stream",
     "text": [
      "E:\\Anaconda\\envs\\ML\\lib\\site-packages\\lightgbm\\basic.py:742: UserWarning: categorical_feature in param dict is overridden.\n",
      "  warnings.warn('categorical_feature in param dict is overridden.')\n"
     ]
    },
    {
     "name": "stdout",
     "output_type": "stream",
     "text": [
      "Early stopping, best iteration is:\n",
      "[115]\ttraining's auc: 0.906657\tvalid_1's auc: 0.880772\n",
      "-\n",
      "Fold 2\n",
      "Training until validation scores don't improve for 25 rounds.\n"
     ]
    },
    {
     "name": "stderr",
     "output_type": "stream",
     "text": [
      "E:\\Anaconda\\envs\\ML\\lib\\site-packages\\lightgbm\\basic.py:742: UserWarning: categorical_feature in param dict is overridden.\n",
      "  warnings.warn('categorical_feature in param dict is overridden.')\n"
     ]
    },
    {
     "name": "stdout",
     "output_type": "stream",
     "text": [
      "Early stopping, best iteration is:\n",
      "[154]\ttraining's auc: 0.911292\tvalid_1's auc: 0.885419\n",
      "-\n",
      "Fold 3\n",
      "Training until validation scores don't improve for 25 rounds.\n"
     ]
    },
    {
     "name": "stderr",
     "output_type": "stream",
     "text": [
      "E:\\Anaconda\\envs\\ML\\lib\\site-packages\\lightgbm\\basic.py:742: UserWarning: categorical_feature in param dict is overridden.\n",
      "  warnings.warn('categorical_feature in param dict is overridden.')\n"
     ]
    },
    {
     "name": "stdout",
     "output_type": "stream",
     "text": [
      "Early stopping, best iteration is:\n",
      "[101]\ttraining's auc: 0.903474\tvalid_1's auc: 0.883472\n",
      "-\n",
      "Fold 4\n",
      "Training until validation scores don't improve for 25 rounds.\n"
     ]
    },
    {
     "name": "stderr",
     "output_type": "stream",
     "text": [
      "E:\\Anaconda\\envs\\ML\\lib\\site-packages\\lightgbm\\basic.py:742: UserWarning: categorical_feature in param dict is overridden.\n",
      "  warnings.warn('categorical_feature in param dict is overridden.')\n"
     ]
    },
    {
     "name": "stdout",
     "output_type": "stream",
     "text": [
      "Early stopping, best iteration is:\n",
      "[124]\ttraining's auc: 0.90655\tvalid_1's auc: 0.888673\n",
      "-\n",
      "Fold 5\n",
      "Training until validation scores don't improve for 25 rounds.\n"
     ]
    },
    {
     "name": "stderr",
     "output_type": "stream",
     "text": [
      "E:\\Anaconda\\envs\\ML\\lib\\site-packages\\lightgbm\\basic.py:742: UserWarning: categorical_feature in param dict is overridden.\n",
      "  warnings.warn('categorical_feature in param dict is overridden.')\n"
     ]
    },
    {
     "name": "stdout",
     "output_type": "stream",
     "text": [
      "Early stopping, best iteration is:\n",
      "[118]\ttraining's auc: 0.906798\tvalid_1's auc: 0.883788\n",
      "\n",
      "Avg Accuracy Train Set: 82.42277734769198\n",
      "Avg Accuracy Test Set: 80.27947191484948\n",
      "\n",
      "Avg Recall: 77.96782462382392\n",
      "Avg Precision: 81.74832652849254\n",
      "16 40 0.6000000000000001\n",
      "-\n",
      "Fold 1\n",
      "Training until validation scores don't improve for 25 rounds.\n"
     ]
    },
    {
     "name": "stderr",
     "output_type": "stream",
     "text": [
      "E:\\Anaconda\\envs\\ML\\lib\\site-packages\\lightgbm\\basic.py:742: UserWarning: categorical_feature in param dict is overridden.\n",
      "  warnings.warn('categorical_feature in param dict is overridden.')\n"
     ]
    },
    {
     "name": "stdout",
     "output_type": "stream",
     "text": [
      "Early stopping, best iteration is:\n",
      "[77]\ttraining's auc: 0.898899\tvalid_1's auc: 0.881022\n",
      "-\n",
      "Fold 2\n",
      "Training until validation scores don't improve for 25 rounds.\n"
     ]
    },
    {
     "name": "stderr",
     "output_type": "stream",
     "text": [
      "E:\\Anaconda\\envs\\ML\\lib\\site-packages\\lightgbm\\basic.py:742: UserWarning: categorical_feature in param dict is overridden.\n",
      "  warnings.warn('categorical_feature in param dict is overridden.')\n"
     ]
    },
    {
     "name": "stdout",
     "output_type": "stream",
     "text": [
      "Early stopping, best iteration is:\n",
      "[100]\ttraining's auc: 0.903199\tvalid_1's auc: 0.886007\n",
      "-\n",
      "Fold 3\n",
      "Training until validation scores don't improve for 25 rounds.\n"
     ]
    },
    {
     "name": "stderr",
     "output_type": "stream",
     "text": [
      "E:\\Anaconda\\envs\\ML\\lib\\site-packages\\lightgbm\\basic.py:742: UserWarning: categorical_feature in param dict is overridden.\n",
      "  warnings.warn('categorical_feature in param dict is overridden.')\n"
     ]
    },
    {
     "name": "stdout",
     "output_type": "stream",
     "text": [
      "Early stopping, best iteration is:\n",
      "[138]\ttraining's auc: 0.910725\tvalid_1's auc: 0.882867\n",
      "-\n",
      "Fold 4\n",
      "Training until validation scores don't improve for 25 rounds.\n"
     ]
    },
    {
     "name": "stderr",
     "output_type": "stream",
     "text": [
      "E:\\Anaconda\\envs\\ML\\lib\\site-packages\\lightgbm\\basic.py:742: UserWarning: categorical_feature in param dict is overridden.\n",
      "  warnings.warn('categorical_feature in param dict is overridden.')\n"
     ]
    },
    {
     "name": "stdout",
     "output_type": "stream",
     "text": [
      "Early stopping, best iteration is:\n",
      "[123]\ttraining's auc: 0.907214\tvalid_1's auc: 0.888438\n",
      "-\n",
      "Fold 5\n",
      "Training until validation scores don't improve for 25 rounds.\n"
     ]
    },
    {
     "name": "stderr",
     "output_type": "stream",
     "text": [
      "E:\\Anaconda\\envs\\ML\\lib\\site-packages\\lightgbm\\basic.py:742: UserWarning: categorical_feature in param dict is overridden.\n",
      "  warnings.warn('categorical_feature in param dict is overridden.')\n"
     ]
    },
    {
     "name": "stdout",
     "output_type": "stream",
     "text": [
      "Early stopping, best iteration is:\n",
      "[145]\ttraining's auc: 0.91203\tvalid_1's auc: 0.884792\n",
      "\n",
      "Avg Accuracy Train Set: 82.3912485308995\n",
      "Avg Accuracy Test Set: 80.13238274033019\n",
      "\n",
      "Avg Recall: 77.72548154687777\n",
      "Avg Precision: 81.66210343873078\n",
      "16 40 0.7000000000000001\n",
      "-\n",
      "Fold 1\n",
      "Training until validation scores don't improve for 25 rounds.\n"
     ]
    },
    {
     "name": "stderr",
     "output_type": "stream",
     "text": [
      "E:\\Anaconda\\envs\\ML\\lib\\site-packages\\lightgbm\\basic.py:742: UserWarning: categorical_feature in param dict is overridden.\n",
      "  warnings.warn('categorical_feature in param dict is overridden.')\n"
     ]
    },
    {
     "name": "stdout",
     "output_type": "stream",
     "text": [
      "Early stopping, best iteration is:\n",
      "[80]\ttraining's auc: 0.900408\tvalid_1's auc: 0.880781\n",
      "-\n",
      "Fold 2\n",
      "Training until validation scores don't improve for 25 rounds.\n"
     ]
    },
    {
     "name": "stderr",
     "output_type": "stream",
     "text": [
      "E:\\Anaconda\\envs\\ML\\lib\\site-packages\\lightgbm\\basic.py:742: UserWarning: categorical_feature in param dict is overridden.\n",
      "  warnings.warn('categorical_feature in param dict is overridden.')\n"
     ]
    },
    {
     "name": "stdout",
     "output_type": "stream",
     "text": [
      "Early stopping, best iteration is:\n",
      "[149]\ttraining's auc: 0.912811\tvalid_1's auc: 0.886241\n",
      "-\n",
      "Fold 3\n",
      "Training until validation scores don't improve for 25 rounds.\n"
     ]
    },
    {
     "name": "stderr",
     "output_type": "stream",
     "text": [
      "E:\\Anaconda\\envs\\ML\\lib\\site-packages\\lightgbm\\basic.py:742: UserWarning: categorical_feature in param dict is overridden.\n",
      "  warnings.warn('categorical_feature in param dict is overridden.')\n"
     ]
    },
    {
     "name": "stdout",
     "output_type": "stream",
     "text": [
      "Early stopping, best iteration is:\n",
      "[166]\ttraining's auc: 0.916777\tvalid_1's auc: 0.882825\n",
      "-\n",
      "Fold 4\n",
      "Training until validation scores don't improve for 25 rounds.\n"
     ]
    },
    {
     "name": "stderr",
     "output_type": "stream",
     "text": [
      "E:\\Anaconda\\envs\\ML\\lib\\site-packages\\lightgbm\\basic.py:742: UserWarning: categorical_feature in param dict is overridden.\n",
      "  warnings.warn('categorical_feature in param dict is overridden.')\n"
     ]
    },
    {
     "name": "stdout",
     "output_type": "stream",
     "text": [
      "Early stopping, best iteration is:\n",
      "[164]\ttraining's auc: 0.914958\tvalid_1's auc: 0.887403\n",
      "-\n",
      "Fold 5\n",
      "Training until validation scores don't improve for 25 rounds.\n"
     ]
    },
    {
     "name": "stderr",
     "output_type": "stream",
     "text": [
      "E:\\Anaconda\\envs\\ML\\lib\\site-packages\\lightgbm\\basic.py:742: UserWarning: categorical_feature in param dict is overridden.\n",
      "  warnings.warn('categorical_feature in param dict is overridden.')\n"
     ]
    },
    {
     "name": "stdout",
     "output_type": "stream",
     "text": [
      "Early stopping, best iteration is:\n",
      "[167]\ttraining's auc: 0.916692\tvalid_1's auc: 0.885268\n",
      "\n",
      "Avg Accuracy Train Set: 83.07809918390981\n",
      "Avg Accuracy Test Set: 80.34776854004014\n",
      "\n",
      "Avg Recall: 78.17830560285496\n",
      "Avg Precision: 81.72671728845071\n",
      "16 40 0.8\n",
      "-\n",
      "Fold 1\n",
      "Training until validation scores don't improve for 25 rounds.\n"
     ]
    },
    {
     "name": "stderr",
     "output_type": "stream",
     "text": [
      "E:\\Anaconda\\envs\\ML\\lib\\site-packages\\lightgbm\\basic.py:742: UserWarning: categorical_feature in param dict is overridden.\n",
      "  warnings.warn('categorical_feature in param dict is overridden.')\n"
     ]
    },
    {
     "name": "stdout",
     "output_type": "stream",
     "text": [
      "Early stopping, best iteration is:\n",
      "[137]\ttraining's auc: 0.912458\tvalid_1's auc: 0.880671\n",
      "-\n",
      "Fold 2\n",
      "Training until validation scores don't improve for 25 rounds.\n"
     ]
    },
    {
     "name": "stderr",
     "output_type": "stream",
     "text": [
      "E:\\Anaconda\\envs\\ML\\lib\\site-packages\\lightgbm\\basic.py:742: UserWarning: categorical_feature in param dict is overridden.\n",
      "  warnings.warn('categorical_feature in param dict is overridden.')\n"
     ]
    },
    {
     "name": "stdout",
     "output_type": "stream",
     "text": [
      "Early stopping, best iteration is:\n",
      "[91]\ttraining's auc: 0.901801\tvalid_1's auc: 0.883719\n",
      "-\n",
      "Fold 3\n",
      "Training until validation scores don't improve for 25 rounds.\n"
     ]
    },
    {
     "name": "stderr",
     "output_type": "stream",
     "text": [
      "E:\\Anaconda\\envs\\ML\\lib\\site-packages\\lightgbm\\basic.py:742: UserWarning: categorical_feature in param dict is overridden.\n",
      "  warnings.warn('categorical_feature in param dict is overridden.')\n"
     ]
    },
    {
     "name": "stdout",
     "output_type": "stream",
     "text": [
      "Early stopping, best iteration is:\n",
      "[127]\ttraining's auc: 0.910333\tvalid_1's auc: 0.88196\n",
      "-\n",
      "Fold 4\n",
      "Training until validation scores don't improve for 25 rounds.\n"
     ]
    },
    {
     "name": "stderr",
     "output_type": "stream",
     "text": [
      "E:\\Anaconda\\envs\\ML\\lib\\site-packages\\lightgbm\\basic.py:742: UserWarning: categorical_feature in param dict is overridden.\n",
      "  warnings.warn('categorical_feature in param dict is overridden.')\n"
     ]
    },
    {
     "name": "stdout",
     "output_type": "stream",
     "text": [
      "Early stopping, best iteration is:\n",
      "[146]\ttraining's auc: 0.912649\tvalid_1's auc: 0.887538\n",
      "-\n",
      "Fold 5\n",
      "Training until validation scores don't improve for 25 rounds.\n"
     ]
    },
    {
     "name": "stderr",
     "output_type": "stream",
     "text": [
      "E:\\Anaconda\\envs\\ML\\lib\\site-packages\\lightgbm\\basic.py:742: UserWarning: categorical_feature in param dict is overridden.\n",
      "  warnings.warn('categorical_feature in param dict is overridden.')\n"
     ]
    },
    {
     "name": "stdout",
     "output_type": "stream",
     "text": [
      "Early stopping, best iteration is:\n",
      "[162]\ttraining's auc: 0.915823\tvalid_1's auc: 0.884333\n",
      "\n",
      "Avg Accuracy Train Set: 82.7918179620908\n",
      "Avg Accuracy Test Set: 80.24794413431252\n",
      "\n",
      "Avg Recall: 78.03144146161625\n",
      "Avg Precision: 81.65598421936149\n",
      "16 40 0.9\n",
      "-\n",
      "Fold 1\n",
      "Training until validation scores don't improve for 25 rounds.\n"
     ]
    },
    {
     "name": "stderr",
     "output_type": "stream",
     "text": [
      "E:\\Anaconda\\envs\\ML\\lib\\site-packages\\lightgbm\\basic.py:742: UserWarning: categorical_feature in param dict is overridden.\n",
      "  warnings.warn('categorical_feature in param dict is overridden.')\n"
     ]
    },
    {
     "name": "stdout",
     "output_type": "stream",
     "text": [
      "Early stopping, best iteration is:\n",
      "[103]\ttraining's auc: 0.90633\tvalid_1's auc: 0.879822\n",
      "-\n",
      "Fold 2\n",
      "Training until validation scores don't improve for 25 rounds.\n"
     ]
    },
    {
     "name": "stderr",
     "output_type": "stream",
     "text": [
      "E:\\Anaconda\\envs\\ML\\lib\\site-packages\\lightgbm\\basic.py:742: UserWarning: categorical_feature in param dict is overridden.\n",
      "  warnings.warn('categorical_feature in param dict is overridden.')\n"
     ]
    },
    {
     "name": "stdout",
     "output_type": "stream",
     "text": [
      "[200]\ttraining's auc: 0.922287\tvalid_1's auc: 0.885011\n",
      "Early stopping, best iteration is:\n",
      "[175]\ttraining's auc: 0.918758\tvalid_1's auc: 0.88544\n",
      "-\n",
      "Fold 3\n",
      "Training until validation scores don't improve for 25 rounds.\n"
     ]
    },
    {
     "name": "stderr",
     "output_type": "stream",
     "text": [
      "E:\\Anaconda\\envs\\ML\\lib\\site-packages\\lightgbm\\basic.py:742: UserWarning: categorical_feature in param dict is overridden.\n",
      "  warnings.warn('categorical_feature in param dict is overridden.')\n"
     ]
    },
    {
     "name": "stdout",
     "output_type": "stream",
     "text": [
      "Early stopping, best iteration is:\n",
      "[104]\ttraining's auc: 0.905405\tvalid_1's auc: 0.881306\n",
      "-\n",
      "Fold 4\n",
      "Training until validation scores don't improve for 25 rounds.\n"
     ]
    },
    {
     "name": "stderr",
     "output_type": "stream",
     "text": [
      "E:\\Anaconda\\envs\\ML\\lib\\site-packages\\lightgbm\\basic.py:742: UserWarning: categorical_feature in param dict is overridden.\n",
      "  warnings.warn('categorical_feature in param dict is overridden.')\n"
     ]
    },
    {
     "name": "stdout",
     "output_type": "stream",
     "text": [
      "Early stopping, best iteration is:\n",
      "[112]\ttraining's auc: 0.906868\tvalid_1's auc: 0.887455\n",
      "-\n",
      "Fold 5\n",
      "Training until validation scores don't improve for 25 rounds.\n"
     ]
    },
    {
     "name": "stderr",
     "output_type": "stream",
     "text": [
      "E:\\Anaconda\\envs\\ML\\lib\\site-packages\\lightgbm\\basic.py:742: UserWarning: categorical_feature in param dict is overridden.\n",
      "  warnings.warn('categorical_feature in param dict is overridden.')\n"
     ]
    },
    {
     "name": "stdout",
     "output_type": "stream",
     "text": [
      "Early stopping, best iteration is:\n",
      "[101]\ttraining's auc: 0.904942\tvalid_1's auc: 0.883863\n",
      "\n",
      "Avg Accuracy Train Set: 82.6499762327357\n",
      "Avg Accuracy Test Set: 80.24272100487161\n",
      "\n",
      "Avg Recall: 77.86127063759672\n",
      "Avg Precision: 81.75585068970598\n",
      "16 40 1.0\n",
      "-\n",
      "Fold 1\n",
      "Training until validation scores don't improve for 25 rounds.\n"
     ]
    },
    {
     "name": "stderr",
     "output_type": "stream",
     "text": [
      "E:\\Anaconda\\envs\\ML\\lib\\site-packages\\lightgbm\\basic.py:742: UserWarning: categorical_feature in param dict is overridden.\n",
      "  warnings.warn('categorical_feature in param dict is overridden.')\n"
     ]
    },
    {
     "name": "stdout",
     "output_type": "stream",
     "text": [
      "Early stopping, best iteration is:\n",
      "[90]\ttraining's auc: 0.903759\tvalid_1's auc: 0.880716\n",
      "-\n",
      "Fold 2\n",
      "Training until validation scores don't improve for 25 rounds.\n"
     ]
    },
    {
     "name": "stderr",
     "output_type": "stream",
     "text": [
      "E:\\Anaconda\\envs\\ML\\lib\\site-packages\\lightgbm\\basic.py:742: UserWarning: categorical_feature in param dict is overridden.\n",
      "  warnings.warn('categorical_feature in param dict is overridden.')\n"
     ]
    },
    {
     "name": "stdout",
     "output_type": "stream",
     "text": [
      "Early stopping, best iteration is:\n",
      "[92]\ttraining's auc: 0.903534\tvalid_1's auc: 0.884706\n",
      "-\n",
      "Fold 3\n",
      "Training until validation scores don't improve for 25 rounds.\n"
     ]
    },
    {
     "name": "stderr",
     "output_type": "stream",
     "text": [
      "E:\\Anaconda\\envs\\ML\\lib\\site-packages\\lightgbm\\basic.py:742: UserWarning: categorical_feature in param dict is overridden.\n",
      "  warnings.warn('categorical_feature in param dict is overridden.')\n"
     ]
    },
    {
     "name": "stdout",
     "output_type": "stream",
     "text": [
      "Early stopping, best iteration is:\n",
      "[118]\ttraining's auc: 0.909398\tvalid_1's auc: 0.881884\n",
      "-\n",
      "Fold 4\n",
      "Training until validation scores don't improve for 25 rounds.\n"
     ]
    },
    {
     "name": "stderr",
     "output_type": "stream",
     "text": [
      "E:\\Anaconda\\envs\\ML\\lib\\site-packages\\lightgbm\\basic.py:742: UserWarning: categorical_feature in param dict is overridden.\n",
      "  warnings.warn('categorical_feature in param dict is overridden.')\n"
     ]
    },
    {
     "name": "stdout",
     "output_type": "stream",
     "text": [
      "Early stopping, best iteration is:\n",
      "[148]\ttraining's auc: 0.913967\tvalid_1's auc: 0.887233\n",
      "-\n",
      "Fold 5\n",
      "Training until validation scores don't improve for 25 rounds.\n"
     ]
    },
    {
     "name": "stderr",
     "output_type": "stream",
     "text": [
      "E:\\Anaconda\\envs\\ML\\lib\\site-packages\\lightgbm\\basic.py:742: UserWarning: categorical_feature in param dict is overridden.\n",
      "  warnings.warn('categorical_feature in param dict is overridden.')\n"
     ]
    },
    {
     "name": "stdout",
     "output_type": "stream",
     "text": [
      "Early stopping, best iteration is:\n",
      "[157]\ttraining's auc: 0.915254\tvalid_1's auc: 0.884668\n",
      "\n",
      "Avg Accuracy Train Set: 82.6512850320498\n",
      "Avg Accuracy Test Set: 80.27948846993486\n",
      "\n",
      "Avg Recall: 77.9983602665817\n",
      "Avg Precision: 81.7300767845378\n",
      "16 45 0.5\n",
      "-\n",
      "Fold 1\n",
      "Training until validation scores don't improve for 25 rounds.\n"
     ]
    },
    {
     "name": "stderr",
     "output_type": "stream",
     "text": [
      "E:\\Anaconda\\envs\\ML\\lib\\site-packages\\lightgbm\\basic.py:742: UserWarning: categorical_feature in param dict is overridden.\n",
      "  warnings.warn('categorical_feature in param dict is overridden.')\n"
     ]
    },
    {
     "name": "stdout",
     "output_type": "stream",
     "text": [
      "Early stopping, best iteration is:\n",
      "[85]\ttraining's auc: 0.900388\tvalid_1's auc: 0.880632\n",
      "-\n",
      "Fold 2\n",
      "Training until validation scores don't improve for 25 rounds.\n"
     ]
    },
    {
     "name": "stderr",
     "output_type": "stream",
     "text": [
      "E:\\Anaconda\\envs\\ML\\lib\\site-packages\\lightgbm\\basic.py:742: UserWarning: categorical_feature in param dict is overridden.\n",
      "  warnings.warn('categorical_feature in param dict is overridden.')\n"
     ]
    },
    {
     "name": "stdout",
     "output_type": "stream",
     "text": [
      "Early stopping, best iteration is:\n",
      "[160]\ttraining's auc: 0.912055\tvalid_1's auc: 0.885663\n",
      "-\n",
      "Fold 3\n",
      "Training until validation scores don't improve for 25 rounds.\n"
     ]
    },
    {
     "name": "stderr",
     "output_type": "stream",
     "text": [
      "E:\\Anaconda\\envs\\ML\\lib\\site-packages\\lightgbm\\basic.py:742: UserWarning: categorical_feature in param dict is overridden.\n",
      "  warnings.warn('categorical_feature in param dict is overridden.')\n"
     ]
    },
    {
     "name": "stdout",
     "output_type": "stream",
     "text": [
      "Early stopping, best iteration is:\n",
      "[135]\ttraining's auc: 0.908942\tvalid_1's auc: 0.882902\n",
      "-\n",
      "Fold 4\n",
      "Training until validation scores don't improve for 25 rounds.\n"
     ]
    },
    {
     "name": "stderr",
     "output_type": "stream",
     "text": [
      "E:\\Anaconda\\envs\\ML\\lib\\site-packages\\lightgbm\\basic.py:742: UserWarning: categorical_feature in param dict is overridden.\n",
      "  warnings.warn('categorical_feature in param dict is overridden.')\n"
     ]
    },
    {
     "name": "stdout",
     "output_type": "stream",
     "text": [
      "Early stopping, best iteration is:\n",
      "[155]\ttraining's auc: 0.911331\tvalid_1's auc: 0.889016\n",
      "-\n",
      "Fold 5\n",
      "Training until validation scores don't improve for 25 rounds.\n"
     ]
    },
    {
     "name": "stderr",
     "output_type": "stream",
     "text": [
      "E:\\Anaconda\\envs\\ML\\lib\\site-packages\\lightgbm\\basic.py:742: UserWarning: categorical_feature in param dict is overridden.\n",
      "  warnings.warn('categorical_feature in param dict is overridden.')\n"
     ]
    },
    {
     "name": "stdout",
     "output_type": "stream",
     "text": [
      "Early stopping, best iteration is:\n",
      "[170]\ttraining's auc: 0.914647\tvalid_1's auc: 0.884713\n",
      "\n",
      "Avg Accuracy Train Set: 82.68148797373321\n",
      "Avg Accuracy Test Set: 80.19016550670702\n",
      "\n",
      "Avg Recall: 77.91633867824626\n",
      "Avg Precision: 81.6296303678229\n",
      "16 45 0.6000000000000001\n",
      "-\n",
      "Fold 1\n",
      "Training until validation scores don't improve for 25 rounds.\n"
     ]
    },
    {
     "name": "stderr",
     "output_type": "stream",
     "text": [
      "E:\\Anaconda\\envs\\ML\\lib\\site-packages\\lightgbm\\basic.py:742: UserWarning: categorical_feature in param dict is overridden.\n",
      "  warnings.warn('categorical_feature in param dict is overridden.')\n"
     ]
    },
    {
     "name": "stdout",
     "output_type": "stream",
     "text": [
      "Early stopping, best iteration is:\n",
      "[77]\ttraining's auc: 0.899162\tvalid_1's auc: 0.881383\n",
      "-\n",
      "Fold 2\n",
      "Training until validation scores don't improve for 25 rounds.\n"
     ]
    },
    {
     "name": "stderr",
     "output_type": "stream",
     "text": [
      "E:\\Anaconda\\envs\\ML\\lib\\site-packages\\lightgbm\\basic.py:742: UserWarning: categorical_feature in param dict is overridden.\n",
      "  warnings.warn('categorical_feature in param dict is overridden.')\n"
     ]
    },
    {
     "name": "stdout",
     "output_type": "stream",
     "text": [
      "Early stopping, best iteration is:\n",
      "[108]\ttraining's auc: 0.904645\tvalid_1's auc: 0.885867\n",
      "-\n",
      "Fold 3\n",
      "Training until validation scores don't improve for 25 rounds.\n"
     ]
    },
    {
     "name": "stderr",
     "output_type": "stream",
     "text": [
      "E:\\Anaconda\\envs\\ML\\lib\\site-packages\\lightgbm\\basic.py:742: UserWarning: categorical_feature in param dict is overridden.\n",
      "  warnings.warn('categorical_feature in param dict is overridden.')\n"
     ]
    },
    {
     "name": "stdout",
     "output_type": "stream",
     "text": [
      "Early stopping, best iteration is:\n",
      "[171]\ttraining's auc: 0.915813\tvalid_1's auc: 0.881643\n",
      "-\n",
      "Fold 4\n",
      "Training until validation scores don't improve for 25 rounds.\n"
     ]
    },
    {
     "name": "stderr",
     "output_type": "stream",
     "text": [
      "E:\\Anaconda\\envs\\ML\\lib\\site-packages\\lightgbm\\basic.py:742: UserWarning: categorical_feature in param dict is overridden.\n",
      "  warnings.warn('categorical_feature in param dict is overridden.')\n"
     ]
    },
    {
     "name": "stdout",
     "output_type": "stream",
     "text": [
      "Early stopping, best iteration is:\n",
      "[121]\ttraining's auc: 0.906654\tvalid_1's auc: 0.887857\n",
      "-\n",
      "Fold 5\n",
      "Training until validation scores don't improve for 25 rounds.\n"
     ]
    },
    {
     "name": "stderr",
     "output_type": "stream",
     "text": [
      "E:\\Anaconda\\envs\\ML\\lib\\site-packages\\lightgbm\\basic.py:742: UserWarning: categorical_feature in param dict is overridden.\n",
      "  warnings.warn('categorical_feature in param dict is overridden.')\n"
     ]
    },
    {
     "name": "stdout",
     "output_type": "stream",
     "text": [
      "Early stopping, best iteration is:\n",
      "[170]\ttraining's auc: 0.915514\tvalid_1's auc: 0.884953\n",
      "\n",
      "Avg Accuracy Train Set: 82.56460113883824\n",
      "Avg Accuracy Test Set: 80.22694538808432\n",
      "\n",
      "Avg Recall: 77.9772050965058\n",
      "Avg Precision: 81.65201633742157\n",
      "16 45 0.7000000000000001\n",
      "-\n",
      "Fold 1\n",
      "Training until validation scores don't improve for 25 rounds.\n"
     ]
    },
    {
     "name": "stderr",
     "output_type": "stream",
     "text": [
      "E:\\Anaconda\\envs\\ML\\lib\\site-packages\\lightgbm\\basic.py:742: UserWarning: categorical_feature in param dict is overridden.\n",
      "  warnings.warn('categorical_feature in param dict is overridden.')\n"
     ]
    },
    {
     "name": "stdout",
     "output_type": "stream",
     "text": [
      "Early stopping, best iteration is:\n",
      "[89]\ttraining's auc: 0.903048\tvalid_1's auc: 0.880662\n",
      "-\n",
      "Fold 2\n",
      "Training until validation scores don't improve for 25 rounds.\n"
     ]
    },
    {
     "name": "stderr",
     "output_type": "stream",
     "text": [
      "E:\\Anaconda\\envs\\ML\\lib\\site-packages\\lightgbm\\basic.py:742: UserWarning: categorical_feature in param dict is overridden.\n",
      "  warnings.warn('categorical_feature in param dict is overridden.')\n"
     ]
    },
    {
     "name": "stdout",
     "output_type": "stream",
     "text": [
      "Early stopping, best iteration is:\n",
      "[138]\ttraining's auc: 0.910695\tvalid_1's auc: 0.884943\n",
      "-\n",
      "Fold 3\n",
      "Training until validation scores don't improve for 25 rounds.\n"
     ]
    },
    {
     "name": "stderr",
     "output_type": "stream",
     "text": [
      "E:\\Anaconda\\envs\\ML\\lib\\site-packages\\lightgbm\\basic.py:742: UserWarning: categorical_feature in param dict is overridden.\n",
      "  warnings.warn('categorical_feature in param dict is overridden.')\n"
     ]
    },
    {
     "name": "stdout",
     "output_type": "stream",
     "text": [
      "Early stopping, best iteration is:\n",
      "[127]\ttraining's auc: 0.909556\tvalid_1's auc: 0.882701\n",
      "-\n",
      "Fold 4\n",
      "Training until validation scores don't improve for 25 rounds.\n"
     ]
    },
    {
     "name": "stderr",
     "output_type": "stream",
     "text": [
      "E:\\Anaconda\\envs\\ML\\lib\\site-packages\\lightgbm\\basic.py:742: UserWarning: categorical_feature in param dict is overridden.\n",
      "  warnings.warn('categorical_feature in param dict is overridden.')\n"
     ]
    },
    {
     "name": "stdout",
     "output_type": "stream",
     "text": [
      "Early stopping, best iteration is:\n",
      "[147]\ttraining's auc: 0.911986\tvalid_1's auc: 0.886951\n",
      "-\n",
      "Fold 5\n",
      "Training until validation scores don't improve for 25 rounds.\n"
     ]
    },
    {
     "name": "stderr",
     "output_type": "stream",
     "text": [
      "E:\\Anaconda\\envs\\ML\\lib\\site-packages\\lightgbm\\basic.py:742: UserWarning: categorical_feature in param dict is overridden.\n",
      "  warnings.warn('categorical_feature in param dict is overridden.')\n"
     ]
    },
    {
     "name": "stdout",
     "output_type": "stream",
     "text": [
      "Early stopping, best iteration is:\n",
      "[115]\ttraining's auc: 0.90678\tvalid_1's auc: 0.88454\n",
      "\n",
      "Avg Accuracy Train Set: 82.64603137913625\n",
      "Avg Accuracy Test Set: 80.40029644639574\n",
      "\n",
      "Avg Recall: 77.89201305182928\n",
      "Avg Precision: 82.00494025522815\n",
      "16 45 0.8\n",
      "-\n",
      "Fold 1\n",
      "Training until validation scores don't improve for 25 rounds.\n"
     ]
    },
    {
     "name": "stderr",
     "output_type": "stream",
     "text": [
      "E:\\Anaconda\\envs\\ML\\lib\\site-packages\\lightgbm\\basic.py:742: UserWarning: categorical_feature in param dict is overridden.\n",
      "  warnings.warn('categorical_feature in param dict is overridden.')\n"
     ]
    },
    {
     "name": "stdout",
     "output_type": "stream",
     "text": [
      "Early stopping, best iteration is:\n",
      "[93]\ttraining's auc: 0.903551\tvalid_1's auc: 0.880259\n",
      "-\n",
      "Fold 2\n",
      "Training until validation scores don't improve for 25 rounds.\n"
     ]
    },
    {
     "name": "stderr",
     "output_type": "stream",
     "text": [
      "E:\\Anaconda\\envs\\ML\\lib\\site-packages\\lightgbm\\basic.py:742: UserWarning: categorical_feature in param dict is overridden.\n",
      "  warnings.warn('categorical_feature in param dict is overridden.')\n"
     ]
    },
    {
     "name": "stdout",
     "output_type": "stream",
     "text": [
      "Early stopping, best iteration is:\n",
      "[166]\ttraining's auc: 0.916478\tvalid_1's auc: 0.88515\n",
      "-\n",
      "Fold 3\n",
      "Training until validation scores don't improve for 25 rounds.\n"
     ]
    },
    {
     "name": "stderr",
     "output_type": "stream",
     "text": [
      "E:\\Anaconda\\envs\\ML\\lib\\site-packages\\lightgbm\\basic.py:742: UserWarning: categorical_feature in param dict is overridden.\n",
      "  warnings.warn('categorical_feature in param dict is overridden.')\n"
     ]
    },
    {
     "name": "stdout",
     "output_type": "stream",
     "text": [
      "Early stopping, best iteration is:\n",
      "[164]\ttraining's auc: 0.916262\tvalid_1's auc: 0.88187\n",
      "-\n",
      "Fold 4\n",
      "Training until validation scores don't improve for 25 rounds.\n"
     ]
    },
    {
     "name": "stderr",
     "output_type": "stream",
     "text": [
      "E:\\Anaconda\\envs\\ML\\lib\\site-packages\\lightgbm\\basic.py:742: UserWarning: categorical_feature in param dict is overridden.\n",
      "  warnings.warn('categorical_feature in param dict is overridden.')\n"
     ]
    },
    {
     "name": "stdout",
     "output_type": "stream",
     "text": [
      "Early stopping, best iteration is:\n",
      "[94]\ttraining's auc: 0.90218\tvalid_1's auc: 0.887939\n",
      "-\n",
      "Fold 5\n",
      "Training until validation scores don't improve for 25 rounds.\n"
     ]
    },
    {
     "name": "stderr",
     "output_type": "stream",
     "text": [
      "E:\\Anaconda\\envs\\ML\\lib\\site-packages\\lightgbm\\basic.py:742: UserWarning: categorical_feature in param dict is overridden.\n",
      "  warnings.warn('categorical_feature in param dict is overridden.')\n"
     ]
    },
    {
     "name": "stdout",
     "output_type": "stream",
     "text": [
      "Early stopping, best iteration is:\n",
      "[156]\ttraining's auc: 0.914675\tvalid_1's auc: 0.884365\n",
      "\n",
      "Avg Accuracy Train Set: 82.87848486574882\n",
      "Avg Accuracy Test Set: 80.17966544379769\n",
      "\n",
      "Avg Recall: 77.8411132321369\n",
      "Avg Precision: 81.66161297970584\n",
      "16 45 0.9\n",
      "-\n",
      "Fold 1\n",
      "Training until validation scores don't improve for 25 rounds.\n"
     ]
    },
    {
     "name": "stderr",
     "output_type": "stream",
     "text": [
      "E:\\Anaconda\\envs\\ML\\lib\\site-packages\\lightgbm\\basic.py:742: UserWarning: categorical_feature in param dict is overridden.\n",
      "  warnings.warn('categorical_feature in param dict is overridden.')\n"
     ]
    },
    {
     "name": "stdout",
     "output_type": "stream",
     "text": [
      "Early stopping, best iteration is:\n",
      "[101]\ttraining's auc: 0.905087\tvalid_1's auc: 0.879947\n",
      "-\n",
      "Fold 2\n",
      "Training until validation scores don't improve for 25 rounds.\n"
     ]
    },
    {
     "name": "stderr",
     "output_type": "stream",
     "text": [
      "E:\\Anaconda\\envs\\ML\\lib\\site-packages\\lightgbm\\basic.py:742: UserWarning: categorical_feature in param dict is overridden.\n",
      "  warnings.warn('categorical_feature in param dict is overridden.')\n"
     ]
    },
    {
     "name": "stdout",
     "output_type": "stream",
     "text": [
      "Early stopping, best iteration is:\n",
      "[138]\ttraining's auc: 0.911908\tvalid_1's auc: 0.885138\n",
      "-\n",
      "Fold 3\n",
      "Training until validation scores don't improve for 25 rounds.\n"
     ]
    },
    {
     "name": "stderr",
     "output_type": "stream",
     "text": [
      "E:\\Anaconda\\envs\\ML\\lib\\site-packages\\lightgbm\\basic.py:742: UserWarning: categorical_feature in param dict is overridden.\n",
      "  warnings.warn('categorical_feature in param dict is overridden.')\n"
     ]
    },
    {
     "name": "stdout",
     "output_type": "stream",
     "text": [
      "Early stopping, best iteration is:\n",
      "[106]\ttraining's auc: 0.906668\tvalid_1's auc: 0.882234\n",
      "-\n",
      "Fold 4\n",
      "Training until validation scores don't improve for 25 rounds.\n"
     ]
    },
    {
     "name": "stderr",
     "output_type": "stream",
     "text": [
      "E:\\Anaconda\\envs\\ML\\lib\\site-packages\\lightgbm\\basic.py:742: UserWarning: categorical_feature in param dict is overridden.\n",
      "  warnings.warn('categorical_feature in param dict is overridden.')\n"
     ]
    },
    {
     "name": "stdout",
     "output_type": "stream",
     "text": [
      "Early stopping, best iteration is:\n",
      "[148]\ttraining's auc: 0.912434\tvalid_1's auc: 0.887559\n",
      "-\n",
      "Fold 5\n",
      "Training until validation scores don't improve for 25 rounds.\n"
     ]
    },
    {
     "name": "stderr",
     "output_type": "stream",
     "text": [
      "E:\\Anaconda\\envs\\ML\\lib\\site-packages\\lightgbm\\basic.py:742: UserWarning: categorical_feature in param dict is overridden.\n",
      "  warnings.warn('categorical_feature in param dict is overridden.')\n"
     ]
    },
    {
     "name": "stdout",
     "output_type": "stream",
     "text": [
      "[200]\ttraining's auc: 0.922019\tvalid_1's auc: 0.884636\n",
      "Early stopping, best iteration is:\n",
      "[234]\ttraining's auc: 0.926936\tvalid_1's auc: 0.884832\n",
      "\n",
      "Avg Accuracy Train Set: 83.01900589447817\n",
      "Avg Accuracy Test Set: 80.15865704043635\n",
      "\n",
      "Avg Recall: 77.82931279856696\n",
      "Avg Precision: 81.63586216474955\n",
      "16 45 1.0\n",
      "-\n",
      "Fold 1\n",
      "Training until validation scores don't improve for 25 rounds.\n"
     ]
    },
    {
     "name": "stderr",
     "output_type": "stream",
     "text": [
      "E:\\Anaconda\\envs\\ML\\lib\\site-packages\\lightgbm\\basic.py:742: UserWarning: categorical_feature in param dict is overridden.\n",
      "  warnings.warn('categorical_feature in param dict is overridden.')\n"
     ]
    },
    {
     "name": "stdout",
     "output_type": "stream",
     "text": [
      "Early stopping, best iteration is:\n",
      "[120]\ttraining's auc: 0.910122\tvalid_1's auc: 0.88029\n",
      "-\n",
      "Fold 2\n",
      "Training until validation scores don't improve for 25 rounds.\n"
     ]
    },
    {
     "name": "stderr",
     "output_type": "stream",
     "text": [
      "E:\\Anaconda\\envs\\ML\\lib\\site-packages\\lightgbm\\basic.py:742: UserWarning: categorical_feature in param dict is overridden.\n",
      "  warnings.warn('categorical_feature in param dict is overridden.')\n"
     ]
    },
    {
     "name": "stdout",
     "output_type": "stream",
     "text": [
      "Early stopping, best iteration is:\n",
      "[92]\ttraining's auc: 0.903047\tvalid_1's auc: 0.88494\n",
      "-\n",
      "Fold 3\n",
      "Training until validation scores don't improve for 25 rounds.\n"
     ]
    },
    {
     "name": "stderr",
     "output_type": "stream",
     "text": [
      "E:\\Anaconda\\envs\\ML\\lib\\site-packages\\lightgbm\\basic.py:742: UserWarning: categorical_feature in param dict is overridden.\n",
      "  warnings.warn('categorical_feature in param dict is overridden.')\n"
     ]
    },
    {
     "name": "stdout",
     "output_type": "stream",
     "text": [
      "[200]\ttraining's auc: 0.923236\tvalid_1's auc: 0.881681\n",
      "Early stopping, best iteration is:\n",
      "[180]\ttraining's auc: 0.92002\tvalid_1's auc: 0.882024\n",
      "-\n",
      "Fold 4\n",
      "Training until validation scores don't improve for 25 rounds.\n"
     ]
    },
    {
     "name": "stderr",
     "output_type": "stream",
     "text": [
      "E:\\Anaconda\\envs\\ML\\lib\\site-packages\\lightgbm\\basic.py:742: UserWarning: categorical_feature in param dict is overridden.\n",
      "  warnings.warn('categorical_feature in param dict is overridden.')\n"
     ]
    },
    {
     "name": "stdout",
     "output_type": "stream",
     "text": [
      "Early stopping, best iteration is:\n",
      "[124]\ttraining's auc: 0.909267\tvalid_1's auc: 0.886806\n",
      "-\n",
      "Fold 5\n",
      "Training until validation scores don't improve for 25 rounds.\n"
     ]
    },
    {
     "name": "stderr",
     "output_type": "stream",
     "text": [
      "E:\\Anaconda\\envs\\ML\\lib\\site-packages\\lightgbm\\basic.py:742: UserWarning: categorical_feature in param dict is overridden.\n",
      "  warnings.warn('categorical_feature in param dict is overridden.')\n"
     ]
    },
    {
     "name": "stdout",
     "output_type": "stream",
     "text": [
      "Early stopping, best iteration is:\n",
      "[143]\ttraining's auc: 0.913677\tvalid_1's auc: 0.884433\n",
      "\n",
      "Avg Accuracy Train Set: 82.86535720156905\n",
      "Avg Accuracy Test Set: 80.19540933000465\n",
      "\n",
      "Avg Recall: 77.90380994363431\n",
      "Avg Precision: 81.65012552266286\n",
      "16 50 0.5\n",
      "-\n",
      "Fold 1\n",
      "Training until validation scores don't improve for 25 rounds.\n"
     ]
    },
    {
     "name": "stderr",
     "output_type": "stream",
     "text": [
      "E:\\Anaconda\\envs\\ML\\lib\\site-packages\\lightgbm\\basic.py:742: UserWarning: categorical_feature in param dict is overridden.\n",
      "  warnings.warn('categorical_feature in param dict is overridden.')\n"
     ]
    },
    {
     "name": "stdout",
     "output_type": "stream",
     "text": [
      "Early stopping, best iteration is:\n",
      "[87]\ttraining's auc: 0.900845\tvalid_1's auc: 0.880862\n",
      "-\n",
      "Fold 2\n",
      "Training until validation scores don't improve for 25 rounds.\n"
     ]
    },
    {
     "name": "stderr",
     "output_type": "stream",
     "text": [
      "E:\\Anaconda\\envs\\ML\\lib\\site-packages\\lightgbm\\basic.py:742: UserWarning: categorical_feature in param dict is overridden.\n",
      "  warnings.warn('categorical_feature in param dict is overridden.')\n"
     ]
    },
    {
     "name": "stdout",
     "output_type": "stream",
     "text": [
      "Early stopping, best iteration is:\n",
      "[89]\ttraining's auc: 0.900401\tvalid_1's auc: 0.884927\n",
      "-\n",
      "Fold 3\n",
      "Training until validation scores don't improve for 25 rounds.\n"
     ]
    },
    {
     "name": "stderr",
     "output_type": "stream",
     "text": [
      "E:\\Anaconda\\envs\\ML\\lib\\site-packages\\lightgbm\\basic.py:742: UserWarning: categorical_feature in param dict is overridden.\n",
      "  warnings.warn('categorical_feature in param dict is overridden.')\n"
     ]
    },
    {
     "name": "stdout",
     "output_type": "stream",
     "text": [
      "[200]\ttraining's auc: 0.918029\tvalid_1's auc: 0.884989\n",
      "Early stopping, best iteration is:\n",
      "[186]\ttraining's auc: 0.916244\tvalid_1's auc: 0.885212\n",
      "-\n",
      "Fold 4\n",
      "Training until validation scores don't improve for 25 rounds.\n"
     ]
    },
    {
     "name": "stderr",
     "output_type": "stream",
     "text": [
      "E:\\Anaconda\\envs\\ML\\lib\\site-packages\\lightgbm\\basic.py:742: UserWarning: categorical_feature in param dict is overridden.\n",
      "  warnings.warn('categorical_feature in param dict is overridden.')\n"
     ]
    },
    {
     "name": "stdout",
     "output_type": "stream",
     "text": [
      "Early stopping, best iteration is:\n",
      "[124]\ttraining's auc: 0.906004\tvalid_1's auc: 0.888422\n",
      "-\n",
      "Fold 5\n",
      "Training until validation scores don't improve for 25 rounds.\n"
     ]
    },
    {
     "name": "stderr",
     "output_type": "stream",
     "text": [
      "E:\\Anaconda\\envs\\ML\\lib\\site-packages\\lightgbm\\basic.py:742: UserWarning: categorical_feature in param dict is overridden.\n",
      "  warnings.warn('categorical_feature in param dict is overridden.')\n"
     ]
    },
    {
     "name": "stdout",
     "output_type": "stream",
     "text": [
      "Early stopping, best iteration is:\n",
      "[123]\ttraining's auc: 0.907252\tvalid_1's auc: 0.883621\n",
      "\n",
      "Avg Accuracy Train Set: 82.37549317784908\n",
      "Avg Accuracy Test Set: 80.31098038112013\n",
      "\n",
      "Avg Recall: 78.12503073206908\n",
      "Avg Precision: 81.69973074222723\n",
      "16 50 0.6000000000000001\n",
      "-\n",
      "Fold 1\n",
      "Training until validation scores don't improve for 25 rounds.\n"
     ]
    },
    {
     "name": "stderr",
     "output_type": "stream",
     "text": [
      "E:\\Anaconda\\envs\\ML\\lib\\site-packages\\lightgbm\\basic.py:742: UserWarning: categorical_feature in param dict is overridden.\n",
      "  warnings.warn('categorical_feature in param dict is overridden.')\n"
     ]
    },
    {
     "name": "stdout",
     "output_type": "stream",
     "text": [
      "Early stopping, best iteration is:\n",
      "[95]\ttraining's auc: 0.903242\tvalid_1's auc: 0.881194\n",
      "-\n",
      "Fold 2\n",
      "Training until validation scores don't improve for 25 rounds.\n"
     ]
    },
    {
     "name": "stderr",
     "output_type": "stream",
     "text": [
      "E:\\Anaconda\\envs\\ML\\lib\\site-packages\\lightgbm\\basic.py:742: UserWarning: categorical_feature in param dict is overridden.\n",
      "  warnings.warn('categorical_feature in param dict is overridden.')\n"
     ]
    },
    {
     "name": "stdout",
     "output_type": "stream",
     "text": [
      "Early stopping, best iteration is:\n",
      "[113]\ttraining's auc: 0.904683\tvalid_1's auc: 0.885381\n",
      "-\n",
      "Fold 3\n",
      "Training until validation scores don't improve for 25 rounds.\n"
     ]
    },
    {
     "name": "stderr",
     "output_type": "stream",
     "text": [
      "E:\\Anaconda\\envs\\ML\\lib\\site-packages\\lightgbm\\basic.py:742: UserWarning: categorical_feature in param dict is overridden.\n",
      "  warnings.warn('categorical_feature in param dict is overridden.')\n"
     ]
    },
    {
     "name": "stdout",
     "output_type": "stream",
     "text": [
      "Early stopping, best iteration is:\n",
      "[119]\ttraining's auc: 0.907576\tvalid_1's auc: 0.882186\n",
      "-\n",
      "Fold 4\n",
      "Training until validation scores don't improve for 25 rounds.\n"
     ]
    },
    {
     "name": "stderr",
     "output_type": "stream",
     "text": [
      "E:\\Anaconda\\envs\\ML\\lib\\site-packages\\lightgbm\\basic.py:742: UserWarning: categorical_feature in param dict is overridden.\n",
      "  warnings.warn('categorical_feature in param dict is overridden.')\n"
     ]
    },
    {
     "name": "stdout",
     "output_type": "stream",
     "text": [
      "[200]\ttraining's auc: 0.917836\tvalid_1's auc: 0.8875\n",
      "Early stopping, best iteration is:\n",
      "[176]\ttraining's auc: 0.914553\tvalid_1's auc: 0.887739\n",
      "-\n",
      "Fold 5\n",
      "Training until validation scores don't improve for 25 rounds.\n"
     ]
    },
    {
     "name": "stderr",
     "output_type": "stream",
     "text": [
      "E:\\Anaconda\\envs\\ML\\lib\\site-packages\\lightgbm\\basic.py:742: UserWarning: categorical_feature in param dict is overridden.\n",
      "  warnings.warn('categorical_feature in param dict is overridden.')\n"
     ]
    },
    {
     "name": "stdout",
     "output_type": "stream",
     "text": [
      "Early stopping, best iteration is:\n",
      "[161]\ttraining's auc: 0.913921\tvalid_1's auc: 0.884712\n",
      "\n",
      "Avg Accuracy Train Set: 82.59612598852682\n",
      "Avg Accuracy Test Set: 80.36353036092294\n",
      "\n",
      "Avg Recall: 77.92573362242062\n",
      "Avg Precision: 81.92089940384184\n",
      "16 50 0.7000000000000001\n",
      "-\n",
      "Fold 1\n",
      "Training until validation scores don't improve for 25 rounds.\n"
     ]
    },
    {
     "name": "stderr",
     "output_type": "stream",
     "text": [
      "E:\\Anaconda\\envs\\ML\\lib\\site-packages\\lightgbm\\basic.py:742: UserWarning: categorical_feature in param dict is overridden.\n",
      "  warnings.warn('categorical_feature in param dict is overridden.')\n"
     ]
    },
    {
     "name": "stdout",
     "output_type": "stream",
     "text": [
      "Early stopping, best iteration is:\n",
      "[84]\ttraining's auc: 0.901365\tvalid_1's auc: 0.88015\n",
      "-\n",
      "Fold 2\n",
      "Training until validation scores don't improve for 25 rounds.\n"
     ]
    },
    {
     "name": "stderr",
     "output_type": "stream",
     "text": [
      "E:\\Anaconda\\envs\\ML\\lib\\site-packages\\lightgbm\\basic.py:742: UserWarning: categorical_feature in param dict is overridden.\n",
      "  warnings.warn('categorical_feature in param dict is overridden.')\n"
     ]
    },
    {
     "name": "stdout",
     "output_type": "stream",
     "text": [
      "Early stopping, best iteration is:\n",
      "[92]\ttraining's auc: 0.901607\tvalid_1's auc: 0.884447\n",
      "-\n",
      "Fold 3\n",
      "Training until validation scores don't improve for 25 rounds.\n"
     ]
    },
    {
     "name": "stderr",
     "output_type": "stream",
     "text": [
      "E:\\Anaconda\\envs\\ML\\lib\\site-packages\\lightgbm\\basic.py:742: UserWarning: categorical_feature in param dict is overridden.\n",
      "  warnings.warn('categorical_feature in param dict is overridden.')\n"
     ]
    },
    {
     "name": "stdout",
     "output_type": "stream",
     "text": [
      "Early stopping, best iteration is:\n",
      "[163]\ttraining's auc: 0.915334\tvalid_1's auc: 0.882734\n",
      "-\n",
      "Fold 4\n",
      "Training until validation scores don't improve for 25 rounds.\n"
     ]
    },
    {
     "name": "stderr",
     "output_type": "stream",
     "text": [
      "E:\\Anaconda\\envs\\ML\\lib\\site-packages\\lightgbm\\basic.py:742: UserWarning: categorical_feature in param dict is overridden.\n",
      "  warnings.warn('categorical_feature in param dict is overridden.')\n"
     ]
    },
    {
     "name": "stdout",
     "output_type": "stream",
     "text": [
      "Early stopping, best iteration is:\n",
      "[128]\ttraining's auc: 0.908858\tvalid_1's auc: 0.886779\n",
      "-\n",
      "Fold 5\n",
      "Training until validation scores don't improve for 25 rounds.\n"
     ]
    },
    {
     "name": "stderr",
     "output_type": "stream",
     "text": [
      "E:\\Anaconda\\envs\\ML\\lib\\site-packages\\lightgbm\\basic.py:742: UserWarning: categorical_feature in param dict is overridden.\n",
      "  warnings.warn('categorical_feature in param dict is overridden.')\n"
     ]
    },
    {
     "name": "stdout",
     "output_type": "stream",
     "text": [
      "Early stopping, best iteration is:\n",
      "[149]\ttraining's auc: 0.912894\tvalid_1's auc: 0.884104\n",
      "\n",
      "Avg Accuracy Train Set: 82.60925692987935\n",
      "Avg Accuracy Test Set: 80.1166333357614\n",
      "\n",
      "Avg Recall: 77.95591527900926\n",
      "Avg Precision: 81.47915749399465\n",
      "16 50 0.8\n",
      "-\n",
      "Fold 1\n",
      "Training until validation scores don't improve for 25 rounds.\n"
     ]
    },
    {
     "name": "stderr",
     "output_type": "stream",
     "text": [
      "E:\\Anaconda\\envs\\ML\\lib\\site-packages\\lightgbm\\basic.py:742: UserWarning: categorical_feature in param dict is overridden.\n",
      "  warnings.warn('categorical_feature in param dict is overridden.')\n"
     ]
    },
    {
     "name": "stdout",
     "output_type": "stream",
     "text": [
      "Early stopping, best iteration is:\n",
      "[97]\ttraining's auc: 0.904628\tvalid_1's auc: 0.880609\n",
      "-\n",
      "Fold 2\n",
      "Training until validation scores don't improve for 25 rounds.\n"
     ]
    },
    {
     "name": "stderr",
     "output_type": "stream",
     "text": [
      "E:\\Anaconda\\envs\\ML\\lib\\site-packages\\lightgbm\\basic.py:742: UserWarning: categorical_feature in param dict is overridden.\n",
      "  warnings.warn('categorical_feature in param dict is overridden.')\n"
     ]
    },
    {
     "name": "stdout",
     "output_type": "stream",
     "text": [
      "Early stopping, best iteration is:\n",
      "[99]\ttraining's auc: 0.903852\tvalid_1's auc: 0.884257\n",
      "-\n",
      "Fold 3\n",
      "Training until validation scores don't improve for 25 rounds.\n"
     ]
    },
    {
     "name": "stderr",
     "output_type": "stream",
     "text": [
      "E:\\Anaconda\\envs\\ML\\lib\\site-packages\\lightgbm\\basic.py:742: UserWarning: categorical_feature in param dict is overridden.\n",
      "  warnings.warn('categorical_feature in param dict is overridden.')\n"
     ]
    },
    {
     "name": "stdout",
     "output_type": "stream",
     "text": [
      "Early stopping, best iteration is:\n",
      "[159]\ttraining's auc: 0.915177\tvalid_1's auc: 0.881702\n",
      "-\n",
      "Fold 4\n",
      "Training until validation scores don't improve for 25 rounds.\n"
     ]
    },
    {
     "name": "stderr",
     "output_type": "stream",
     "text": [
      "E:\\Anaconda\\envs\\ML\\lib\\site-packages\\lightgbm\\basic.py:742: UserWarning: categorical_feature in param dict is overridden.\n",
      "  warnings.warn('categorical_feature in param dict is overridden.')\n"
     ]
    },
    {
     "name": "stdout",
     "output_type": "stream",
     "text": [
      "Early stopping, best iteration is:\n",
      "[104]\ttraining's auc: 0.904028\tvalid_1's auc: 0.888042\n",
      "-\n",
      "Fold 5\n",
      "Training until validation scores don't improve for 25 rounds.\n"
     ]
    },
    {
     "name": "stderr",
     "output_type": "stream",
     "text": [
      "E:\\Anaconda\\envs\\ML\\lib\\site-packages\\lightgbm\\basic.py:742: UserWarning: categorical_feature in param dict is overridden.\n",
      "  warnings.warn('categorical_feature in param dict is overridden.')\n"
     ]
    },
    {
     "name": "stdout",
     "output_type": "stream",
     "text": [
      "Early stopping, best iteration is:\n",
      "[157]\ttraining's auc: 0.914672\tvalid_1's auc: 0.88481\n",
      "\n",
      "Avg Accuracy Train Set: 82.67229981618684\n",
      "Avg Accuracy Test Set: 80.10085358020277\n",
      "\n",
      "Avg Recall: 77.98951287174576\n",
      "Avg Precision: 81.43055531424264\n",
      "16 50 0.9\n",
      "-\n",
      "Fold 1\n",
      "Training until validation scores don't improve for 25 rounds.\n"
     ]
    },
    {
     "name": "stderr",
     "output_type": "stream",
     "text": [
      "E:\\Anaconda\\envs\\ML\\lib\\site-packages\\lightgbm\\basic.py:742: UserWarning: categorical_feature in param dict is overridden.\n",
      "  warnings.warn('categorical_feature in param dict is overridden.')\n"
     ]
    },
    {
     "name": "stdout",
     "output_type": "stream",
     "text": [
      "Early stopping, best iteration is:\n",
      "[85]\ttraining's auc: 0.901799\tvalid_1's auc: 0.879986\n",
      "-\n",
      "Fold 2\n",
      "Training until validation scores don't improve for 25 rounds.\n"
     ]
    },
    {
     "name": "stderr",
     "output_type": "stream",
     "text": [
      "E:\\Anaconda\\envs\\ML\\lib\\site-packages\\lightgbm\\basic.py:742: UserWarning: categorical_feature in param dict is overridden.\n",
      "  warnings.warn('categorical_feature in param dict is overridden.')\n"
     ]
    },
    {
     "name": "stdout",
     "output_type": "stream",
     "text": [
      "Early stopping, best iteration is:\n",
      "[156]\ttraining's auc: 0.914503\tvalid_1's auc: 0.88491\n",
      "-\n",
      "Fold 3\n",
      "Training until validation scores don't improve for 25 rounds.\n"
     ]
    },
    {
     "name": "stderr",
     "output_type": "stream",
     "text": [
      "E:\\Anaconda\\envs\\ML\\lib\\site-packages\\lightgbm\\basic.py:742: UserWarning: categorical_feature in param dict is overridden.\n",
      "  warnings.warn('categorical_feature in param dict is overridden.')\n"
     ]
    },
    {
     "name": "stdout",
     "output_type": "stream",
     "text": [
      "Early stopping, best iteration is:\n",
      "[172]\ttraining's auc: 0.918045\tvalid_1's auc: 0.882308\n",
      "-\n",
      "Fold 4\n",
      "Training until validation scores don't improve for 25 rounds.\n"
     ]
    },
    {
     "name": "stderr",
     "output_type": "stream",
     "text": [
      "E:\\Anaconda\\envs\\ML\\lib\\site-packages\\lightgbm\\basic.py:742: UserWarning: categorical_feature in param dict is overridden.\n",
      "  warnings.warn('categorical_feature in param dict is overridden.')\n"
     ]
    },
    {
     "name": "stdout",
     "output_type": "stream",
     "text": [
      "Early stopping, best iteration is:\n",
      "[108]\ttraining's auc: 0.905555\tvalid_1's auc: 0.887663\n",
      "-\n",
      "Fold 5\n",
      "Training until validation scores don't improve for 25 rounds.\n"
     ]
    },
    {
     "name": "stderr",
     "output_type": "stream",
     "text": [
      "E:\\Anaconda\\envs\\ML\\lib\\site-packages\\lightgbm\\basic.py:742: UserWarning: categorical_feature in param dict is overridden.\n",
      "  warnings.warn('categorical_feature in param dict is overridden.')\n"
     ]
    },
    {
     "name": "stdout",
     "output_type": "stream",
     "text": [
      "Early stopping, best iteration is:\n",
      "[152]\ttraining's auc: 0.913641\tvalid_1's auc: 0.883583\n",
      "\n",
      "Avg Accuracy Train Set: 82.77735691980118\n",
      "Avg Accuracy Test Set: 80.11661678067603\n",
      "\n",
      "Avg Recall: 77.8747619160262\n",
      "Avg Precision: 81.54102184620314\n",
      "16 50 1.0\n",
      "-\n",
      "Fold 1\n",
      "Training until validation scores don't improve for 25 rounds.\n"
     ]
    },
    {
     "name": "stderr",
     "output_type": "stream",
     "text": [
      "E:\\Anaconda\\envs\\ML\\lib\\site-packages\\lightgbm\\basic.py:742: UserWarning: categorical_feature in param dict is overridden.\n",
      "  warnings.warn('categorical_feature in param dict is overridden.')\n"
     ]
    },
    {
     "name": "stdout",
     "output_type": "stream",
     "text": [
      "Early stopping, best iteration is:\n",
      "[107]\ttraining's auc: 0.907282\tvalid_1's auc: 0.87967\n",
      "-\n",
      "Fold 2\n",
      "Training until validation scores don't improve for 25 rounds.\n"
     ]
    },
    {
     "name": "stderr",
     "output_type": "stream",
     "text": [
      "E:\\Anaconda\\envs\\ML\\lib\\site-packages\\lightgbm\\basic.py:742: UserWarning: categorical_feature in param dict is overridden.\n",
      "  warnings.warn('categorical_feature in param dict is overridden.')\n"
     ]
    },
    {
     "name": "stdout",
     "output_type": "stream",
     "text": [
      "Early stopping, best iteration is:\n",
      "[98]\ttraining's auc: 0.904066\tvalid_1's auc: 0.884793\n",
      "-\n",
      "Fold 3\n",
      "Training until validation scores don't improve for 25 rounds.\n"
     ]
    },
    {
     "name": "stderr",
     "output_type": "stream",
     "text": [
      "E:\\Anaconda\\envs\\ML\\lib\\site-packages\\lightgbm\\basic.py:742: UserWarning: categorical_feature in param dict is overridden.\n",
      "  warnings.warn('categorical_feature in param dict is overridden.')\n"
     ]
    },
    {
     "name": "stdout",
     "output_type": "stream",
     "text": [
      "Early stopping, best iteration is:\n",
      "[130]\ttraining's auc: 0.91177\tvalid_1's auc: 0.882197\n",
      "-\n",
      "Fold 4\n",
      "Training until validation scores don't improve for 25 rounds.\n"
     ]
    },
    {
     "name": "stderr",
     "output_type": "stream",
     "text": [
      "E:\\Anaconda\\envs\\ML\\lib\\site-packages\\lightgbm\\basic.py:742: UserWarning: categorical_feature in param dict is overridden.\n",
      "  warnings.warn('categorical_feature in param dict is overridden.')\n"
     ]
    },
    {
     "name": "stdout",
     "output_type": "stream",
     "text": [
      "Early stopping, best iteration is:\n",
      "[90]\ttraining's auc: 0.901709\tvalid_1's auc: 0.887404\n",
      "-\n",
      "Fold 5\n",
      "Training until validation scores don't improve for 25 rounds.\n"
     ]
    },
    {
     "name": "stderr",
     "output_type": "stream",
     "text": [
      "E:\\Anaconda\\envs\\ML\\lib\\site-packages\\lightgbm\\basic.py:742: UserWarning: categorical_feature in param dict is overridden.\n",
      "  warnings.warn('categorical_feature in param dict is overridden.')\n"
     ]
    },
    {
     "name": "stdout",
     "output_type": "stream",
     "text": [
      "Early stopping, best iteration is:\n",
      "[111]\ttraining's auc: 0.906866\tvalid_1's auc: 0.883081\n",
      "\n",
      "Avg Accuracy Train Set: 82.42277993493363\n",
      "Avg Accuracy Test Set: 80.15863496698915\n",
      "\n",
      "Avg Recall: 77.93712984217011\n",
      "Avg Precision: 81.56736617500528\n",
      "24 20 0.5\n",
      "-\n",
      "Fold 1\n",
      "Training until validation scores don't improve for 25 rounds.\n"
     ]
    },
    {
     "name": "stderr",
     "output_type": "stream",
     "text": [
      "E:\\Anaconda\\envs\\ML\\lib\\site-packages\\lightgbm\\basic.py:742: UserWarning: categorical_feature in param dict is overridden.\n",
      "  warnings.warn('categorical_feature in param dict is overridden.')\n"
     ]
    },
    {
     "name": "stdout",
     "output_type": "stream",
     "text": [
      "Early stopping, best iteration is:\n",
      "[81]\ttraining's auc: 0.910415\tvalid_1's auc: 0.88251\n",
      "-\n",
      "Fold 2\n",
      "Training until validation scores don't improve for 25 rounds.\n"
     ]
    },
    {
     "name": "stderr",
     "output_type": "stream",
     "text": [
      "E:\\Anaconda\\envs\\ML\\lib\\site-packages\\lightgbm\\basic.py:742: UserWarning: categorical_feature in param dict is overridden.\n",
      "  warnings.warn('categorical_feature in param dict is overridden.')\n"
     ]
    },
    {
     "name": "stdout",
     "output_type": "stream",
     "text": [
      "Early stopping, best iteration is:\n",
      "[92]\ttraining's auc: 0.912165\tvalid_1's auc: 0.884834\n",
      "-\n",
      "Fold 3\n",
      "Training until validation scores don't improve for 25 rounds.\n"
     ]
    },
    {
     "name": "stderr",
     "output_type": "stream",
     "text": [
      "E:\\Anaconda\\envs\\ML\\lib\\site-packages\\lightgbm\\basic.py:742: UserWarning: categorical_feature in param dict is overridden.\n",
      "  warnings.warn('categorical_feature in param dict is overridden.')\n"
     ]
    },
    {
     "name": "stdout",
     "output_type": "stream",
     "text": [
      "Early stopping, best iteration is:\n",
      "[86]\ttraining's auc: 0.911499\tvalid_1's auc: 0.883417\n",
      "-\n",
      "Fold 4\n",
      "Training until validation scores don't improve for 25 rounds.\n"
     ]
    },
    {
     "name": "stderr",
     "output_type": "stream",
     "text": [
      "E:\\Anaconda\\envs\\ML\\lib\\site-packages\\lightgbm\\basic.py:742: UserWarning: categorical_feature in param dict is overridden.\n",
      "  warnings.warn('categorical_feature in param dict is overridden.')\n"
     ]
    },
    {
     "name": "stdout",
     "output_type": "stream",
     "text": [
      "Early stopping, best iteration is:\n",
      "[77]\ttraining's auc: 0.907238\tvalid_1's auc: 0.887333\n",
      "-\n",
      "Fold 5\n",
      "Training until validation scores don't improve for 25 rounds.\n"
     ]
    },
    {
     "name": "stderr",
     "output_type": "stream",
     "text": [
      "E:\\Anaconda\\envs\\ML\\lib\\site-packages\\lightgbm\\basic.py:742: UserWarning: categorical_feature in param dict is overridden.\n",
      "  warnings.warn('categorical_feature in param dict is overridden.')\n"
     ]
    },
    {
     "name": "stdout",
     "output_type": "stream",
     "text": [
      "Early stopping, best iteration is:\n",
      "[140]\ttraining's auc: 0.924377\tvalid_1's auc: 0.884573\n",
      "\n",
      "Avg Accuracy Train Set: 83.08073799791961\n",
      "Avg Accuracy Test Set: 80.31622420441778\n",
      "\n",
      "Avg Recall: 77.89426956208523\n",
      "Avg Precision: 81.86241653600939\n",
      "24 20 0.6000000000000001\n",
      "-\n",
      "Fold 1\n",
      "Training until validation scores don't improve for 25 rounds.\n"
     ]
    },
    {
     "name": "stderr",
     "output_type": "stream",
     "text": [
      "E:\\Anaconda\\envs\\ML\\lib\\site-packages\\lightgbm\\basic.py:742: UserWarning: categorical_feature in param dict is overridden.\n",
      "  warnings.warn('categorical_feature in param dict is overridden.')\n"
     ]
    },
    {
     "name": "stdout",
     "output_type": "stream",
     "text": [
      "Early stopping, best iteration is:\n",
      "[83]\ttraining's auc: 0.911061\tvalid_1's auc: 0.881186\n",
      "-\n",
      "Fold 2\n",
      "Training until validation scores don't improve for 25 rounds.\n"
     ]
    },
    {
     "name": "stderr",
     "output_type": "stream",
     "text": [
      "E:\\Anaconda\\envs\\ML\\lib\\site-packages\\lightgbm\\basic.py:742: UserWarning: categorical_feature in param dict is overridden.\n",
      "  warnings.warn('categorical_feature in param dict is overridden.')\n"
     ]
    },
    {
     "name": "stdout",
     "output_type": "stream",
     "text": [
      "Early stopping, best iteration is:\n",
      "[82]\ttraining's auc: 0.909911\tvalid_1's auc: 0.885968\n",
      "-\n",
      "Fold 3\n",
      "Training until validation scores don't improve for 25 rounds.\n"
     ]
    },
    {
     "name": "stderr",
     "output_type": "stream",
     "text": [
      "E:\\Anaconda\\envs\\ML\\lib\\site-packages\\lightgbm\\basic.py:742: UserWarning: categorical_feature in param dict is overridden.\n",
      "  warnings.warn('categorical_feature in param dict is overridden.')\n"
     ]
    },
    {
     "name": "stdout",
     "output_type": "stream",
     "text": [
      "Early stopping, best iteration is:\n",
      "[98]\ttraining's auc: 0.915492\tvalid_1's auc: 0.882358\n",
      "-\n",
      "Fold 4\n",
      "Training until validation scores don't improve for 25 rounds.\n"
     ]
    },
    {
     "name": "stderr",
     "output_type": "stream",
     "text": [
      "E:\\Anaconda\\envs\\ML\\lib\\site-packages\\lightgbm\\basic.py:742: UserWarning: categorical_feature in param dict is overridden.\n",
      "  warnings.warn('categorical_feature in param dict is overridden.')\n"
     ]
    },
    {
     "name": "stdout",
     "output_type": "stream",
     "text": [
      "Early stopping, best iteration is:\n",
      "[70]\ttraining's auc: 0.905653\tvalid_1's auc: 0.888292\n",
      "-\n",
      "Fold 5\n",
      "Training until validation scores don't improve for 25 rounds.\n"
     ]
    },
    {
     "name": "stderr",
     "output_type": "stream",
     "text": [
      "E:\\Anaconda\\envs\\ML\\lib\\site-packages\\lightgbm\\basic.py:742: UserWarning: categorical_feature in param dict is overridden.\n",
      "  warnings.warn('categorical_feature in param dict is overridden.')\n"
     ]
    },
    {
     "name": "stdout",
     "output_type": "stream",
     "text": [
      "Early stopping, best iteration is:\n",
      "[123]\ttraining's auc: 0.921281\tvalid_1's auc: 0.885197\n",
      "\n",
      "Avg Accuracy Train Set: 83.05316033034799\n",
      "Avg Accuracy Test Set: 80.21645084353679\n",
      "\n",
      "Avg Recall: 77.8112909678825\n",
      "Avg Precision: 81.75105685312099\n",
      "24 20 0.7000000000000001\n",
      "-\n",
      "Fold 1\n",
      "Training until validation scores don't improve for 25 rounds.\n"
     ]
    },
    {
     "name": "stderr",
     "output_type": "stream",
     "text": [
      "E:\\Anaconda\\envs\\ML\\lib\\site-packages\\lightgbm\\basic.py:742: UserWarning: categorical_feature in param dict is overridden.\n",
      "  warnings.warn('categorical_feature in param dict is overridden.')\n"
     ]
    },
    {
     "name": "stdout",
     "output_type": "stream",
     "text": [
      "Early stopping, best iteration is:\n",
      "[107]\ttraining's auc: 0.919622\tvalid_1's auc: 0.881457\n",
      "-\n",
      "Fold 2\n",
      "Training until validation scores don't improve for 25 rounds.\n"
     ]
    },
    {
     "name": "stderr",
     "output_type": "stream",
     "text": [
      "E:\\Anaconda\\envs\\ML\\lib\\site-packages\\lightgbm\\basic.py:742: UserWarning: categorical_feature in param dict is overridden.\n",
      "  warnings.warn('categorical_feature in param dict is overridden.')\n"
     ]
    },
    {
     "name": "stdout",
     "output_type": "stream",
     "text": [
      "Early stopping, best iteration is:\n",
      "[87]\ttraining's auc: 0.91298\tvalid_1's auc: 0.886677\n",
      "-\n",
      "Fold 3\n",
      "Training until validation scores don't improve for 25 rounds.\n"
     ]
    },
    {
     "name": "stderr",
     "output_type": "stream",
     "text": [
      "E:\\Anaconda\\envs\\ML\\lib\\site-packages\\lightgbm\\basic.py:742: UserWarning: categorical_feature in param dict is overridden.\n",
      "  warnings.warn('categorical_feature in param dict is overridden.')\n"
     ]
    },
    {
     "name": "stdout",
     "output_type": "stream",
     "text": [
      "Early stopping, best iteration is:\n",
      "[81]\ttraining's auc: 0.911428\tvalid_1's auc: 0.882144\n",
      "-\n",
      "Fold 4\n",
      "Training until validation scores don't improve for 25 rounds.\n"
     ]
    },
    {
     "name": "stderr",
     "output_type": "stream",
     "text": [
      "E:\\Anaconda\\envs\\ML\\lib\\site-packages\\lightgbm\\basic.py:742: UserWarning: categorical_feature in param dict is overridden.\n",
      "  warnings.warn('categorical_feature in param dict is overridden.')\n"
     ]
    },
    {
     "name": "stdout",
     "output_type": "stream",
     "text": [
      "Early stopping, best iteration is:\n",
      "[119]\ttraining's auc: 0.920984\tvalid_1's auc: 0.887195\n",
      "-\n",
      "Fold 5\n",
      "Training until validation scores don't improve for 25 rounds.\n"
     ]
    },
    {
     "name": "stderr",
     "output_type": "stream",
     "text": [
      "E:\\Anaconda\\envs\\ML\\lib\\site-packages\\lightgbm\\basic.py:742: UserWarning: categorical_feature in param dict is overridden.\n",
      "  warnings.warn('categorical_feature in param dict is overridden.')\n"
     ]
    },
    {
     "name": "stdout",
     "output_type": "stream",
     "text": [
      "Early stopping, best iteration is:\n",
      "[102]\ttraining's auc: 0.917121\tvalid_1's auc: 0.886255\n",
      "\n",
      "Avg Accuracy Train Set: 83.54565540635278\n",
      "Avg Accuracy Test Set: 80.19015584957387\n",
      "\n",
      "Avg Recall: 77.9903131992381\n",
      "Avg Precision: 81.58314225985882\n",
      "24 20 0.8\n",
      "-\n",
      "Fold 1\n",
      "Training until validation scores don't improve for 25 rounds.\n"
     ]
    },
    {
     "name": "stderr",
     "output_type": "stream",
     "text": [
      "E:\\Anaconda\\envs\\ML\\lib\\site-packages\\lightgbm\\basic.py:742: UserWarning: categorical_feature in param dict is overridden.\n",
      "  warnings.warn('categorical_feature in param dict is overridden.')\n"
     ]
    },
    {
     "name": "stdout",
     "output_type": "stream",
     "text": [
      "Early stopping, best iteration is:\n",
      "[92]\ttraining's auc: 0.915016\tvalid_1's auc: 0.881214\n",
      "-\n",
      "Fold 2\n",
      "Training until validation scores don't improve for 25 rounds.\n"
     ]
    },
    {
     "name": "stderr",
     "output_type": "stream",
     "text": [
      "E:\\Anaconda\\envs\\ML\\lib\\site-packages\\lightgbm\\basic.py:742: UserWarning: categorical_feature in param dict is overridden.\n",
      "  warnings.warn('categorical_feature in param dict is overridden.')\n"
     ]
    },
    {
     "name": "stdout",
     "output_type": "stream",
     "text": [
      "Early stopping, best iteration is:\n",
      "[89]\ttraining's auc: 0.914024\tvalid_1's auc: 0.886554\n",
      "-\n",
      "Fold 3\n",
      "Training until validation scores don't improve for 25 rounds.\n"
     ]
    },
    {
     "name": "stderr",
     "output_type": "stream",
     "text": [
      "E:\\Anaconda\\envs\\ML\\lib\\site-packages\\lightgbm\\basic.py:742: UserWarning: categorical_feature in param dict is overridden.\n",
      "  warnings.warn('categorical_feature in param dict is overridden.')\n"
     ]
    },
    {
     "name": "stdout",
     "output_type": "stream",
     "text": [
      "Early stopping, best iteration is:\n",
      "[71]\ttraining's auc: 0.908292\tvalid_1's auc: 0.881119\n",
      "-\n",
      "Fold 4\n",
      "Training until validation scores don't improve for 25 rounds.\n"
     ]
    },
    {
     "name": "stderr",
     "output_type": "stream",
     "text": [
      "E:\\Anaconda\\envs\\ML\\lib\\site-packages\\lightgbm\\basic.py:742: UserWarning: categorical_feature in param dict is overridden.\n",
      "  warnings.warn('categorical_feature in param dict is overridden.')\n"
     ]
    },
    {
     "name": "stdout",
     "output_type": "stream",
     "text": [
      "Early stopping, best iteration is:\n",
      "[83]\ttraining's auc: 0.910778\tvalid_1's auc: 0.888002\n",
      "-\n",
      "Fold 5\n",
      "Training until validation scores don't improve for 25 rounds.\n"
     ]
    },
    {
     "name": "stderr",
     "output_type": "stream",
     "text": [
      "E:\\Anaconda\\envs\\ML\\lib\\site-packages\\lightgbm\\basic.py:742: UserWarning: categorical_feature in param dict is overridden.\n",
      "  warnings.warn('categorical_feature in param dict is overridden.')\n"
     ]
    },
    {
     "name": "stdout",
     "output_type": "stream",
     "text": [
      "Early stopping, best iteration is:\n",
      "[76]\ttraining's auc: 0.909003\tvalid_1's auc: 0.884109\n",
      "\n",
      "Avg Accuracy Train Set: 83.00851644061851\n",
      "Avg Accuracy Test Set: 80.26897737030194\n",
      "\n",
      "Avg Recall: 77.95725541443505\n",
      "Avg Precision: 81.73853192183728\n",
      "24 20 0.9\n",
      "-\n",
      "Fold 1\n",
      "Training until validation scores don't improve for 25 rounds.\n"
     ]
    },
    {
     "name": "stderr",
     "output_type": "stream",
     "text": [
      "E:\\Anaconda\\envs\\ML\\lib\\site-packages\\lightgbm\\basic.py:742: UserWarning: categorical_feature in param dict is overridden.\n",
      "  warnings.warn('categorical_feature in param dict is overridden.')\n"
     ]
    },
    {
     "name": "stdout",
     "output_type": "stream",
     "text": [
      "Early stopping, best iteration is:\n",
      "[114]\ttraining's auc: 0.922573\tvalid_1's auc: 0.880172\n",
      "-\n",
      "Fold 2\n",
      "Training until validation scores don't improve for 25 rounds.\n"
     ]
    },
    {
     "name": "stderr",
     "output_type": "stream",
     "text": [
      "E:\\Anaconda\\envs\\ML\\lib\\site-packages\\lightgbm\\basic.py:742: UserWarning: categorical_feature in param dict is overridden.\n",
      "  warnings.warn('categorical_feature in param dict is overridden.')\n"
     ]
    },
    {
     "name": "stdout",
     "output_type": "stream",
     "text": [
      "Early stopping, best iteration is:\n",
      "[77]\ttraining's auc: 0.909964\tvalid_1's auc: 0.885739\n",
      "-\n",
      "Fold 3\n",
      "Training until validation scores don't improve for 25 rounds.\n"
     ]
    },
    {
     "name": "stderr",
     "output_type": "stream",
     "text": [
      "E:\\Anaconda\\envs\\ML\\lib\\site-packages\\lightgbm\\basic.py:742: UserWarning: categorical_feature in param dict is overridden.\n",
      "  warnings.warn('categorical_feature in param dict is overridden.')\n"
     ]
    },
    {
     "name": "stdout",
     "output_type": "stream",
     "text": [
      "Early stopping, best iteration is:\n",
      "[91]\ttraining's auc: 0.914824\tvalid_1's auc: 0.881326\n",
      "-\n",
      "Fold 4\n",
      "Training until validation scores don't improve for 25 rounds.\n"
     ]
    },
    {
     "name": "stderr",
     "output_type": "stream",
     "text": [
      "E:\\Anaconda\\envs\\ML\\lib\\site-packages\\lightgbm\\basic.py:742: UserWarning: categorical_feature in param dict is overridden.\n",
      "  warnings.warn('categorical_feature in param dict is overridden.')\n"
     ]
    },
    {
     "name": "stdout",
     "output_type": "stream",
     "text": [
      "Early stopping, best iteration is:\n",
      "[69]\ttraining's auc: 0.906804\tvalid_1's auc: 0.887415\n",
      "-\n",
      "Fold 5\n",
      "Training until validation scores don't improve for 25 rounds.\n"
     ]
    },
    {
     "name": "stderr",
     "output_type": "stream",
     "text": [
      "E:\\Anaconda\\envs\\ML\\lib\\site-packages\\lightgbm\\basic.py:742: UserWarning: categorical_feature in param dict is overridden.\n",
      "  warnings.warn('categorical_feature in param dict is overridden.')\n"
     ]
    },
    {
     "name": "stdout",
     "output_type": "stream",
     "text": [
      "Early stopping, best iteration is:\n",
      "[87]\ttraining's auc: 0.913264\tvalid_1's auc: 0.883909\n",
      "\n",
      "Avg Accuracy Train Set: 83.15955288186554\n",
      "Avg Accuracy Test Set: 80.1429048766867\n",
      "\n",
      "Avg Recall: 78.12365501200877\n",
      "Avg Precision: 81.41150953885443\n",
      "24 20 1.0\n",
      "-\n",
      "Fold 1\n",
      "Training until validation scores don't improve for 25 rounds.\n"
     ]
    },
    {
     "name": "stderr",
     "output_type": "stream",
     "text": [
      "E:\\Anaconda\\envs\\ML\\lib\\site-packages\\lightgbm\\basic.py:742: UserWarning: categorical_feature in param dict is overridden.\n",
      "  warnings.warn('categorical_feature in param dict is overridden.')\n"
     ]
    },
    {
     "name": "stdout",
     "output_type": "stream",
     "text": [
      "Early stopping, best iteration is:\n",
      "[60]\ttraining's auc: 0.905269\tvalid_1's auc: 0.879616\n",
      "-\n",
      "Fold 2\n",
      "Training until validation scores don't improve for 25 rounds.\n"
     ]
    },
    {
     "name": "stderr",
     "output_type": "stream",
     "text": [
      "E:\\Anaconda\\envs\\ML\\lib\\site-packages\\lightgbm\\basic.py:742: UserWarning: categorical_feature in param dict is overridden.\n",
      "  warnings.warn('categorical_feature in param dict is overridden.')\n"
     ]
    },
    {
     "name": "stdout",
     "output_type": "stream",
     "text": [
      "Early stopping, best iteration is:\n",
      "[98]\ttraining's auc: 0.917492\tvalid_1's auc: 0.884654\n",
      "-\n",
      "Fold 3\n",
      "Training until validation scores don't improve for 25 rounds.\n"
     ]
    },
    {
     "name": "stderr",
     "output_type": "stream",
     "text": [
      "E:\\Anaconda\\envs\\ML\\lib\\site-packages\\lightgbm\\basic.py:742: UserWarning: categorical_feature in param dict is overridden.\n",
      "  warnings.warn('categorical_feature in param dict is overridden.')\n"
     ]
    },
    {
     "name": "stdout",
     "output_type": "stream",
     "text": [
      "Early stopping, best iteration is:\n",
      "[74]\ttraining's auc: 0.91017\tvalid_1's auc: 0.880531\n",
      "-\n",
      "Fold 4\n",
      "Training until validation scores don't improve for 25 rounds.\n"
     ]
    },
    {
     "name": "stderr",
     "output_type": "stream",
     "text": [
      "E:\\Anaconda\\envs\\ML\\lib\\site-packages\\lightgbm\\basic.py:742: UserWarning: categorical_feature in param dict is overridden.\n",
      "  warnings.warn('categorical_feature in param dict is overridden.')\n"
     ]
    },
    {
     "name": "stdout",
     "output_type": "stream",
     "text": [
      "Early stopping, best iteration is:\n",
      "[107]\ttraining's auc: 0.919479\tvalid_1's auc: 0.886987\n",
      "-\n",
      "Fold 5\n",
      "Training until validation scores don't improve for 25 rounds.\n"
     ]
    },
    {
     "name": "stderr",
     "output_type": "stream",
     "text": [
      "E:\\Anaconda\\envs\\ML\\lib\\site-packages\\lightgbm\\basic.py:742: UserWarning: categorical_feature in param dict is overridden.\n",
      "  warnings.warn('categorical_feature in param dict is overridden.')\n"
     ]
    },
    {
     "name": "stdout",
     "output_type": "stream",
     "text": [
      "Early stopping, best iteration is:\n",
      "[97]\ttraining's auc: 0.917005\tvalid_1's auc: 0.883799\n",
      "\n",
      "Avg Accuracy Train Set: 83.2238809373466\n",
      "Avg Accuracy Test Set: 79.96954002247077\n",
      "\n",
      "Avg Recall: 77.90578548305862\n",
      "Avg Precision: 81.26131860001522\n",
      "24 25 0.5\n",
      "-\n",
      "Fold 1\n",
      "Training until validation scores don't improve for 25 rounds.\n"
     ]
    },
    {
     "name": "stderr",
     "output_type": "stream",
     "text": [
      "E:\\Anaconda\\envs\\ML\\lib\\site-packages\\lightgbm\\basic.py:742: UserWarning: categorical_feature in param dict is overridden.\n",
      "  warnings.warn('categorical_feature in param dict is overridden.')\n"
     ]
    },
    {
     "name": "stdout",
     "output_type": "stream",
     "text": [
      "Early stopping, best iteration is:\n",
      "[79]\ttraining's auc: 0.90933\tvalid_1's auc: 0.88157\n",
      "-\n",
      "Fold 2\n",
      "Training until validation scores don't improve for 25 rounds.\n"
     ]
    },
    {
     "name": "stderr",
     "output_type": "stream",
     "text": [
      "E:\\Anaconda\\envs\\ML\\lib\\site-packages\\lightgbm\\basic.py:742: UserWarning: categorical_feature in param dict is overridden.\n",
      "  warnings.warn('categorical_feature in param dict is overridden.')\n"
     ]
    },
    {
     "name": "stdout",
     "output_type": "stream",
     "text": [
      "Early stopping, best iteration is:\n",
      "[80]\ttraining's auc: 0.908414\tvalid_1's auc: 0.885562\n",
      "-\n",
      "Fold 3\n",
      "Training until validation scores don't improve for 25 rounds.\n"
     ]
    },
    {
     "name": "stderr",
     "output_type": "stream",
     "text": [
      "E:\\Anaconda\\envs\\ML\\lib\\site-packages\\lightgbm\\basic.py:742: UserWarning: categorical_feature in param dict is overridden.\n",
      "  warnings.warn('categorical_feature in param dict is overridden.')\n"
     ]
    },
    {
     "name": "stdout",
     "output_type": "stream",
     "text": [
      "Early stopping, best iteration is:\n",
      "[116]\ttraining's auc: 0.918232\tvalid_1's auc: 0.882636\n",
      "-\n",
      "Fold 4\n",
      "Training until validation scores don't improve for 25 rounds.\n"
     ]
    },
    {
     "name": "stderr",
     "output_type": "stream",
     "text": [
      "E:\\Anaconda\\envs\\ML\\lib\\site-packages\\lightgbm\\basic.py:742: UserWarning: categorical_feature in param dict is overridden.\n",
      "  warnings.warn('categorical_feature in param dict is overridden.')\n"
     ]
    },
    {
     "name": "stdout",
     "output_type": "stream",
     "text": [
      "Early stopping, best iteration is:\n",
      "[149]\ttraining's auc: 0.924761\tvalid_1's auc: 0.888995\n",
      "-\n",
      "Fold 5\n",
      "Training until validation scores don't improve for 25 rounds.\n"
     ]
    },
    {
     "name": "stderr",
     "output_type": "stream",
     "text": [
      "E:\\Anaconda\\envs\\ML\\lib\\site-packages\\lightgbm\\basic.py:742: UserWarning: categorical_feature in param dict is overridden.\n",
      "  warnings.warn('categorical_feature in param dict is overridden.')\n"
     ]
    },
    {
     "name": "stdout",
     "output_type": "stream",
     "text": [
      "Early stopping, best iteration is:\n",
      "[103]\ttraining's auc: 0.914763\tvalid_1's auc: 0.883619\n",
      "\n",
      "Avg Accuracy Train Set: 83.30399660015749\n",
      "Avg Accuracy Test Set: 80.321506656248\n",
      "\n",
      "Avg Recall: 77.82057803468956\n",
      "Avg Precision: 81.9180815647899\n",
      "24 25 0.6000000000000001\n",
      "-\n",
      "Fold 1\n",
      "Training until validation scores don't improve for 25 rounds.\n"
     ]
    },
    {
     "name": "stderr",
     "output_type": "stream",
     "text": [
      "E:\\Anaconda\\envs\\ML\\lib\\site-packages\\lightgbm\\basic.py:742: UserWarning: categorical_feature in param dict is overridden.\n",
      "  warnings.warn('categorical_feature in param dict is overridden.')\n"
     ]
    },
    {
     "name": "stdout",
     "output_type": "stream",
     "text": [
      "Early stopping, best iteration is:\n",
      "[85]\ttraining's auc: 0.91178\tvalid_1's auc: 0.882211\n",
      "-\n",
      "Fold 2\n",
      "Training until validation scores don't improve for 25 rounds.\n"
     ]
    },
    {
     "name": "stderr",
     "output_type": "stream",
     "text": [
      "E:\\Anaconda\\envs\\ML\\lib\\site-packages\\lightgbm\\basic.py:742: UserWarning: categorical_feature in param dict is overridden.\n",
      "  warnings.warn('categorical_feature in param dict is overridden.')\n"
     ]
    },
    {
     "name": "stdout",
     "output_type": "stream",
     "text": [
      "Early stopping, best iteration is:\n",
      "[142]\ttraining's auc: 0.924313\tvalid_1's auc: 0.886998\n",
      "-\n",
      "Fold 3\n",
      "Training until validation scores don't improve for 25 rounds.\n"
     ]
    },
    {
     "name": "stderr",
     "output_type": "stream",
     "text": [
      "E:\\Anaconda\\envs\\ML\\lib\\site-packages\\lightgbm\\basic.py:742: UserWarning: categorical_feature in param dict is overridden.\n",
      "  warnings.warn('categorical_feature in param dict is overridden.')\n"
     ]
    },
    {
     "name": "stdout",
     "output_type": "stream",
     "text": [
      "Early stopping, best iteration is:\n",
      "[123]\ttraining's auc: 0.920736\tvalid_1's auc: 0.882469\n",
      "-\n",
      "Fold 4\n",
      "Training until validation scores don't improve for 25 rounds.\n"
     ]
    },
    {
     "name": "stderr",
     "output_type": "stream",
     "text": [
      "E:\\Anaconda\\envs\\ML\\lib\\site-packages\\lightgbm\\basic.py:742: UserWarning: categorical_feature in param dict is overridden.\n",
      "  warnings.warn('categorical_feature in param dict is overridden.')\n"
     ]
    },
    {
     "name": "stdout",
     "output_type": "stream",
     "text": [
      "Early stopping, best iteration is:\n",
      "[77]\ttraining's auc: 0.907727\tvalid_1's auc: 0.888906\n",
      "-\n",
      "Fold 5\n",
      "Training until validation scores don't improve for 25 rounds.\n"
     ]
    },
    {
     "name": "stderr",
     "output_type": "stream",
     "text": [
      "E:\\Anaconda\\envs\\ML\\lib\\site-packages\\lightgbm\\basic.py:742: UserWarning: categorical_feature in param dict is overridden.\n",
      "  warnings.warn('categorical_feature in param dict is overridden.')\n"
     ]
    },
    {
     "name": "stdout",
     "output_type": "stream",
     "text": [
      "Early stopping, best iteration is:\n",
      "[164]\ttraining's auc: 0.929798\tvalid_1's auc: 0.886369\n",
      "\n",
      "Avg Accuracy Train Set: 83.84244514137836\n",
      "Avg Accuracy Test Set: 80.33726709754036\n",
      "\n",
      "Avg Recall: 77.87241941553546\n",
      "Avg Precision: 81.91291946381826\n",
      "24 25 0.7000000000000001\n",
      "-\n",
      "Fold 1\n",
      "Training until validation scores don't improve for 25 rounds.\n"
     ]
    },
    {
     "name": "stderr",
     "output_type": "stream",
     "text": [
      "E:\\Anaconda\\envs\\ML\\lib\\site-packages\\lightgbm\\basic.py:742: UserWarning: categorical_feature in param dict is overridden.\n",
      "  warnings.warn('categorical_feature in param dict is overridden.')\n"
     ]
    },
    {
     "name": "stdout",
     "output_type": "stream",
     "text": [
      "Early stopping, best iteration is:\n",
      "[77]\ttraining's auc: 0.909977\tvalid_1's auc: 0.881485\n",
      "-\n",
      "Fold 2\n",
      "Training until validation scores don't improve for 25 rounds.\n"
     ]
    },
    {
     "name": "stderr",
     "output_type": "stream",
     "text": [
      "E:\\Anaconda\\envs\\ML\\lib\\site-packages\\lightgbm\\basic.py:742: UserWarning: categorical_feature in param dict is overridden.\n",
      "  warnings.warn('categorical_feature in param dict is overridden.')\n"
     ]
    },
    {
     "name": "stdout",
     "output_type": "stream",
     "text": [
      "Early stopping, best iteration is:\n",
      "[98]\ttraining's auc: 0.915857\tvalid_1's auc: 0.885293\n",
      "-\n",
      "Fold 3\n",
      "Training until validation scores don't improve for 25 rounds.\n"
     ]
    },
    {
     "name": "stderr",
     "output_type": "stream",
     "text": [
      "E:\\Anaconda\\envs\\ML\\lib\\site-packages\\lightgbm\\basic.py:742: UserWarning: categorical_feature in param dict is overridden.\n",
      "  warnings.warn('categorical_feature in param dict is overridden.')\n"
     ]
    },
    {
     "name": "stdout",
     "output_type": "stream",
     "text": [
      "Early stopping, best iteration is:\n",
      "[104]\ttraining's auc: 0.918478\tvalid_1's auc: 0.88191\n",
      "-\n",
      "Fold 4\n",
      "Training until validation scores don't improve for 25 rounds.\n"
     ]
    },
    {
     "name": "stderr",
     "output_type": "stream",
     "text": [
      "E:\\Anaconda\\envs\\ML\\lib\\site-packages\\lightgbm\\basic.py:742: UserWarning: categorical_feature in param dict is overridden.\n",
      "  warnings.warn('categorical_feature in param dict is overridden.')\n"
     ]
    },
    {
     "name": "stdout",
     "output_type": "stream",
     "text": [
      "Early stopping, best iteration is:\n",
      "[81]\ttraining's auc: 0.909888\tvalid_1's auc: 0.887937\n",
      "-\n",
      "Fold 5\n",
      "Training until validation scores don't improve for 25 rounds.\n"
     ]
    },
    {
     "name": "stderr",
     "output_type": "stream",
     "text": [
      "E:\\Anaconda\\envs\\ML\\lib\\site-packages\\lightgbm\\basic.py:742: UserWarning: categorical_feature in param dict is overridden.\n",
      "  warnings.warn('categorical_feature in param dict is overridden.')\n"
     ]
    },
    {
     "name": "stdout",
     "output_type": "stream",
     "text": [
      "Early stopping, best iteration is:\n",
      "[133]\ttraining's auc: 0.924904\tvalid_1's auc: 0.885815\n",
      "\n",
      "Avg Accuracy Train Set: 83.4379519857278\n",
      "Avg Accuracy Test Set: 80.22168363011083\n",
      "\n",
      "Avg Recall: 77.95822737294881\n",
      "Avg Precision: 81.66063426943806\n",
      "24 25 0.8\n",
      "-\n",
      "Fold 1\n",
      "Training until validation scores don't improve for 25 rounds.\n"
     ]
    },
    {
     "name": "stderr",
     "output_type": "stream",
     "text": [
      "E:\\Anaconda\\envs\\ML\\lib\\site-packages\\lightgbm\\basic.py:742: UserWarning: categorical_feature in param dict is overridden.\n",
      "  warnings.warn('categorical_feature in param dict is overridden.')\n"
     ]
    },
    {
     "name": "stdout",
     "output_type": "stream",
     "text": [
      "Early stopping, best iteration is:\n",
      "[60]\ttraining's auc: 0.903857\tvalid_1's auc: 0.880503\n",
      "-\n",
      "Fold 2\n",
      "Training until validation scores don't improve for 25 rounds.\n"
     ]
    },
    {
     "name": "stderr",
     "output_type": "stream",
     "text": [
      "E:\\Anaconda\\envs\\ML\\lib\\site-packages\\lightgbm\\basic.py:742: UserWarning: categorical_feature in param dict is overridden.\n",
      "  warnings.warn('categorical_feature in param dict is overridden.')\n"
     ]
    },
    {
     "name": "stdout",
     "output_type": "stream",
     "text": [
      "Early stopping, best iteration is:\n",
      "[95]\ttraining's auc: 0.914709\tvalid_1's auc: 0.887082\n",
      "-\n",
      "Fold 3\n",
      "Training until validation scores don't improve for 25 rounds.\n"
     ]
    },
    {
     "name": "stderr",
     "output_type": "stream",
     "text": [
      "E:\\Anaconda\\envs\\ML\\lib\\site-packages\\lightgbm\\basic.py:742: UserWarning: categorical_feature in param dict is overridden.\n",
      "  warnings.warn('categorical_feature in param dict is overridden.')\n"
     ]
    },
    {
     "name": "stdout",
     "output_type": "stream",
     "text": [
      "Early stopping, best iteration is:\n",
      "[84]\ttraining's auc: 0.911696\tvalid_1's auc: 0.882117\n",
      "-\n",
      "Fold 4\n",
      "Training until validation scores don't improve for 25 rounds.\n"
     ]
    },
    {
     "name": "stderr",
     "output_type": "stream",
     "text": [
      "E:\\Anaconda\\envs\\ML\\lib\\site-packages\\lightgbm\\basic.py:742: UserWarning: categorical_feature in param dict is overridden.\n",
      "  warnings.warn('categorical_feature in param dict is overridden.')\n"
     ]
    },
    {
     "name": "stdout",
     "output_type": "stream",
     "text": [
      "Early stopping, best iteration is:\n",
      "[118]\ttraining's auc: 0.920772\tvalid_1's auc: 0.888032\n",
      "-\n",
      "Fold 5\n",
      "Training until validation scores don't improve for 25 rounds.\n"
     ]
    },
    {
     "name": "stderr",
     "output_type": "stream",
     "text": [
      "E:\\Anaconda\\envs\\ML\\lib\\site-packages\\lightgbm\\basic.py:742: UserWarning: categorical_feature in param dict is overridden.\n",
      "  warnings.warn('categorical_feature in param dict is overridden.')\n"
     ]
    },
    {
     "name": "stdout",
     "output_type": "stream",
     "text": [
      "Early stopping, best iteration is:\n",
      "[144]\ttraining's auc: 0.927645\tvalid_1's auc: 0.885248\n",
      "\n",
      "Avg Accuracy Train Set: 83.41167742553861\n",
      "Avg Accuracy Test Set: 80.4265652281401\n",
      "\n",
      "Avg Recall: 78.12514305052716\n",
      "Avg Precision: 81.89650818070629\n",
      "24 25 0.9\n",
      "-\n",
      "Fold 1\n",
      "Training until validation scores don't improve for 25 rounds.\n"
     ]
    },
    {
     "name": "stderr",
     "output_type": "stream",
     "text": [
      "E:\\Anaconda\\envs\\ML\\lib\\site-packages\\lightgbm\\basic.py:742: UserWarning: categorical_feature in param dict is overridden.\n",
      "  warnings.warn('categorical_feature in param dict is overridden.')\n"
     ]
    },
    {
     "name": "stdout",
     "output_type": "stream",
     "text": [
      "Early stopping, best iteration is:\n",
      "[81]\ttraining's auc: 0.912696\tvalid_1's auc: 0.880224\n",
      "-\n",
      "Fold 2\n",
      "Training until validation scores don't improve for 25 rounds.\n"
     ]
    },
    {
     "name": "stderr",
     "output_type": "stream",
     "text": [
      "E:\\Anaconda\\envs\\ML\\lib\\site-packages\\lightgbm\\basic.py:742: UserWarning: categorical_feature in param dict is overridden.\n",
      "  warnings.warn('categorical_feature in param dict is overridden.')\n"
     ]
    },
    {
     "name": "stdout",
     "output_type": "stream",
     "text": [
      "Early stopping, best iteration is:\n",
      "[92]\ttraining's auc: 0.914187\tvalid_1's auc: 0.884894\n",
      "-\n",
      "Fold 3\n",
      "Training until validation scores don't improve for 25 rounds.\n"
     ]
    },
    {
     "name": "stderr",
     "output_type": "stream",
     "text": [
      "E:\\Anaconda\\envs\\ML\\lib\\site-packages\\lightgbm\\basic.py:742: UserWarning: categorical_feature in param dict is overridden.\n",
      "  warnings.warn('categorical_feature in param dict is overridden.')\n"
     ]
    },
    {
     "name": "stdout",
     "output_type": "stream",
     "text": [
      "Early stopping, best iteration is:\n",
      "[78]\ttraining's auc: 0.910534\tvalid_1's auc: 0.879832\n",
      "-\n",
      "Fold 4\n",
      "Training until validation scores don't improve for 25 rounds.\n"
     ]
    },
    {
     "name": "stderr",
     "output_type": "stream",
     "text": [
      "E:\\Anaconda\\envs\\ML\\lib\\site-packages\\lightgbm\\basic.py:742: UserWarning: categorical_feature in param dict is overridden.\n",
      "  warnings.warn('categorical_feature in param dict is overridden.')\n"
     ]
    },
    {
     "name": "stdout",
     "output_type": "stream",
     "text": [
      "Early stopping, best iteration is:\n",
      "[84]\ttraining's auc: 0.911165\tvalid_1's auc: 0.88811\n",
      "-\n",
      "Fold 5\n",
      "Training until validation scores don't improve for 25 rounds.\n"
     ]
    },
    {
     "name": "stderr",
     "output_type": "stream",
     "text": [
      "E:\\Anaconda\\envs\\ML\\lib\\site-packages\\lightgbm\\basic.py:742: UserWarning: categorical_feature in param dict is overridden.\n",
      "  warnings.warn('categorical_feature in param dict is overridden.')\n"
     ]
    },
    {
     "name": "stdout",
     "output_type": "stream",
     "text": [
      "Early stopping, best iteration is:\n",
      "[96]\ttraining's auc: 0.915266\tvalid_1's auc: 0.884458\n",
      "\n",
      "Avg Accuracy Train Set: 83.08993469336349\n",
      "Avg Accuracy Test Set: 80.1744202409096\n",
      "\n",
      "Avg Recall: 78.03989167072743\n",
      "Avg Precision: 81.525116819646\n",
      "24 25 1.0\n",
      "-\n",
      "Fold 1\n",
      "Training until validation scores don't improve for 25 rounds.\n"
     ]
    },
    {
     "name": "stderr",
     "output_type": "stream",
     "text": [
      "E:\\Anaconda\\envs\\ML\\lib\\site-packages\\lightgbm\\basic.py:742: UserWarning: categorical_feature in param dict is overridden.\n",
      "  warnings.warn('categorical_feature in param dict is overridden.')\n"
     ]
    },
    {
     "name": "stdout",
     "output_type": "stream",
     "text": [
      "Early stopping, best iteration is:\n",
      "[85]\ttraining's auc: 0.914163\tvalid_1's auc: 0.880855\n",
      "-\n",
      "Fold 2\n",
      "Training until validation scores don't improve for 25 rounds.\n"
     ]
    },
    {
     "name": "stderr",
     "output_type": "stream",
     "text": [
      "E:\\Anaconda\\envs\\ML\\lib\\site-packages\\lightgbm\\basic.py:742: UserWarning: categorical_feature in param dict is overridden.\n",
      "  warnings.warn('categorical_feature in param dict is overridden.')\n"
     ]
    },
    {
     "name": "stdout",
     "output_type": "stream",
     "text": [
      "Early stopping, best iteration is:\n",
      "[101]\ttraining's auc: 0.917721\tvalid_1's auc: 0.884455\n",
      "-\n",
      "Fold 3\n",
      "Training until validation scores don't improve for 25 rounds.\n"
     ]
    },
    {
     "name": "stderr",
     "output_type": "stream",
     "text": [
      "E:\\Anaconda\\envs\\ML\\lib\\site-packages\\lightgbm\\basic.py:742: UserWarning: categorical_feature in param dict is overridden.\n",
      "  warnings.warn('categorical_feature in param dict is overridden.')\n"
     ]
    },
    {
     "name": "stdout",
     "output_type": "stream",
     "text": [
      "Early stopping, best iteration is:\n",
      "[111]\ttraining's auc: 0.920933\tvalid_1's auc: 0.881277\n",
      "-\n",
      "Fold 4\n",
      "Training until validation scores don't improve for 25 rounds.\n"
     ]
    },
    {
     "name": "stderr",
     "output_type": "stream",
     "text": [
      "E:\\Anaconda\\envs\\ML\\lib\\site-packages\\lightgbm\\basic.py:742: UserWarning: categorical_feature in param dict is overridden.\n",
      "  warnings.warn('categorical_feature in param dict is overridden.')\n"
     ]
    },
    {
     "name": "stdout",
     "output_type": "stream",
     "text": [
      "Early stopping, best iteration is:\n",
      "[84]\ttraining's auc: 0.911934\tvalid_1's auc: 0.887475\n",
      "-\n",
      "Fold 5\n",
      "Training until validation scores don't improve for 25 rounds.\n"
     ]
    },
    {
     "name": "stderr",
     "output_type": "stream",
     "text": [
      "E:\\Anaconda\\envs\\ML\\lib\\site-packages\\lightgbm\\basic.py:742: UserWarning: categorical_feature in param dict is overridden.\n",
      "  warnings.warn('categorical_feature in param dict is overridden.')\n"
     ]
    },
    {
     "name": "stdout",
     "output_type": "stream",
     "text": [
      "Early stopping, best iteration is:\n",
      "[134]\ttraining's auc: 0.926419\tvalid_1's auc: 0.883514\n",
      "\n",
      "Avg Accuracy Train Set: 83.73607328779408\n",
      "Avg Accuracy Test Set: 80.07460549231513\n",
      "\n",
      "Avg Recall: 78.04262493415906\n",
      "Avg Precision: 81.35130185275669\n",
      "24 30 0.5\n",
      "-\n",
      "Fold 1\n",
      "Training until validation scores don't improve for 25 rounds.\n"
     ]
    },
    {
     "name": "stderr",
     "output_type": "stream",
     "text": [
      "E:\\Anaconda\\envs\\ML\\lib\\site-packages\\lightgbm\\basic.py:742: UserWarning: categorical_feature in param dict is overridden.\n",
      "  warnings.warn('categorical_feature in param dict is overridden.')\n"
     ]
    },
    {
     "name": "stdout",
     "output_type": "stream",
     "text": [
      "Early stopping, best iteration is:\n",
      "[83]\ttraining's auc: 0.910294\tvalid_1's auc: 0.882075\n",
      "-\n",
      "Fold 2\n",
      "Training until validation scores don't improve for 25 rounds.\n"
     ]
    },
    {
     "name": "stderr",
     "output_type": "stream",
     "text": [
      "E:\\Anaconda\\envs\\ML\\lib\\site-packages\\lightgbm\\basic.py:742: UserWarning: categorical_feature in param dict is overridden.\n",
      "  warnings.warn('categorical_feature in param dict is overridden.')\n"
     ]
    },
    {
     "name": "stdout",
     "output_type": "stream",
     "text": [
      "Early stopping, best iteration is:\n",
      "[113]\ttraining's auc: 0.916797\tvalid_1's auc: 0.88513\n",
      "-\n",
      "Fold 3\n",
      "Training until validation scores don't improve for 25 rounds.\n"
     ]
    },
    {
     "name": "stderr",
     "output_type": "stream",
     "text": [
      "E:\\Anaconda\\envs\\ML\\lib\\site-packages\\lightgbm\\basic.py:742: UserWarning: categorical_feature in param dict is overridden.\n",
      "  warnings.warn('categorical_feature in param dict is overridden.')\n"
     ]
    },
    {
     "name": "stdout",
     "output_type": "stream",
     "text": [
      "Early stopping, best iteration is:\n",
      "[101]\ttraining's auc: 0.914353\tvalid_1's auc: 0.882975\n",
      "-\n",
      "Fold 4\n",
      "Training until validation scores don't improve for 25 rounds.\n"
     ]
    },
    {
     "name": "stderr",
     "output_type": "stream",
     "text": [
      "E:\\Anaconda\\envs\\ML\\lib\\site-packages\\lightgbm\\basic.py:742: UserWarning: categorical_feature in param dict is overridden.\n",
      "  warnings.warn('categorical_feature in param dict is overridden.')\n"
     ]
    },
    {
     "name": "stdout",
     "output_type": "stream",
     "text": [
      "Early stopping, best iteration is:\n",
      "[88]\ttraining's auc: 0.910753\tvalid_1's auc: 0.888438\n",
      "-\n",
      "Fold 5\n",
      "Training until validation scores don't improve for 25 rounds.\n"
     ]
    },
    {
     "name": "stderr",
     "output_type": "stream",
     "text": [
      "E:\\Anaconda\\envs\\ML\\lib\\site-packages\\lightgbm\\basic.py:742: UserWarning: categorical_feature in param dict is overridden.\n",
      "  warnings.warn('categorical_feature in param dict is overridden.')\n"
     ]
    },
    {
     "name": "stdout",
     "output_type": "stream",
     "text": [
      "Early stopping, best iteration is:\n",
      "[153]\ttraining's auc: 0.925211\tvalid_1's auc: 0.884682\n",
      "\n",
      "Avg Accuracy Train Set: 83.3289476137551\n",
      "Avg Accuracy Test Set: 80.26368664092902\n",
      "\n",
      "Avg Recall: 77.7909498465093\n",
      "Avg Precision: 81.84355864741549\n",
      "24 30 0.6000000000000001\n",
      "-\n",
      "Fold 1\n",
      "Training until validation scores don't improve for 25 rounds.\n"
     ]
    },
    {
     "name": "stderr",
     "output_type": "stream",
     "text": [
      "E:\\Anaconda\\envs\\ML\\lib\\site-packages\\lightgbm\\basic.py:742: UserWarning: categorical_feature in param dict is overridden.\n",
      "  warnings.warn('categorical_feature in param dict is overridden.')\n"
     ]
    },
    {
     "name": "stdout",
     "output_type": "stream",
     "text": [
      "Early stopping, best iteration is:\n",
      "[85]\ttraining's auc: 0.911516\tvalid_1's auc: 0.881426\n",
      "-\n",
      "Fold 2\n",
      "Training until validation scores don't improve for 25 rounds.\n"
     ]
    },
    {
     "name": "stderr",
     "output_type": "stream",
     "text": [
      "E:\\Anaconda\\envs\\ML\\lib\\site-packages\\lightgbm\\basic.py:742: UserWarning: categorical_feature in param dict is overridden.\n",
      "  warnings.warn('categorical_feature in param dict is overridden.')\n"
     ]
    },
    {
     "name": "stdout",
     "output_type": "stream",
     "text": [
      "Early stopping, best iteration is:\n",
      "[85]\ttraining's auc: 0.91038\tvalid_1's auc: 0.886352\n",
      "-\n",
      "Fold 3\n",
      "Training until validation scores don't improve for 25 rounds.\n"
     ]
    },
    {
     "name": "stderr",
     "output_type": "stream",
     "text": [
      "E:\\Anaconda\\envs\\ML\\lib\\site-packages\\lightgbm\\basic.py:742: UserWarning: categorical_feature in param dict is overridden.\n",
      "  warnings.warn('categorical_feature in param dict is overridden.')\n"
     ]
    },
    {
     "name": "stdout",
     "output_type": "stream",
     "text": [
      "Early stopping, best iteration is:\n",
      "[116]\ttraining's auc: 0.919564\tvalid_1's auc: 0.883213\n",
      "-\n",
      "Fold 4\n",
      "Training until validation scores don't improve for 25 rounds.\n"
     ]
    },
    {
     "name": "stderr",
     "output_type": "stream",
     "text": [
      "E:\\Anaconda\\envs\\ML\\lib\\site-packages\\lightgbm\\basic.py:742: UserWarning: categorical_feature in param dict is overridden.\n",
      "  warnings.warn('categorical_feature in param dict is overridden.')\n"
     ]
    },
    {
     "name": "stdout",
     "output_type": "stream",
     "text": [
      "Early stopping, best iteration is:\n",
      "[96]\ttraining's auc: 0.9133\tvalid_1's auc: 0.887854\n",
      "-\n",
      "Fold 5\n",
      "Training until validation scores don't improve for 25 rounds.\n"
     ]
    },
    {
     "name": "stderr",
     "output_type": "stream",
     "text": [
      "E:\\Anaconda\\envs\\ML\\lib\\site-packages\\lightgbm\\basic.py:742: UserWarning: categorical_feature in param dict is overridden.\n",
      "  warnings.warn('categorical_feature in param dict is overridden.')\n"
     ]
    },
    {
     "name": "stdout",
     "output_type": "stream",
     "text": [
      "Early stopping, best iteration is:\n",
      "[131]\ttraining's auc: 0.922464\tvalid_1's auc: 0.884355\n",
      "\n",
      "Avg Accuracy Train Set: 83.32895106341066\n",
      "Avg Accuracy Test Set: 80.20593008677073\n",
      "\n",
      "Avg Recall: 77.77963686245951\n",
      "Avg Precision: 81.75074095761912\n",
      "24 30 0.7000000000000001\n",
      "-\n",
      "Fold 1\n",
      "Training until validation scores don't improve for 25 rounds.\n"
     ]
    },
    {
     "name": "stderr",
     "output_type": "stream",
     "text": [
      "E:\\Anaconda\\envs\\ML\\lib\\site-packages\\lightgbm\\basic.py:742: UserWarning: categorical_feature in param dict is overridden.\n",
      "  warnings.warn('categorical_feature in param dict is overridden.')\n"
     ]
    },
    {
     "name": "stdout",
     "output_type": "stream",
     "text": [
      "Early stopping, best iteration is:\n",
      "[89]\ttraining's auc: 0.913399\tvalid_1's auc: 0.880821\n",
      "-\n",
      "Fold 2\n",
      "Training until validation scores don't improve for 25 rounds.\n"
     ]
    },
    {
     "name": "stderr",
     "output_type": "stream",
     "text": [
      "E:\\Anaconda\\envs\\ML\\lib\\site-packages\\lightgbm\\basic.py:742: UserWarning: categorical_feature in param dict is overridden.\n",
      "  warnings.warn('categorical_feature in param dict is overridden.')\n"
     ]
    },
    {
     "name": "stdout",
     "output_type": "stream",
     "text": [
      "Early stopping, best iteration is:\n",
      "[83]\ttraining's auc: 0.911139\tvalid_1's auc: 0.886029\n",
      "-\n",
      "Fold 3\n",
      "Training until validation scores don't improve for 25 rounds.\n"
     ]
    },
    {
     "name": "stderr",
     "output_type": "stream",
     "text": [
      "E:\\Anaconda\\envs\\ML\\lib\\site-packages\\lightgbm\\basic.py:742: UserWarning: categorical_feature in param dict is overridden.\n",
      "  warnings.warn('categorical_feature in param dict is overridden.')\n"
     ]
    },
    {
     "name": "stdout",
     "output_type": "stream",
     "text": [
      "Early stopping, best iteration is:\n",
      "[142]\ttraining's auc: 0.927156\tvalid_1's auc: 0.883044\n",
      "-\n",
      "Fold 4\n",
      "Training until validation scores don't improve for 25 rounds.\n"
     ]
    },
    {
     "name": "stderr",
     "output_type": "stream",
     "text": [
      "E:\\Anaconda\\envs\\ML\\lib\\site-packages\\lightgbm\\basic.py:742: UserWarning: categorical_feature in param dict is overridden.\n",
      "  warnings.warn('categorical_feature in param dict is overridden.')\n"
     ]
    },
    {
     "name": "stdout",
     "output_type": "stream",
     "text": [
      "Early stopping, best iteration is:\n",
      "[82]\ttraining's auc: 0.909937\tvalid_1's auc: 0.887219\n",
      "-\n",
      "Fold 5\n",
      "Training until validation scores don't improve for 25 rounds.\n"
     ]
    },
    {
     "name": "stderr",
     "output_type": "stream",
     "text": [
      "E:\\Anaconda\\envs\\ML\\lib\\site-packages\\lightgbm\\basic.py:742: UserWarning: categorical_feature in param dict is overridden.\n",
      "  warnings.warn('categorical_feature in param dict is overridden.')\n"
     ]
    },
    {
     "name": "stdout",
     "output_type": "stream",
     "text": [
      "Early stopping, best iteration is:\n",
      "[108]\ttraining's auc: 0.918097\tvalid_1's auc: 0.883875\n",
      "\n",
      "Avg Accuracy Train Set: 83.49311654869966\n",
      "Avg Accuracy Test Set: 80.2321767950679\n",
      "\n",
      "Avg Recall: 77.97974066175323\n",
      "Avg Precision: 81.66602659185118\n",
      "24 30 0.8\n",
      "-\n",
      "Fold 1\n",
      "Training until validation scores don't improve for 25 rounds.\n"
     ]
    },
    {
     "name": "stderr",
     "output_type": "stream",
     "text": [
      "E:\\Anaconda\\envs\\ML\\lib\\site-packages\\lightgbm\\basic.py:742: UserWarning: categorical_feature in param dict is overridden.\n",
      "  warnings.warn('categorical_feature in param dict is overridden.')\n"
     ]
    },
    {
     "name": "stdout",
     "output_type": "stream",
     "text": [
      "Early stopping, best iteration is:\n",
      "[105]\ttraining's auc: 0.918709\tvalid_1's auc: 0.880588\n",
      "-\n",
      "Fold 2\n",
      "Training until validation scores don't improve for 25 rounds.\n"
     ]
    },
    {
     "name": "stderr",
     "output_type": "stream",
     "text": [
      "E:\\Anaconda\\envs\\ML\\lib\\site-packages\\lightgbm\\basic.py:742: UserWarning: categorical_feature in param dict is overridden.\n",
      "  warnings.warn('categorical_feature in param dict is overridden.')\n"
     ]
    },
    {
     "name": "stdout",
     "output_type": "stream",
     "text": [
      "Early stopping, best iteration is:\n",
      "[78]\ttraining's auc: 0.909557\tvalid_1's auc: 0.885783\n",
      "-\n",
      "Fold 3\n",
      "Training until validation scores don't improve for 25 rounds.\n"
     ]
    },
    {
     "name": "stderr",
     "output_type": "stream",
     "text": [
      "E:\\Anaconda\\envs\\ML\\lib\\site-packages\\lightgbm\\basic.py:742: UserWarning: categorical_feature in param dict is overridden.\n",
      "  warnings.warn('categorical_feature in param dict is overridden.')\n"
     ]
    },
    {
     "name": "stdout",
     "output_type": "stream",
     "text": [
      "Early stopping, best iteration is:\n",
      "[96]\ttraining's auc: 0.915317\tvalid_1's auc: 0.880685\n",
      "-\n",
      "Fold 4\n",
      "Training until validation scores don't improve for 25 rounds.\n"
     ]
    },
    {
     "name": "stderr",
     "output_type": "stream",
     "text": [
      "E:\\Anaconda\\envs\\ML\\lib\\site-packages\\lightgbm\\basic.py:742: UserWarning: categorical_feature in param dict is overridden.\n",
      "  warnings.warn('categorical_feature in param dict is overridden.')\n"
     ]
    },
    {
     "name": "stdout",
     "output_type": "stream",
     "text": [
      "Early stopping, best iteration is:\n",
      "[81]\ttraining's auc: 0.909614\tvalid_1's auc: 0.887335\n",
      "-\n",
      "Fold 5\n",
      "Training until validation scores don't improve for 25 rounds.\n"
     ]
    },
    {
     "name": "stderr",
     "output_type": "stream",
     "text": [
      "E:\\Anaconda\\envs\\ML\\lib\\site-packages\\lightgbm\\basic.py:742: UserWarning: categorical_feature in param dict is overridden.\n",
      "  warnings.warn('categorical_feature in param dict is overridden.')\n"
     ]
    },
    {
     "name": "stdout",
     "output_type": "stream",
     "text": [
      "Early stopping, best iteration is:\n",
      "[126]\ttraining's auc: 0.922648\tvalid_1's auc: 0.885322\n",
      "\n",
      "Avg Accuracy Train Set: 83.3250213882956\n",
      "Avg Accuracy Test Set: 80.2689759907115\n",
      "\n",
      "Avg Recall: 77.71624645613647\n",
      "Avg Precision: 81.90232931263816\n",
      "24 30 0.9\n",
      "-\n",
      "Fold 1\n",
      "Training until validation scores don't improve for 25 rounds.\n"
     ]
    },
    {
     "name": "stderr",
     "output_type": "stream",
     "text": [
      "E:\\Anaconda\\envs\\ML\\lib\\site-packages\\lightgbm\\basic.py:742: UserWarning: categorical_feature in param dict is overridden.\n",
      "  warnings.warn('categorical_feature in param dict is overridden.')\n"
     ]
    },
    {
     "name": "stdout",
     "output_type": "stream",
     "text": [
      "Early stopping, best iteration is:\n",
      "[80]\ttraining's auc: 0.911752\tvalid_1's auc: 0.880156\n",
      "-\n",
      "Fold 2\n",
      "Training until validation scores don't improve for 25 rounds.\n"
     ]
    },
    {
     "name": "stderr",
     "output_type": "stream",
     "text": [
      "E:\\Anaconda\\envs\\ML\\lib\\site-packages\\lightgbm\\basic.py:742: UserWarning: categorical_feature in param dict is overridden.\n",
      "  warnings.warn('categorical_feature in param dict is overridden.')\n"
     ]
    },
    {
     "name": "stdout",
     "output_type": "stream",
     "text": [
      "Early stopping, best iteration is:\n",
      "[93]\ttraining's auc: 0.914694\tvalid_1's auc: 0.885229\n",
      "-\n",
      "Fold 3\n",
      "Training until validation scores don't improve for 25 rounds.\n"
     ]
    },
    {
     "name": "stderr",
     "output_type": "stream",
     "text": [
      "E:\\Anaconda\\envs\\ML\\lib\\site-packages\\lightgbm\\basic.py:742: UserWarning: categorical_feature in param dict is overridden.\n",
      "  warnings.warn('categorical_feature in param dict is overridden.')\n"
     ]
    },
    {
     "name": "stdout",
     "output_type": "stream",
     "text": [
      "Early stopping, best iteration is:\n",
      "[93]\ttraining's auc: 0.914844\tvalid_1's auc: 0.88146\n",
      "-\n",
      "Fold 4\n",
      "Training until validation scores don't improve for 25 rounds.\n"
     ]
    },
    {
     "name": "stderr",
     "output_type": "stream",
     "text": [
      "E:\\Anaconda\\envs\\ML\\lib\\site-packages\\lightgbm\\basic.py:742: UserWarning: categorical_feature in param dict is overridden.\n",
      "  warnings.warn('categorical_feature in param dict is overridden.')\n"
     ]
    },
    {
     "name": "stdout",
     "output_type": "stream",
     "text": [
      "Early stopping, best iteration is:\n",
      "[80]\ttraining's auc: 0.909916\tvalid_1's auc: 0.889388\n",
      "-\n",
      "Fold 5\n",
      "Training until validation scores don't improve for 25 rounds.\n"
     ]
    },
    {
     "name": "stderr",
     "output_type": "stream",
     "text": [
      "E:\\Anaconda\\envs\\ML\\lib\\site-packages\\lightgbm\\basic.py:742: UserWarning: categorical_feature in param dict is overridden.\n",
      "  warnings.warn('categorical_feature in param dict is overridden.')\n"
     ]
    },
    {
     "name": "stdout",
     "output_type": "stream",
     "text": [
      "Early stopping, best iteration is:\n",
      "[118]\ttraining's auc: 0.921532\tvalid_1's auc: 0.885009\n",
      "\n",
      "Avg Accuracy Train Set: 83.36178445368918\n",
      "Avg Accuracy Test Set: 80.20594802144657\n",
      "\n",
      "Avg Recall: 78.25124858763574\n",
      "Avg Precision: 81.44002326419499\n",
      "24 30 1.0\n",
      "-\n",
      "Fold 1\n",
      "Training until validation scores don't improve for 25 rounds.\n"
     ]
    },
    {
     "name": "stderr",
     "output_type": "stream",
     "text": [
      "E:\\Anaconda\\envs\\ML\\lib\\site-packages\\lightgbm\\basic.py:742: UserWarning: categorical_feature in param dict is overridden.\n",
      "  warnings.warn('categorical_feature in param dict is overridden.')\n"
     ]
    },
    {
     "name": "stdout",
     "output_type": "stream",
     "text": [
      "Early stopping, best iteration is:\n",
      "[81]\ttraining's auc: 0.912199\tvalid_1's auc: 0.880956\n",
      "-\n",
      "Fold 2\n",
      "Training until validation scores don't improve for 25 rounds.\n"
     ]
    },
    {
     "name": "stderr",
     "output_type": "stream",
     "text": [
      "E:\\Anaconda\\envs\\ML\\lib\\site-packages\\lightgbm\\basic.py:742: UserWarning: categorical_feature in param dict is overridden.\n",
      "  warnings.warn('categorical_feature in param dict is overridden.')\n"
     ]
    },
    {
     "name": "stdout",
     "output_type": "stream",
     "text": [
      "Early stopping, best iteration is:\n",
      "[98]\ttraining's auc: 0.916737\tvalid_1's auc: 0.884971\n",
      "-\n",
      "Fold 3\n",
      "Training until validation scores don't improve for 25 rounds.\n"
     ]
    },
    {
     "name": "stderr",
     "output_type": "stream",
     "text": [
      "E:\\Anaconda\\envs\\ML\\lib\\site-packages\\lightgbm\\basic.py:742: UserWarning: categorical_feature in param dict is overridden.\n",
      "  warnings.warn('categorical_feature in param dict is overridden.')\n"
     ]
    },
    {
     "name": "stdout",
     "output_type": "stream",
     "text": [
      "Early stopping, best iteration is:\n",
      "[116]\ttraining's auc: 0.922651\tvalid_1's auc: 0.881364\n",
      "-\n",
      "Fold 4\n",
      "Training until validation scores don't improve for 25 rounds.\n"
     ]
    },
    {
     "name": "stderr",
     "output_type": "stream",
     "text": [
      "E:\\Anaconda\\envs\\ML\\lib\\site-packages\\lightgbm\\basic.py:742: UserWarning: categorical_feature in param dict is overridden.\n",
      "  warnings.warn('categorical_feature in param dict is overridden.')\n"
     ]
    },
    {
     "name": "stdout",
     "output_type": "stream",
     "text": [
      "Early stopping, best iteration is:\n",
      "[81]\ttraining's auc: 0.910939\tvalid_1's auc: 0.88808\n",
      "-\n",
      "Fold 5\n",
      "Training until validation scores don't improve for 25 rounds.\n"
     ]
    },
    {
     "name": "stderr",
     "output_type": "stream",
     "text": [
      "E:\\Anaconda\\envs\\ML\\lib\\site-packages\\lightgbm\\basic.py:742: UserWarning: categorical_feature in param dict is overridden.\n",
      "  warnings.warn('categorical_feature in param dict is overridden.')\n"
     ]
    },
    {
     "name": "stdout",
     "output_type": "stream",
     "text": [
      "Early stopping, best iteration is:\n",
      "[112]\ttraining's auc: 0.920446\tvalid_1's auc: 0.88379\n",
      "\n",
      "Avg Accuracy Train Set: 83.58635616731057\n",
      "Avg Accuracy Test Set: 80.09035903565524\n",
      "\n",
      "Avg Recall: 77.96760558031724\n",
      "Avg Precision: 81.42635645069193\n",
      "24 35 0.5\n",
      "-\n",
      "Fold 1\n",
      "Training until validation scores don't improve for 25 rounds.\n"
     ]
    },
    {
     "name": "stderr",
     "output_type": "stream",
     "text": [
      "E:\\Anaconda\\envs\\ML\\lib\\site-packages\\lightgbm\\basic.py:742: UserWarning: categorical_feature in param dict is overridden.\n",
      "  warnings.warn('categorical_feature in param dict is overridden.')\n"
     ]
    },
    {
     "name": "stdout",
     "output_type": "stream",
     "text": [
      "Early stopping, best iteration is:\n",
      "[83]\ttraining's auc: 0.910005\tvalid_1's auc: 0.88187\n",
      "-\n",
      "Fold 2\n",
      "Training until validation scores don't improve for 25 rounds.\n"
     ]
    },
    {
     "name": "stderr",
     "output_type": "stream",
     "text": [
      "E:\\Anaconda\\envs\\ML\\lib\\site-packages\\lightgbm\\basic.py:742: UserWarning: categorical_feature in param dict is overridden.\n",
      "  warnings.warn('categorical_feature in param dict is overridden.')\n"
     ]
    },
    {
     "name": "stdout",
     "output_type": "stream",
     "text": [
      "Early stopping, best iteration is:\n",
      "[97]\ttraining's auc: 0.912882\tvalid_1's auc: 0.887141\n",
      "-\n",
      "Fold 3\n",
      "Training until validation scores don't improve for 25 rounds.\n"
     ]
    },
    {
     "name": "stderr",
     "output_type": "stream",
     "text": [
      "E:\\Anaconda\\envs\\ML\\lib\\site-packages\\lightgbm\\basic.py:742: UserWarning: categorical_feature in param dict is overridden.\n",
      "  warnings.warn('categorical_feature in param dict is overridden.')\n"
     ]
    },
    {
     "name": "stdout",
     "output_type": "stream",
     "text": [
      "Early stopping, best iteration is:\n",
      "[87]\ttraining's auc: 0.910365\tvalid_1's auc: 0.883781\n",
      "-\n",
      "Fold 4\n",
      "Training until validation scores don't improve for 25 rounds.\n"
     ]
    },
    {
     "name": "stderr",
     "output_type": "stream",
     "text": [
      "E:\\Anaconda\\envs\\ML\\lib\\site-packages\\lightgbm\\basic.py:742: UserWarning: categorical_feature in param dict is overridden.\n",
      "  warnings.warn('categorical_feature in param dict is overridden.')\n"
     ]
    },
    {
     "name": "stdout",
     "output_type": "stream",
     "text": [
      "Early stopping, best iteration is:\n",
      "[92]\ttraining's auc: 0.911201\tvalid_1's auc: 0.888244\n",
      "-\n",
      "Fold 5\n",
      "Training until validation scores don't improve for 25 rounds.\n"
     ]
    },
    {
     "name": "stderr",
     "output_type": "stream",
     "text": [
      "E:\\Anaconda\\envs\\ML\\lib\\site-packages\\lightgbm\\basic.py:742: UserWarning: categorical_feature in param dict is overridden.\n",
      "  warnings.warn('categorical_feature in param dict is overridden.')\n"
     ]
    },
    {
     "name": "stdout",
     "output_type": "stream",
     "text": [
      "Early stopping, best iteration is:\n",
      "[88]\ttraining's auc: 0.910774\tvalid_1's auc: 0.883756\n",
      "\n",
      "Avg Accuracy Train Set: 82.85091444245381\n",
      "Avg Accuracy Test Set: 80.30047755902993\n",
      "\n",
      "Avg Recall: 77.96623505160471\n",
      "Avg Precision: 81.78394146390312\n",
      "24 35 0.6000000000000001\n",
      "-\n",
      "Fold 1\n",
      "Training until validation scores don't improve for 25 rounds.\n"
     ]
    },
    {
     "name": "stderr",
     "output_type": "stream",
     "text": [
      "E:\\Anaconda\\envs\\ML\\lib\\site-packages\\lightgbm\\basic.py:742: UserWarning: categorical_feature in param dict is overridden.\n",
      "  warnings.warn('categorical_feature in param dict is overridden.')\n"
     ]
    },
    {
     "name": "stdout",
     "output_type": "stream",
     "text": [
      "Early stopping, best iteration is:\n",
      "[79]\ttraining's auc: 0.909465\tvalid_1's auc: 0.881371\n",
      "-\n",
      "Fold 2\n",
      "Training until validation scores don't improve for 25 rounds.\n"
     ]
    },
    {
     "name": "stderr",
     "output_type": "stream",
     "text": [
      "E:\\Anaconda\\envs\\ML\\lib\\site-packages\\lightgbm\\basic.py:742: UserWarning: categorical_feature in param dict is overridden.\n",
      "  warnings.warn('categorical_feature in param dict is overridden.')\n"
     ]
    },
    {
     "name": "stdout",
     "output_type": "stream",
     "text": [
      "Early stopping, best iteration is:\n",
      "[84]\ttraining's auc: 0.909374\tvalid_1's auc: 0.885625\n",
      "-\n",
      "Fold 3\n",
      "Training until validation scores don't improve for 25 rounds.\n"
     ]
    },
    {
     "name": "stderr",
     "output_type": "stream",
     "text": [
      "E:\\Anaconda\\envs\\ML\\lib\\site-packages\\lightgbm\\basic.py:742: UserWarning: categorical_feature in param dict is overridden.\n",
      "  warnings.warn('categorical_feature in param dict is overridden.')\n"
     ]
    },
    {
     "name": "stdout",
     "output_type": "stream",
     "text": [
      "Early stopping, best iteration is:\n",
      "[116]\ttraining's auc: 0.918808\tvalid_1's auc: 0.883459\n",
      "-\n",
      "Fold 4\n",
      "Training until validation scores don't improve for 25 rounds.\n"
     ]
    },
    {
     "name": "stderr",
     "output_type": "stream",
     "text": [
      "E:\\Anaconda\\envs\\ML\\lib\\site-packages\\lightgbm\\basic.py:742: UserWarning: categorical_feature in param dict is overridden.\n",
      "  warnings.warn('categorical_feature in param dict is overridden.')\n"
     ]
    },
    {
     "name": "stdout",
     "output_type": "stream",
     "text": [
      "Early stopping, best iteration is:\n",
      "[83]\ttraining's auc: 0.908956\tvalid_1's auc: 0.88859\n",
      "-\n",
      "Fold 5\n",
      "Training until validation scores don't improve for 25 rounds.\n"
     ]
    },
    {
     "name": "stderr",
     "output_type": "stream",
     "text": [
      "E:\\Anaconda\\envs\\ML\\lib\\site-packages\\lightgbm\\basic.py:742: UserWarning: categorical_feature in param dict is overridden.\n",
      "  warnings.warn('categorical_feature in param dict is overridden.')\n"
     ]
    },
    {
     "name": "stdout",
     "output_type": "stream",
     "text": [
      "Early stopping, best iteration is:\n",
      "[82]\ttraining's auc: 0.909717\tvalid_1's auc: 0.883759\n",
      "\n",
      "Avg Accuracy Train Set: 82.87717718757276\n",
      "Avg Accuracy Test Set: 80.20068488388263\n",
      "\n",
      "Avg Recall: 77.9245872835472\n",
      "Avg Precision: 81.64334784004764\n",
      "24 35 0.7000000000000001\n",
      "-\n",
      "Fold 1\n",
      "Training until validation scores don't improve for 25 rounds.\n"
     ]
    },
    {
     "name": "stderr",
     "output_type": "stream",
     "text": [
      "E:\\Anaconda\\envs\\ML\\lib\\site-packages\\lightgbm\\basic.py:742: UserWarning: categorical_feature in param dict is overridden.\n",
      "  warnings.warn('categorical_feature in param dict is overridden.')\n"
     ]
    },
    {
     "name": "stdout",
     "output_type": "stream",
     "text": [
      "Early stopping, best iteration is:\n",
      "[84]\ttraining's auc: 0.911877\tvalid_1's auc: 0.881184\n",
      "-\n",
      "Fold 2\n",
      "Training until validation scores don't improve for 25 rounds.\n"
     ]
    },
    {
     "name": "stderr",
     "output_type": "stream",
     "text": [
      "E:\\Anaconda\\envs\\ML\\lib\\site-packages\\lightgbm\\basic.py:742: UserWarning: categorical_feature in param dict is overridden.\n",
      "  warnings.warn('categorical_feature in param dict is overridden.')\n"
     ]
    },
    {
     "name": "stdout",
     "output_type": "stream",
     "text": [
      "Early stopping, best iteration is:\n",
      "[100]\ttraining's auc: 0.915916\tvalid_1's auc: 0.886183\n",
      "-\n",
      "Fold 3\n",
      "Training until validation scores don't improve for 25 rounds.\n"
     ]
    },
    {
     "name": "stderr",
     "output_type": "stream",
     "text": [
      "E:\\Anaconda\\envs\\ML\\lib\\site-packages\\lightgbm\\basic.py:742: UserWarning: categorical_feature in param dict is overridden.\n",
      "  warnings.warn('categorical_feature in param dict is overridden.')\n"
     ]
    },
    {
     "name": "stdout",
     "output_type": "stream",
     "text": [
      "Early stopping, best iteration is:\n",
      "[96]\ttraining's auc: 0.914966\tvalid_1's auc: 0.882881\n",
      "-\n",
      "Fold 4\n",
      "Training until validation scores don't improve for 25 rounds.\n"
     ]
    },
    {
     "name": "stderr",
     "output_type": "stream",
     "text": [
      "E:\\Anaconda\\envs\\ML\\lib\\site-packages\\lightgbm\\basic.py:742: UserWarning: categorical_feature in param dict is overridden.\n",
      "  warnings.warn('categorical_feature in param dict is overridden.')\n"
     ]
    },
    {
     "name": "stdout",
     "output_type": "stream",
     "text": [
      "Early stopping, best iteration is:\n",
      "[77]\ttraining's auc: 0.908354\tvalid_1's auc: 0.88762\n",
      "-\n",
      "Fold 5\n",
      "Training until validation scores don't improve for 25 rounds.\n"
     ]
    },
    {
     "name": "stderr",
     "output_type": "stream",
     "text": [
      "E:\\Anaconda\\envs\\ML\\lib\\site-packages\\lightgbm\\basic.py:742: UserWarning: categorical_feature in param dict is overridden.\n",
      "  warnings.warn('categorical_feature in param dict is overridden.')\n"
     ]
    },
    {
     "name": "stdout",
     "output_type": "stream",
     "text": [
      "Early stopping, best iteration is:\n",
      "[98]\ttraining's auc: 0.914918\tvalid_1's auc: 0.88429\n",
      "\n",
      "Avg Accuracy Train Set: 83.09518515534566\n",
      "Avg Accuracy Test Set: 80.31625179622677\n",
      "\n",
      "Avg Recall: 78.17970184406019\n",
      "Avg Precision: 81.67490744078859\n",
      "24 35 0.8\n",
      "-\n",
      "Fold 1\n",
      "Training until validation scores don't improve for 25 rounds.\n"
     ]
    },
    {
     "name": "stderr",
     "output_type": "stream",
     "text": [
      "E:\\Anaconda\\envs\\ML\\lib\\site-packages\\lightgbm\\basic.py:742: UserWarning: categorical_feature in param dict is overridden.\n",
      "  warnings.warn('categorical_feature in param dict is overridden.')\n"
     ]
    },
    {
     "name": "stdout",
     "output_type": "stream",
     "text": [
      "Early stopping, best iteration is:\n",
      "[75]\ttraining's auc: 0.909018\tvalid_1's auc: 0.879876\n",
      "-\n",
      "Fold 2\n",
      "Training until validation scores don't improve for 25 rounds.\n"
     ]
    },
    {
     "name": "stderr",
     "output_type": "stream",
     "text": [
      "E:\\Anaconda\\envs\\ML\\lib\\site-packages\\lightgbm\\basic.py:742: UserWarning: categorical_feature in param dict is overridden.\n",
      "  warnings.warn('categorical_feature in param dict is overridden.')\n"
     ]
    },
    {
     "name": "stdout",
     "output_type": "stream",
     "text": [
      "Early stopping, best iteration is:\n",
      "[97]\ttraining's auc: 0.915093\tvalid_1's auc: 0.886549\n",
      "-\n",
      "Fold 3\n",
      "Training until validation scores don't improve for 25 rounds.\n"
     ]
    },
    {
     "name": "stderr",
     "output_type": "stream",
     "text": [
      "E:\\Anaconda\\envs\\ML\\lib\\site-packages\\lightgbm\\basic.py:742: UserWarning: categorical_feature in param dict is overridden.\n",
      "  warnings.warn('categorical_feature in param dict is overridden.')\n"
     ]
    },
    {
     "name": "stdout",
     "output_type": "stream",
     "text": [
      "Early stopping, best iteration is:\n",
      "[88]\ttraining's auc: 0.913068\tvalid_1's auc: 0.882737\n",
      "-\n",
      "Fold 4\n",
      "Training until validation scores don't improve for 25 rounds.\n"
     ]
    },
    {
     "name": "stderr",
     "output_type": "stream",
     "text": [
      "E:\\Anaconda\\envs\\ML\\lib\\site-packages\\lightgbm\\basic.py:742: UserWarning: categorical_feature in param dict is overridden.\n",
      "  warnings.warn('categorical_feature in param dict is overridden.')\n"
     ]
    },
    {
     "name": "stdout",
     "output_type": "stream",
     "text": [
      "Early stopping, best iteration is:\n",
      "[122]\ttraining's auc: 0.921622\tvalid_1's auc: 0.888589\n",
      "-\n",
      "Fold 5\n",
      "Training until validation scores don't improve for 25 rounds.\n"
     ]
    },
    {
     "name": "stderr",
     "output_type": "stream",
     "text": [
      "E:\\Anaconda\\envs\\ML\\lib\\site-packages\\lightgbm\\basic.py:742: UserWarning: categorical_feature in param dict is overridden.\n",
      "  warnings.warn('categorical_feature in param dict is overridden.')\n"
     ]
    },
    {
     "name": "stdout",
     "output_type": "stream",
     "text": [
      "Early stopping, best iteration is:\n",
      "[106]\ttraining's auc: 0.91769\tvalid_1's auc: 0.884306\n",
      "\n",
      "Avg Accuracy Train Set: 83.40774637056134\n",
      "Avg Accuracy Test Set: 80.23746752444083\n",
      "\n",
      "Avg Recall: 77.93638631937867\n",
      "Avg Precision: 81.70113829069206\n",
      "24 35 0.9\n",
      "-\n",
      "Fold 1\n",
      "Training until validation scores don't improve for 25 rounds.\n"
     ]
    },
    {
     "name": "stderr",
     "output_type": "stream",
     "text": [
      "E:\\Anaconda\\envs\\ML\\lib\\site-packages\\lightgbm\\basic.py:742: UserWarning: categorical_feature in param dict is overridden.\n",
      "  warnings.warn('categorical_feature in param dict is overridden.')\n"
     ]
    },
    {
     "name": "stdout",
     "output_type": "stream",
     "text": [
      "Early stopping, best iteration is:\n",
      "[79]\ttraining's auc: 0.911059\tvalid_1's auc: 0.880452\n",
      "-\n",
      "Fold 2\n",
      "Training until validation scores don't improve for 25 rounds.\n"
     ]
    },
    {
     "name": "stderr",
     "output_type": "stream",
     "text": [
      "E:\\Anaconda\\envs\\ML\\lib\\site-packages\\lightgbm\\basic.py:742: UserWarning: categorical_feature in param dict is overridden.\n",
      "  warnings.warn('categorical_feature in param dict is overridden.')\n"
     ]
    },
    {
     "name": "stdout",
     "output_type": "stream",
     "text": [
      "Early stopping, best iteration is:\n",
      "[81]\ttraining's auc: 0.910194\tvalid_1's auc: 0.885884\n",
      "-\n",
      "Fold 3\n",
      "Training until validation scores don't improve for 25 rounds.\n"
     ]
    },
    {
     "name": "stderr",
     "output_type": "stream",
     "text": [
      "E:\\Anaconda\\envs\\ML\\lib\\site-packages\\lightgbm\\basic.py:742: UserWarning: categorical_feature in param dict is overridden.\n",
      "  warnings.warn('categorical_feature in param dict is overridden.')\n"
     ]
    },
    {
     "name": "stdout",
     "output_type": "stream",
     "text": [
      "Early stopping, best iteration is:\n",
      "[88]\ttraining's auc: 0.913607\tvalid_1's auc: 0.882149\n",
      "-\n",
      "Fold 4\n",
      "Training until validation scores don't improve for 25 rounds.\n"
     ]
    },
    {
     "name": "stderr",
     "output_type": "stream",
     "text": [
      "E:\\Anaconda\\envs\\ML\\lib\\site-packages\\lightgbm\\basic.py:742: UserWarning: categorical_feature in param dict is overridden.\n",
      "  warnings.warn('categorical_feature in param dict is overridden.')\n"
     ]
    },
    {
     "name": "stdout",
     "output_type": "stream",
     "text": [
      "Early stopping, best iteration is:\n",
      "[86]\ttraining's auc: 0.911063\tvalid_1's auc: 0.887173\n",
      "-\n",
      "Fold 5\n",
      "Training until validation scores don't improve for 25 rounds.\n"
     ]
    },
    {
     "name": "stderr",
     "output_type": "stream",
     "text": [
      "E:\\Anaconda\\envs\\ML\\lib\\site-packages\\lightgbm\\basic.py:742: UserWarning: categorical_feature in param dict is overridden.\n",
      "  warnings.warn('categorical_feature in param dict is overridden.')\n"
     ]
    },
    {
     "name": "stdout",
     "output_type": "stream",
     "text": [
      "Early stopping, best iteration is:\n",
      "[120]\ttraining's auc: 0.920977\tvalid_1's auc: 0.884477\n",
      "\n",
      "Avg Accuracy Train Set: 83.18055015900066\n",
      "Avg Accuracy Test Set: 80.17441886131915\n",
      "\n",
      "Avg Recall: 78.11429474397718\n",
      "Avg Precision: 81.47248219718516\n",
      "24 35 1.0\n",
      "-\n",
      "Fold 1\n",
      "Training until validation scores don't improve for 25 rounds.\n"
     ]
    },
    {
     "name": "stderr",
     "output_type": "stream",
     "text": [
      "E:\\Anaconda\\envs\\ML\\lib\\site-packages\\lightgbm\\basic.py:742: UserWarning: categorical_feature in param dict is overridden.\n",
      "  warnings.warn('categorical_feature in param dict is overridden.')\n"
     ]
    },
    {
     "name": "stdout",
     "output_type": "stream",
     "text": [
      "Early stopping, best iteration is:\n",
      "[71]\ttraining's auc: 0.909219\tvalid_1's auc: 0.880313\n",
      "-\n",
      "Fold 2\n",
      "Training until validation scores don't improve for 25 rounds.\n"
     ]
    },
    {
     "name": "stderr",
     "output_type": "stream",
     "text": [
      "E:\\Anaconda\\envs\\ML\\lib\\site-packages\\lightgbm\\basic.py:742: UserWarning: categorical_feature in param dict is overridden.\n",
      "  warnings.warn('categorical_feature in param dict is overridden.')\n"
     ]
    },
    {
     "name": "stdout",
     "output_type": "stream",
     "text": [
      "Early stopping, best iteration is:\n",
      "[89]\ttraining's auc: 0.913859\tvalid_1's auc: 0.885031\n",
      "-\n",
      "Fold 3\n",
      "Training until validation scores don't improve for 25 rounds.\n"
     ]
    },
    {
     "name": "stderr",
     "output_type": "stream",
     "text": [
      "E:\\Anaconda\\envs\\ML\\lib\\site-packages\\lightgbm\\basic.py:742: UserWarning: categorical_feature in param dict is overridden.\n",
      "  warnings.warn('categorical_feature in param dict is overridden.')\n"
     ]
    },
    {
     "name": "stdout",
     "output_type": "stream",
     "text": [
      "Early stopping, best iteration is:\n",
      "[74]\ttraining's auc: 0.909834\tvalid_1's auc: 0.882146\n",
      "-\n",
      "Fold 4\n",
      "Training until validation scores don't improve for 25 rounds.\n"
     ]
    },
    {
     "name": "stderr",
     "output_type": "stream",
     "text": [
      "E:\\Anaconda\\envs\\ML\\lib\\site-packages\\lightgbm\\basic.py:742: UserWarning: categorical_feature in param dict is overridden.\n",
      "  warnings.warn('categorical_feature in param dict is overridden.')\n"
     ]
    },
    {
     "name": "stdout",
     "output_type": "stream",
     "text": [
      "Early stopping, best iteration is:\n",
      "[96]\ttraining's auc: 0.915258\tvalid_1's auc: 0.887025\n",
      "-\n",
      "Fold 5\n",
      "Training until validation scores don't improve for 25 rounds.\n"
     ]
    },
    {
     "name": "stderr",
     "output_type": "stream",
     "text": [
      "E:\\Anaconda\\envs\\ML\\lib\\site-packages\\lightgbm\\basic.py:742: UserWarning: categorical_feature in param dict is overridden.\n",
      "  warnings.warn('categorical_feature in param dict is overridden.')\n"
     ]
    },
    {
     "name": "stdout",
     "output_type": "stream",
     "text": [
      "Early stopping, best iteration is:\n",
      "[87]\ttraining's auc: 0.913241\tvalid_1's auc: 0.883435\n",
      "\n",
      "Avg Accuracy Train Set: 83.06235555968826\n",
      "Avg Accuracy Test Set: 80.2059438826752\n",
      "\n",
      "Avg Recall: 77.99935860875287\n",
      "Avg Precision: 81.60536177004113\n",
      "24 40 0.5\n",
      "-\n",
      "Fold 1\n",
      "Training until validation scores don't improve for 25 rounds.\n"
     ]
    },
    {
     "name": "stderr",
     "output_type": "stream",
     "text": [
      "E:\\Anaconda\\envs\\ML\\lib\\site-packages\\lightgbm\\basic.py:742: UserWarning: categorical_feature in param dict is overridden.\n",
      "  warnings.warn('categorical_feature in param dict is overridden.')\n"
     ]
    },
    {
     "name": "stdout",
     "output_type": "stream",
     "text": [
      "Early stopping, best iteration is:\n",
      "[82]\ttraining's auc: 0.909939\tvalid_1's auc: 0.881477\n",
      "-\n",
      "Fold 2\n",
      "Training until validation scores don't improve for 25 rounds.\n"
     ]
    },
    {
     "name": "stderr",
     "output_type": "stream",
     "text": [
      "E:\\Anaconda\\envs\\ML\\lib\\site-packages\\lightgbm\\basic.py:742: UserWarning: categorical_feature in param dict is overridden.\n",
      "  warnings.warn('categorical_feature in param dict is overridden.')\n"
     ]
    },
    {
     "name": "stdout",
     "output_type": "stream",
     "text": [
      "Early stopping, best iteration is:\n",
      "[93]\ttraining's auc: 0.911199\tvalid_1's auc: 0.886913\n",
      "-\n",
      "Fold 3\n",
      "Training until validation scores don't improve for 25 rounds.\n"
     ]
    },
    {
     "name": "stderr",
     "output_type": "stream",
     "text": [
      "E:\\Anaconda\\envs\\ML\\lib\\site-packages\\lightgbm\\basic.py:742: UserWarning: categorical_feature in param dict is overridden.\n",
      "  warnings.warn('categorical_feature in param dict is overridden.')\n"
     ]
    },
    {
     "name": "stdout",
     "output_type": "stream",
     "text": [
      "Early stopping, best iteration is:\n",
      "[120]\ttraining's auc: 0.918291\tvalid_1's auc: 0.8842\n",
      "-\n",
      "Fold 4\n",
      "Training until validation scores don't improve for 25 rounds.\n"
     ]
    },
    {
     "name": "stderr",
     "output_type": "stream",
     "text": [
      "E:\\Anaconda\\envs\\ML\\lib\\site-packages\\lightgbm\\basic.py:742: UserWarning: categorical_feature in param dict is overridden.\n",
      "  warnings.warn('categorical_feature in param dict is overridden.')\n"
     ]
    },
    {
     "name": "stdout",
     "output_type": "stream",
     "text": [
      "Early stopping, best iteration is:\n",
      "[91]\ttraining's auc: 0.910204\tvalid_1's auc: 0.888312\n",
      "-\n",
      "Fold 5\n",
      "Training until validation scores don't improve for 25 rounds.\n"
     ]
    },
    {
     "name": "stderr",
     "output_type": "stream",
     "text": [
      "E:\\Anaconda\\envs\\ML\\lib\\site-packages\\lightgbm\\basic.py:742: UserWarning: categorical_feature in param dict is overridden.\n",
      "  warnings.warn('categorical_feature in param dict is overridden.')\n"
     ]
    },
    {
     "name": "stdout",
     "output_type": "stream",
     "text": [
      "Early stopping, best iteration is:\n",
      "[156]\ttraining's auc: 0.925147\tvalid_1's auc: 0.884216\n",
      "\n",
      "Avg Accuracy Train Set: 83.25409086458251\n",
      "Avg Accuracy Test Set: 80.27422671196139\n",
      "\n",
      "Avg Recall: 77.93294806231083\n",
      "Avg Precision: 81.75833767790684\n",
      "24 40 0.6000000000000001\n",
      "-\n",
      "Fold 1\n",
      "Training until validation scores don't improve for 25 rounds.\n"
     ]
    },
    {
     "name": "stderr",
     "output_type": "stream",
     "text": [
      "E:\\Anaconda\\envs\\ML\\lib\\site-packages\\lightgbm\\basic.py:742: UserWarning: categorical_feature in param dict is overridden.\n",
      "  warnings.warn('categorical_feature in param dict is overridden.')\n"
     ]
    },
    {
     "name": "stdout",
     "output_type": "stream",
     "text": [
      "Early stopping, best iteration is:\n",
      "[77]\ttraining's auc: 0.908156\tvalid_1's auc: 0.882079\n",
      "-\n",
      "Fold 2\n",
      "Training until validation scores don't improve for 25 rounds.\n"
     ]
    },
    {
     "name": "stderr",
     "output_type": "stream",
     "text": [
      "E:\\Anaconda\\envs\\ML\\lib\\site-packages\\lightgbm\\basic.py:742: UserWarning: categorical_feature in param dict is overridden.\n",
      "  warnings.warn('categorical_feature in param dict is overridden.')\n"
     ]
    },
    {
     "name": "stdout",
     "output_type": "stream",
     "text": [
      "Early stopping, best iteration is:\n",
      "[83]\ttraining's auc: 0.908961\tvalid_1's auc: 0.886295\n",
      "-\n",
      "Fold 3\n",
      "Training until validation scores don't improve for 25 rounds.\n"
     ]
    },
    {
     "name": "stderr",
     "output_type": "stream",
     "text": [
      "E:\\Anaconda\\envs\\ML\\lib\\site-packages\\lightgbm\\basic.py:742: UserWarning: categorical_feature in param dict is overridden.\n",
      "  warnings.warn('categorical_feature in param dict is overridden.')\n"
     ]
    },
    {
     "name": "stdout",
     "output_type": "stream",
     "text": [
      "Early stopping, best iteration is:\n",
      "[141]\ttraining's auc: 0.92439\tvalid_1's auc: 0.883842\n",
      "-\n",
      "Fold 4\n",
      "Training until validation scores don't improve for 25 rounds.\n"
     ]
    },
    {
     "name": "stderr",
     "output_type": "stream",
     "text": [
      "E:\\Anaconda\\envs\\ML\\lib\\site-packages\\lightgbm\\basic.py:742: UserWarning: categorical_feature in param dict is overridden.\n",
      "  warnings.warn('categorical_feature in param dict is overridden.')\n"
     ]
    },
    {
     "name": "stdout",
     "output_type": "stream",
     "text": [
      "Early stopping, best iteration is:\n",
      "[85]\ttraining's auc: 0.909738\tvalid_1's auc: 0.888582\n",
      "-\n",
      "Fold 5\n",
      "Training until validation scores don't improve for 25 rounds.\n"
     ]
    },
    {
     "name": "stderr",
     "output_type": "stream",
     "text": [
      "E:\\Anaconda\\envs\\ML\\lib\\site-packages\\lightgbm\\basic.py:742: UserWarning: categorical_feature in param dict is overridden.\n",
      "  warnings.warn('categorical_feature in param dict is overridden.')\n"
     ]
    },
    {
     "name": "stdout",
     "output_type": "stream",
     "text": [
      "Early stopping, best iteration is:\n",
      "[126]\ttraining's auc: 0.920148\tvalid_1's auc: 0.88465\n",
      "\n",
      "Avg Accuracy Train Set: 83.25146205457379\n",
      "Avg Accuracy Test Set: 80.23220438687689\n",
      "\n",
      "Avg Recall: 77.85974581188779\n",
      "Avg Precision: 81.73720556471461\n",
      "24 40 0.7000000000000001\n",
      "-\n",
      "Fold 1\n",
      "Training until validation scores don't improve for 25 rounds.\n"
     ]
    },
    {
     "name": "stderr",
     "output_type": "stream",
     "text": [
      "E:\\Anaconda\\envs\\ML\\lib\\site-packages\\lightgbm\\basic.py:742: UserWarning: categorical_feature in param dict is overridden.\n",
      "  warnings.warn('categorical_feature in param dict is overridden.')\n"
     ]
    },
    {
     "name": "stdout",
     "output_type": "stream",
     "text": [
      "Early stopping, best iteration is:\n",
      "[74]\ttraining's auc: 0.908353\tvalid_1's auc: 0.880809\n",
      "-\n",
      "Fold 2\n",
      "Training until validation scores don't improve for 25 rounds.\n"
     ]
    },
    {
     "name": "stderr",
     "output_type": "stream",
     "text": [
      "E:\\Anaconda\\envs\\ML\\lib\\site-packages\\lightgbm\\basic.py:742: UserWarning: categorical_feature in param dict is overridden.\n",
      "  warnings.warn('categorical_feature in param dict is overridden.')\n"
     ]
    },
    {
     "name": "stdout",
     "output_type": "stream",
     "text": [
      "Early stopping, best iteration is:\n",
      "[92]\ttraining's auc: 0.913111\tvalid_1's auc: 0.885713\n",
      "-\n",
      "Fold 3\n",
      "Training until validation scores don't improve for 25 rounds.\n"
     ]
    },
    {
     "name": "stderr",
     "output_type": "stream",
     "text": [
      "E:\\Anaconda\\envs\\ML\\lib\\site-packages\\lightgbm\\basic.py:742: UserWarning: categorical_feature in param dict is overridden.\n",
      "  warnings.warn('categorical_feature in param dict is overridden.')\n"
     ]
    },
    {
     "name": "stdout",
     "output_type": "stream",
     "text": [
      "Early stopping, best iteration is:\n",
      "[109]\ttraining's auc: 0.918567\tvalid_1's auc: 0.882911\n",
      "-\n",
      "Fold 4\n",
      "Training until validation scores don't improve for 25 rounds.\n"
     ]
    },
    {
     "name": "stderr",
     "output_type": "stream",
     "text": [
      "E:\\Anaconda\\envs\\ML\\lib\\site-packages\\lightgbm\\basic.py:742: UserWarning: categorical_feature in param dict is overridden.\n",
      "  warnings.warn('categorical_feature in param dict is overridden.')\n"
     ]
    },
    {
     "name": "stdout",
     "output_type": "stream",
     "text": [
      "Early stopping, best iteration is:\n",
      "[83]\ttraining's auc: 0.909157\tvalid_1's auc: 0.889268\n",
      "-\n",
      "Fold 5\n",
      "Training until validation scores don't improve for 25 rounds.\n"
     ]
    },
    {
     "name": "stderr",
     "output_type": "stream",
     "text": [
      "E:\\Anaconda\\envs\\ML\\lib\\site-packages\\lightgbm\\basic.py:742: UserWarning: categorical_feature in param dict is overridden.\n",
      "  warnings.warn('categorical_feature in param dict is overridden.')\n"
     ]
    },
    {
     "name": "stdout",
     "output_type": "stream",
     "text": [
      "Early stopping, best iteration is:\n",
      "[121]\ttraining's auc: 0.920479\tvalid_1's auc: 0.884786\n",
      "\n",
      "Avg Accuracy Train Set: 83.26722378948698\n",
      "Avg Accuracy Test Set: 80.0798700094695\n",
      "\n",
      "Avg Recall: 77.84276725285818\n",
      "Avg Precision: 81.49346180856602\n",
      "24 40 0.8\n",
      "-\n",
      "Fold 1\n",
      "Training until validation scores don't improve for 25 rounds.\n"
     ]
    },
    {
     "name": "stderr",
     "output_type": "stream",
     "text": [
      "E:\\Anaconda\\envs\\ML\\lib\\site-packages\\lightgbm\\basic.py:742: UserWarning: categorical_feature in param dict is overridden.\n",
      "  warnings.warn('categorical_feature in param dict is overridden.')\n"
     ]
    },
    {
     "name": "stdout",
     "output_type": "stream",
     "text": [
      "Early stopping, best iteration is:\n",
      "[72]\ttraining's auc: 0.90819\tvalid_1's auc: 0.881052\n",
      "-\n",
      "Fold 2\n",
      "Training until validation scores don't improve for 25 rounds.\n"
     ]
    },
    {
     "name": "stderr",
     "output_type": "stream",
     "text": [
      "E:\\Anaconda\\envs\\ML\\lib\\site-packages\\lightgbm\\basic.py:742: UserWarning: categorical_feature in param dict is overridden.\n",
      "  warnings.warn('categorical_feature in param dict is overridden.')\n"
     ]
    },
    {
     "name": "stdout",
     "output_type": "stream",
     "text": [
      "Early stopping, best iteration is:\n",
      "[87]\ttraining's auc: 0.911585\tvalid_1's auc: 0.886931\n",
      "-\n",
      "Fold 3\n",
      "Training until validation scores don't improve for 25 rounds.\n"
     ]
    },
    {
     "name": "stderr",
     "output_type": "stream",
     "text": [
      "E:\\Anaconda\\envs\\ML\\lib\\site-packages\\lightgbm\\basic.py:742: UserWarning: categorical_feature in param dict is overridden.\n",
      "  warnings.warn('categorical_feature in param dict is overridden.')\n"
     ]
    },
    {
     "name": "stdout",
     "output_type": "stream",
     "text": [
      "Early stopping, best iteration is:\n",
      "[97]\ttraining's auc: 0.91548\tvalid_1's auc: 0.881581\n",
      "-\n",
      "Fold 4\n",
      "Training until validation scores don't improve for 25 rounds.\n"
     ]
    },
    {
     "name": "stderr",
     "output_type": "stream",
     "text": [
      "E:\\Anaconda\\envs\\ML\\lib\\site-packages\\lightgbm\\basic.py:742: UserWarning: categorical_feature in param dict is overridden.\n",
      "  warnings.warn('categorical_feature in param dict is overridden.')\n"
     ]
    },
    {
     "name": "stdout",
     "output_type": "stream",
     "text": [
      "Early stopping, best iteration is:\n",
      "[85]\ttraining's auc: 0.910269\tvalid_1's auc: 0.88753\n",
      "-\n",
      "Fold 5\n",
      "Training until validation scores don't improve for 25 rounds.\n"
     ]
    },
    {
     "name": "stderr",
     "output_type": "stream",
     "text": [
      "E:\\Anaconda\\envs\\ML\\lib\\site-packages\\lightgbm\\basic.py:742: UserWarning: categorical_feature in param dict is overridden.\n",
      "  warnings.warn('categorical_feature in param dict is overridden.')\n"
     ]
    },
    {
     "name": "stdout",
     "output_type": "stream",
     "text": [
      "Early stopping, best iteration is:\n",
      "[118]\ttraining's auc: 0.920046\tvalid_1's auc: 0.884934\n",
      "\n",
      "Avg Accuracy Train Set: 83.24095690478137\n",
      "Avg Accuracy Test Set: 80.31625731458857\n",
      "\n",
      "Avg Recall: 78.15825038377426\n",
      "Avg Precision: 81.68751192707278\n",
      "24 40 0.9\n",
      "-\n",
      "Fold 1\n",
      "Training until validation scores don't improve for 25 rounds.\n"
     ]
    },
    {
     "name": "stderr",
     "output_type": "stream",
     "text": [
      "E:\\Anaconda\\envs\\ML\\lib\\site-packages\\lightgbm\\basic.py:742: UserWarning: categorical_feature in param dict is overridden.\n",
      "  warnings.warn('categorical_feature in param dict is overridden.')\n"
     ]
    },
    {
     "name": "stdout",
     "output_type": "stream",
     "text": [
      "Early stopping, best iteration is:\n",
      "[103]\ttraining's auc: 0.917911\tvalid_1's auc: 0.879768\n",
      "-\n",
      "Fold 2\n",
      "Training until validation scores don't improve for 25 rounds.\n"
     ]
    },
    {
     "name": "stderr",
     "output_type": "stream",
     "text": [
      "E:\\Anaconda\\envs\\ML\\lib\\site-packages\\lightgbm\\basic.py:742: UserWarning: categorical_feature in param dict is overridden.\n",
      "  warnings.warn('categorical_feature in param dict is overridden.')\n"
     ]
    },
    {
     "name": "stdout",
     "output_type": "stream",
     "text": [
      "Early stopping, best iteration is:\n",
      "[78]\ttraining's auc: 0.909069\tvalid_1's auc: 0.885769\n",
      "-\n",
      "Fold 3\n",
      "Training until validation scores don't improve for 25 rounds.\n"
     ]
    },
    {
     "name": "stderr",
     "output_type": "stream",
     "text": [
      "E:\\Anaconda\\envs\\ML\\lib\\site-packages\\lightgbm\\basic.py:742: UserWarning: categorical_feature in param dict is overridden.\n",
      "  warnings.warn('categorical_feature in param dict is overridden.')\n"
     ]
    },
    {
     "name": "stdout",
     "output_type": "stream",
     "text": [
      "Early stopping, best iteration is:\n",
      "[90]\ttraining's auc: 0.913661\tvalid_1's auc: 0.881376\n",
      "-\n",
      "Fold 4\n",
      "Training until validation scores don't improve for 25 rounds.\n"
     ]
    },
    {
     "name": "stderr",
     "output_type": "stream",
     "text": [
      "E:\\Anaconda\\envs\\ML\\lib\\site-packages\\lightgbm\\basic.py:742: UserWarning: categorical_feature in param dict is overridden.\n",
      "  warnings.warn('categorical_feature in param dict is overridden.')\n"
     ]
    },
    {
     "name": "stdout",
     "output_type": "stream",
     "text": [
      "Early stopping, best iteration is:\n",
      "[84]\ttraining's auc: 0.910271\tvalid_1's auc: 0.887857\n",
      "-\n",
      "Fold 5\n",
      "Training until validation scores don't improve for 25 rounds.\n"
     ]
    },
    {
     "name": "stderr",
     "output_type": "stream",
     "text": [
      "E:\\Anaconda\\envs\\ML\\lib\\site-packages\\lightgbm\\basic.py:742: UserWarning: categorical_feature in param dict is overridden.\n",
      "  warnings.warn('categorical_feature in param dict is overridden.')\n"
     ]
    },
    {
     "name": "stdout",
     "output_type": "stream",
     "text": [
      "Early stopping, best iteration is:\n",
      "[116]\ttraining's auc: 0.920453\tvalid_1's auc: 0.88504\n",
      "\n",
      "Avg Accuracy Train Set: 83.30269487263725\n",
      "Avg Accuracy Test Set: 80.10088669037354\n",
      "\n",
      "Avg Recall: 78.05190813343629\n",
      "Avg Precision: 81.39062387526698\n",
      "24 40 1.0\n",
      "-\n",
      "Fold 1\n",
      "Training until validation scores don't improve for 25 rounds.\n"
     ]
    },
    {
     "name": "stderr",
     "output_type": "stream",
     "text": [
      "E:\\Anaconda\\envs\\ML\\lib\\site-packages\\lightgbm\\basic.py:742: UserWarning: categorical_feature in param dict is overridden.\n",
      "  warnings.warn('categorical_feature in param dict is overridden.')\n"
     ]
    },
    {
     "name": "stdout",
     "output_type": "stream",
     "text": [
      "Early stopping, best iteration is:\n",
      "[76]\ttraining's auc: 0.910355\tvalid_1's auc: 0.880657\n",
      "-\n",
      "Fold 2\n",
      "Training until validation scores don't improve for 25 rounds.\n"
     ]
    },
    {
     "name": "stderr",
     "output_type": "stream",
     "text": [
      "E:\\Anaconda\\envs\\ML\\lib\\site-packages\\lightgbm\\basic.py:742: UserWarning: categorical_feature in param dict is overridden.\n",
      "  warnings.warn('categorical_feature in param dict is overridden.')\n"
     ]
    },
    {
     "name": "stdout",
     "output_type": "stream",
     "text": [
      "Early stopping, best iteration is:\n",
      "[88]\ttraining's auc: 0.912922\tvalid_1's auc: 0.884071\n",
      "-\n",
      "Fold 3\n",
      "Training until validation scores don't improve for 25 rounds.\n"
     ]
    },
    {
     "name": "stderr",
     "output_type": "stream",
     "text": [
      "E:\\Anaconda\\envs\\ML\\lib\\site-packages\\lightgbm\\basic.py:742: UserWarning: categorical_feature in param dict is overridden.\n",
      "  warnings.warn('categorical_feature in param dict is overridden.')\n"
     ]
    },
    {
     "name": "stdout",
     "output_type": "stream",
     "text": [
      "Early stopping, best iteration is:\n",
      "[108]\ttraining's auc: 0.918733\tvalid_1's auc: 0.882561\n",
      "-\n",
      "Fold 4\n",
      "Training until validation scores don't improve for 25 rounds.\n"
     ]
    },
    {
     "name": "stderr",
     "output_type": "stream",
     "text": [
      "E:\\Anaconda\\envs\\ML\\lib\\site-packages\\lightgbm\\basic.py:742: UserWarning: categorical_feature in param dict is overridden.\n",
      "  warnings.warn('categorical_feature in param dict is overridden.')\n"
     ]
    },
    {
     "name": "stdout",
     "output_type": "stream",
     "text": [
      "Early stopping, best iteration is:\n",
      "[75]\ttraining's auc: 0.908265\tvalid_1's auc: 0.887874\n",
      "-\n",
      "Fold 5\n",
      "Training until validation scores don't improve for 25 rounds.\n"
     ]
    },
    {
     "name": "stderr",
     "output_type": "stream",
     "text": [
      "E:\\Anaconda\\envs\\ML\\lib\\site-packages\\lightgbm\\basic.py:742: UserWarning: categorical_feature in param dict is overridden.\n",
      "  warnings.warn('categorical_feature in param dict is overridden.')\n"
     ]
    },
    {
     "name": "stdout",
     "output_type": "stream",
     "text": [
      "Early stopping, best iteration is:\n",
      "[110]\ttraining's auc: 0.918679\tvalid_1's auc: 0.883124\n",
      "\n",
      "Avg Accuracy Train Set: 83.22257481151557\n",
      "Avg Accuracy Test Set: 80.08511383276716\n",
      "\n",
      "Avg Recall: 77.91541563918149\n",
      "Avg Precision: 81.45343135786803\n",
      "24 45 0.5\n",
      "-\n",
      "Fold 1\n",
      "Training until validation scores don't improve for 25 rounds.\n"
     ]
    },
    {
     "name": "stderr",
     "output_type": "stream",
     "text": [
      "E:\\Anaconda\\envs\\ML\\lib\\site-packages\\lightgbm\\basic.py:742: UserWarning: categorical_feature in param dict is overridden.\n",
      "  warnings.warn('categorical_feature in param dict is overridden.')\n"
     ]
    },
    {
     "name": "stdout",
     "output_type": "stream",
     "text": [
      "Early stopping, best iteration is:\n",
      "[90]\ttraining's auc: 0.911788\tvalid_1's auc: 0.881686\n",
      "-\n",
      "Fold 2\n",
      "Training until validation scores don't improve for 25 rounds.\n"
     ]
    },
    {
     "name": "stderr",
     "output_type": "stream",
     "text": [
      "E:\\Anaconda\\envs\\ML\\lib\\site-packages\\lightgbm\\basic.py:742: UserWarning: categorical_feature in param dict is overridden.\n",
      "  warnings.warn('categorical_feature in param dict is overridden.')\n"
     ]
    },
    {
     "name": "stdout",
     "output_type": "stream",
     "text": [
      "Early stopping, best iteration is:\n",
      "[101]\ttraining's auc: 0.912372\tvalid_1's auc: 0.886654\n",
      "-\n",
      "Fold 3\n",
      "Training until validation scores don't improve for 25 rounds.\n"
     ]
    },
    {
     "name": "stderr",
     "output_type": "stream",
     "text": [
      "E:\\Anaconda\\envs\\ML\\lib\\site-packages\\lightgbm\\basic.py:742: UserWarning: categorical_feature in param dict is overridden.\n",
      "  warnings.warn('categorical_feature in param dict is overridden.')\n"
     ]
    },
    {
     "name": "stdout",
     "output_type": "stream",
     "text": [
      "Early stopping, best iteration is:\n",
      "[129]\ttraining's auc: 0.919505\tvalid_1's auc: 0.884586\n",
      "-\n",
      "Fold 4\n",
      "Training until validation scores don't improve for 25 rounds.\n"
     ]
    },
    {
     "name": "stderr",
     "output_type": "stream",
     "text": [
      "E:\\Anaconda\\envs\\ML\\lib\\site-packages\\lightgbm\\basic.py:742: UserWarning: categorical_feature in param dict is overridden.\n",
      "  warnings.warn('categorical_feature in param dict is overridden.')\n"
     ]
    },
    {
     "name": "stdout",
     "output_type": "stream",
     "text": [
      "Early stopping, best iteration is:\n",
      "[101]\ttraining's auc: 0.912706\tvalid_1's auc: 0.888665\n",
      "-\n",
      "Fold 5\n",
      "Training until validation scores don't improve for 25 rounds.\n"
     ]
    },
    {
     "name": "stderr",
     "output_type": "stream",
     "text": [
      "E:\\Anaconda\\envs\\ML\\lib\\site-packages\\lightgbm\\basic.py:742: UserWarning: categorical_feature in param dict is overridden.\n",
      "  warnings.warn('categorical_feature in param dict is overridden.')\n"
     ]
    },
    {
     "name": "stdout",
     "output_type": "stream",
     "text": [
      "Early stopping, best iteration is:\n",
      "[103]\ttraining's auc: 0.914015\tvalid_1's auc: 0.884067\n",
      "\n",
      "Avg Accuracy Train Set: 83.18711830315996\n",
      "Avg Accuracy Test Set: 80.25845799312634\n",
      "\n",
      "Avg Recall: 77.76801292029697\n",
      "Avg Precision: 81.8473305043268\n",
      "24 45 0.6000000000000001\n",
      "-\n",
      "Fold 1\n",
      "Training until validation scores don't improve for 25 rounds.\n"
     ]
    },
    {
     "name": "stderr",
     "output_type": "stream",
     "text": [
      "E:\\Anaconda\\envs\\ML\\lib\\site-packages\\lightgbm\\basic.py:742: UserWarning: categorical_feature in param dict is overridden.\n",
      "  warnings.warn('categorical_feature in param dict is overridden.')\n"
     ]
    },
    {
     "name": "stdout",
     "output_type": "stream",
     "text": [
      "Early stopping, best iteration is:\n",
      "[72]\ttraining's auc: 0.906733\tvalid_1's auc: 0.881358\n",
      "-\n",
      "Fold 2\n",
      "Training until validation scores don't improve for 25 rounds.\n"
     ]
    },
    {
     "name": "stderr",
     "output_type": "stream",
     "text": [
      "E:\\Anaconda\\envs\\ML\\lib\\site-packages\\lightgbm\\basic.py:742: UserWarning: categorical_feature in param dict is overridden.\n",
      "  warnings.warn('categorical_feature in param dict is overridden.')\n"
     ]
    },
    {
     "name": "stdout",
     "output_type": "stream",
     "text": [
      "Early stopping, best iteration is:\n",
      "[86]\ttraining's auc: 0.909902\tvalid_1's auc: 0.88682\n",
      "-\n",
      "Fold 3\n",
      "Training until validation scores don't improve for 25 rounds.\n"
     ]
    },
    {
     "name": "stderr",
     "output_type": "stream",
     "text": [
      "E:\\Anaconda\\envs\\ML\\lib\\site-packages\\lightgbm\\basic.py:742: UserWarning: categorical_feature in param dict is overridden.\n",
      "  warnings.warn('categorical_feature in param dict is overridden.')\n"
     ]
    },
    {
     "name": "stdout",
     "output_type": "stream",
     "text": [
      "Early stopping, best iteration is:\n",
      "[119]\ttraining's auc: 0.919028\tvalid_1's auc: 0.883473\n",
      "-\n",
      "Fold 4\n",
      "Training until validation scores don't improve for 25 rounds.\n"
     ]
    },
    {
     "name": "stderr",
     "output_type": "stream",
     "text": [
      "E:\\Anaconda\\envs\\ML\\lib\\site-packages\\lightgbm\\basic.py:742: UserWarning: categorical_feature in param dict is overridden.\n",
      "  warnings.warn('categorical_feature in param dict is overridden.')\n"
     ]
    },
    {
     "name": "stdout",
     "output_type": "stream",
     "text": [
      "Early stopping, best iteration is:\n",
      "[83]\ttraining's auc: 0.908363\tvalid_1's auc: 0.888612\n",
      "-\n",
      "Fold 5\n",
      "Training until validation scores don't improve for 25 rounds.\n"
     ]
    },
    {
     "name": "stderr",
     "output_type": "stream",
     "text": [
      "E:\\Anaconda\\envs\\ML\\lib\\site-packages\\lightgbm\\basic.py:742: UserWarning: categorical_feature in param dict is overridden.\n",
      "  warnings.warn('categorical_feature in param dict is overridden.')\n"
     ]
    },
    {
     "name": "stdout",
     "output_type": "stream",
     "text": [
      "Early stopping, best iteration is:\n",
      "[91]\ttraining's auc: 0.911271\tvalid_1's auc: 0.883649\n",
      "\n",
      "Avg Accuracy Train Set: 82.84828080292735\n",
      "Avg Accuracy Test Set: 80.16390500250535\n",
      "\n",
      "Avg Recall: 77.74575238898726\n",
      "Avg Precision: 81.6978957588853\n",
      "24 45 0.7000000000000001\n",
      "-\n",
      "Fold 1\n",
      "Training until validation scores don't improve for 25 rounds.\n"
     ]
    },
    {
     "name": "stderr",
     "output_type": "stream",
     "text": [
      "E:\\Anaconda\\envs\\ML\\lib\\site-packages\\lightgbm\\basic.py:742: UserWarning: categorical_feature in param dict is overridden.\n",
      "  warnings.warn('categorical_feature in param dict is overridden.')\n"
     ]
    },
    {
     "name": "stdout",
     "output_type": "stream",
     "text": [
      "Early stopping, best iteration is:\n",
      "[103]\ttraining's auc: 0.916659\tvalid_1's auc: 0.881188\n",
      "-\n",
      "Fold 2\n",
      "Training until validation scores don't improve for 25 rounds.\n"
     ]
    },
    {
     "name": "stderr",
     "output_type": "stream",
     "text": [
      "E:\\Anaconda\\envs\\ML\\lib\\site-packages\\lightgbm\\basic.py:742: UserWarning: categorical_feature in param dict is overridden.\n",
      "  warnings.warn('categorical_feature in param dict is overridden.')\n"
     ]
    },
    {
     "name": "stdout",
     "output_type": "stream",
     "text": [
      "Early stopping, best iteration is:\n",
      "[168]\ttraining's auc: 0.930147\tvalid_1's auc: 0.886885\n",
      "-\n",
      "Fold 3\n",
      "Training until validation scores don't improve for 25 rounds.\n"
     ]
    },
    {
     "name": "stderr",
     "output_type": "stream",
     "text": [
      "E:\\Anaconda\\envs\\ML\\lib\\site-packages\\lightgbm\\basic.py:742: UserWarning: categorical_feature in param dict is overridden.\n",
      "  warnings.warn('categorical_feature in param dict is overridden.')\n"
     ]
    },
    {
     "name": "stdout",
     "output_type": "stream",
     "text": [
      "Early stopping, best iteration is:\n",
      "[108]\ttraining's auc: 0.91781\tvalid_1's auc: 0.882915\n",
      "-\n",
      "Fold 4\n",
      "Training until validation scores don't improve for 25 rounds.\n"
     ]
    },
    {
     "name": "stderr",
     "output_type": "stream",
     "text": [
      "E:\\Anaconda\\envs\\ML\\lib\\site-packages\\lightgbm\\basic.py:742: UserWarning: categorical_feature in param dict is overridden.\n",
      "  warnings.warn('categorical_feature in param dict is overridden.')\n"
     ]
    },
    {
     "name": "stdout",
     "output_type": "stream",
     "text": [
      "Early stopping, best iteration is:\n",
      "[88]\ttraining's auc: 0.910955\tvalid_1's auc: 0.887708\n",
      "-\n",
      "Fold 5\n",
      "Training until validation scores don't improve for 25 rounds.\n"
     ]
    },
    {
     "name": "stderr",
     "output_type": "stream",
     "text": [
      "E:\\Anaconda\\envs\\ML\\lib\\site-packages\\lightgbm\\basic.py:742: UserWarning: categorical_feature in param dict is overridden.\n",
      "  warnings.warn('categorical_feature in param dict is overridden.')\n"
     ]
    },
    {
     "name": "stdout",
     "output_type": "stream",
     "text": [
      "Early stopping, best iteration is:\n",
      "[94]\ttraining's auc: 0.913379\tvalid_1's auc: 0.884855\n",
      "\n",
      "Avg Accuracy Train Set: 83.67960725602617\n",
      "Avg Accuracy Test Set: 80.05883953266098\n",
      "\n",
      "Avg Recall: 78.0114921948466\n",
      "Avg Precision: 81.34456753087177\n",
      "24 45 0.8\n",
      "-\n",
      "Fold 1\n",
      "Training until validation scores don't improve for 25 rounds.\n"
     ]
    },
    {
     "name": "stderr",
     "output_type": "stream",
     "text": [
      "E:\\Anaconda\\envs\\ML\\lib\\site-packages\\lightgbm\\basic.py:742: UserWarning: categorical_feature in param dict is overridden.\n",
      "  warnings.warn('categorical_feature in param dict is overridden.')\n"
     ]
    },
    {
     "name": "stdout",
     "output_type": "stream",
     "text": [
      "Early stopping, best iteration is:\n",
      "[84]\ttraining's auc: 0.911315\tvalid_1's auc: 0.879982\n",
      "-\n",
      "Fold 2\n",
      "Training until validation scores don't improve for 25 rounds.\n"
     ]
    },
    {
     "name": "stderr",
     "output_type": "stream",
     "text": [
      "E:\\Anaconda\\envs\\ML\\lib\\site-packages\\lightgbm\\basic.py:742: UserWarning: categorical_feature in param dict is overridden.\n",
      "  warnings.warn('categorical_feature in param dict is overridden.')\n"
     ]
    },
    {
     "name": "stdout",
     "output_type": "stream",
     "text": [
      "Early stopping, best iteration is:\n",
      "[115]\ttraining's auc: 0.918491\tvalid_1's auc: 0.886307\n",
      "-\n",
      "Fold 3\n",
      "Training until validation scores don't improve for 25 rounds.\n"
     ]
    },
    {
     "name": "stderr",
     "output_type": "stream",
     "text": [
      "E:\\Anaconda\\envs\\ML\\lib\\site-packages\\lightgbm\\basic.py:742: UserWarning: categorical_feature in param dict is overridden.\n",
      "  warnings.warn('categorical_feature in param dict is overridden.')\n"
     ]
    },
    {
     "name": "stdout",
     "output_type": "stream",
     "text": [
      "Early stopping, best iteration is:\n",
      "[76]\ttraining's auc: 0.908679\tvalid_1's auc: 0.881546\n",
      "-\n",
      "Fold 4\n",
      "Training until validation scores don't improve for 25 rounds.\n"
     ]
    },
    {
     "name": "stderr",
     "output_type": "stream",
     "text": [
      "E:\\Anaconda\\envs\\ML\\lib\\site-packages\\lightgbm\\basic.py:742: UserWarning: categorical_feature in param dict is overridden.\n",
      "  warnings.warn('categorical_feature in param dict is overridden.')\n"
     ]
    },
    {
     "name": "stdout",
     "output_type": "stream",
     "text": [
      "Early stopping, best iteration is:\n",
      "[94]\ttraining's auc: 0.913248\tvalid_1's auc: 0.888201\n",
      "-\n",
      "Fold 5\n",
      "Training until validation scores don't improve for 25 rounds.\n"
     ]
    },
    {
     "name": "stderr",
     "output_type": "stream",
     "text": [
      "E:\\Anaconda\\envs\\ML\\lib\\site-packages\\lightgbm\\basic.py:742: UserWarning: categorical_feature in param dict is overridden.\n",
      "  warnings.warn('categorical_feature in param dict is overridden.')\n"
     ]
    },
    {
     "name": "stdout",
     "output_type": "stream",
     "text": [
      "Early stopping, best iteration is:\n",
      "[94]\ttraining's auc: 0.91366\tvalid_1's auc: 0.884216\n",
      "\n",
      "Avg Accuracy Train Set: 83.19105858596583\n",
      "Avg Accuracy Test Set: 80.23746476525994\n",
      "\n",
      "Avg Recall: 78.16894616422287\n",
      "Avg Precision: 81.5515017124642\n",
      "24 45 0.9\n",
      "-\n",
      "Fold 1\n",
      "Training until validation scores don't improve for 25 rounds.\n"
     ]
    },
    {
     "name": "stderr",
     "output_type": "stream",
     "text": [
      "E:\\Anaconda\\envs\\ML\\lib\\site-packages\\lightgbm\\basic.py:742: UserWarning: categorical_feature in param dict is overridden.\n",
      "  warnings.warn('categorical_feature in param dict is overridden.')\n"
     ]
    },
    {
     "name": "stdout",
     "output_type": "stream",
     "text": [
      "Early stopping, best iteration is:\n",
      "[96]\ttraining's auc: 0.914972\tvalid_1's auc: 0.879332\n",
      "-\n",
      "Fold 2\n",
      "Training until validation scores don't improve for 25 rounds.\n"
     ]
    },
    {
     "name": "stderr",
     "output_type": "stream",
     "text": [
      "E:\\Anaconda\\envs\\ML\\lib\\site-packages\\lightgbm\\basic.py:742: UserWarning: categorical_feature in param dict is overridden.\n",
      "  warnings.warn('categorical_feature in param dict is overridden.')\n"
     ]
    },
    {
     "name": "stdout",
     "output_type": "stream",
     "text": [
      "Early stopping, best iteration is:\n",
      "[79]\ttraining's auc: 0.909113\tvalid_1's auc: 0.885452\n",
      "-\n",
      "Fold 3\n",
      "Training until validation scores don't improve for 25 rounds.\n"
     ]
    },
    {
     "name": "stderr",
     "output_type": "stream",
     "text": [
      "E:\\Anaconda\\envs\\ML\\lib\\site-packages\\lightgbm\\basic.py:742: UserWarning: categorical_feature in param dict is overridden.\n",
      "  warnings.warn('categorical_feature in param dict is overridden.')\n"
     ]
    },
    {
     "name": "stdout",
     "output_type": "stream",
     "text": [
      "Early stopping, best iteration is:\n",
      "[106]\ttraining's auc: 0.918114\tvalid_1's auc: 0.881917\n",
      "-\n",
      "Fold 4\n",
      "Training until validation scores don't improve for 25 rounds.\n"
     ]
    },
    {
     "name": "stderr",
     "output_type": "stream",
     "text": [
      "E:\\Anaconda\\envs\\ML\\lib\\site-packages\\lightgbm\\basic.py:742: UserWarning: categorical_feature in param dict is overridden.\n",
      "  warnings.warn('categorical_feature in param dict is overridden.')\n"
     ]
    },
    {
     "name": "stdout",
     "output_type": "stream",
     "text": [
      "Early stopping, best iteration is:\n",
      "[84]\ttraining's auc: 0.909997\tvalid_1's auc: 0.887013\n",
      "-\n",
      "Fold 5\n",
      "Training until validation scores don't improve for 25 rounds.\n"
     ]
    },
    {
     "name": "stderr",
     "output_type": "stream",
     "text": [
      "E:\\Anaconda\\envs\\ML\\lib\\site-packages\\lightgbm\\basic.py:742: UserWarning: categorical_feature in param dict is overridden.\n",
      "  warnings.warn('categorical_feature in param dict is overridden.')\n"
     ]
    },
    {
     "name": "stdout",
     "output_type": "stream",
     "text": [
      "Early stopping, best iteration is:\n",
      "[93]\ttraining's auc: 0.913715\tvalid_1's auc: 0.885145\n",
      "\n",
      "Avg Accuracy Train Set: 83.19368834462983\n",
      "Avg Accuracy Test Set: 80.25321554941914\n",
      "\n",
      "Avg Recall: 78.33375989479899\n",
      "Avg Precision: 81.46606784985654\n",
      "24 45 1.0\n",
      "-\n",
      "Fold 1\n",
      "Training until validation scores don't improve for 25 rounds.\n"
     ]
    },
    {
     "name": "stderr",
     "output_type": "stream",
     "text": [
      "E:\\Anaconda\\envs\\ML\\lib\\site-packages\\lightgbm\\basic.py:742: UserWarning: categorical_feature in param dict is overridden.\n",
      "  warnings.warn('categorical_feature in param dict is overridden.')\n"
     ]
    },
    {
     "name": "stdout",
     "output_type": "stream",
     "text": [
      "Early stopping, best iteration is:\n",
      "[62]\ttraining's auc: 0.905363\tvalid_1's auc: 0.881171\n",
      "-\n",
      "Fold 2\n",
      "Training until validation scores don't improve for 25 rounds.\n"
     ]
    },
    {
     "name": "stderr",
     "output_type": "stream",
     "text": [
      "E:\\Anaconda\\envs\\ML\\lib\\site-packages\\lightgbm\\basic.py:742: UserWarning: categorical_feature in param dict is overridden.\n",
      "  warnings.warn('categorical_feature in param dict is overridden.')\n"
     ]
    },
    {
     "name": "stdout",
     "output_type": "stream",
     "text": [
      "Early stopping, best iteration is:\n",
      "[69]\ttraining's auc: 0.90715\tvalid_1's auc: 0.884604\n",
      "-\n",
      "Fold 3\n",
      "Training until validation scores don't improve for 25 rounds.\n"
     ]
    },
    {
     "name": "stderr",
     "output_type": "stream",
     "text": [
      "E:\\Anaconda\\envs\\ML\\lib\\site-packages\\lightgbm\\basic.py:742: UserWarning: categorical_feature in param dict is overridden.\n",
      "  warnings.warn('categorical_feature in param dict is overridden.')\n"
     ]
    },
    {
     "name": "stdout",
     "output_type": "stream",
     "text": [
      "Early stopping, best iteration is:\n",
      "[79]\ttraining's auc: 0.911517\tvalid_1's auc: 0.882682\n",
      "-\n",
      "Fold 4\n",
      "Training until validation scores don't improve for 25 rounds.\n"
     ]
    },
    {
     "name": "stderr",
     "output_type": "stream",
     "text": [
      "E:\\Anaconda\\envs\\ML\\lib\\site-packages\\lightgbm\\basic.py:742: UserWarning: categorical_feature in param dict is overridden.\n",
      "  warnings.warn('categorical_feature in param dict is overridden.')\n"
     ]
    },
    {
     "name": "stdout",
     "output_type": "stream",
     "text": [
      "Early stopping, best iteration is:\n",
      "[75]\ttraining's auc: 0.908171\tvalid_1's auc: 0.888329\n",
      "-\n",
      "Fold 5\n",
      "Training until validation scores don't improve for 25 rounds.\n"
     ]
    },
    {
     "name": "stderr",
     "output_type": "stream",
     "text": [
      "E:\\Anaconda\\envs\\ML\\lib\\site-packages\\lightgbm\\basic.py:742: UserWarning: categorical_feature in param dict is overridden.\n",
      "  warnings.warn('categorical_feature in param dict is overridden.')\n"
     ]
    },
    {
     "name": "stdout",
     "output_type": "stream",
     "text": [
      "Early stopping, best iteration is:\n",
      "[141]\ttraining's auc: 0.926277\tvalid_1's auc: 0.883748\n",
      "\n",
      "Avg Accuracy Train Set: 83.05052772571817\n",
      "Avg Accuracy Test Set: 80.20068764306353\n",
      "\n",
      "Avg Recall: 78.11511602637681\n",
      "Avg Precision: 81.52024177336968\n",
      "24 50 0.5\n",
      "-\n",
      "Fold 1\n",
      "Training until validation scores don't improve for 25 rounds.\n"
     ]
    },
    {
     "name": "stderr",
     "output_type": "stream",
     "text": [
      "E:\\Anaconda\\envs\\ML\\lib\\site-packages\\lightgbm\\basic.py:742: UserWarning: categorical_feature in param dict is overridden.\n",
      "  warnings.warn('categorical_feature in param dict is overridden.')\n"
     ]
    },
    {
     "name": "stdout",
     "output_type": "stream",
     "text": [
      "Early stopping, best iteration is:\n",
      "[84]\ttraining's auc: 0.909515\tvalid_1's auc: 0.881649\n",
      "-\n",
      "Fold 2\n",
      "Training until validation scores don't improve for 25 rounds.\n"
     ]
    },
    {
     "name": "stderr",
     "output_type": "stream",
     "text": [
      "E:\\Anaconda\\envs\\ML\\lib\\site-packages\\lightgbm\\basic.py:742: UserWarning: categorical_feature in param dict is overridden.\n",
      "  warnings.warn('categorical_feature in param dict is overridden.')\n"
     ]
    },
    {
     "name": "stdout",
     "output_type": "stream",
     "text": [
      "Early stopping, best iteration is:\n",
      "[103]\ttraining's auc: 0.913236\tvalid_1's auc: 0.886662\n",
      "-\n",
      "Fold 3\n",
      "Training until validation scores don't improve for 25 rounds.\n"
     ]
    },
    {
     "name": "stderr",
     "output_type": "stream",
     "text": [
      "E:\\Anaconda\\envs\\ML\\lib\\site-packages\\lightgbm\\basic.py:742: UserWarning: categorical_feature in param dict is overridden.\n",
      "  warnings.warn('categorical_feature in param dict is overridden.')\n"
     ]
    },
    {
     "name": "stdout",
     "output_type": "stream",
     "text": [
      "Early stopping, best iteration is:\n",
      "[90]\ttraining's auc: 0.910409\tvalid_1's auc: 0.883539\n",
      "-\n",
      "Fold 4\n",
      "Training until validation scores don't improve for 25 rounds.\n"
     ]
    },
    {
     "name": "stderr",
     "output_type": "stream",
     "text": [
      "E:\\Anaconda\\envs\\ML\\lib\\site-packages\\lightgbm\\basic.py:742: UserWarning: categorical_feature in param dict is overridden.\n",
      "  warnings.warn('categorical_feature in param dict is overridden.')\n"
     ]
    },
    {
     "name": "stdout",
     "output_type": "stream",
     "text": [
      "Early stopping, best iteration is:\n",
      "[97]\ttraining's auc: 0.911118\tvalid_1's auc: 0.889799\n",
      "-\n",
      "Fold 5\n",
      "Training until validation scores don't improve for 25 rounds.\n"
     ]
    },
    {
     "name": "stderr",
     "output_type": "stream",
     "text": [
      "E:\\Anaconda\\envs\\ML\\lib\\site-packages\\lightgbm\\basic.py:742: UserWarning: categorical_feature in param dict is overridden.\n",
      "  warnings.warn('categorical_feature in param dict is overridden.')\n"
     ]
    },
    {
     "name": "stdout",
     "output_type": "stream",
     "text": [
      "Early stopping, best iteration is:\n",
      "[124]\ttraining's auc: 0.917843\tvalid_1's auc: 0.882575\n",
      "\n",
      "Avg Accuracy Train Set: 83.03345952000838\n",
      "Avg Accuracy Test Set: 80.12713339867074\n",
      "\n",
      "Avg Recall: 77.78949586840308\n",
      "Avg Precision: 81.60635688633563\n",
      "24 50 0.6000000000000001\n",
      "-\n",
      "Fold 1\n",
      "Training until validation scores don't improve for 25 rounds.\n"
     ]
    },
    {
     "name": "stderr",
     "output_type": "stream",
     "text": [
      "E:\\Anaconda\\envs\\ML\\lib\\site-packages\\lightgbm\\basic.py:742: UserWarning: categorical_feature in param dict is overridden.\n",
      "  warnings.warn('categorical_feature in param dict is overridden.')\n"
     ]
    },
    {
     "name": "stdout",
     "output_type": "stream",
     "text": [
      "Early stopping, best iteration is:\n",
      "[82]\ttraining's auc: 0.909479\tvalid_1's auc: 0.881667\n",
      "-\n",
      "Fold 2\n",
      "Training until validation scores don't improve for 25 rounds.\n"
     ]
    },
    {
     "name": "stderr",
     "output_type": "stream",
     "text": [
      "E:\\Anaconda\\envs\\ML\\lib\\site-packages\\lightgbm\\basic.py:742: UserWarning: categorical_feature in param dict is overridden.\n",
      "  warnings.warn('categorical_feature in param dict is overridden.')\n"
     ]
    },
    {
     "name": "stdout",
     "output_type": "stream",
     "text": [
      "Early stopping, best iteration is:\n",
      "[104]\ttraining's auc: 0.914351\tvalid_1's auc: 0.885965\n",
      "-\n",
      "Fold 3\n",
      "Training until validation scores don't improve for 25 rounds.\n"
     ]
    },
    {
     "name": "stderr",
     "output_type": "stream",
     "text": [
      "E:\\Anaconda\\envs\\ML\\lib\\site-packages\\lightgbm\\basic.py:742: UserWarning: categorical_feature in param dict is overridden.\n",
      "  warnings.warn('categorical_feature in param dict is overridden.')\n"
     ]
    },
    {
     "name": "stdout",
     "output_type": "stream",
     "text": [
      "Early stopping, best iteration is:\n",
      "[92]\ttraining's auc: 0.912185\tvalid_1's auc: 0.882765\n",
      "-\n",
      "Fold 4\n",
      "Training until validation scores don't improve for 25 rounds.\n"
     ]
    },
    {
     "name": "stderr",
     "output_type": "stream",
     "text": [
      "E:\\Anaconda\\envs\\ML\\lib\\site-packages\\lightgbm\\basic.py:742: UserWarning: categorical_feature in param dict is overridden.\n",
      "  warnings.warn('categorical_feature in param dict is overridden.')\n"
     ]
    },
    {
     "name": "stdout",
     "output_type": "stream",
     "text": [
      "Early stopping, best iteration is:\n",
      "[91]\ttraining's auc: 0.910826\tvalid_1's auc: 0.888762\n",
      "-\n",
      "Fold 5\n",
      "Training until validation scores don't improve for 25 rounds.\n"
     ]
    },
    {
     "name": "stderr",
     "output_type": "stream",
     "text": [
      "E:\\Anaconda\\envs\\ML\\lib\\site-packages\\lightgbm\\basic.py:742: UserWarning: categorical_feature in param dict is overridden.\n",
      "  warnings.warn('categorical_feature in param dict is overridden.')\n"
     ]
    },
    {
     "name": "stdout",
     "output_type": "stream",
     "text": [
      "Early stopping, best iteration is:\n",
      "[85]\ttraining's auc: 0.910308\tvalid_1's auc: 0.884673\n",
      "\n",
      "Avg Accuracy Train Set: 82.93102294722942\n",
      "Avg Accuracy Test Set: 80.28471987691846\n",
      "\n",
      "Avg Recall: 77.89269716965043\n",
      "Avg Precision: 81.80863877445907\n",
      "24 50 0.7000000000000001\n",
      "-\n",
      "Fold 1\n",
      "Training until validation scores don't improve for 25 rounds.\n"
     ]
    },
    {
     "name": "stderr",
     "output_type": "stream",
     "text": [
      "E:\\Anaconda\\envs\\ML\\lib\\site-packages\\lightgbm\\basic.py:742: UserWarning: categorical_feature in param dict is overridden.\n",
      "  warnings.warn('categorical_feature in param dict is overridden.')\n"
     ]
    },
    {
     "name": "stdout",
     "output_type": "stream",
     "text": [
      "Early stopping, best iteration is:\n",
      "[71]\ttraining's auc: 0.907026\tvalid_1's auc: 0.88036\n",
      "-\n",
      "Fold 2\n",
      "Training until validation scores don't improve for 25 rounds.\n"
     ]
    },
    {
     "name": "stderr",
     "output_type": "stream",
     "text": [
      "E:\\Anaconda\\envs\\ML\\lib\\site-packages\\lightgbm\\basic.py:742: UserWarning: categorical_feature in param dict is overridden.\n",
      "  warnings.warn('categorical_feature in param dict is overridden.')\n"
     ]
    },
    {
     "name": "stdout",
     "output_type": "stream",
     "text": [
      "Early stopping, best iteration is:\n",
      "[104]\ttraining's auc: 0.915499\tvalid_1's auc: 0.885664\n",
      "-\n",
      "Fold 3\n",
      "Training until validation scores don't improve for 25 rounds.\n"
     ]
    },
    {
     "name": "stderr",
     "output_type": "stream",
     "text": [
      "E:\\Anaconda\\envs\\ML\\lib\\site-packages\\lightgbm\\basic.py:742: UserWarning: categorical_feature in param dict is overridden.\n",
      "  warnings.warn('categorical_feature in param dict is overridden.')\n"
     ]
    },
    {
     "name": "stdout",
     "output_type": "stream",
     "text": [
      "Early stopping, best iteration is:\n",
      "[143]\ttraining's auc: 0.925341\tvalid_1's auc: 0.883068\n",
      "-\n",
      "Fold 4\n",
      "Training until validation scores don't improve for 25 rounds.\n"
     ]
    },
    {
     "name": "stderr",
     "output_type": "stream",
     "text": [
      "E:\\Anaconda\\envs\\ML\\lib\\site-packages\\lightgbm\\basic.py:742: UserWarning: categorical_feature in param dict is overridden.\n",
      "  warnings.warn('categorical_feature in param dict is overridden.')\n"
     ]
    },
    {
     "name": "stdout",
     "output_type": "stream",
     "text": [
      "Early stopping, best iteration is:\n",
      "[76]\ttraining's auc: 0.906948\tvalid_1's auc: 0.887632\n",
      "-\n",
      "Fold 5\n",
      "Training until validation scores don't improve for 25 rounds.\n"
     ]
    },
    {
     "name": "stderr",
     "output_type": "stream",
     "text": [
      "E:\\Anaconda\\envs\\ML\\lib\\site-packages\\lightgbm\\basic.py:742: UserWarning: categorical_feature in param dict is overridden.\n",
      "  warnings.warn('categorical_feature in param dict is overridden.')\n"
     ]
    },
    {
     "name": "stdout",
     "output_type": "stream",
     "text": [
      "Early stopping, best iteration is:\n",
      "[140]\ttraining's auc: 0.924211\tvalid_1's auc: 0.884044\n",
      "\n",
      "Avg Accuracy Train Set: 83.55483355989809\n",
      "Avg Accuracy Test Set: 80.12713753744208\n",
      "\n",
      "Avg Recall: 77.89422694935502\n",
      "Avg Precision: 81.5402363377744\n",
      "24 50 0.8\n",
      "-\n",
      "Fold 1\n",
      "Training until validation scores don't improve for 25 rounds.\n"
     ]
    },
    {
     "name": "stderr",
     "output_type": "stream",
     "text": [
      "E:\\Anaconda\\envs\\ML\\lib\\site-packages\\lightgbm\\basic.py:742: UserWarning: categorical_feature in param dict is overridden.\n",
      "  warnings.warn('categorical_feature in param dict is overridden.')\n"
     ]
    },
    {
     "name": "stdout",
     "output_type": "stream",
     "text": [
      "Early stopping, best iteration is:\n",
      "[70]\ttraining's auc: 0.907231\tvalid_1's auc: 0.881498\n",
      "-\n",
      "Fold 2\n",
      "Training until validation scores don't improve for 25 rounds.\n"
     ]
    },
    {
     "name": "stderr",
     "output_type": "stream",
     "text": [
      "E:\\Anaconda\\envs\\ML\\lib\\site-packages\\lightgbm\\basic.py:742: UserWarning: categorical_feature in param dict is overridden.\n",
      "  warnings.warn('categorical_feature in param dict is overridden.')\n"
     ]
    },
    {
     "name": "stdout",
     "output_type": "stream",
     "text": [
      "Early stopping, best iteration is:\n",
      "[83]\ttraining's auc: 0.909827\tvalid_1's auc: 0.886207\n",
      "-\n",
      "Fold 3\n",
      "Training until validation scores don't improve for 25 rounds.\n"
     ]
    },
    {
     "name": "stderr",
     "output_type": "stream",
     "text": [
      "E:\\Anaconda\\envs\\ML\\lib\\site-packages\\lightgbm\\basic.py:742: UserWarning: categorical_feature in param dict is overridden.\n",
      "  warnings.warn('categorical_feature in param dict is overridden.')\n"
     ]
    },
    {
     "name": "stdout",
     "output_type": "stream",
     "text": [
      "Early stopping, best iteration is:\n",
      "[123]\ttraining's auc: 0.920565\tvalid_1's auc: 0.882938\n",
      "-\n",
      "Fold 4\n",
      "Training until validation scores don't improve for 25 rounds.\n"
     ]
    },
    {
     "name": "stderr",
     "output_type": "stream",
     "text": [
      "E:\\Anaconda\\envs\\ML\\lib\\site-packages\\lightgbm\\basic.py:742: UserWarning: categorical_feature in param dict is overridden.\n",
      "  warnings.warn('categorical_feature in param dict is overridden.')\n"
     ]
    },
    {
     "name": "stdout",
     "output_type": "stream",
     "text": [
      "Early stopping, best iteration is:\n",
      "[95]\ttraining's auc: 0.912967\tvalid_1's auc: 0.888614\n",
      "-\n",
      "Fold 5\n",
      "Training until validation scores don't improve for 25 rounds.\n"
     ]
    },
    {
     "name": "stderr",
     "output_type": "stream",
     "text": [
      "E:\\Anaconda\\envs\\ML\\lib\\site-packages\\lightgbm\\basic.py:742: UserWarning: categorical_feature in param dict is overridden.\n",
      "  warnings.warn('categorical_feature in param dict is overridden.')\n"
     ]
    },
    {
     "name": "stdout",
     "output_type": "stream",
     "text": [
      "Early stopping, best iteration is:\n",
      "[107]\ttraining's auc: 0.917495\tvalid_1's auc: 0.883556\n",
      "\n",
      "Avg Accuracy Train Set: 83.21075025471825\n",
      "Avg Accuracy Test Set: 80.42130622934754\n",
      "\n",
      "Avg Recall: 78.25238114464273\n",
      "Avg Precision: 81.80746704547624\n",
      "24 50 0.9\n",
      "-\n",
      "Fold 1\n",
      "Training until validation scores don't improve for 25 rounds.\n"
     ]
    },
    {
     "name": "stderr",
     "output_type": "stream",
     "text": [
      "E:\\Anaconda\\envs\\ML\\lib\\site-packages\\lightgbm\\basic.py:742: UserWarning: categorical_feature in param dict is overridden.\n",
      "  warnings.warn('categorical_feature in param dict is overridden.')\n"
     ]
    },
    {
     "name": "stdout",
     "output_type": "stream",
     "text": [
      "Early stopping, best iteration is:\n",
      "[111]\ttraining's auc: 0.91924\tvalid_1's auc: 0.880538\n",
      "-\n",
      "Fold 2\n",
      "Training until validation scores don't improve for 25 rounds.\n"
     ]
    },
    {
     "name": "stderr",
     "output_type": "stream",
     "text": [
      "E:\\Anaconda\\envs\\ML\\lib\\site-packages\\lightgbm\\basic.py:742: UserWarning: categorical_feature in param dict is overridden.\n",
      "  warnings.warn('categorical_feature in param dict is overridden.')\n"
     ]
    },
    {
     "name": "stdout",
     "output_type": "stream",
     "text": [
      "Early stopping, best iteration is:\n",
      "[107]\ttraining's auc: 0.916658\tvalid_1's auc: 0.884731\n",
      "-\n",
      "Fold 3\n",
      "Training until validation scores don't improve for 25 rounds.\n"
     ]
    },
    {
     "name": "stderr",
     "output_type": "stream",
     "text": [
      "E:\\Anaconda\\envs\\ML\\lib\\site-packages\\lightgbm\\basic.py:742: UserWarning: categorical_feature in param dict is overridden.\n",
      "  warnings.warn('categorical_feature in param dict is overridden.')\n"
     ]
    },
    {
     "name": "stdout",
     "output_type": "stream",
     "text": [
      "Early stopping, best iteration is:\n",
      "[150]\ttraining's auc: 0.927749\tvalid_1's auc: 0.88162\n",
      "-\n",
      "Fold 4\n",
      "Training until validation scores don't improve for 25 rounds.\n"
     ]
    },
    {
     "name": "stderr",
     "output_type": "stream",
     "text": [
      "E:\\Anaconda\\envs\\ML\\lib\\site-packages\\lightgbm\\basic.py:742: UserWarning: categorical_feature in param dict is overridden.\n",
      "  warnings.warn('categorical_feature in param dict is overridden.')\n"
     ]
    },
    {
     "name": "stdout",
     "output_type": "stream",
     "text": [
      "Early stopping, best iteration is:\n",
      "[85]\ttraining's auc: 0.910453\tvalid_1's auc: 0.887957\n",
      "-\n",
      "Fold 5\n",
      "Training until validation scores don't improve for 25 rounds.\n"
     ]
    },
    {
     "name": "stderr",
     "output_type": "stream",
     "text": [
      "E:\\Anaconda\\envs\\ML\\lib\\site-packages\\lightgbm\\basic.py:742: UserWarning: categorical_feature in param dict is overridden.\n",
      "  warnings.warn('categorical_feature in param dict is overridden.')\n"
     ]
    },
    {
     "name": "stdout",
     "output_type": "stream",
     "text": [
      "Early stopping, best iteration is:\n",
      "[77]\ttraining's auc: 0.90841\tvalid_1's auc: 0.884007\n",
      "\n",
      "Avg Accuracy Train Set: 83.53908674474515\n",
      "Avg Accuracy Test Set: 80.10611809735715\n",
      "\n",
      "Avg Recall: 77.92565056863891\n",
      "Avg Precision: 81.48465589188535\n",
      "24 50 1.0\n",
      "-\n",
      "Fold 1\n",
      "Training until validation scores don't improve for 25 rounds.\n"
     ]
    },
    {
     "name": "stderr",
     "output_type": "stream",
     "text": [
      "E:\\Anaconda\\envs\\ML\\lib\\site-packages\\lightgbm\\basic.py:742: UserWarning: categorical_feature in param dict is overridden.\n",
      "  warnings.warn('categorical_feature in param dict is overridden.')\n"
     ]
    },
    {
     "name": "stdout",
     "output_type": "stream",
     "text": [
      "Early stopping, best iteration is:\n",
      "[62]\ttraining's auc: 0.904344\tvalid_1's auc: 0.880019\n",
      "-\n",
      "Fold 2\n",
      "Training until validation scores don't improve for 25 rounds.\n"
     ]
    },
    {
     "name": "stderr",
     "output_type": "stream",
     "text": [
      "E:\\Anaconda\\envs\\ML\\lib\\site-packages\\lightgbm\\basic.py:742: UserWarning: categorical_feature in param dict is overridden.\n",
      "  warnings.warn('categorical_feature in param dict is overridden.')\n"
     ]
    },
    {
     "name": "stdout",
     "output_type": "stream",
     "text": [
      "Early stopping, best iteration is:\n",
      "[84]\ttraining's auc: 0.911527\tvalid_1's auc: 0.884208\n",
      "-\n",
      "Fold 3\n",
      "Training until validation scores don't improve for 25 rounds.\n"
     ]
    },
    {
     "name": "stderr",
     "output_type": "stream",
     "text": [
      "E:\\Anaconda\\envs\\ML\\lib\\site-packages\\lightgbm\\basic.py:742: UserWarning: categorical_feature in param dict is overridden.\n",
      "  warnings.warn('categorical_feature in param dict is overridden.')\n"
     ]
    },
    {
     "name": "stdout",
     "output_type": "stream",
     "text": [
      "Early stopping, best iteration is:\n",
      "[82]\ttraining's auc: 0.911094\tvalid_1's auc: 0.882431\n",
      "-\n",
      "Fold 4\n",
      "Training until validation scores don't improve for 25 rounds.\n"
     ]
    },
    {
     "name": "stderr",
     "output_type": "stream",
     "text": [
      "E:\\Anaconda\\envs\\ML\\lib\\site-packages\\lightgbm\\basic.py:742: UserWarning: categorical_feature in param dict is overridden.\n",
      "  warnings.warn('categorical_feature in param dict is overridden.')\n"
     ]
    },
    {
     "name": "stdout",
     "output_type": "stream",
     "text": [
      "Early stopping, best iteration is:\n",
      "[98]\ttraining's auc: 0.914786\tvalid_1's auc: 0.888318\n",
      "-\n",
      "Fold 5\n",
      "Training until validation scores don't improve for 25 rounds.\n"
     ]
    },
    {
     "name": "stderr",
     "output_type": "stream",
     "text": [
      "E:\\Anaconda\\envs\\ML\\lib\\site-packages\\lightgbm\\basic.py:742: UserWarning: categorical_feature in param dict is overridden.\n",
      "  warnings.warn('categorical_feature in param dict is overridden.')\n"
     ]
    },
    {
     "name": "stdout",
     "output_type": "stream",
     "text": [
      "Early stopping, best iteration is:\n",
      "[141]\ttraining's auc: 0.926107\tvalid_1's auc: 0.883327\n",
      "\n",
      "Avg Accuracy Train Set: 83.22781828794527\n",
      "Avg Accuracy Test Set: 80.13239653623467\n",
      "\n",
      "Avg Recall: 77.97864369460268\n",
      "Avg Precision: 81.49704578684857\n",
      "32 20 0.5\n",
      "-\n",
      "Fold 1\n",
      "Training until validation scores don't improve for 25 rounds.\n"
     ]
    },
    {
     "name": "stderr",
     "output_type": "stream",
     "text": [
      "E:\\Anaconda\\envs\\ML\\lib\\site-packages\\lightgbm\\basic.py:742: UserWarning: categorical_feature in param dict is overridden.\n",
      "  warnings.warn('categorical_feature in param dict is overridden.')\n",
      "E:\\Anaconda\\envs\\ML\\lib\\site-packages\\lightgbm\\basic.py:742: UserWarning: categorical_feature in param dict is overridden.\n",
      "  warnings.warn('categorical_feature in param dict is overridden.')\n"
     ]
    },
    {
     "name": "stdout",
     "output_type": "stream",
     "text": [
      "Early stopping, best iteration is:\n",
      "[48]\ttraining's auc: 0.905284\tvalid_1's auc: 0.881362\n",
      "-\n",
      "Fold 2\n",
      "Training until validation scores don't improve for 25 rounds.\n",
      "Early stopping, best iteration is:\n",
      "[91]\ttraining's auc: 0.921173\tvalid_1's auc: 0.887475\n",
      "-\n",
      "Fold 3\n",
      "Training until validation scores don't improve for 25 rounds.\n"
     ]
    },
    {
     "name": "stderr",
     "output_type": "stream",
     "text": [
      "E:\\Anaconda\\envs\\ML\\lib\\site-packages\\lightgbm\\basic.py:742: UserWarning: categorical_feature in param dict is overridden.\n",
      "  warnings.warn('categorical_feature in param dict is overridden.')\n"
     ]
    },
    {
     "name": "stdout",
     "output_type": "stream",
     "text": [
      "Early stopping, best iteration is:\n",
      "[92]\ttraining's auc: 0.921727\tvalid_1's auc: 0.882862\n",
      "-\n",
      "Fold 4\n",
      "Training until validation scores don't improve for 25 rounds.\n"
     ]
    },
    {
     "name": "stderr",
     "output_type": "stream",
     "text": [
      "E:\\Anaconda\\envs\\ML\\lib\\site-packages\\lightgbm\\basic.py:742: UserWarning: categorical_feature in param dict is overridden.\n",
      "  warnings.warn('categorical_feature in param dict is overridden.')\n"
     ]
    },
    {
     "name": "stdout",
     "output_type": "stream",
     "text": [
      "Early stopping, best iteration is:\n",
      "[124]\ttraining's auc: 0.929823\tvalid_1's auc: 0.889336\n",
      "-\n",
      "Fold 5\n",
      "Training until validation scores don't improve for 25 rounds.\n"
     ]
    },
    {
     "name": "stderr",
     "output_type": "stream",
     "text": [
      "E:\\Anaconda\\envs\\ML\\lib\\site-packages\\lightgbm\\basic.py:742: UserWarning: categorical_feature in param dict is overridden.\n",
      "  warnings.warn('categorical_feature in param dict is overridden.')\n"
     ]
    },
    {
     "name": "stdout",
     "output_type": "stream",
     "text": [
      "Early stopping, best iteration is:\n",
      "[81]\ttraining's auc: 0.917363\tvalid_1's auc: 0.88424\n",
      "\n",
      "Avg Accuracy Train Set: 83.80172463114256\n",
      "Avg Accuracy Test Set: 80.26374044495654\n",
      "\n",
      "Avg Recall: 77.80982111534851\n",
      "Avg Precision: 81.82701852867345\n",
      "32 20 0.6000000000000001\n",
      "-\n",
      "Fold 1\n",
      "Training until validation scores don't improve for 25 rounds.\n"
     ]
    },
    {
     "name": "stderr",
     "output_type": "stream",
     "text": [
      "E:\\Anaconda\\envs\\ML\\lib\\site-packages\\lightgbm\\basic.py:742: UserWarning: categorical_feature in param dict is overridden.\n",
      "  warnings.warn('categorical_feature in param dict is overridden.')\n"
     ]
    },
    {
     "name": "stdout",
     "output_type": "stream",
     "text": [
      "Early stopping, best iteration is:\n",
      "[71]\ttraining's auc: 0.915681\tvalid_1's auc: 0.883444\n",
      "-\n",
      "Fold 2\n",
      "Training until validation scores don't improve for 25 rounds.\n"
     ]
    },
    {
     "name": "stderr",
     "output_type": "stream",
     "text": [
      "E:\\Anaconda\\envs\\ML\\lib\\site-packages\\lightgbm\\basic.py:742: UserWarning: categorical_feature in param dict is overridden.\n",
      "  warnings.warn('categorical_feature in param dict is overridden.')\n"
     ]
    },
    {
     "name": "stdout",
     "output_type": "stream",
     "text": [
      "Early stopping, best iteration is:\n",
      "[84]\ttraining's auc: 0.920048\tvalid_1's auc: 0.886924\n",
      "-\n",
      "Fold 3\n",
      "Training until validation scores don't improve for 25 rounds.\n"
     ]
    },
    {
     "name": "stderr",
     "output_type": "stream",
     "text": [
      "E:\\Anaconda\\envs\\ML\\lib\\site-packages\\lightgbm\\basic.py:742: UserWarning: categorical_feature in param dict is overridden.\n",
      "  warnings.warn('categorical_feature in param dict is overridden.')\n"
     ]
    },
    {
     "name": "stdout",
     "output_type": "stream",
     "text": [
      "Early stopping, best iteration is:\n",
      "[102]\ttraining's auc: 0.926565\tvalid_1's auc: 0.882379\n",
      "-\n",
      "Fold 4\n",
      "Training until validation scores don't improve for 25 rounds.\n"
     ]
    },
    {
     "name": "stderr",
     "output_type": "stream",
     "text": [
      "E:\\Anaconda\\envs\\ML\\lib\\site-packages\\lightgbm\\basic.py:742: UserWarning: categorical_feature in param dict is overridden.\n",
      "  warnings.warn('categorical_feature in param dict is overridden.')\n"
     ]
    },
    {
     "name": "stdout",
     "output_type": "stream",
     "text": [
      "Early stopping, best iteration is:\n",
      "[79]\ttraining's auc: 0.917166\tvalid_1's auc: 0.888096\n",
      "-\n",
      "Fold 5\n",
      "Training until validation scores don't improve for 25 rounds.\n"
     ]
    },
    {
     "name": "stderr",
     "output_type": "stream",
     "text": [
      "E:\\Anaconda\\envs\\ML\\lib\\site-packages\\lightgbm\\basic.py:742: UserWarning: categorical_feature in param dict is overridden.\n",
      "  warnings.warn('categorical_feature in param dict is overridden.')\n"
     ]
    },
    {
     "name": "stdout",
     "output_type": "stream",
     "text": [
      "Early stopping, best iteration is:\n",
      "[80]\ttraining's auc: 0.91829\tvalid_1's auc: 0.884371\n",
      "\n",
      "Avg Accuracy Train Set: 83.81881086130258\n",
      "Avg Accuracy Test Set: 80.2741991201524\n",
      "\n",
      "Avg Recall: 77.8010996717682\n",
      "Avg Precision: 81.85366324093086\n",
      "32 20 0.7000000000000001\n",
      "-\n",
      "Fold 1\n",
      "Training until validation scores don't improve for 25 rounds.\n"
     ]
    },
    {
     "name": "stderr",
     "output_type": "stream",
     "text": [
      "E:\\Anaconda\\envs\\ML\\lib\\site-packages\\lightgbm\\basic.py:742: UserWarning: categorical_feature in param dict is overridden.\n",
      "  warnings.warn('categorical_feature in param dict is overridden.')\n"
     ]
    },
    {
     "name": "stdout",
     "output_type": "stream",
     "text": [
      "Early stopping, best iteration is:\n",
      "[71]\ttraining's auc: 0.916692\tvalid_1's auc: 0.880478\n",
      "-\n",
      "Fold 2\n",
      "Training until validation scores don't improve for 25 rounds.\n"
     ]
    },
    {
     "name": "stderr",
     "output_type": "stream",
     "text": [
      "E:\\Anaconda\\envs\\ML\\lib\\site-packages\\lightgbm\\basic.py:742: UserWarning: categorical_feature in param dict is overridden.\n",
      "  warnings.warn('categorical_feature in param dict is overridden.')\n"
     ]
    },
    {
     "name": "stdout",
     "output_type": "stream",
     "text": [
      "Early stopping, best iteration is:\n",
      "[92]\ttraining's auc: 0.92277\tvalid_1's auc: 0.885229\n",
      "-\n",
      "Fold 3\n",
      "Training until validation scores don't improve for 25 rounds.\n"
     ]
    },
    {
     "name": "stderr",
     "output_type": "stream",
     "text": [
      "E:\\Anaconda\\envs\\ML\\lib\\site-packages\\lightgbm\\basic.py:742: UserWarning: categorical_feature in param dict is overridden.\n",
      "  warnings.warn('categorical_feature in param dict is overridden.')\n"
     ]
    },
    {
     "name": "stdout",
     "output_type": "stream",
     "text": [
      "Early stopping, best iteration is:\n",
      "[62]\ttraining's auc: 0.912873\tvalid_1's auc: 0.881632\n",
      "-\n",
      "Fold 4\n",
      "Training until validation scores don't improve for 25 rounds.\n"
     ]
    },
    {
     "name": "stderr",
     "output_type": "stream",
     "text": [
      "E:\\Anaconda\\envs\\ML\\lib\\site-packages\\lightgbm\\basic.py:742: UserWarning: categorical_feature in param dict is overridden.\n",
      "  warnings.warn('categorical_feature in param dict is overridden.')\n"
     ]
    },
    {
     "name": "stdout",
     "output_type": "stream",
     "text": [
      "Early stopping, best iteration is:\n",
      "[91]\ttraining's auc: 0.922759\tvalid_1's auc: 0.888877\n",
      "-\n",
      "Fold 5\n",
      "Training until validation scores don't improve for 25 rounds.\n"
     ]
    },
    {
     "name": "stderr",
     "output_type": "stream",
     "text": [
      "E:\\Anaconda\\envs\\ML\\lib\\site-packages\\lightgbm\\basic.py:742: UserWarning: categorical_feature in param dict is overridden.\n",
      "  warnings.warn('categorical_feature in param dict is overridden.')\n"
     ]
    },
    {
     "name": "stdout",
     "output_type": "stream",
     "text": [
      "Early stopping, best iteration is:\n",
      "[51]\ttraining's auc: 0.907654\tvalid_1's auc: 0.883391\n",
      "\n",
      "Avg Accuracy Train Set: 83.67041332030674\n",
      "Avg Accuracy Test Set: 80.09033696220806\n",
      "\n",
      "Avg Recall: 77.89670306746251\n",
      "Avg Precision: 81.47450171072305\n",
      "32 20 0.8\n",
      "-\n",
      "Fold 1\n",
      "Training until validation scores don't improve for 25 rounds.\n"
     ]
    },
    {
     "name": "stderr",
     "output_type": "stream",
     "text": [
      "E:\\Anaconda\\envs\\ML\\lib\\site-packages\\lightgbm\\basic.py:742: UserWarning: categorical_feature in param dict is overridden.\n",
      "  warnings.warn('categorical_feature in param dict is overridden.')\n"
     ]
    },
    {
     "name": "stdout",
     "output_type": "stream",
     "text": [
      "Early stopping, best iteration is:\n",
      "[61]\ttraining's auc: 0.912656\tvalid_1's auc: 0.879023\n",
      "-\n",
      "Fold 2\n",
      "Training until validation scores don't improve for 25 rounds.\n"
     ]
    },
    {
     "name": "stderr",
     "output_type": "stream",
     "text": [
      "E:\\Anaconda\\envs\\ML\\lib\\site-packages\\lightgbm\\basic.py:742: UserWarning: categorical_feature in param dict is overridden.\n",
      "  warnings.warn('categorical_feature in param dict is overridden.')\n"
     ]
    },
    {
     "name": "stdout",
     "output_type": "stream",
     "text": [
      "Early stopping, best iteration is:\n",
      "[97]\ttraining's auc: 0.926074\tvalid_1's auc: 0.885694\n",
      "-\n",
      "Fold 3\n",
      "Training until validation scores don't improve for 25 rounds.\n"
     ]
    },
    {
     "name": "stderr",
     "output_type": "stream",
     "text": [
      "E:\\Anaconda\\envs\\ML\\lib\\site-packages\\lightgbm\\basic.py:742: UserWarning: categorical_feature in param dict is overridden.\n",
      "  warnings.warn('categorical_feature in param dict is overridden.')\n"
     ]
    },
    {
     "name": "stdout",
     "output_type": "stream",
     "text": [
      "Early stopping, best iteration is:\n",
      "[58]\ttraining's auc: 0.911969\tvalid_1's auc: 0.881591\n",
      "-\n",
      "Fold 4\n",
      "Training until validation scores don't improve for 25 rounds.\n"
     ]
    },
    {
     "name": "stderr",
     "output_type": "stream",
     "text": [
      "E:\\Anaconda\\envs\\ML\\lib\\site-packages\\lightgbm\\basic.py:742: UserWarning: categorical_feature in param dict is overridden.\n",
      "  warnings.warn('categorical_feature in param dict is overridden.')\n"
     ]
    },
    {
     "name": "stdout",
     "output_type": "stream",
     "text": [
      "Early stopping, best iteration is:\n",
      "[80]\ttraining's auc: 0.918948\tvalid_1's auc: 0.889055\n",
      "-\n",
      "Fold 5\n",
      "Training until validation scores don't improve for 25 rounds.\n"
     ]
    },
    {
     "name": "stderr",
     "output_type": "stream",
     "text": [
      "E:\\Anaconda\\envs\\ML\\lib\\site-packages\\lightgbm\\basic.py:742: UserWarning: categorical_feature in param dict is overridden.\n",
      "  warnings.warn('categorical_feature in param dict is overridden.')\n"
     ]
    },
    {
     "name": "stdout",
     "output_type": "stream",
     "text": [
      "Early stopping, best iteration is:\n",
      "[71]\ttraining's auc: 0.916146\tvalid_1's auc: 0.885324\n",
      "\n",
      "Avg Accuracy Train Set: 83.60080159990885\n",
      "Avg Accuracy Test Set: 80.31625731458857\n",
      "\n",
      "Avg Recall: 78.00139878786759\n",
      "Avg Precision: 81.79413396395299\n",
      "32 20 0.9\n",
      "-\n",
      "Fold 1\n",
      "Training until validation scores don't improve for 25 rounds.\n"
     ]
    },
    {
     "name": "stderr",
     "output_type": "stream",
     "text": [
      "E:\\Anaconda\\envs\\ML\\lib\\site-packages\\lightgbm\\basic.py:742: UserWarning: categorical_feature in param dict is overridden.\n",
      "  warnings.warn('categorical_feature in param dict is overridden.')\n"
     ]
    },
    {
     "name": "stdout",
     "output_type": "stream",
     "text": [
      "Early stopping, best iteration is:\n",
      "[101]\ttraining's auc: 0.928985\tvalid_1's auc: 0.88079\n",
      "-\n",
      "Fold 2\n",
      "Training until validation scores don't improve for 25 rounds.\n"
     ]
    },
    {
     "name": "stderr",
     "output_type": "stream",
     "text": [
      "E:\\Anaconda\\envs\\ML\\lib\\site-packages\\lightgbm\\basic.py:742: UserWarning: categorical_feature in param dict is overridden.\n",
      "  warnings.warn('categorical_feature in param dict is overridden.')\n"
     ]
    },
    {
     "name": "stdout",
     "output_type": "stream",
     "text": [
      "Early stopping, best iteration is:\n",
      "[78]\ttraining's auc: 0.919092\tvalid_1's auc: 0.884989\n",
      "-\n",
      "Fold 3\n",
      "Training until validation scores don't improve for 25 rounds.\n"
     ]
    },
    {
     "name": "stderr",
     "output_type": "stream",
     "text": [
      "E:\\Anaconda\\envs\\ML\\lib\\site-packages\\lightgbm\\basic.py:742: UserWarning: categorical_feature in param dict is overridden.\n",
      "  warnings.warn('categorical_feature in param dict is overridden.')\n"
     ]
    },
    {
     "name": "stdout",
     "output_type": "stream",
     "text": [
      "Early stopping, best iteration is:\n",
      "[71]\ttraining's auc: 0.917514\tvalid_1's auc: 0.880682\n",
      "-\n",
      "Fold 4\n",
      "Training until validation scores don't improve for 25 rounds.\n"
     ]
    },
    {
     "name": "stderr",
     "output_type": "stream",
     "text": [
      "E:\\Anaconda\\envs\\ML\\lib\\site-packages\\lightgbm\\basic.py:742: UserWarning: categorical_feature in param dict is overridden.\n",
      "  warnings.warn('categorical_feature in param dict is overridden.')\n"
     ]
    },
    {
     "name": "stdout",
     "output_type": "stream",
     "text": [
      "Early stopping, best iteration is:\n",
      "[63]\ttraining's auc: 0.911947\tvalid_1's auc: 0.88843\n",
      "-\n",
      "Fold 5\n",
      "Training until validation scores don't improve for 25 rounds.\n"
     ]
    },
    {
     "name": "stderr",
     "output_type": "stream",
     "text": [
      "E:\\Anaconda\\envs\\ML\\lib\\site-packages\\lightgbm\\basic.py:742: UserWarning: categorical_feature in param dict is overridden.\n",
      "  warnings.warn('categorical_feature in param dict is overridden.')\n"
     ]
    },
    {
     "name": "stdout",
     "output_type": "stream",
     "text": [
      "Early stopping, best iteration is:\n",
      "[92]\ttraining's auc: 0.924958\tvalid_1's auc: 0.884134\n",
      "\n",
      "Avg Accuracy Train Set: 83.97905253589094\n",
      "Avg Accuracy Test Set: 80.190193098516\n",
      "\n",
      "Avg Recall: 78.198990707673\n",
      "Avg Precision: 81.44307380184017\n",
      "32 20 1.0\n",
      "-\n",
      "Fold 1\n",
      "Training until validation scores don't improve for 25 rounds.\n"
     ]
    },
    {
     "name": "stderr",
     "output_type": "stream",
     "text": [
      "E:\\Anaconda\\envs\\ML\\lib\\site-packages\\lightgbm\\basic.py:742: UserWarning: categorical_feature in param dict is overridden.\n",
      "  warnings.warn('categorical_feature in param dict is overridden.')\n"
     ]
    },
    {
     "name": "stdout",
     "output_type": "stream",
     "text": [
      "Early stopping, best iteration is:\n",
      "[74]\ttraining's auc: 0.920075\tvalid_1's auc: 0.880112\n",
      "-\n",
      "Fold 2\n",
      "Training until validation scores don't improve for 25 rounds.\n"
     ]
    },
    {
     "name": "stderr",
     "output_type": "stream",
     "text": [
      "E:\\Anaconda\\envs\\ML\\lib\\site-packages\\lightgbm\\basic.py:742: UserWarning: categorical_feature in param dict is overridden.\n",
      "  warnings.warn('categorical_feature in param dict is overridden.')\n"
     ]
    },
    {
     "name": "stdout",
     "output_type": "stream",
     "text": [
      "Early stopping, best iteration is:\n",
      "[88]\ttraining's auc: 0.924228\tvalid_1's auc: 0.885856\n",
      "-\n",
      "Fold 3\n",
      "Training until validation scores don't improve for 25 rounds.\n"
     ]
    },
    {
     "name": "stderr",
     "output_type": "stream",
     "text": [
      "E:\\Anaconda\\envs\\ML\\lib\\site-packages\\lightgbm\\basic.py:742: UserWarning: categorical_feature in param dict is overridden.\n",
      "  warnings.warn('categorical_feature in param dict is overridden.')\n"
     ]
    },
    {
     "name": "stdout",
     "output_type": "stream",
     "text": [
      "Early stopping, best iteration is:\n",
      "[51]\ttraining's auc: 0.908702\tvalid_1's auc: 0.880027\n",
      "-\n",
      "Fold 4\n",
      "Training until validation scores don't improve for 25 rounds.\n"
     ]
    },
    {
     "name": "stderr",
     "output_type": "stream",
     "text": [
      "E:\\Anaconda\\envs\\ML\\lib\\site-packages\\lightgbm\\basic.py:742: UserWarning: categorical_feature in param dict is overridden.\n",
      "  warnings.warn('categorical_feature in param dict is overridden.')\n"
     ]
    },
    {
     "name": "stdout",
     "output_type": "stream",
     "text": [
      "Early stopping, best iteration is:\n",
      "[65]\ttraining's auc: 0.913652\tvalid_1's auc: 0.888613\n",
      "-\n",
      "Fold 5\n",
      "Training until validation scores don't improve for 25 rounds.\n"
     ]
    },
    {
     "name": "stderr",
     "output_type": "stream",
     "text": [
      "E:\\Anaconda\\envs\\ML\\lib\\site-packages\\lightgbm\\basic.py:742: UserWarning: categorical_feature in param dict is overridden.\n",
      "  warnings.warn('categorical_feature in param dict is overridden.')\n"
     ]
    },
    {
     "name": "stdout",
     "output_type": "stream",
     "text": [
      "Early stopping, best iteration is:\n",
      "[80]\ttraining's auc: 0.920511\tvalid_1's auc: 0.883518\n",
      "\n",
      "Avg Accuracy Train Set: 83.61263503956918\n",
      "Avg Accuracy Test Set: 80.02731865007625\n",
      "\n",
      "Avg Recall: 77.89646365180046\n",
      "Avg Precision: 81.36883451550122\n",
      "32 25 0.5\n",
      "-\n",
      "Fold 1\n",
      "Training until validation scores don't improve for 25 rounds.\n"
     ]
    },
    {
     "name": "stderr",
     "output_type": "stream",
     "text": [
      "E:\\Anaconda\\envs\\ML\\lib\\site-packages\\lightgbm\\basic.py:742: UserWarning: categorical_feature in param dict is overridden.\n",
      "  warnings.warn('categorical_feature in param dict is overridden.')\n"
     ]
    },
    {
     "name": "stdout",
     "output_type": "stream",
     "text": [
      "Early stopping, best iteration is:\n",
      "[80]\ttraining's auc: 0.918143\tvalid_1's auc: 0.882557\n",
      "-\n",
      "Fold 2\n",
      "Training until validation scores don't improve for 25 rounds.\n"
     ]
    },
    {
     "name": "stderr",
     "output_type": "stream",
     "text": [
      "E:\\Anaconda\\envs\\ML\\lib\\site-packages\\lightgbm\\basic.py:742: UserWarning: categorical_feature in param dict is overridden.\n",
      "  warnings.warn('categorical_feature in param dict is overridden.')\n"
     ]
    },
    {
     "name": "stdout",
     "output_type": "stream",
     "text": [
      "Early stopping, best iteration is:\n",
      "[79]\ttraining's auc: 0.916415\tvalid_1's auc: 0.886279\n",
      "-\n",
      "Fold 3\n",
      "Training until validation scores don't improve for 25 rounds.\n"
     ]
    },
    {
     "name": "stderr",
     "output_type": "stream",
     "text": [
      "E:\\Anaconda\\envs\\ML\\lib\\site-packages\\lightgbm\\basic.py:742: UserWarning: categorical_feature in param dict is overridden.\n",
      "  warnings.warn('categorical_feature in param dict is overridden.')\n"
     ]
    },
    {
     "name": "stdout",
     "output_type": "stream",
     "text": [
      "Early stopping, best iteration is:\n",
      "[90]\ttraining's auc: 0.920538\tvalid_1's auc: 0.882926\n",
      "-\n",
      "Fold 4\n",
      "Training until validation scores don't improve for 25 rounds.\n"
     ]
    },
    {
     "name": "stderr",
     "output_type": "stream",
     "text": [
      "E:\\Anaconda\\envs\\ML\\lib\\site-packages\\lightgbm\\basic.py:742: UserWarning: categorical_feature in param dict is overridden.\n",
      "  warnings.warn('categorical_feature in param dict is overridden.')\n"
     ]
    },
    {
     "name": "stdout",
     "output_type": "stream",
     "text": [
      "Early stopping, best iteration is:\n",
      "[92]\ttraining's auc: 0.920553\tvalid_1's auc: 0.888496\n",
      "-\n",
      "Fold 5\n",
      "Training until validation scores don't improve for 25 rounds.\n"
     ]
    },
    {
     "name": "stderr",
     "output_type": "stream",
     "text": [
      "E:\\Anaconda\\envs\\ML\\lib\\site-packages\\lightgbm\\basic.py:742: UserWarning: categorical_feature in param dict is overridden.\n",
      "  warnings.warn('categorical_feature in param dict is overridden.')\n"
     ]
    },
    {
     "name": "stdout",
     "output_type": "stream",
     "text": [
      "Early stopping, best iteration is:\n",
      "[81]\ttraining's auc: 0.917268\tvalid_1's auc: 0.88458\n",
      "\n",
      "Avg Accuracy Train Set: 83.70193290927064\n",
      "Avg Accuracy Test Set: 80.24271410691935\n",
      "\n",
      "Avg Recall: 77.82167062140537\n",
      "Avg Precision: 81.78251687084229\n",
      "32 25 0.6000000000000001\n",
      "-\n",
      "Fold 1\n",
      "Training until validation scores don't improve for 25 rounds.\n"
     ]
    },
    {
     "name": "stderr",
     "output_type": "stream",
     "text": [
      "E:\\Anaconda\\envs\\ML\\lib\\site-packages\\lightgbm\\basic.py:742: UserWarning: categorical_feature in param dict is overridden.\n",
      "  warnings.warn('categorical_feature in param dict is overridden.')\n"
     ]
    },
    {
     "name": "stdout",
     "output_type": "stream",
     "text": [
      "Early stopping, best iteration is:\n",
      "[81]\ttraining's auc: 0.918922\tvalid_1's auc: 0.8832\n",
      "-\n",
      "Fold 2\n",
      "Training until validation scores don't improve for 25 rounds.\n"
     ]
    },
    {
     "name": "stderr",
     "output_type": "stream",
     "text": [
      "E:\\Anaconda\\envs\\ML\\lib\\site-packages\\lightgbm\\basic.py:742: UserWarning: categorical_feature in param dict is overridden.\n",
      "  warnings.warn('categorical_feature in param dict is overridden.')\n"
     ]
    },
    {
     "name": "stdout",
     "output_type": "stream",
     "text": [
      "Early stopping, best iteration is:\n",
      "[80]\ttraining's auc: 0.917808\tvalid_1's auc: 0.886728\n",
      "-\n",
      "Fold 3\n",
      "Training until validation scores don't improve for 25 rounds.\n"
     ]
    },
    {
     "name": "stderr",
     "output_type": "stream",
     "text": [
      "E:\\Anaconda\\envs\\ML\\lib\\site-packages\\lightgbm\\basic.py:742: UserWarning: categorical_feature in param dict is overridden.\n",
      "  warnings.warn('categorical_feature in param dict is overridden.')\n"
     ]
    },
    {
     "name": "stdout",
     "output_type": "stream",
     "text": [
      "Early stopping, best iteration is:\n",
      "[109]\ttraining's auc: 0.928016\tvalid_1's auc: 0.882584\n",
      "-\n",
      "Fold 4\n",
      "Training until validation scores don't improve for 25 rounds.\n"
     ]
    },
    {
     "name": "stderr",
     "output_type": "stream",
     "text": [
      "E:\\Anaconda\\envs\\ML\\lib\\site-packages\\lightgbm\\basic.py:742: UserWarning: categorical_feature in param dict is overridden.\n",
      "  warnings.warn('categorical_feature in param dict is overridden.')\n"
     ]
    },
    {
     "name": "stdout",
     "output_type": "stream",
     "text": [
      "Early stopping, best iteration is:\n",
      "[62]\ttraining's auc: 0.910279\tvalid_1's auc: 0.88863\n",
      "-\n",
      "Fold 5\n",
      "Training until validation scores don't improve for 25 rounds.\n"
     ]
    },
    {
     "name": "stderr",
     "output_type": "stream",
     "text": [
      "E:\\Anaconda\\envs\\ML\\lib\\site-packages\\lightgbm\\basic.py:742: UserWarning: categorical_feature in param dict is overridden.\n",
      "  warnings.warn('categorical_feature in param dict is overridden.')\n"
     ]
    },
    {
     "name": "stdout",
     "output_type": "stream",
     "text": [
      "Early stopping, best iteration is:\n",
      "[128]\ttraining's auc: 0.933187\tvalid_1's auc: 0.885136\n",
      "\n",
      "Avg Accuracy Train Set: 84.12218641997214\n",
      "Avg Accuracy Test Set: 80.36876728626832\n",
      "\n",
      "Avg Recall: 77.93660656541626\n",
      "Avg Precision: 81.92480206817892\n",
      "32 25 0.7000000000000001\n",
      "-\n",
      "Fold 1\n",
      "Training until validation scores don't improve for 25 rounds.\n"
     ]
    },
    {
     "name": "stderr",
     "output_type": "stream",
     "text": [
      "E:\\Anaconda\\envs\\ML\\lib\\site-packages\\lightgbm\\basic.py:742: UserWarning: categorical_feature in param dict is overridden.\n",
      "  warnings.warn('categorical_feature in param dict is overridden.')\n"
     ]
    },
    {
     "name": "stdout",
     "output_type": "stream",
     "text": [
      "Early stopping, best iteration is:\n",
      "[67]\ttraining's auc: 0.914409\tvalid_1's auc: 0.880545\n",
      "-\n",
      "Fold 2\n",
      "Training until validation scores don't improve for 25 rounds.\n"
     ]
    },
    {
     "name": "stderr",
     "output_type": "stream",
     "text": [
      "E:\\Anaconda\\envs\\ML\\lib\\site-packages\\lightgbm\\basic.py:742: UserWarning: categorical_feature in param dict is overridden.\n",
      "  warnings.warn('categorical_feature in param dict is overridden.')\n"
     ]
    },
    {
     "name": "stdout",
     "output_type": "stream",
     "text": [
      "Early stopping, best iteration is:\n",
      "[79]\ttraining's auc: 0.918475\tvalid_1's auc: 0.887113\n",
      "-\n",
      "Fold 3\n",
      "Training until validation scores don't improve for 25 rounds.\n"
     ]
    },
    {
     "name": "stderr",
     "output_type": "stream",
     "text": [
      "E:\\Anaconda\\envs\\ML\\lib\\site-packages\\lightgbm\\basic.py:742: UserWarning: categorical_feature in param dict is overridden.\n",
      "  warnings.warn('categorical_feature in param dict is overridden.')\n"
     ]
    },
    {
     "name": "stdout",
     "output_type": "stream",
     "text": [
      "Early stopping, best iteration is:\n",
      "[79]\ttraining's auc: 0.919091\tvalid_1's auc: 0.882031\n",
      "-\n",
      "Fold 4\n",
      "Training until validation scores don't improve for 25 rounds.\n"
     ]
    },
    {
     "name": "stderr",
     "output_type": "stream",
     "text": [
      "E:\\Anaconda\\envs\\ML\\lib\\site-packages\\lightgbm\\basic.py:742: UserWarning: categorical_feature in param dict is overridden.\n",
      "  warnings.warn('categorical_feature in param dict is overridden.')\n"
     ]
    },
    {
     "name": "stdout",
     "output_type": "stream",
     "text": [
      "Early stopping, best iteration is:\n",
      "[63]\ttraining's auc: 0.911159\tvalid_1's auc: 0.888675\n",
      "-\n",
      "Fold 5\n",
      "Training until validation scores don't improve for 25 rounds.\n"
     ]
    },
    {
     "name": "stderr",
     "output_type": "stream",
     "text": [
      "E:\\Anaconda\\envs\\ML\\lib\\site-packages\\lightgbm\\basic.py:742: UserWarning: categorical_feature in param dict is overridden.\n",
      "  warnings.warn('categorical_feature in param dict is overridden.')\n"
     ]
    },
    {
     "name": "stdout",
     "output_type": "stream",
     "text": [
      "Early stopping, best iteration is:\n",
      "[82]\ttraining's auc: 0.919909\tvalid_1's auc: 0.884623\n",
      "\n",
      "Avg Accuracy Train Set: 83.62969979562344\n",
      "Avg Accuracy Test Set: 80.12188819578265\n",
      "\n",
      "Avg Recall: 77.88396990460396\n",
      "Avg Precision: 81.53666676325766\n",
      "32 25 0.8\n",
      "-\n",
      "Fold 1\n",
      "Training until validation scores don't improve for 25 rounds.\n"
     ]
    },
    {
     "name": "stderr",
     "output_type": "stream",
     "text": [
      "E:\\Anaconda\\envs\\ML\\lib\\site-packages\\lightgbm\\basic.py:742: UserWarning: categorical_feature in param dict is overridden.\n",
      "  warnings.warn('categorical_feature in param dict is overridden.')\n"
     ]
    },
    {
     "name": "stdout",
     "output_type": "stream",
     "text": [
      "Early stopping, best iteration is:\n",
      "[79]\ttraining's auc: 0.919932\tvalid_1's auc: 0.879169\n",
      "-\n",
      "Fold 2\n",
      "Training until validation scores don't improve for 25 rounds.\n"
     ]
    },
    {
     "name": "stderr",
     "output_type": "stream",
     "text": [
      "E:\\Anaconda\\envs\\ML\\lib\\site-packages\\lightgbm\\basic.py:742: UserWarning: categorical_feature in param dict is overridden.\n",
      "  warnings.warn('categorical_feature in param dict is overridden.')\n"
     ]
    },
    {
     "name": "stdout",
     "output_type": "stream",
     "text": [
      "Early stopping, best iteration is:\n",
      "[101]\ttraining's auc: 0.926584\tvalid_1's auc: 0.885681\n",
      "-\n",
      "Fold 3\n",
      "Training until validation scores don't improve for 25 rounds.\n"
     ]
    },
    {
     "name": "stderr",
     "output_type": "stream",
     "text": [
      "E:\\Anaconda\\envs\\ML\\lib\\site-packages\\lightgbm\\basic.py:742: UserWarning: categorical_feature in param dict is overridden.\n",
      "  warnings.warn('categorical_feature in param dict is overridden.')\n"
     ]
    },
    {
     "name": "stdout",
     "output_type": "stream",
     "text": [
      "Early stopping, best iteration is:\n",
      "[97]\ttraining's auc: 0.926218\tvalid_1's auc: 0.881742\n",
      "-\n",
      "Fold 4\n",
      "Training until validation scores don't improve for 25 rounds.\n"
     ]
    },
    {
     "name": "stderr",
     "output_type": "stream",
     "text": [
      "E:\\Anaconda\\envs\\ML\\lib\\site-packages\\lightgbm\\basic.py:742: UserWarning: categorical_feature in param dict is overridden.\n",
      "  warnings.warn('categorical_feature in param dict is overridden.')\n"
     ]
    },
    {
     "name": "stdout",
     "output_type": "stream",
     "text": [
      "Early stopping, best iteration is:\n",
      "[76]\ttraining's auc: 0.91687\tvalid_1's auc: 0.887608\n",
      "-\n",
      "Fold 5\n",
      "Training until validation scores don't improve for 25 rounds.\n"
     ]
    },
    {
     "name": "stderr",
     "output_type": "stream",
     "text": [
      "E:\\Anaconda\\envs\\ML\\lib\\site-packages\\lightgbm\\basic.py:742: UserWarning: categorical_feature in param dict is overridden.\n",
      "  warnings.warn('categorical_feature in param dict is overridden.')\n"
     ]
    },
    {
     "name": "stdout",
     "output_type": "stream",
     "text": [
      "Early stopping, best iteration is:\n",
      "[63]\ttraining's auc: 0.912464\tvalid_1's auc: 0.884115\n",
      "\n",
      "Avg Accuracy Train Set: 84.06177725943253\n",
      "Avg Accuracy Test Set: 80.19017792302107\n",
      "\n",
      "Avg Recall: 78.05322046777708\n",
      "Avg Precision: 81.54344028369349\n",
      "32 25 0.9\n",
      "-\n",
      "Fold 1\n",
      "Training until validation scores don't improve for 25 rounds.\n"
     ]
    },
    {
     "name": "stderr",
     "output_type": "stream",
     "text": [
      "E:\\Anaconda\\envs\\ML\\lib\\site-packages\\lightgbm\\basic.py:742: UserWarning: categorical_feature in param dict is overridden.\n",
      "  warnings.warn('categorical_feature in param dict is overridden.')\n"
     ]
    },
    {
     "name": "stdout",
     "output_type": "stream",
     "text": [
      "Early stopping, best iteration is:\n",
      "[60]\ttraining's auc: 0.912354\tvalid_1's auc: 0.879919\n",
      "-\n",
      "Fold 2\n",
      "Training until validation scores don't improve for 25 rounds.\n"
     ]
    },
    {
     "name": "stderr",
     "output_type": "stream",
     "text": [
      "E:\\Anaconda\\envs\\ML\\lib\\site-packages\\lightgbm\\basic.py:742: UserWarning: categorical_feature in param dict is overridden.\n",
      "  warnings.warn('categorical_feature in param dict is overridden.')\n"
     ]
    },
    {
     "name": "stdout",
     "output_type": "stream",
     "text": [
      "Early stopping, best iteration is:\n",
      "[74]\ttraining's auc: 0.916745\tvalid_1's auc: 0.885335\n",
      "-\n",
      "Fold 3\n",
      "Training until validation scores don't improve for 25 rounds.\n"
     ]
    },
    {
     "name": "stderr",
     "output_type": "stream",
     "text": [
      "E:\\Anaconda\\envs\\ML\\lib\\site-packages\\lightgbm\\basic.py:742: UserWarning: categorical_feature in param dict is overridden.\n",
      "  warnings.warn('categorical_feature in param dict is overridden.')\n"
     ]
    },
    {
     "name": "stdout",
     "output_type": "stream",
     "text": [
      "Early stopping, best iteration is:\n",
      "[52]\ttraining's auc: 0.90907\tvalid_1's auc: 0.88081\n",
      "-\n",
      "Fold 4\n",
      "Training until validation scores don't improve for 25 rounds.\n"
     ]
    },
    {
     "name": "stderr",
     "output_type": "stream",
     "text": [
      "E:\\Anaconda\\envs\\ML\\lib\\site-packages\\lightgbm\\basic.py:742: UserWarning: categorical_feature in param dict is overridden.\n",
      "  warnings.warn('categorical_feature in param dict is overridden.')\n"
     ]
    },
    {
     "name": "stdout",
     "output_type": "stream",
     "text": [
      "Early stopping, best iteration is:\n",
      "[79]\ttraining's auc: 0.919141\tvalid_1's auc: 0.888793\n",
      "-\n",
      "Fold 5\n",
      "Training until validation scores don't improve for 25 rounds.\n"
     ]
    },
    {
     "name": "stderr",
     "output_type": "stream",
     "text": [
      "E:\\Anaconda\\envs\\ML\\lib\\site-packages\\lightgbm\\basic.py:742: UserWarning: categorical_feature in param dict is overridden.\n",
      "  warnings.warn('categorical_feature in param dict is overridden.')\n"
     ]
    },
    {
     "name": "stdout",
     "output_type": "stream",
     "text": [
      "Early stopping, best iteration is:\n",
      "[71]\ttraining's auc: 0.915571\tvalid_1's auc: 0.883984\n",
      "\n",
      "Avg Accuracy Train Set: 83.33026572713918\n",
      "Avg Accuracy Test Set: 80.28473091364205\n",
      "\n",
      "Avg Recall: 78.11645283892854\n",
      "Avg Precision: 81.66272935478797\n",
      "32 25 1.0\n",
      "-\n",
      "Fold 1\n",
      "Training until validation scores don't improve for 25 rounds.\n"
     ]
    },
    {
     "name": "stderr",
     "output_type": "stream",
     "text": [
      "E:\\Anaconda\\envs\\ML\\lib\\site-packages\\lightgbm\\basic.py:742: UserWarning: categorical_feature in param dict is overridden.\n",
      "  warnings.warn('categorical_feature in param dict is overridden.')\n"
     ]
    },
    {
     "name": "stdout",
     "output_type": "stream",
     "text": [
      "Early stopping, best iteration is:\n",
      "[65]\ttraining's auc: 0.915304\tvalid_1's auc: 0.879912\n",
      "-\n",
      "Fold 2\n",
      "Training until validation scores don't improve for 25 rounds.\n"
     ]
    },
    {
     "name": "stderr",
     "output_type": "stream",
     "text": [
      "E:\\Anaconda\\envs\\ML\\lib\\site-packages\\lightgbm\\basic.py:742: UserWarning: categorical_feature in param dict is overridden.\n",
      "  warnings.warn('categorical_feature in param dict is overridden.')\n"
     ]
    },
    {
     "name": "stdout",
     "output_type": "stream",
     "text": [
      "Early stopping, best iteration is:\n",
      "[74]\ttraining's auc: 0.917929\tvalid_1's auc: 0.884772\n",
      "-\n",
      "Fold 3\n",
      "Training until validation scores don't improve for 25 rounds.\n"
     ]
    },
    {
     "name": "stderr",
     "output_type": "stream",
     "text": [
      "E:\\Anaconda\\envs\\ML\\lib\\site-packages\\lightgbm\\basic.py:742: UserWarning: categorical_feature in param dict is overridden.\n",
      "  warnings.warn('categorical_feature in param dict is overridden.')\n"
     ]
    },
    {
     "name": "stdout",
     "output_type": "stream",
     "text": [
      "Early stopping, best iteration is:\n",
      "[61]\ttraining's auc: 0.912755\tvalid_1's auc: 0.882501\n",
      "-\n",
      "Fold 4\n",
      "Training until validation scores don't improve for 25 rounds.\n"
     ]
    },
    {
     "name": "stderr",
     "output_type": "stream",
     "text": [
      "E:\\Anaconda\\envs\\ML\\lib\\site-packages\\lightgbm\\basic.py:742: UserWarning: categorical_feature in param dict is overridden.\n",
      "  warnings.warn('categorical_feature in param dict is overridden.')\n"
     ]
    },
    {
     "name": "stdout",
     "output_type": "stream",
     "text": [
      "Early stopping, best iteration is:\n",
      "[63]\ttraining's auc: 0.912399\tvalid_1's auc: 0.888379\n",
      "-\n",
      "Fold 5\n",
      "Training until validation scores don't improve for 25 rounds.\n"
     ]
    },
    {
     "name": "stderr",
     "output_type": "stream",
     "text": [
      "E:\\Anaconda\\envs\\ML\\lib\\site-packages\\lightgbm\\basic.py:742: UserWarning: categorical_feature in param dict is overridden.\n",
      "  warnings.warn('categorical_feature in param dict is overridden.')\n"
     ]
    },
    {
     "name": "stdout",
     "output_type": "stream",
     "text": [
      "Early stopping, best iteration is:\n",
      "[72]\ttraining's auc: 0.916972\tvalid_1's auc: 0.8843\n",
      "\n",
      "Avg Accuracy Train Set: 83.4103817349156\n",
      "Avg Accuracy Test Set: 80.16391741881937\n",
      "\n",
      "Avg Recall: 78.01045036309988\n",
      "Avg Precision: 81.52969547769484\n",
      "32 30 0.5\n",
      "-\n",
      "Fold 1\n",
      "Training until validation scores don't improve for 25 rounds.\n"
     ]
    },
    {
     "name": "stderr",
     "output_type": "stream",
     "text": [
      "E:\\Anaconda\\envs\\ML\\lib\\site-packages\\lightgbm\\basic.py:742: UserWarning: categorical_feature in param dict is overridden.\n",
      "  warnings.warn('categorical_feature in param dict is overridden.')\n"
     ]
    },
    {
     "name": "stdout",
     "output_type": "stream",
     "text": [
      "Early stopping, best iteration is:\n",
      "[65]\ttraining's auc: 0.912338\tvalid_1's auc: 0.88174\n",
      "-\n",
      "Fold 2\n",
      "Training until validation scores don't improve for 25 rounds.\n"
     ]
    },
    {
     "name": "stderr",
     "output_type": "stream",
     "text": [
      "E:\\Anaconda\\envs\\ML\\lib\\site-packages\\lightgbm\\basic.py:742: UserWarning: categorical_feature in param dict is overridden.\n",
      "  warnings.warn('categorical_feature in param dict is overridden.')\n"
     ]
    },
    {
     "name": "stdout",
     "output_type": "stream",
     "text": [
      "Early stopping, best iteration is:\n",
      "[106]\ttraining's auc: 0.92414\tvalid_1's auc: 0.886858\n",
      "-\n",
      "Fold 3\n",
      "Training until validation scores don't improve for 25 rounds.\n"
     ]
    },
    {
     "name": "stderr",
     "output_type": "stream",
     "text": [
      "E:\\Anaconda\\envs\\ML\\lib\\site-packages\\lightgbm\\basic.py:742: UserWarning: categorical_feature in param dict is overridden.\n",
      "  warnings.warn('categorical_feature in param dict is overridden.')\n"
     ]
    },
    {
     "name": "stdout",
     "output_type": "stream",
     "text": [
      "Early stopping, best iteration is:\n",
      "[109]\ttraining's auc: 0.925795\tvalid_1's auc: 0.883411\n",
      "-\n",
      "Fold 4\n",
      "Training until validation scores don't improve for 25 rounds.\n"
     ]
    },
    {
     "name": "stderr",
     "output_type": "stream",
     "text": [
      "E:\\Anaconda\\envs\\ML\\lib\\site-packages\\lightgbm\\basic.py:742: UserWarning: categorical_feature in param dict is overridden.\n",
      "  warnings.warn('categorical_feature in param dict is overridden.')\n"
     ]
    },
    {
     "name": "stdout",
     "output_type": "stream",
     "text": [
      "Early stopping, best iteration is:\n",
      "[96]\ttraining's auc: 0.921375\tvalid_1's auc: 0.88979\n",
      "-\n",
      "Fold 5\n",
      "Training until validation scores don't improve for 25 rounds.\n"
     ]
    },
    {
     "name": "stderr",
     "output_type": "stream",
     "text": [
      "E:\\Anaconda\\envs\\ML\\lib\\site-packages\\lightgbm\\basic.py:742: UserWarning: categorical_feature in param dict is overridden.\n",
      "  warnings.warn('categorical_feature in param dict is overridden.')\n"
     ]
    },
    {
     "name": "stdout",
     "output_type": "stream",
     "text": [
      "Early stopping, best iteration is:\n",
      "[94]\ttraining's auc: 0.920709\tvalid_1's auc: 0.885227\n",
      "\n",
      "Avg Accuracy Train Set: 83.9750870705996\n",
      "Avg Accuracy Test Set: 80.26896633357835\n",
      "\n",
      "Avg Recall: 77.88441977043345\n",
      "Avg Precision: 81.78593953215362\n",
      "32 30 0.6000000000000001\n",
      "-\n",
      "Fold 1\n",
      "Training until validation scores don't improve for 25 rounds.\n"
     ]
    },
    {
     "name": "stderr",
     "output_type": "stream",
     "text": [
      "E:\\Anaconda\\envs\\ML\\lib\\site-packages\\lightgbm\\basic.py:742: UserWarning: categorical_feature in param dict is overridden.\n",
      "  warnings.warn('categorical_feature in param dict is overridden.')\n"
     ]
    },
    {
     "name": "stdout",
     "output_type": "stream",
     "text": [
      "Early stopping, best iteration is:\n",
      "[77]\ttraining's auc: 0.917333\tvalid_1's auc: 0.883128\n",
      "-\n",
      "Fold 2\n",
      "Training until validation scores don't improve for 25 rounds.\n"
     ]
    },
    {
     "name": "stderr",
     "output_type": "stream",
     "text": [
      "E:\\Anaconda\\envs\\ML\\lib\\site-packages\\lightgbm\\basic.py:742: UserWarning: categorical_feature in param dict is overridden.\n",
      "  warnings.warn('categorical_feature in param dict is overridden.')\n"
     ]
    },
    {
     "name": "stdout",
     "output_type": "stream",
     "text": [
      "Early stopping, best iteration is:\n",
      "[87]\ttraining's auc: 0.919505\tvalid_1's auc: 0.887605\n",
      "-\n",
      "Fold 3\n",
      "Training until validation scores don't improve for 25 rounds.\n"
     ]
    },
    {
     "name": "stderr",
     "output_type": "stream",
     "text": [
      "E:\\Anaconda\\envs\\ML\\lib\\site-packages\\lightgbm\\basic.py:742: UserWarning: categorical_feature in param dict is overridden.\n",
      "  warnings.warn('categorical_feature in param dict is overridden.')\n"
     ]
    },
    {
     "name": "stdout",
     "output_type": "stream",
     "text": [
      "Early stopping, best iteration is:\n",
      "[89]\ttraining's auc: 0.92096\tvalid_1's auc: 0.882518\n",
      "-\n",
      "Fold 4\n",
      "Training until validation scores don't improve for 25 rounds.\n"
     ]
    },
    {
     "name": "stderr",
     "output_type": "stream",
     "text": [
      "E:\\Anaconda\\envs\\ML\\lib\\site-packages\\lightgbm\\basic.py:742: UserWarning: categorical_feature in param dict is overridden.\n",
      "  warnings.warn('categorical_feature in param dict is overridden.')\n"
     ]
    },
    {
     "name": "stdout",
     "output_type": "stream",
     "text": [
      "Early stopping, best iteration is:\n",
      "[84]\ttraining's auc: 0.918787\tvalid_1's auc: 0.888419\n",
      "-\n",
      "Fold 5\n",
      "Training until validation scores don't improve for 25 rounds.\n"
     ]
    },
    {
     "name": "stderr",
     "output_type": "stream",
     "text": [
      "E:\\Anaconda\\envs\\ML\\lib\\site-packages\\lightgbm\\basic.py:742: UserWarning: categorical_feature in param dict is overridden.\n",
      "  warnings.warn('categorical_feature in param dict is overridden.')\n"
     ]
    },
    {
     "name": "stdout",
     "output_type": "stream",
     "text": [
      "Early stopping, best iteration is:\n",
      "[90]\ttraining's auc: 0.921033\tvalid_1's auc: 0.884949\n",
      "\n",
      "Avg Accuracy Train Set: 83.86083973964553\n",
      "Avg Accuracy Test Set: 80.25319209638151\n",
      "\n",
      "Avg Recall: 77.8637440618252\n",
      "Avg Precision: 81.77894668779422\n",
      "32 30 0.7000000000000001\n",
      "-\n",
      "Fold 1\n",
      "Training until validation scores don't improve for 25 rounds.\n"
     ]
    },
    {
     "name": "stderr",
     "output_type": "stream",
     "text": [
      "E:\\Anaconda\\envs\\ML\\lib\\site-packages\\lightgbm\\basic.py:742: UserWarning: categorical_feature in param dict is overridden.\n",
      "  warnings.warn('categorical_feature in param dict is overridden.')\n"
     ]
    },
    {
     "name": "stdout",
     "output_type": "stream",
     "text": [
      "Early stopping, best iteration is:\n",
      "[61]\ttraining's auc: 0.912333\tvalid_1's auc: 0.880767\n",
      "-\n",
      "Fold 2\n",
      "Training until validation scores don't improve for 25 rounds.\n"
     ]
    },
    {
     "name": "stderr",
     "output_type": "stream",
     "text": [
      "E:\\Anaconda\\envs\\ML\\lib\\site-packages\\lightgbm\\basic.py:742: UserWarning: categorical_feature in param dict is overridden.\n",
      "  warnings.warn('categorical_feature in param dict is overridden.')\n"
     ]
    },
    {
     "name": "stdout",
     "output_type": "stream",
     "text": [
      "Early stopping, best iteration is:\n",
      "[83]\ttraining's auc: 0.919518\tvalid_1's auc: 0.885822\n",
      "-\n",
      "Fold 3\n",
      "Training until validation scores don't improve for 25 rounds.\n"
     ]
    },
    {
     "name": "stderr",
     "output_type": "stream",
     "text": [
      "E:\\Anaconda\\envs\\ML\\lib\\site-packages\\lightgbm\\basic.py:742: UserWarning: categorical_feature in param dict is overridden.\n",
      "  warnings.warn('categorical_feature in param dict is overridden.')\n"
     ]
    },
    {
     "name": "stdout",
     "output_type": "stream",
     "text": [
      "Early stopping, best iteration is:\n",
      "[64]\ttraining's auc: 0.913494\tvalid_1's auc: 0.882169\n",
      "-\n",
      "Fold 4\n",
      "Training until validation scores don't improve for 25 rounds.\n"
     ]
    },
    {
     "name": "stderr",
     "output_type": "stream",
     "text": [
      "E:\\Anaconda\\envs\\ML\\lib\\site-packages\\lightgbm\\basic.py:742: UserWarning: categorical_feature in param dict is overridden.\n",
      "  warnings.warn('categorical_feature in param dict is overridden.')\n"
     ]
    },
    {
     "name": "stdout",
     "output_type": "stream",
     "text": [
      "Early stopping, best iteration is:\n",
      "[76]\ttraining's auc: 0.915807\tvalid_1's auc: 0.888187\n",
      "-\n",
      "Fold 5\n",
      "Training until validation scores don't improve for 25 rounds.\n"
     ]
    },
    {
     "name": "stderr",
     "output_type": "stream",
     "text": [
      "E:\\Anaconda\\envs\\ML\\lib\\site-packages\\lightgbm\\basic.py:742: UserWarning: categorical_feature in param dict is overridden.\n",
      "  warnings.warn('categorical_feature in param dict is overridden.')\n"
     ]
    },
    {
     "name": "stdout",
     "output_type": "stream",
     "text": [
      "Early stopping, best iteration is:\n",
      "[73]\ttraining's auc: 0.916133\tvalid_1's auc: 0.884853\n",
      "\n",
      "Avg Accuracy Train Set: 83.53251273617141\n",
      "Avg Accuracy Test Set: 80.19541898713781\n",
      "\n",
      "Avg Recall: 78.12768909845019\n",
      "Avg Precision: 81.50626135512906\n",
      "32 30 0.8\n",
      "-\n",
      "Fold 1\n",
      "Training until validation scores don't improve for 25 rounds.\n"
     ]
    },
    {
     "name": "stderr",
     "output_type": "stream",
     "text": [
      "E:\\Anaconda\\envs\\ML\\lib\\site-packages\\lightgbm\\basic.py:742: UserWarning: categorical_feature in param dict is overridden.\n",
      "  warnings.warn('categorical_feature in param dict is overridden.')\n"
     ]
    },
    {
     "name": "stdout",
     "output_type": "stream",
     "text": [
      "Early stopping, best iteration is:\n",
      "[84]\ttraining's auc: 0.92124\tvalid_1's auc: 0.880598\n",
      "-\n",
      "Fold 2\n",
      "Training until validation scores don't improve for 25 rounds.\n"
     ]
    },
    {
     "name": "stderr",
     "output_type": "stream",
     "text": [
      "E:\\Anaconda\\envs\\ML\\lib\\site-packages\\lightgbm\\basic.py:742: UserWarning: categorical_feature in param dict is overridden.\n",
      "  warnings.warn('categorical_feature in param dict is overridden.')\n"
     ]
    },
    {
     "name": "stdout",
     "output_type": "stream",
     "text": [
      "Early stopping, best iteration is:\n",
      "[78]\ttraining's auc: 0.917758\tvalid_1's auc: 0.886297\n",
      "-\n",
      "Fold 3\n",
      "Training until validation scores don't improve for 25 rounds.\n"
     ]
    },
    {
     "name": "stderr",
     "output_type": "stream",
     "text": [
      "E:\\Anaconda\\envs\\ML\\lib\\site-packages\\lightgbm\\basic.py:742: UserWarning: categorical_feature in param dict is overridden.\n",
      "  warnings.warn('categorical_feature in param dict is overridden.')\n"
     ]
    },
    {
     "name": "stdout",
     "output_type": "stream",
     "text": [
      "Early stopping, best iteration is:\n",
      "[113]\ttraining's auc: 0.93033\tvalid_1's auc: 0.882348\n",
      "-\n",
      "Fold 4\n",
      "Training until validation scores don't improve for 25 rounds.\n"
     ]
    },
    {
     "name": "stderr",
     "output_type": "stream",
     "text": [
      "E:\\Anaconda\\envs\\ML\\lib\\site-packages\\lightgbm\\basic.py:742: UserWarning: categorical_feature in param dict is overridden.\n",
      "  warnings.warn('categorical_feature in param dict is overridden.')\n"
     ]
    },
    {
     "name": "stdout",
     "output_type": "stream",
     "text": [
      "Early stopping, best iteration is:\n",
      "[89]\ttraining's auc: 0.921256\tvalid_1's auc: 0.888353\n",
      "-\n",
      "Fold 5\n",
      "Training until validation scores don't improve for 25 rounds.\n"
     ]
    },
    {
     "name": "stderr",
     "output_type": "stream",
     "text": [
      "E:\\Anaconda\\envs\\ML\\lib\\site-packages\\lightgbm\\basic.py:742: UserWarning: categorical_feature in param dict is overridden.\n",
      "  warnings.warn('categorical_feature in param dict is overridden.')\n"
     ]
    },
    {
     "name": "stdout",
     "output_type": "stream",
     "text": [
      "Early stopping, best iteration is:\n",
      "[77]\ttraining's auc: 0.917724\tvalid_1's auc: 0.884949\n",
      "\n",
      "Avg Accuracy Train Set: 84.16421469462537\n",
      "Avg Accuracy Test Set: 80.20068764306355\n",
      "\n",
      "Avg Recall: 78.0839380780338\n",
      "Avg Precision: 81.54068388368403\n",
      "32 30 0.9\n",
      "-\n",
      "Fold 1\n",
      "Training until validation scores don't improve for 25 rounds.\n"
     ]
    },
    {
     "name": "stderr",
     "output_type": "stream",
     "text": [
      "E:\\Anaconda\\envs\\ML\\lib\\site-packages\\lightgbm\\basic.py:742: UserWarning: categorical_feature in param dict is overridden.\n",
      "  warnings.warn('categorical_feature in param dict is overridden.')\n"
     ]
    },
    {
     "name": "stdout",
     "output_type": "stream",
     "text": [
      "Early stopping, best iteration is:\n",
      "[53]\ttraining's auc: 0.908774\tvalid_1's auc: 0.880699\n",
      "-\n",
      "Fold 2\n",
      "Training until validation scores don't improve for 25 rounds.\n"
     ]
    },
    {
     "name": "stderr",
     "output_type": "stream",
     "text": [
      "E:\\Anaconda\\envs\\ML\\lib\\site-packages\\lightgbm\\basic.py:742: UserWarning: categorical_feature in param dict is overridden.\n",
      "  warnings.warn('categorical_feature in param dict is overridden.')\n"
     ]
    },
    {
     "name": "stdout",
     "output_type": "stream",
     "text": [
      "Early stopping, best iteration is:\n",
      "[85]\ttraining's auc: 0.921433\tvalid_1's auc: 0.885818\n",
      "-\n",
      "Fold 3\n",
      "Training until validation scores don't improve for 25 rounds.\n"
     ]
    },
    {
     "name": "stderr",
     "output_type": "stream",
     "text": [
      "E:\\Anaconda\\envs\\ML\\lib\\site-packages\\lightgbm\\basic.py:742: UserWarning: categorical_feature in param dict is overridden.\n",
      "  warnings.warn('categorical_feature in param dict is overridden.')\n"
     ]
    },
    {
     "name": "stdout",
     "output_type": "stream",
     "text": [
      "Early stopping, best iteration is:\n",
      "[97]\ttraining's auc: 0.926467\tvalid_1's auc: 0.882038\n",
      "-\n",
      "Fold 4\n",
      "Training until validation scores don't improve for 25 rounds.\n"
     ]
    },
    {
     "name": "stderr",
     "output_type": "stream",
     "text": [
      "E:\\Anaconda\\envs\\ML\\lib\\site-packages\\lightgbm\\basic.py:742: UserWarning: categorical_feature in param dict is overridden.\n",
      "  warnings.warn('categorical_feature in param dict is overridden.')\n"
     ]
    },
    {
     "name": "stdout",
     "output_type": "stream",
     "text": [
      "Early stopping, best iteration is:\n",
      "[80]\ttraining's auc: 0.919268\tvalid_1's auc: 0.88893\n",
      "-\n",
      "Fold 5\n",
      "Training until validation scores don't improve for 25 rounds.\n"
     ]
    },
    {
     "name": "stderr",
     "output_type": "stream",
     "text": [
      "E:\\Anaconda\\envs\\ML\\lib\\site-packages\\lightgbm\\basic.py:742: UserWarning: categorical_feature in param dict is overridden.\n",
      "  warnings.warn('categorical_feature in param dict is overridden.')\n"
     ]
    },
    {
     "name": "stdout",
     "output_type": "stream",
     "text": [
      "Early stopping, best iteration is:\n",
      "[96]\ttraining's auc: 0.925085\tvalid_1's auc: 0.884029\n",
      "\n",
      "Avg Accuracy Train Set: 83.97114497672456\n",
      "Avg Accuracy Test Set: 80.33200533956688\n",
      "\n",
      "Avg Recall: 78.18917247773685\n",
      "Avg Precision: 81.6925886794374\n",
      "32 30 1.0\n",
      "-\n",
      "Fold 1\n",
      "Training until validation scores don't improve for 25 rounds.\n"
     ]
    },
    {
     "name": "stderr",
     "output_type": "stream",
     "text": [
      "E:\\Anaconda\\envs\\ML\\lib\\site-packages\\lightgbm\\basic.py:742: UserWarning: categorical_feature in param dict is overridden.\n",
      "  warnings.warn('categorical_feature in param dict is overridden.')\n"
     ]
    },
    {
     "name": "stdout",
     "output_type": "stream",
     "text": [
      "Early stopping, best iteration is:\n",
      "[80]\ttraining's auc: 0.920137\tvalid_1's auc: 0.879118\n",
      "-\n",
      "Fold 2\n",
      "Training until validation scores don't improve for 25 rounds.\n"
     ]
    },
    {
     "name": "stderr",
     "output_type": "stream",
     "text": [
      "E:\\Anaconda\\envs\\ML\\lib\\site-packages\\lightgbm\\basic.py:742: UserWarning: categorical_feature in param dict is overridden.\n",
      "  warnings.warn('categorical_feature in param dict is overridden.')\n"
     ]
    },
    {
     "name": "stdout",
     "output_type": "stream",
     "text": [
      "Early stopping, best iteration is:\n",
      "[75]\ttraining's auc: 0.917743\tvalid_1's auc: 0.885552\n",
      "-\n",
      "Fold 3\n",
      "Training until validation scores don't improve for 25 rounds.\n"
     ]
    },
    {
     "name": "stderr",
     "output_type": "stream",
     "text": [
      "E:\\Anaconda\\envs\\ML\\lib\\site-packages\\lightgbm\\basic.py:742: UserWarning: categorical_feature in param dict is overridden.\n",
      "  warnings.warn('categorical_feature in param dict is overridden.')\n"
     ]
    },
    {
     "name": "stdout",
     "output_type": "stream",
     "text": [
      "Early stopping, best iteration is:\n",
      "[89]\ttraining's auc: 0.9243\tvalid_1's auc: 0.882174\n",
      "-\n",
      "Fold 4\n",
      "Training until validation scores don't improve for 25 rounds.\n"
     ]
    },
    {
     "name": "stderr",
     "output_type": "stream",
     "text": [
      "E:\\Anaconda\\envs\\ML\\lib\\site-packages\\lightgbm\\basic.py:742: UserWarning: categorical_feature in param dict is overridden.\n",
      "  warnings.warn('categorical_feature in param dict is overridden.')\n"
     ]
    },
    {
     "name": "stdout",
     "output_type": "stream",
     "text": [
      "Early stopping, best iteration is:\n",
      "[66]\ttraining's auc: 0.913157\tvalid_1's auc: 0.889087\n",
      "-\n",
      "Fold 5\n",
      "Training until validation scores don't improve for 25 rounds.\n"
     ]
    },
    {
     "name": "stderr",
     "output_type": "stream",
     "text": [
      "E:\\Anaconda\\envs\\ML\\lib\\site-packages\\lightgbm\\basic.py:742: UserWarning: categorical_feature in param dict is overridden.\n",
      "  warnings.warn('categorical_feature in param dict is overridden.')\n"
     ]
    },
    {
     "name": "stdout",
     "output_type": "stream",
     "text": [
      "Early stopping, best iteration is:\n",
      "[58]\ttraining's auc: 0.910161\tvalid_1's auc: 0.884473\n",
      "\n",
      "Avg Accuracy Train Set: 83.53252118782748\n",
      "Avg Accuracy Test Set: 80.10614844834703\n",
      "\n",
      "Avg Recall: 78.0514302846038\n",
      "Avg Precision: 81.39879609111976\n",
      "32 35 0.5\n",
      "-\n",
      "Fold 1\n",
      "Training until validation scores don't improve for 25 rounds.\n"
     ]
    },
    {
     "name": "stderr",
     "output_type": "stream",
     "text": [
      "E:\\Anaconda\\envs\\ML\\lib\\site-packages\\lightgbm\\basic.py:742: UserWarning: categorical_feature in param dict is overridden.\n",
      "  warnings.warn('categorical_feature in param dict is overridden.')\n"
     ]
    },
    {
     "name": "stdout",
     "output_type": "stream",
     "text": [
      "Early stopping, best iteration is:\n",
      "[49]\ttraining's auc: 0.90559\tvalid_1's auc: 0.881074\n",
      "-\n",
      "Fold 2\n",
      "Training until validation scores don't improve for 25 rounds.\n"
     ]
    },
    {
     "name": "stderr",
     "output_type": "stream",
     "text": [
      "E:\\Anaconda\\envs\\ML\\lib\\site-packages\\lightgbm\\basic.py:742: UserWarning: categorical_feature in param dict is overridden.\n",
      "  warnings.warn('categorical_feature in param dict is overridden.')\n"
     ]
    },
    {
     "name": "stdout",
     "output_type": "stream",
     "text": [
      "Early stopping, best iteration is:\n",
      "[108]\ttraining's auc: 0.92427\tvalid_1's auc: 0.886387\n",
      "-\n",
      "Fold 3\n",
      "Training until validation scores don't improve for 25 rounds.\n"
     ]
    },
    {
     "name": "stderr",
     "output_type": "stream",
     "text": [
      "E:\\Anaconda\\envs\\ML\\lib\\site-packages\\lightgbm\\basic.py:742: UserWarning: categorical_feature in param dict is overridden.\n",
      "  warnings.warn('categorical_feature in param dict is overridden.')\n"
     ]
    },
    {
     "name": "stdout",
     "output_type": "stream",
     "text": [
      "Early stopping, best iteration is:\n",
      "[119]\ttraining's auc: 0.928026\tvalid_1's auc: 0.883488\n",
      "-\n",
      "Fold 4\n",
      "Training until validation scores don't improve for 25 rounds.\n"
     ]
    },
    {
     "name": "stderr",
     "output_type": "stream",
     "text": [
      "E:\\Anaconda\\envs\\ML\\lib\\site-packages\\lightgbm\\basic.py:742: UserWarning: categorical_feature in param dict is overridden.\n",
      "  warnings.warn('categorical_feature in param dict is overridden.')\n"
     ]
    },
    {
     "name": "stdout",
     "output_type": "stream",
     "text": [
      "Early stopping, best iteration is:\n",
      "[89]\ttraining's auc: 0.918523\tvalid_1's auc: 0.889224\n",
      "-\n",
      "Fold 5\n",
      "Training until validation scores don't improve for 25 rounds.\n"
     ]
    },
    {
     "name": "stderr",
     "output_type": "stream",
     "text": [
      "E:\\Anaconda\\envs\\ML\\lib\\site-packages\\lightgbm\\basic.py:742: UserWarning: categorical_feature in param dict is overridden.\n",
      "  warnings.warn('categorical_feature in param dict is overridden.')\n"
     ]
    },
    {
     "name": "stdout",
     "output_type": "stream",
     "text": [
      "Early stopping, best iteration is:\n",
      "[118]\ttraining's auc: 0.927321\tvalid_1's auc: 0.884573\n",
      "\n",
      "Avg Accuracy Train Set: 83.9658868392588\n",
      "Avg Accuracy Test Set: 80.21643428845138\n",
      "\n",
      "Avg Recall: 77.81916558806968\n",
      "Avg Precision: 81.73896335380854\n",
      "32 35 0.6000000000000001\n",
      "-\n",
      "Fold 1\n",
      "Training until validation scores don't improve for 25 rounds.\n"
     ]
    },
    {
     "name": "stderr",
     "output_type": "stream",
     "text": [
      "E:\\Anaconda\\envs\\ML\\lib\\site-packages\\lightgbm\\basic.py:742: UserWarning: categorical_feature in param dict is overridden.\n",
      "  warnings.warn('categorical_feature in param dict is overridden.')\n"
     ]
    },
    {
     "name": "stdout",
     "output_type": "stream",
     "text": [
      "Early stopping, best iteration is:\n",
      "[59]\ttraining's auc: 0.909886\tvalid_1's auc: 0.881689\n",
      "-\n",
      "Fold 2\n",
      "Training until validation scores don't improve for 25 rounds.\n"
     ]
    },
    {
     "name": "stderr",
     "output_type": "stream",
     "text": [
      "E:\\Anaconda\\envs\\ML\\lib\\site-packages\\lightgbm\\basic.py:742: UserWarning: categorical_feature in param dict is overridden.\n",
      "  warnings.warn('categorical_feature in param dict is overridden.')\n"
     ]
    },
    {
     "name": "stdout",
     "output_type": "stream",
     "text": [
      "Early stopping, best iteration is:\n",
      "[90]\ttraining's auc: 0.920745\tvalid_1's auc: 0.887307\n",
      "-\n",
      "Fold 3\n",
      "Training until validation scores don't improve for 25 rounds.\n"
     ]
    },
    {
     "name": "stderr",
     "output_type": "stream",
     "text": [
      "E:\\Anaconda\\envs\\ML\\lib\\site-packages\\lightgbm\\basic.py:742: UserWarning: categorical_feature in param dict is overridden.\n",
      "  warnings.warn('categorical_feature in param dict is overridden.')\n"
     ]
    },
    {
     "name": "stdout",
     "output_type": "stream",
     "text": [
      "Early stopping, best iteration is:\n",
      "[106]\ttraining's auc: 0.925844\tvalid_1's auc: 0.882635\n",
      "-\n",
      "Fold 4\n",
      "Training until validation scores don't improve for 25 rounds.\n"
     ]
    },
    {
     "name": "stderr",
     "output_type": "stream",
     "text": [
      "E:\\Anaconda\\envs\\ML\\lib\\site-packages\\lightgbm\\basic.py:742: UserWarning: categorical_feature in param dict is overridden.\n",
      "  warnings.warn('categorical_feature in param dict is overridden.')\n"
     ]
    },
    {
     "name": "stdout",
     "output_type": "stream",
     "text": [
      "Early stopping, best iteration is:\n",
      "[55]\ttraining's auc: 0.906715\tvalid_1's auc: 0.888899\n",
      "-\n",
      "Fold 5\n",
      "Training until validation scores don't improve for 25 rounds.\n"
     ]
    },
    {
     "name": "stderr",
     "output_type": "stream",
     "text": [
      "E:\\Anaconda\\envs\\ML\\lib\\site-packages\\lightgbm\\basic.py:742: UserWarning: categorical_feature in param dict is overridden.\n",
      "  warnings.warn('categorical_feature in param dict is overridden.')\n"
     ]
    },
    {
     "name": "stdout",
     "output_type": "stream",
     "text": [
      "Early stopping, best iteration is:\n",
      "[79]\ttraining's auc: 0.916729\tvalid_1's auc: 0.884856\n",
      "\n",
      "Avg Accuracy Train Set: 83.4235061219226\n",
      "Avg Accuracy Test Set: 80.36353312010384\n",
      "\n",
      "Avg Recall: 77.62115194889445\n",
      "Avg Precision: 82.12745853066761\n",
      "32 35 0.7000000000000001\n",
      "-\n",
      "Fold 1\n",
      "Training until validation scores don't improve for 25 rounds.\n"
     ]
    },
    {
     "name": "stderr",
     "output_type": "stream",
     "text": [
      "E:\\Anaconda\\envs\\ML\\lib\\site-packages\\lightgbm\\basic.py:742: UserWarning: categorical_feature in param dict is overridden.\n",
      "  warnings.warn('categorical_feature in param dict is overridden.')\n"
     ]
    },
    {
     "name": "stdout",
     "output_type": "stream",
     "text": [
      "Early stopping, best iteration is:\n",
      "[71]\ttraining's auc: 0.915842\tvalid_1's auc: 0.879749\n",
      "-\n",
      "Fold 2\n",
      "Training until validation scores don't improve for 25 rounds.\n"
     ]
    },
    {
     "name": "stderr",
     "output_type": "stream",
     "text": [
      "E:\\Anaconda\\envs\\ML\\lib\\site-packages\\lightgbm\\basic.py:742: UserWarning: categorical_feature in param dict is overridden.\n",
      "  warnings.warn('categorical_feature in param dict is overridden.')\n"
     ]
    },
    {
     "name": "stdout",
     "output_type": "stream",
     "text": [
      "Early stopping, best iteration is:\n",
      "[105]\ttraining's auc: 0.926142\tvalid_1's auc: 0.885611\n",
      "-\n",
      "Fold 3\n",
      "Training until validation scores don't improve for 25 rounds.\n"
     ]
    },
    {
     "name": "stderr",
     "output_type": "stream",
     "text": [
      "E:\\Anaconda\\envs\\ML\\lib\\site-packages\\lightgbm\\basic.py:742: UserWarning: categorical_feature in param dict is overridden.\n",
      "  warnings.warn('categorical_feature in param dict is overridden.')\n"
     ]
    },
    {
     "name": "stdout",
     "output_type": "stream",
     "text": [
      "Early stopping, best iteration is:\n",
      "[79]\ttraining's auc: 0.918899\tvalid_1's auc: 0.883764\n",
      "-\n",
      "Fold 4\n",
      "Training until validation scores don't improve for 25 rounds.\n"
     ]
    },
    {
     "name": "stderr",
     "output_type": "stream",
     "text": [
      "E:\\Anaconda\\envs\\ML\\lib\\site-packages\\lightgbm\\basic.py:742: UserWarning: categorical_feature in param dict is overridden.\n",
      "  warnings.warn('categorical_feature in param dict is overridden.')\n"
     ]
    },
    {
     "name": "stdout",
     "output_type": "stream",
     "text": [
      "Early stopping, best iteration is:\n",
      "[82]\ttraining's auc: 0.917763\tvalid_1's auc: 0.88787\n",
      "-\n",
      "Fold 5\n",
      "Training until validation scores don't improve for 25 rounds.\n"
     ]
    },
    {
     "name": "stderr",
     "output_type": "stream",
     "text": [
      "E:\\Anaconda\\envs\\ML\\lib\\site-packages\\lightgbm\\basic.py:742: UserWarning: categorical_feature in param dict is overridden.\n",
      "  warnings.warn('categorical_feature in param dict is overridden.')\n"
     ]
    },
    {
     "name": "stdout",
     "output_type": "stream",
     "text": [
      "Early stopping, best iteration is:\n",
      "[83]\ttraining's auc: 0.919334\tvalid_1's auc: 0.884203\n",
      "\n",
      "Avg Accuracy Train Set: 83.89235510278137\n",
      "Avg Accuracy Test Set: 79.874981513488\n",
      "\n",
      "Avg Recall: 77.91694596873867\n",
      "Avg Precision: 81.09862978461327\n",
      "32 35 0.8\n",
      "-\n",
      "Fold 1\n",
      "Training until validation scores don't improve for 25 rounds.\n"
     ]
    },
    {
     "name": "stderr",
     "output_type": "stream",
     "text": [
      "E:\\Anaconda\\envs\\ML\\lib\\site-packages\\lightgbm\\basic.py:742: UserWarning: categorical_feature in param dict is overridden.\n",
      "  warnings.warn('categorical_feature in param dict is overridden.')\n"
     ]
    },
    {
     "name": "stdout",
     "output_type": "stream",
     "text": [
      "Early stopping, best iteration is:\n",
      "[59]\ttraining's auc: 0.910659\tvalid_1's auc: 0.879589\n",
      "-\n",
      "Fold 2\n",
      "Training until validation scores don't improve for 25 rounds.\n"
     ]
    },
    {
     "name": "stderr",
     "output_type": "stream",
     "text": [
      "E:\\Anaconda\\envs\\ML\\lib\\site-packages\\lightgbm\\basic.py:742: UserWarning: categorical_feature in param dict is overridden.\n",
      "  warnings.warn('categorical_feature in param dict is overridden.')\n"
     ]
    },
    {
     "name": "stdout",
     "output_type": "stream",
     "text": [
      "Early stopping, best iteration is:\n",
      "[73]\ttraining's auc: 0.915755\tvalid_1's auc: 0.885195\n",
      "-\n",
      "Fold 3\n",
      "Training until validation scores don't improve for 25 rounds.\n"
     ]
    },
    {
     "name": "stderr",
     "output_type": "stream",
     "text": [
      "E:\\Anaconda\\envs\\ML\\lib\\site-packages\\lightgbm\\basic.py:742: UserWarning: categorical_feature in param dict is overridden.\n",
      "  warnings.warn('categorical_feature in param dict is overridden.')\n"
     ]
    },
    {
     "name": "stdout",
     "output_type": "stream",
     "text": [
      "Early stopping, best iteration is:\n",
      "[73]\ttraining's auc: 0.917349\tvalid_1's auc: 0.882515\n",
      "-\n",
      "Fold 4\n",
      "Training until validation scores don't improve for 25 rounds.\n"
     ]
    },
    {
     "name": "stderr",
     "output_type": "stream",
     "text": [
      "E:\\Anaconda\\envs\\ML\\lib\\site-packages\\lightgbm\\basic.py:742: UserWarning: categorical_feature in param dict is overridden.\n",
      "  warnings.warn('categorical_feature in param dict is overridden.')\n"
     ]
    },
    {
     "name": "stdout",
     "output_type": "stream",
     "text": [
      "Early stopping, best iteration is:\n",
      "[76]\ttraining's auc: 0.916429\tvalid_1's auc: 0.888182\n",
      "-\n",
      "Fold 5\n",
      "Training until validation scores don't improve for 25 rounds.\n"
     ]
    },
    {
     "name": "stderr",
     "output_type": "stream",
     "text": [
      "E:\\Anaconda\\envs\\ML\\lib\\site-packages\\lightgbm\\basic.py:742: UserWarning: categorical_feature in param dict is overridden.\n",
      "  warnings.warn('categorical_feature in param dict is overridden.')\n"
     ]
    },
    {
     "name": "stdout",
     "output_type": "stream",
     "text": [
      "Early stopping, best iteration is:\n",
      "[71]\ttraining's auc: 0.915347\tvalid_1's auc: 0.884046\n",
      "\n",
      "Avg Accuracy Train Set: 83.41300019595768\n",
      "Avg Accuracy Test Set: 80.12190199168712\n",
      "\n",
      "Avg Recall: 77.83133218623104\n",
      "Avg Precision: 81.5685642842386\n",
      "32 35 0.9\n",
      "-\n",
      "Fold 1\n",
      "Training until validation scores don't improve for 25 rounds.\n"
     ]
    },
    {
     "name": "stderr",
     "output_type": "stream",
     "text": [
      "E:\\Anaconda\\envs\\ML\\lib\\site-packages\\lightgbm\\basic.py:742: UserWarning: categorical_feature in param dict is overridden.\n",
      "  warnings.warn('categorical_feature in param dict is overridden.')\n"
     ]
    },
    {
     "name": "stdout",
     "output_type": "stream",
     "text": [
      "Early stopping, best iteration is:\n",
      "[63]\ttraining's auc: 0.912851\tvalid_1's auc: 0.879873\n",
      "-\n",
      "Fold 2\n",
      "Training until validation scores don't improve for 25 rounds.\n"
     ]
    },
    {
     "name": "stderr",
     "output_type": "stream",
     "text": [
      "E:\\Anaconda\\envs\\ML\\lib\\site-packages\\lightgbm\\basic.py:742: UserWarning: categorical_feature in param dict is overridden.\n",
      "  warnings.warn('categorical_feature in param dict is overridden.')\n"
     ]
    },
    {
     "name": "stdout",
     "output_type": "stream",
     "text": [
      "Early stopping, best iteration is:\n",
      "[80]\ttraining's auc: 0.918354\tvalid_1's auc: 0.884788\n",
      "-\n",
      "Fold 3\n",
      "Training until validation scores don't improve for 25 rounds.\n"
     ]
    },
    {
     "name": "stderr",
     "output_type": "stream",
     "text": [
      "E:\\Anaconda\\envs\\ML\\lib\\site-packages\\lightgbm\\basic.py:742: UserWarning: categorical_feature in param dict is overridden.\n",
      "  warnings.warn('categorical_feature in param dict is overridden.')\n"
     ]
    },
    {
     "name": "stdout",
     "output_type": "stream",
     "text": [
      "Early stopping, best iteration is:\n",
      "[85]\ttraining's auc: 0.921379\tvalid_1's auc: 0.882894\n",
      "-\n",
      "Fold 4\n",
      "Training until validation scores don't improve for 25 rounds.\n"
     ]
    },
    {
     "name": "stderr",
     "output_type": "stream",
     "text": [
      "E:\\Anaconda\\envs\\ML\\lib\\site-packages\\lightgbm\\basic.py:742: UserWarning: categorical_feature in param dict is overridden.\n",
      "  warnings.warn('categorical_feature in param dict is overridden.')\n"
     ]
    },
    {
     "name": "stdout",
     "output_type": "stream",
     "text": [
      "Early stopping, best iteration is:\n",
      "[80]\ttraining's auc: 0.918248\tvalid_1's auc: 0.889149\n",
      "-\n",
      "Fold 5\n",
      "Training until validation scores don't improve for 25 rounds.\n"
     ]
    },
    {
     "name": "stderr",
     "output_type": "stream",
     "text": [
      "E:\\Anaconda\\envs\\ML\\lib\\site-packages\\lightgbm\\basic.py:742: UserWarning: categorical_feature in param dict is overridden.\n",
      "  warnings.warn('categorical_feature in param dict is overridden.')\n"
     ]
    },
    {
     "name": "stdout",
     "output_type": "stream",
     "text": [
      "Early stopping, best iteration is:\n",
      "[63]\ttraining's auc: 0.911912\tvalid_1's auc: 0.883671\n",
      "\n",
      "Avg Accuracy Train Set: 83.61919024752021\n",
      "Avg Accuracy Test Set: 80.30052032633384\n",
      "\n",
      "Avg Recall: 78.27201821909723\n",
      "Avg Precision: 81.58293611635271\n",
      "32 35 1.0\n",
      "-\n",
      "Fold 1\n",
      "Training until validation scores don't improve for 25 rounds.\n"
     ]
    },
    {
     "name": "stderr",
     "output_type": "stream",
     "text": [
      "E:\\Anaconda\\envs\\ML\\lib\\site-packages\\lightgbm\\basic.py:742: UserWarning: categorical_feature in param dict is overridden.\n",
      "  warnings.warn('categorical_feature in param dict is overridden.')\n"
     ]
    },
    {
     "name": "stdout",
     "output_type": "stream",
     "text": [
      "Early stopping, best iteration is:\n",
      "[60]\ttraining's auc: 0.912018\tvalid_1's auc: 0.880475\n",
      "-\n",
      "Fold 2\n",
      "Training until validation scores don't improve for 25 rounds.\n"
     ]
    },
    {
     "name": "stderr",
     "output_type": "stream",
     "text": [
      "E:\\Anaconda\\envs\\ML\\lib\\site-packages\\lightgbm\\basic.py:742: UserWarning: categorical_feature in param dict is overridden.\n",
      "  warnings.warn('categorical_feature in param dict is overridden.')\n"
     ]
    },
    {
     "name": "stdout",
     "output_type": "stream",
     "text": [
      "Early stopping, best iteration is:\n",
      "[89]\ttraining's auc: 0.923017\tvalid_1's auc: 0.886646\n",
      "-\n",
      "Fold 3\n",
      "Training until validation scores don't improve for 25 rounds.\n"
     ]
    },
    {
     "name": "stderr",
     "output_type": "stream",
     "text": [
      "E:\\Anaconda\\envs\\ML\\lib\\site-packages\\lightgbm\\basic.py:742: UserWarning: categorical_feature in param dict is overridden.\n",
      "  warnings.warn('categorical_feature in param dict is overridden.')\n"
     ]
    },
    {
     "name": "stdout",
     "output_type": "stream",
     "text": [
      "Early stopping, best iteration is:\n",
      "[82]\ttraining's auc: 0.920966\tvalid_1's auc: 0.882285\n",
      "-\n",
      "Fold 4\n",
      "Training until validation scores don't improve for 25 rounds.\n"
     ]
    },
    {
     "name": "stderr",
     "output_type": "stream",
     "text": [
      "E:\\Anaconda\\envs\\ML\\lib\\site-packages\\lightgbm\\basic.py:742: UserWarning: categorical_feature in param dict is overridden.\n",
      "  warnings.warn('categorical_feature in param dict is overridden.')\n"
     ]
    },
    {
     "name": "stdout",
     "output_type": "stream",
     "text": [
      "Early stopping, best iteration is:\n",
      "[92]\ttraining's auc: 0.92309\tvalid_1's auc: 0.888437\n",
      "-\n",
      "Fold 5\n",
      "Training until validation scores don't improve for 25 rounds.\n"
     ]
    },
    {
     "name": "stderr",
     "output_type": "stream",
     "text": [
      "E:\\Anaconda\\envs\\ML\\lib\\site-packages\\lightgbm\\basic.py:742: UserWarning: categorical_feature in param dict is overridden.\n",
      "  warnings.warn('categorical_feature in param dict is overridden.')\n"
     ]
    },
    {
     "name": "stdout",
     "output_type": "stream",
     "text": [
      "Early stopping, best iteration is:\n",
      "[100]\ttraining's auc: 0.926654\tvalid_1's auc: 0.884591\n",
      "\n",
      "Avg Accuracy Train Set: 84.04600431313882\n",
      "Avg Accuracy Test Set: 80.1166416133041\n",
      "\n",
      "Avg Recall: 78.1049515713907\n",
      "Avg Precision: 81.38619531851596\n",
      "32 40 0.5\n",
      "-\n",
      "Fold 1\n",
      "Training until validation scores don't improve for 25 rounds.\n"
     ]
    },
    {
     "name": "stderr",
     "output_type": "stream",
     "text": [
      "E:\\Anaconda\\envs\\ML\\lib\\site-packages\\lightgbm\\basic.py:742: UserWarning: categorical_feature in param dict is overridden.\n",
      "  warnings.warn('categorical_feature in param dict is overridden.')\n"
     ]
    },
    {
     "name": "stdout",
     "output_type": "stream",
     "text": [
      "Early stopping, best iteration is:\n",
      "[80]\ttraining's auc: 0.916864\tvalid_1's auc: 0.881749\n",
      "-\n",
      "Fold 2\n",
      "Training until validation scores don't improve for 25 rounds.\n"
     ]
    },
    {
     "name": "stderr",
     "output_type": "stream",
     "text": [
      "E:\\Anaconda\\envs\\ML\\lib\\site-packages\\lightgbm\\basic.py:742: UserWarning: categorical_feature in param dict is overridden.\n",
      "  warnings.warn('categorical_feature in param dict is overridden.')\n"
     ]
    },
    {
     "name": "stdout",
     "output_type": "stream",
     "text": [
      "Early stopping, best iteration is:\n",
      "[89]\ttraining's auc: 0.918343\tvalid_1's auc: 0.886691\n",
      "-\n",
      "Fold 3\n",
      "Training until validation scores don't improve for 25 rounds.\n"
     ]
    },
    {
     "name": "stderr",
     "output_type": "stream",
     "text": [
      "E:\\Anaconda\\envs\\ML\\lib\\site-packages\\lightgbm\\basic.py:742: UserWarning: categorical_feature in param dict is overridden.\n",
      "  warnings.warn('categorical_feature in param dict is overridden.')\n"
     ]
    },
    {
     "name": "stdout",
     "output_type": "stream",
     "text": [
      "Early stopping, best iteration is:\n",
      "[123]\ttraining's auc: 0.927952\tvalid_1's auc: 0.883384\n",
      "-\n",
      "Fold 4\n",
      "Training until validation scores don't improve for 25 rounds.\n"
     ]
    },
    {
     "name": "stderr",
     "output_type": "stream",
     "text": [
      "E:\\Anaconda\\envs\\ML\\lib\\site-packages\\lightgbm\\basic.py:742: UserWarning: categorical_feature in param dict is overridden.\n",
      "  warnings.warn('categorical_feature in param dict is overridden.')\n"
     ]
    },
    {
     "name": "stdout",
     "output_type": "stream",
     "text": [
      "Early stopping, best iteration is:\n",
      "[100]\ttraining's auc: 0.920812\tvalid_1's auc: 0.889835\n",
      "-\n",
      "Fold 5\n",
      "Training until validation scores don't improve for 25 rounds.\n"
     ]
    },
    {
     "name": "stderr",
     "output_type": "stream",
     "text": [
      "E:\\Anaconda\\envs\\ML\\lib\\site-packages\\lightgbm\\basic.py:742: UserWarning: categorical_feature in param dict is overridden.\n",
      "  warnings.warn('categorical_feature in param dict is overridden.')\n"
     ]
    },
    {
     "name": "stdout",
     "output_type": "stream",
     "text": [
      "Early stopping, best iteration is:\n",
      "[89]\ttraining's auc: 0.918643\tvalid_1's auc: 0.88513\n",
      "\n",
      "Avg Accuracy Train Set: 83.86083749736943\n",
      "Avg Accuracy Test Set: 80.18492996095208\n",
      "\n",
      "Avg Recall: 77.7136856387128\n",
      "Avg Precision: 81.75440520596378\n",
      "32 40 0.6000000000000001\n",
      "-\n",
      "Fold 1\n",
      "Training until validation scores don't improve for 25 rounds.\n"
     ]
    },
    {
     "name": "stderr",
     "output_type": "stream",
     "text": [
      "E:\\Anaconda\\envs\\ML\\lib\\site-packages\\lightgbm\\basic.py:742: UserWarning: categorical_feature in param dict is overridden.\n",
      "  warnings.warn('categorical_feature in param dict is overridden.')\n"
     ]
    },
    {
     "name": "stdout",
     "output_type": "stream",
     "text": [
      "Early stopping, best iteration is:\n",
      "[50]\ttraining's auc: 0.905792\tvalid_1's auc: 0.881836\n",
      "-\n",
      "Fold 2\n",
      "Training until validation scores don't improve for 25 rounds.\n"
     ]
    },
    {
     "name": "stderr",
     "output_type": "stream",
     "text": [
      "E:\\Anaconda\\envs\\ML\\lib\\site-packages\\lightgbm\\basic.py:742: UserWarning: categorical_feature in param dict is overridden.\n",
      "  warnings.warn('categorical_feature in param dict is overridden.')\n"
     ]
    },
    {
     "name": "stdout",
     "output_type": "stream",
     "text": [
      "Early stopping, best iteration is:\n",
      "[82]\ttraining's auc: 0.916784\tvalid_1's auc: 0.88672\n",
      "-\n",
      "Fold 3\n",
      "Training until validation scores don't improve for 25 rounds.\n"
     ]
    },
    {
     "name": "stderr",
     "output_type": "stream",
     "text": [
      "E:\\Anaconda\\envs\\ML\\lib\\site-packages\\lightgbm\\basic.py:742: UserWarning: categorical_feature in param dict is overridden.\n",
      "  warnings.warn('categorical_feature in param dict is overridden.')\n"
     ]
    },
    {
     "name": "stdout",
     "output_type": "stream",
     "text": [
      "Early stopping, best iteration is:\n",
      "[95]\ttraining's auc: 0.922368\tvalid_1's auc: 0.882904\n",
      "-\n",
      "Fold 4\n",
      "Training until validation scores don't improve for 25 rounds.\n"
     ]
    },
    {
     "name": "stderr",
     "output_type": "stream",
     "text": [
      "E:\\Anaconda\\envs\\ML\\lib\\site-packages\\lightgbm\\basic.py:742: UserWarning: categorical_feature in param dict is overridden.\n",
      "  warnings.warn('categorical_feature in param dict is overridden.')\n"
     ]
    },
    {
     "name": "stdout",
     "output_type": "stream",
     "text": [
      "Early stopping, best iteration is:\n",
      "[81]\ttraining's auc: 0.916449\tvalid_1's auc: 0.890374\n",
      "-\n",
      "Fold 5\n",
      "Training until validation scores don't improve for 25 rounds.\n"
     ]
    },
    {
     "name": "stderr",
     "output_type": "stream",
     "text": [
      "E:\\Anaconda\\envs\\ML\\lib\\site-packages\\lightgbm\\basic.py:742: UserWarning: categorical_feature in param dict is overridden.\n",
      "  warnings.warn('categorical_feature in param dict is overridden.')\n"
     ]
    },
    {
     "name": "stdout",
     "output_type": "stream",
     "text": [
      "Early stopping, best iteration is:\n",
      "[126]\ttraining's auc: 0.930682\tvalid_1's auc: 0.884834\n",
      "\n",
      "Avg Accuracy Train Set: 83.73343671606038\n",
      "Avg Accuracy Test Set: 80.2899774961206\n",
      "\n",
      "Avg Recall: 77.92526414918501\n",
      "Avg Precision: 81.79504482315905\n",
      "32 40 0.7000000000000001\n",
      "-\n",
      "Fold 1\n",
      "Training until validation scores don't improve for 25 rounds.\n"
     ]
    },
    {
     "name": "stderr",
     "output_type": "stream",
     "text": [
      "E:\\Anaconda\\envs\\ML\\lib\\site-packages\\lightgbm\\basic.py:742: UserWarning: categorical_feature in param dict is overridden.\n",
      "  warnings.warn('categorical_feature in param dict is overridden.')\n"
     ]
    },
    {
     "name": "stdout",
     "output_type": "stream",
     "text": [
      "Early stopping, best iteration is:\n",
      "[63]\ttraining's auc: 0.91217\tvalid_1's auc: 0.880479\n",
      "-\n",
      "Fold 2\n",
      "Training until validation scores don't improve for 25 rounds.\n"
     ]
    },
    {
     "name": "stderr",
     "output_type": "stream",
     "text": [
      "E:\\Anaconda\\envs\\ML\\lib\\site-packages\\lightgbm\\basic.py:742: UserWarning: categorical_feature in param dict is overridden.\n",
      "  warnings.warn('categorical_feature in param dict is overridden.')\n"
     ]
    },
    {
     "name": "stdout",
     "output_type": "stream",
     "text": [
      "Early stopping, best iteration is:\n",
      "[79]\ttraining's auc: 0.91736\tvalid_1's auc: 0.886447\n",
      "-\n",
      "Fold 3\n",
      "Training until validation scores don't improve for 25 rounds.\n"
     ]
    },
    {
     "name": "stderr",
     "output_type": "stream",
     "text": [
      "E:\\Anaconda\\envs\\ML\\lib\\site-packages\\lightgbm\\basic.py:742: UserWarning: categorical_feature in param dict is overridden.\n",
      "  warnings.warn('categorical_feature in param dict is overridden.')\n"
     ]
    },
    {
     "name": "stdout",
     "output_type": "stream",
     "text": [
      "Early stopping, best iteration is:\n",
      "[63]\ttraining's auc: 0.911512\tvalid_1's auc: 0.882855\n",
      "-\n",
      "Fold 4\n",
      "Training until validation scores don't improve for 25 rounds.\n"
     ]
    },
    {
     "name": "stderr",
     "output_type": "stream",
     "text": [
      "E:\\Anaconda\\envs\\ML\\lib\\site-packages\\lightgbm\\basic.py:742: UserWarning: categorical_feature in param dict is overridden.\n",
      "  warnings.warn('categorical_feature in param dict is overridden.')\n"
     ]
    },
    {
     "name": "stdout",
     "output_type": "stream",
     "text": [
      "Early stopping, best iteration is:\n",
      "[54]\ttraining's auc: 0.906445\tvalid_1's auc: 0.888684\n",
      "-\n",
      "Fold 5\n",
      "Training until validation scores don't improve for 25 rounds.\n"
     ]
    },
    {
     "name": "stderr",
     "output_type": "stream",
     "text": [
      "E:\\Anaconda\\envs\\ML\\lib\\site-packages\\lightgbm\\basic.py:742: UserWarning: categorical_feature in param dict is overridden.\n",
      "  warnings.warn('categorical_feature in param dict is overridden.')\n"
     ]
    },
    {
     "name": "stdout",
     "output_type": "stream",
     "text": [
      "Early stopping, best iteration is:\n",
      "[91]\ttraining's auc: 0.921282\tvalid_1's auc: 0.883996\n",
      "\n",
      "Avg Accuracy Train Set: 83.28824159207261\n",
      "Avg Accuracy Test Set: 80.19542312590916\n",
      "\n",
      "Avg Recall: 77.9052690391929\n",
      "Avg Precision: 81.64759747919656\n",
      "32 40 0.8\n",
      "-\n",
      "Fold 1\n",
      "Training until validation scores don't improve for 25 rounds.\n"
     ]
    },
    {
     "name": "stderr",
     "output_type": "stream",
     "text": [
      "E:\\Anaconda\\envs\\ML\\lib\\site-packages\\lightgbm\\basic.py:742: UserWarning: categorical_feature in param dict is overridden.\n",
      "  warnings.warn('categorical_feature in param dict is overridden.')\n"
     ]
    },
    {
     "name": "stdout",
     "output_type": "stream",
     "text": [
      "Early stopping, best iteration is:\n",
      "[62]\ttraining's auc: 0.911645\tvalid_1's auc: 0.880917\n",
      "-\n",
      "Fold 2\n",
      "Training until validation scores don't improve for 25 rounds.\n"
     ]
    },
    {
     "name": "stderr",
     "output_type": "stream",
     "text": [
      "E:\\Anaconda\\envs\\ML\\lib\\site-packages\\lightgbm\\basic.py:742: UserWarning: categorical_feature in param dict is overridden.\n",
      "  warnings.warn('categorical_feature in param dict is overridden.')\n"
     ]
    },
    {
     "name": "stdout",
     "output_type": "stream",
     "text": [
      "Early stopping, best iteration is:\n",
      "[87]\ttraining's auc: 0.919808\tvalid_1's auc: 0.884609\n",
      "-\n",
      "Fold 3\n",
      "Training until validation scores don't improve for 25 rounds.\n"
     ]
    },
    {
     "name": "stderr",
     "output_type": "stream",
     "text": [
      "E:\\Anaconda\\envs\\ML\\lib\\site-packages\\lightgbm\\basic.py:742: UserWarning: categorical_feature in param dict is overridden.\n",
      "  warnings.warn('categorical_feature in param dict is overridden.')\n"
     ]
    },
    {
     "name": "stdout",
     "output_type": "stream",
     "text": [
      "Early stopping, best iteration is:\n",
      "[71]\ttraining's auc: 0.915164\tvalid_1's auc: 0.8833\n",
      "-\n",
      "Fold 4\n",
      "Training until validation scores don't improve for 25 rounds.\n"
     ]
    },
    {
     "name": "stderr",
     "output_type": "stream",
     "text": [
      "E:\\Anaconda\\envs\\ML\\lib\\site-packages\\lightgbm\\basic.py:742: UserWarning: categorical_feature in param dict is overridden.\n",
      "  warnings.warn('categorical_feature in param dict is overridden.')\n"
     ]
    },
    {
     "name": "stdout",
     "output_type": "stream",
     "text": [
      "Early stopping, best iteration is:\n",
      "[63]\ttraining's auc: 0.91097\tvalid_1's auc: 0.88868\n",
      "-\n",
      "Fold 5\n",
      "Training until validation scores don't improve for 25 rounds.\n"
     ]
    },
    {
     "name": "stderr",
     "output_type": "stream",
     "text": [
      "E:\\Anaconda\\envs\\ML\\lib\\site-packages\\lightgbm\\basic.py:742: UserWarning: categorical_feature in param dict is overridden.\n",
      "  warnings.warn('categorical_feature in param dict is overridden.')\n"
     ]
    },
    {
     "name": "stdout",
     "output_type": "stream",
     "text": [
      "Early stopping, best iteration is:\n",
      "[79]\ttraining's auc: 0.918114\tvalid_1's auc: 0.884611\n",
      "\n",
      "Avg Accuracy Train Set: 83.468161309274\n",
      "Avg Accuracy Test Set: 80.2164480843559\n",
      "\n",
      "Avg Recall: 77.87270379358051\n",
      "Avg Precision: 81.7038355466445\n",
      "32 40 0.9\n",
      "-\n",
      "Fold 1\n",
      "Training until validation scores don't improve for 25 rounds.\n"
     ]
    },
    {
     "name": "stderr",
     "output_type": "stream",
     "text": [
      "E:\\Anaconda\\envs\\ML\\lib\\site-packages\\lightgbm\\basic.py:742: UserWarning: categorical_feature in param dict is overridden.\n",
      "  warnings.warn('categorical_feature in param dict is overridden.')\n"
     ]
    },
    {
     "name": "stdout",
     "output_type": "stream",
     "text": [
      "Early stopping, best iteration is:\n",
      "[70]\ttraining's auc: 0.915545\tvalid_1's auc: 0.878688\n",
      "-\n",
      "Fold 2\n",
      "Training until validation scores don't improve for 25 rounds.\n"
     ]
    },
    {
     "name": "stderr",
     "output_type": "stream",
     "text": [
      "E:\\Anaconda\\envs\\ML\\lib\\site-packages\\lightgbm\\basic.py:742: UserWarning: categorical_feature in param dict is overridden.\n",
      "  warnings.warn('categorical_feature in param dict is overridden.')\n"
     ]
    },
    {
     "name": "stdout",
     "output_type": "stream",
     "text": [
      "Early stopping, best iteration is:\n",
      "[63]\ttraining's auc: 0.911614\tvalid_1's auc: 0.885493\n",
      "-\n",
      "Fold 3\n",
      "Training until validation scores don't improve for 25 rounds.\n"
     ]
    },
    {
     "name": "stderr",
     "output_type": "stream",
     "text": [
      "E:\\Anaconda\\envs\\ML\\lib\\site-packages\\lightgbm\\basic.py:742: UserWarning: categorical_feature in param dict is overridden.\n",
      "  warnings.warn('categorical_feature in param dict is overridden.')\n"
     ]
    },
    {
     "name": "stdout",
     "output_type": "stream",
     "text": [
      "Early stopping, best iteration is:\n",
      "[82]\ttraining's auc: 0.920069\tvalid_1's auc: 0.883117\n",
      "-\n",
      "Fold 4\n",
      "Training until validation scores don't improve for 25 rounds.\n"
     ]
    },
    {
     "name": "stderr",
     "output_type": "stream",
     "text": [
      "E:\\Anaconda\\envs\\ML\\lib\\site-packages\\lightgbm\\basic.py:742: UserWarning: categorical_feature in param dict is overridden.\n",
      "  warnings.warn('categorical_feature in param dict is overridden.')\n"
     ]
    },
    {
     "name": "stdout",
     "output_type": "stream",
     "text": [
      "Early stopping, best iteration is:\n",
      "[94]\ttraining's auc: 0.922652\tvalid_1's auc: 0.887875\n",
      "-\n",
      "Fold 5\n",
      "Training until validation scores don't improve for 25 rounds.\n"
     ]
    },
    {
     "name": "stderr",
     "output_type": "stream",
     "text": [
      "E:\\Anaconda\\envs\\ML\\lib\\site-packages\\lightgbm\\basic.py:742: UserWarning: categorical_feature in param dict is overridden.\n",
      "  warnings.warn('categorical_feature in param dict is overridden.')\n"
     ]
    },
    {
     "name": "stdout",
     "output_type": "stream",
     "text": [
      "Early stopping, best iteration is:\n",
      "[99]\ttraining's auc: 0.925624\tvalid_1's auc: 0.884917\n",
      "\n",
      "Avg Accuracy Train Set: 83.86609080531743\n",
      "Avg Accuracy Test Set: 80.17442437968096\n",
      "\n",
      "Avg Recall: 78.10578954842661\n",
      "Avg Precision: 81.48155107238452\n",
      "32 40 1.0\n",
      "-\n",
      "Fold 1\n",
      "Training until validation scores don't improve for 25 rounds.\n"
     ]
    },
    {
     "name": "stderr",
     "output_type": "stream",
     "text": [
      "E:\\Anaconda\\envs\\ML\\lib\\site-packages\\lightgbm\\basic.py:742: UserWarning: categorical_feature in param dict is overridden.\n",
      "  warnings.warn('categorical_feature in param dict is overridden.')\n"
     ]
    },
    {
     "name": "stdout",
     "output_type": "stream",
     "text": [
      "Early stopping, best iteration is:\n",
      "[70]\ttraining's auc: 0.916099\tvalid_1's auc: 0.880911\n",
      "-\n",
      "Fold 2\n",
      "Training until validation scores don't improve for 25 rounds.\n"
     ]
    },
    {
     "name": "stderr",
     "output_type": "stream",
     "text": [
      "E:\\Anaconda\\envs\\ML\\lib\\site-packages\\lightgbm\\basic.py:742: UserWarning: categorical_feature in param dict is overridden.\n",
      "  warnings.warn('categorical_feature in param dict is overridden.')\n"
     ]
    },
    {
     "name": "stdout",
     "output_type": "stream",
     "text": [
      "Early stopping, best iteration is:\n",
      "[80]\ttraining's auc: 0.919171\tvalid_1's auc: 0.884628\n",
      "-\n",
      "Fold 3\n",
      "Training until validation scores don't improve for 25 rounds.\n"
     ]
    },
    {
     "name": "stderr",
     "output_type": "stream",
     "text": [
      "E:\\Anaconda\\envs\\ML\\lib\\site-packages\\lightgbm\\basic.py:742: UserWarning: categorical_feature in param dict is overridden.\n",
      "  warnings.warn('categorical_feature in param dict is overridden.')\n"
     ]
    },
    {
     "name": "stdout",
     "output_type": "stream",
     "text": [
      "Early stopping, best iteration is:\n",
      "[81]\ttraining's auc: 0.920175\tvalid_1's auc: 0.882371\n",
      "-\n",
      "Fold 4\n",
      "Training until validation scores don't improve for 25 rounds.\n"
     ]
    },
    {
     "name": "stderr",
     "output_type": "stream",
     "text": [
      "E:\\Anaconda\\envs\\ML\\lib\\site-packages\\lightgbm\\basic.py:742: UserWarning: categorical_feature in param dict is overridden.\n",
      "  warnings.warn('categorical_feature in param dict is overridden.')\n"
     ]
    },
    {
     "name": "stdout",
     "output_type": "stream",
     "text": [
      "Early stopping, best iteration is:\n",
      "[67]\ttraining's auc: 0.913385\tvalid_1's auc: 0.888642\n",
      "-\n",
      "Fold 5\n",
      "Training until validation scores don't improve for 25 rounds.\n"
     ]
    },
    {
     "name": "stderr",
     "output_type": "stream",
     "text": [
      "E:\\Anaconda\\envs\\ML\\lib\\site-packages\\lightgbm\\basic.py:742: UserWarning: categorical_feature in param dict is overridden.\n",
      "  warnings.warn('categorical_feature in param dict is overridden.')\n"
     ]
    },
    {
     "name": "stdout",
     "output_type": "stream",
     "text": [
      "Early stopping, best iteration is:\n",
      "[83]\ttraining's auc: 0.920069\tvalid_1's auc: 0.884424\n",
      "\n",
      "Avg Accuracy Train Set: 83.71375022179129\n",
      "Avg Accuracy Test Set: 80.15866807715994\n",
      "\n",
      "Avg Recall: 78.25167031220238\n",
      "Avg Precision: 81.35764327505753\n",
      "32 45 0.5\n",
      "-\n",
      "Fold 1\n",
      "Training until validation scores don't improve for 25 rounds.\n"
     ]
    },
    {
     "name": "stderr",
     "output_type": "stream",
     "text": [
      "E:\\Anaconda\\envs\\ML\\lib\\site-packages\\lightgbm\\basic.py:742: UserWarning: categorical_feature in param dict is overridden.\n",
      "  warnings.warn('categorical_feature in param dict is overridden.')\n"
     ]
    },
    {
     "name": "stdout",
     "output_type": "stream",
     "text": [
      "Early stopping, best iteration is:\n",
      "[53]\ttraining's auc: 0.906581\tvalid_1's auc: 0.881481\n",
      "-\n",
      "Fold 2\n",
      "Training until validation scores don't improve for 25 rounds.\n"
     ]
    },
    {
     "name": "stderr",
     "output_type": "stream",
     "text": [
      "E:\\Anaconda\\envs\\ML\\lib\\site-packages\\lightgbm\\basic.py:742: UserWarning: categorical_feature in param dict is overridden.\n",
      "  warnings.warn('categorical_feature in param dict is overridden.')\n"
     ]
    },
    {
     "name": "stdout",
     "output_type": "stream",
     "text": [
      "Early stopping, best iteration is:\n",
      "[81]\ttraining's auc: 0.915489\tvalid_1's auc: 0.887128\n",
      "-\n",
      "Fold 3\n",
      "Training until validation scores don't improve for 25 rounds.\n"
     ]
    },
    {
     "name": "stderr",
     "output_type": "stream",
     "text": [
      "E:\\Anaconda\\envs\\ML\\lib\\site-packages\\lightgbm\\basic.py:742: UserWarning: categorical_feature in param dict is overridden.\n",
      "  warnings.warn('categorical_feature in param dict is overridden.')\n"
     ]
    },
    {
     "name": "stdout",
     "output_type": "stream",
     "text": [
      "Early stopping, best iteration is:\n",
      "[91]\ttraining's auc: 0.91957\tvalid_1's auc: 0.883947\n",
      "-\n",
      "Fold 4\n",
      "Training until validation scores don't improve for 25 rounds.\n"
     ]
    },
    {
     "name": "stderr",
     "output_type": "stream",
     "text": [
      "E:\\Anaconda\\envs\\ML\\lib\\site-packages\\lightgbm\\basic.py:742: UserWarning: categorical_feature in param dict is overridden.\n",
      "  warnings.warn('categorical_feature in param dict is overridden.')\n"
     ]
    },
    {
     "name": "stdout",
     "output_type": "stream",
     "text": [
      "Early stopping, best iteration is:\n",
      "[87]\ttraining's auc: 0.916644\tvalid_1's auc: 0.890146\n",
      "-\n",
      "Fold 5\n",
      "Training until validation scores don't improve for 25 rounds.\n"
     ]
    },
    {
     "name": "stderr",
     "output_type": "stream",
     "text": [
      "E:\\Anaconda\\envs\\ML\\lib\\site-packages\\lightgbm\\basic.py:742: UserWarning: categorical_feature in param dict is overridden.\n",
      "  warnings.warn('categorical_feature in param dict is overridden.')\n"
     ]
    },
    {
     "name": "stdout",
     "output_type": "stream",
     "text": [
      "Early stopping, best iteration is:\n",
      "[81]\ttraining's auc: 0.915606\tvalid_1's auc: 0.88373\n",
      "\n",
      "Avg Accuracy Train Set: 83.27772678324467\n",
      "Avg Accuracy Test Set: 80.395055382279\n",
      "\n",
      "Avg Recall: 78.01923097427324\n",
      "Avg Precision: 81.9100148985613\n",
      "32 45 0.6000000000000001\n",
      "-\n",
      "Fold 1\n",
      "Training until validation scores don't improve for 25 rounds.\n"
     ]
    },
    {
     "name": "stderr",
     "output_type": "stream",
     "text": [
      "E:\\Anaconda\\envs\\ML\\lib\\site-packages\\lightgbm\\basic.py:742: UserWarning: categorical_feature in param dict is overridden.\n",
      "  warnings.warn('categorical_feature in param dict is overridden.')\n"
     ]
    },
    {
     "name": "stdout",
     "output_type": "stream",
     "text": [
      "Early stopping, best iteration is:\n",
      "[53]\ttraining's auc: 0.906989\tvalid_1's auc: 0.881874\n",
      "-\n",
      "Fold 2\n",
      "Training until validation scores don't improve for 25 rounds.\n"
     ]
    },
    {
     "name": "stderr",
     "output_type": "stream",
     "text": [
      "E:\\Anaconda\\envs\\ML\\lib\\site-packages\\lightgbm\\basic.py:742: UserWarning: categorical_feature in param dict is overridden.\n",
      "  warnings.warn('categorical_feature in param dict is overridden.')\n"
     ]
    },
    {
     "name": "stdout",
     "output_type": "stream",
     "text": [
      "Early stopping, best iteration is:\n",
      "[90]\ttraining's auc: 0.919584\tvalid_1's auc: 0.886829\n",
      "-\n",
      "Fold 3\n",
      "Training until validation scores don't improve for 25 rounds.\n"
     ]
    },
    {
     "name": "stderr",
     "output_type": "stream",
     "text": [
      "E:\\Anaconda\\envs\\ML\\lib\\site-packages\\lightgbm\\basic.py:742: UserWarning: categorical_feature in param dict is overridden.\n",
      "  warnings.warn('categorical_feature in param dict is overridden.')\n"
     ]
    },
    {
     "name": "stdout",
     "output_type": "stream",
     "text": [
      "Early stopping, best iteration is:\n",
      "[91]\ttraining's auc: 0.91991\tvalid_1's auc: 0.883159\n",
      "-\n",
      "Fold 4\n",
      "Training until validation scores don't improve for 25 rounds.\n"
     ]
    },
    {
     "name": "stderr",
     "output_type": "stream",
     "text": [
      "E:\\Anaconda\\envs\\ML\\lib\\site-packages\\lightgbm\\basic.py:742: UserWarning: categorical_feature in param dict is overridden.\n",
      "  warnings.warn('categorical_feature in param dict is overridden.')\n"
     ]
    },
    {
     "name": "stdout",
     "output_type": "stream",
     "text": [
      "Early stopping, best iteration is:\n",
      "[67]\ttraining's auc: 0.910926\tvalid_1's auc: 0.889572\n",
      "-\n",
      "Fold 5\n",
      "Training until validation scores don't improve for 25 rounds.\n"
     ]
    },
    {
     "name": "stderr",
     "output_type": "stream",
     "text": [
      "E:\\Anaconda\\envs\\ML\\lib\\site-packages\\lightgbm\\basic.py:742: UserWarning: categorical_feature in param dict is overridden.\n",
      "  warnings.warn('categorical_feature in param dict is overridden.')\n"
     ]
    },
    {
     "name": "stdout",
     "output_type": "stream",
     "text": [
      "Early stopping, best iteration is:\n",
      "[78]\ttraining's auc: 0.916208\tvalid_1's auc: 0.884238\n",
      "\n",
      "Avg Accuracy Train Set: 83.35521130752932\n",
      "Avg Accuracy Test Set: 80.24795517103611\n",
      "\n",
      "Avg Recall: 77.71536753963647\n",
      "Avg Precision: 81.86241333530634\n",
      "32 45 0.7000000000000001\n",
      "-\n",
      "Fold 1\n",
      "Training until validation scores don't improve for 25 rounds.\n"
     ]
    },
    {
     "name": "stderr",
     "output_type": "stream",
     "text": [
      "E:\\Anaconda\\envs\\ML\\lib\\site-packages\\lightgbm\\basic.py:742: UserWarning: categorical_feature in param dict is overridden.\n",
      "  warnings.warn('categorical_feature in param dict is overridden.')\n"
     ]
    },
    {
     "name": "stdout",
     "output_type": "stream",
     "text": [
      "Early stopping, best iteration is:\n",
      "[55]\ttraining's auc: 0.908207\tvalid_1's auc: 0.880251\n",
      "-\n",
      "Fold 2\n",
      "Training until validation scores don't improve for 25 rounds.\n"
     ]
    },
    {
     "name": "stderr",
     "output_type": "stream",
     "text": [
      "E:\\Anaconda\\envs\\ML\\lib\\site-packages\\lightgbm\\basic.py:742: UserWarning: categorical_feature in param dict is overridden.\n",
      "  warnings.warn('categorical_feature in param dict is overridden.')\n"
     ]
    },
    {
     "name": "stdout",
     "output_type": "stream",
     "text": [
      "Early stopping, best iteration is:\n",
      "[86]\ttraining's auc: 0.919202\tvalid_1's auc: 0.884879\n",
      "-\n",
      "Fold 3\n",
      "Training until validation scores don't improve for 25 rounds.\n"
     ]
    },
    {
     "name": "stderr",
     "output_type": "stream",
     "text": [
      "E:\\Anaconda\\envs\\ML\\lib\\site-packages\\lightgbm\\basic.py:742: UserWarning: categorical_feature in param dict is overridden.\n",
      "  warnings.warn('categorical_feature in param dict is overridden.')\n"
     ]
    },
    {
     "name": "stdout",
     "output_type": "stream",
     "text": [
      "Early stopping, best iteration is:\n",
      "[103]\ttraining's auc: 0.925624\tvalid_1's auc: 0.883684\n",
      "-\n",
      "Fold 4\n",
      "Training until validation scores don't improve for 25 rounds.\n"
     ]
    },
    {
     "name": "stderr",
     "output_type": "stream",
     "text": [
      "E:\\Anaconda\\envs\\ML\\lib\\site-packages\\lightgbm\\basic.py:742: UserWarning: categorical_feature in param dict is overridden.\n",
      "  warnings.warn('categorical_feature in param dict is overridden.')\n"
     ]
    },
    {
     "name": "stdout",
     "output_type": "stream",
     "text": [
      "Early stopping, best iteration is:\n",
      "[82]\ttraining's auc: 0.916646\tvalid_1's auc: 0.888919\n",
      "-\n",
      "Fold 5\n",
      "Training until validation scores don't improve for 25 rounds.\n"
     ]
    },
    {
     "name": "stderr",
     "output_type": "stream",
     "text": [
      "E:\\Anaconda\\envs\\ML\\lib\\site-packages\\lightgbm\\basic.py:742: UserWarning: categorical_feature in param dict is overridden.\n",
      "  warnings.warn('categorical_feature in param dict is overridden.')\n"
     ]
    },
    {
     "name": "stdout",
     "output_type": "stream",
     "text": [
      "Early stopping, best iteration is:\n",
      "[68]\ttraining's auc: 0.912619\tvalid_1's auc: 0.883629\n",
      "\n",
      "Avg Accuracy Train Set: 83.52462561621414\n",
      "Avg Accuracy Test Set: 80.2794926087062\n",
      "\n",
      "Avg Recall: 78.27298102397525\n",
      "Avg Precision: 81.5466390249366\n",
      "32 45 0.8\n",
      "-\n",
      "Fold 1\n",
      "Training until validation scores don't improve for 25 rounds.\n"
     ]
    },
    {
     "name": "stderr",
     "output_type": "stream",
     "text": [
      "E:\\Anaconda\\envs\\ML\\lib\\site-packages\\lightgbm\\basic.py:742: UserWarning: categorical_feature in param dict is overridden.\n",
      "  warnings.warn('categorical_feature in param dict is overridden.')\n"
     ]
    },
    {
     "name": "stdout",
     "output_type": "stream",
     "text": [
      "Early stopping, best iteration is:\n",
      "[84]\ttraining's auc: 0.920025\tvalid_1's auc: 0.880808\n",
      "-\n",
      "Fold 2\n",
      "Training until validation scores don't improve for 25 rounds.\n"
     ]
    },
    {
     "name": "stderr",
     "output_type": "stream",
     "text": [
      "E:\\Anaconda\\envs\\ML\\lib\\site-packages\\lightgbm\\basic.py:742: UserWarning: categorical_feature in param dict is overridden.\n",
      "  warnings.warn('categorical_feature in param dict is overridden.')\n"
     ]
    },
    {
     "name": "stdout",
     "output_type": "stream",
     "text": [
      "Early stopping, best iteration is:\n",
      "[84]\ttraining's auc: 0.919137\tvalid_1's auc: 0.885876\n",
      "-\n",
      "Fold 3\n",
      "Training until validation scores don't improve for 25 rounds.\n"
     ]
    },
    {
     "name": "stderr",
     "output_type": "stream",
     "text": [
      "E:\\Anaconda\\envs\\ML\\lib\\site-packages\\lightgbm\\basic.py:742: UserWarning: categorical_feature in param dict is overridden.\n",
      "  warnings.warn('categorical_feature in param dict is overridden.')\n"
     ]
    },
    {
     "name": "stdout",
     "output_type": "stream",
     "text": [
      "Early stopping, best iteration is:\n",
      "[64]\ttraining's auc: 0.912116\tvalid_1's auc: 0.881692\n",
      "-\n",
      "Fold 4\n",
      "Training until validation scores don't improve for 25 rounds.\n"
     ]
    },
    {
     "name": "stderr",
     "output_type": "stream",
     "text": [
      "E:\\Anaconda\\envs\\ML\\lib\\site-packages\\lightgbm\\basic.py:742: UserWarning: categorical_feature in param dict is overridden.\n",
      "  warnings.warn('categorical_feature in param dict is overridden.')\n"
     ]
    },
    {
     "name": "stdout",
     "output_type": "stream",
     "text": [
      "Early stopping, best iteration is:\n",
      "[95]\ttraining's auc: 0.922279\tvalid_1's auc: 0.888207\n",
      "-\n",
      "Fold 5\n",
      "Training until validation scores don't improve for 25 rounds.\n"
     ]
    },
    {
     "name": "stderr",
     "output_type": "stream",
     "text": [
      "E:\\Anaconda\\envs\\ML\\lib\\site-packages\\lightgbm\\basic.py:742: UserWarning: categorical_feature in param dict is overridden.\n",
      "  warnings.warn('categorical_feature in param dict is overridden.')\n"
     ]
    },
    {
     "name": "stdout",
     "output_type": "stream",
     "text": [
      "Early stopping, best iteration is:\n",
      "[102]\ttraining's auc: 0.925228\tvalid_1's auc: 0.885115\n",
      "\n",
      "Avg Accuracy Train Set: 83.96459433956716\n",
      "Avg Accuracy Test Set: 80.28474746872745\n",
      "\n",
      "Avg Recall: 78.08331361297891\n",
      "Avg Precision: 81.6799415129226\n",
      "32 45 0.9\n",
      "-\n",
      "Fold 1\n",
      "Training until validation scores don't improve for 25 rounds.\n"
     ]
    },
    {
     "name": "stderr",
     "output_type": "stream",
     "text": [
      "E:\\Anaconda\\envs\\ML\\lib\\site-packages\\lightgbm\\basic.py:742: UserWarning: categorical_feature in param dict is overridden.\n",
      "  warnings.warn('categorical_feature in param dict is overridden.')\n"
     ]
    },
    {
     "name": "stdout",
     "output_type": "stream",
     "text": [
      "Early stopping, best iteration is:\n",
      "[65]\ttraining's auc: 0.913572\tvalid_1's auc: 0.87968\n",
      "-\n",
      "Fold 2\n",
      "Training until validation scores don't improve for 25 rounds.\n"
     ]
    },
    {
     "name": "stderr",
     "output_type": "stream",
     "text": [
      "E:\\Anaconda\\envs\\ML\\lib\\site-packages\\lightgbm\\basic.py:742: UserWarning: categorical_feature in param dict is overridden.\n",
      "  warnings.warn('categorical_feature in param dict is overridden.')\n"
     ]
    },
    {
     "name": "stdout",
     "output_type": "stream",
     "text": [
      "Early stopping, best iteration is:\n",
      "[67]\ttraining's auc: 0.912288\tvalid_1's auc: 0.885306\n",
      "-\n",
      "Fold 3\n",
      "Training until validation scores don't improve for 25 rounds.\n"
     ]
    },
    {
     "name": "stderr",
     "output_type": "stream",
     "text": [
      "E:\\Anaconda\\envs\\ML\\lib\\site-packages\\lightgbm\\basic.py:742: UserWarning: categorical_feature in param dict is overridden.\n",
      "  warnings.warn('categorical_feature in param dict is overridden.')\n"
     ]
    },
    {
     "name": "stdout",
     "output_type": "stream",
     "text": [
      "Early stopping, best iteration is:\n",
      "[85]\ttraining's auc: 0.920942\tvalid_1's auc: 0.882172\n",
      "-\n",
      "Fold 4\n",
      "Training until validation scores don't improve for 25 rounds.\n"
     ]
    },
    {
     "name": "stderr",
     "output_type": "stream",
     "text": [
      "E:\\Anaconda\\envs\\ML\\lib\\site-packages\\lightgbm\\basic.py:742: UserWarning: categorical_feature in param dict is overridden.\n",
      "  warnings.warn('categorical_feature in param dict is overridden.')\n"
     ]
    },
    {
     "name": "stdout",
     "output_type": "stream",
     "text": [
      "Early stopping, best iteration is:\n",
      "[84]\ttraining's auc: 0.918735\tvalid_1's auc: 0.888798\n",
      "-\n",
      "Fold 5\n",
      "Training until validation scores don't improve for 25 rounds.\n"
     ]
    },
    {
     "name": "stderr",
     "output_type": "stream",
     "text": [
      "E:\\Anaconda\\envs\\ML\\lib\\site-packages\\lightgbm\\basic.py:742: UserWarning: categorical_feature in param dict is overridden.\n",
      "  warnings.warn('categorical_feature in param dict is overridden.')\n"
     ]
    },
    {
     "name": "stdout",
     "output_type": "stream",
     "text": [
      "Early stopping, best iteration is:\n",
      "[77]\ttraining's auc: 0.917419\tvalid_1's auc: 0.884363\n",
      "\n",
      "Avg Accuracy Train Set: 83.59555251778889\n",
      "Avg Accuracy Test Set: 80.17969993355892\n",
      "\n",
      "Avg Recall: 78.07408777867397\n",
      "Avg Precision: 81.50888079988016\n",
      "32 45 1.0\n",
      "-\n",
      "Fold 1\n",
      "Training until validation scores don't improve for 25 rounds.\n"
     ]
    },
    {
     "name": "stderr",
     "output_type": "stream",
     "text": [
      "E:\\Anaconda\\envs\\ML\\lib\\site-packages\\lightgbm\\basic.py:742: UserWarning: categorical_feature in param dict is overridden.\n",
      "  warnings.warn('categorical_feature in param dict is overridden.')\n"
     ]
    },
    {
     "name": "stdout",
     "output_type": "stream",
     "text": [
      "Early stopping, best iteration is:\n",
      "[62]\ttraining's auc: 0.912303\tvalid_1's auc: 0.879489\n",
      "-\n",
      "Fold 2\n",
      "Training until validation scores don't improve for 25 rounds.\n"
     ]
    },
    {
     "name": "stderr",
     "output_type": "stream",
     "text": [
      "E:\\Anaconda\\envs\\ML\\lib\\site-packages\\lightgbm\\basic.py:742: UserWarning: categorical_feature in param dict is overridden.\n",
      "  warnings.warn('categorical_feature in param dict is overridden.')\n"
     ]
    },
    {
     "name": "stdout",
     "output_type": "stream",
     "text": [
      "Early stopping, best iteration is:\n",
      "[81]\ttraining's auc: 0.918874\tvalid_1's auc: 0.88563\n",
      "-\n",
      "Fold 3\n",
      "Training until validation scores don't improve for 25 rounds.\n"
     ]
    },
    {
     "name": "stderr",
     "output_type": "stream",
     "text": [
      "E:\\Anaconda\\envs\\ML\\lib\\site-packages\\lightgbm\\basic.py:742: UserWarning: categorical_feature in param dict is overridden.\n",
      "  warnings.warn('categorical_feature in param dict is overridden.')\n"
     ]
    },
    {
     "name": "stdout",
     "output_type": "stream",
     "text": [
      "Early stopping, best iteration is:\n",
      "[79]\ttraining's auc: 0.918745\tvalid_1's auc: 0.881691\n",
      "-\n",
      "Fold 4\n",
      "Training until validation scores don't improve for 25 rounds.\n"
     ]
    },
    {
     "name": "stderr",
     "output_type": "stream",
     "text": [
      "E:\\Anaconda\\envs\\ML\\lib\\site-packages\\lightgbm\\basic.py:742: UserWarning: categorical_feature in param dict is overridden.\n",
      "  warnings.warn('categorical_feature in param dict is overridden.')\n"
     ]
    },
    {
     "name": "stdout",
     "output_type": "stream",
     "text": [
      "Early stopping, best iteration is:\n",
      "[62]\ttraining's auc: 0.91083\tvalid_1's auc: 0.888184\n",
      "-\n",
      "Fold 5\n",
      "Training until validation scores don't improve for 25 rounds.\n"
     ]
    },
    {
     "name": "stderr",
     "output_type": "stream",
     "text": [
      "E:\\Anaconda\\envs\\ML\\lib\\site-packages\\lightgbm\\basic.py:742: UserWarning: categorical_feature in param dict is overridden.\n",
      "  warnings.warn('categorical_feature in param dict is overridden.')\n"
     ]
    },
    {
     "name": "stdout",
     "output_type": "stream",
     "text": [
      "Early stopping, best iteration is:\n",
      "[99]\ttraining's auc: 0.925274\tvalid_1's auc: 0.884168\n",
      "\n",
      "Avg Accuracy Train Set: 83.6809120882364\n",
      "Avg Accuracy Test Set: 80.11138537369243\n",
      "\n",
      "Avg Recall: 78.08443872658913\n",
      "Avg Precision: 81.39251930741116\n",
      "32 50 0.5\n",
      "-\n",
      "Fold 1\n",
      "Training until validation scores don't improve for 25 rounds.\n"
     ]
    },
    {
     "name": "stderr",
     "output_type": "stream",
     "text": [
      "E:\\Anaconda\\envs\\ML\\lib\\site-packages\\lightgbm\\basic.py:742: UserWarning: categorical_feature in param dict is overridden.\n",
      "  warnings.warn('categorical_feature in param dict is overridden.')\n"
     ]
    },
    {
     "name": "stdout",
     "output_type": "stream",
     "text": [
      "Early stopping, best iteration is:\n",
      "[50]\ttraining's auc: 0.904595\tvalid_1's auc: 0.882093\n",
      "-\n",
      "Fold 2\n",
      "Training until validation scores don't improve for 25 rounds.\n"
     ]
    },
    {
     "name": "stderr",
     "output_type": "stream",
     "text": [
      "E:\\Anaconda\\envs\\ML\\lib\\site-packages\\lightgbm\\basic.py:742: UserWarning: categorical_feature in param dict is overridden.\n",
      "  warnings.warn('categorical_feature in param dict is overridden.')\n"
     ]
    },
    {
     "name": "stdout",
     "output_type": "stream",
     "text": [
      "Early stopping, best iteration is:\n",
      "[81]\ttraining's auc: 0.915334\tvalid_1's auc: 0.886175\n",
      "-\n",
      "Fold 3\n",
      "Training until validation scores don't improve for 25 rounds.\n"
     ]
    },
    {
     "name": "stderr",
     "output_type": "stream",
     "text": [
      "E:\\Anaconda\\envs\\ML\\lib\\site-packages\\lightgbm\\basic.py:742: UserWarning: categorical_feature in param dict is overridden.\n",
      "  warnings.warn('categorical_feature in param dict is overridden.')\n"
     ]
    },
    {
     "name": "stdout",
     "output_type": "stream",
     "text": [
      "Early stopping, best iteration is:\n",
      "[81]\ttraining's auc: 0.916202\tvalid_1's auc: 0.883251\n",
      "-\n",
      "Fold 4\n",
      "Training until validation scores don't improve for 25 rounds.\n"
     ]
    },
    {
     "name": "stderr",
     "output_type": "stream",
     "text": [
      "E:\\Anaconda\\envs\\ML\\lib\\site-packages\\lightgbm\\basic.py:742: UserWarning: categorical_feature in param dict is overridden.\n",
      "  warnings.warn('categorical_feature in param dict is overridden.')\n"
     ]
    },
    {
     "name": "stdout",
     "output_type": "stream",
     "text": [
      "Early stopping, best iteration is:\n",
      "[87]\ttraining's auc: 0.916953\tvalid_1's auc: 0.889733\n",
      "-\n",
      "Fold 5\n",
      "Training until validation scores don't improve for 25 rounds.\n"
     ]
    },
    {
     "name": "stderr",
     "output_type": "stream",
     "text": [
      "E:\\Anaconda\\envs\\ML\\lib\\site-packages\\lightgbm\\basic.py:742: UserWarning: categorical_feature in param dict is overridden.\n",
      "  warnings.warn('categorical_feature in param dict is overridden.')\n"
     ]
    },
    {
     "name": "stdout",
     "output_type": "stream",
     "text": [
      "Early stopping, best iteration is:\n",
      "[78]\ttraining's auc: 0.914089\tvalid_1's auc: 0.883515\n",
      "\n",
      "Avg Accuracy Train Set: 83.10437020820206\n",
      "Avg Accuracy Test Set: 80.14289108078219\n",
      "\n",
      "Avg Recall: 77.89376740372049\n",
      "Avg Precision: 81.56854785812483\n",
      "32 50 0.6000000000000001\n",
      "-\n",
      "Fold 1\n",
      "Training until validation scores don't improve for 25 rounds.\n"
     ]
    },
    {
     "name": "stderr",
     "output_type": "stream",
     "text": [
      "E:\\Anaconda\\envs\\ML\\lib\\site-packages\\lightgbm\\basic.py:742: UserWarning: categorical_feature in param dict is overridden.\n",
      "  warnings.warn('categorical_feature in param dict is overridden.')\n"
     ]
    },
    {
     "name": "stdout",
     "output_type": "stream",
     "text": [
      "Early stopping, best iteration is:\n",
      "[66]\ttraining's auc: 0.911947\tvalid_1's auc: 0.881967\n",
      "-\n",
      "Fold 2\n",
      "Training until validation scores don't improve for 25 rounds.\n"
     ]
    },
    {
     "name": "stderr",
     "output_type": "stream",
     "text": [
      "E:\\Anaconda\\envs\\ML\\lib\\site-packages\\lightgbm\\basic.py:742: UserWarning: categorical_feature in param dict is overridden.\n",
      "  warnings.warn('categorical_feature in param dict is overridden.')\n"
     ]
    },
    {
     "name": "stdout",
     "output_type": "stream",
     "text": [
      "Early stopping, best iteration is:\n",
      "[75]\ttraining's auc: 0.914233\tvalid_1's auc: 0.88725\n",
      "-\n",
      "Fold 3\n",
      "Training until validation scores don't improve for 25 rounds.\n"
     ]
    },
    {
     "name": "stderr",
     "output_type": "stream",
     "text": [
      "E:\\Anaconda\\envs\\ML\\lib\\site-packages\\lightgbm\\basic.py:742: UserWarning: categorical_feature in param dict is overridden.\n",
      "  warnings.warn('categorical_feature in param dict is overridden.')\n"
     ]
    },
    {
     "name": "stdout",
     "output_type": "stream",
     "text": [
      "Early stopping, best iteration is:\n",
      "[107]\ttraining's auc: 0.925007\tvalid_1's auc: 0.883127\n",
      "-\n",
      "Fold 4\n",
      "Training until validation scores don't improve for 25 rounds.\n"
     ]
    },
    {
     "name": "stderr",
     "output_type": "stream",
     "text": [
      "E:\\Anaconda\\envs\\ML\\lib\\site-packages\\lightgbm\\basic.py:742: UserWarning: categorical_feature in param dict is overridden.\n",
      "  warnings.warn('categorical_feature in param dict is overridden.')\n"
     ]
    },
    {
     "name": "stdout",
     "output_type": "stream",
     "text": [
      "Early stopping, best iteration is:\n",
      "[89]\ttraining's auc: 0.918957\tvalid_1's auc: 0.890038\n",
      "-\n",
      "Fold 5\n",
      "Training until validation scores don't improve for 25 rounds.\n"
     ]
    },
    {
     "name": "stderr",
     "output_type": "stream",
     "text": [
      "E:\\Anaconda\\envs\\ML\\lib\\site-packages\\lightgbm\\basic.py:742: UserWarning: categorical_feature in param dict is overridden.\n",
      "  warnings.warn('categorical_feature in param dict is overridden.')\n"
     ]
    },
    {
     "name": "stdout",
     "output_type": "stream",
     "text": [
      "Early stopping, best iteration is:\n",
      "[93]\ttraining's auc: 0.920543\tvalid_1's auc: 0.884101\n",
      "\n",
      "Avg Accuracy Train Set: 83.72162293943666\n",
      "Avg Accuracy Test Set: 80.37929494098664\n",
      "\n",
      "Avg Recall: 78.14682577091753\n",
      "Avg Precision: 81.80388120949293\n",
      "32 50 0.7000000000000001\n",
      "-\n",
      "Fold 1\n",
      "Training until validation scores don't improve for 25 rounds.\n"
     ]
    },
    {
     "name": "stderr",
     "output_type": "stream",
     "text": [
      "E:\\Anaconda\\envs\\ML\\lib\\site-packages\\lightgbm\\basic.py:742: UserWarning: categorical_feature in param dict is overridden.\n",
      "  warnings.warn('categorical_feature in param dict is overridden.')\n"
     ]
    },
    {
     "name": "stdout",
     "output_type": "stream",
     "text": [
      "Early stopping, best iteration is:\n",
      "[68]\ttraining's auc: 0.912718\tvalid_1's auc: 0.881281\n",
      "-\n",
      "Fold 2\n",
      "Training until validation scores don't improve for 25 rounds.\n"
     ]
    },
    {
     "name": "stderr",
     "output_type": "stream",
     "text": [
      "E:\\Anaconda\\envs\\ML\\lib\\site-packages\\lightgbm\\basic.py:742: UserWarning: categorical_feature in param dict is overridden.\n",
      "  warnings.warn('categorical_feature in param dict is overridden.')\n"
     ]
    },
    {
     "name": "stdout",
     "output_type": "stream",
     "text": [
      "Early stopping, best iteration is:\n",
      "[84]\ttraining's auc: 0.918595\tvalid_1's auc: 0.885862\n",
      "-\n",
      "Fold 3\n",
      "Training until validation scores don't improve for 25 rounds.\n"
     ]
    },
    {
     "name": "stderr",
     "output_type": "stream",
     "text": [
      "E:\\Anaconda\\envs\\ML\\lib\\site-packages\\lightgbm\\basic.py:742: UserWarning: categorical_feature in param dict is overridden.\n",
      "  warnings.warn('categorical_feature in param dict is overridden.')\n"
     ]
    },
    {
     "name": "stdout",
     "output_type": "stream",
     "text": [
      "Early stopping, best iteration is:\n",
      "[102]\ttraining's auc: 0.925248\tvalid_1's auc: 0.883187\n",
      "-\n",
      "Fold 4\n",
      "Training until validation scores don't improve for 25 rounds.\n"
     ]
    },
    {
     "name": "stderr",
     "output_type": "stream",
     "text": [
      "E:\\Anaconda\\envs\\ML\\lib\\site-packages\\lightgbm\\basic.py:742: UserWarning: categorical_feature in param dict is overridden.\n",
      "  warnings.warn('categorical_feature in param dict is overridden.')\n"
     ]
    },
    {
     "name": "stdout",
     "output_type": "stream",
     "text": [
      "Early stopping, best iteration is:\n",
      "[86]\ttraining's auc: 0.918562\tvalid_1's auc: 0.889016\n",
      "-\n",
      "Fold 5\n",
      "Training until validation scores don't improve for 25 rounds.\n"
     ]
    },
    {
     "name": "stderr",
     "output_type": "stream",
     "text": [
      "E:\\Anaconda\\envs\\ML\\lib\\site-packages\\lightgbm\\basic.py:742: UserWarning: categorical_feature in param dict is overridden.\n",
      "  warnings.warn('categorical_feature in param dict is overridden.')\n"
     ]
    },
    {
     "name": "stdout",
     "output_type": "stream",
     "text": [
      "Early stopping, best iteration is:\n",
      "[108]\ttraining's auc: 0.926251\tvalid_1's auc: 0.883803\n",
      "\n",
      "Avg Accuracy Train Set: 84.08409092512396\n",
      "Avg Accuracy Test Set: 80.22169052806308\n",
      "\n",
      "Avg Recall: 78.26277812699378\n",
      "Avg Precision: 81.45785493174785\n",
      "32 50 0.8\n",
      "-\n",
      "Fold 1\n",
      "Training until validation scores don't improve for 25 rounds.\n"
     ]
    },
    {
     "name": "stderr",
     "output_type": "stream",
     "text": [
      "E:\\Anaconda\\envs\\ML\\lib\\site-packages\\lightgbm\\basic.py:742: UserWarning: categorical_feature in param dict is overridden.\n",
      "  warnings.warn('categorical_feature in param dict is overridden.')\n"
     ]
    },
    {
     "name": "stdout",
     "output_type": "stream",
     "text": [
      "Early stopping, best iteration is:\n",
      "[74]\ttraining's auc: 0.915795\tvalid_1's auc: 0.87986\n",
      "-\n",
      "Fold 2\n",
      "Training until validation scores don't improve for 25 rounds.\n"
     ]
    },
    {
     "name": "stderr",
     "output_type": "stream",
     "text": [
      "E:\\Anaconda\\envs\\ML\\lib\\site-packages\\lightgbm\\basic.py:742: UserWarning: categorical_feature in param dict is overridden.\n",
      "  warnings.warn('categorical_feature in param dict is overridden.')\n"
     ]
    },
    {
     "name": "stdout",
     "output_type": "stream",
     "text": [
      "Early stopping, best iteration is:\n",
      "[98]\ttraining's auc: 0.922692\tvalid_1's auc: 0.885144\n",
      "-\n",
      "Fold 3\n",
      "Training until validation scores don't improve for 25 rounds.\n"
     ]
    },
    {
     "name": "stderr",
     "output_type": "stream",
     "text": [
      "E:\\Anaconda\\envs\\ML\\lib\\site-packages\\lightgbm\\basic.py:742: UserWarning: categorical_feature in param dict is overridden.\n",
      "  warnings.warn('categorical_feature in param dict is overridden.')\n"
     ]
    },
    {
     "name": "stdout",
     "output_type": "stream",
     "text": [
      "Early stopping, best iteration is:\n",
      "[80]\ttraining's auc: 0.91824\tvalid_1's auc: 0.881632\n",
      "-\n",
      "Fold 4\n",
      "Training until validation scores don't improve for 25 rounds.\n"
     ]
    },
    {
     "name": "stderr",
     "output_type": "stream",
     "text": [
      "E:\\Anaconda\\envs\\ML\\lib\\site-packages\\lightgbm\\basic.py:742: UserWarning: categorical_feature in param dict is overridden.\n",
      "  warnings.warn('categorical_feature in param dict is overridden.')\n"
     ]
    },
    {
     "name": "stdout",
     "output_type": "stream",
     "text": [
      "Early stopping, best iteration is:\n",
      "[82]\ttraining's auc: 0.917442\tvalid_1's auc: 0.887908\n",
      "-\n",
      "Fold 5\n",
      "Training until validation scores don't improve for 25 rounds.\n"
     ]
    },
    {
     "name": "stderr",
     "output_type": "stream",
     "text": [
      "E:\\Anaconda\\envs\\ML\\lib\\site-packages\\lightgbm\\basic.py:742: UserWarning: categorical_feature in param dict is overridden.\n",
      "  warnings.warn('categorical_feature in param dict is overridden.')\n"
     ]
    },
    {
     "name": "stdout",
     "output_type": "stream",
     "text": [
      "Early stopping, best iteration is:\n",
      "[118]\ttraining's auc: 0.929367\tvalid_1's auc: 0.883132\n",
      "\n",
      "Avg Accuracy Train Set: 83.97378068604438\n",
      "Avg Accuracy Test Set: 80.11663747453277\n",
      "\n",
      "Avg Recall: 78.0639076866122\n",
      "Avg Precision: 81.41188721851329\n",
      "32 50 0.9\n",
      "-\n",
      "Fold 1\n",
      "Training until validation scores don't improve for 25 rounds.\n"
     ]
    },
    {
     "name": "stderr",
     "output_type": "stream",
     "text": [
      "E:\\Anaconda\\envs\\ML\\lib\\site-packages\\lightgbm\\basic.py:742: UserWarning: categorical_feature in param dict is overridden.\n",
      "  warnings.warn('categorical_feature in param dict is overridden.')\n"
     ]
    },
    {
     "name": "stdout",
     "output_type": "stream",
     "text": [
      "Early stopping, best iteration is:\n",
      "[85]\ttraining's auc: 0.92063\tvalid_1's auc: 0.879273\n",
      "-\n",
      "Fold 2\n",
      "Training until validation scores don't improve for 25 rounds.\n"
     ]
    },
    {
     "name": "stderr",
     "output_type": "stream",
     "text": [
      "E:\\Anaconda\\envs\\ML\\lib\\site-packages\\lightgbm\\basic.py:742: UserWarning: categorical_feature in param dict is overridden.\n",
      "  warnings.warn('categorical_feature in param dict is overridden.')\n"
     ]
    },
    {
     "name": "stdout",
     "output_type": "stream",
     "text": [
      "Early stopping, best iteration is:\n",
      "[99]\ttraining's auc: 0.923654\tvalid_1's auc: 0.885301\n",
      "-\n",
      "Fold 3\n",
      "Training until validation scores don't improve for 25 rounds.\n"
     ]
    },
    {
     "name": "stderr",
     "output_type": "stream",
     "text": [
      "E:\\Anaconda\\envs\\ML\\lib\\site-packages\\lightgbm\\basic.py:742: UserWarning: categorical_feature in param dict is overridden.\n",
      "  warnings.warn('categorical_feature in param dict is overridden.')\n"
     ]
    },
    {
     "name": "stdout",
     "output_type": "stream",
     "text": [
      "Early stopping, best iteration is:\n",
      "[86]\ttraining's auc: 0.920419\tvalid_1's auc: 0.882427\n",
      "-\n",
      "Fold 4\n",
      "Training until validation scores don't improve for 25 rounds.\n"
     ]
    },
    {
     "name": "stderr",
     "output_type": "stream",
     "text": [
      "E:\\Anaconda\\envs\\ML\\lib\\site-packages\\lightgbm\\basic.py:742: UserWarning: categorical_feature in param dict is overridden.\n",
      "  warnings.warn('categorical_feature in param dict is overridden.')\n"
     ]
    },
    {
     "name": "stdout",
     "output_type": "stream",
     "text": [
      "Early stopping, best iteration is:\n",
      "[95]\ttraining's auc: 0.922678\tvalid_1's auc: 0.888556\n",
      "-\n",
      "Fold 5\n",
      "Training until validation scores don't improve for 25 rounds.\n"
     ]
    },
    {
     "name": "stderr",
     "output_type": "stream",
     "text": [
      "E:\\Anaconda\\envs\\ML\\lib\\site-packages\\lightgbm\\basic.py:742: UserWarning: categorical_feature in param dict is overridden.\n",
      "  warnings.warn('categorical_feature in param dict is overridden.')\n"
     ]
    },
    {
     "name": "stdout",
     "output_type": "stream",
     "text": [
      "Early stopping, best iteration is:\n",
      "[66]\ttraining's auc: 0.912483\tvalid_1's auc: 0.88372\n",
      "\n",
      "Avg Accuracy Train Set: 83.91337540636728\n",
      "Avg Accuracy Test Set: 79.99582535930054\n",
      "\n",
      "Avg Recall: 78.2104827002881\n",
      "Avg Precision: 81.11241900202876\n",
      "32 50 1.0\n",
      "-\n",
      "Fold 1\n",
      "Training until validation scores don't improve for 25 rounds.\n"
     ]
    },
    {
     "name": "stderr",
     "output_type": "stream",
     "text": [
      "E:\\Anaconda\\envs\\ML\\lib\\site-packages\\lightgbm\\basic.py:742: UserWarning: categorical_feature in param dict is overridden.\n",
      "  warnings.warn('categorical_feature in param dict is overridden.')\n"
     ]
    },
    {
     "name": "stdout",
     "output_type": "stream",
     "text": [
      "Early stopping, best iteration is:\n",
      "[53]\ttraining's auc: 0.908583\tvalid_1's auc: 0.879721\n",
      "-\n",
      "Fold 2\n",
      "Training until validation scores don't improve for 25 rounds.\n"
     ]
    },
    {
     "name": "stderr",
     "output_type": "stream",
     "text": [
      "E:\\Anaconda\\envs\\ML\\lib\\site-packages\\lightgbm\\basic.py:742: UserWarning: categorical_feature in param dict is overridden.\n",
      "  warnings.warn('categorical_feature in param dict is overridden.')\n"
     ]
    },
    {
     "name": "stdout",
     "output_type": "stream",
     "text": [
      "Early stopping, best iteration is:\n",
      "[81]\ttraining's auc: 0.918829\tvalid_1's auc: 0.884531\n",
      "-\n",
      "Fold 3\n",
      "Training until validation scores don't improve for 25 rounds.\n"
     ]
    },
    {
     "name": "stderr",
     "output_type": "stream",
     "text": [
      "E:\\Anaconda\\envs\\ML\\lib\\site-packages\\lightgbm\\basic.py:742: UserWarning: categorical_feature in param dict is overridden.\n",
      "  warnings.warn('categorical_feature in param dict is overridden.')\n"
     ]
    },
    {
     "name": "stdout",
     "output_type": "stream",
     "text": [
      "Early stopping, best iteration is:\n",
      "[83]\ttraining's auc: 0.920074\tvalid_1's auc: 0.882636\n",
      "-\n",
      "Fold 4\n",
      "Training until validation scores don't improve for 25 rounds.\n"
     ]
    },
    {
     "name": "stderr",
     "output_type": "stream",
     "text": [
      "E:\\Anaconda\\envs\\ML\\lib\\site-packages\\lightgbm\\basic.py:742: UserWarning: categorical_feature in param dict is overridden.\n",
      "  warnings.warn('categorical_feature in param dict is overridden.')\n"
     ]
    },
    {
     "name": "stdout",
     "output_type": "stream",
     "text": [
      "Early stopping, best iteration is:\n",
      "[88]\ttraining's auc: 0.921092\tvalid_1's auc: 0.887778\n",
      "-\n",
      "Fold 5\n",
      "Training until validation scores don't improve for 25 rounds.\n"
     ]
    },
    {
     "name": "stderr",
     "output_type": "stream",
     "text": [
      "E:\\Anaconda\\envs\\ML\\lib\\site-packages\\lightgbm\\basic.py:742: UserWarning: categorical_feature in param dict is overridden.\n",
      "  warnings.warn('categorical_feature in param dict is overridden.')\n"
     ]
    },
    {
     "name": "stdout",
     "output_type": "stream",
     "text": [
      "Early stopping, best iteration is:\n",
      "[72]\ttraining's auc: 0.915638\tvalid_1's auc: 0.883981\n",
      "\n",
      "Avg Accuracy Train Set: 83.56665320093626\n",
      "Avg Accuracy Test Set: 80.00631438548626\n",
      "\n",
      "Avg Recall: 78.1045410468573\n",
      "Avg Precision: 81.19477543091543\n"
     ]
    }
   ],
   "source": [
    "Best_Val_Acc = 0.0\n",
    "Best_Parameter = {'num_leaves': \"BLANK\",\n",
    "                  \"min_data_in_leaf\": \"BLANK\",\n",
    "                  \"feature_fraction\": \"BLANK\"\n",
    "                 }\n",
    "\n",
    "features = importance_df.head(13).index\n",
    "\n",
    "for num_leaves in range(8,33,8):\n",
    "    for min_data_in_leaf in range(20,51,5):\n",
    "        for feature_fraction in range(5,11):\n",
    "            print(str(num_leaves) + \" \" + str(min_data_in_leaf) + \" \" + str(feature_fraction*0.1))\n",
    "\n",
    "            Acc_Train = []\n",
    "            Acc = []\n",
    "            Recall = []\n",
    "            Precision = []\n",
    "\n",
    "            #Parameters for model:\n",
    "            lgb_params = {'num_leaves': num_leaves,\n",
    "                         'min_data_in_leaf': min_data_in_leaf, \n",
    "                         'objective':'binary',\n",
    "                         #'max_depth': 10,\n",
    "                         'learning_rate': 0.1,\n",
    "                         \"boosting\": \"gbdt\",\n",
    "                         \"feature_fraction\": feature_fraction*0.1,\n",
    "                         \"bagging_freq\": 1,\n",
    "                         \"bagging_fraction\": 1,\n",
    "                         \"bagging_seed\": 42,\n",
    "                         \"metric\": 'AUC',\n",
    "                         \"num_threads\": 6,\n",
    "                         #\"lambda_l1\": 0.0,\n",
    "                         \"verbosity\": -1}\n",
    "\n",
    "\n",
    "            folds = KFold(n_splits=5, shuffle=True, random_state=42)\n",
    "            #oof_lgb = np.zeros(len(X_train))\n",
    "\n",
    "            for fold_, (trn_idx, val_idx) in enumerate(folds.split(X, y)):    \n",
    "\n",
    "                print('-')\n",
    "                print(\"Fold {}\".format(fold_ + 1))\n",
    "                trn_data = lgb.Dataset(X.iloc[trn_idx][features], label=y.iloc[trn_idx], categorical_feature=(14,15,16,17,18,29))\n",
    "                val_data = lgb.Dataset(X.iloc[val_idx][features], label=y.iloc[val_idx], categorical_feature=(14,15,16,17,18,29))\n",
    "\n",
    "                num_round = 500\n",
    "                clf = lgb.train(lgb_params, trn_data, num_round, \n",
    "                                valid_sets = [trn_data, val_data]\n",
    "                                ,verbose_eval=200\n",
    "                                ,categorical_feature=(14,15,16,17,18,29)\n",
    "                                ,early_stopping_rounds=25)\n",
    "\n",
    "                predictions_lgb = np.zeros(len(y.iloc[val_idx]))\n",
    "                predictions_lgb = clf.predict(X.iloc[val_idx][features], num_iteration=clf.best_iteration)\n",
    "\n",
    "                Y_actual = y.iloc[val_idx]\n",
    "\n",
    "                Acc_Train.append(accuracy_score(y.iloc[trn_idx], clf.predict(X.iloc[trn_idx][features], num_iteration=clf.best_iteration) >=0.5 )*100)\n",
    "\n",
    "                Acc.append(accuracy_score(Y_actual,  predictions_lgb > 0.5)*100)\n",
    "                Recall.append(recall_score(Y_actual,  predictions_lgb > 0.5)*100)\n",
    "                Precision.append(precision_score(Y_actual,  predictions_lgb > 0.5)*100)\n",
    "\n",
    "            print(\"\")\n",
    "            print(\"Avg Accuracy Train Set:\", np.mean(Acc_Train))\n",
    "            print(\"Avg Accuracy Test Set:\",np.mean(Acc))\n",
    "            print(\"\")\n",
    "            print(\"Avg Recall:\",np.mean(Recall))\n",
    "            print(\"Avg Precision:\",np.mean(Precision))\n",
    "\n",
    "            if Best_Val_Acc < np.mean(Acc):\n",
    "                Best_Val_Acc = np.copy(np.mean(Acc))\n",
    "                \n",
    "                Best_Parameter.update({\"num_leaves\": num_leaves})\n",
    "                Best_Parameter.update({\"min_data_in_leaf\": min_data_in_leaf})\n",
    "                Best_Parameter.update({\"feature_fraction\": feature_fraction*0.1})\n",
    "                \n",
    "                \n",
    "\n"
   ]
  },
  {
   "cell_type": "code",
   "execution_count": 33,
   "metadata": {},
   "outputs": [
    {
     "name": "stdout",
     "output_type": "stream",
     "text": [
      "{'num_leaves': 24, 'min_data_in_leaf': 25, 'feature_fraction': 0.8}\n"
     ]
    }
   ],
   "source": [
    "print(Best_Parameter)"
   ]
  },
  {
   "cell_type": "markdown",
   "metadata": {},
   "source": [
    "### Feature importance"
   ]
  },
  {
   "cell_type": "code",
   "execution_count": 55,
   "metadata": {},
   "outputs": [],
   "source": [
    "importance_df = pd.DataFrame(importance_df.transpose().mean())\n",
    "importance_df.rename(index=str, columns={0:\"Gain\"}, inplace=True)"
   ]
  },
  {
   "cell_type": "code",
   "execution_count": 56,
   "metadata": {},
   "outputs": [],
   "source": [
    "importance_df[\"Gain\"] = importance_df[\"Gain\"] / importance_df[\"Gain\"].sum()"
   ]
  },
  {
   "cell_type": "code",
   "execution_count": 57,
   "metadata": {},
   "outputs": [
    {
     "data": {
      "image/png": "[encoded data removed]",
      "text/plain": [
       "<Figure size 288x576 with 1 Axes>"
      ]
     },
     "metadata": {},
     "output_type": "display_data"
    }
   ],
   "source": [
    "importance_df.sort_values(by=\"Gain\", ascending =False, inplace=True)\n",
    "\n",
    "plt.figure(figsize=(4,8))\n",
    "sn.barplot(x=\"Gain\"\n",
    "           ,y= importance_df.index\n",
    "           ,data=importance_df)\n",
    "plt.title(\"Feature Importance\")\n",
    "plt.xlabel(\"Gain Normalised\")\n",
    "plt.show()"
   ]
  },
  {
   "cell_type": "code",
   "execution_count": 40,
   "metadata": {},
   "outputs": [
    {
     "data": {
      "text/html": [
       "<div>\n",
       "<style scoped>\n",
       "    .dataframe tbody tr th:only-of-type {\n",
       "        vertical-align: middle;\n",
       "    }\n",
       "\n",
       "    .dataframe tbody tr th {\n",
       "        vertical-align: top;\n",
       "    }\n",
       "\n",
       "    .dataframe thead th {\n",
       "        text-align: right;\n",
       "    }\n",
       "</style>\n",
       "<table border=\"1\" class=\"dataframe\">\n",
       "  <thead>\n",
       "    <tr style=\"text-align: right;\">\n",
       "      <th></th>\n",
       "      <th>Gain</th>\n",
       "    </tr>\n",
       "  </thead>\n",
       "  <tbody>\n",
       "    <tr>\n",
       "      <th>WRR_EMERG</th>\n",
       "      <td>0.351050</td>\n",
       "    </tr>\n",
       "    <tr>\n",
       "      <th>NUM_TRANS_LST_24</th>\n",
       "      <td>0.161773</td>\n",
       "    </tr>\n",
       "    <tr>\n",
       "      <th>WRR_APP</th>\n",
       "      <td>0.087292</td>\n",
       "    </tr>\n",
       "    <tr>\n",
       "      <th>EMERG_AVG_GIFT</th>\n",
       "      <td>0.062910</td>\n",
       "    </tr>\n",
       "    <tr>\n",
       "      <th>AGE</th>\n",
       "      <td>0.054218</td>\n",
       "    </tr>\n",
       "    <tr>\n",
       "      <th>APPEAL_AVG_GIFT</th>\n",
       "      <td>0.050191</td>\n",
       "    </tr>\n",
       "    <tr>\n",
       "      <th>TOWN_Encoded</th>\n",
       "      <td>0.043340</td>\n",
       "    </tr>\n",
       "    <tr>\n",
       "      <th>DM_PREVIOUS_12_MONTHS</th>\n",
       "      <td>0.042778</td>\n",
       "    </tr>\n",
       "    <tr>\n",
       "      <th>COG_TYPE_Encoded</th>\n",
       "      <td>0.031073</td>\n",
       "    </tr>\n",
       "    <tr>\n",
       "      <th>Months Between DateCr and Last Ask</th>\n",
       "      <td>0.024793</td>\n",
       "    </tr>\n",
       "    <tr>\n",
       "      <th>DONATED_LST_24</th>\n",
       "      <td>0.021064</td>\n",
       "    </tr>\n",
       "    <tr>\n",
       "      <th>EMAIL_FLAG</th>\n",
       "      <td>0.014409</td>\n",
       "    </tr>\n",
       "    <tr>\n",
       "      <th>TOWNC1</th>\n",
       "      <td>0.009487</td>\n",
       "    </tr>\n",
       "  </tbody>\n",
       "</table>\n",
       "</div>"
      ],
      "text/plain": [
       "                                        Gain\n",
       "WRR_EMERG                           0.351050\n",
       "NUM_TRANS_LST_24                    0.161773\n",
       "WRR_APP                             0.087292\n",
       "EMERG_AVG_GIFT                      0.062910\n",
       "AGE                                 0.054218\n",
       "APPEAL_AVG_GIFT                     0.050191\n",
       "TOWN_Encoded                        0.043340\n",
       "DM_PREVIOUS_12_MONTHS               0.042778\n",
       "COG_TYPE_Encoded                    0.031073\n",
       "Months Between DateCr and Last Ask  0.024793\n",
       "DONATED_LST_24                      0.021064\n",
       "EMAIL_FLAG                          0.014409\n",
       "TOWNC1                              0.009487"
      ]
     },
     "execution_count": 40,
     "metadata": {},
     "output_type": "execute_result"
    }
   ],
   "source": [
    "importance_df.head(13)"
   ]
  },
  {
   "cell_type": "markdown",
   "metadata": {},
   "source": [
    "importance_df.to_csv(\"Data/Feature_Importance.csv\", index=True)"
   ]
  },
  {
   "cell_type": "markdown",
   "metadata": {},
   "source": [
    "## I am now going to do the same to this dataset and add on the customer segments"
   ]
  },
  {
   "cell_type": "code",
   "execution_count": 16,
   "metadata": {},
   "outputs": [],
   "source": [
    "df_Val = pd.read_csv(\"Data/Test_Data_Val_Aft_FE.csv\")\n",
    "df_Val = df_Val.set_index(\"URN\")"
   ]
  },
  {
   "cell_type": "code",
   "execution_count": 17,
   "metadata": {},
   "outputs": [],
   "source": [
    "df_k_means_val = df_Val[['Months Between DateCr and Last Ask',\n",
    "'AGE',\n",
    "#'Mosaic Group Num',\n",
    "'SEXC1',\n",
    "'TOWNC1',\n",
    "'OAC_GroupC1',\n",
    "'COG_TYPEC1',\n",
    "'Mosaic GroupC1',\n",
    "'Total_C1',\n",
    "'NUM_TRANS_LST_24',\n",
    "'DONATED_LST_24',\n",
    "'WRR_EMERG']].copy()\n",
    "\n",
    "df_k_means_val[\"Recency\"] = np.where((df_k_means_val['NUM_TRANS_LST_24']>0),1,0)\n",
    "\n",
    "X_k_means_val = (df_k_means_val.values - Para_Dict.get(\"K_mean_mean\"))/Para_Dict.get(\"K_mean_std\")"
   ]
  },
  {
   "cell_type": "code",
   "execution_count": 18,
   "metadata": {},
   "outputs": [],
   "source": [
    "df_Val = pd.concat([df_Val,pd.Series(K_mean.predict(X_k_means_val), index=df_Val.index)],axis=1)\n",
    "df_Val.rename(columns={0:\"Clusters\"}, inplace=True)"
   ]
  },
  {
   "cell_type": "markdown",
   "metadata": {},
   "source": [
    "## Need to use all of the data to build the model"
   ]
  },
  {
   "cell_type": "code",
   "execution_count": 31,
   "metadata": {},
   "outputs": [],
   "source": [
    "#Parameters for model:\n",
    "lgb_params = {'num_leaves': 24, #max number of leaves in one tree\n",
    "             'min_data_in_leaf': 25, #minimal number of data in one leaf. Can be used to deal with over-fitting\n",
    "             'objective':'binary',\n",
    "             #'max_depth': 10,\n",
    "             'learning_rate': 0.1, #How much each tree effects the overall result.\n",
    "             \"boosting\": \"gbdt\",\n",
    "             \"feature_fraction\": 0.8, #LightGBM will select X% of features before training each tree\n",
    "             \"bagging_freq\": 1,\n",
    "             \"bagging_fraction\": 1, #like feature_fraction, but this will randomly select part of data without resampling\n",
    "             \"bagging_seed\": 42,\n",
    "             \"metric\": 'AUC',\n",
    "             \"lambda_l2\": 0.25,\n",
    "             \"num_threads\": 4,\n",
    "             \"verbosity\": -1}\n",
    "\n",
    "\n",
    "features = importance_df.head(13).index\n",
    "\n",
    "trn_data = lgb.Dataset(X[features], label=y, categorical_feature=(6,8))\n",
    "\n",
    "num_round = 500\n",
    "clf = lgb.train(lgb_params, trn_data, num_round, \n",
    "                verbose_eval= 100, \n",
    "                categorical_feature=(6,8),\n",
    "                ) #less than 0 means disable"
   ]
  },
  {
   "cell_type": "markdown",
   "metadata": {},
   "source": [
    "### Save the model to disk"
   ]
  },
  {
   "cell_type": "code",
   "execution_count": 55,
   "metadata": {},
   "outputs": [
    {
     "data": {
      "text/plain": [
       "<lightgbm.basic.Booster at 0x1953963e908>"
      ]
     },
     "execution_count": 55,
     "metadata": {},
     "output_type": "execute_result"
    }
   ],
   "source": [
    "clf.save_model('Parameter_Dictionary/LightGBM.txt')\n",
    "#load from model:\n",
    "\n",
    "#bst = lgb.Booster(model_file='mode.txt')"
   ]
  },
  {
   "cell_type": "markdown",
   "metadata": {},
   "source": [
    "#### Let check the net profit and response rate for the unbalanced dataset"
   ]
  },
  {
   "cell_type": "code",
   "execution_count": 32,
   "metadata": {},
   "outputs": [],
   "source": [
    "Results_Val = df_Val[[\"DV\", \"INCOME\"]].copy()\n",
    "Results_Val[\"Score\"] =  clf.predict(df_Val.drop([\"DV\", \"INCOME\"],axis=1), num_iteration=clf.best_iteration)\n",
    "Results_Val[\"Score Band\"] = Results_Val[\"Score\"].astype(str).str.slice(0,3)\n",
    "\n",
    "Results_Val.to_csv(\"Model Outputs/LightGBM_UB_VAL.csv\", index=True)"
   ]
  },
  {
   "cell_type": "code",
   "execution_count": 33,
   "metadata": {},
   "outputs": [],
   "source": [
    "Results_Val_2 = Results_Val.groupby([\"Score Band\"])[\"INCOME\"].agg([\"count\", \"sum\", \"mean\",\"median\",\"std\" ,\"max\"])\n",
    "Results_Val_2 = pd.concat([Results_Val[\"Score Band\"].value_counts().sort_index(), Results_Val_2],axis=1).rename(index=str\n",
    "                                                                                                                 ,columns={\"count\":\"Donors\"\n",
    "                                                                                                                           ,\"Score Band\": \"Contacted Volume\"\n",
    "                                                                                                                           ,\"sum\": \"Total Value\"\n",
    "                                                                                                                           ,\"mean\": \"Mean Gift\"\n",
    "                                                                                                                           ,\"median\": \"Median Gift\"\n",
    "                                                                                                                           ,\"max\":\"Max Gift\"})\n",
    "\n"
   ]
  },
  {
   "cell_type": "code",
   "execution_count": 34,
   "metadata": {},
   "outputs": [
    {
     "data": {
      "text/html": [
       "<div>\n",
       "<style scoped>\n",
       "    .dataframe tbody tr th:only-of-type {\n",
       "        vertical-align: middle;\n",
       "    }\n",
       "\n",
       "    .dataframe tbody tr th {\n",
       "        vertical-align: top;\n",
       "    }\n",
       "\n",
       "    .dataframe thead th {\n",
       "        text-align: right;\n",
       "    }\n",
       "</style>\n",
       "<table border=\"1\" class=\"dataframe\">\n",
       "  <thead>\n",
       "    <tr style=\"text-align: right;\">\n",
       "      <th></th>\n",
       "      <th>Contacted Volume</th>\n",
       "      <th>Donors</th>\n",
       "      <th>Total Value</th>\n",
       "      <th>Mean Gift</th>\n",
       "      <th>Median Gift</th>\n",
       "      <th>std</th>\n",
       "      <th>Max Gift</th>\n",
       "      <th>Cost</th>\n",
       "      <th>Net Profit</th>\n",
       "      <th>RR</th>\n",
       "    </tr>\n",
       "    <tr>\n",
       "      <th>Score Band</th>\n",
       "      <th></th>\n",
       "      <th></th>\n",
       "      <th></th>\n",
       "      <th></th>\n",
       "      <th></th>\n",
       "      <th></th>\n",
       "      <th></th>\n",
       "      <th></th>\n",
       "      <th></th>\n",
       "      <th></th>\n",
       "    </tr>\n",
       "  </thead>\n",
       "  <tbody>\n",
       "    <tr>\n",
       "      <th>0.0</th>\n",
       "      <td>1052</td>\n",
       "      <td>37</td>\n",
       "      <td>1259.81</td>\n",
       "      <td>34.048919</td>\n",
       "      <td>30.0</td>\n",
       "      <td>42.947341</td>\n",
       "      <td>200.0</td>\n",
       "      <td>2630.0</td>\n",
       "      <td>-1370.19</td>\n",
       "      <td>0.035171</td>\n",
       "    </tr>\n",
       "    <tr>\n",
       "      <th>0.1</th>\n",
       "      <td>2529</td>\n",
       "      <td>99</td>\n",
       "      <td>5577.00</td>\n",
       "      <td>56.333333</td>\n",
       "      <td>30.0</td>\n",
       "      <td>102.322420</td>\n",
       "      <td>1000.0</td>\n",
       "      <td>6322.5</td>\n",
       "      <td>-745.50</td>\n",
       "      <td>0.039146</td>\n",
       "    </tr>\n",
       "    <tr>\n",
       "      <th>0.2</th>\n",
       "      <td>3184</td>\n",
       "      <td>126</td>\n",
       "      <td>6080.00</td>\n",
       "      <td>48.253968</td>\n",
       "      <td>22.5</td>\n",
       "      <td>73.584883</td>\n",
       "      <td>500.0</td>\n",
       "      <td>7960.0</td>\n",
       "      <td>-1880.00</td>\n",
       "      <td>0.039573</td>\n",
       "    </tr>\n",
       "    <tr>\n",
       "      <th>0.3</th>\n",
       "      <td>776</td>\n",
       "      <td>46</td>\n",
       "      <td>2224.00</td>\n",
       "      <td>48.347826</td>\n",
       "      <td>30.0</td>\n",
       "      <td>75.874229</td>\n",
       "      <td>520.0</td>\n",
       "      <td>1940.0</td>\n",
       "      <td>284.00</td>\n",
       "      <td>0.059278</td>\n",
       "    </tr>\n",
       "    <tr>\n",
       "      <th>0.4</th>\n",
       "      <td>462</td>\n",
       "      <td>36</td>\n",
       "      <td>2485.00</td>\n",
       "      <td>69.027778</td>\n",
       "      <td>50.0</td>\n",
       "      <td>73.541237</td>\n",
       "      <td>300.0</td>\n",
       "      <td>1155.0</td>\n",
       "      <td>1330.00</td>\n",
       "      <td>0.077922</td>\n",
       "    </tr>\n",
       "    <tr>\n",
       "      <th>0.5</th>\n",
       "      <td>664</td>\n",
       "      <td>30</td>\n",
       "      <td>1115.00</td>\n",
       "      <td>37.166667</td>\n",
       "      <td>20.0</td>\n",
       "      <td>42.945100</td>\n",
       "      <td>200.0</td>\n",
       "      <td>1660.0</td>\n",
       "      <td>-545.00</td>\n",
       "      <td>0.045181</td>\n",
       "    </tr>\n",
       "    <tr>\n",
       "      <th>0.6</th>\n",
       "      <td>472</td>\n",
       "      <td>60</td>\n",
       "      <td>2305.00</td>\n",
       "      <td>38.416667</td>\n",
       "      <td>30.0</td>\n",
       "      <td>21.892102</td>\n",
       "      <td>100.0</td>\n",
       "      <td>1180.0</td>\n",
       "      <td>1125.00</td>\n",
       "      <td>0.127119</td>\n",
       "    </tr>\n",
       "    <tr>\n",
       "      <th>0.7</th>\n",
       "      <td>95</td>\n",
       "      <td>17</td>\n",
       "      <td>540.00</td>\n",
       "      <td>31.764706</td>\n",
       "      <td>30.0</td>\n",
       "      <td>15.405070</td>\n",
       "      <td>55.0</td>\n",
       "      <td>237.5</td>\n",
       "      <td>302.50</td>\n",
       "      <td>0.178947</td>\n",
       "    </tr>\n",
       "    <tr>\n",
       "      <th>0.8</th>\n",
       "      <td>133</td>\n",
       "      <td>20</td>\n",
       "      <td>865.00</td>\n",
       "      <td>43.250000</td>\n",
       "      <td>30.0</td>\n",
       "      <td>53.392169</td>\n",
       "      <td>250.0</td>\n",
       "      <td>332.5</td>\n",
       "      <td>532.50</td>\n",
       "      <td>0.150376</td>\n",
       "    </tr>\n",
       "    <tr>\n",
       "      <th>0.9</th>\n",
       "      <td>4093</td>\n",
       "      <td>787</td>\n",
       "      <td>39506.00</td>\n",
       "      <td>50.198221</td>\n",
       "      <td>30.0</td>\n",
       "      <td>72.511902</td>\n",
       "      <td>1000.0</td>\n",
       "      <td>10232.5</td>\n",
       "      <td>29273.50</td>\n",
       "      <td>0.192280</td>\n",
       "    </tr>\n",
       "  </tbody>\n",
       "</table>\n",
       "</div>"
      ],
      "text/plain": [
       "            Contacted Volume  Donors  Total Value  Mean Gift  Median Gift  \\\n",
       "Score Band                                                                  \n",
       "0.0                     1052      37      1259.81  34.048919         30.0   \n",
       "0.1                     2529      99      5577.00  56.333333         30.0   \n",
       "0.2                     3184     126      6080.00  48.253968         22.5   \n",
       "0.3                      776      46      2224.00  48.347826         30.0   \n",
       "0.4                      462      36      2485.00  69.027778         50.0   \n",
       "0.5                      664      30      1115.00  37.166667         20.0   \n",
       "0.6                      472      60      2305.00  38.416667         30.0   \n",
       "0.7                       95      17       540.00  31.764706         30.0   \n",
       "0.8                      133      20       865.00  43.250000         30.0   \n",
       "0.9                     4093     787     39506.00  50.198221         30.0   \n",
       "\n",
       "                   std  Max Gift     Cost  Net Profit        RR  \n",
       "Score Band                                                       \n",
       "0.0          42.947341     200.0   2630.0    -1370.19  0.035171  \n",
       "0.1         102.322420    1000.0   6322.5     -745.50  0.039146  \n",
       "0.2          73.584883     500.0   7960.0    -1880.00  0.039573  \n",
       "0.3          75.874229     520.0   1940.0      284.00  0.059278  \n",
       "0.4          73.541237     300.0   1155.0     1330.00  0.077922  \n",
       "0.5          42.945100     200.0   1660.0     -545.00  0.045181  \n",
       "0.6          21.892102     100.0   1180.0     1125.00  0.127119  \n",
       "0.7          15.405070      55.0    237.5      302.50  0.178947  \n",
       "0.8          53.392169     250.0    332.5      532.50  0.150376  \n",
       "0.9          72.511902    1000.0  10232.5    29273.50  0.192280  "
      ]
     },
     "execution_count": 34,
     "metadata": {},
     "output_type": "execute_result"
    }
   ],
   "source": [
    "Results_Val_2[\"Cost\"]= Results_Val_2[\"Contacted Volume\"] * 2.50\n",
    "Results_Val_2[\"Net Profit\"] = Results_Val_2[\"Total Value\"] - Results_Val_2[\"Cost\"]\n",
    "Results_Val_2[\"RR\"] = (Results_Val_2[\"Donors\"]/Results_Val_2[\"Contacted Volume\"])\n",
    "Results_Val_2"
   ]
  }
 ],
 "metadata": {
  "kernelspec": {
   "display_name": "Python 3",
   "language": "python",
   "name": "python3"
  },
  "language_info": {
   "codemirror_mode": {
    "name": "ipython",
    "version": 3
   },
   "file_extension": ".py",
   "mimetype": "text/x-python",
   "name": "python",
   "nbconvert_exporter": "python",
   "pygments_lexer": "ipython3",
   "version": "3.7.3"
  }
 },
 "nbformat": 4,
 "nbformat_minor": 2
}
