{
 "cells": [
  {
   "cell_type": "code",
   "execution_count": 1,
   "metadata": {},
   "outputs": [],
   "source": [
    "import pandas as pd\n",
    "import seaborn as sn\n",
    "import numpy as np\n",
    "import matplotlib.pyplot as plt\n",
    "\n",
    "from sklearn.metrics import precision_score\n",
    "from sklearn.metrics import recall_score\n",
    "from sklearn.metrics import confusion_matrix\n",
    "from sklearn.metrics import f1_score\n",
    "from sklearn.metrics import accuracy_score\n",
    "from sklearn.metrics import roc_curve, auc\n",
    "\n",
    "from sklearn.model_selection import GridSearchCV\n",
    "from sklearn.model_selection import cross_val_score\n",
    "from sklearn.model_selection import KFold\n",
    "\n",
    "from sklearn.feature_selection import SelectKBest\n",
    "from sklearn.feature_selection import chi2\n",
    "from sklearn.feature_selection import RFE\n",
    "\n",
    "from joblib import dump, load\n",
    "import pickle\n",
    "\n",
    "def Graph_Confusion_Matrix(CM, labels, title = 'Confusion Matrix'):\n",
    "    #np.fill_diagonal(CM,0)\n",
    "\n",
    "    plt.figure(figsize = (4,4))\n",
    "    sn.set(font_scale=1.4)#for label size\n",
    "    sn.heatmap(CM, annot=True,annot_kws={\"size\": 16},  fmt='.1f' # fmt='g'\n",
    "               ,xticklabels = labels\n",
    "               ,yticklabels = labels)# font size\n",
    "    plt.xlabel('Predicted')\n",
    "    plt.ylabel('True')\n",
    "    plt.title(title)\n",
    "    plt.show()\n",
    "\n",
    "def Normalisation(X):\n",
    "    #X = X.values\n",
    "    X_mean = X.mean(axis=0)\n",
    "    X_std = X.std(axis=0)\n",
    "    X_norm = (X - X_mean)/X_std\n",
    "    return(X_norm, X_mean, X_std)\n",
    "    \n",
    "def Max_Min_Norm(X):\n",
    "    #X = X.values\n",
    "    X_min = X.min(axis=0)\n",
    "    X_max = X.max(axis=0)\n",
    "    X_norm = (X-X_min)/(X_max-X_min)\n",
    "    return(X_norm, X_min, X_max)\n",
    "\n",
    "plt.style.use('bmh')"
   ]
  },
  {
   "cell_type": "code",
   "execution_count": 2,
   "metadata": {},
   "outputs": [],
   "source": [
    "df = pd.read_csv(\"Data/Train_Data_Aft_FE.csv\")\n",
    "df = df.set_index(\"URN\")\n",
    "K_mean = load('Parameter_Dictionary/k-means.joblib') \n",
    "\n",
    "#Load dictionary that has mean and std for k-means\n",
    "with open('Parameter_Dictionary/K_means_Dict.pickle', 'rb') as handle:\n",
    "    Para_Dict = pickle.load(handle)\n",
    "\n",
    "df.drop([\"Mosaic Group Num\"],axis=1, inplace=True)\n"
   ]
  },
  {
   "cell_type": "markdown",
   "metadata": {},
   "source": [
    "#### These are catergorical variables and for this algorithm they can not be used therefore they are being dropped"
   ]
  },
  {
   "cell_type": "code",
   "execution_count": 3,
   "metadata": {},
   "outputs": [],
   "source": [
    "columns_to_encode =[\n",
    "'SEX',\n",
    "'TITLE',\n",
    "'TOWN',\n",
    "'OAC_Group',\n",
    "'COG_TYPE']\n",
    "\n",
    "for i, col in enumerate(columns_to_encode):\n",
    "    df.drop([col+\"_Encoded\"], axis=1, inplace=True)"
   ]
  },
  {
   "cell_type": "markdown",
   "metadata": {},
   "source": [
    "## Need to add on the customer segments"
   ]
  },
  {
   "cell_type": "code",
   "execution_count": 4,
   "metadata": {},
   "outputs": [],
   "source": [
    "df_k_means = df[['Months Between DateCr and Last Ask',\n",
    "'AGE',\n",
    "#'Mosaic Group Num',\n",
    "'SEXC1',\n",
    "'TOWNC1',\n",
    "'OAC_GroupC1',\n",
    "'COG_TYPEC1',\n",
    "'Mosaic GroupC1',\n",
    "'Total_C1',\n",
    "'NUM_TRANS_LST_24',\n",
    "'DONATED_LST_24',\n",
    "'WRR_EMERG']].copy()\n",
    "\n",
    "df_k_means[\"Recency\"] = np.where((df_k_means['NUM_TRANS_LST_24']>0),1,0)\n",
    "\n",
    "X_k_means = (df_k_means.values - Para_Dict.get(\"K_mean_mean\"))/Para_Dict.get(\"K_mean_std\")"
   ]
  },
  {
   "cell_type": "code",
   "execution_count": 5,
   "metadata": {},
   "outputs": [],
   "source": [
    "df = pd.concat([df,pd.get_dummies(pd.Series(K_mean.predict(X_k_means), index=df.index))],axis=1)"
   ]
  },
  {
   "cell_type": "markdown",
   "metadata": {},
   "source": [
    "df.drop(['Months Between DateCr and Last Ask',\n",
    "'AGE',\n",
    "'SEXC1',\n",
    "'TOWNC1',\n",
    "'OAC_GroupC1',\n",
    "'COG_TYPEC1',\n",
    "'Mosaic GroupC1',\n",
    "'Total_C1',\n",
    "'Total_C0',\n",
    "'NUM_TRANS_LST_24',\n",
    "'DONATED_LST_24'], axis=1, inplace=True)"
   ]
  },
  {
   "cell_type": "code",
   "execution_count": 6,
   "metadata": {},
   "outputs": [],
   "source": [
    "Num_DV_1 = len(df.loc[df[\"DV\"] == 1])\n",
    "\n",
    "df_final = pd.concat([df.loc[df[\"DV\"] == 1], df.loc[df[\"DV\"] == 0].sample(Num_DV_1, random_state=32)]).copy()\n",
    "df_final = df_final.sample(frac=1, random_state=53)#.reset_index(drop=True)"
   ]
  },
  {
   "cell_type": "code",
   "execution_count": 7,
   "metadata": {},
   "outputs": [
    {
     "name": "stdout",
     "output_type": "stream",
     "text": [
      "<class 'pandas.core.frame.DataFrame'>\n",
      "Int64Index: 19036 entries, 87358 to 28144\n",
      "Data columns (total 29 columns):\n",
      "DV                                    19036 non-null int64\n",
      "INCOME                                9518 non-null float64\n",
      "APPEAL_AVG_GIFT                       19036 non-null float64\n",
      "EMERG_AVG_GIFT                        19036 non-null float64\n",
      "EMAIL_FLAG                            19036 non-null int64\n",
      "NUM_ACTIVE_COG                        19036 non-null int64\n",
      "NUM_ATTRITED_COG                      19036 non-null int64\n",
      "NUM_DIFF_COG                          19036 non-null int64\n",
      "TOTAL_YEARLY_CHARGE                   19036 non-null float64\n",
      "TOTAL_NUM_MONTH_PAID                  19036 non-null int64\n",
      "DM_PREVIOUS_12_MONTHS                 19036 non-null int64\n",
      "NUM_TRANS_LST_24                      19036 non-null int64\n",
      "DONATED_LST_24                        19036 non-null float64\n",
      "Months Between DateCr and Last Ask    19036 non-null float64\n",
      "AGE                                   19036 non-null float64\n",
      "SEXC1                                 19036 non-null int64\n",
      "TITLEC1                               19036 non-null int64\n",
      "TOWNC1                                19036 non-null int64\n",
      "OAC_GroupC1                           19036 non-null int64\n",
      "Mosaic GroupC1                        19036 non-null int64\n",
      "COG_TYPEC1                            19036 non-null int64\n",
      "WRR_EMERG                             19036 non-null float64\n",
      "WRR_APP                               19036 non-null float64\n",
      "Total_C1                              19036 non-null float64\n",
      "0                                     19036 non-null uint8\n",
      "1                                     19036 non-null uint8\n",
      "2                                     19036 non-null uint8\n",
      "3                                     19036 non-null uint8\n",
      "4                                     19036 non-null uint8\n",
      "dtypes: float64(10), int64(14), uint8(5)\n",
      "memory usage: 3.7 MB\n"
     ]
    }
   ],
   "source": [
    "df_final.info()"
   ]
  },
  {
   "cell_type": "code",
   "execution_count": 8,
   "metadata": {},
   "outputs": [],
   "source": [
    "y = df_final[\"DV\"].copy()\n",
    "X = df_final.drop([\"DV\",\"INCOME\"],axis=1).copy()"
   ]
  },
  {
   "cell_type": "code",
   "execution_count": 9,
   "metadata": {},
   "outputs": [],
   "source": [
    "X_norm, X_mean, X_std = Normalisation(X.values)\n",
    "\n",
    "#Makes it back into a dataframe far more easily readable\n",
    "X_norm_df = pd.DataFrame(X_norm, columns=X.columns)"
   ]
  },
  {
   "cell_type": "code",
   "execution_count": 10,
   "metadata": {},
   "outputs": [],
   "source": [
    "from sklearn.svm import SVC"
   ]
  },
  {
   "cell_type": "code",
   "execution_count": 12,
   "metadata": {},
   "outputs": [],
   "source": [
    "# Load in the best features found from RFE in logistic regression\n",
    "Features_Ranked = pd.read_csv(\"Data/RFE_Rank.csv\", index_col=0)\n",
    "Features_Ranked.head(5)\n",
    "Best_Features = X_norm_df[Features_Ranked.head(10).index].columns"
   ]
  },
  {
   "cell_type": "markdown",
   "metadata": {},
   "source": [
    "#tuned_parameters = [{ \"degree\": [3,5],\n",
    "#                      \"C\" : [0.1,1,10],\n",
    "#                      \"coef0\": [1],\n",
    "#                    }]\n",
    "\n",
    "tuned_parameters = [{ \"gamma\": [0.1, 1, 10],\n",
    "                      \"C\" : [0.1,1,10],\n",
    "                       }]\n",
    "\n",
    "\n",
    "clf = GridSearchCV(SVC(kernel= \"rbf\" ), tuned_parameters,   cv=5, scoring = 'accuracy', verbose=5)\n",
    "clf.fit(X_norm_df[Features_Ranked.head(10).index], y)\n",
    "print(clf.best_params_)"
   ]
  },
  {
   "cell_type": "code",
   "execution_count": 12,
   "metadata": {
    "scrolled": true
   },
   "outputs": [
    {
     "name": "stdout",
     "output_type": "stream",
     "text": [
      "Kfold:  0\n",
      "Kfold:  1\n",
      "Kfold:  2\n",
      "Kfold:  3\n",
      "Kfold:  4\n",
      "Kfold:  5\n",
      "Kfold:  6\n",
      "Kfold:  7\n",
      "Kfold:  8\n",
      "Kfold:  9\n",
      "Avg Accuracy Train Set: 79.07006792350228\n",
      "Avg Accuracy Test Set: 76.71790339887926\n",
      "\n",
      "Avg Recall: 75.1040144662854\n",
      "Avg Precision: 77.6503296047924\n"
     ]
    }
   ],
   "source": [
    "Best_Features = X_norm_df[Features_Ranked.head(10).index].columns\n",
    "\n",
    "Model = SVC(kernel = 'rbf', gamma= 0.1 ,C = 10, probability=True)\n",
    "Acc_Train = []\n",
    "Acc = []\n",
    "Recall = []\n",
    "Precision = []\n",
    "\n",
    "labels=[1,0]\n",
    "\n",
    "folds = KFold(n_splits=10, shuffle=False)#, random_state=42)\n",
    "\n",
    "for fold_, (trn_idx, val_idx) in enumerate(folds.split(X_norm_df, y)):    \n",
    "    \n",
    "    print(\"Kfold: \",fold_)\n",
    "    \n",
    "    Model.fit(X_norm_df.iloc[trn_idx][Best_Features], y.iloc[trn_idx])\n",
    "\n",
    "    y_pred_prob = Model.predict_proba(X_norm_df.iloc[val_idx][Best_Features])[:,1]\n",
    "    \n",
    "    y_pred = y_pred_prob >= 0.5\n",
    "    \n",
    "    #CM = confusion_matrix(y.iloc[val_idx].values, y_pred, labels)\n",
    "    #Graph_Confusion_Matrix(CM, labels)\n",
    "    \n",
    "    Y_actual = y.iloc[val_idx]\n",
    "    \n",
    "    Acc_Train.append(accuracy_score(y.iloc[trn_idx], Model.predict(X_norm_df.iloc[trn_idx][Best_Features]) >=0.5 )*100)\n",
    "    \n",
    "    Acc.append(accuracy_score(Y_actual, y_pred)*100)\n",
    "    Recall.append(recall_score(Y_actual, y_pred)*100)\n",
    "    Precision.append(precision_score(Y_actual, y_pred)*100)\n",
    "\n",
    "    #print(\"Accuary:\", accuracy_score(Y_actual, y_pred)*100)\n",
    "    #print(\"Recall:\", recall_score(Y_actual, y_pred)*100)\n",
    "    #print(\"Precision:\", precision_score(Y_actual, y_pred)*100)\n",
    "    \n",
    "    if fold_ == 0:\n",
    "        Outcome_df = pd.concat([df_final[[\"DV\",\"INCOME\"]].loc[X.iloc[val_idx].index], \n",
    "           pd.DataFrame(y_pred_prob, index=X.iloc[val_idx].index)],axis=1)\n",
    "    else:\n",
    "        Outcome_df = Outcome_df.append(pd.concat([df_final[[\"DV\",\"INCOME\"]].loc[X.iloc[val_idx].index], \n",
    "           pd.DataFrame(y_pred_prob, index=X.iloc[val_idx].index)],axis=1), sort=False)\n",
    "        \n",
    "Outcome_df.rename(index=str, columns={0:\"Score\"}, inplace=True)\n",
    "\n",
    "print(\"Avg Accuracy Train Set:\", np.mean(Acc_Train))\n",
    "print(\"Avg Accuracy Test Set:\",np.mean(Acc))\n",
    "print(\"\")\n",
    "print(\"Avg Recall:\",np.mean(Recall))\n",
    "print(\"Avg Precision:\",np.mean(Precision))\n",
    "\n",
    "Outcome_df.to_csv(\"Model Outputs/SVC.csv\", index=True)"
   ]
  },
  {
   "cell_type": "code",
   "execution_count": 13,
   "metadata": {},
   "outputs": [
    {
     "data": {
      "image/png": "[encoded data removed]",
      "text/plain": [
       "<Figure size 288x288 with 2 Axes>"
      ]
     },
     "metadata": {},
     "output_type": "display_data"
    },
    {
     "name": "stdout",
     "output_type": "stream",
     "text": [
      "Accuracy: 76.77032990123975\n",
      "Recall: 74.77411220844715\n",
      "Precision: 77.88356314291967\n"
     ]
    }
   ],
   "source": [
    "Boundry = 0.5\n",
    "\n",
    "CM = confusion_matrix(Outcome_df[\"DV\"], Outcome_df[\"Score\"]>=Boundry, labels)\n",
    "\n",
    "#Normalise so is a percentage\n",
    "CM = np.divide(CM,np.sum(CM, axis=1).reshape(2,-1)) * 100\n",
    "\n",
    "Graph_Confusion_Matrix(CM, labels, 'CM Decision Boundary: '+str(Boundry))\n",
    "#plt.savefig(\"SVC Confusion Matrix/CM_D_B_\"+str(Boundry)+\".jpg\")\n",
    "plt.show()\n",
    "\n",
    "print(\"Accuracy:\", accuracy_score(Outcome_df[\"DV\"], Outcome_df[\"Score\"]>Boundry)*100)\n",
    "print(\"Recall:\", recall_score(Outcome_df[\"DV\"], Outcome_df[\"Score\"]>Boundry)*100)\n",
    "print(\"Precision:\", precision_score(Outcome_df[\"DV\"], Outcome_df[\"Score\"]>Boundry)*100)"
   ]
  },
  {
   "cell_type": "code",
   "execution_count": 14,
   "metadata": {},
   "outputs": [],
   "source": [
    "fpr, tpr, _ = roc_curve(Outcome_df[\"DV\"], Outcome_df[\"Score\"])\n",
    "roc_auc = auc(fpr, tpr)"
   ]
  },
  {
   "cell_type": "code",
   "execution_count": 15,
   "metadata": {},
   "outputs": [
    {
     "data": {
      "image/png": "[encoded data removed]",
      "text/plain": [
       "<Figure size 720x432 with 1 Axes>"
      ]
     },
     "metadata": {},
     "output_type": "display_data"
    }
   ],
   "source": [
    "plt.figure(figsize=(10,6))\n",
    "lw = 2\n",
    "plt.plot(fpr, tpr, color='darkorange',\n",
    "         lw=lw, label='ROC curve (area = %0.2f)' % roc_auc)\n",
    "plt.plot([0, 1], [0, 1], color='navy', lw=lw, linestyle='--')\n",
    "plt.xlim([0.0, 1.0])\n",
    "plt.ylim([0.0, 1.05])\n",
    "plt.xlabel('False Positive Rate')\n",
    "plt.ylabel('True Positive Rate')\n",
    "plt.title('Receiver operating characteristic example')\n",
    "plt.legend(loc=\"lower right\")\n",
    "plt.show()"
   ]
  },
  {
   "cell_type": "code",
   "execution_count": 16,
   "metadata": {},
   "outputs": [],
   "source": [
    "Outcome_df[\"Score Band\"] = Outcome_df[\"Score\"].astype(str).str.slice(0,3)"
   ]
  },
  {
   "cell_type": "markdown",
   "metadata": {},
   "source": [
    "### I am now going to do the same to this dataset and add on the customer segments"
   ]
  },
  {
   "cell_type": "code",
   "execution_count": 17,
   "metadata": {},
   "outputs": [],
   "source": [
    "df_Val = pd.read_csv(\"Data/Test_Data_Val_Aft_FE.csv\")\n",
    "df_Val = df_Val.set_index(\"URN\")\n",
    "\n",
    "df_Val.drop([\"Mosaic Group Num\"],axis=1, inplace=True)"
   ]
  },
  {
   "cell_type": "code",
   "execution_count": 18,
   "metadata": {},
   "outputs": [],
   "source": [
    "columns_to_encode =[\n",
    "'SEX',\n",
    "'TITLE',\n",
    "'TOWN',\n",
    "'OAC_Group',\n",
    "'COG_TYPE']\n",
    "\n",
    "for i, col in enumerate(columns_to_encode):\n",
    "    df_Val.drop([col+\"_Encoded\"], axis=1, inplace=True)"
   ]
  },
  {
   "cell_type": "code",
   "execution_count": 19,
   "metadata": {},
   "outputs": [],
   "source": [
    "df_k_means_val = df_Val[['Months Between DateCr and Last Ask',\n",
    "'AGE',\n",
    "#'Mosaic Group Num',\n",
    "'SEXC1',\n",
    "'TOWNC1',\n",
    "'OAC_GroupC1',\n",
    "'COG_TYPEC1',\n",
    "'Mosaic GroupC1',\n",
    "'Total_C1',\n",
    "'NUM_TRANS_LST_24',\n",
    "'DONATED_LST_24',\n",
    "'WRR_EMERG']].copy()\n",
    "\n",
    "df_k_means_val[\"Recency\"] = np.where((df_k_means_val['NUM_TRANS_LST_24']>0),1,0)\n",
    "\n",
    "X_k_means_val = (df_k_means_val.values - Para_Dict.get(\"K_mean_mean\"))/Para_Dict.get(\"K_mean_std\")"
   ]
  },
  {
   "cell_type": "code",
   "execution_count": 20,
   "metadata": {},
   "outputs": [],
   "source": [
    "df_Val = pd.concat([df_Val,pd.get_dummies(pd.Series(K_mean.predict(X_k_means_val), index=df_Val.index))],axis=1)\n",
    "\n",
    "X_val_norm = (df_Val.drop([\"DV\",\"INCOME\"],axis=1).values - X_mean)/X_std\n",
    "\n",
    "#Makes it back into a dataframe far more easily readable\n",
    "X_norm_val_df = pd.DataFrame(X_val_norm, columns=X.columns)"
   ]
  },
  {
   "cell_type": "markdown",
   "metadata": {},
   "source": [
    "## Need to use all of the data to build the model"
   ]
  },
  {
   "cell_type": "code",
   "execution_count": 14,
   "metadata": {},
   "outputs": [
    {
     "data": {
      "text/plain": [
       "SVC(C=10, cache_size=200, class_weight=None, coef0=0.0,\n",
       "  decision_function_shape='ovr', degree=3, gamma=0.1, kernel='rbf',\n",
       "  max_iter=-1, probability=True, random_state=None, shrinking=True,\n",
       "  tol=0.001, verbose=False)"
      ]
     },
     "execution_count": 14,
     "metadata": {},
     "output_type": "execute_result"
    }
   ],
   "source": [
    "Model = SVC(kernel = 'rbf'\n",
    "            ,gamma= 0.1 \n",
    "            ,C = 10\n",
    "            , probability=True)\n",
    "\n",
    "Model.fit(X_norm_df[Best_Features], y)"
   ]
  },
  {
   "cell_type": "markdown",
   "metadata": {},
   "source": [
    "### Save the model to disk"
   ]
  },
  {
   "cell_type": "code",
   "execution_count": 15,
   "metadata": {},
   "outputs": [
    {
     "data": {
      "text/plain": [
       "['Parameter_Dictionary/SVC_rbf.joblib']"
      ]
     },
     "execution_count": 15,
     "metadata": {},
     "output_type": "execute_result"
    }
   ],
   "source": [
    "dump(Model, 'Parameter_Dictionary/SVC_rbf.joblib') "
   ]
  },
  {
   "cell_type": "markdown",
   "metadata": {},
   "source": [
    "#### Let check the net profit and response rate for the unbalanced dataset"
   ]
  },
  {
   "cell_type": "code",
   "execution_count": 21,
   "metadata": {},
   "outputs": [],
   "source": [
    "Results_Val = df_Val[[\"DV\", \"INCOME\"]].copy()\n",
    "Results_Val[\"Score\"] =  Model.predict_proba(X_norm_val_df[Best_Features].values)[:,1]\n",
    "Results_Val[\"Score Band\"] = Results_Val[\"Score\"].astype(str).str.slice(0,3)\n",
    "\n",
    "Results_Val.to_csv(\"Model Outputs/SVC_UB_VAL.csv\", index=True)"
   ]
  },
  {
   "cell_type": "code",
   "execution_count": 22,
   "metadata": {},
   "outputs": [],
   "source": [
    "Results_Val_2 = Results_Val.groupby([\"Score Band\"])[\"INCOME\"].agg([\"count\", \"sum\", \"mean\",\"median\",\"std\" ,\"max\"])\n",
    "Results_Val_2 = pd.concat([Results_Val[\"Score Band\"].value_counts().sort_index(), Results_Val_2],axis=1).rename(index=str\n",
    "                                                                                                                 ,columns={\"count\":\"Donors\"\n",
    "                                                                                                                           ,\"Score Band\": \"Contacted Volume\"\n",
    "                                                                                                                           ,\"sum\": \"Total Value\"\n",
    "                                                                                                                           ,\"mean\": \"Mean Gift\"\n",
    "                                                                                                                           ,\"median\": \"Median Gift\"\n",
    "                                                                                                                           ,\"max\":\"Max Gift\"})\n",
    "\n"
   ]
  },
  {
   "cell_type": "code",
   "execution_count": 23,
   "metadata": {},
   "outputs": [
    {
     "data": {
      "text/html": [
       "<div>\n",
       "<style scoped>\n",
       "    .dataframe tbody tr th:only-of-type {\n",
       "        vertical-align: middle;\n",
       "    }\n",
       "\n",
       "    .dataframe tbody tr th {\n",
       "        vertical-align: top;\n",
       "    }\n",
       "\n",
       "    .dataframe thead th {\n",
       "        text-align: right;\n",
       "    }\n",
       "</style>\n",
       "<table border=\"1\" class=\"dataframe\">\n",
       "  <thead>\n",
       "    <tr style=\"text-align: right;\">\n",
       "      <th></th>\n",
       "      <th>Contacted Volume</th>\n",
       "      <th>Donors</th>\n",
       "      <th>Total Value</th>\n",
       "      <th>Mean Gift</th>\n",
       "      <th>Median Gift</th>\n",
       "      <th>std</th>\n",
       "      <th>Max Gift</th>\n",
       "      <th>Cost</th>\n",
       "      <th>Net Profit</th>\n",
       "      <th>RR</th>\n",
       "    </tr>\n",
       "    <tr>\n",
       "      <th>Score Band</th>\n",
       "      <th></th>\n",
       "      <th></th>\n",
       "      <th></th>\n",
       "      <th></th>\n",
       "      <th></th>\n",
       "      <th></th>\n",
       "      <th></th>\n",
       "      <th></th>\n",
       "      <th></th>\n",
       "      <th></th>\n",
       "    </tr>\n",
       "  </thead>\n",
       "  <tbody>\n",
       "    <tr>\n",
       "      <th>0.0</th>\n",
       "      <td>280</td>\n",
       "      <td>6</td>\n",
       "      <td>420.00</td>\n",
       "      <td>70.000000</td>\n",
       "      <td>75.0</td>\n",
       "      <td>33.466401</td>\n",
       "      <td>100.0</td>\n",
       "      <td>700.0</td>\n",
       "      <td>-280.00</td>\n",
       "      <td>0.021429</td>\n",
       "    </tr>\n",
       "    <tr>\n",
       "      <th>0.1</th>\n",
       "      <td>3286</td>\n",
       "      <td>70</td>\n",
       "      <td>2315.00</td>\n",
       "      <td>33.071429</td>\n",
       "      <td>20.0</td>\n",
       "      <td>27.017075</td>\n",
       "      <td>100.0</td>\n",
       "      <td>8215.0</td>\n",
       "      <td>-5900.00</td>\n",
       "      <td>0.021302</td>\n",
       "    </tr>\n",
       "    <tr>\n",
       "      <th>0.2</th>\n",
       "      <td>4332</td>\n",
       "      <td>148</td>\n",
       "      <td>7298.00</td>\n",
       "      <td>49.310811</td>\n",
       "      <td>30.0</td>\n",
       "      <td>95.038113</td>\n",
       "      <td>1000.0</td>\n",
       "      <td>10830.0</td>\n",
       "      <td>-3532.00</td>\n",
       "      <td>0.034164</td>\n",
       "    </tr>\n",
       "    <tr>\n",
       "      <th>0.3</th>\n",
       "      <td>1079</td>\n",
       "      <td>61</td>\n",
       "      <td>2413.00</td>\n",
       "      <td>39.557377</td>\n",
       "      <td>30.0</td>\n",
       "      <td>35.222400</td>\n",
       "      <td>200.0</td>\n",
       "      <td>2697.5</td>\n",
       "      <td>-284.50</td>\n",
       "      <td>0.056534</td>\n",
       "    </tr>\n",
       "    <tr>\n",
       "      <th>0.4</th>\n",
       "      <td>656</td>\n",
       "      <td>52</td>\n",
       "      <td>2799.81</td>\n",
       "      <td>53.842500</td>\n",
       "      <td>30.0</td>\n",
       "      <td>136.338496</td>\n",
       "      <td>1000.0</td>\n",
       "      <td>1640.0</td>\n",
       "      <td>1159.81</td>\n",
       "      <td>0.079268</td>\n",
       "    </tr>\n",
       "    <tr>\n",
       "      <th>0.5</th>\n",
       "      <td>520</td>\n",
       "      <td>56</td>\n",
       "      <td>2471.00</td>\n",
       "      <td>44.125000</td>\n",
       "      <td>30.0</td>\n",
       "      <td>36.560815</td>\n",
       "      <td>200.0</td>\n",
       "      <td>1300.0</td>\n",
       "      <td>1171.00</td>\n",
       "      <td>0.107692</td>\n",
       "    </tr>\n",
       "    <tr>\n",
       "      <th>0.6</th>\n",
       "      <td>835</td>\n",
       "      <td>96</td>\n",
       "      <td>4237.00</td>\n",
       "      <td>44.135417</td>\n",
       "      <td>30.0</td>\n",
       "      <td>47.149621</td>\n",
       "      <td>300.0</td>\n",
       "      <td>2087.5</td>\n",
       "      <td>2149.50</td>\n",
       "      <td>0.114970</td>\n",
       "    </tr>\n",
       "    <tr>\n",
       "      <th>0.7</th>\n",
       "      <td>996</td>\n",
       "      <td>170</td>\n",
       "      <td>8995.00</td>\n",
       "      <td>52.911765</td>\n",
       "      <td>30.0</td>\n",
       "      <td>85.299045</td>\n",
       "      <td>1000.0</td>\n",
       "      <td>2490.0</td>\n",
       "      <td>6505.00</td>\n",
       "      <td>0.170683</td>\n",
       "    </tr>\n",
       "    <tr>\n",
       "      <th>0.8</th>\n",
       "      <td>1221</td>\n",
       "      <td>483</td>\n",
       "      <td>24802.00</td>\n",
       "      <td>51.349896</td>\n",
       "      <td>30.0</td>\n",
       "      <td>63.680900</td>\n",
       "      <td>520.0</td>\n",
       "      <td>3052.5</td>\n",
       "      <td>21749.50</td>\n",
       "      <td>0.395577</td>\n",
       "    </tr>\n",
       "    <tr>\n",
       "      <th>0.9</th>\n",
       "      <td>255</td>\n",
       "      <td>116</td>\n",
       "      <td>6206.00</td>\n",
       "      <td>53.500000</td>\n",
       "      <td>30.0</td>\n",
       "      <td>73.579593</td>\n",
       "      <td>500.0</td>\n",
       "      <td>637.5</td>\n",
       "      <td>5568.50</td>\n",
       "      <td>0.454902</td>\n",
       "    </tr>\n",
       "  </tbody>\n",
       "</table>\n",
       "</div>"
      ],
      "text/plain": [
       "            Contacted Volume  Donors  Total Value  Mean Gift  Median Gift  \\\n",
       "Score Band                                                                  \n",
       "0.0                      280       6       420.00  70.000000         75.0   \n",
       "0.1                     3286      70      2315.00  33.071429         20.0   \n",
       "0.2                     4332     148      7298.00  49.310811         30.0   \n",
       "0.3                     1079      61      2413.00  39.557377         30.0   \n",
       "0.4                      656      52      2799.81  53.842500         30.0   \n",
       "0.5                      520      56      2471.00  44.125000         30.0   \n",
       "0.6                      835      96      4237.00  44.135417         30.0   \n",
       "0.7                      996     170      8995.00  52.911765         30.0   \n",
       "0.8                     1221     483     24802.00  51.349896         30.0   \n",
       "0.9                      255     116      6206.00  53.500000         30.0   \n",
       "\n",
       "                   std  Max Gift     Cost  Net Profit        RR  \n",
       "Score Band                                                       \n",
       "0.0          33.466401     100.0    700.0     -280.00  0.021429  \n",
       "0.1          27.017075     100.0   8215.0    -5900.00  0.021302  \n",
       "0.2          95.038113    1000.0  10830.0    -3532.00  0.034164  \n",
       "0.3          35.222400     200.0   2697.5     -284.50  0.056534  \n",
       "0.4         136.338496    1000.0   1640.0     1159.81  0.079268  \n",
       "0.5          36.560815     200.0   1300.0     1171.00  0.107692  \n",
       "0.6          47.149621     300.0   2087.5     2149.50  0.114970  \n",
       "0.7          85.299045    1000.0   2490.0     6505.00  0.170683  \n",
       "0.8          63.680900     520.0   3052.5    21749.50  0.395577  \n",
       "0.9          73.579593     500.0    637.5     5568.50  0.454902  "
      ]
     },
     "execution_count": 23,
     "metadata": {},
     "output_type": "execute_result"
    }
   ],
   "source": [
    "Results_Val_2[\"Cost\"]= Results_Val_2[\"Contacted Volume\"] * 2.50\n",
    "Results_Val_2[\"Net Profit\"] = Results_Val_2[\"Total Value\"] - Results_Val_2[\"Cost\"]\n",
    "Results_Val_2[\"RR\"] = (Results_Val_2[\"Donors\"]/Results_Val_2[\"Contacted Volume\"])\n",
    "Results_Val_2"
   ]
  },
  {
   "cell_type": "code",
   "execution_count": 21,
   "metadata": {},
   "outputs": [
    {
     "data": {
      "text/html": [
       "<div>\n",
       "<style scoped>\n",
       "    .dataframe tbody tr th:only-of-type {\n",
       "        vertical-align: middle;\n",
       "    }\n",
       "\n",
       "    .dataframe tbody tr th {\n",
       "        vertical-align: top;\n",
       "    }\n",
       "\n",
       "    .dataframe thead th {\n",
       "        text-align: right;\n",
       "    }\n",
       "</style>\n",
       "<table border=\"1\" class=\"dataframe\">\n",
       "  <thead>\n",
       "    <tr style=\"text-align: right;\">\n",
       "      <th></th>\n",
       "      <th>Contacted Volume</th>\n",
       "      <th>Donors</th>\n",
       "      <th>Total Value</th>\n",
       "      <th>Mean Gift</th>\n",
       "      <th>Median Gift</th>\n",
       "      <th>std</th>\n",
       "      <th>Max Gift</th>\n",
       "      <th>Cost</th>\n",
       "      <th>Net Profit</th>\n",
       "      <th>RR</th>\n",
       "    </tr>\n",
       "    <tr>\n",
       "      <th>Score Band</th>\n",
       "      <th></th>\n",
       "      <th></th>\n",
       "      <th></th>\n",
       "      <th></th>\n",
       "      <th></th>\n",
       "      <th></th>\n",
       "      <th></th>\n",
       "      <th></th>\n",
       "      <th></th>\n",
       "      <th></th>\n",
       "    </tr>\n",
       "  </thead>\n",
       "  <tbody>\n",
       "    <tr>\n",
       "      <th>0.0</th>\n",
       "      <td>263</td>\n",
       "      <td>5</td>\n",
       "      <td>390.00</td>\n",
       "      <td>78.000000</td>\n",
       "      <td>100.0</td>\n",
       "      <td>30.331502</td>\n",
       "      <td>100.0</td>\n",
       "      <td>789</td>\n",
       "      <td>-399.00</td>\n",
       "      <td>1.901141</td>\n",
       "    </tr>\n",
       "    <tr>\n",
       "      <th>0.1</th>\n",
       "      <td>3274</td>\n",
       "      <td>72</td>\n",
       "      <td>2890.00</td>\n",
       "      <td>40.138889</td>\n",
       "      <td>27.5</td>\n",
       "      <td>61.546800</td>\n",
       "      <td>500.0</td>\n",
       "      <td>9822</td>\n",
       "      <td>-6932.00</td>\n",
       "      <td>2.199145</td>\n",
       "    </tr>\n",
       "    <tr>\n",
       "      <th>0.2</th>\n",
       "      <td>4294</td>\n",
       "      <td>149</td>\n",
       "      <td>6968.00</td>\n",
       "      <td>46.765101</td>\n",
       "      <td>30.0</td>\n",
       "      <td>87.197383</td>\n",
       "      <td>1000.0</td>\n",
       "      <td>12882</td>\n",
       "      <td>-5914.00</td>\n",
       "      <td>3.469958</td>\n",
       "    </tr>\n",
       "    <tr>\n",
       "      <th>0.3</th>\n",
       "      <td>1139</td>\n",
       "      <td>58</td>\n",
       "      <td>2173.00</td>\n",
       "      <td>37.465517</td>\n",
       "      <td>30.0</td>\n",
       "      <td>34.124753</td>\n",
       "      <td>200.0</td>\n",
       "      <td>3417</td>\n",
       "      <td>-1244.00</td>\n",
       "      <td>5.092186</td>\n",
       "    </tr>\n",
       "    <tr>\n",
       "      <th>0.4</th>\n",
       "      <td>695</td>\n",
       "      <td>57</td>\n",
       "      <td>3174.81</td>\n",
       "      <td>55.698421</td>\n",
       "      <td>30.0</td>\n",
       "      <td>131.992920</td>\n",
       "      <td>1000.0</td>\n",
       "      <td>2085</td>\n",
       "      <td>1089.81</td>\n",
       "      <td>8.201439</td>\n",
       "    </tr>\n",
       "    <tr>\n",
       "      <th>0.5</th>\n",
       "      <td>707</td>\n",
       "      <td>70</td>\n",
       "      <td>2823.00</td>\n",
       "      <td>40.328571</td>\n",
       "      <td>30.0</td>\n",
       "      <td>35.339645</td>\n",
       "      <td>200.0</td>\n",
       "      <td>2121</td>\n",
       "      <td>702.00</td>\n",
       "      <td>9.900990</td>\n",
       "    </tr>\n",
       "    <tr>\n",
       "      <th>0.6</th>\n",
       "      <td>646</td>\n",
       "      <td>83</td>\n",
       "      <td>3510.00</td>\n",
       "      <td>42.289157</td>\n",
       "      <td>30.0</td>\n",
       "      <td>43.828249</td>\n",
       "      <td>300.0</td>\n",
       "      <td>1938</td>\n",
       "      <td>1572.00</td>\n",
       "      <td>12.848297</td>\n",
       "    </tr>\n",
       "    <tr>\n",
       "      <th>0.7</th>\n",
       "      <td>902</td>\n",
       "      <td>150</td>\n",
       "      <td>8914.00</td>\n",
       "      <td>59.426667</td>\n",
       "      <td>30.0</td>\n",
       "      <td>92.643674</td>\n",
       "      <td>1000.0</td>\n",
       "      <td>2706</td>\n",
       "      <td>6208.00</td>\n",
       "      <td>16.629712</td>\n",
       "    </tr>\n",
       "    <tr>\n",
       "      <th>0.8</th>\n",
       "      <td>1273</td>\n",
       "      <td>489</td>\n",
       "      <td>25758.00</td>\n",
       "      <td>52.674847</td>\n",
       "      <td>30.0</td>\n",
       "      <td>68.554144</td>\n",
       "      <td>520.0</td>\n",
       "      <td>3819</td>\n",
       "      <td>21939.00</td>\n",
       "      <td>38.413197</td>\n",
       "    </tr>\n",
       "    <tr>\n",
       "      <th>0.9</th>\n",
       "      <td>267</td>\n",
       "      <td>125</td>\n",
       "      <td>5356.00</td>\n",
       "      <td>42.848000</td>\n",
       "      <td>30.0</td>\n",
       "      <td>42.367641</td>\n",
       "      <td>200.0</td>\n",
       "      <td>801</td>\n",
       "      <td>4555.00</td>\n",
       "      <td>46.816479</td>\n",
       "    </tr>\n",
       "  </tbody>\n",
       "</table>\n",
       "</div>"
      ],
      "text/plain": [
       "            Contacted Volume  Donors  Total Value  Mean Gift  Median Gift  \\\n",
       "Score Band                                                                  \n",
       "0.0                      263       5       390.00  78.000000        100.0   \n",
       "0.1                     3274      72      2890.00  40.138889         27.5   \n",
       "0.2                     4294     149      6968.00  46.765101         30.0   \n",
       "0.3                     1139      58      2173.00  37.465517         30.0   \n",
       "0.4                      695      57      3174.81  55.698421         30.0   \n",
       "0.5                      707      70      2823.00  40.328571         30.0   \n",
       "0.6                      646      83      3510.00  42.289157         30.0   \n",
       "0.7                      902     150      8914.00  59.426667         30.0   \n",
       "0.8                     1273     489     25758.00  52.674847         30.0   \n",
       "0.9                      267     125      5356.00  42.848000         30.0   \n",
       "\n",
       "                   std  Max Gift   Cost  Net Profit         RR  \n",
       "Score Band                                                      \n",
       "0.0          30.331502     100.0    789     -399.00   1.901141  \n",
       "0.1          61.546800     500.0   9822    -6932.00   2.199145  \n",
       "0.2          87.197383    1000.0  12882    -5914.00   3.469958  \n",
       "0.3          34.124753     200.0   3417    -1244.00   5.092186  \n",
       "0.4         131.992920    1000.0   2085     1089.81   8.201439  \n",
       "0.5          35.339645     200.0   2121      702.00   9.900990  \n",
       "0.6          43.828249     300.0   1938     1572.00  12.848297  \n",
       "0.7          92.643674    1000.0   2706     6208.00  16.629712  \n",
       "0.8          68.554144     520.0   3819    21939.00  38.413197  \n",
       "0.9          42.367641     200.0    801     4555.00  46.816479  "
      ]
     },
     "execution_count": 21,
     "metadata": {},
     "output_type": "execute_result"
    }
   ],
   "source": []
  },
  {
   "cell_type": "markdown",
   "metadata": {},
   "source": [
    "We now want to create a gains and lift chart for the net profit"
   ]
  },
  {
   "cell_type": "code",
   "execution_count": null,
   "metadata": {},
   "outputs": [],
   "source": [
    "Gains_df = Results_Val_2[[\"Contacted Volume\",\"Cost\", \"Total Value\"]].copy()"
   ]
  },
  {
   "cell_type": "code",
   "execution_count": null,
   "metadata": {},
   "outputs": [],
   "source": [
    "#Sort the index\n",
    "Gains_df = Gains_df.sort_index(ascending=False)\n",
    "\n",
    "Gains_df[\"Random Contacted\"] = Gains_df[\"Contacted Volume\"].sum()//10\n",
    "Gains_df[\"Random Cost\"] = Gains_df[\"Cost\"].sum()/10\n",
    "Gains_df[\"Random Total Val\"] = Gains_df[\"Total Value\"].sum()/10\n",
    "\n",
    "#Cumlativbe sum for each column\n",
    "Gains_df = Gains_df.cumsum()"
   ]
  },
  {
   "cell_type": "code",
   "execution_count": null,
   "metadata": {},
   "outputs": [],
   "source": [
    "Gains_df[\"Net Profit\"] = Gains_df[\"Total Value\"] - Gains_df[\"Cost\"]\n",
    "Gains_df[\"Random Net Profit\"] = Gains_df[\"Random Total Val\"] - Gains_df[\"Random Cost\"]\n",
    "Gains_df[\"% Difference\"] = ((Gains_df[\"Net Profit\"] - Gains_df[\"Random Net Profit\"]) / Gains_df[\"Random Net Profit\"])*100\n"
   ]
  },
  {
   "cell_type": "code",
   "execution_count": null,
   "metadata": {},
   "outputs": [],
   "source": [
    "Gains_df[[\"Net Profit\", \"Random Net Profit\", \"% Difference\"]].round(4)"
   ]
  },
  {
   "cell_type": "code",
   "execution_count": null,
   "metadata": {},
   "outputs": [],
   "source": [
    "plt.plot(Gains_df.index, Gains_df[\"Random Total Val\"].values)\n",
    "plt.plot(Gains_df.index, Gains_df[\"Total Value\"].values)"
   ]
  }
 ],
 "metadata": {
  "kernelspec": {
   "display_name": "Python 3",
   "language": "python",
   "name": "python3"
  },
  "language_info": {
   "codemirror_mode": {
    "name": "ipython",
    "version": 3
   },
   "file_extension": ".py",
   "mimetype": "text/x-python",
   "name": "python",
   "nbconvert_exporter": "python",
   "pygments_lexer": "ipython3",
   "version": "3.6.6"
  }
 },
 "nbformat": 4,
 "nbformat_minor": 2
}
