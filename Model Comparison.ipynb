{
 "cells": [
  {
   "cell_type": "code",
   "execution_count": 121,
   "metadata": {},
   "outputs": [],
   "source": [
    "import pandas as pd\n",
    "import seaborn as sn\n",
    "import numpy as np\n",
    "import matplotlib.pyplot as plt\n",
    "\n",
    "from sklearn.metrics import precision_score\n",
    "from sklearn.metrics import recall_score\n",
    "from sklearn.metrics import confusion_matrix\n",
    "from sklearn.metrics import f1_score\n",
    "from sklearn.metrics import accuracy_score\n",
    "from sklearn.metrics import roc_curve, auc\n",
    "\n",
    "def Graph_Confusion_Matrix(CM, labels, title = 'Confusion Matrix'):\n",
    "    #np.fill_diagonal(CM,0)\n",
    "\n",
    "    plt.figure(figsize = (4,4))\n",
    "    sn.set(font_scale=1.4)#for label size\n",
    "    sn.heatmap(CM, annot=True,annot_kws={\"size\": 16},  fmt='.1f' # fmt='g'\n",
    "               ,xticklabels = labels\n",
    "               ,yticklabels = labels)# font size\n",
    "    plt.xlabel('Predicted')\n",
    "    plt.ylabel('True')\n",
    "    plt.title(title)\n",
    "    plt.show()\n",
    "\n",
    "plt.style.use('bmh')"
   ]
  },
  {
   "cell_type": "markdown",
   "metadata": {},
   "source": [
    "## We will first look at the validation results from the balanced data set"
   ]
  },
  {
   "cell_type": "code",
   "execution_count": 2,
   "metadata": {},
   "outputs": [
    {
     "data": {
      "text/plain": [
       "URN\n",
       "87358     0.169362\n",
       "61037     0.299869\n",
       "32157     0.522497\n",
       "113322    0.683530\n",
       "68043     0.360062\n",
       "2869      0.042270\n",
       "30515     0.146856\n",
       "63251     0.976912\n",
       "36223     0.640947\n",
       "71145     0.680031\n",
       "82808     0.043724\n",
       "36034     0.164560\n",
       "108474    0.088740\n",
       "21562     0.117520\n",
       "58662     0.194330\n",
       "93498     0.947295\n",
       "18950     0.910404\n",
       "44395     0.949652\n",
       "3932      0.466767\n",
       "1671      0.453132\n",
       "125277    0.636778\n",
       "15568     0.940144\n",
       "58985     0.595881\n",
       "105764    0.242064\n",
       "78305     0.252896\n",
       "108329    0.631431\n",
       "108480    0.602402\n",
       "11427     0.479108\n",
       "49533     0.138712\n",
       "128136    0.946704\n",
       "            ...   \n",
       "109855    0.388124\n",
       "26384     0.383915\n",
       "98780     0.768179\n",
       "48810     0.072908\n",
       "60465     0.500162\n",
       "4982      0.925732\n",
       "32236     0.963937\n",
       "69780     0.027274\n",
       "77840     0.816944\n",
       "117235    0.213549\n",
       "18426     0.876403\n",
       "98190     0.123353\n",
       "36612     0.956895\n",
       "36985     0.594688\n",
       "104092    0.072454\n",
       "132568    0.234814\n",
       "128132    0.178283\n",
       "88330     0.567406\n",
       "44885     0.709081\n",
       "118183    0.051985\n",
       "14456     0.259300\n",
       "82704     0.235492\n",
       "49912     0.917488\n",
       "11213     0.791093\n",
       "96292     0.031821\n",
       "16326     0.737562\n",
       "13743     0.937856\n",
       "71096     0.818934\n",
       "52231     0.681125\n",
       "28144     0.936096\n",
       "Name: Gradient Boosting, Length: 19036, dtype: float64"
      ]
     },
     "execution_count": 2,
     "metadata": {},
     "output_type": "execute_result"
    }
   ],
   "source": [
    "df_log   = pd.read_csv(\"Model Outputs/Logistic_Regression_10F_3P.csv\", index_col= \"URN\")\n",
    "df_ran_f = pd.read_csv(\"Model Outputs/Random_forest_Tree_128.csv\", index_col= \"URN\" ,usecols= [\"URN\",\"Score\"])[\"Score\"]\n",
    "df_SVC   = pd.read_csv(\"Model Outputs/SVC_C10_Gamma0.1.csv\", index_col= \"URN\" ,usecols= [\"URN\",\"Score\"])[\"Score\"]\n",
    "df_lightGBM   = pd.read_csv(\"Model Outputs/LightGBM.csv\", index_col= \"URN\" ,usecols= [\"URN\",\"Score\"])[\"Score\"]\n",
    "\n",
    "df_log.rename(columns=({\"Score\": \"Logistic\"}), inplace= True)\n",
    "df_ran_f.rename('Random Forest', inplace= True)\n",
    "df_SVC.rename('SVC', inplace= True)\n",
    "df_lightGBM.rename(\"Gradient Boosting\", inplace= True)"
   ]
  },
  {
   "cell_type": "code",
   "execution_count": 3,
   "metadata": {},
   "outputs": [],
   "source": [
    "#Joins all the datasets together\n",
    "df_model_results = pd.concat([df_log,df_SVC ,df_ran_f,df_lightGBM], axis=1)"
   ]
  },
  {
   "cell_type": "code",
   "execution_count": 4,
   "metadata": {},
   "outputs": [
    {
     "data": {
      "text/html": [
       "<div>\n",
       "<style scoped>\n",
       "    .dataframe tbody tr th:only-of-type {\n",
       "        vertical-align: middle;\n",
       "    }\n",
       "\n",
       "    .dataframe tbody tr th {\n",
       "        vertical-align: top;\n",
       "    }\n",
       "\n",
       "    .dataframe thead th {\n",
       "        text-align: right;\n",
       "    }\n",
       "</style>\n",
       "<table border=\"1\" class=\"dataframe\">\n",
       "  <thead>\n",
       "    <tr style=\"text-align: right;\">\n",
       "      <th></th>\n",
       "      <th>DV</th>\n",
       "      <th>INCOME</th>\n",
       "      <th>Logistic</th>\n",
       "      <th>SVC</th>\n",
       "      <th>Random Forest</th>\n",
       "      <th>Gradient Boosting</th>\n",
       "    </tr>\n",
       "    <tr>\n",
       "      <th>URN</th>\n",
       "      <th></th>\n",
       "      <th></th>\n",
       "      <th></th>\n",
       "      <th></th>\n",
       "      <th></th>\n",
       "      <th></th>\n",
       "    </tr>\n",
       "  </thead>\n",
       "  <tbody>\n",
       "    <tr>\n",
       "      <th>87358</th>\n",
       "      <td>0</td>\n",
       "      <td>NaN</td>\n",
       "      <td>0.316865</td>\n",
       "      <td>0.252155</td>\n",
       "      <td>0.165374</td>\n",
       "      <td>0.169362</td>\n",
       "    </tr>\n",
       "    <tr>\n",
       "      <th>61037</th>\n",
       "      <td>0</td>\n",
       "      <td>NaN</td>\n",
       "      <td>0.331206</td>\n",
       "      <td>0.353283</td>\n",
       "      <td>0.335168</td>\n",
       "      <td>0.299869</td>\n",
       "    </tr>\n",
       "    <tr>\n",
       "      <th>32157</th>\n",
       "      <td>1</td>\n",
       "      <td>50.0</td>\n",
       "      <td>0.694613</td>\n",
       "      <td>0.708099</td>\n",
       "      <td>0.484634</td>\n",
       "      <td>0.522497</td>\n",
       "    </tr>\n",
       "    <tr>\n",
       "      <th>113322</th>\n",
       "      <td>1</td>\n",
       "      <td>100.0</td>\n",
       "      <td>0.600821</td>\n",
       "      <td>0.673244</td>\n",
       "      <td>0.662331</td>\n",
       "      <td>0.683530</td>\n",
       "    </tr>\n",
       "    <tr>\n",
       "      <th>68043</th>\n",
       "      <td>1</td>\n",
       "      <td>30.0</td>\n",
       "      <td>0.282660</td>\n",
       "      <td>0.260490</td>\n",
       "      <td>0.357426</td>\n",
       "      <td>0.360062</td>\n",
       "    </tr>\n",
       "    <tr>\n",
       "      <th>2869</th>\n",
       "      <td>0</td>\n",
       "      <td>NaN</td>\n",
       "      <td>0.056949</td>\n",
       "      <td>0.149722</td>\n",
       "      <td>0.047050</td>\n",
       "      <td>0.042270</td>\n",
       "    </tr>\n",
       "    <tr>\n",
       "      <th>30515</th>\n",
       "      <td>0</td>\n",
       "      <td>NaN</td>\n",
       "      <td>0.131057</td>\n",
       "      <td>0.153108</td>\n",
       "      <td>0.202333</td>\n",
       "      <td>0.146856</td>\n",
       "    </tr>\n",
       "    <tr>\n",
       "      <th>63251</th>\n",
       "      <td>1</td>\n",
       "      <td>100.0</td>\n",
       "      <td>0.987399</td>\n",
       "      <td>0.912844</td>\n",
       "      <td>0.942334</td>\n",
       "      <td>0.976912</td>\n",
       "    </tr>\n",
       "    <tr>\n",
       "      <th>36223</th>\n",
       "      <td>1</td>\n",
       "      <td>50.0</td>\n",
       "      <td>0.916283</td>\n",
       "      <td>0.811499</td>\n",
       "      <td>0.780716</td>\n",
       "      <td>0.640947</td>\n",
       "    </tr>\n",
       "    <tr>\n",
       "      <th>71145</th>\n",
       "      <td>1</td>\n",
       "      <td>5.0</td>\n",
       "      <td>0.407406</td>\n",
       "      <td>0.320569</td>\n",
       "      <td>0.647152</td>\n",
       "      <td>0.680031</td>\n",
       "    </tr>\n",
       "    <tr>\n",
       "      <th>82808</th>\n",
       "      <td>0</td>\n",
       "      <td>NaN</td>\n",
       "      <td>0.096084</td>\n",
       "      <td>0.180420</td>\n",
       "      <td>0.045681</td>\n",
       "      <td>0.043724</td>\n",
       "    </tr>\n",
       "    <tr>\n",
       "      <th>36034</th>\n",
       "      <td>0</td>\n",
       "      <td>NaN</td>\n",
       "      <td>0.137794</td>\n",
       "      <td>0.196942</td>\n",
       "      <td>0.120869</td>\n",
       "      <td>0.164560</td>\n",
       "    </tr>\n",
       "    <tr>\n",
       "      <th>108474</th>\n",
       "      <td>0</td>\n",
       "      <td>NaN</td>\n",
       "      <td>0.212259</td>\n",
       "      <td>0.142116</td>\n",
       "      <td>0.116023</td>\n",
       "      <td>0.088740</td>\n",
       "    </tr>\n",
       "    <tr>\n",
       "      <th>21562</th>\n",
       "      <td>1</td>\n",
       "      <td>30.0</td>\n",
       "      <td>0.296238</td>\n",
       "      <td>0.234669</td>\n",
       "      <td>0.145852</td>\n",
       "      <td>0.117520</td>\n",
       "    </tr>\n",
       "    <tr>\n",
       "      <th>58662</th>\n",
       "      <td>0</td>\n",
       "      <td>NaN</td>\n",
       "      <td>0.174311</td>\n",
       "      <td>0.198221</td>\n",
       "      <td>0.225228</td>\n",
       "      <td>0.194330</td>\n",
       "    </tr>\n",
       "    <tr>\n",
       "      <th>93498</th>\n",
       "      <td>1</td>\n",
       "      <td>10.0</td>\n",
       "      <td>0.797318</td>\n",
       "      <td>0.830889</td>\n",
       "      <td>0.928779</td>\n",
       "      <td>0.947295</td>\n",
       "    </tr>\n",
       "    <tr>\n",
       "      <th>18950</th>\n",
       "      <td>0</td>\n",
       "      <td>NaN</td>\n",
       "      <td>0.927295</td>\n",
       "      <td>0.823070</td>\n",
       "      <td>0.892428</td>\n",
       "      <td>0.910404</td>\n",
       "    </tr>\n",
       "    <tr>\n",
       "      <th>44395</th>\n",
       "      <td>1</td>\n",
       "      <td>30.0</td>\n",
       "      <td>0.775721</td>\n",
       "      <td>0.731715</td>\n",
       "      <td>0.893435</td>\n",
       "      <td>0.949652</td>\n",
       "    </tr>\n",
       "    <tr>\n",
       "      <th>3932</th>\n",
       "      <td>1</td>\n",
       "      <td>20.0</td>\n",
       "      <td>0.638667</td>\n",
       "      <td>0.709017</td>\n",
       "      <td>0.508906</td>\n",
       "      <td>0.466767</td>\n",
       "    </tr>\n",
       "    <tr>\n",
       "      <th>1671</th>\n",
       "      <td>1</td>\n",
       "      <td>20.0</td>\n",
       "      <td>0.130959</td>\n",
       "      <td>0.119694</td>\n",
       "      <td>0.344146</td>\n",
       "      <td>0.453132</td>\n",
       "    </tr>\n",
       "    <tr>\n",
       "      <th>125277</th>\n",
       "      <td>0</td>\n",
       "      <td>NaN</td>\n",
       "      <td>0.789185</td>\n",
       "      <td>0.718454</td>\n",
       "      <td>0.684039</td>\n",
       "      <td>0.636778</td>\n",
       "    </tr>\n",
       "    <tr>\n",
       "      <th>15568</th>\n",
       "      <td>1</td>\n",
       "      <td>1000.0</td>\n",
       "      <td>0.963208</td>\n",
       "      <td>0.799213</td>\n",
       "      <td>0.872844</td>\n",
       "      <td>0.940144</td>\n",
       "    </tr>\n",
       "    <tr>\n",
       "      <th>58985</th>\n",
       "      <td>0</td>\n",
       "      <td>NaN</td>\n",
       "      <td>0.599032</td>\n",
       "      <td>0.516828</td>\n",
       "      <td>0.611380</td>\n",
       "      <td>0.595881</td>\n",
       "    </tr>\n",
       "    <tr>\n",
       "      <th>105764</th>\n",
       "      <td>0</td>\n",
       "      <td>NaN</td>\n",
       "      <td>0.285517</td>\n",
       "      <td>0.267131</td>\n",
       "      <td>0.204839</td>\n",
       "      <td>0.242064</td>\n",
       "    </tr>\n",
       "    <tr>\n",
       "      <th>78305</th>\n",
       "      <td>1</td>\n",
       "      <td>10.0</td>\n",
       "      <td>0.290143</td>\n",
       "      <td>0.224618</td>\n",
       "      <td>0.378121</td>\n",
       "      <td>0.252896</td>\n",
       "    </tr>\n",
       "    <tr>\n",
       "      <th>108329</th>\n",
       "      <td>1</td>\n",
       "      <td>50.0</td>\n",
       "      <td>0.411623</td>\n",
       "      <td>0.302019</td>\n",
       "      <td>0.547602</td>\n",
       "      <td>0.631431</td>\n",
       "    </tr>\n",
       "    <tr>\n",
       "      <th>108480</th>\n",
       "      <td>1</td>\n",
       "      <td>20.0</td>\n",
       "      <td>0.294094</td>\n",
       "      <td>0.234150</td>\n",
       "      <td>0.429401</td>\n",
       "      <td>0.602402</td>\n",
       "    </tr>\n",
       "    <tr>\n",
       "      <th>11427</th>\n",
       "      <td>1</td>\n",
       "      <td>200.0</td>\n",
       "      <td>0.612651</td>\n",
       "      <td>0.602342</td>\n",
       "      <td>0.444931</td>\n",
       "      <td>0.479108</td>\n",
       "    </tr>\n",
       "    <tr>\n",
       "      <th>49533</th>\n",
       "      <td>0</td>\n",
       "      <td>NaN</td>\n",
       "      <td>0.050320</td>\n",
       "      <td>0.221489</td>\n",
       "      <td>0.153653</td>\n",
       "      <td>0.138712</td>\n",
       "    </tr>\n",
       "    <tr>\n",
       "      <th>128136</th>\n",
       "      <td>1</td>\n",
       "      <td>15.0</td>\n",
       "      <td>0.800652</td>\n",
       "      <td>0.823340</td>\n",
       "      <td>0.940568</td>\n",
       "      <td>0.946704</td>\n",
       "    </tr>\n",
       "    <tr>\n",
       "      <th>...</th>\n",
       "      <td>...</td>\n",
       "      <td>...</td>\n",
       "      <td>...</td>\n",
       "      <td>...</td>\n",
       "      <td>...</td>\n",
       "      <td>...</td>\n",
       "    </tr>\n",
       "    <tr>\n",
       "      <th>109855</th>\n",
       "      <td>0</td>\n",
       "      <td>NaN</td>\n",
       "      <td>0.261982</td>\n",
       "      <td>0.180755</td>\n",
       "      <td>0.292895</td>\n",
       "      <td>0.388124</td>\n",
       "    </tr>\n",
       "    <tr>\n",
       "      <th>26384</th>\n",
       "      <td>1</td>\n",
       "      <td>50.0</td>\n",
       "      <td>0.596272</td>\n",
       "      <td>0.547602</td>\n",
       "      <td>0.405651</td>\n",
       "      <td>0.383915</td>\n",
       "    </tr>\n",
       "    <tr>\n",
       "      <th>98780</th>\n",
       "      <td>1</td>\n",
       "      <td>30.0</td>\n",
       "      <td>0.588857</td>\n",
       "      <td>0.433787</td>\n",
       "      <td>0.661089</td>\n",
       "      <td>0.768179</td>\n",
       "    </tr>\n",
       "    <tr>\n",
       "      <th>48810</th>\n",
       "      <td>1</td>\n",
       "      <td>30.0</td>\n",
       "      <td>0.097304</td>\n",
       "      <td>0.252593</td>\n",
       "      <td>0.174285</td>\n",
       "      <td>0.072908</td>\n",
       "    </tr>\n",
       "    <tr>\n",
       "      <th>60465</th>\n",
       "      <td>1</td>\n",
       "      <td>100.0</td>\n",
       "      <td>0.329257</td>\n",
       "      <td>0.371390</td>\n",
       "      <td>0.396396</td>\n",
       "      <td>0.500162</td>\n",
       "    </tr>\n",
       "    <tr>\n",
       "      <th>4982</th>\n",
       "      <td>1</td>\n",
       "      <td>100.0</td>\n",
       "      <td>0.784908</td>\n",
       "      <td>0.817170</td>\n",
       "      <td>0.936230</td>\n",
       "      <td>0.925732</td>\n",
       "    </tr>\n",
       "    <tr>\n",
       "      <th>32236</th>\n",
       "      <td>1</td>\n",
       "      <td>40.0</td>\n",
       "      <td>0.988338</td>\n",
       "      <td>0.970613</td>\n",
       "      <td>0.986924</td>\n",
       "      <td>0.963937</td>\n",
       "    </tr>\n",
       "    <tr>\n",
       "      <th>69780</th>\n",
       "      <td>0</td>\n",
       "      <td>NaN</td>\n",
       "      <td>0.013437</td>\n",
       "      <td>0.199065</td>\n",
       "      <td>0.065964</td>\n",
       "      <td>0.027274</td>\n",
       "    </tr>\n",
       "    <tr>\n",
       "      <th>77840</th>\n",
       "      <td>1</td>\n",
       "      <td>100.0</td>\n",
       "      <td>0.752238</td>\n",
       "      <td>0.801947</td>\n",
       "      <td>0.783388</td>\n",
       "      <td>0.816944</td>\n",
       "    </tr>\n",
       "    <tr>\n",
       "      <th>117235</th>\n",
       "      <td>0</td>\n",
       "      <td>NaN</td>\n",
       "      <td>0.228690</td>\n",
       "      <td>0.239362</td>\n",
       "      <td>0.279195</td>\n",
       "      <td>0.213549</td>\n",
       "    </tr>\n",
       "    <tr>\n",
       "      <th>18426</th>\n",
       "      <td>1</td>\n",
       "      <td>25.0</td>\n",
       "      <td>0.764806</td>\n",
       "      <td>0.787655</td>\n",
       "      <td>0.837353</td>\n",
       "      <td>0.876403</td>\n",
       "    </tr>\n",
       "    <tr>\n",
       "      <th>98190</th>\n",
       "      <td>0</td>\n",
       "      <td>NaN</td>\n",
       "      <td>0.274596</td>\n",
       "      <td>0.222439</td>\n",
       "      <td>0.080706</td>\n",
       "      <td>0.123353</td>\n",
       "    </tr>\n",
       "    <tr>\n",
       "      <th>36612</th>\n",
       "      <td>1</td>\n",
       "      <td>55.0</td>\n",
       "      <td>0.928390</td>\n",
       "      <td>0.817534</td>\n",
       "      <td>0.944073</td>\n",
       "      <td>0.956895</td>\n",
       "    </tr>\n",
       "    <tr>\n",
       "      <th>36985</th>\n",
       "      <td>1</td>\n",
       "      <td>60.0</td>\n",
       "      <td>0.525587</td>\n",
       "      <td>0.603700</td>\n",
       "      <td>0.764837</td>\n",
       "      <td>0.594688</td>\n",
       "    </tr>\n",
       "    <tr>\n",
       "      <th>104092</th>\n",
       "      <td>0</td>\n",
       "      <td>NaN</td>\n",
       "      <td>0.249767</td>\n",
       "      <td>0.215022</td>\n",
       "      <td>0.084474</td>\n",
       "      <td>0.072454</td>\n",
       "    </tr>\n",
       "    <tr>\n",
       "      <th>132568</th>\n",
       "      <td>0</td>\n",
       "      <td>NaN</td>\n",
       "      <td>0.088896</td>\n",
       "      <td>0.141502</td>\n",
       "      <td>0.102084</td>\n",
       "      <td>0.234814</td>\n",
       "    </tr>\n",
       "    <tr>\n",
       "      <th>128132</th>\n",
       "      <td>0</td>\n",
       "      <td>NaN</td>\n",
       "      <td>0.059007</td>\n",
       "      <td>0.009168</td>\n",
       "      <td>0.217644</td>\n",
       "      <td>0.178283</td>\n",
       "    </tr>\n",
       "    <tr>\n",
       "      <th>88330</th>\n",
       "      <td>0</td>\n",
       "      <td>NaN</td>\n",
       "      <td>0.575114</td>\n",
       "      <td>0.730690</td>\n",
       "      <td>0.593590</td>\n",
       "      <td>0.567406</td>\n",
       "    </tr>\n",
       "    <tr>\n",
       "      <th>44885</th>\n",
       "      <td>0</td>\n",
       "      <td>NaN</td>\n",
       "      <td>0.871548</td>\n",
       "      <td>0.832021</td>\n",
       "      <td>0.486932</td>\n",
       "      <td>0.709081</td>\n",
       "    </tr>\n",
       "    <tr>\n",
       "      <th>118183</th>\n",
       "      <td>0</td>\n",
       "      <td>NaN</td>\n",
       "      <td>0.110361</td>\n",
       "      <td>0.181115</td>\n",
       "      <td>0.042124</td>\n",
       "      <td>0.051985</td>\n",
       "    </tr>\n",
       "    <tr>\n",
       "      <th>14456</th>\n",
       "      <td>0</td>\n",
       "      <td>NaN</td>\n",
       "      <td>0.601888</td>\n",
       "      <td>0.489461</td>\n",
       "      <td>0.363301</td>\n",
       "      <td>0.259300</td>\n",
       "    </tr>\n",
       "    <tr>\n",
       "      <th>82704</th>\n",
       "      <td>1</td>\n",
       "      <td>30.0</td>\n",
       "      <td>0.638484</td>\n",
       "      <td>0.720026</td>\n",
       "      <td>0.306258</td>\n",
       "      <td>0.235492</td>\n",
       "    </tr>\n",
       "    <tr>\n",
       "      <th>49912</th>\n",
       "      <td>1</td>\n",
       "      <td>50.0</td>\n",
       "      <td>0.664771</td>\n",
       "      <td>0.750819</td>\n",
       "      <td>0.845341</td>\n",
       "      <td>0.917488</td>\n",
       "    </tr>\n",
       "    <tr>\n",
       "      <th>11213</th>\n",
       "      <td>1</td>\n",
       "      <td>20.0</td>\n",
       "      <td>0.705748</td>\n",
       "      <td>0.792130</td>\n",
       "      <td>0.713924</td>\n",
       "      <td>0.791093</td>\n",
       "    </tr>\n",
       "    <tr>\n",
       "      <th>96292</th>\n",
       "      <td>0</td>\n",
       "      <td>NaN</td>\n",
       "      <td>0.038988</td>\n",
       "      <td>0.186215</td>\n",
       "      <td>0.047912</td>\n",
       "      <td>0.031821</td>\n",
       "    </tr>\n",
       "    <tr>\n",
       "      <th>16326</th>\n",
       "      <td>1</td>\n",
       "      <td>200.0</td>\n",
       "      <td>0.640778</td>\n",
       "      <td>0.830470</td>\n",
       "      <td>0.505792</td>\n",
       "      <td>0.737562</td>\n",
       "    </tr>\n",
       "    <tr>\n",
       "      <th>13743</th>\n",
       "      <td>1</td>\n",
       "      <td>100.0</td>\n",
       "      <td>0.853513</td>\n",
       "      <td>0.930289</td>\n",
       "      <td>0.954842</td>\n",
       "      <td>0.937856</td>\n",
       "    </tr>\n",
       "    <tr>\n",
       "      <th>71096</th>\n",
       "      <td>1</td>\n",
       "      <td>30.0</td>\n",
       "      <td>0.806291</td>\n",
       "      <td>0.883548</td>\n",
       "      <td>0.895295</td>\n",
       "      <td>0.818934</td>\n",
       "    </tr>\n",
       "    <tr>\n",
       "      <th>52231</th>\n",
       "      <td>0</td>\n",
       "      <td>NaN</td>\n",
       "      <td>0.813366</td>\n",
       "      <td>0.863838</td>\n",
       "      <td>0.775210</td>\n",
       "      <td>0.681125</td>\n",
       "    </tr>\n",
       "    <tr>\n",
       "      <th>28144</th>\n",
       "      <td>1</td>\n",
       "      <td>100.0</td>\n",
       "      <td>0.911834</td>\n",
       "      <td>0.863619</td>\n",
       "      <td>0.956438</td>\n",
       "      <td>0.936096</td>\n",
       "    </tr>\n",
       "  </tbody>\n",
       "</table>\n",
       "<p>19036 rows × 6 columns</p>\n",
       "</div>"
      ],
      "text/plain": [
       "        DV  INCOME  Logistic       SVC  Random Forest  Gradient Boosting\n",
       "URN                                                                     \n",
       "87358    0     NaN  0.316865  0.252155       0.165374           0.169362\n",
       "61037    0     NaN  0.331206  0.353283       0.335168           0.299869\n",
       "32157    1    50.0  0.694613  0.708099       0.484634           0.522497\n",
       "113322   1   100.0  0.600821  0.673244       0.662331           0.683530\n",
       "68043    1    30.0  0.282660  0.260490       0.357426           0.360062\n",
       "2869     0     NaN  0.056949  0.149722       0.047050           0.042270\n",
       "30515    0     NaN  0.131057  0.153108       0.202333           0.146856\n",
       "63251    1   100.0  0.987399  0.912844       0.942334           0.976912\n",
       "36223    1    50.0  0.916283  0.811499       0.780716           0.640947\n",
       "71145    1     5.0  0.407406  0.320569       0.647152           0.680031\n",
       "82808    0     NaN  0.096084  0.180420       0.045681           0.043724\n",
       "36034    0     NaN  0.137794  0.196942       0.120869           0.164560\n",
       "108474   0     NaN  0.212259  0.142116       0.116023           0.088740\n",
       "21562    1    30.0  0.296238  0.234669       0.145852           0.117520\n",
       "58662    0     NaN  0.174311  0.198221       0.225228           0.194330\n",
       "93498    1    10.0  0.797318  0.830889       0.928779           0.947295\n",
       "18950    0     NaN  0.927295  0.823070       0.892428           0.910404\n",
       "44395    1    30.0  0.775721  0.731715       0.893435           0.949652\n",
       "3932     1    20.0  0.638667  0.709017       0.508906           0.466767\n",
       "1671     1    20.0  0.130959  0.119694       0.344146           0.453132\n",
       "125277   0     NaN  0.789185  0.718454       0.684039           0.636778\n",
       "15568    1  1000.0  0.963208  0.799213       0.872844           0.940144\n",
       "58985    0     NaN  0.599032  0.516828       0.611380           0.595881\n",
       "105764   0     NaN  0.285517  0.267131       0.204839           0.242064\n",
       "78305    1    10.0  0.290143  0.224618       0.378121           0.252896\n",
       "108329   1    50.0  0.411623  0.302019       0.547602           0.631431\n",
       "108480   1    20.0  0.294094  0.234150       0.429401           0.602402\n",
       "11427    1   200.0  0.612651  0.602342       0.444931           0.479108\n",
       "49533    0     NaN  0.050320  0.221489       0.153653           0.138712\n",
       "128136   1    15.0  0.800652  0.823340       0.940568           0.946704\n",
       "...     ..     ...       ...       ...            ...                ...\n",
       "109855   0     NaN  0.261982  0.180755       0.292895           0.388124\n",
       "26384    1    50.0  0.596272  0.547602       0.405651           0.383915\n",
       "98780    1    30.0  0.588857  0.433787       0.661089           0.768179\n",
       "48810    1    30.0  0.097304  0.252593       0.174285           0.072908\n",
       "60465    1   100.0  0.329257  0.371390       0.396396           0.500162\n",
       "4982     1   100.0  0.784908  0.817170       0.936230           0.925732\n",
       "32236    1    40.0  0.988338  0.970613       0.986924           0.963937\n",
       "69780    0     NaN  0.013437  0.199065       0.065964           0.027274\n",
       "77840    1   100.0  0.752238  0.801947       0.783388           0.816944\n",
       "117235   0     NaN  0.228690  0.239362       0.279195           0.213549\n",
       "18426    1    25.0  0.764806  0.787655       0.837353           0.876403\n",
       "98190    0     NaN  0.274596  0.222439       0.080706           0.123353\n",
       "36612    1    55.0  0.928390  0.817534       0.944073           0.956895\n",
       "36985    1    60.0  0.525587  0.603700       0.764837           0.594688\n",
       "104092   0     NaN  0.249767  0.215022       0.084474           0.072454\n",
       "132568   0     NaN  0.088896  0.141502       0.102084           0.234814\n",
       "128132   0     NaN  0.059007  0.009168       0.217644           0.178283\n",
       "88330    0     NaN  0.575114  0.730690       0.593590           0.567406\n",
       "44885    0     NaN  0.871548  0.832021       0.486932           0.709081\n",
       "118183   0     NaN  0.110361  0.181115       0.042124           0.051985\n",
       "14456    0     NaN  0.601888  0.489461       0.363301           0.259300\n",
       "82704    1    30.0  0.638484  0.720026       0.306258           0.235492\n",
       "49912    1    50.0  0.664771  0.750819       0.845341           0.917488\n",
       "11213    1    20.0  0.705748  0.792130       0.713924           0.791093\n",
       "96292    0     NaN  0.038988  0.186215       0.047912           0.031821\n",
       "16326    1   200.0  0.640778  0.830470       0.505792           0.737562\n",
       "13743    1   100.0  0.853513  0.930289       0.954842           0.937856\n",
       "71096    1    30.0  0.806291  0.883548       0.895295           0.818934\n",
       "52231    0     NaN  0.813366  0.863838       0.775210           0.681125\n",
       "28144    1   100.0  0.911834  0.863619       0.956438           0.936096\n",
       "\n",
       "[19036 rows x 6 columns]"
      ]
     },
     "execution_count": 4,
     "metadata": {},
     "output_type": "execute_result"
    }
   ],
   "source": [
    "df_model_results"
   ]
  },
  {
   "cell_type": "code",
   "execution_count": 5,
   "metadata": {},
   "outputs": [
    {
     "data": {
      "text/plain": [
       "Text(0.5, 0.98, 'Confusion Matrices with Boundry:0.5')"
      ]
     },
     "execution_count": 5,
     "metadata": {},
     "output_type": "execute_result"
    },
    {
     "data": {
      "image/png": "[encoded data removed]",
      "text/plain": [
       "<Figure size 432x432 with 4 Axes>"
      ]
     },
     "metadata": {
      "needs_background": "light"
     },
     "output_type": "display_data"
    }
   ],
   "source": [
    "fig, ax = plt.subplots(nrows=2, ncols=2, figsize=(6,6))\n",
    "fig.tight_layout(rect=[0, 0, 1, 0.95])\n",
    "\n",
    "Boundry = 0.5\n",
    "\n",
    "labels = [1,0]\n",
    "\n",
    "count = 0\n",
    "for i, col in enumerate(df_model_results.drop([\"DV\", \"INCOME\"], axis=1).columns):\n",
    "        \n",
    "    CM = confusion_matrix(df_model_results[\"DV\"], df_model_results[col]>=Boundry, labels)\n",
    "    \n",
    "    #So we can set the heatmap colour bar to only one columns of cm\n",
    "    if count == 1: True_Flag= True\n",
    "    else: True_Flag= False\n",
    "        \n",
    "    #Normalise so is a percentage\n",
    "    CM = np.divide(CM,np.sum(CM, axis=1).reshape(2,-1)) * 100\n",
    "\n",
    "    sn.set(font_scale=1.4)#for label size\n",
    "    sn.heatmap(CM, annot=True,annot_kws={\"size\": 14},  fmt='.1f' # fmt='g'\n",
    "               ,xticklabels = labels\n",
    "               ,yticklabels = labels\n",
    "               ,cbar= False\n",
    "               ,ax=ax[i//2,count])# font size\n",
    "    ax[1, count].set_xlabel('Predicted', size=14)\n",
    "    ax[i//2, 0].set_ylabel('True')\n",
    "    ax[i//2, count].set_title(col, size=14)\n",
    "    \n",
    "    #print(str(i//2), str(count))\n",
    "    \n",
    "    count = count + 1\n",
    "    if count == 2: count = 0\n",
    "        \n",
    "fig.suptitle(\"Confusion Matrices with Boundry:\"+str(Boundry), fontsize=14)"
   ]
  },
  {
   "cell_type": "code",
   "execution_count": 6,
   "metadata": {},
   "outputs": [
    {
     "data": {
      "image/png": "[encoded data removed]",
      "text/plain": [
       "<Figure size 720x432 with 1 Axes>"
      ]
     },
     "metadata": {},
     "output_type": "display_data"
    }
   ],
   "source": [
    "plt.figure(figsize=(10,6))\n",
    "\n",
    "for i, col in enumerate(df_model_results.drop([\"DV\", \"INCOME\"], axis=1).columns):\n",
    "    \n",
    "    fpr, tpr, _ = roc_curve(df_model_results[\"DV\"], df_model_results[col])\n",
    "    roc_auc = auc(fpr, tpr)\n",
    "\n",
    "    lw = 2\n",
    "    plt.plot(fpr, tpr, #color='darkorange',\n",
    "             lw=lw, label= col + ' (AUC = %0.2f)' % roc_auc)\n",
    "    plt.plot([0, 1], [0, 1], color='navy', lw=lw, linestyle='--')\n",
    "    plt.xlim([0.0, 1.0])\n",
    "    plt.ylim([0.0, 1.05])\n",
    "    \n",
    "    plt.xticks(np.linspace(0,1,11))\n",
    "    plt.yticks(np.linspace(0,1,11))\n",
    "    \n",
    "    plt.xlabel('False Positive Rate')\n",
    "    plt.ylabel('True Positive Rate')\n",
    "    plt.title('Receiver operating characteristic (10 Kfold Sample)')\n",
    "    plt.legend(loc=\"lower right\")\n",
    "    \n",
    "plt.show()"
   ]
  },
  {
   "cell_type": "markdown",
   "metadata": {},
   "source": [
    "## Now lets look at how each type of model performs on our validation set with 10/90 split"
   ]
  },
  {
   "cell_type": "code",
   "execution_count": 7,
   "metadata": {},
   "outputs": [
    {
     "data": {
      "text/plain": [
       "URN\n",
       "95032     0.202647\n",
       "75146     0.202647\n",
       "59253     0.202647\n",
       "9309      0.059711\n",
       "121899    0.364339\n",
       "49387     0.131701\n",
       "122228    0.986037\n",
       "28352     0.130097\n",
       "57015     0.642991\n",
       "46767     0.240008\n",
       "128703    0.989547\n",
       "20952     0.164453\n",
       "49493     0.195553\n",
       "109035    0.605427\n",
       "66099     0.618804\n",
       "10209     0.969445\n",
       "66568     0.994112\n",
       "22150     0.989870\n",
       "2940      0.993191\n",
       "77431     0.452006\n",
       "82743     0.202647\n",
       "72595     0.481700\n",
       "10600     0.941859\n",
       "37146     0.980404\n",
       "40722     0.151453\n",
       "77340     0.244450\n",
       "132310    0.239680\n",
       "105281    0.077996\n",
       "443       0.059695\n",
       "10589     0.974828\n",
       "            ...   \n",
       "67436     0.202647\n",
       "119347    0.986911\n",
       "84655     0.211774\n",
       "129982    0.433103\n",
       "65726     0.279515\n",
       "123856    0.342196\n",
       "2748      0.063645\n",
       "130524    0.978099\n",
       "122538    0.933997\n",
       "84479     0.149829\n",
       "130609    0.149932\n",
       "85306     0.892030\n",
       "103356    0.202647\n",
       "5312      0.940759\n",
       "64926     0.154206\n",
       "59736     0.473919\n",
       "770       0.026441\n",
       "64821     0.605427\n",
       "67222     0.996151\n",
       "41091     0.988319\n",
       "16024     0.996399\n",
       "126325    0.372513\n",
       "112728    0.611649\n",
       "87499     0.244450\n",
       "54887     0.978331\n",
       "110269    0.272148\n",
       "119880    0.572002\n",
       "103695    0.192719\n",
       "131933    0.988856\n",
       "121959    0.141696\n",
       "Name: Gradient Boosting, Length: 13460, dtype: float64"
      ]
     },
     "execution_count": 7,
     "metadata": {},
     "output_type": "execute_result"
    }
   ],
   "source": [
    "df_log_UB   = pd.read_csv(\"Model Outputs/Logistic_Regression_UB_VAL.csv\", index_col= \"URN\")\n",
    "\n",
    "df_log_UB.drop([\"Score Band\"], axis=1, inplace=True)\n",
    "\n",
    "df_ran_f_UB = pd.read_csv(\"Model Outputs/RF_UB_VAL.csv\", index_col= \"URN\" ,usecols= [\"URN\",\"Score\"])[\"Score\"]\n",
    "df_SVC_UB   = pd.read_csv(\"Model Outputs/SVC_UB_VAL.csv\", index_col= \"URN\" ,usecols= [\"URN\",\"Score\"])[\"Score\"]\n",
    "df_lightGBM_UB   = pd.read_csv(\"Model Outputs/LightGBM_UB_VAL.csv\", index_col= \"URN\" ,usecols= [\"URN\",\"Score\"])[\"Score\"]\n",
    "\n",
    "df_log_UB.rename(columns=({\"Score\": \"Logistic\"}), inplace= True)\n",
    "df_ran_f_UB.rename('Random Forest', inplace= True)\n",
    "df_SVC_UB.rename('SVC', inplace= True)\n",
    "df_lightGBM_UB.rename(\"Gradient Boosting\", inplace= True)"
   ]
  },
  {
   "cell_type": "code",
   "execution_count": 8,
   "metadata": {},
   "outputs": [],
   "source": [
    "#Joins all the datasets together\n",
    "df_model_results_UB = pd.concat([df_log_UB, df_SVC_UB ,df_ran_f_UB,df_lightGBM_UB], axis=1)"
   ]
  },
  {
   "cell_type": "code",
   "execution_count": 9,
   "metadata": {},
   "outputs": [
    {
     "data": {
      "image/png": "[encoded data removed]",
      "text/plain": [
       "<Figure size 720x432 with 1 Axes>"
      ]
     },
     "metadata": {},
     "output_type": "display_data"
    }
   ],
   "source": [
    "plt.figure(figsize=(10,6))\n",
    "\n",
    "for i, col in enumerate(df_model_results_UB.drop([\"DV\", \"INCOME\"], axis=1).columns):\n",
    "    \n",
    "    fpr, tpr, _ = roc_curve(df_model_results_UB[\"DV\"], df_model_results_UB[col])\n",
    "    roc_auc = auc(fpr, tpr)\n",
    "\n",
    "    lw = 2\n",
    "    plt.plot(fpr, tpr, #color='darkorange',\n",
    "             lw=lw, label= col + ' (AUC = %0.2f)' % roc_auc)\n",
    "    plt.plot([0, 1], [0, 1], color='navy', lw=lw, linestyle='--')\n",
    "    plt.xlim([0.0, 1.0])\n",
    "    plt.ylim([0.0, 1.05])\n",
    "    \n",
    "    plt.xticks(np.linspace(0,1,11))\n",
    "    plt.yticks(np.linspace(0,1,11))\n",
    "    \n",
    "    plt.xlabel('False Positive Rate')\n",
    "    plt.ylabel('True Positive Rate')\n",
    "    plt.title('Receiver operating characteristic (Validation Sample)')\n",
    "    plt.legend(loc=\"lower right\")\n",
    "    \n",
    "plt.show()"
   ]
  },
  {
   "cell_type": "code",
   "execution_count": 10,
   "metadata": {},
   "outputs": [
    {
     "data": {
      "text/plain": [
       "Text(0.5, 0.98, 'Confusion Matrices  with Boundry:0.5')"
      ]
     },
     "execution_count": 10,
     "metadata": {},
     "output_type": "execute_result"
    },
    {
     "data": {
      "image/png": "[encoded data removed]",
      "text/plain": [
       "<Figure size 432x432 with 4 Axes>"
      ]
     },
     "metadata": {},
     "output_type": "display_data"
    }
   ],
   "source": [
    "fig, ax = plt.subplots(nrows=2, ncols=2, figsize=(6,6))\n",
    "fig.tight_layout(rect=[0, 0, 1, 0.95])\n",
    "\n",
    "Boundry = 0.5\n",
    "\n",
    "labels = [1,0]\n",
    "\n",
    "count = 0\n",
    "for i, col in enumerate(df_model_results_UB.drop([\"DV\", \"INCOME\"], axis=1).columns):\n",
    "        \n",
    "    CM = confusion_matrix(df_model_results_UB[\"DV\"], df_model_results_UB[col]>=Boundry, labels)\n",
    "    \n",
    "    #So we can set the heatmap colour bar to only one columns of cm\n",
    "    if count == 1: True_Flag= True\n",
    "    else: True_Flag= False\n",
    "        \n",
    "    #Normalise so is a percentage\n",
    "    CM = np.divide(CM,np.sum(CM, axis=1).reshape(2,-1)) * 100\n",
    "\n",
    "    sn.set(font_scale=1.4)#for label size\n",
    "    sn.heatmap(CM, annot=True,annot_kws={\"size\": 14},  fmt='.1f' # fmt='g'\n",
    "               ,xticklabels = labels\n",
    "               ,yticklabels = labels\n",
    "               ,cbar= False\n",
    "               ,ax=ax[i//2,count])# font size\n",
    "    ax[1, count].set_xlabel('Predicted', size=14)\n",
    "    ax[i//2, 0].set_ylabel('True')\n",
    "    ax[i//2, count].set_title(col, size=14)\n",
    "    \n",
    "    #print(str(i//2), str(count))\n",
    "    \n",
    "    count = count + 1\n",
    "    if count == 2: count = 0\n",
    "        \n",
    "fig.suptitle(\"Confusion Matrices  with Boundry:\"+str(Boundry), fontsize=14)"
   ]
  },
  {
   "cell_type": "markdown",
   "metadata": {},
   "source": [
    "## So we have picked the random forest as it has proven to be the best model\n",
    "\n",
    "We now want to produce some visuals for this model"
   ]
  },
  {
   "cell_type": "code",
   "execution_count": 95,
   "metadata": {},
   "outputs": [],
   "source": [
    "df_final = pd.read_csv(\"Data/Model_Test_Results.csv\", index_col=\"URN\")"
   ]
  },
  {
   "cell_type": "code",
   "execution_count": 96,
   "metadata": {},
   "outputs": [
    {
     "data": {
      "text/html": [
       "<div>\n",
       "<style scoped>\n",
       "    .dataframe tbody tr th:only-of-type {\n",
       "        vertical-align: middle;\n",
       "    }\n",
       "\n",
       "    .dataframe tbody tr th {\n",
       "        vertical-align: top;\n",
       "    }\n",
       "\n",
       "    .dataframe thead th {\n",
       "        text-align: right;\n",
       "    }\n",
       "</style>\n",
       "<table border=\"1\" class=\"dataframe\">\n",
       "  <thead>\n",
       "    <tr style=\"text-align: right;\">\n",
       "      <th></th>\n",
       "      <th>DV</th>\n",
       "      <th>INCOME</th>\n",
       "      <th>Score</th>\n",
       "      <th>Score Band</th>\n",
       "    </tr>\n",
       "    <tr>\n",
       "      <th>URN</th>\n",
       "      <th></th>\n",
       "      <th></th>\n",
       "      <th></th>\n",
       "      <th></th>\n",
       "    </tr>\n",
       "  </thead>\n",
       "  <tbody>\n",
       "    <tr>\n",
       "      <th>116161</th>\n",
       "      <td>0</td>\n",
       "      <td>NaN</td>\n",
       "      <td>0.540143</td>\n",
       "      <td>0.5</td>\n",
       "    </tr>\n",
       "    <tr>\n",
       "      <th>57204</th>\n",
       "      <td>0</td>\n",
       "      <td>NaN</td>\n",
       "      <td>0.013378</td>\n",
       "      <td>0.0</td>\n",
       "    </tr>\n",
       "    <tr>\n",
       "      <th>43939</th>\n",
       "      <td>0</td>\n",
       "      <td>NaN</td>\n",
       "      <td>0.467496</td>\n",
       "      <td>0.4</td>\n",
       "    </tr>\n",
       "    <tr>\n",
       "      <th>110525</th>\n",
       "      <td>0</td>\n",
       "      <td>NaN</td>\n",
       "      <td>0.119184</td>\n",
       "      <td>0.1</td>\n",
       "    </tr>\n",
       "    <tr>\n",
       "      <th>86514</th>\n",
       "      <td>0</td>\n",
       "      <td>NaN</td>\n",
       "      <td>0.030520</td>\n",
       "      <td>0.0</td>\n",
       "    </tr>\n",
       "  </tbody>\n",
       "</table>\n",
       "</div>"
      ],
      "text/plain": [
       "        DV  INCOME     Score  Score Band\n",
       "URN                                     \n",
       "116161   0     NaN  0.540143         0.5\n",
       "57204    0     NaN  0.013378         0.0\n",
       "43939    0     NaN  0.467496         0.4\n",
       "110525   0     NaN  0.119184         0.1\n",
       "86514    0     NaN  0.030520         0.0"
      ]
     },
     "execution_count": 96,
     "metadata": {},
     "output_type": "execute_result"
    }
   ],
   "source": [
    "df_final.head(5)"
   ]
  },
  {
   "cell_type": "code",
   "execution_count": 123,
   "metadata": {},
   "outputs": [
    {
     "data": {
      "image/png": "[encoded data removed]",
      "text/plain": [
       "<Figure size 288x288 with 2 Axes>"
      ]
     },
     "metadata": {},
     "output_type": "display_data"
    },
    {
     "name": "stdout",
     "output_type": "stream",
     "text": [
      "Accuracy: 70.475\n",
      "Recall: 83.9442436757873\n",
      "Precision: 22.520775623268698\n"
     ]
    }
   ],
   "source": [
    "Boundry = 0.4\n",
    "\n",
    "CM = confusion_matrix(df_final[\"DV\"], df_final[\"Score\"]>=Boundry, labels)\n",
    "\n",
    "#Normalise so is a percentage\n",
    "CM = np.divide(CM,np.sum(CM, axis=1).reshape(2,-1)) * 100\n",
    "\n",
    "Graph_Confusion_Matrix(CM, labels, 'CM Decision Boundary: '+str(Boundry))\n",
    "\n",
    "print(\"Accuracy:\", accuracy_score(df_final[\"DV\"], df_final[\"Score\"]>Boundry)*100)\n",
    "print(\"Recall:\", recall_score(df_final[\"DV\"], df_final[\"Score\"]>Boundry)*100)\n",
    "print(\"Precision:\", precision_score(df_final[\"DV\"], df_final[\"Score\"]>Boundry)*100)"
   ]
  },
  {
   "cell_type": "code",
   "execution_count": 98,
   "metadata": {},
   "outputs": [],
   "source": [
    "RF_df_2 = df_final.groupby([\"Score Band\"])[\"INCOME\"].agg([\"count\", \"sum\", \"mean\",\"median\",\"std\" ,\"max\"])\n",
    "RF_df_2 = pd.concat([df_final[\"Score Band\"].value_counts().sort_index(), RF_df_2],axis=1).rename(index=str\n",
    "                                                                                                                 ,columns={\"count\":\"Donors\"\n",
    "                                                                                                                           ,\"Score Band\": \"Contacted Volume\"\n",
    "                                                                                                                           ,\"sum\": \"Total Value\"\n",
    "                                                                                                                           ,\"mean\": \"Mean Gift\"\n",
    "                                                                                                                           ,\"median\": \"Median Gift\"\n",
    "                                                                                                                           ,\"max\":\"Max Gift\"})\n",
    "\n"
   ]
  },
  {
   "cell_type": "code",
   "execution_count": 99,
   "metadata": {
    "scrolled": true
   },
   "outputs": [
    {
     "data": {
      "text/html": [
       "<div>\n",
       "<style scoped>\n",
       "    .dataframe tbody tr th:only-of-type {\n",
       "        vertical-align: middle;\n",
       "    }\n",
       "\n",
       "    .dataframe tbody tr th {\n",
       "        vertical-align: top;\n",
       "    }\n",
       "\n",
       "    .dataframe thead th {\n",
       "        text-align: right;\n",
       "    }\n",
       "</style>\n",
       "<table border=\"1\" class=\"dataframe\">\n",
       "  <thead>\n",
       "    <tr style=\"text-align: right;\">\n",
       "      <th></th>\n",
       "      <th>Contacted Volume</th>\n",
       "      <th>Donors</th>\n",
       "      <th>Total Value</th>\n",
       "      <th>Mean Gift</th>\n",
       "      <th>Median Gift</th>\n",
       "      <th>std</th>\n",
       "      <th>Max Gift</th>\n",
       "      <th>Cost</th>\n",
       "      <th>Net Profit</th>\n",
       "      <th>RR</th>\n",
       "    </tr>\n",
       "  </thead>\n",
       "  <tbody>\n",
       "    <tr>\n",
       "      <th>0.0</th>\n",
       "      <td>3539</td>\n",
       "      <td>23</td>\n",
       "      <td>805.00</td>\n",
       "      <td>35.000000</td>\n",
       "      <td>20.0</td>\n",
       "      <td>40.592207</td>\n",
       "      <td>200.0</td>\n",
       "      <td>8847.5</td>\n",
       "      <td>-8042.50</td>\n",
       "      <td>0.006499</td>\n",
       "    </tr>\n",
       "    <tr>\n",
       "      <th>0.1</th>\n",
       "      <td>3047</td>\n",
       "      <td>61</td>\n",
       "      <td>2245.00</td>\n",
       "      <td>36.803279</td>\n",
       "      <td>30.0</td>\n",
       "      <td>30.055959</td>\n",
       "      <td>100.0</td>\n",
       "      <td>7617.5</td>\n",
       "      <td>-5372.50</td>\n",
       "      <td>0.020020</td>\n",
       "    </tr>\n",
       "    <tr>\n",
       "      <th>0.2</th>\n",
       "      <td>3256</td>\n",
       "      <td>99</td>\n",
       "      <td>4880.00</td>\n",
       "      <td>49.292929</td>\n",
       "      <td>30.0</td>\n",
       "      <td>101.872795</td>\n",
       "      <td>1000.0</td>\n",
       "      <td>8140.0</td>\n",
       "      <td>-3260.00</td>\n",
       "      <td>0.030405</td>\n",
       "    </tr>\n",
       "    <tr>\n",
       "      <th>0.3</th>\n",
       "      <td>2938</td>\n",
       "      <td>128</td>\n",
       "      <td>7115.00</td>\n",
       "      <td>55.585938</td>\n",
       "      <td>30.0</td>\n",
       "      <td>134.529833</td>\n",
       "      <td>1000.0</td>\n",
       "      <td>7345.0</td>\n",
       "      <td>-230.00</td>\n",
       "      <td>0.043567</td>\n",
       "    </tr>\n",
       "    <tr>\n",
       "      <th>0.4</th>\n",
       "      <td>2255</td>\n",
       "      <td>167</td>\n",
       "      <td>8631.74</td>\n",
       "      <td>51.687066</td>\n",
       "      <td>30.0</td>\n",
       "      <td>98.972775</td>\n",
       "      <td>1000.0</td>\n",
       "      <td>5637.5</td>\n",
       "      <td>2994.24</td>\n",
       "      <td>0.074058</td>\n",
       "    </tr>\n",
       "    <tr>\n",
       "      <th>0.5</th>\n",
       "      <td>1518</td>\n",
       "      <td>152</td>\n",
       "      <td>7617.00</td>\n",
       "      <td>50.111842</td>\n",
       "      <td>30.0</td>\n",
       "      <td>93.953881</td>\n",
       "      <td>1000.0</td>\n",
       "      <td>3795.0</td>\n",
       "      <td>3822.00</td>\n",
       "      <td>0.100132</td>\n",
       "    </tr>\n",
       "    <tr>\n",
       "      <th>0.6</th>\n",
       "      <td>1096</td>\n",
       "      <td>153</td>\n",
       "      <td>6974.00</td>\n",
       "      <td>45.581699</td>\n",
       "      <td>30.0</td>\n",
       "      <td>39.295877</td>\n",
       "      <td>250.0</td>\n",
       "      <td>2740.0</td>\n",
       "      <td>4234.00</td>\n",
       "      <td>0.139599</td>\n",
       "    </tr>\n",
       "    <tr>\n",
       "      <th>0.7</th>\n",
       "      <td>742</td>\n",
       "      <td>203</td>\n",
       "      <td>9033.00</td>\n",
       "      <td>44.497537</td>\n",
       "      <td>30.0</td>\n",
       "      <td>45.069405</td>\n",
       "      <td>300.0</td>\n",
       "      <td>1855.0</td>\n",
       "      <td>7178.00</td>\n",
       "      <td>0.273585</td>\n",
       "    </tr>\n",
       "    <tr>\n",
       "      <th>0.8</th>\n",
       "      <td>667</td>\n",
       "      <td>292</td>\n",
       "      <td>21952.00</td>\n",
       "      <td>75.178082</td>\n",
       "      <td>30.0</td>\n",
       "      <td>316.907925</td>\n",
       "      <td>5000.0</td>\n",
       "      <td>1667.5</td>\n",
       "      <td>20284.50</td>\n",
       "      <td>0.437781</td>\n",
       "    </tr>\n",
       "    <tr>\n",
       "      <th>0.9</th>\n",
       "      <td>942</td>\n",
       "      <td>659</td>\n",
       "      <td>32285.47</td>\n",
       "      <td>48.991608</td>\n",
       "      <td>30.0</td>\n",
       "      <td>64.370221</td>\n",
       "      <td>1000.0</td>\n",
       "      <td>2355.0</td>\n",
       "      <td>29930.47</td>\n",
       "      <td>0.699575</td>\n",
       "    </tr>\n",
       "  </tbody>\n",
       "</table>\n",
       "</div>"
      ],
      "text/plain": [
       "     Contacted Volume  Donors  Total Value  Mean Gift  Median Gift  \\\n",
       "0.0              3539      23       805.00  35.000000         20.0   \n",
       "0.1              3047      61      2245.00  36.803279         30.0   \n",
       "0.2              3256      99      4880.00  49.292929         30.0   \n",
       "0.3              2938     128      7115.00  55.585938         30.0   \n",
       "0.4              2255     167      8631.74  51.687066         30.0   \n",
       "0.5              1518     152      7617.00  50.111842         30.0   \n",
       "0.6              1096     153      6974.00  45.581699         30.0   \n",
       "0.7               742     203      9033.00  44.497537         30.0   \n",
       "0.8               667     292     21952.00  75.178082         30.0   \n",
       "0.9               942     659     32285.47  48.991608         30.0   \n",
       "\n",
       "            std  Max Gift    Cost  Net Profit        RR  \n",
       "0.0   40.592207     200.0  8847.5    -8042.50  0.006499  \n",
       "0.1   30.055959     100.0  7617.5    -5372.50  0.020020  \n",
       "0.2  101.872795    1000.0  8140.0    -3260.00  0.030405  \n",
       "0.3  134.529833    1000.0  7345.0     -230.00  0.043567  \n",
       "0.4   98.972775    1000.0  5637.5     2994.24  0.074058  \n",
       "0.5   93.953881    1000.0  3795.0     3822.00  0.100132  \n",
       "0.6   39.295877     250.0  2740.0     4234.00  0.139599  \n",
       "0.7   45.069405     300.0  1855.0     7178.00  0.273585  \n",
       "0.8  316.907925    5000.0  1667.5    20284.50  0.437781  \n",
       "0.9   64.370221    1000.0  2355.0    29930.47  0.699575  "
      ]
     },
     "execution_count": 99,
     "metadata": {},
     "output_type": "execute_result"
    }
   ],
   "source": [
    "RF_df_2[\"Cost\"]= RF_df_2[\"Contacted Volume\"] * 2.50\n",
    "RF_df_2[\"Net Profit\"] = RF_df_2[\"Total Value\"] - RF_df_2[\"Cost\"]\n",
    "RF_df_2[\"RR\"] = (RF_df_2[\"Donors\"]/RF_df_2[\"Contacted Volume\"])\n",
    "RF_df_2"
   ]
  },
  {
   "cell_type": "code",
   "execution_count": 126,
   "metadata": {},
   "outputs": [],
   "source": [
    "RF_df_2[\"Score Band\"] =  RF_df_2.index\n",
    "RF_df_2[\"RR\"] = RF_df_2[\"RR\"]*100\n",
    "RF_df_2[\"ROI\"] = RF_df_2[\"Total Value\"] / RF_df_2[\"Cost\"]\n",
    "\n",
    "RF_df_2[\"P/L Flag\"] =  np.where(RF_df_2[\"Net Profit\"] >= 0, \"Profit\", \"Loss\")"
   ]
  },
  {
   "cell_type": "code",
   "execution_count": 127,
   "metadata": {},
   "outputs": [
    {
     "data": {
      "text/html": [
       "<div>\n",
       "<style scoped>\n",
       "    .dataframe tbody tr th:only-of-type {\n",
       "        vertical-align: middle;\n",
       "    }\n",
       "\n",
       "    .dataframe tbody tr th {\n",
       "        vertical-align: top;\n",
       "    }\n",
       "\n",
       "    .dataframe thead th {\n",
       "        text-align: right;\n",
       "    }\n",
       "</style>\n",
       "<table border=\"1\" class=\"dataframe\">\n",
       "  <thead>\n",
       "    <tr style=\"text-align: right;\">\n",
       "      <th></th>\n",
       "      <th>Contacted Volume</th>\n",
       "      <th>Donors</th>\n",
       "      <th>Total Value</th>\n",
       "      <th>Mean Gift</th>\n",
       "      <th>Median Gift</th>\n",
       "      <th>std</th>\n",
       "      <th>Max Gift</th>\n",
       "      <th>Cost</th>\n",
       "      <th>Net Profit</th>\n",
       "      <th>RR</th>\n",
       "      <th>Score Band</th>\n",
       "      <th>P/L Flag</th>\n",
       "      <th>ROI</th>\n",
       "    </tr>\n",
       "  </thead>\n",
       "  <tbody>\n",
       "    <tr>\n",
       "      <th>0.0</th>\n",
       "      <td>3539</td>\n",
       "      <td>23</td>\n",
       "      <td>805.00</td>\n",
       "      <td>35.000000</td>\n",
       "      <td>20.0</td>\n",
       "      <td>40.592207</td>\n",
       "      <td>200.0</td>\n",
       "      <td>8847.5</td>\n",
       "      <td>-8042.50</td>\n",
       "      <td>6499.011020</td>\n",
       "      <td>0.0</td>\n",
       "      <td>Loss</td>\n",
       "      <td>0.090986</td>\n",
       "    </tr>\n",
       "    <tr>\n",
       "      <th>0.1</th>\n",
       "      <td>3047</td>\n",
       "      <td>61</td>\n",
       "      <td>2245.00</td>\n",
       "      <td>36.803279</td>\n",
       "      <td>30.0</td>\n",
       "      <td>30.055959</td>\n",
       "      <td>100.0</td>\n",
       "      <td>7617.5</td>\n",
       "      <td>-5372.50</td>\n",
       "      <td>20019.691500</td>\n",
       "      <td>0.1</td>\n",
       "      <td>Loss</td>\n",
       "      <td>0.294716</td>\n",
       "    </tr>\n",
       "    <tr>\n",
       "      <th>0.2</th>\n",
       "      <td>3256</td>\n",
       "      <td>99</td>\n",
       "      <td>4880.00</td>\n",
       "      <td>49.292929</td>\n",
       "      <td>30.0</td>\n",
       "      <td>101.872795</td>\n",
       "      <td>1000.0</td>\n",
       "      <td>8140.0</td>\n",
       "      <td>-3260.00</td>\n",
       "      <td>30405.405405</td>\n",
       "      <td>0.2</td>\n",
       "      <td>Loss</td>\n",
       "      <td>0.599509</td>\n",
       "    </tr>\n",
       "    <tr>\n",
       "      <th>0.3</th>\n",
       "      <td>2938</td>\n",
       "      <td>128</td>\n",
       "      <td>7115.00</td>\n",
       "      <td>55.585938</td>\n",
       "      <td>30.0</td>\n",
       "      <td>134.529833</td>\n",
       "      <td>1000.0</td>\n",
       "      <td>7345.0</td>\n",
       "      <td>-230.00</td>\n",
       "      <td>43567.052417</td>\n",
       "      <td>0.3</td>\n",
       "      <td>Loss</td>\n",
       "      <td>0.968686</td>\n",
       "    </tr>\n",
       "    <tr>\n",
       "      <th>0.4</th>\n",
       "      <td>2255</td>\n",
       "      <td>167</td>\n",
       "      <td>8631.74</td>\n",
       "      <td>51.687066</td>\n",
       "      <td>30.0</td>\n",
       "      <td>98.972775</td>\n",
       "      <td>1000.0</td>\n",
       "      <td>5637.5</td>\n",
       "      <td>2994.24</td>\n",
       "      <td>74057.649667</td>\n",
       "      <td>0.4</td>\n",
       "      <td>Profit</td>\n",
       "      <td>1.531129</td>\n",
       "    </tr>\n",
       "    <tr>\n",
       "      <th>0.5</th>\n",
       "      <td>1518</td>\n",
       "      <td>152</td>\n",
       "      <td>7617.00</td>\n",
       "      <td>50.111842</td>\n",
       "      <td>30.0</td>\n",
       "      <td>93.953881</td>\n",
       "      <td>1000.0</td>\n",
       "      <td>3795.0</td>\n",
       "      <td>3822.00</td>\n",
       "      <td>100131.752306</td>\n",
       "      <td>0.5</td>\n",
       "      <td>Profit</td>\n",
       "      <td>2.007115</td>\n",
       "    </tr>\n",
       "    <tr>\n",
       "      <th>0.6</th>\n",
       "      <td>1096</td>\n",
       "      <td>153</td>\n",
       "      <td>6974.00</td>\n",
       "      <td>45.581699</td>\n",
       "      <td>30.0</td>\n",
       "      <td>39.295877</td>\n",
       "      <td>250.0</td>\n",
       "      <td>2740.0</td>\n",
       "      <td>4234.00</td>\n",
       "      <td>139598.540146</td>\n",
       "      <td>0.6</td>\n",
       "      <td>Profit</td>\n",
       "      <td>2.545255</td>\n",
       "    </tr>\n",
       "    <tr>\n",
       "      <th>0.7</th>\n",
       "      <td>742</td>\n",
       "      <td>203</td>\n",
       "      <td>9033.00</td>\n",
       "      <td>44.497537</td>\n",
       "      <td>30.0</td>\n",
       "      <td>45.069405</td>\n",
       "      <td>300.0</td>\n",
       "      <td>1855.0</td>\n",
       "      <td>7178.00</td>\n",
       "      <td>273584.905660</td>\n",
       "      <td>0.7</td>\n",
       "      <td>Profit</td>\n",
       "      <td>4.869542</td>\n",
       "    </tr>\n",
       "    <tr>\n",
       "      <th>0.8</th>\n",
       "      <td>667</td>\n",
       "      <td>292</td>\n",
       "      <td>21952.00</td>\n",
       "      <td>75.178082</td>\n",
       "      <td>30.0</td>\n",
       "      <td>316.907925</td>\n",
       "      <td>5000.0</td>\n",
       "      <td>1667.5</td>\n",
       "      <td>20284.50</td>\n",
       "      <td>437781.109445</td>\n",
       "      <td>0.8</td>\n",
       "      <td>Profit</td>\n",
       "      <td>13.164618</td>\n",
       "    </tr>\n",
       "    <tr>\n",
       "      <th>0.9</th>\n",
       "      <td>942</td>\n",
       "      <td>659</td>\n",
       "      <td>32285.47</td>\n",
       "      <td>48.991608</td>\n",
       "      <td>30.0</td>\n",
       "      <td>64.370221</td>\n",
       "      <td>1000.0</td>\n",
       "      <td>2355.0</td>\n",
       "      <td>29930.47</td>\n",
       "      <td>699575.371550</td>\n",
       "      <td>0.9</td>\n",
       "      <td>Profit</td>\n",
       "      <td>13.709329</td>\n",
       "    </tr>\n",
       "  </tbody>\n",
       "</table>\n",
       "</div>"
      ],
      "text/plain": [
       "     Contacted Volume  Donors  Total Value  Mean Gift  Median Gift  \\\n",
       "0.0              3539      23       805.00  35.000000         20.0   \n",
       "0.1              3047      61      2245.00  36.803279         30.0   \n",
       "0.2              3256      99      4880.00  49.292929         30.0   \n",
       "0.3              2938     128      7115.00  55.585938         30.0   \n",
       "0.4              2255     167      8631.74  51.687066         30.0   \n",
       "0.5              1518     152      7617.00  50.111842         30.0   \n",
       "0.6              1096     153      6974.00  45.581699         30.0   \n",
       "0.7               742     203      9033.00  44.497537         30.0   \n",
       "0.8               667     292     21952.00  75.178082         30.0   \n",
       "0.9               942     659     32285.47  48.991608         30.0   \n",
       "\n",
       "            std  Max Gift    Cost  Net Profit             RR Score Band  \\\n",
       "0.0   40.592207     200.0  8847.5    -8042.50    6499.011020        0.0   \n",
       "0.1   30.055959     100.0  7617.5    -5372.50   20019.691500        0.1   \n",
       "0.2  101.872795    1000.0  8140.0    -3260.00   30405.405405        0.2   \n",
       "0.3  134.529833    1000.0  7345.0     -230.00   43567.052417        0.3   \n",
       "0.4   98.972775    1000.0  5637.5     2994.24   74057.649667        0.4   \n",
       "0.5   93.953881    1000.0  3795.0     3822.00  100131.752306        0.5   \n",
       "0.6   39.295877     250.0  2740.0     4234.00  139598.540146        0.6   \n",
       "0.7   45.069405     300.0  1855.0     7178.00  273584.905660        0.7   \n",
       "0.8  316.907925    5000.0  1667.5    20284.50  437781.109445        0.8   \n",
       "0.9   64.370221    1000.0  2355.0    29930.47  699575.371550        0.9   \n",
       "\n",
       "    P/L Flag        ROI  \n",
       "0.0     Loss   0.090986  \n",
       "0.1     Loss   0.294716  \n",
       "0.2     Loss   0.599509  \n",
       "0.3     Loss   0.968686  \n",
       "0.4   Profit   1.531129  \n",
       "0.5   Profit   2.007115  \n",
       "0.6   Profit   2.545255  \n",
       "0.7   Profit   4.869542  \n",
       "0.8   Profit  13.164618  \n",
       "0.9   Profit  13.709329  "
      ]
     },
     "execution_count": 127,
     "metadata": {},
     "output_type": "execute_result"
    }
   ],
   "source": [
    "RF_df_2"
   ]
  },
  {
   "cell_type": "code",
   "execution_count": 94,
   "metadata": {},
   "outputs": [
    {
     "ename": "KeyError",
     "evalue": "'0,'",
     "output_type": "error",
     "traceback": [
      "\u001b[1;31m---------------------------------------------------------------------------\u001b[0m",
      "\u001b[1;31mKeyError\u001b[0m                                  Traceback (most recent call last)",
      "\u001b[1;32m<ipython-input-94-236bbb6b17ad>\u001b[0m in \u001b[0;36m<module>\u001b[1;34m\u001b[0m\n\u001b[1;32m----> 1\u001b[1;33m \u001b[0mRF_df_2\u001b[0m\u001b[1;33m[\u001b[0m\u001b[1;34m'Net Profit'\u001b[0m\u001b[1;33m]\u001b[0m \u001b[1;33m=\u001b[0m \u001b[0mRF_df_2\u001b[0m\u001b[1;33m[\u001b[0m\u001b[1;34m'Net Profit'\u001b[0m\u001b[1;33m]\u001b[0m\u001b[1;33m.\u001b[0m\u001b[0mmap\u001b[0m\u001b[1;33m(\u001b[0m\u001b[1;34m\"£{0,.0f}\"\u001b[0m\u001b[1;33m.\u001b[0m\u001b[0mformat\u001b[0m\u001b[1;33m)\u001b[0m\u001b[1;33m\u001b[0m\u001b[1;33m\u001b[0m\u001b[0m\n\u001b[0m",
      "\u001b[1;32mE:\\Anaconda\\envs\\ML\\lib\\site-packages\\pandas\\core\\series.py\u001b[0m in \u001b[0;36mmap\u001b[1;34m(self, arg, na_action)\u001b[0m\n\u001b[0;32m   3380\u001b[0m         \"\"\"\n\u001b[0;32m   3381\u001b[0m         new_values = super(Series, self)._map_values(\n\u001b[1;32m-> 3382\u001b[1;33m             arg, na_action=na_action)\n\u001b[0m\u001b[0;32m   3383\u001b[0m         return self._constructor(new_values,\n\u001b[0;32m   3384\u001b[0m                                  index=self.index).__finalize__(self)\n",
      "\u001b[1;32mE:\\Anaconda\\envs\\ML\\lib\\site-packages\\pandas\\core\\base.py\u001b[0m in \u001b[0;36m_map_values\u001b[1;34m(self, mapper, na_action)\u001b[0m\n\u001b[0;32m   1216\u001b[0m \u001b[1;33m\u001b[0m\u001b[0m\n\u001b[0;32m   1217\u001b[0m         \u001b[1;31m# mapper is a function\u001b[0m\u001b[1;33m\u001b[0m\u001b[1;33m\u001b[0m\u001b[1;33m\u001b[0m\u001b[0m\n\u001b[1;32m-> 1218\u001b[1;33m         \u001b[0mnew_values\u001b[0m \u001b[1;33m=\u001b[0m \u001b[0mmap_f\u001b[0m\u001b[1;33m(\u001b[0m\u001b[0mvalues\u001b[0m\u001b[1;33m,\u001b[0m \u001b[0mmapper\u001b[0m\u001b[1;33m)\u001b[0m\u001b[1;33m\u001b[0m\u001b[1;33m\u001b[0m\u001b[0m\n\u001b[0m\u001b[0;32m   1219\u001b[0m \u001b[1;33m\u001b[0m\u001b[0m\n\u001b[0;32m   1220\u001b[0m         \u001b[1;32mreturn\u001b[0m \u001b[0mnew_values\u001b[0m\u001b[1;33m\u001b[0m\u001b[1;33m\u001b[0m\u001b[0m\n",
      "\u001b[1;32mpandas/_libs/lib.pyx\u001b[0m in \u001b[0;36mpandas._libs.lib.map_infer\u001b[1;34m()\u001b[0m\n",
      "\u001b[1;31mKeyError\u001b[0m: '0,'"
     ]
    }
   ],
   "source": [
    "#RF_df_2['Net Profit'] = RF_df_2['Net Profit'].map(\"£{0.0f}\".format)"
   ]
  },
  {
   "cell_type": "code",
   "execution_count": 132,
   "metadata": {},
   "outputs": [
    {
     "data": {
      "application/vnd.plotly.v1+json": {
       "config": {
        "plotlyServerURL": "https://plot.ly"
       },
       "data": [
        {
         "hoverlabel": {
          "namelength": 0
         },
         "hovertemplate": "Score Band=%{x}<br>Net Profit=%{y}",
         "legendgroup": "",
         "marker": {
          "color": [
           "red",
           "red",
           "red",
           "red",
           "black",
           "black",
           "black",
           "black",
           "black",
           "black"
          ],
          "size": [
           3539,
           3047,
           3256,
           2938,
           2255,
           1518,
           1096,
           742,
           667,
           942
          ],
          "sizemode": "area",
          "symbol": "circle"
         },
         "mode": "markers",
         "name": "",
         "showlegend": false,
         "type": "scatter",
         "x": [
          "0.0",
          "0.1",
          "0.2",
          "0.3",
          "0.4",
          "0.5",
          "0.6",
          "0.7",
          "0.8",
          "0.9"
         ],
         "xaxis": "x",
         "y": [
          -8042.5,
          -5372.5,
          -3260,
          -230,
          2994.24,
          3822,
          4234,
          7178,
          20284.5,
          29930.47
         ],
         "yaxis": "y"
        }
       ],
       "layout": {
        "height": 600,
        "legend": {
         "tracegroupgap": 0
        },
        "margin": {
         "t": 60
        },
        "template": {
         "data": {
          "bar": [
           {
            "error_x": {
             "color": "#2a3f5f"
            },
            "error_y": {
             "color": "#2a3f5f"
            },
            "marker": {
             "line": {
              "color": "#E5ECF6",
              "width": 0.5
             }
            },
            "type": "bar"
           }
          ],
          "barpolar": [
           {
            "marker": {
             "line": {
              "color": "#E5ECF6",
              "width": 0.5
             }
            },
            "type": "barpolar"
           }
          ],
          "carpet": [
           {
            "aaxis": {
             "endlinecolor": "#2a3f5f",
             "gridcolor": "white",
             "linecolor": "white",
             "minorgridcolor": "white",
             "startlinecolor": "#2a3f5f"
            },
            "baxis": {
             "endlinecolor": "#2a3f5f",
             "gridcolor": "white",
             "linecolor": "white",
             "minorgridcolor": "white",
             "startlinecolor": "#2a3f5f"
            },
            "type": "carpet"
           }
          ],
          "choropleth": [
           {
            "colorbar": {
             "outlinewidth": 0,
             "ticks": ""
            },
            "type": "choropleth"
           }
          ],
          "contour": [
           {
            "colorbar": {
             "outlinewidth": 0,
             "ticks": ""
            },
            "colorscale": [
             [
              0,
              "#0d0887"
             ],
             [
              0.1111111111111111,
              "#46039f"
             ],
             [
              0.2222222222222222,
              "#7201a8"
             ],
             [
              0.3333333333333333,
              "#9c179e"
             ],
             [
              0.4444444444444444,
              "#bd3786"
             ],
             [
              0.5555555555555556,
              "#d8576b"
             ],
             [
              0.6666666666666666,
              "#ed7953"
             ],
             [
              0.7777777777777778,
              "#fb9f3a"
             ],
             [
              0.8888888888888888,
              "#fdca26"
             ],
             [
              1,
              "#f0f921"
             ]
            ],
            "type": "contour"
           }
          ],
          "contourcarpet": [
           {
            "colorbar": {
             "outlinewidth": 0,
             "ticks": ""
            },
            "type": "contourcarpet"
           }
          ],
          "heatmap": [
           {
            "colorbar": {
             "outlinewidth": 0,
             "ticks": ""
            },
            "colorscale": [
             [
              0,
              "#0d0887"
             ],
             [
              0.1111111111111111,
              "#46039f"
             ],
             [
              0.2222222222222222,
              "#7201a8"
             ],
             [
              0.3333333333333333,
              "#9c179e"
             ],
             [
              0.4444444444444444,
              "#bd3786"
             ],
             [
              0.5555555555555556,
              "#d8576b"
             ],
             [
              0.6666666666666666,
              "#ed7953"
             ],
             [
              0.7777777777777778,
              "#fb9f3a"
             ],
             [
              0.8888888888888888,
              "#fdca26"
             ],
             [
              1,
              "#f0f921"
             ]
            ],
            "type": "heatmap"
           }
          ],
          "heatmapgl": [
           {
            "colorbar": {
             "outlinewidth": 0,
             "ticks": ""
            },
            "colorscale": [
             [
              0,
              "#0d0887"
             ],
             [
              0.1111111111111111,
              "#46039f"
             ],
             [
              0.2222222222222222,
              "#7201a8"
             ],
             [
              0.3333333333333333,
              "#9c179e"
             ],
             [
              0.4444444444444444,
              "#bd3786"
             ],
             [
              0.5555555555555556,
              "#d8576b"
             ],
             [
              0.6666666666666666,
              "#ed7953"
             ],
             [
              0.7777777777777778,
              "#fb9f3a"
             ],
             [
              0.8888888888888888,
              "#fdca26"
             ],
             [
              1,
              "#f0f921"
             ]
            ],
            "type": "heatmapgl"
           }
          ],
          "histogram": [
           {
            "marker": {
             "colorbar": {
              "outlinewidth": 0,
              "ticks": ""
             }
            },
            "type": "histogram"
           }
          ],
          "histogram2d": [
           {
            "colorbar": {
             "outlinewidth": 0,
             "ticks": ""
            },
            "colorscale": [
             [
              0,
              "#0d0887"
             ],
             [
              0.1111111111111111,
              "#46039f"
             ],
             [
              0.2222222222222222,
              "#7201a8"
             ],
             [
              0.3333333333333333,
              "#9c179e"
             ],
             [
              0.4444444444444444,
              "#bd3786"
             ],
             [
              0.5555555555555556,
              "#d8576b"
             ],
             [
              0.6666666666666666,
              "#ed7953"
             ],
             [
              0.7777777777777778,
              "#fb9f3a"
             ],
             [
              0.8888888888888888,
              "#fdca26"
             ],
             [
              1,
              "#f0f921"
             ]
            ],
            "type": "histogram2d"
           }
          ],
          "histogram2dcontour": [
           {
            "colorbar": {
             "outlinewidth": 0,
             "ticks": ""
            },
            "colorscale": [
             [
              0,
              "#0d0887"
             ],
             [
              0.1111111111111111,
              "#46039f"
             ],
             [
              0.2222222222222222,
              "#7201a8"
             ],
             [
              0.3333333333333333,
              "#9c179e"
             ],
             [
              0.4444444444444444,
              "#bd3786"
             ],
             [
              0.5555555555555556,
              "#d8576b"
             ],
             [
              0.6666666666666666,
              "#ed7953"
             ],
             [
              0.7777777777777778,
              "#fb9f3a"
             ],
             [
              0.8888888888888888,
              "#fdca26"
             ],
             [
              1,
              "#f0f921"
             ]
            ],
            "type": "histogram2dcontour"
           }
          ],
          "mesh3d": [
           {
            "colorbar": {
             "outlinewidth": 0,
             "ticks": ""
            },
            "type": "mesh3d"
           }
          ],
          "parcoords": [
           {
            "line": {
             "colorbar": {
              "outlinewidth": 0,
              "ticks": ""
             }
            },
            "type": "parcoords"
           }
          ],
          "scatter": [
           {
            "marker": {
             "colorbar": {
              "outlinewidth": 0,
              "ticks": ""
             }
            },
            "type": "scatter"
           }
          ],
          "scatter3d": [
           {
            "line": {
             "colorbar": {
              "outlinewidth": 0,
              "ticks": ""
             }
            },
            "marker": {
             "colorbar": {
              "outlinewidth": 0,
              "ticks": ""
             }
            },
            "type": "scatter3d"
           }
          ],
          "scattercarpet": [
           {
            "marker": {
             "colorbar": {
              "outlinewidth": 0,
              "ticks": ""
             }
            },
            "type": "scattercarpet"
           }
          ],
          "scattergeo": [
           {
            "marker": {
             "colorbar": {
              "outlinewidth": 0,
              "ticks": ""
             }
            },
            "type": "scattergeo"
           }
          ],
          "scattergl": [
           {
            "marker": {
             "colorbar": {
              "outlinewidth": 0,
              "ticks": ""
             }
            },
            "type": "scattergl"
           }
          ],
          "scattermapbox": [
           {
            "marker": {
             "colorbar": {
              "outlinewidth": 0,
              "ticks": ""
             }
            },
            "type": "scattermapbox"
           }
          ],
          "scatterpolar": [
           {
            "marker": {
             "colorbar": {
              "outlinewidth": 0,
              "ticks": ""
             }
            },
            "type": "scatterpolar"
           }
          ],
          "scatterpolargl": [
           {
            "marker": {
             "colorbar": {
              "outlinewidth": 0,
              "ticks": ""
             }
            },
            "type": "scatterpolargl"
           }
          ],
          "scatterternary": [
           {
            "marker": {
             "colorbar": {
              "outlinewidth": 0,
              "ticks": ""
             }
            },
            "type": "scatterternary"
           }
          ],
          "surface": [
           {
            "colorbar": {
             "outlinewidth": 0,
             "ticks": ""
            },
            "colorscale": [
             [
              0,
              "#0d0887"
             ],
             [
              0.1111111111111111,
              "#46039f"
             ],
             [
              0.2222222222222222,
              "#7201a8"
             ],
             [
              0.3333333333333333,
              "#9c179e"
             ],
             [
              0.4444444444444444,
              "#bd3786"
             ],
             [
              0.5555555555555556,
              "#d8576b"
             ],
             [
              0.6666666666666666,
              "#ed7953"
             ],
             [
              0.7777777777777778,
              "#fb9f3a"
             ],
             [
              0.8888888888888888,
              "#fdca26"
             ],
             [
              1,
              "#f0f921"
             ]
            ],
            "type": "surface"
           }
          ],
          "table": [
           {
            "cells": {
             "fill": {
              "color": "#EBF0F8"
             },
             "line": {
              "color": "white"
             }
            },
            "header": {
             "fill": {
              "color": "#C8D4E3"
             },
             "line": {
              "color": "white"
             }
            },
            "type": "table"
           }
          ]
         },
         "layout": {
          "annotationdefaults": {
           "arrowcolor": "#2a3f5f",
           "arrowhead": 0,
           "arrowwidth": 1
          },
          "colorscale": {
           "diverging": [
            [
             0,
             "#8e0152"
            ],
            [
             0.1,
             "#c51b7d"
            ],
            [
             0.2,
             "#de77ae"
            ],
            [
             0.3,
             "#f1b6da"
            ],
            [
             0.4,
             "#fde0ef"
            ],
            [
             0.5,
             "#f7f7f7"
            ],
            [
             0.6,
             "#e6f5d0"
            ],
            [
             0.7,
             "#b8e186"
            ],
            [
             0.8,
             "#7fbc41"
            ],
            [
             0.9,
             "#4d9221"
            ],
            [
             1,
             "#276419"
            ]
           ],
           "sequential": [
            [
             0,
             "#0d0887"
            ],
            [
             0.1111111111111111,
             "#46039f"
            ],
            [
             0.2222222222222222,
             "#7201a8"
            ],
            [
             0.3333333333333333,
             "#9c179e"
            ],
            [
             0.4444444444444444,
             "#bd3786"
            ],
            [
             0.5555555555555556,
             "#d8576b"
            ],
            [
             0.6666666666666666,
             "#ed7953"
            ],
            [
             0.7777777777777778,
             "#fb9f3a"
            ],
            [
             0.8888888888888888,
             "#fdca26"
            ],
            [
             1,
             "#f0f921"
            ]
           ],
           "sequentialminus": [
            [
             0,
             "#0d0887"
            ],
            [
             0.1111111111111111,
             "#46039f"
            ],
            [
             0.2222222222222222,
             "#7201a8"
            ],
            [
             0.3333333333333333,
             "#9c179e"
            ],
            [
             0.4444444444444444,
             "#bd3786"
            ],
            [
             0.5555555555555556,
             "#d8576b"
            ],
            [
             0.6666666666666666,
             "#ed7953"
            ],
            [
             0.7777777777777778,
             "#fb9f3a"
            ],
            [
             0.8888888888888888,
             "#fdca26"
            ],
            [
             1,
             "#f0f921"
            ]
           ]
          },
          "colorway": [
           "#636efa",
           "#EF553B",
           "#00cc96",
           "#ab63fa",
           "#FFA15A",
           "#19d3f3",
           "#FF6692",
           "#B6E880",
           "#FF97FF",
           "#FECB52"
          ],
          "font": {
           "color": "#2a3f5f"
          },
          "geo": {
           "bgcolor": "white",
           "lakecolor": "white",
           "landcolor": "#E5ECF6",
           "showlakes": true,
           "showland": true,
           "subunitcolor": "white"
          },
          "hoverlabel": {
           "align": "left"
          },
          "hovermode": "closest",
          "mapbox": {
           "style": "light"
          },
          "paper_bgcolor": "white",
          "plot_bgcolor": "#E5ECF6",
          "polar": {
           "angularaxis": {
            "gridcolor": "white",
            "linecolor": "white",
            "ticks": ""
           },
           "bgcolor": "#E5ECF6",
           "radialaxis": {
            "gridcolor": "white",
            "linecolor": "white",
            "ticks": ""
           }
          },
          "scene": {
           "xaxis": {
            "backgroundcolor": "#E5ECF6",
            "gridcolor": "white",
            "gridwidth": 2,
            "linecolor": "white",
            "showbackground": true,
            "ticks": "",
            "zerolinecolor": "white"
           },
           "yaxis": {
            "backgroundcolor": "#E5ECF6",
            "gridcolor": "white",
            "gridwidth": 2,
            "linecolor": "white",
            "showbackground": true,
            "ticks": "",
            "zerolinecolor": "white"
           },
           "zaxis": {
            "backgroundcolor": "#E5ECF6",
            "gridcolor": "white",
            "gridwidth": 2,
            "linecolor": "white",
            "showbackground": true,
            "ticks": "",
            "zerolinecolor": "white"
           }
          },
          "shapedefaults": {
           "line": {
            "color": "#2a3f5f"
           }
          },
          "ternary": {
           "aaxis": {
            "gridcolor": "white",
            "linecolor": "white",
            "ticks": ""
           },
           "baxis": {
            "gridcolor": "white",
            "linecolor": "white",
            "ticks": ""
           },
           "bgcolor": "#E5ECF6",
           "caxis": {
            "gridcolor": "white",
            "linecolor": "white",
            "ticks": ""
           }
          },
          "title": {
           "x": 0.05
          },
          "xaxis": {
           "automargin": true,
           "gridcolor": "white",
           "linecolor": "white",
           "ticks": "",
           "zerolinecolor": "white",
           "zerolinewidth": 2
          },
          "yaxis": {
           "automargin": true,
           "gridcolor": "white",
           "linecolor": "white",
           "ticks": "",
           "zerolinecolor": "white",
           "zerolinewidth": 2
          }
         }
        },
        "title": {
         "text": "Net Profit by Propensity Score",
         "x": 0.5,
         "xref": "paper"
        },
        "xaxis": {
         "anchor": "y",
         "domain": [
          0,
          0.98
         ],
         "title": {
          "text": "Score Band"
         }
        },
        "yaxis": {
         "anchor": "x",
         "domain": [
          0,
          1
         ],
         "title": {
          "text": "Net Profit"
         }
        }
       }
      },
      "text/html": [
       "<div>\n",
       "        \n",
       "        \n",
       "            <div id=\"72695a1f-ee44-4334-8736-6e3d09a77cb9\" class=\"plotly-graph-div\" style=\"height:600px; width:100%;\"></div>\n",
       "            <script type=\"text/javascript\">\n",
       "                require([\"plotly\"], function(Plotly) {\n",
       "                    window.PLOTLYENV=window.PLOTLYENV || {};\n",
       "                    \n",
       "                if (document.getElementById(\"72695a1f-ee44-4334-8736-6e3d09a77cb9\")) {\n",
       "                    Plotly.newPlot(\n",
       "                        '72695a1f-ee44-4334-8736-6e3d09a77cb9',\n",
       "                        [{\"hoverlabel\": {\"namelength\": 0}, \"hovertemplate\": \"Score Band=%{x}<br>Net Profit=%{y}\", \"legendgroup\": \"\", \"marker\": {\"color\": [\"red\", \"red\", \"red\", \"red\", \"black\", \"black\", \"black\", \"black\", \"black\", \"black\"], \"size\": [3539, 3047, 3256, 2938, 2255, 1518, 1096, 742, 667, 942], \"sizemode\": \"area\", \"symbol\": \"circle\"}, \"mode\": \"markers\", \"name\": \"\", \"showlegend\": false, \"type\": \"scatter\", \"x\": [\"0.0\", \"0.1\", \"0.2\", \"0.3\", \"0.4\", \"0.5\", \"0.6\", \"0.7\", \"0.8\", \"0.9\"], \"xaxis\": \"x\", \"y\": [-8042.5, -5372.5, -3260.0, -230.0, 2994.24, 3822.0, 4234.0, 7178.0, 20284.5, 29930.47], \"yaxis\": \"y\"}],\n",
       "                        {\"height\": 600, \"legend\": {\"tracegroupgap\": 0}, \"margin\": {\"t\": 60}, \"template\": {\"data\": {\"bar\": [{\"error_x\": {\"color\": \"#2a3f5f\"}, \"error_y\": {\"color\": \"#2a3f5f\"}, \"marker\": {\"line\": {\"color\": \"#E5ECF6\", \"width\": 0.5}}, \"type\": \"bar\"}], \"barpolar\": [{\"marker\": {\"line\": {\"color\": \"#E5ECF6\", \"width\": 0.5}}, \"type\": \"barpolar\"}], \"carpet\": [{\"aaxis\": {\"endlinecolor\": \"#2a3f5f\", \"gridcolor\": \"white\", \"linecolor\": \"white\", \"minorgridcolor\": \"white\", \"startlinecolor\": \"#2a3f5f\"}, \"baxis\": {\"endlinecolor\": \"#2a3f5f\", \"gridcolor\": \"white\", \"linecolor\": \"white\", \"minorgridcolor\": \"white\", \"startlinecolor\": \"#2a3f5f\"}, \"type\": \"carpet\"}], \"choropleth\": [{\"colorbar\": {\"outlinewidth\": 0, \"ticks\": \"\"}, \"type\": \"choropleth\"}], \"contour\": [{\"colorbar\": {\"outlinewidth\": 0, \"ticks\": \"\"}, \"colorscale\": [[0.0, \"#0d0887\"], [0.1111111111111111, \"#46039f\"], [0.2222222222222222, \"#7201a8\"], [0.3333333333333333, \"#9c179e\"], [0.4444444444444444, \"#bd3786\"], [0.5555555555555556, \"#d8576b\"], [0.6666666666666666, \"#ed7953\"], [0.7777777777777778, \"#fb9f3a\"], [0.8888888888888888, \"#fdca26\"], [1.0, \"#f0f921\"]], \"type\": \"contour\"}], \"contourcarpet\": [{\"colorbar\": {\"outlinewidth\": 0, \"ticks\": \"\"}, \"type\": \"contourcarpet\"}], \"heatmap\": [{\"colorbar\": {\"outlinewidth\": 0, \"ticks\": \"\"}, \"colorscale\": [[0.0, \"#0d0887\"], [0.1111111111111111, \"#46039f\"], [0.2222222222222222, \"#7201a8\"], [0.3333333333333333, \"#9c179e\"], [0.4444444444444444, \"#bd3786\"], [0.5555555555555556, \"#d8576b\"], [0.6666666666666666, \"#ed7953\"], [0.7777777777777778, \"#fb9f3a\"], [0.8888888888888888, \"#fdca26\"], [1.0, \"#f0f921\"]], \"type\": \"heatmap\"}], \"heatmapgl\": [{\"colorbar\": {\"outlinewidth\": 0, \"ticks\": \"\"}, \"colorscale\": [[0.0, \"#0d0887\"], [0.1111111111111111, \"#46039f\"], [0.2222222222222222, \"#7201a8\"], [0.3333333333333333, \"#9c179e\"], [0.4444444444444444, \"#bd3786\"], [0.5555555555555556, \"#d8576b\"], [0.6666666666666666, \"#ed7953\"], [0.7777777777777778, \"#fb9f3a\"], [0.8888888888888888, \"#fdca26\"], [1.0, \"#f0f921\"]], \"type\": \"heatmapgl\"}], \"histogram\": [{\"marker\": {\"colorbar\": {\"outlinewidth\": 0, \"ticks\": \"\"}}, \"type\": \"histogram\"}], \"histogram2d\": [{\"colorbar\": {\"outlinewidth\": 0, \"ticks\": \"\"}, \"colorscale\": [[0.0, \"#0d0887\"], [0.1111111111111111, \"#46039f\"], [0.2222222222222222, \"#7201a8\"], [0.3333333333333333, \"#9c179e\"], [0.4444444444444444, \"#bd3786\"], [0.5555555555555556, \"#d8576b\"], [0.6666666666666666, \"#ed7953\"], [0.7777777777777778, \"#fb9f3a\"], [0.8888888888888888, \"#fdca26\"], [1.0, \"#f0f921\"]], \"type\": \"histogram2d\"}], \"histogram2dcontour\": [{\"colorbar\": {\"outlinewidth\": 0, \"ticks\": \"\"}, \"colorscale\": [[0.0, \"#0d0887\"], [0.1111111111111111, \"#46039f\"], [0.2222222222222222, \"#7201a8\"], [0.3333333333333333, \"#9c179e\"], [0.4444444444444444, \"#bd3786\"], [0.5555555555555556, \"#d8576b\"], [0.6666666666666666, \"#ed7953\"], [0.7777777777777778, \"#fb9f3a\"], [0.8888888888888888, \"#fdca26\"], [1.0, \"#f0f921\"]], \"type\": \"histogram2dcontour\"}], \"mesh3d\": [{\"colorbar\": {\"outlinewidth\": 0, \"ticks\": \"\"}, \"type\": \"mesh3d\"}], \"parcoords\": [{\"line\": {\"colorbar\": {\"outlinewidth\": 0, \"ticks\": \"\"}}, \"type\": \"parcoords\"}], \"scatter\": [{\"marker\": {\"colorbar\": {\"outlinewidth\": 0, \"ticks\": \"\"}}, \"type\": \"scatter\"}], \"scatter3d\": [{\"line\": {\"colorbar\": {\"outlinewidth\": 0, \"ticks\": \"\"}}, \"marker\": {\"colorbar\": {\"outlinewidth\": 0, \"ticks\": \"\"}}, \"type\": \"scatter3d\"}], \"scattercarpet\": [{\"marker\": {\"colorbar\": {\"outlinewidth\": 0, \"ticks\": \"\"}}, \"type\": \"scattercarpet\"}], \"scattergeo\": [{\"marker\": {\"colorbar\": {\"outlinewidth\": 0, \"ticks\": \"\"}}, \"type\": \"scattergeo\"}], \"scattergl\": [{\"marker\": {\"colorbar\": {\"outlinewidth\": 0, \"ticks\": \"\"}}, \"type\": \"scattergl\"}], \"scattermapbox\": [{\"marker\": {\"colorbar\": {\"outlinewidth\": 0, \"ticks\": \"\"}}, \"type\": \"scattermapbox\"}], \"scatterpolar\": [{\"marker\": {\"colorbar\": {\"outlinewidth\": 0, \"ticks\": \"\"}}, \"type\": \"scatterpolar\"}], \"scatterpolargl\": [{\"marker\": {\"colorbar\": {\"outlinewidth\": 0, \"ticks\": \"\"}}, \"type\": \"scatterpolargl\"}], \"scatterternary\": [{\"marker\": {\"colorbar\": {\"outlinewidth\": 0, \"ticks\": \"\"}}, \"type\": \"scatterternary\"}], \"surface\": [{\"colorbar\": {\"outlinewidth\": 0, \"ticks\": \"\"}, \"colorscale\": [[0.0, \"#0d0887\"], [0.1111111111111111, \"#46039f\"], [0.2222222222222222, \"#7201a8\"], [0.3333333333333333, \"#9c179e\"], [0.4444444444444444, \"#bd3786\"], [0.5555555555555556, \"#d8576b\"], [0.6666666666666666, \"#ed7953\"], [0.7777777777777778, \"#fb9f3a\"], [0.8888888888888888, \"#fdca26\"], [1.0, \"#f0f921\"]], \"type\": \"surface\"}], \"table\": [{\"cells\": {\"fill\": {\"color\": \"#EBF0F8\"}, \"line\": {\"color\": \"white\"}}, \"header\": {\"fill\": {\"color\": \"#C8D4E3\"}, \"line\": {\"color\": \"white\"}}, \"type\": \"table\"}]}, \"layout\": {\"annotationdefaults\": {\"arrowcolor\": \"#2a3f5f\", \"arrowhead\": 0, \"arrowwidth\": 1}, \"colorscale\": {\"diverging\": [[0, \"#8e0152\"], [0.1, \"#c51b7d\"], [0.2, \"#de77ae\"], [0.3, \"#f1b6da\"], [0.4, \"#fde0ef\"], [0.5, \"#f7f7f7\"], [0.6, \"#e6f5d0\"], [0.7, \"#b8e186\"], [0.8, \"#7fbc41\"], [0.9, \"#4d9221\"], [1, \"#276419\"]], \"sequential\": [[0.0, \"#0d0887\"], [0.1111111111111111, \"#46039f\"], [0.2222222222222222, \"#7201a8\"], [0.3333333333333333, \"#9c179e\"], [0.4444444444444444, \"#bd3786\"], [0.5555555555555556, \"#d8576b\"], [0.6666666666666666, \"#ed7953\"], [0.7777777777777778, \"#fb9f3a\"], [0.8888888888888888, \"#fdca26\"], [1.0, \"#f0f921\"]], \"sequentialminus\": [[0.0, \"#0d0887\"], [0.1111111111111111, \"#46039f\"], [0.2222222222222222, \"#7201a8\"], [0.3333333333333333, \"#9c179e\"], [0.4444444444444444, \"#bd3786\"], [0.5555555555555556, \"#d8576b\"], [0.6666666666666666, \"#ed7953\"], [0.7777777777777778, \"#fb9f3a\"], [0.8888888888888888, \"#fdca26\"], [1.0, \"#f0f921\"]]}, \"colorway\": [\"#636efa\", \"#EF553B\", \"#00cc96\", \"#ab63fa\", \"#FFA15A\", \"#19d3f3\", \"#FF6692\", \"#B6E880\", \"#FF97FF\", \"#FECB52\"], \"font\": {\"color\": \"#2a3f5f\"}, \"geo\": {\"bgcolor\": \"white\", \"lakecolor\": \"white\", \"landcolor\": \"#E5ECF6\", \"showlakes\": true, \"showland\": true, \"subunitcolor\": \"white\"}, \"hoverlabel\": {\"align\": \"left\"}, \"hovermode\": \"closest\", \"mapbox\": {\"style\": \"light\"}, \"paper_bgcolor\": \"white\", \"plot_bgcolor\": \"#E5ECF6\", \"polar\": {\"angularaxis\": {\"gridcolor\": \"white\", \"linecolor\": \"white\", \"ticks\": \"\"}, \"bgcolor\": \"#E5ECF6\", \"radialaxis\": {\"gridcolor\": \"white\", \"linecolor\": \"white\", \"ticks\": \"\"}}, \"scene\": {\"xaxis\": {\"backgroundcolor\": \"#E5ECF6\", \"gridcolor\": \"white\", \"gridwidth\": 2, \"linecolor\": \"white\", \"showbackground\": true, \"ticks\": \"\", \"zerolinecolor\": \"white\"}, \"yaxis\": {\"backgroundcolor\": \"#E5ECF6\", \"gridcolor\": \"white\", \"gridwidth\": 2, \"linecolor\": \"white\", \"showbackground\": true, \"ticks\": \"\", \"zerolinecolor\": \"white\"}, \"zaxis\": {\"backgroundcolor\": \"#E5ECF6\", \"gridcolor\": \"white\", \"gridwidth\": 2, \"linecolor\": \"white\", \"showbackground\": true, \"ticks\": \"\", \"zerolinecolor\": \"white\"}}, \"shapedefaults\": {\"line\": {\"color\": \"#2a3f5f\"}}, \"ternary\": {\"aaxis\": {\"gridcolor\": \"white\", \"linecolor\": \"white\", \"ticks\": \"\"}, \"baxis\": {\"gridcolor\": \"white\", \"linecolor\": \"white\", \"ticks\": \"\"}, \"bgcolor\": \"#E5ECF6\", \"caxis\": {\"gridcolor\": \"white\", \"linecolor\": \"white\", \"ticks\": \"\"}}, \"title\": {\"x\": 0.05}, \"xaxis\": {\"automargin\": true, \"gridcolor\": \"white\", \"linecolor\": \"white\", \"ticks\": \"\", \"zerolinecolor\": \"white\", \"zerolinewidth\": 2}, \"yaxis\": {\"automargin\": true, \"gridcolor\": \"white\", \"linecolor\": \"white\", \"ticks\": \"\", \"zerolinecolor\": \"white\", \"zerolinewidth\": 2}}}, \"title\": {\"text\": \"Net Profit by Propensity Score\", \"x\": 0.5, \"xref\": \"paper\"}, \"xaxis\": {\"anchor\": \"y\", \"domain\": [0.0, 0.98], \"title\": {\"text\": \"Score Band\"}}, \"yaxis\": {\"anchor\": \"x\", \"domain\": [0.0, 1.0], \"title\": {\"text\": \"Net Profit\"}}},\n",
       "                        {\"responsive\": true}\n",
       "                    ).then(function(){\n",
       "                            \n",
       "var gd = document.getElementById('72695a1f-ee44-4334-8736-6e3d09a77cb9');\n",
       "var x = new MutationObserver(function (mutations, observer) {{\n",
       "        var display = window.getComputedStyle(gd).display;\n",
       "        if (!display || display === 'none') {{\n",
       "            console.log([gd, 'removed!']);\n",
       "            Plotly.purge(gd);\n",
       "            observer.disconnect();\n",
       "        }}\n",
       "}});\n",
       "\n",
       "// Listen for the removal of the full notebook cells\n",
       "var notebookContainer = gd.closest('#notebook-container');\n",
       "if (notebookContainer) {{\n",
       "    x.observe(notebookContainer, {childList: true});\n",
       "}}\n",
       "\n",
       "// Listen for the clearing of the current output cell\n",
       "var outputEl = gd.closest('.output');\n",
       "if (outputEl) {{\n",
       "    x.observe(outputEl, {childList: true});\n",
       "}}\n",
       "\n",
       "                        })\n",
       "                };\n",
       "                });\n",
       "            </script>\n",
       "        </div>"
      ]
     },
     "metadata": {},
     "output_type": "display_data"
    }
   ],
   "source": [
    "import plotly.express as px\n",
    "import plotly.graph_objects as go\n",
    "\n",
    "gapminder = px.data.gapminder()\n",
    "\n",
    "\n",
    "size = pd.Series(RF_df_2[\"Contacted Volume\"]).to_list()\n",
    "\n",
    "fig = px.scatter(RF_df_2, \n",
    "                 x=\"Score Band\", \n",
    "                 y=\"Net Profit\",\n",
    "                 #y=\"ROI\"\n",
    "                )\n",
    "\n",
    "#Changes the markers as the express sets size to be diameter but we want area\n",
    "fig.update_traces(marker=dict(\n",
    "                        color=pd.Series(np.where(RF_df_2[\"P/L Flag\"] == \"Loss\", \"red\", \"black\")).to_list(),\n",
    "                        size = size,\n",
    "                        sizemode = \"area\"\n",
    "                             ),\n",
    "                  #title=\"Net Profit by Propensity Score\"\n",
    "                 )\n",
    "\n",
    "#Updates the figure to put the title in the middle\n",
    "fig.update_layout(\n",
    "    title=go.layout.Title(\n",
    "        text=\"Net Profit by Propensity Score\",\n",
    "        xref=\"paper\",\n",
    "        x=0.5\n",
    "    )\n",
    ")\n",
    "\n",
    "fig.show()"
   ]
  },
  {
   "cell_type": "code",
   "execution_count": null,
   "metadata": {},
   "outputs": [],
   "source": [
    "import plotly.graph_objects as go"
   ]
  },
  {
   "cell_type": "code",
   "execution_count": null,
   "metadata": {},
   "outputs": [],
   "source": [
    "fig = go.Figure(data=[go.Scatter(\n",
    "    x=RF_df_2[\"Score Band\"], y=RF_df_2[\"Net Profit\"],\n",
    "    mode='markers',\n",
    "    marker=dict(\n",
    "        color=[\"red\", \"black\"],\n",
    "        size=RF_df_2[\"Donors\"]/3\n",
    "    )\n",
    ")])\n",
    "\n",
    "fig.show()"
   ]
  }
 ],
 "metadata": {
  "kernelspec": {
   "display_name": "Python 3",
   "language": "python",
   "name": "python3"
  },
  "language_info": {
   "codemirror_mode": {
    "name": "ipython",
    "version": 3
   },
   "file_extension": ".py",
   "mimetype": "text/x-python",
   "name": "python",
   "nbconvert_exporter": "python",
   "pygments_lexer": "ipython3",
   "version": "3.7.3"
  }
 },
 "nbformat": 4,
 "nbformat_minor": 2
}
